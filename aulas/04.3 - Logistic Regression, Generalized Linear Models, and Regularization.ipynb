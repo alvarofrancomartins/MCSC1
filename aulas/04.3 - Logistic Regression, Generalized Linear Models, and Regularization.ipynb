{
 "cells": [
  {
   "cell_type": "code",
   "execution_count": 1,
   "metadata": {
    "ExecuteTime": {
     "end_time": "2018-11-14T09:38:24.054797Z",
     "start_time": "2018-11-14T09:38:23.194573Z"
    }
   },
   "outputs": [],
   "source": [
    "import numpy as np\n",
    "import pandas as pd\n",
    "import sympy as S\n",
    "from scipy import stats\n",
    "\n",
    "import matplotlib as mpl\n",
    "from matplotlib import pyplot as plt\n",
    "%matplotlib inline"
   ]
  },
  {
   "cell_type": "code",
   "execution_count": 2,
   "metadata": {
    "ExecuteTime": {
     "end_time": "2018-11-14T09:38:24.522721Z",
     "start_time": "2018-11-14T09:38:24.517572Z"
    }
   },
   "outputs": [],
   "source": [
    "mpl.style.use('seaborn-darkgrid')\n",
    "mpl.rcParams.update({'font.size': 18})"
   ]
  },
  {
   "cell_type": "code",
   "execution_count": 3,
   "metadata": {
    "ExecuteTime": {
     "end_time": "2018-11-14T09:38:24.922489Z",
     "start_time": "2018-11-14T09:38:24.918307Z"
    }
   },
   "outputs": [],
   "source": [
    "pd.options.display.max_rows = 10"
   ]
  },
  {
   "cell_type": "markdown",
   "metadata": {},
   "source": [
    "## Logistic Regression"
   ]
  },
  {
   "cell_type": "markdown",
   "metadata": {},
   "source": [
    "The Bernoulli distribution we studied earlier answers the question of which of\n",
    "two outcomes ($Y \\in \\lbrace 0,1 \\rbrace$) would be selected with probability,\n",
    "$p$.\n",
    "\n",
    "$$\n",
    "\\mathbb{P}(Y) = p^Y (1-p)^{ 1-Y }\n",
    "$$\n",
    "\n",
    " We also know how to solve the corresponding likelihood function for\n",
    "the maximum likelihood estimate of $p$ given observations of the output,\n",
    "$\\lbrace Y_i \\rbrace_{i=1}^n$. However, now we want to include other factors in\n",
    "our estimate of $p$. For example, suppose we observe not just the outcomes, but\n",
    "a corresponding continuous variable, $x$. That is, the observed data is now\n",
    "$\\lbrace (x_i,Y_i) \\rbrace_{i=1}^n$  How can we incorporate $x$ into our\n",
    "estimation of $p$?\n",
    "\n",
    "The most straightforward idea is to model $p= a x + b$ where $a,b$ are\n",
    "parameters of a fitted line. However, because $p$ is a probability with value\n",
    "bounded between zero and one, we need to wrap this estimate in another function\n",
    "that can map the entire real line into the $[0,1]$ interval. The logistic\n",
    "(a.k.a. sigmoid) function has this property,\n",
    "\n",
    "$$\n",
    "\\theta(s) = \\frac{e^s}{1+e^s}\n",
    "$$\n",
    "\n",
    " Thus, the new parameterized estimate for $p$ is the following,\n",
    "\n",
    "<!-- Equation labels as ordinary links -->\n",
    "<div id=\"eq:prob\"></div>\n",
    "\n",
    "$$\n",
    "\\begin{equation}\n",
    "\\hat{p} = \\theta(a x+b)= \\frac{e^{a x + b}}{1+e^{a x + b}}\n",
    "\\label{eq:prob} \\tag{1}\n",
    "\\end{equation}\n",
    "$$\n",
    "\n",
    " This is usually expressed using the *logit* function,\n",
    "\n",
    "$$\n",
    "\\texttt{logit}(t)= \\log \\frac{t}{1-t}\n",
    "$$\n",
    "\n",
    " as,\n",
    "\n",
    "$$\n",
    "\\texttt{logit}(p) = b + a x\n",
    "$$\n",
    "\n",
    " More continuous variables can be accommodated easily as\n",
    "\n",
    "$$\n",
    "\\texttt{logit}(p) = b + \\sum_k a_k x_k\n",
    "$$\n",
    "\n",
    " This can be further extended beyond the binary case to multiple\n",
    "target labels. The maximum likelihood estimate of this uses\n",
    "numerical optimization methods that are implemented in Scikit-learn.\n",
    "\n",
    "Let's construct some data to see how this works. In the following, we assign\n",
    "class labels to a set of randomly scattered points in the two-dimensional\n",
    "plane,"
   ]
  },
  {
   "cell_type": "code",
   "execution_count": 5,
   "metadata": {
    "ExecuteTime": {
     "end_time": "2018-11-14T09:39:25.910918Z",
     "start_time": "2018-11-14T09:39:25.869423Z"
    },
    "attributes": {
     "classes": [],
     "id": "",
     "n": "11"
    }
   },
   "outputs": [],
   "source": [
    "v = 0.9\n",
    "\n",
    "\n",
    "@np.vectorize\n",
    "def gen_y(x):\n",
    "    if x < 5: return np.random.choice([0, 1], p=[v, 1 - v])\n",
    "    else: return np.random.choice([0, 1], p=[1 - v, v])\n",
    "\n",
    "\n",
    "xi = np.sort(np.random.rand(500) * 10)\n",
    "yi = gen_y(xi)"
   ]
  },
  {
   "cell_type": "markdown",
   "metadata": {},
   "source": [
    "**Programming Tip.**\n",
    "\n",
    "The `np.vectorize` decorator used in the code above makes it easy to avoid\n",
    "looping in code that uses Numpy arrays by embedding the looping semantics\n",
    "inside of the so-decorated function. Note, however, that this does not\n",
    "necessarily accelerate the wrapped function. It's mainly for convenience.\n",
    "\n",
    "\n",
    "\n",
    "[Figure](#fig:logreg_001) shows a scatter plot of the data we constructed in\n",
    "the above code, $\\lbrace (x_i,Y_i) \\rbrace$. As constructed, it is more\n",
    "likely that large values of $x$ correspond to $Y=1$. On the other hand, values\n",
    "of $x \\in [4,6]$ of either category are heavily overlapped. This means that $x$\n",
    "is not a particularly strong indicator of $Y$ in this region.\n",
    "[Figure](#fig:logreg_002) shows the fitted logistic regression curve against the\n",
    "same\n",
    "data. The points along the curve are the probabilities that each point lies in\n",
    "either of the two categories. For large values of $x$ the curve is near one,\n",
    "meaning that the probability that the associated $Y$ value is equal to one. On\n",
    "the other extreme, small values of $x$ mean that this probability is close to\n",
    "zero.  Because there are only two possible categories, this means that the\n",
    "probability of $Y=0$ is thereby higher. The region in the middle corresponding\n",
    "to the middle probabilities reflect the ambiguity between the two catagories\n",
    "because of the overlap in the data for this region. Thus, logistic regression\n",
    "cannot make a strong case for one category here.\n",
    "The following code fits the logistic regression model,"
   ]
  },
  {
   "cell_type": "code",
   "execution_count": 10,
   "metadata": {
    "ExecuteTime": {
     "end_time": "2018-11-14T09:40:36.058564Z",
     "start_time": "2018-11-14T09:40:35.862876Z"
    },
    "attributes": {
     "classes": [],
     "id": "",
     "n": "12"
    }
   },
   "outputs": [
    {
     "data": {
      "text/plain": [
       "Text(0,0.5,'$Y$')"
      ]
     },
     "execution_count": 10,
     "metadata": {},
     "output_type": "execute_result"
    },
    {
     "data": {
      "image/png": "[encoded data removed]",
      "text/plain": [
       "<Figure size 504x432 with 1 Axes>"
      ]
     },
     "metadata": {},
     "output_type": "display_data"
    }
   ],
   "source": [
    "fig, ax = plt.subplots(figsize=(7,6))\n",
    "ax.plot(xi, yi, 'o', color='gray', alpha=.6)\n",
    "ax.axis(ymax=1.1, ymin=-0.1)\n",
    "ax.set_xlabel(r'$X$', fontsize=22)\n",
    "ax.set_ylabel(r'$Y$', fontsize=22)"
   ]
  },
  {
   "cell_type": "code",
   "execution_count": 11,
   "metadata": {
    "ExecuteTime": {
     "end_time": "2018-11-14T09:41:06.918721Z",
     "start_time": "2018-11-14T09:41:06.822985Z"
    },
    "attributes": {
     "classes": [],
     "id": "",
     "n": "13"
    }
   },
   "outputs": [
    {
     "data": {
      "text/plain": [
       "LogisticRegression(C=1.0, class_weight=None, dual=False, fit_intercept=True,\n",
       "          intercept_scaling=1, max_iter=100, multi_class='ovr', n_jobs=1,\n",
       "          penalty='l2', random_state=None, solver='liblinear', tol=0.0001,\n",
       "          verbose=0, warm_start=False)"
      ]
     },
     "execution_count": 11,
     "metadata": {},
     "output_type": "execute_result"
    }
   ],
   "source": [
    "from sklearn.linear_model import LogisticRegression\n",
    "lr = LogisticRegression()\n",
    "lr.fit(np.c_[xi], yi)"
   ]
  },
  {
   "cell_type": "code",
   "execution_count": 13,
   "metadata": {
    "ExecuteTime": {
     "end_time": "2018-11-14T09:41:32.697694Z",
     "start_time": "2018-11-14T09:41:32.477303Z"
    },
    "attributes": {
     "classes": [],
     "id": "",
     "n": "14"
    }
   },
   "outputs": [
    {
     "data": {
      "text/plain": [
       "Text(0,0.5,'$\\\\mathbb{P}(Y)$')"
      ]
     },
     "execution_count": 13,
     "metadata": {},
     "output_type": "execute_result"
    },
    {
     "data": {
      "image/png": "[encoded data removed]",
      "text/plain": [
       "<Figure size 504x432 with 1 Axes>"
      ]
     },
     "metadata": {},
     "output_type": "display_data"
    }
   ],
   "source": [
    "fig, ax = plt.subplots(figsize=(7,6))\n",
    "xii = np.linspace(0, 10, 20)\n",
    "ax.plot(xii, lr.predict_proba(np.c_[xii])[:, 1], 'r-', lw=3)\n",
    "ax.plot(xi, yi, 'o', color='gray', alpha=.3)\n",
    "ax.axis(ymax=1.1, ymin=-0.1)\n",
    "ax.set_xlabel(r'$x$', fontsize=20)\n",
    "ax.set_ylabel(r'$\\mathbb{P}(Y)$', fontsize=20)"
   ]
  },
  {
   "cell_type": "markdown",
   "metadata": {},
   "source": [
    "<!-- dom:FIGURE: [fig-machine_learning/logreg_001.png, width=500 frac=0.75]\n",
    "This scatterplot shows the binary $Y$ variables and the corresponding $x$ data\n",
    "for each category. <div id=\"fig:logreg_001\"></div> -->\n",
    "<!-- begin figure -->\n",
    "<div id=\"fig:logreg_001\"></div>\n",
    "\n",
    "<p>This scatterplot shows the binary $Y$ variables and the corresponding $x$\n",
    "data for each category.</p>\n",
    "<img src=\"fig-machine_learning/logreg_001.png\" width=500>\n",
    "\n",
    "<!-- end figure -->\n",
    "\n",
    "\n",
    "<!-- dom:FIGURE: [fig-machine_learning/logreg_002.png, width=500 frac=0.75]\n",
    "This shows the fitted logistic regression on the data shown in\n",
    "[Figure](#fig:logreg_001). The points along the curve are the probabilities that\n",
    "each point lies in either of the two categories.  <div\n",
    "id=\"fig:logreg_002\"></div> -->\n",
    "<!-- begin figure -->\n",
    "<div id=\"fig:logreg_002\"></div>\n",
    "\n",
    "<p>This shows the fitted logistic regression on the data shown in\n",
    "[Figure](#fig:logreg_001). The points along the curve are the probabilities that\n",
    "each point lies in either of the two categories.</p>\n",
    "<img src=\"fig-machine_learning/logreg_002.png\" width=500>\n",
    "\n",
    "<!-- end figure -->\n",
    "\n",
    "\n",
    "For a deeper understanding of logistic regression, we need to alter our\n",
    "notation slightly and once again use our projection methods. More generally we\n",
    "can rewrite Equation [eq:prob](#eq:prob) as the following,\n",
    "\n",
    "<!-- Equation labels as ordinary links -->\n",
    "<div id=\"eq:probbeta\"></div>\n",
    "\n",
    "$$\n",
    "\\begin{equation}\n",
    "p(\\mathbf{x}) = \\frac{1}{1+\\exp(-\\boldsymbol{\\beta}^T \\mathbf{x})}\n",
    "\\label{eq:probbeta} \\tag{2}\n",
    "\\end{equation}\n",
    "$$\n",
    "\n",
    " where $\\boldsymbol{\\beta}, \\mathbf{x}\\in \\mathbb{R}^n$.  From our\n",
    "prior work on projection we know that the signed perpendicular distance between\n",
    "$\\mathbf{x}$ and the linear boundary described by $\\boldsymbol{\\beta}$ is\n",
    "$\\boldsymbol{\\beta}^T \\mathbf{x}/\\Vert\\boldsymbol{\\beta}\\Vert$.  This means\n",
    "that the probability that is assigned to any point in $\\mathbb{R}^n$ is a\n",
    "function of how close that point is to the linear boundary described by the\n",
    "following equation,\n",
    "\n",
    "$$\n",
    "\\boldsymbol{\\beta}^T \\mathbf{x} = 0\n",
    "$$\n",
    "\n",
    " But there is something subtle hiding here. Note that\n",
    "for any $\\alpha\\in\\mathbb{R}$,\n",
    "\n",
    "$$\n",
    "\\alpha\\boldsymbol{\\beta}^T \\mathbf{x} = 0\n",
    "$$\n",
    "\n",
    " describes the *same* hyperplane. This means that we can multiply\n",
    "$\\boldsymbol{\\beta}$ by an arbitrary scalar and still get the same geometry.\n",
    "However, because of $\\exp(-\\alpha\\boldsymbol{\\beta}^T \\mathbf{x})$ in Equation\n",
    "[eq:probbeta](#eq:probbeta), this scaling determines the intensity of the\n",
    "probability\n",
    "attributed to $\\mathbf{x}$. This is illustrated in [Figure](#fig:logreg_003).\n",
    "The panel on the left shows two categories (squares/circles) split by the\n",
    "dotted line that is determined by $\\boldsymbol{\\beta}^T\\mathbf{x}=0$. The\n",
    "background colors shows the probabilities assigned to points in the plane.  The\n",
    "right panel shows that by scaling with $\\alpha$, we can increase the\n",
    "probabilities of class membership for the given points, given the exact same\n",
    "geometry. The points near the boundary have lower probabilities because they\n",
    "could easily be on the opposite side.  However, by scaling by $\\alpha$, we can\n",
    "raise those probabilities to any desired level at the cost of driving the\n",
    "points further from the boundary closer to one. Why is this a problem? By\n",
    "driving the probabilities arbitrarily using $\\alpha$, we can overemphasize the\n",
    "training set at the cost of out-of-sample data. That is, we may wind up\n",
    "insisting on emphatic class membership of yet unseen points that are close to\n",
    "the boundary that otherwise would have more equivocal probabilities (say, near\n",
    "$1/2$).  Once again, this is another manifestation of bias/variance trade-off.\n",
    "\n",
    "<!-- dom:FIGURE: [fig-machine_learning/logreg_003.png, width=500 frac=1.25]\n",
    "Scaling can arbitrarily increase the probabilities of points near the decision\n",
    "boundary.   <div id=\"fig:logreg_003\"></div> -->\n",
    "<!-- begin figure -->\n",
    "<div id=\"fig:logreg_003\"></div>\n",
    "\n",
    "<p>Scaling can arbitrarily increase the probabilities of points near the\n",
    "decision boundary.</p>\n",
    "<img src=\"fig-machine_learning/logreg_003.png\" width=500>\n",
    "\n",
    "<!-- end figure -->\n",
    "\n",
    "\n",
    "Regularization is a method that controls this effect by penalizing the size of\n",
    "$\\beta$ as part of its solution. Algorithmically, logistic regression works by\n",
    "iteratively solving a sequence of weighted least squares problems. Regression\n",
    "adds a $\\Vert\\boldsymbol{\\beta}\\Vert/C$ term to the least squares error. To see\n",
    "this in action, let's create some data from a logistic regression and see if we\n",
    "can recover it using Scikit-learn. Let's start with a scatter of points in the\n",
    "two-dimensional  plane,"
   ]
  },
  {
   "cell_type": "code",
   "execution_count": 99,
   "metadata": {
    "ExecuteTime": {
     "end_time": "2018-11-14T10:06:53.559655Z",
     "start_time": "2018-11-14T10:06:53.554330Z"
    },
    "attributes": {
     "classes": [],
     "id": "",
     "n": "15"
    }
   },
   "outputs": [],
   "source": [
    "x0, x1 = np.random.rand(2, 20) * 6 - 3\n",
    "X = np.c_[x0, x1, x1 * 0 + 1]  # stack as columns"
   ]
  },
  {
   "cell_type": "markdown",
   "metadata": {},
   "source": [
    "Note that `X` has a third column of all ones. This is a\n",
    "trick to allow the corresponding line to be offset from the origin\n",
    "in the two-dimensional plane. Next, we create a linear boundary\n",
    "and assign the class probabilities according to proximity to the\n",
    "boundary."
   ]
  },
  {
   "cell_type": "code",
   "execution_count": 100,
   "metadata": {
    "ExecuteTime": {
     "end_time": "2018-11-14T10:06:54.075551Z",
     "start_time": "2018-11-14T10:06:54.069970Z"
    },
    "attributes": {
     "classes": [],
     "id": "",
     "n": "16"
    }
   },
   "outputs": [],
   "source": [
    "beta = np.array([1, -1, 1])  # last coordinate for affine offset\n",
    "prd = X.dot(beta)\n",
    "probs = 1 / (1 + np.exp(-prd / np.linalg.norm(beta)))\n",
    "c = (prd > 0)  # boolean array class labels\n",
    "c = (probs>0.5)"
   ]
  },
  {
   "cell_type": "markdown",
   "metadata": {},
   "source": [
    "This establishes the training data.  The next block\n",
    "creates the logistic regression object and fits the data."
   ]
  },
  {
   "cell_type": "code",
   "execution_count": 101,
   "metadata": {
    "ExecuteTime": {
     "end_time": "2018-11-14T10:06:54.578528Z",
     "start_time": "2018-11-14T10:06:54.573214Z"
    }
   },
   "outputs": [],
   "source": [
    "import palettable"
   ]
  },
  {
   "cell_type": "code",
   "execution_count": 102,
   "metadata": {
    "ExecuteTime": {
     "end_time": "2018-11-14T10:06:54.942780Z",
     "start_time": "2018-11-14T10:06:54.817051Z"
    },
    "scrolled": false
   },
   "outputs": [
    {
     "data": {
      "text/plain": [
       "<matplotlib.collections.PathCollection at 0x7f95e76195f8>"
      ]
     },
     "execution_count": 102,
     "metadata": {},
     "output_type": "execute_result"
    },
    {
     "data": {
      "image/png": "[encoded data removed]",
      "text/plain": [
       "<Figure size 504x432 with 1 Axes>"
      ]
     },
     "metadata": {},
     "output_type": "display_data"
    }
   ],
   "source": [
    "plt.figure(figsize=(7,6))\n",
    "plt.scatter(X.T[0],X.T[1],c=c,cmap=palettable.colorbrewer.diverging.RdYlBu_9.mpl_colormap)"
   ]
  },
  {
   "cell_type": "code",
   "execution_count": 103,
   "metadata": {
    "ExecuteTime": {
     "end_time": "2018-11-14T10:07:02.972453Z",
     "start_time": "2018-11-14T10:07:02.960742Z"
    },
    "attributes": {
     "classes": [],
     "id": "",
     "n": "17"
    }
   },
   "outputs": [
    {
     "data": {
      "text/plain": [
       "LogisticRegression(C=1.0, class_weight=None, dual=False, fit_intercept=True,\n",
       "          intercept_scaling=1, max_iter=100, multi_class='ovr', n_jobs=1,\n",
       "          penalty='l2', random_state=None, solver='liblinear', tol=0.0001,\n",
       "          verbose=0, warm_start=False)"
      ]
     },
     "execution_count": 103,
     "metadata": {},
     "output_type": "execute_result"
    }
   ],
   "source": [
    "lr = LogisticRegression()\n",
    "lr.fit(X[:,:-1],c)"
   ]
  },
  {
   "cell_type": "markdown",
   "metadata": {},
   "source": [
    "Note that we have to omit the third dimension because of\n",
    "how Scikit-learn internally breaks down the components of the\n",
    "boundary. The resulting code extracts the corresponding\n",
    "$\\boldsymbol{\\beta}$ from the `LogisticRegression` object."
   ]
  },
  {
   "cell_type": "code",
   "execution_count": 104,
   "metadata": {
    "ExecuteTime": {
     "end_time": "2018-11-14T10:07:03.809713Z",
     "start_time": "2018-11-14T10:07:03.804939Z"
    },
    "attributes": {
     "classes": [],
     "id": "",
     "n": "18"
    }
   },
   "outputs": [],
   "source": [
    "betah = np.r_[lr.coef_.flat,lr.intercept_]"
   ]
  },
  {
   "cell_type": "code",
   "execution_count": 105,
   "metadata": {
    "ExecuteTime": {
     "end_time": "2018-11-14T10:07:04.199355Z",
     "start_time": "2018-11-14T10:07:04.183975Z"
    }
   },
   "outputs": [],
   "source": [
    "xx, yy = np.mgrid[-3:3:.01, -3:3:.01]\n",
    "grid = np.c_[xx.ravel(), yy.ravel()]\n",
    "probs = lr.predict_proba(grid)[:, 1].reshape(xx.shape)"
   ]
  },
  {
   "cell_type": "code",
   "execution_count": 106,
   "metadata": {
    "ExecuteTime": {
     "end_time": "2018-11-14T10:07:04.692643Z",
     "start_time": "2018-11-14T10:07:04.473990Z"
    }
   },
   "outputs": [
    {
     "data": {
      "text/plain": [
       "<matplotlib.collections.PathCollection at 0x7f95e76b9e48>"
      ]
     },
     "execution_count": 106,
     "metadata": {},
     "output_type": "execute_result"
    },
    {
     "data": {
      "image/png": "[encoded data removed]",
      "text/plain": [
       "<Figure size 576x432 with 2 Axes>"
      ]
     },
     "metadata": {},
     "output_type": "display_data"
    }
   ],
   "source": [
    "f, ax = plt.subplots(figsize=(8, 6))\n",
    "contour = ax.contourf(xx, yy, probs, 10, cmap=\"gray\", vmin=0, vmax=1)\n",
    "\n",
    "ax_c = f.colorbar(contour)\n",
    "ax_c.set_label(\"$P(y = 1)$\")\n",
    "ax_c.set_ticks([0, .25, .5, .75, 1])\n",
    "\n",
    "ax.scatter(\n",
    "    X.T[0],\n",
    "    X.T[1],\n",
    "    c=c,\n",
    "    cmap=palettable.colorbrewer.diverging.RdYlBu_9.mpl_colormap)"
   ]
  },
  {
   "cell_type": "code",
   "execution_count": 123,
   "metadata": {
    "ExecuteTime": {
     "end_time": "2018-11-14T10:12:05.953209Z",
     "start_time": "2018-11-14T10:12:05.607611Z"
    }
   },
   "outputs": [
    {
     "data": {
      "text/plain": [
       "<matplotlib.collections.PathCollection at 0x7f95cfacf860>"
      ]
     },
     "execution_count": 123,
     "metadata": {},
     "output_type": "execute_result"
    },
    {
     "data": {
      "image/png": "[encoded data removed]",
      "text/plain": [
       "<Figure size 576x432 with 2 Axes>"
      ]
     },
     "metadata": {},
     "output_type": "display_data"
    }
   ],
   "source": [
    "lr = LogisticRegression(C=100)\n",
    "lr.fit(X[:,:-1],c)\n",
    "\n",
    "xx, yy = np.mgrid[-3:3:.01, -3:3:.01]\n",
    "grid = np.c_[xx.ravel(), yy.ravel()]\n",
    "probs = lr.predict_proba(grid)[:, 1].reshape(xx.shape)\n",
    "\n",
    "f, ax = plt.subplots(figsize=(8, 6))\n",
    "contour = ax.contourf(xx, yy, probs, 10, cmap=\"gray\", vmin=0, vmax=1)\n",
    "\n",
    "ax_c = f.colorbar(contour)\n",
    "ax_c.set_label(\"$P(y = 1)$\")\n",
    "ax_c.set_ticks([0, .25, .5, .75, 1])\n",
    "\n",
    "ax.scatter(\n",
    "    X.T[0],\n",
    "    X.T[1],\n",
    "    c=c,\n",
    "    cmap=palettable.colorbrewer.diverging.RdYlBu_9.mpl_colormap)"
   ]
  },
  {
   "cell_type": "code",
   "execution_count": 125,
   "metadata": {
    "ExecuteTime": {
     "end_time": "2018-11-14T10:12:18.656730Z",
     "start_time": "2018-11-14T10:12:18.231303Z"
    }
   },
   "outputs": [
    {
     "data": {
      "image/png": "[encoded data removed]",
      "text/plain": [
       "<Figure size 576x432 with 2 Axes>"
      ]
     },
     "metadata": {},
     "output_type": "display_data"
    }
   ],
   "source": [
    "ret_plot(100)"
   ]
  },
  {
   "cell_type": "code",
   "execution_count": 126,
   "metadata": {
    "ExecuteTime": {
     "end_time": "2018-11-14T10:12:28.613282Z",
     "start_time": "2018-11-14T10:12:28.603479Z"
    }
   },
   "outputs": [],
   "source": [
    "def ret_plot(C):\n",
    "    lr = LogisticRegression(C=C)\n",
    "    lr.fit(X[:,:-1],c)\n",
    "\n",
    "    xx, yy = np.mgrid[-3:3:.01, -3:3:.01]\n",
    "    grid = np.c_[xx.ravel(), yy.ravel()]\n",
    "    probs = lr.predict_proba(grid)[:, 1].reshape(xx.shape)\n",
    "\n",
    "    f, ax = plt.subplots(figsize=(8, 6))\n",
    "    contour = ax.contourf(xx, yy, probs, 10, cmap=\"gray\", vmin=0, vmax=1)\n",
    "\n",
    "    ax_c = f.colorbar(contour)\n",
    "    ax_c.set_label(\"$P(y = 1)$\")\n",
    "    ax_c.set_ticks([0, .25, .5, .75, 1])\n",
    "\n",
    "    ax.scatter(\n",
    "        X.T[0],\n",
    "        X.T[1],\n",
    "        c=c,\n",
    "        cmap=palettable.colorbrewer.diverging.RdYlBu_9.mpl_colormap)"
   ]
  },
  {
   "cell_type": "code",
   "execution_count": 135,
   "metadata": {
    "ExecuteTime": {
     "end_time": "2018-11-14T10:13:40.290390Z",
     "start_time": "2018-11-14T10:13:39.985575Z"
    }
   },
   "outputs": [
    {
     "data": {
      "application/vnd.jupyter.widget-view+json": {
       "model_id": "796222c1817e4c5ebddf51570ed367a9",
       "version_major": 2,
       "version_minor": 0
      },
      "text/plain": [
       "interactive(children=(FloatSlider(value=0.5, description='C', max=10.0, min=0.5, step=0.5), Output()), _dom_cl…"
      ]
     },
     "metadata": {},
     "output_type": "display_data"
    },
    {
     "data": {
      "text/plain": [
       "<function __main__.ret_plot(C)>"
      ]
     },
     "execution_count": 135,
     "metadata": {},
     "output_type": "execute_result"
    }
   ],
   "source": [
    "from ipywidgets import interact, FloatSlider\n",
    "\n",
    "interact(ret_plot, C=FloatSlider(min=0.5,max=10,step=.5,value=0.5))"
   ]
  },
  {
   "cell_type": "markdown",
   "metadata": {},
   "source": [
    "**Programming Tip.**\n",
    "\n",
    "The Numpy `np.r_`  object provides a quick way to stack Numpy\n",
    "arrays horizontally instead of using `np.hstack`.\n",
    "\n",
    "\n",
    "\n",
    " The resulting boundary is shown in the left panel in\n",
    "[Figure](#fig:logreg_004). The crosses and triangles represent the two classes\n",
    "we\n",
    "created above, along with the separating gray line.  The logistic regression\n",
    "fit produces the dotted black line. The dark circle is the point that logistic\n",
    "regression categorizes incorrectly. The regularization parameter is $C=1$ by\n",
    "default. Next, we can change the strength of the regularization parameter as in\n",
    "the following,"
   ]
  },
  {
   "cell_type": "code",
   "execution_count": 10,
   "metadata": {
    "attributes": {
     "classes": [],
     "id": "",
     "n": "19"
    },
    "collapsed": true
   },
   "outputs": [],
   "source": [
    "lr = LogisticRegression(C=1000)"
   ]
  },
  {
   "cell_type": "markdown",
   "metadata": {},
   "source": [
    "and the re-fit the data to produce the right panel in\n",
    "[Figure](#fig:logreg_004). By increasing the regularization\n",
    "parameter, we essentially nudged the fitting algorithm to\n",
    "*believe* the data more than the general model. That is, by doing\n",
    "this we accepted more variance in exchange for better bias.\n",
    "\n",
    "<!-- dom:FIGURE: [fig-machine_learning/logreg_004.png, width=500 frac=1.25]  The\n",
    "left panel shows the resulting boundary (dashed line) with $C=1$ as the\n",
    "regularization parameter. The right panel is for $C=1000$. The gray line is the\n",
    "boundary used to assign the class membership for the synthetic data. The dark\n",
    "circle is the point that logistic regression categorizes incorrectly. <div\n",
    "id=\"fig:logreg_004\"></div> -->\n",
    "<!-- begin figure -->\n",
    "<div id=\"fig:logreg_004\"></div>\n",
    "\n",
    "<p>The left panel shows the resulting boundary (dashed line) with $C=1$ as the\n",
    "regularization parameter. The right panel is for $C=1000$. The gray line is the\n",
    "boundary used to assign the class membership for the synthetic data. The dark\n",
    "circle is the point that logistic regression categorizes incorrectly.</p>\n",
    "<img src=\"fig-machine_learning/logreg_004.png\" width=500>\n",
    "\n",
    "<!-- end figure -->\n",
    "\n",
    "\n",
    "## Generalized Linear Models\n",
    "\n",
    "Logistic regression is one example of a wider class of generalized linear\n",
    "models that embed non-linear transformations in the fitting process. Let's back\n",
    "up and break down logistic regression into smaller parts. As usual, we want to\n",
    "estimate the conditional expectation $\\mathbb{E}(Y\\vert X=\\mathbf{x})$.  For\n",
    "plain linear regression, we have the following approximation,\n",
    "\n",
    "$$\n",
    "\\mathbb{E}(Y\\vert X=\\mathbf{x})\\approx\\boldsymbol{\\beta}^T\\mathbf{x}\n",
    "$$\n",
    "\n",
    " For notation sake, we call $r(x):=\\mathbb{E}(Y\\vert X=\\mathbf{x})$\n",
    "the response. For logistic regression, because $Y\\in\\left\\{0,1\\right\\}$, we\n",
    "have $\\mathbb{E}(Y\\vert X=\\mathbf{x})=\\mathbb{P}(Y\\vert X=\\mathbf{x})$ and the\n",
    "transformation makes $r(\\mathbf{x})$ linear.\n",
    "\n",
    "$$\n",
    "\\begin{align*}\n",
    "\\eta(\\mathbf{x}) &= \\boldsymbol{\\beta}^T\\mathbf{x}     \\\\\\\n",
    "        &= \\log \\frac{r(\\mathbf{x})}{1-r(\\mathbf{x})}  \\\\\\\n",
    "        &= g(r(\\mathbf{x}))\n",
    "\\end{align*}\n",
    "$$\n",
    "\n",
    " where $g$ is defined as the logistic *link* function.\n",
    "The $\\eta(x)$ function is the linear predictor. Now that we have\n",
    "transformed the original data space using the logistic function to\n",
    "create the setting for the linear predictor, why don't we just do\n",
    "the same thing for the $Y_i$ data? That is, for plain linear\n",
    "regression, we usually take data, $\\left\\{X_i,Y_i\\right\\}$ and\n",
    "then use it to fit an approximation to $\\mathbb{E}(Y\\vert X=x)$.\n",
    "If we are transforming the conditional expectation using the\n",
    "logarithm, which we are approximating using $Y_i$, then why don't\n",
    "we correspondingly transform the binary $Y_i$ data? The answer is\n",
    "that if we did so then we would get the logarithm of zero (i.e.,\n",
    "infinity) or one (i.e., zero), which is not workable. The\n",
    "alternative is to use a linear Taylor approximation, like we did\n",
    "earlier with the delta method, to expand the $g$ function around\n",
    "$r(x)$, as in the following,\n",
    "\n",
    "$$\n",
    "\\begin{align*}\n",
    "g(Y) &\\approx \\log\\frac{r(x)}{1-r(x)} + \\frac{Y-r(x)}{r(x)-r(x)^2} \\\\\\\n",
    "     &= \\eta(x)+ \\frac{Y-r(x)}{r(x)-r(x)^2}\n",
    "\\end{align*}\n",
    "$$\n",
    "\n",
    " The interesting part is the $Y-r(x)$ term, because this is where the\n",
    "class label data enters the problem. The expectation $\\mathbb{E}(Y-r(x)\\vert\n",
    "X)=0$ so we can think of this differential as additive noise that dithers\n",
    "$\\eta(x)$. The variance of $g(Y)$ is the following,\n",
    "\n",
    "$$\n",
    "\\begin{align*}\n",
    "\\mathbb{V}(g(Y)\\vert X)&= \\mathbb{V}(\\eta(x)\\vert X)+\\frac{1}{(r(x)(1-r(x)))^2}\n",
    "\\mathbb{V}(Y-r(x)\\vert X) \\\\\\\n",
    "                       &=\\frac{1}{(r(x)(1-r(x)))^2} \\mathbb{V}(Y-r(x)\\vert X)\n",
    "\\end{align*}\n",
    "$$\n",
    "\n",
    " Note that $\\mathbb{V}(Y\\vert X)=r(x)(1-r(x))$ because $Y$ is\n",
    "a binary variable. Ultimately, this boils down to the following,\n",
    "\n",
    "$$\n",
    "\\mathbb{V}(g(Y)\\vert X)=\\frac{1}{r(x)(1-r(x))}\n",
    "$$\n",
    "\n",
    " Note that the variance is a function of $x$, which means it is\n",
    "*heteroskedastic*, meaning that the iterative minimum-variance-finding\n",
    "algorithm that computes $\\boldsymbol{\\beta}$ downplays $x$ where $r(x)\\approx\n",
    "0$ and $r(x)\\approx 1$ because the peak of the variance occurs where\n",
    "$r(x)\\approx 0.5$, which are those equivocal points are close to the boundary.\n",
    "\n",
    "\n",
    "For generalized linear models, the above sequence is the same and consists of\n",
    "three primary ingredients: the linear predictor ($\\eta(x)$), the link function\n",
    "($g(x)$), and the *dispersion scale function*, $V_{ds}$ such that\n",
    "$\\mathbb{V}(Y\\vert X)=\\sigma^2 V_{ds}(r(x))$. For logistic regression, we have\n",
    "$V_{ds}(r(x))=r(x)(1-r(x))$ and $\\sigma^2=1$. Note that absolute knowledge of\n",
    "$\\sigma^2$ is not important because the iterative algorithm needs only a\n",
    "relative proportional scale. To sum up, the iterative algorithm takes a linear\n",
    "prediction for $\\eta(x_i)$, computes the transformed responses, $g(Y_i)$,\n",
    "calculates the weights $w_i=\\left[(g^\\prime(r(x_i))V_{ds}(r(x_i)))\n",
    "\\right]^{-1}$, and then does a weighted linear regression of $g(y_i)$ onto\n",
    "$x_i$ with the weights $w_i$ to compute the next $\\boldsymbol{\\beta}$.\n",
    "More details can be found in the following [[fox2015applied]](#fox2015applied),\n",
    "[[lindsey1997applying]](#lindsey1997applying),\n",
    "[[campbell2009generalized]](#campbell2009generalized).\n",
    "\n",
    "\n",
    "<!-- # *Applied Predictive Modeling by Kuhn*, p. 283, -->\n",
    "<!-- # Logit function, odds ratio -->\n",
    "<!-- # *generalized linear models by Rodriguez*, p.72 -->\n",
    "<!-- # *Scikit-learn cookbook*, p.78 -->"
   ]
  },
  {
   "cell_type": "markdown",
   "metadata": {},
   "source": [
    "## Regularization"
   ]
  },
  {
   "cell_type": "markdown",
   "metadata": {},
   "source": [
    "We have referred to regularization in earlier sections, but we\n",
    "want to develop this important idea more fully. Regularization is\n",
    "the mechanism by which we navigate the bias/variance trade-off.\n",
    "To get started, let's consider a classic constrained least\n",
    "squares problem,\n",
    "\n",
    "$$\n",
    "\\begin{aligned}\n",
    "& \\underset{\\mathbf{x}}{\\text{minimize}}\n",
    "& & \\Vert\\mathbf{x}\\Vert_2^2 \\\\\n",
    "& \\text{subject to:}\n",
    "& & x_0 + 2 x_1 = 1\n",
    "\\end{aligned}\n",
    "$$\n",
    "\n",
    " where $\\Vert\\mathbf{x}\\Vert_2=\\sqrt{x_0^2+x_1^2}$ is the\n",
    "$L_2$ norm.  Without the constraint, it would be easy to minimize\n",
    "the objective function --- just take $\\mathbf{x}=0$. Otherwise,\n",
    "suppose we somehow know  that $\\Vert\\mathbf{x}\\Vert_2<c$, then\n",
    "the locus of points defined by this inequality is the circle in\n",
    "[Figure](#fig:regularization_001). The constraint is the line in\n",
    "the same figure. Because every value of $c$ defines a circle, the\n",
    "constraint is satisfied  when the circle touches the line. The\n",
    "circle can touch the line at many different points, but we are\n",
    "only interested in the smallest such circle because this is a\n",
    "minimization problem.  Intuitively, this means that we *inflate* a\n",
    "$L_2$  ball at the origin and stop when it just touches the\n",
    "contraint.  The point of contact is our $L_2$ minimization\n",
    "solution.\n",
    "\n",
    "<!-- dom:FIGURE: [fig-machine_learning/regularization_001.png, width=500\n",
    "frac=0.75] The solution of the constrained $L_2$ minimization problem is at the\n",
    "point where the constraint (dark line) intersects the $L_2$ ball (gray circle)\n",
    "centered at the origin. The point of intersection is indicated by the dark\n",
    "circle. The two neighboring squares indicate points on the line that are close\n",
    "to the solution. <div id=\"fig:regularization_001\"></div> -->\n",
    "<!-- begin figure -->\n",
    "<div id=\"fig:regularization_001\"></div>\n",
    "\n",
    "<p>The solution of the constrained $L_2$ minimization problem is at the point\n",
    "where the constraint (dark line) intersects the $L_2$ ball (gray circle)\n",
    "centered at the origin. The point of intersection is indicated by the dark\n",
    "circle. The two neighboring squares indicate points on the line that are close\n",
    "to the solution.</p>\n",
    "<img src=\"fig-machine_learning/regularization_001.png\" width=500>\n",
    "\n",
    "<!-- end figure -->\n",
    "\n",
    "\n",
    "\n",
    "We can obtain the same result using the method of Lagrange\n",
    "multipliers. We can rewrite the entire $L_2$ minimization problem\n",
    "as one objective function using the Lagrange multiplier,\n",
    "$\\lambda$,\n",
    "\n",
    "$$\n",
    "J(x_0,x_1,\\lambda) = x_0^2+x_1^2 + \\lambda (1-x_0-x_1)\n",
    "$$\n",
    "\n",
    " and solve this as an ordinary function using calculus. Let's\n",
    "do this using Sympy."
   ]
  },
  {
   "cell_type": "code",
   "execution_count": 136,
   "metadata": {
    "ExecuteTime": {
     "end_time": "2018-11-14T10:14:52.132033Z",
     "start_time": "2018-11-14T10:14:52.053112Z"
    },
    "attributes": {
     "classes": [],
     "id": "",
     "n": "2"
    }
   },
   "outputs": [
    {
     "name": "stdout",
     "output_type": "stream",
     "text": [
      "{l: 2/5, x0: 1/5, x1: 2/5}\n"
     ]
    }
   ],
   "source": [
    "import sympy as S\n",
    "S.var('x:2 l',real=True)\n",
    "J=S.Matrix([x0,x1]).norm()**2 + l*(1-x0-2*x1)\n",
    "sol=S.solve(map(J.diff,[x0,x1,l]))\n",
    "print(sol)"
   ]
  },
  {
   "cell_type": "markdown",
   "metadata": {},
   "source": [
    "**Programming Tip.**\n",
    "\n",
    "Using  the `Matrix` object is overkill for this problem but it\n",
    "does demonstrate how Sympy's matrix machinery works. In this case,\n",
    "we are using the `norm` method to compute the $L_2$  norm of the\n",
    "given elements. Using `S.var` defines Sympy variables and injects\n",
    "them into the global namespace. It is more Pythonic to do\n",
    "something like `x0 = S.symbols('x0',real=True)` instead but the\n",
    "other way is quicker, especially for variables with many\n",
    "dimensions.\n",
    "\n",
    "\n",
    "\n",
    " The solution defines the exact point where the line is\n",
    "tangent to the circle in [Figure](#fig:regularization_001).  The\n",
    "Lagrange multiplier has incorporated the constraint into the objective\n",
    "function."
   ]
  },
  {
   "cell_type": "code",
   "execution_count": 138,
   "metadata": {
    "ExecuteTime": {
     "end_time": "2018-11-14T10:15:38.971262Z",
     "start_time": "2018-11-14T10:15:38.734639Z"
    },
    "attributes": {
     "classes": [],
     "id": "",
     "n": "3"
    }
   },
   "outputs": [
    {
     "data": {
      "image/png": "[encoded data removed]",
      "text/plain": [
       "<Figure size 576x576 with 1 Axes>"
      ]
     },
     "metadata": {},
     "output_type": "display_data"
    }
   ],
   "source": [
    "from numpy import pi, linspace, sqrt\n",
    "from matplotlib.patches import Circle\n",
    "\n",
    "x1 = linspace(-1, 1, 10)\n",
    "dx = linspace(.7, 1.3, 3)\n",
    "fline = lambda x: (1 - x) / 2.\n",
    "\n",
    "fig, ax = plt.subplots(figsize=(8,8))\n",
    "ax.plot(dx * 1 / 5, fline(dx * 1 / 5), 's', ms=10, color='gray')\n",
    "ax.plot(x1, fline(x1), color='gray', lw=3)\n",
    "ax.add_patch(Circle((0, 0), 1 / sqrt(5), alpha=0.3, color='gray'))\n",
    "ax.plot(1 / 5, 2 / 5, 'o', color='k', ms=15)\n",
    "ax.set_xlabel('$x_1$', fontsize=24)\n",
    "ax.set_ylabel('$x_2$', fontsize=24)\n",
    "ax.axis((-0.6, 0.6, -0.6, 0.6))\n",
    "ax.set_aspect(1)\n",
    "\n",
    "fig.tight_layout()"
   ]
  },
  {
   "cell_type": "markdown",
   "metadata": {},
   "source": [
    "There is something subtle and very important about the nature of the solution,\n",
    "however. Notice that there are other points very close to the solution on the\n",
    "circle, indicated by the squares in [Figure](#fig:regularization_001). This\n",
    "closeness could be a good thing, in case it helps us actually find a solution\n",
    "in the first place, but it may be unhelpful in so far as it creates ambiguity.\n",
    "Let's hold that thought and try the same problem using the $L_1$ norm instead\n",
    "of the $L_2$ norm. Recall that\n",
    "\n",
    "$$\n",
    "\\Vert \\mathbf{x}\\Vert_1 = \\sum_{i=1}^d \\vert x_i \\vert\n",
    "$$\n",
    "\n",
    " where $d$ is the dimension of the vector $\\mathbf{x}$. Thus, we can\n",
    "reformulate the same problem in the $L_1$  norm as in the following,\n",
    "\n",
    "$$\n",
    "\\begin{aligned}\n",
    "& \\underset{\\mathbf{x}}{\\text{minimize}}\n",
    "& & \\Vert\\mathbf{x}\\Vert_1 \\\\\n",
    "& \\text{subject to:}\n",
    "& & x_1 + 2 x_2 = 1\n",
    "\\end{aligned}\n",
    "$$\n",
    "\n",
    "  It turns out that this problem is somewhat harder to\n",
    "solve using Sympy, but we have convex optimization modules in Python\n",
    "that can help."
   ]
  },
  {
   "cell_type": "code",
   "execution_count": 143,
   "metadata": {
    "ExecuteTime": {
     "end_time": "2018-11-14T10:17:04.034395Z",
     "start_time": "2018-11-14T10:17:04.014839Z"
    },
    "attributes": {
     "classes": [],
     "id": "",
     "n": "4"
    }
   },
   "outputs": [
    {
     "ename": "TypeError",
     "evalue": "__init__() got multiple values for argument 'name'",
     "output_type": "error",
     "traceback": [
      "\u001b[0;31m---------------------------------------------------------------------------\u001b[0m",
      "\u001b[0;31mTypeError\u001b[0m                                 Traceback (most recent call last)",
      "\u001b[0;32m<ipython-input-143-814b12a24884>\u001b[0m in \u001b[0;36m<module>\u001b[0;34m()\u001b[0m\n\u001b[1;32m      1\u001b[0m \u001b[0;32mfrom\u001b[0m \u001b[0mcvxpy\u001b[0m \u001b[0;32mimport\u001b[0m \u001b[0mVariable\u001b[0m\u001b[0;34m,\u001b[0m \u001b[0mProblem\u001b[0m\u001b[0;34m,\u001b[0m \u001b[0mMinimize\u001b[0m\u001b[0;34m,\u001b[0m \u001b[0mnorm1\u001b[0m\u001b[0;34m\u001b[0m\u001b[0m\n\u001b[0;32m----> 2\u001b[0;31m \u001b[0mx\u001b[0m\u001b[0;34m=\u001b[0m\u001b[0mVariable\u001b[0m\u001b[0;34m(\u001b[0m\u001b[0;36m2\u001b[0m\u001b[0;34m,\u001b[0m\u001b[0;36m1\u001b[0m\u001b[0;34m,\u001b[0m\u001b[0mname\u001b[0m\u001b[0;34m=\u001b[0m\u001b[0;34m'x'\u001b[0m\u001b[0;34m)\u001b[0m\u001b[0;34m\u001b[0m\u001b[0m\n\u001b[0m\u001b[1;32m      3\u001b[0m \u001b[0mconstr\u001b[0m\u001b[0;34m=\u001b[0m\u001b[0;34m[\u001b[0m\u001b[0mnp\u001b[0m\u001b[0;34m.\u001b[0m\u001b[0mmatrix\u001b[0m\u001b[0;34m(\u001b[0m\u001b[0;34m[\u001b[0m\u001b[0;34m[\u001b[0m\u001b[0;36m1\u001b[0m\u001b[0;34m,\u001b[0m\u001b[0;36m2\u001b[0m\u001b[0;34m]\u001b[0m\u001b[0;34m]\u001b[0m\u001b[0;34m)\u001b[0m\u001b[0;34m*\u001b[0m\u001b[0mx\u001b[0m\u001b[0;34m==\u001b[0m\u001b[0;36m1\u001b[0m\u001b[0;34m]\u001b[0m\u001b[0;34m\u001b[0m\u001b[0m\n\u001b[1;32m      4\u001b[0m \u001b[0mobj\u001b[0m\u001b[0;34m=\u001b[0m\u001b[0mMinimize\u001b[0m\u001b[0;34m(\u001b[0m\u001b[0mnorm1\u001b[0m\u001b[0;34m(\u001b[0m\u001b[0mx\u001b[0m\u001b[0;34m)\u001b[0m\u001b[0;34m)\u001b[0m\u001b[0;34m\u001b[0m\u001b[0m\n\u001b[1;32m      5\u001b[0m \u001b[0mp\u001b[0m\u001b[0;34m=\u001b[0m \u001b[0mProblem\u001b[0m\u001b[0;34m(\u001b[0m\u001b[0mobj\u001b[0m\u001b[0;34m,\u001b[0m\u001b[0mconstr\u001b[0m\u001b[0;34m)\u001b[0m\u001b[0;34m\u001b[0m\u001b[0m\n",
      "\u001b[0;31mTypeError\u001b[0m: __init__() got multiple values for argument 'name'"
     ]
    }
   ],
   "source": [
    "from cvxpy import Variable, Problem, Minimize, norm1\n",
    "x=Variable(2,1,name='x')\n",
    "constr=[np.matrix([[1,2]])*x==1]\n",
    "obj=Minimize(norm1(x))\n",
    "p= Problem(obj,constr)\n",
    "p.solve()\n",
    "print(x.value)"
   ]
  },
  {
   "cell_type": "markdown",
   "metadata": {},
   "source": [
    "**Programming Tip.**\n",
    "\n",
    "The `cvxy` module provides a unified and accessible interface to the powerful\n",
    "`cvxopt` convex optimization package, as well as other open-source solver\n",
    "packages.\n",
    "\n",
    "\n",
    "\n",
    " As shown in [Figure](#fig:regularization_002), the constant-norm\n",
    "contour in the $L_1$ norm is shaped like a diamond instead of a circle.\n",
    "Furthermore, the solutions found in each case are different.  Geometrically,\n",
    "this is because inflating the circular $L_2$ reaches out in all directions\n",
    "whereas the $L_1$ ball creeps out along the principal axes.  This effect is\n",
    "much more pronounced in higher dimensional spaces where $L_1$-balls get more\n",
    "spikey  [^spikey].  Like the $L_2$ case, there are also neighboring points on\n",
    "the constraint line, but notice that these are not close to the boundary of the\n",
    "corresponding $L_1$ ball, as they were in the $L_2$ case.  This means that\n",
    "these would be harder to confuse with the optimal solution because they\n",
    "correspond to a substantially different $L_1$ ball.\n",
    "\n",
    "[^spikey]: We discussed the geometry of high dimensional space\n",
    "when we covered the curse of dimensionality in the\n",
    "statistics chapter.\n",
    "\n",
    "To double-check our earlier $L_2$ result, we can also use the\n",
    "`cvxpy` module to find the $L_2$ solution as in the following\n",
    "code,"
   ]
  },
  {
   "cell_type": "code",
   "execution_count": null,
   "metadata": {
    "attributes": {
     "classes": [],
     "id": "",
     "n": "5"
    }
   },
   "outputs": [],
   "source": [
    "constr=[np.matrix([[1,2]])*x==1]\n",
    "obj=Minimize(norm2(x)) #L2 norm\n",
    "p= Problem(obj,constr)\n",
    "p.solve()\n",
    "print(x.value)"
   ]
  },
  {
   "cell_type": "markdown",
   "metadata": {},
   "source": [
    "The only change to the code is the $L_2$ norm and we get\n",
    "the same solution as before.\n",
    "\n",
    "Let's see what happens in higher dimensions for both $L_2$ and\n",
    "$L_1$ as we move from two dimensions to four dimensions."
   ]
  },
  {
   "cell_type": "code",
   "execution_count": null,
   "metadata": {
    "attributes": {
     "classes": [],
     "id": "",
     "n": "6"
    }
   },
   "outputs": [],
   "source": [
    "x=Variable(4,1,name='x')\n",
    "constr=[np.matrix([[1,2,3,4]])*x==1]\n",
    "obj=Minimize(norm1(x))\n",
    "p= Problem(obj,constr)\n",
    "p.solve()\n",
    "print(x.value)"
   ]
  },
  {
   "cell_type": "markdown",
   "metadata": {},
   "source": [
    "And also in the $L_2$ case with the following code,"
   ]
  },
  {
   "cell_type": "code",
   "execution_count": null,
   "metadata": {
    "attributes": {
     "classes": [],
     "id": "",
     "n": "7"
    }
   },
   "outputs": [],
   "source": [
    "constr=[np.matrix([[1,2,3,4]])*x==1]\n",
    "obj=Minimize(norm2(x))\n",
    "p= Problem(obj,constr)\n",
    "p.solve()\n",
    "print(x.value)"
   ]
  },
  {
   "cell_type": "markdown",
   "metadata": {},
   "source": [
    "Note that the $L_1$ solution has selected out only one\n",
    "dimension for the solution, as the other components are\n",
    "effectively zero. This is not so with the $L_2$ solution, which\n",
    "has meaningful elements in multiple coordinates.  This is because\n",
    "the $L_1$ problem has many pointy corners in the four dimensional\n",
    "space that poke at the hyperplane that is defined by the\n",
    "constraint. This essentially means the subsets (namely, the points\n",
    "at the corners) are found as solutions because these touch the\n",
    "hyperplane. This effect becomes more pronounced in higher\n",
    "dimensions, which is the main benefit of using the $L_1$ norm\n",
    "as we will see in the next section."
   ]
  },
  {
   "cell_type": "code",
   "execution_count": 144,
   "metadata": {
    "ExecuteTime": {
     "end_time": "2018-11-14T10:17:47.947958Z",
     "start_time": "2018-11-14T10:17:47.724430Z"
    },
    "attributes": {
     "classes": [],
     "id": "",
     "n": "8"
    }
   },
   "outputs": [
    {
     "data": {
      "image/png": "[encoded data removed]",
      "text/plain": [
       "<Figure size 576x576 with 1 Axes>"
      ]
     },
     "metadata": {},
     "output_type": "display_data"
    }
   ],
   "source": [
    "from matplotlib.patches import Rectangle, RegularPolygon\n",
    "\n",
    "r = RegularPolygon((0, 0), 4, 1 / 2, pi / 2, alpha=0.5, color='gray')\n",
    "fig, ax = plt.subplots(figsize=(8, 8))\n",
    "dx = np.array([-0.1, 0.1])\n",
    "ax.plot(dx, fline(dx), 's', ms=10, color='gray')\n",
    "ax.plot(x1, fline(x1), color='gray', lw=3)\n",
    "ax.plot(0, 1 / 2, 'o', color='k', ms=15)\n",
    "ax.add_patch(r)\n",
    "ax.set_xlabel('$x_1$', fontsize=24)\n",
    "ax.set_ylabel('$x_2$', fontsize=24)\n",
    "ax.axis((-0.6, 0.6, -0.6, 0.6))\n",
    "ax.set_aspect(1)\n",
    "fig.tight_layout()"
   ]
  },
  {
   "cell_type": "markdown",
   "metadata": {},
   "source": [
    "<!-- dom:FIGURE: [fig-machine_learning/regularization_002.png, width=500\n",
    "frac=0.75] The diamond is the $L_1$ ball in two dimensions and the line is the\n",
    "constraint. The point of intersection is the solution to the optimization\n",
    "problem. Note that for $L_1$ optimization, the two nearby points on the\n",
    "constraint (squares) do not touch the $L_1$ ball. Compare this with\n",
    "[Figure](#fig:regularization_001). <div id=\"fig:regularization_002\"></div> -->\n",
    "<!-- begin figure -->\n",
    "<div id=\"fig:regularization_002\"></div>\n",
    "\n",
    "<p>The diamond is the $L_1$ ball in two dimensions and the line is the\n",
    "constraint. The point of intersection is the solution to the optimization\n",
    "problem. Note that for $L_1$ optimization, the two nearby points on the\n",
    "constraint (squares) do not touch the $L_1$ ball. Compare this with\n",
    "[Figure](#fig:regularization_001).</p>\n",
    "<img src=\"fig-machine_learning/regularization_002.png\" width=500>\n",
    "\n",
    "<!-- end figure -->\n",
    "\n",
    "\n",
    "## Ridge Regression\n",
    "\n",
    "Now that we have a sense of the geometry of the situation, let's revisit\n",
    "our classic linear regression probem. To recap, we want to solve the following\n",
    "problem,\n",
    "\n",
    "$$\n",
    "\\min_{\\boldsymbol{\\beta}\\in \\mathbb{R}^p} \\Vert y -\n",
    "\\mathbf{X}\\boldsymbol{\\beta}\\Vert\n",
    "$$\n",
    "\n",
    " where $\\mathbf{X}=\\left[\n",
    "\\mathbf{x}_1,\\mathbf{x}_2,\\ldots,\\mathbf{x}_p \\right]$ and $\\mathbf{x}_i\\in\n",
    "\\mathbb{R}^n$. Furthermore, we assume that the $p$ column vectors are linearly\n",
    "independent (i.e., $\\texttt{rank}(\\mathbf{X})=p$). Linear regression produces\n",
    "the $\\boldsymbol{\\beta}$ that minimizes the mean squared error above.  In the\n",
    "case where $p=n$, there is a unique solution to this problem. However, when\n",
    "$p<n$, then there are infinitely many solutions.\n",
    "\n",
    "To make this concrete, let's work this out using Sympy. First,\n",
    "let's define an example $\\mathbf{X}$ and $\\mathbf{y}$ matrix,"
   ]
  },
  {
   "cell_type": "code",
   "execution_count": 145,
   "metadata": {
    "ExecuteTime": {
     "end_time": "2018-11-14T10:17:53.494608Z",
     "start_time": "2018-11-14T10:17:53.488360Z"
    },
    "attributes": {
     "classes": [],
     "id": "",
     "n": "9"
    }
   },
   "outputs": [],
   "source": [
    "import sympy as S\n",
    "from sympy import Matrix\n",
    "X = Matrix([[1, 2, 3], [3, 4, 5]])\n",
    "y = Matrix([[1, 2]]).T"
   ]
  },
  {
   "cell_type": "code",
   "execution_count": 148,
   "metadata": {
    "ExecuteTime": {
     "end_time": "2018-11-14T10:18:07.807262Z",
     "start_time": "2018-11-14T10:18:07.799722Z"
    }
   },
   "outputs": [
    {
     "data": {
      "text/plain": [
       "Matrix([\n",
       "[1, 2, 3],\n",
       "[3, 4, 5]])"
      ]
     },
     "execution_count": 148,
     "metadata": {},
     "output_type": "execute_result"
    }
   ],
   "source": [
    "X"
   ]
  },
  {
   "cell_type": "code",
   "execution_count": 149,
   "metadata": {
    "ExecuteTime": {
     "end_time": "2018-11-14T10:18:10.391564Z",
     "start_time": "2018-11-14T10:18:10.384317Z"
    }
   },
   "outputs": [
    {
     "data": {
      "text/plain": [
       "Matrix([\n",
       "[1],\n",
       "[2]])"
      ]
     },
     "execution_count": 149,
     "metadata": {},
     "output_type": "execute_result"
    }
   ],
   "source": [
    "y"
   ]
  },
  {
   "cell_type": "markdown",
   "metadata": {},
   "source": [
    "Now, we can define our coefficient vector $\\boldsymbol{\\beta}$\n",
    "using the following code,"
   ]
  },
  {
   "cell_type": "code",
   "execution_count": 150,
   "metadata": {
    "ExecuteTime": {
     "end_time": "2018-11-14T10:18:20.765168Z",
     "start_time": "2018-11-14T10:18:20.759032Z"
    },
    "attributes": {
     "classes": [],
     "id": "",
     "n": "10"
    }
   },
   "outputs": [],
   "source": [
    "b0, b1, b2 = S.symbols('b:3', real=True)\n",
    "beta = Matrix([[b0, b1, b2]]).T  # transpose"
   ]
  },
  {
   "cell_type": "code",
   "execution_count": 153,
   "metadata": {
    "ExecuteTime": {
     "end_time": "2018-11-14T10:18:35.757252Z",
     "start_time": "2018-11-14T10:18:35.749194Z"
    }
   },
   "outputs": [
    {
     "data": {
      "text/plain": [
       "Matrix([\n",
       "[b0],\n",
       "[b1],\n",
       "[b2]])"
      ]
     },
     "execution_count": 153,
     "metadata": {},
     "output_type": "execute_result"
    }
   ],
   "source": [
    "beta"
   ]
  },
  {
   "cell_type": "markdown",
   "metadata": {},
   "source": [
    "Next, we define the objective function we are trying to minimize"
   ]
  },
  {
   "cell_type": "code",
   "execution_count": 151,
   "metadata": {
    "ExecuteTime": {
     "end_time": "2018-11-14T10:18:25.520018Z",
     "start_time": "2018-11-14T10:18:25.480813Z"
    },
    "attributes": {
     "classes": [],
     "id": "",
     "n": "11"
    }
   },
   "outputs": [],
   "source": [
    "obj = (X * beta - y).norm(ord=2)**2"
   ]
  },
  {
   "cell_type": "code",
   "execution_count": 154,
   "metadata": {
    "ExecuteTime": {
     "end_time": "2018-11-14T10:18:44.402259Z",
     "start_time": "2018-11-14T10:18:44.392778Z"
    }
   },
   "outputs": [
    {
     "data": {
      "text/plain": [
       "(b0 + 2*b1 + 3*b2 - 1)**2 + (3*b0 + 4*b1 + 5*b2 - 2)**2"
      ]
     },
     "execution_count": 154,
     "metadata": {},
     "output_type": "execute_result"
    }
   ],
   "source": [
    "obj"
   ]
  },
  {
   "cell_type": "markdown",
   "metadata": {},
   "source": [
    "**Programming Tip.**\n",
    "\n",
    "The Sympy `Matrix` class has useful methods like the `norm` function\n",
    "used above to define the objective function. The `ord=2` means we want\n",
    "to use the $L_2$ norm. The expression in parenthesis evaluates to a\n",
    "`Matrix` object.\n",
    "\n",
    "\n",
    "\n",
    " Note that it is helpful to define real variables using\n",
    "the keyword argument whenever applicable because it relieves\n",
    "Sympy's internal machinery of dealing with complex numbers.\n",
    "Finally, we can use calculus to solve this by setting the\n",
    "derivatives of the objective function to zero."
   ]
  },
  {
   "cell_type": "code",
   "execution_count": 169,
   "metadata": {
    "ExecuteTime": {
     "end_time": "2018-11-14T11:01:07.833532Z",
     "start_time": "2018-11-14T11:01:07.812596Z"
    }
   },
   "outputs": [
    {
     "data": {
      "text/plain": [
       "[20*b0 + 28*b1 + 36*b2 - 14,\n",
       " 28*b0 + 40*b1 + 52*b2 - 20,\n",
       " 36*b0 + 52*b1 + 68*b2 - 26]"
      ]
     },
     "execution_count": 169,
     "metadata": {},
     "output_type": "execute_result"
    }
   ],
   "source": [
    "[obj.diff(i) for i in beta]"
   ]
  },
  {
   "cell_type": "code",
   "execution_count": 155,
   "metadata": {
    "ExecuteTime": {
     "end_time": "2018-11-14T10:18:52.405230Z",
     "start_time": "2018-11-14T10:18:51.950809Z"
    },
    "attributes": {
     "classes": [],
     "id": "",
     "n": "12"
    }
   },
   "outputs": [
    {
     "data": {
      "text/plain": [
       "Matrix([\n",
       "[         b2],\n",
       "[-2*b2 + 1/2],\n",
       "[         b2]])"
      ]
     },
     "execution_count": 155,
     "metadata": {},
     "output_type": "execute_result"
    }
   ],
   "source": [
    "sol = S.solve([obj.diff(i) for i in beta])\n",
    "beta.subs(sol)"
   ]
  },
  {
   "cell_type": "markdown",
   "metadata": {},
   "source": [
    "Notice that the solution does not uniquely specify all the components\n",
    "of the `beta` variable. This is a consequence of the $p>n$ nature of this\n",
    "problem where $p=3$ and $n=2$.  While the the existence of this ambiguity does\n",
    "not alter the solution,"
   ]
  },
  {
   "cell_type": "code",
   "execution_count": 172,
   "metadata": {
    "ExecuteTime": {
     "end_time": "2018-11-14T11:01:55.665820Z",
     "start_time": "2018-11-14T11:01:55.658491Z"
    }
   },
   "outputs": [
    {
     "data": {
      "text/plain": [
       "{b1: -2*b2 + 1/2, b0: b2}"
      ]
     },
     "execution_count": 172,
     "metadata": {},
     "output_type": "execute_result"
    }
   ],
   "source": [
    "sol"
   ]
  },
  {
   "cell_type": "code",
   "execution_count": 170,
   "metadata": {
    "ExecuteTime": {
     "end_time": "2018-11-14T11:01:48.804862Z",
     "start_time": "2018-11-14T11:01:48.796109Z"
    },
    "attributes": {
     "classes": [],
     "id": "",
     "n": "13"
    }
   },
   "outputs": [
    {
     "data": {
      "text/plain": [
       "0"
      ]
     },
     "execution_count": 170,
     "metadata": {},
     "output_type": "execute_result"
    }
   ],
   "source": [
    "obj.subs(sol)"
   ]
  },
  {
   "cell_type": "markdown",
   "metadata": {},
   "source": [
    "But it does change the length of the solution vector\n",
    "`beta`,"
   ]
  },
  {
   "cell_type": "code",
   "execution_count": 157,
   "metadata": {
    "ExecuteTime": {
     "end_time": "2018-11-14T10:19:03.796695Z",
     "start_time": "2018-11-14T10:19:03.777846Z"
    },
    "attributes": {
     "classes": [],
     "id": "",
     "n": "14"
    }
   },
   "outputs": [
    {
     "data": {
      "text/plain": [
       "sqrt(2*b2**2 + (2*b2 - 1/2)**2)"
      ]
     },
     "execution_count": 157,
     "metadata": {},
     "output_type": "execute_result"
    }
   ],
   "source": [
    "beta.subs(sol).norm(2)"
   ]
  },
  {
   "cell_type": "markdown",
   "metadata": {},
   "source": [
    "If we want to minimize this length we can easily\n",
    "use the same calculus as before,"
   ]
  },
  {
   "cell_type": "code",
   "execution_count": 173,
   "metadata": {
    "ExecuteTime": {
     "end_time": "2018-11-14T11:02:23.757423Z",
     "start_time": "2018-11-14T11:02:23.743195Z"
    },
    "attributes": {
     "classes": [],
     "id": "",
     "n": "15"
    }
   },
   "outputs": [
    {
     "data": {
      "text/plain": [
       "[1/6]"
      ]
     },
     "execution_count": 173,
     "metadata": {},
     "output_type": "execute_result"
    }
   ],
   "source": [
    "S.solve((beta.subs(sol).norm()**2).diff())"
   ]
  },
  {
   "cell_type": "markdown",
   "metadata": {},
   "source": [
    "This provides the solution of minimum length\n",
    "in the $L_2$ sense,"
   ]
  },
  {
   "cell_type": "code",
   "execution_count": 174,
   "metadata": {
    "ExecuteTime": {
     "end_time": "2018-11-14T11:02:38.005056Z",
     "start_time": "2018-11-14T11:02:37.995538Z"
    },
    "attributes": {
     "classes": [],
     "id": "",
     "n": "16"
    }
   },
   "outputs": [
    {
     "data": {
      "text/plain": [
       "Matrix([\n",
       "[1/6],\n",
       "[1/6],\n",
       "[1/6]])"
      ]
     },
     "execution_count": 174,
     "metadata": {},
     "output_type": "execute_result"
    }
   ],
   "source": [
    "betaL2 = beta.subs(sol).subs(b2, S.Rational(1, 6))\n",
    "betaL2"
   ]
  },
  {
   "cell_type": "markdown",
   "metadata": {},
   "source": [
    "But what is so special about solutions of minimum length? For machine\n",
    "learning, driving the objective function to zero is symptomatic of overfitting\n",
    "the data. Usually, at the zero bound, the machine learning method has\n",
    "essentially memorized the training data, which is bad for generalization. Thus,\n",
    "we can effectively stall this problem by defining a region for the solution\n",
    "that is away from the zero-bound.\n",
    "\n",
    "$$\n",
    "\\begin{aligned}\n",
    "& \\underset{\\boldsymbol{\\beta}}{\\text{minimize}}\n",
    "& & \\Vert y - \\mathbf{X}\\boldsymbol{\\beta}\\Vert_2^2 \\\\\n",
    "& \\text{subject to:}\n",
    "& & \\Vert\\boldsymbol{\\beta}\\Vert_2 < c\n",
    "\\end{aligned}\n",
    "$$\n",
    "\n",
    " where $c$ is the tuning parameter. Using the same process as before,\n",
    "we can re-write this as the following,\n",
    "\n",
    "$$\n",
    "\\min_{\\boldsymbol{\\beta}\\in\\mathbb{R}^p}\\Vert\n",
    "y-\\mathbf{X}\\boldsymbol{\\beta}\\Vert_2^2 +\\alpha\\Vert\\boldsymbol{\\beta}\\Vert_2^2\n",
    "$$\n",
    "\n",
    " where $\\alpha$ is the tuning parameter. These are the *penalized* or\n",
    "Lagrange forms of these problems derived from the constrained versions. The\n",
    "objective function is penalized by the $\\Vert\\boldsymbol{\\beta}\\Vert_2$ term.\n",
    "For $L_2$ penalization, this is called *ridge* regression.    This is\n",
    "implemented in Scikit-learn as `Ridge`. The following code sets this up for\n",
    "our example,"
   ]
  },
  {
   "cell_type": "code",
   "execution_count": 162,
   "metadata": {
    "ExecuteTime": {
     "end_time": "2018-11-14T10:20:02.400772Z",
     "start_time": "2018-11-14T10:20:02.389703Z"
    },
    "attributes": {
     "classes": [],
     "id": "",
     "n": "17"
    }
   },
   "outputs": [
    {
     "data": {
      "text/plain": [
       "Ridge(alpha=100.0, copy_X=True, fit_intercept=False, max_iter=None,\n",
       "   normalize=False, random_state=None, solver='auto', tol=0.001)"
      ]
     },
     "execution_count": 162,
     "metadata": {},
     "output_type": "execute_result"
    }
   ],
   "source": [
    "from sklearn.linear_model import Ridge\n",
    "clf = Ridge(alpha=100.0,fit_intercept=False)\n",
    "clf.fit(np.array(X).astype(float),np.array(y).astype(float))"
   ]
  },
  {
   "cell_type": "markdown",
   "metadata": {},
   "source": [
    "Note that the `alpha` scales of the penalty for the\n",
    "$\\Vert\\boldsymbol{\\beta}\\Vert_2$. We set the `fit_intercept=False` argument to\n",
    "omit the extra offset term from our example. The corresponding solution is the\n",
    "following,"
   ]
  },
  {
   "cell_type": "code",
   "execution_count": 163,
   "metadata": {
    "ExecuteTime": {
     "end_time": "2018-11-14T10:20:04.985703Z",
     "start_time": "2018-11-14T10:20:04.979976Z"
    },
    "attributes": {
     "classes": [],
     "id": "",
     "n": "18"
    }
   },
   "outputs": [
    {
     "name": "stdout",
     "output_type": "stream",
     "text": [
      "[[0.0428641  0.06113005 0.07939601]]\n"
     ]
    }
   ],
   "source": [
    "print(clf.coef_)"
   ]
  },
  {
   "cell_type": "markdown",
   "metadata": {},
   "source": [
    "To double-check the solution, we can use some optimization tools from\n",
    "Scipy and our previous Sympy analysis, as in the following,"
   ]
  },
  {
   "cell_type": "code",
   "execution_count": 181,
   "metadata": {
    "ExecuteTime": {
     "end_time": "2018-11-14T11:05:18.160158Z",
     "start_time": "2018-11-14T11:05:18.132287Z"
    },
    "attributes": {
     "classes": [],
     "id": "",
     "n": "19"
    }
   },
   "outputs": [
    {
     "data": {
      "text/plain": [
       "array([0.0428641 , 0.06113005, 0.07939601])"
      ]
     },
     "execution_count": 181,
     "metadata": {},
     "output_type": "execute_result"
    }
   ],
   "source": [
    "from scipy.optimize import minimize\n",
    "f = S.lambdify((b0, b1, b2), obj + beta.norm()**2 * 100.) #variar o alpha para dizer o que ocorre.\n",
    "g = lambda x: f(x[0], x[1], x[2])\n",
    "out = minimize(g, [.1, .2, .3])  # initial guess\n",
    "out.x"
   ]
  },
  {
   "cell_type": "markdown",
   "metadata": {},
   "source": [
    "**Programming Tip.**\n",
    "\n",
    "We had to define the additional `g` function from the lambda function we\n",
    "created from the Sympy expression in `f` because the `minimize` function\n",
    "expects a single object vector as input instead of a three separate arguments.\n",
    "\n",
    "\n",
    "\n",
    " which produces the same answer as the `Ridge` object. To\n",
    "better understand the meaning of this result, we can re-compute the\n",
    "mean squared error solution to this problem in one step using matrix\n",
    "algebra instead of calculus,"
   ]
  },
  {
   "cell_type": "code",
   "execution_count": 176,
   "metadata": {
    "ExecuteTime": {
     "end_time": "2018-11-14T11:04:03.394025Z",
     "start_time": "2018-11-14T11:04:03.385126Z"
    }
   },
   "outputs": [
    {
     "data": {
      "text/plain": [
       "Matrix([\n",
       "[1, 2, 3],\n",
       "[3, 4, 5]])"
      ]
     },
     "execution_count": 176,
     "metadata": {},
     "output_type": "execute_result"
    }
   ],
   "source": [
    "X"
   ]
  },
  {
   "cell_type": "code",
   "execution_count": 177,
   "metadata": {
    "ExecuteTime": {
     "end_time": "2018-11-14T11:04:11.764692Z",
     "start_time": "2018-11-14T11:04:11.754557Z"
    },
    "attributes": {
     "classes": [],
     "id": "",
     "n": "20"
    }
   },
   "outputs": [
    {
     "data": {
      "text/plain": [
       "Matrix([\n",
       "[1/6],\n",
       "[1/6],\n",
       "[1/6]])"
      ]
     },
     "execution_count": 177,
     "metadata": {},
     "output_type": "execute_result"
    }
   ],
   "source": [
    "betaLS = X.T * (X * X.T).inv() * y\n",
    "betaLS"
   ]
  },
  {
   "cell_type": "markdown",
   "metadata": {},
   "source": [
    "Notice that this solves the posited problem exactly,"
   ]
  },
  {
   "cell_type": "code",
   "execution_count": 178,
   "metadata": {
    "ExecuteTime": {
     "end_time": "2018-11-14T11:04:21.984745Z",
     "start_time": "2018-11-14T11:04:21.976696Z"
    },
    "attributes": {
     "classes": [],
     "id": "",
     "n": "21"
    }
   },
   "outputs": [
    {
     "data": {
      "text/plain": [
       "Matrix([\n",
       "[0],\n",
       "[0]])"
      ]
     },
     "execution_count": 178,
     "metadata": {},
     "output_type": "execute_result"
    }
   ],
   "source": [
    "X * betaLS - y"
   ]
  },
  {
   "cell_type": "markdown",
   "metadata": {},
   "source": [
    "This means that the first term in the objective function\n",
    "goes to zero,\n",
    "\n",
    "$$\n",
    "\\Vert y-\\mathbf{X}\\boldsymbol{\\beta}_{LS}\\Vert=0\n",
    "$$\n",
    "\n",
    " But, let's examine the $L_2$ length of this solution versus\n",
    "the ridge regression solution,"
   ]
  },
  {
   "cell_type": "code",
   "execution_count": 179,
   "metadata": {
    "ExecuteTime": {
     "end_time": "2018-11-14T11:05:02.333237Z",
     "start_time": "2018-11-14T11:05:02.325742Z"
    }
   },
   "outputs": [
    {
     "data": {
      "text/plain": [
       "array([[0.0428641 , 0.06113005, 0.07939601]])"
      ]
     },
     "execution_count": 179,
     "metadata": {},
     "output_type": "execute_result"
    }
   ],
   "source": [
    "clf.coef_"
   ]
  },
  {
   "cell_type": "code",
   "execution_count": 167,
   "metadata": {
    "ExecuteTime": {
     "end_time": "2018-11-14T10:21:07.206204Z",
     "start_time": "2018-11-14T10:21:07.196268Z"
    },
    "attributes": {
     "classes": [],
     "id": "",
     "n": "22"
    }
   },
   "outputs": [
    {
     "name": "stdout",
     "output_type": "stream",
     "text": [
      "0.288675134594813 0.10898596412575512\n"
     ]
    }
   ],
   "source": [
    "print(betaLS.norm().evalf(), np.linalg.norm(clf.coef_))"
   ]
  },
  {
   "cell_type": "markdown",
   "metadata": {},
   "source": [
    "Thus, the ridge regression solution is shorter in the $L_2$\n",
    "sense, but the first term in the objective function is not zero for\n",
    "ridge regression,"
   ]
  },
  {
   "cell_type": "code",
   "execution_count": 182,
   "metadata": {
    "ExecuteTime": {
     "end_time": "2018-11-14T11:05:58.457405Z",
     "start_time": "2018-11-14T11:05:58.447193Z"
    },
    "attributes": {
     "classes": [],
     "id": "",
     "n": "23"
    }
   },
   "outputs": [
    {
     "name": "stdout",
     "output_type": "stream",
     "text": [
      "1.86870864136429\n"
     ]
    }
   ],
   "source": [
    "print((y-X*clf.coef_.T).norm()**2)"
   ]
  },
  {
   "cell_type": "markdown",
   "metadata": {},
   "source": [
    "Ridge regression solution trades fitting error\n",
    "($\\Vert y-\\mathbf{X} \\boldsymbol{\\beta}\\Vert_2$) for solution\n",
    "length ($\\Vert\\boldsymbol{\\beta}\\Vert_2$).\n",
    "\n",
    "Let's see this in action with a familiar example from\n",
    "[ch:stats:sec:nnreg](#ch:stats:sec:nnreg).  Consider\n",
    "[Figure](#fig:regularization_003).\n",
    "For this example, we created our usual chirp signal and attempted to\n",
    "fit it with a high-dimensional polynomial, as we did in\n",
    "the section [ch:ml:sec:cv](#ch:ml:sec:cv).  The lower panel is the same except\n",
    "with ridge\n",
    "regression. The shaded gray area is the space between the true signal\n",
    "and the approximant in both cases. The horizontal hash marks indicate\n",
    "the subset of $x_i$ values that each regressor was trained on.\n",
    "Thus, the training set represents a non-uniform sample of the\n",
    "underlying chirp waveform.  The top panel shows the usual polynomial\n",
    "regression. Note that the regressor fits the given points extremely\n",
    "well, but fails at the endpoint. The ridge regressor misses many of\n",
    "the points in the middle, as indicated by the gray area, but does not\n",
    "overshoot at the ends as much as the plain polynomial regression. This\n",
    "is the basic trade-off for ridge regression. The Jupyter/IPython\n",
    "notebook has the code for this graph, but the main steps\n",
    "are shown in the following,"
   ]
  },
  {
   "cell_type": "code",
   "execution_count": 189,
   "metadata": {
    "ExecuteTime": {
     "end_time": "2018-11-14T11:10:49.879174Z",
     "start_time": "2018-11-14T11:10:49.874839Z"
    }
   },
   "outputs": [],
   "source": [
    "from sklearn.linear_model import LinearRegression\n",
    "from sklearn.preprocessing import PolynomialFeatures"
   ]
  },
  {
   "cell_type": "code",
   "execution_count": 213,
   "metadata": {
    "ExecuteTime": {
     "end_time": "2018-11-14T11:19:34.687203Z",
     "start_time": "2018-11-14T11:19:34.677829Z"
    },
    "attributes": {
     "classes": [],
     "id": "",
     "n": "24"
    }
   },
   "outputs": [],
   "source": [
    "# create chirp signal\n",
    "np.random.seed(1234567)\n",
    "xi = np.linspace(0,1,100)[:,None]\n",
    "# sample chirp randomly\n",
    "xin= np.sort(np.random.choice(xi.flatten(),20,replace=False))[:,None]\n",
    "# create sampled waveform\n",
    "y = np.cos(2*pi*(xin+xin**2))\n",
    "# create full waveform for reference\n",
    "yi = np.cos(2*pi*(xi+xi**2))"
   ]
  },
  {
   "cell_type": "code",
   "execution_count": 214,
   "metadata": {
    "ExecuteTime": {
     "end_time": "2018-11-14T11:19:36.212921Z",
     "start_time": "2018-11-14T11:19:36.011103Z"
    }
   },
   "outputs": [
    {
     "data": {
      "text/plain": [
       "[<matplotlib.lines.Line2D at 0x7f95cf973c18>]"
      ]
     },
     "execution_count": 214,
     "metadata": {},
     "output_type": "execute_result"
    },
    {
     "data": {
      "image/png": "[encoded data removed]",
      "text/plain": [
       "<Figure size 504x432 with 1 Axes>"
      ]
     },
     "metadata": {},
     "output_type": "display_data"
    }
   ],
   "source": [
    "plt.figure(figsize=(7,6))\n",
    "plt.plot(xi,yi)\n",
    "plt.plot(xin,y,'o')"
   ]
  },
  {
   "cell_type": "code",
   "execution_count": 215,
   "metadata": {
    "ExecuteTime": {
     "end_time": "2018-11-14T11:19:38.721185Z",
     "start_time": "2018-11-14T11:19:38.712761Z"
    }
   },
   "outputs": [
    {
     "data": {
      "text/plain": [
       "array([[  1.,   2.,   4.,   8.,  16.,  32.,  64., 128., 256.]])"
      ]
     },
     "execution_count": 215,
     "metadata": {},
     "output_type": "execute_result"
    }
   ],
   "source": [
    "# create polynomial features\n",
    "qfit = PolynomialFeatures(degree=8) # quadratic\n",
    "\n",
    "qfit.fit_transform([[2]])"
   ]
  },
  {
   "cell_type": "code",
   "execution_count": 241,
   "metadata": {
    "ExecuteTime": {
     "end_time": "2018-11-14T11:26:50.121568Z",
     "start_time": "2018-11-14T11:26:50.105603Z"
    }
   },
   "outputs": [
    {
     "data": {
      "text/plain": [
       "Ridge(alpha=1e-09, copy_X=True, fit_intercept=False, max_iter=None,\n",
       "   normalize=False, random_state=None, solver='auto', tol=0.001)"
      ]
     },
     "execution_count": 241,
     "metadata": {},
     "output_type": "execute_result"
    }
   ],
   "source": [
    "Xq = qfit.fit_transform(xin)\n",
    "# reformat input as polynomial\n",
    "Xiq = qfit.fit_transform(xi)\n",
    "\n",
    "lr = LinearRegression()  # create linear model\n",
    "lr.fit(Xq, y)  # fit linear model\n",
    "\n",
    "# create ridge regression model and fit\n",
    "clf = Ridge(alpha=1e-9, fit_intercept=False)\n",
    "clf.fit(Xq, y)"
   ]
  },
  {
   "cell_type": "code",
   "execution_count": 240,
   "metadata": {
    "ExecuteTime": {
     "end_time": "2018-11-14T11:26:23.879944Z",
     "start_time": "2018-11-14T11:26:23.632762Z"
    }
   },
   "outputs": [
    {
     "data": {
      "text/plain": [
       "<matplotlib.legend.Legend at 0x7f95cde9ec88>"
      ]
     },
     "execution_count": 240,
     "metadata": {},
     "output_type": "execute_result"
    },
    {
     "data": {
      "image/png": "[encoded data removed]",
      "text/plain": [
       "<Figure size 504x432 with 1 Axes>"
      ]
     },
     "metadata": {},
     "output_type": "display_data"
    }
   ],
   "source": [
    "plt.figure(figsize=(7, 6))\n",
    "plt.plot(xi, yi, label='True')\n",
    "plt.plot(xin, y, 'o', label='Train')\n",
    "plt.plot(xi, lr.predict(Xiq), label=r'$\\beta_{LS}$', color='k')\n",
    "plt.plot(xi, clf.predict(Xiq), label=r'$\\beta_{RR}$', color='r')\n",
    "plt.legend()"
   ]
  },
  {
   "cell_type": "code",
   "execution_count": 243,
   "metadata": {
    "ExecuteTime": {
     "end_time": "2018-11-14T11:27:07.409704Z",
     "start_time": "2018-11-14T11:27:07.256007Z"
    }
   },
   "outputs": [
    {
     "data": {
      "text/plain": [
       "4.45295850994266e-05"
      ]
     },
     "execution_count": 243,
     "metadata": {},
     "output_type": "execute_result"
    }
   ],
   "source": [
    "from sklearn.linear_model import RidgeCV\n",
    "clf_cv = RidgeCV(alphas=np.logspace(-8,1,1000))\n",
    "clf_cv.fit(Xq, y)\n",
    "clf_cv.alpha_"
   ]
  },
  {
   "cell_type": "markdown",
   "metadata": {},
   "source": [
    "<!-- dom:FIGURE: [fig-machine_learning/regularization_003.png, width=500\n",
    "frac=0.85] The top figure shows polynomial regression and the lower panel shows\n",
    "polynomial ridge regression. The ridge regression does not match as well\n",
    "throughout most of the domain, but it does not flare as violently at the ends.\n",
    "This is because the ridge constraint holds the coefficient vector down at the\n",
    "expense of poorer performance along the middle of the domain. <div\n",
    "id=\"fig:regularization_003\"></div> -->\n",
    "<!-- begin figure -->\n",
    "<div id=\"fig:regularization_003\"></div>\n",
    "\n",
    "<p>The top figure shows polynomial regression and the lower panel shows\n",
    "polynomial ridge regression. The ridge regression does not match as well\n",
    "throughout most of the domain, but it does not flare as violently at the ends.\n",
    "This is because the ridge constraint holds the coefficient vector down at the\n",
    "expense of poorer performance along the middle of the domain.</p>\n",
    "<img src=\"fig-machine_learning/regularization_003.png\" width=500>\n",
    "\n",
    "<!-- end figure -->\n",
    "\n",
    "\n",
    "## Lasso\n",
    "\n",
    "Lasso regression follows the same basic pattern as ridge regression,\n",
    "except with the $L_1$ norm in the objective function.\n",
    "\n",
    "$$\n",
    "\\min_{\\boldsymbol{\\beta}\\in\\mathbb{R}^p}\\Vert\n",
    "y-\\mathbf{X}\\boldsymbol{\\beta}\\Vert^2 +\\alpha\\Vert\\boldsymbol{\\beta}\\Vert_1\n",
    "$$\n",
    "\n",
    " The interface in Scikit-learn is likewise the same.\n",
    "The following is the same problem as before using lasso\n",
    "instead of ridge regression,"
   ]
  },
  {
   "cell_type": "code",
   "execution_count": 244,
   "metadata": {
    "ExecuteTime": {
     "end_time": "2018-11-14T11:34:12.652424Z",
     "start_time": "2018-11-14T11:34:12.643467Z"
    },
    "attributes": {
     "classes": [],
     "id": "",
     "n": "25"
    }
   },
   "outputs": [
    {
     "name": "stdout",
     "output_type": "stream",
     "text": [
      "[0.         0.         0.32352941]\n"
     ]
    }
   ],
   "source": [
    "X = np.matrix([[1,2,3],\n",
    "               [3,4,5]])\n",
    "y = np.matrix([[1,2]]).T\n",
    "\n",
    "from sklearn.linear_model import Lasso\n",
    "\n",
    "lr = Lasso(alpha=1.0,fit_intercept=False)\n",
    "lr.fit(X,y)\n",
    "print(lr.coef_)"
   ]
  },
  {
   "cell_type": "markdown",
   "metadata": {},
   "source": [
    "As before, we can use the optimization tools in Scipy to solve this\n",
    "also,"
   ]
  },
  {
   "cell_type": "code",
   "execution_count": 245,
   "metadata": {
    "ExecuteTime": {
     "end_time": "2018-11-14T11:34:25.368770Z",
     "start_time": "2018-11-14T11:34:25.322774Z"
    },
    "attributes": {
     "classes": [],
     "id": "",
     "n": "26"
    }
   },
   "outputs": [
    {
     "name": "stdout",
     "output_type": "stream",
     "text": [
      "Optimization terminated successfully.\n",
      "         Current function value: 0.360297\n",
      "         Iterations: 121\n",
      "         Function evaluations: 221\n"
     ]
    },
    {
     "data": {
      "text/plain": [
       "array([2.27469304e-06, 4.02831864e-06, 3.23134859e-01])"
      ]
     },
     "execution_count": 245,
     "metadata": {},
     "output_type": "execute_result"
    }
   ],
   "source": [
    "from scipy.optimize import fmin\n",
    "obj = 1/4.*(X*beta-y).norm(2)**2 + beta.norm(1)*l\n",
    "f = S.lambdify((b0,b1,b2),obj.subs(l,1.0))\n",
    "g = lambda x:f(x[0],x[1],x[2])\n",
    "fmin(g,[0.1,0.2,0.3])"
   ]
  },
  {
   "cell_type": "markdown",
   "metadata": {},
   "source": [
    "**Programming Tip.**\n",
    "\n",
    "The `fmin` function from Scipy's optimization module uses an\n",
    "algorithm that does not depend upon derivatives. This is useful\n",
    "because, unlike the $L_2$ norm, the $L_1$ norm has sharp corners\n",
    "that make it harder to estimate derivatives.\n",
    "\n",
    "\n",
    "\n",
    " This result matches the previous one from the\n",
    "Scikit-learn `Lasso` object. Solving it using Scipy is motivating\n",
    "and provides a good sanity check, but specialized algorithms are\n",
    "required in practice. The following code block re-runs the lasso\n",
    "with varying $\\alpha$ and plots the coefficients in\n",
    "[Figure](#fig:regularization_004). Notice that as $\\alpha$ increases, all\n",
    "but one of the coefficients is driven to zero. Increasing $\\alpha$\n",
    "makes the trade-off between fitting the data in the $L_2$ sense\n",
    "and wanting to reduce the number of nonzero coefficients\n",
    "(equivalently, the number of features used) in the model. For a\n",
    "given problem, it may be more practical to focus on reducing the\n",
    "number of features in the model (i.e., large $\\alpha$) than the\n",
    "quality of the data fit in the training data. The lasso provides a\n",
    "clean way to navigate this trade-off.\n",
    "\n",
    "The following code loops over a set of $\\alpha$ values and\n",
    "collects the corresponding lasso coefficients to be plotted\n",
    "in [Figure](#fig:regularization_004)"
   ]
  },
  {
   "cell_type": "code",
   "execution_count": 249,
   "metadata": {
    "ExecuteTime": {
     "end_time": "2018-11-14T11:36:15.918912Z",
     "start_time": "2018-11-14T11:36:15.880778Z"
    },
    "attributes": {
     "classes": [],
     "id": "",
     "n": "27"
    }
   },
   "outputs": [],
   "source": [
    "o = []\n",
    "alphas = np.logspace(-3, 2, 50)\n",
    "for a in alphas:\n",
    "    clf = Lasso(alpha=a, fit_intercept=False)\n",
    "    clf.fit(X, y)\n",
    "    o.append(clf.coef_)"
   ]
  },
  {
   "cell_type": "code",
   "execution_count": 250,
   "metadata": {
    "ExecuteTime": {
     "end_time": "2018-11-14T11:36:17.144431Z",
     "start_time": "2018-11-14T11:36:16.690770Z"
    },
    "attributes": {
     "classes": [],
     "id": "",
     "n": "28"
    }
   },
   "outputs": [
    {
     "data": {
      "image/png": "[encoded data removed]",
      "text/plain": [
       "<Figure size 576x360 with 1 Axes>"
      ]
     },
     "metadata": {},
     "output_type": "display_data"
    }
   ],
   "source": [
    "fig, ax = plt.subplots()\n",
    "fig.set_size_inches((8, 5))\n",
    "k = np.vstack(o)\n",
    "ls = ['-', '--', ':', '-.']\n",
    "for i in range(k.shape[1]):\n",
    "    _ = ax.semilogx(\n",
    "        alphas,\n",
    "        k[:, i],\n",
    "        'o-',\n",
    "        label='coef %d' % (i),\n",
    "        color='k',\n",
    "        ls=ls[i],\n",
    "        alpha=.8,\n",
    "    )\n",
    "\n",
    "_ = ax.axis(ymin=-1e-1)\n",
    "_ = ax.legend(loc=0)\n",
    "_ = ax.set_xlabel(r'$\\alpha$', fontsize=20)\n",
    "_ = ax.set_ylabel(r'Lasso coefficients', fontsize=16)\n",
    "fig.tight_layout()"
   ]
  },
  {
   "cell_type": "markdown",
   "metadata": {},
   "source": [
    "<!-- dom:FIGURE: [fig-machine_learning/regularization_004.png, width=500\n",
    "frac=0.85] As $\\alpha$ increases, more of the model coefficients are driven to\n",
    "zero for lasso regression.  <div id=\"fig:regularization_004\"></div> -->\n",
    "<!-- begin figure -->\n",
    "<div id=\"fig:regularization_004\"></div>\n",
    "\n",
    "<p>As $\\alpha$ increases, more of the model coefficients are driven to zero for\n",
    "lasso regression.</p>\n",
    "<img src=\"fig-machine_learning/regularization_004.png\" width=500>\n",
    "\n",
    "<!-- end figure -->"
   ]
  },
  {
   "cell_type": "markdown",
   "metadata": {},
   "source": [
    "## Elastic net regularization\n",
    "\n",
    "The elastic net is a regularized regression method that linearly combines the $L_1$ and $L_2$ penalties of the lasso and ridge methods.\n",
    "\n",
    "$$\n",
    "\\min_{\\boldsymbol{\\beta}\\in\\mathbb{R}^p}\\Vert\n",
    "y-\\mathbf{X}\\boldsymbol{\\beta}\\Vert^2 +\\alpha_1 \\Vert\\boldsymbol{\\beta}\\Vert_1 +\\alpha_2 \\Vert\\boldsymbol{\\beta}\\Vert_2^2\n",
    "$$\n",
    "or\n",
    "$$\n",
    "\\min_{\\boldsymbol{\\beta}\\in\\mathbb{R}^p}\\Vert\n",
    "y-\\mathbf{X}\\boldsymbol{\\beta}\\Vert^2 +\\alpha L_{1_{ratio}} \\Vert\\boldsymbol{\\beta}\\Vert_1 + \\frac{1}{2} \\alpha (1 - L_{1_{ratio}})\\Vert\\boldsymbol{\\beta}\\Vert_2^2\n",
    "$$\n",
    "\n",
    "The interface in Scikit-learn is likewise the same."
   ]
  },
  {
   "cell_type": "code",
   "execution_count": 252,
   "metadata": {
    "ExecuteTime": {
     "end_time": "2018-11-14T12:11:48.742845Z",
     "start_time": "2018-11-14T12:11:48.738385Z"
    }
   },
   "outputs": [],
   "source": [
    "from sklearn.linear_model import ElasticNet"
   ]
  },
  {
   "cell_type": "code",
   "execution_count": 255,
   "metadata": {
    "ExecuteTime": {
     "end_time": "2018-11-14T12:12:32.452602Z",
     "start_time": "2018-11-14T12:12:32.417254Z"
    },
    "attributes": {
     "classes": [],
     "id": "",
     "n": "27"
    }
   },
   "outputs": [],
   "source": [
    "o = []\n",
    "alphas = np.logspace(-3, 2, 50)\n",
    "for a in alphas:\n",
    "    clf = ElasticNet(alpha=a, fit_intercept=False).fit(X, y)\n",
    "    #clf.fit(X, y)\n",
    "    o.append(clf.coef_)"
   ]
  },
  {
   "cell_type": "code",
   "execution_count": 254,
   "metadata": {
    "ExecuteTime": {
     "end_time": "2018-11-14T12:12:02.129267Z",
     "start_time": "2018-11-14T12:12:01.677001Z"
    },
    "attributes": {
     "classes": [],
     "id": "",
     "n": "28"
    }
   },
   "outputs": [
    {
     "data": {
      "image/png": "[encoded data removed]",
      "text/plain": [
       "<Figure size 576x360 with 1 Axes>"
      ]
     },
     "metadata": {},
     "output_type": "display_data"
    }
   ],
   "source": [
    "fig, ax = plt.subplots()\n",
    "fig.set_size_inches((8, 5))\n",
    "k = np.vstack(o)\n",
    "ls = ['-', '--', ':', '-.']\n",
    "for i in range(k.shape[1]):\n",
    "    _ = ax.semilogx(\n",
    "        alphas,\n",
    "        k[:, i],\n",
    "        'o-',\n",
    "        label='coef %d' % (i),\n",
    "        color='k',\n",
    "        ls=ls[i],\n",
    "        alpha=.8,\n",
    "    )\n",
    "\n",
    "_ = ax.axis(ymin=-1e-1)\n",
    "_ = ax.legend(loc=0)\n",
    "_ = ax.set_xlabel(r'$\\alpha$', fontsize=20)\n",
    "_ = ax.set_ylabel(r'ElasticNet coefficients', fontsize=16)\n",
    "fig.tight_layout()"
   ]
  },
  {
   "cell_type": "code",
   "execution_count": 257,
   "metadata": {
    "ExecuteTime": {
     "end_time": "2018-11-14T12:14:17.474607Z",
     "start_time": "2018-11-14T12:14:17.382940Z"
    }
   },
   "outputs": [],
   "source": [
    "o_r = []\n",
    "o_l = []\n",
    "o_e = []\n",
    "alphas = np.logspace(-3, 2, 50)\n",
    "for a in alphas:\n",
    "    clf_r = Ridge(alpha=a, fit_intercept=False).fit(X, y)\n",
    "    o_r.append(clf_r.coef_)\n",
    "\n",
    "    clf_l = Lasso(alpha=a, fit_intercept=False).fit(X, y)\n",
    "    o_l.append(clf_l.coef_)\n",
    "    \n",
    "    clf_e = ElasticNet(alpha=a, fit_intercept=False).fit(X, y)\n",
    "    o_e.append(clf_e.coef_)"
   ]
  },
  {
   "cell_type": "code",
   "execution_count": 275,
   "metadata": {
    "ExecuteTime": {
     "end_time": "2018-11-14T12:19:21.579911Z",
     "start_time": "2018-11-14T12:19:20.921899Z"
    }
   },
   "outputs": [
    {
     "data": {
      "text/plain": [
       "<matplotlib.legend.Legend at 0x7f95c772cd68>"
      ]
     },
     "execution_count": 275,
     "metadata": {},
     "output_type": "execute_result"
    },
    {
     "data": {
      "image/png": "[encoded data removed]",
      "text/plain": [
       "<Figure size 504x432 with 1 Axes>"
      ]
     },
     "metadata": {},
     "output_type": "display_data"
    }
   ],
   "source": [
    "plt.figure(figsize=(7,6))\n",
    "\n",
    "for i in range(3):\n",
    "    plt.semilogx(alphas,np.vstack(o_r).T[i],color='k', label='Rigde C{}'.format(i))\n",
    "    \n",
    "for i in range(3):\n",
    "    plt.semilogx(alphas,np.vstack(o_l).T[i],color='b', label='Lasso C{}'.format(i))\n",
    "    \n",
    "for i in range(3):\n",
    "    plt.semilogx(alphas,np.vstack(o_e).T[i],color='r', label='ElasticNet C{}'.format(i))\n",
    "    \n",
    "plt.legend(bbox_to_anchor=(1,1))"
   ]
  }
 ],
 "metadata": {
  "kernelspec": {
   "display_name": "Python 3",
   "language": "python",
   "name": "python3"
  },
  "language_info": {
   "codemirror_mode": {
    "name": "ipython",
    "version": 3
   },
   "file_extension": ".py",
   "mimetype": "text/x-python",
   "name": "python",
   "nbconvert_exporter": "python",
   "pygments_lexer": "ipython3",
   "version": "3.6.6"
  }
 },
 "nbformat": 4,
 "nbformat_minor": 2
}
