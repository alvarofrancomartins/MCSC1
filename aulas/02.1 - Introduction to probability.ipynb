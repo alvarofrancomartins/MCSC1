{
 "cells": [
  {
   "cell_type": "code",
   "execution_count": 1,
   "metadata": {
    "ExecuteTime": {
     "end_time": "2018-09-11T16:58:12.415860Z",
     "start_time": "2018-09-11T16:58:12.017047Z"
    }
   },
   "outputs": [],
   "source": [
    "import numpy as np\n",
    "import pandas as pd\n",
    "\n",
    "import matplotlib as mpl\n",
    "from matplotlib import pyplot as plt\n",
    "%matplotlib inline"
   ]
  },
  {
   "cell_type": "code",
   "execution_count": 2,
   "metadata": {
    "ExecuteTime": {
     "end_time": "2018-09-11T16:58:12.848678Z",
     "start_time": "2018-09-11T16:58:12.844863Z"
    }
   },
   "outputs": [],
   "source": [
    "mpl.style.use('seaborn-darkgrid')\n",
    "mpl.rcParams.update({'font.size': 18})"
   ]
  },
  {
   "cell_type": "code",
   "execution_count": 3,
   "metadata": {
    "ExecuteTime": {
     "end_time": "2018-09-11T16:58:13.329390Z",
     "start_time": "2018-09-11T16:58:13.325412Z"
    }
   },
   "outputs": [],
   "source": [
    "pd.options.display.max_rows = 10"
   ]
  },
  {
   "cell_type": "markdown",
   "metadata": {},
   "source": [
    "# Probability"
   ]
  },
  {
   "cell_type": "markdown",
   "metadata": {},
   "source": [
    "This chapter takes a geometric view of probability theory and relates it to\n",
    "familiar concepts in linear algebra and geometry.  This approach connects your\n",
    "natural geometric intuition to the key abstractions in probability that can\n",
    "help guide your reasoning.  This is particularly important in probability\n",
    "because it is easy to be misled. We need a bit of rigor and some\n",
    "intuition to guide us.\n",
    "\n",
    "In grade school, you were introduced to the natural numbers (i.e., `1,2,3,..`)\n",
    "and you learned how to manipulate them by operations like addition,\n",
    "subtraction, and multiplication. Later, you were introduced to positive and\n",
    "negative numbers and were again taught how to manipulate them. Ultimately, you\n",
    "were introduced to the calculus of the real line, and learned how to\n",
    "differentiate, take limits, and so on. This progression provided more\n",
    "abstractions, but also widened the field of problems you could successfully\n",
    "tackle. The same is true of probability. **One way to think about probability is\n",
    "as a  new number concept that allows you to tackle problems that have a special\n",
    "kind of *uncertainty* built into them. Thus, the key idea is that there is some\n",
    "number, say $x$, with a traveling companion, say, $f(x)$, and this companion\n",
    "represents the uncertainties about the value of $x$ as if looking at the number\n",
    "$x$ through a frosted window. The degree of opacity of the window is\n",
    "represented by $f(x)$.**  If we want to manipulate $x$, then we have to figure\n",
    "out what to do with $f(x)$. For example if we want $y= 2 x $, then we have to\n",
    "understand how $f(x)$ generates $f(y)$. \n",
    "\n",
    "Where is the *random* part?   To conceptualize this, we need still **another\n",
    "analogy: think about a beehive with the swarm around it representing $f(x)$,\n",
    "and the hive itself, which you can barely see through the swarm, as $x$.** The\n",
    "random piece is you don't know *which* bee in particular is going to sting you!\n",
    "Once this happens the uncertainty evaporates.\n",
    "Up until that happens, all we have is a concept of a swarm (i.e., density of\n",
    "bees) which represents a *potentiality* of which bee will ultimately sting.\n",
    "In summary, one way to think about probability is as a way of carrying through\n",
    "mathematical reasoning (e.g., adding, subtracting, taking\n",
    "limits) with a notion of potentiality that is so-transformed by these\n",
    "operations.\n",
    "\n",
    "## Understanding Probability Density\n",
    "\n",
    "In order to understand the heart of modern probability, which is built\n",
    "on the **Lesbesgue theory of integration**, we need to extend the concept\n",
    "of integration from basic calculus. To begin, let us consider the\n",
    "following piecewise function"
   ]
  },
  {
   "cell_type": "markdown",
   "metadata": {},
   "source": [
    "$$\n",
    "f(x)  =  \\begin{cases}\n",
    "                1 & \\mbox{if }  0 < x \\leq 1 \\\\\\\n",
    "                2 & \\mbox{if }  1 < x \\leq 2 \\\\\\\n",
    "                0 & \\mbox{otherwise }\n",
    "            \\end{cases}\n",
    "$$"
   ]
  },
  {
   "cell_type": "markdown",
   "metadata": {},
   "source": [
    " as shown in [Figure](#fig:intro_001). In calculus, **you learned\n",
    "Riemann integration**, which you can apply here  as\n",
    "\n",
    "<!-- dom:FIGURE: [fig-probability/intro_001.jpg, width=500 frac=0.75]  <div id=\"fig:intro_001\"></div> -->\n",
    "<!-- begin figure -->\n",
    "<div id=\"fig:intro_001\"></div>\n",
    "\n",
    "<p></p>\n",
    "<img src=\"fig-probability/intro_001.jpg\" width=500>\n",
    "\n",
    "<!-- end figure -->"
   ]
  },
  {
   "cell_type": "markdown",
   "metadata": {},
   "source": [
    "$$\n",
    "\\int_0^2 f(x) dx = 1 + 2 = 3\n",
    "$$"
   ]
  },
  {
   "cell_type": "markdown",
   "metadata": {},
   "source": [
    " which has the **usual interpretation as the area of the two rectangles\n",
    "that make up $f(x)$**.  So far, so good.\n",
    "\n",
    "With **Lesbesgue integration, the idea is very similar except that we\n",
    "focus on the y-axis instead of moving along the x-axis.**\n",
    "\n",
    "The question is given $f(x) = 1$, what is the set of $x$ values for which this is\n",
    "true? For our example, this is true whenever $x\\in (0,1]$. \n",
    "\n",
    "So now we have a correspondence between the values of the function (namely, `1`\n",
    "and `2`) and the sets of $x$ values for which this is true, namely,\n",
    "$\\lbrace (0,1] \\rbrace$ and $\\lbrace (1,2] \\rbrace$, respectively. \n",
    "\n",
    "To compute the integral, we simply take the function values (i.e., `1,2`)\n",
    "and **some way of measuring the size of the corresponding interval**\n",
    "(i.e.,  $\\mu$) as in the following:"
   ]
  },
  {
   "cell_type": "markdown",
   "metadata": {},
   "source": [
    "$$\n",
    "\\int_0^2 f d\\mu = 1 \\mu(\\lbrace (0,1] \\rbrace) + 2 \\mu(\\lbrace (1,2] \\rbrace)\n",
    "$$"
   ]
  },
  {
   "cell_type": "markdown",
   "metadata": {},
   "source": [
    "We have suppressed some of the notation above to emphasize generality. \n",
    "\n",
    "**Note\n",
    "that we obtain the same value of the integral as in the Riemann case when\n",
    "$\\mu((0,1]) = \\mu((1,2]) = 1$.**\n",
    "\n",
    "By introducing the $\\mu$ function as  a way of\n",
    "measuring the intervals above, we have introduced another degree of freedom in\n",
    "our integration. \n",
    "\n",
    "This accommodates many weird functions that are not tractable\n",
    "using the usual Riemann theory, but we refer you to a proper introduction to\n",
    "Lesbesgue integration for further study [[jones2001lebesgue]](#jones2001lebesgue).  \n",
    "\n",
    "**Nonetheless,\n",
    "the key step in the above discussion is the introduction of the $\\mu$ function,\n",
    "which we will encounter again as the so-called probability density function.**\n",
    "\n",
    "## Random Variables\n",
    "\n",
    "Most introductions to probability jump straight into *random variables* and\n",
    "then explain how to compute complicated integrals. The problem with this\n",
    "approach is that it skips over some of the important subtleties that we will now\n",
    "consider. \n",
    "\n",
    "Unfortunately, the term *random variable* is not very descriptive. A\n",
    "better term is *measurable function*.  \n",
    "\n",
    "\n",
    "To understand why this is a better term,\n",
    "we have to dive into the formal constructions of probability by way of a simple\n",
    "example.\n",
    "\n",
    "Consider tossing a fair six-sided die. There are only six outcomes possible,"
   ]
  },
  {
   "cell_type": "markdown",
   "metadata": {},
   "source": [
    "$$\n",
    "\\Omega=\\lbrace 1,2,3,4,5,6 \\rbrace\n",
    "$$"
   ]
  },
  {
   "cell_type": "markdown",
   "metadata": {},
   "source": [
    "As we know, if the die is fair, then the probability of each outcome is $1/6$.\n",
    "\n",
    "To say this formally, the measure  of each set (i.e., $\\lbrace 1 \\rbrace,\\lbrace\n",
    "2 \\rbrace,\\ldots,\\lbrace 6 \\rbrace$) is $\\mu(\\lbrace 1 \\rbrace ) =\\mu(\\lbrace 2\n",
    "\\rbrace ) \\ldots = \\mu(\\lbrace 6 \\rbrace ) = 1/6$. \n",
    "\n",
    "In this case, the $\\mu$\n",
    "function we discussed earlier is the usual *probability* mass function, denoted by\n",
    "$\\mathbb{P}$. The measurable function  maps a set into a\n",
    "number on the real line. For example, $ \\lbrace 1 \\rbrace \\mapsto 1 $ is\n",
    "one such  uninteresting function.\n",
    "\n",
    "Now, here's where things get interesting. \n",
    "\n",
    "\n",
    "**Suppose you were asked to construct a fair coin from the fair die.** In other words, we want to throw the die and then record the outcomes as if we had just tossed a fair coin. How could we do this?\n",
    "\n",
    "\n",
    "One way would be to define a measurable function that says if the die comes up\n",
    "`3` or less, then we declare *heads* and otherwise declare *tails*. This has\n",
    "some strong intuition behind it, but let's articulate it in terms of formal\n",
    "theory.  \n",
    "\n",
    "\n",
    "This strategy creates two different non-overlapping sets $\\lbrace\n",
    "1,2,3 \\rbrace$ and $\\lbrace 4,5,6 \\rbrace$. Each set has the same probability\n",
    "*measure*,"
   ]
  },
  {
   "cell_type": "markdown",
   "metadata": {},
   "source": [
    "$$\n",
    "\\begin{eqnarray*}\n",
    "\\mathbb{P}(\\lbrace 1,2,3 \\rbrace)  & = &  1/2  \\\\\\\n",
    "\\mathbb{P}(\\lbrace 4,5,6 \\rbrace) & = & 1/2\n",
    "\\end{eqnarray*}\n",
    "$$"
   ]
  },
  {
   "cell_type": "markdown",
   "metadata": {},
   "source": [
    " And the problem is solved. Everytime the die comes up\n",
    "$\\lbrace 1,2,3 \\rbrace$, we record heads and record tails otherwise.\n",
    "\n",
    "Is this the only way to construct a fair coin experiment from a\n",
    "fair die? \n",
    "\n",
    "Alternatively, we can define the sets as $\\lbrace 1 \\rbrace$,\n",
    "$\\lbrace 2 \\rbrace$, $\\lbrace 3,4,5,6 \\rbrace$. If we define the corresponding\n",
    "measure for each set as the following"
   ]
  },
  {
   "cell_type": "markdown",
   "metadata": {},
   "source": [
    "$$\n",
    "\\begin{eqnarray*}\n",
    "\\mathbb{P}(\\lbrace 1 \\rbrace)  & = &  1/2  \\\\\\\n",
    "\\mathbb{P}(\\lbrace 2 \\rbrace) & = & 1/2 \\\\\\\n",
    "\\mathbb{P}(\\lbrace 3,4,5,6 \\rbrace) & = & 0\n",
    "\\end{eqnarray*}\n",
    "$$"
   ]
  },
  {
   "cell_type": "markdown",
   "metadata": {},
   "source": [
    "  then, we have another solution to the fair coin problem. To\n",
    "implement this, all we do is ignore every time the die shows `3,4,5,6` and\n",
    "throw again. \n",
    "\n",
    "This is wasteful, but it solves the problem.  Nonetheless,\n",
    "we hope you can see how the interlocking pieces of the theory provide a\n",
    "framework for carrying the notion of uncertainty/potentiality from one problem\n",
    "to the next (e.g., from the fair die to the fair coin). \n",
    "\n",
    "**Let's consider a slightly more interesting problem where we toss two dice.** \n",
    "\n",
    "We\n",
    "assume that each throw is *independent*, meaning that the outcome of one does\n",
    "not influence the other. What are the sets in this case? They are all pairs\n",
    "of possible outcomes from two throws as shown below,"
   ]
  },
  {
   "cell_type": "markdown",
   "metadata": {},
   "source": [
    "$$\n",
    "\\Omega = \\lbrace (1,1),(1,2),\\ldots,(5,6),(6,6) \\rbrace\n",
    "$$"
   ]
  },
  {
   "cell_type": "markdown",
   "metadata": {},
   "source": [
    "  What are the measures of each of these sets? \n",
    "  \n",
    "  By virtue of the\n",
    "independence claim, the measure of each is the product of the respective measures\n",
    "of each element.  For instance,"
   ]
  },
  {
   "cell_type": "markdown",
   "metadata": {},
   "source": [
    "$$\n",
    "\\mathbb{P}((1,2)) = \\mathbb{P}(\\lbrace 1 \\rbrace) \\mathbb{P}(\\lbrace 2 \\rbrace) = \\frac{1}{6^2}\n",
    "$$"
   ]
  },
  {
   "cell_type": "markdown",
   "metadata": {},
   "source": [
    " With all that established, we can ask the following\n",
    "question: \n",
    "\n",
    "**what is the probability that the sum of the dice equals\n",
    "seven?** \n",
    "\n",
    "As before, the first thing to do is characterize the\n",
    "measurable function for this as $X:(a,b) \\mapsto (a+b)$.  Next, we\n",
    "associate all of the $(a,b)$ pairs with their sum. We can create a\n",
    "Python dictionary for this as shown,"
   ]
  },
  {
   "cell_type": "code",
   "execution_count": 58,
   "metadata": {},
   "outputs": [],
   "source": [
    "d={(i,j):i+j for i in range(1,7) for j in range(1,7)}"
   ]
  },
  {
   "cell_type": "code",
   "execution_count": 59,
   "metadata": {},
   "outputs": [],
   "source": [
    "d = dict(d) # python 3"
   ]
  },
  {
   "cell_type": "markdown",
   "metadata": {},
   "source": [
    " The next step is to collect all of the $(a,b)$ pairs that sum to\n",
    "each of the possible values from two to twelve."
   ]
  },
  {
   "cell_type": "code",
   "execution_count": 60,
   "metadata": {},
   "outputs": [],
   "source": [
    "from collections import defaultdict\n",
    "dinv = defaultdict(list)"
   ]
  },
  {
   "cell_type": "code",
   "execution_count": 61,
   "metadata": {},
   "outputs": [
    {
     "name": "stdout",
     "output_type": "stream",
     "text": [
      "[2, (1, 1)]\n",
      "[3, (1, 2)]\n",
      "[4, (1, 3)]\n",
      "[5, (1, 4)]\n",
      "[6, (1, 5)]\n",
      "[7, (1, 6)]\n",
      "[3, (2, 1)]\n",
      "[4, (2, 2)]\n",
      "[5, (2, 3)]\n",
      "[6, (2, 4)]\n",
      "[7, (2, 5)]\n",
      "[8, (2, 6)]\n",
      "[4, (3, 1)]\n",
      "[5, (3, 2)]\n",
      "[6, (3, 3)]\n",
      "[7, (3, 4)]\n",
      "[8, (3, 5)]\n",
      "[9, (3, 6)]\n",
      "[5, (4, 1)]\n",
      "[6, (4, 2)]\n",
      "[7, (4, 3)]\n",
      "[8, (4, 4)]\n",
      "[9, (4, 5)]\n",
      "[10, (4, 6)]\n",
      "[6, (5, 1)]\n",
      "[7, (5, 2)]\n",
      "[8, (5, 3)]\n",
      "[9, (5, 4)]\n",
      "[10, (5, 5)]\n",
      "[11, (5, 6)]\n",
      "[7, (6, 1)]\n",
      "[8, (6, 2)]\n",
      "[9, (6, 3)]\n",
      "[10, (6, 4)]\n",
      "[11, (6, 5)]\n",
      "[12, (6, 6)]\n"
     ]
    }
   ],
   "source": [
    "for i,j in iter(d.items()):\n",
    "    print([j,i])"
   ]
  },
  {
   "cell_type": "code",
   "execution_count": 62,
   "metadata": {},
   "outputs": [],
   "source": [
    "for i,j in iter(d.items()): # python 3\n",
    "    dinv[j].append(i)"
   ]
  },
  {
   "cell_type": "code",
   "execution_count": 63,
   "metadata": {},
   "outputs": [
    {
     "data": {
      "text/plain": [
       "defaultdict(list,\n",
       "            {2: [(1, 1)],\n",
       "             3: [(1, 2), (2, 1)],\n",
       "             4: [(1, 3), (2, 2), (3, 1)],\n",
       "             5: [(1, 4), (2, 3), (3, 2), (4, 1)],\n",
       "             6: [(1, 5), (2, 4), (3, 3), (4, 2), (5, 1)],\n",
       "             7: [(1, 6), (2, 5), (3, 4), (4, 3), (5, 2), (6, 1)],\n",
       "             8: [(2, 6), (3, 5), (4, 4), (5, 3), (6, 2)],\n",
       "             9: [(3, 6), (4, 5), (5, 4), (6, 3)],\n",
       "             10: [(4, 6), (5, 5), (6, 4)],\n",
       "             11: [(5, 6), (6, 5)],\n",
       "             12: [(6, 6)]})"
      ]
     },
     "execution_count": 63,
     "metadata": {},
     "output_type": "execute_result"
    }
   ],
   "source": [
    "dinv"
   ]
  },
  {
   "cell_type": "markdown",
   "metadata": {},
   "source": [
    "**Programming Tip.**\n",
    "\n",
    "The `defaultdict` object from the built-in collections module creates dictionaries with\n",
    "default values when it encounters a new key. Otherwise, we would have had to\n",
    "create default values manually for a regular dictionary.\n",
    "\n",
    "\n",
    "\n",
    " For example, `dinv[7]` contains the following list of pairs that\n",
    "sum to seven,"
   ]
  },
  {
   "cell_type": "code",
   "execution_count": 64,
   "metadata": {},
   "outputs": [
    {
     "data": {
      "text/plain": [
       "[(1, 6), (2, 5), (3, 4), (4, 3), (5, 2), (6, 1)]"
      ]
     },
     "execution_count": 64,
     "metadata": {},
     "output_type": "execute_result"
    }
   ],
   "source": [
    "dinv[7]"
   ]
  },
  {
   "cell_type": "markdown",
   "metadata": {},
   "source": [
    "The next step is to compute the probability measured for each of these items.\n",
    "Using the independence assumption, this means we have to compute the sum of the\n",
    "products of the individual item probabilities in `dinv`. \n",
    "\n",
    "Because we know that\n",
    "each outcome is equally likely, every term in the sum equals $1/36$. \n",
    "\n",
    "Thus, all\n",
    "we have to do is count the number of items in the corresponding list for each\n",
    "key in `dinv` and divide by `36`. \n",
    "\n",
    "For example,  `dinv[11]` contains `[(5, 6),\n",
    "(6, 5)]`.  The probability of `5+6=6+5=11` is the probability of this set which\n",
    "is composed of the sum of the probabilities of the individual elements\n",
    "`{(5,6),(6,5)}`. \n",
    "\n",
    "In this case, we have $\\mathbb{P}(11) = \\mathbb{P}(\\lbrace\n",
    "(5,6) \\rbrace)+ \\mathbb{P}(\\lbrace (6,5) \\rbrace) = 1/36 + 1/36 = 2/36$.\n",
    "Repeating this procedure for all the elements, we derive the probability mass\n",
    "function as shown below,"
   ]
  },
  {
   "cell_type": "code",
   "execution_count": 18,
   "metadata": {},
   "outputs": [
    {
     "data": {
      "text/plain": [
       "<dict_itemiterator at 0x11edcf318>"
      ]
     },
     "execution_count": 18,
     "metadata": {},
     "output_type": "execute_result"
    }
   ],
   "source": [
    "iter(dinv.items())"
   ]
  },
  {
   "cell_type": "code",
   "execution_count": 65,
   "metadata": {},
   "outputs": [],
   "source": [
    "X=[[i,len(j)/36.] for i,j in iter(dinv.items())]"
   ]
  },
  {
   "cell_type": "code",
   "execution_count": 66,
   "metadata": {},
   "outputs": [
    {
     "data": {
      "text/plain": [
       "[[2, 0.027777777777777776],\n",
       " [3, 0.05555555555555555],\n",
       " [4, 0.08333333333333333],\n",
       " [5, 0.1111111111111111],\n",
       " [6, 0.1388888888888889],\n",
       " [7, 0.16666666666666666],\n",
       " [8, 0.1388888888888889],\n",
       " [9, 0.1111111111111111],\n",
       " [10, 0.08333333333333333],\n",
       " [11, 0.05555555555555555],\n",
       " [12, 0.027777777777777776]]"
      ]
     },
     "execution_count": 66,
     "metadata": {},
     "output_type": "execute_result"
    }
   ],
   "source": [
    "X"
   ]
  },
  {
   "cell_type": "code",
   "execution_count": 67,
   "metadata": {},
   "outputs": [
    {
     "data": {
      "text/plain": [
       "[<matplotlib.lines.Line2D at 0x11f4c5fd0>]"
      ]
     },
     "execution_count": 67,
     "metadata": {},
     "output_type": "execute_result"
    },
    {
     "data": {
      "image/png": "[encoded data removed]",
      "text/plain": [
       "<Figure size 432x288 with 1 Axes>"
      ]
     },
     "metadata": {},
     "output_type": "display_data"
    }
   ],
   "source": [
    "plt.plot(np.asarray(X).T[0],np.asarray(X).T[1],'-o')"
   ]
  },
  {
   "cell_type": "markdown",
   "metadata": {},
   "source": [
    "**Programming Tip.**\n",
    "\n",
    "In the preceding code note that `36.` is written with\n",
    "the trailing decimal mark. This is a good habit to get into because division\n",
    "in Python 2.x is integer division by default, which is not what we want here.\n",
    "This can be fixed with a top-level `from __future__ import division`, but\n",
    "that's easy to forget to do, especially when you are passing code\n",
    "around and others may not reflexively do the future import.\n",
    "\n",
    "\n",
    "\n",
    "The above example exposes the elements of probability theory that\n",
    "are in play for this simple problem while deliberately suppressing some of the\n",
    "gory technical details. \n",
    "\n",
    "\n",
    "With this framework, we can ask other questions like\n",
    "**what is the probability that half the product of three dice will exceed the\n",
    "their sum?** We can solve this using the same method as in the following. First,\n",
    "let's create the first mapping,"
   ]
  },
  {
   "cell_type": "code",
   "execution_count": 28,
   "metadata": {},
   "outputs": [],
   "source": [
    "dl = []\n",
    "for i in range(1,7):\n",
    "    for j in range(1,7):\n",
    "        for k in range(1,7):\n",
    "            dl.append([(i,j,k), ((i*j*k)/2>i+j+k)])"
   ]
  },
  {
   "cell_type": "code",
   "execution_count": 29,
   "metadata": {},
   "outputs": [],
   "source": [
    "d = dict(dl)"
   ]
  },
  {
   "cell_type": "code",
   "execution_count": 30,
   "metadata": {},
   "outputs": [
    {
     "data": {
      "text/plain": [
       "216"
      ]
     },
     "execution_count": 30,
     "metadata": {},
     "output_type": "execute_result"
    }
   ],
   "source": [
    "len(d)"
   ]
  },
  {
   "cell_type": "code",
   "execution_count": 31,
   "metadata": {},
   "outputs": [],
   "source": [
    "d=dict({(i,j,k):((i*j*k)/2>i+j+k) for i in range(1,7) \n",
    "                                  for j in range(1,7)  \n",
    "                                  for k in range(1,7)})"
   ]
  },
  {
   "cell_type": "code",
   "execution_count": 32,
   "metadata": {},
   "outputs": [
    {
     "data": {
      "text/plain": [
       "216"
      ]
     },
     "execution_count": 32,
     "metadata": {},
     "output_type": "execute_result"
    }
   ],
   "source": [
    "len(d)"
   ]
  },
  {
   "cell_type": "markdown",
   "metadata": {},
   "source": [
    " **The keys of this dictionary are the triples and the values are the\n",
    "logical values of whether or not half the product of three dice exceeds their sum.**\n",
    "\n",
    "\n",
    "Now, we do the inverse mapping to collect the corresponding lists,"
   ]
  },
  {
   "cell_type": "code",
   "execution_count": 34,
   "metadata": {},
   "outputs": [],
   "source": [
    "dinv = defaultdict(list)\n",
    "for i,j in iter(d.items()): \n",
    "    dinv[j].append(i)"
   ]
  },
  {
   "cell_type": "code",
   "execution_count": 28,
   "metadata": {},
   "outputs": [
    {
     "data": {
      "text/plain": [
       "2"
      ]
     },
     "execution_count": 28,
     "metadata": {},
     "output_type": "execute_result"
    }
   ],
   "source": [
    "len(dinv)"
   ]
  },
  {
   "cell_type": "markdown",
   "metadata": {},
   "source": [
    " Note that `dinv` contains only two keys, `True` and `False`. Again,\n",
    "because the dice are independent, the probability of any triple is $1/6^3$.\n",
    "Finally, we collect this for each outcome as in the following,"
   ]
  },
  {
   "cell_type": "code",
   "execution_count": 36,
   "metadata": {},
   "outputs": [
    {
     "data": {
      "text/plain": [
       "[[False, 0.37037037037037035], [True, 0.6296296296296297]]"
      ]
     },
     "execution_count": 36,
     "metadata": {},
     "output_type": "execute_result"
    }
   ],
   "source": [
    "X=[[i,len(j)/6.0**3] for i,j in iter(dinv.items())]\n",
    "X"
   ]
  },
  {
   "cell_type": "markdown",
   "metadata": {},
   "source": [
    " Thus, the probability of half the product of three dice exceeding their sum is\n",
    "`136/(6.0**3) = 0.63`. The set that is induced by the random variable has only\n",
    "two elements in it, `True` and `False`, with $\\mathbb{P}(\\mbox{True})=136/216$\n",
    "and $\\mathbb{P}(\\mbox{False})=1-136/216$.\n",
    "\n",
    "As a final example to exercise another layer of generality, **let is consider the\n",
    "first problem with the two dice where we want the probability of a\n",
    "seven, but this time one of the dice is no longer fair.**  The distribution for\n",
    "the unfair die is the following:"
   ]
  },
  {
   "cell_type": "markdown",
   "metadata": {},
   "source": [
    "$$\n",
    "\\begin{eqnarray*}\n",
    "\\mathbb{P}(\\lbrace 1\\rbrace)=\\mathbb{P}(\\lbrace 2 \\rbrace)=\\mathbb{P}(\\lbrace 3 \\rbrace)  = \\frac{1}{9} \\\\\\\n",
    "\\mathbb{P}(\\lbrace 4\\rbrace)=\\mathbb{P}(\\lbrace 5 \\rbrace)=\\mathbb{P}(\\lbrace 6 \\rbrace)  = \\frac{2}{9} \n",
    "\\end{eqnarray*}\n",
    "$$"
   ]
  },
  {
   "cell_type": "markdown",
   "metadata": {},
   "source": [
    "From our earlier work, we know the elements corresponding to the sum of seven\n",
    "are the following:"
   ]
  },
  {
   "cell_type": "markdown",
   "metadata": {},
   "source": [
    "$$\n",
    "\\lbrace (1,6),(2,5),(3,4),(4,3),(5,2),(6,1) \\rbrace\n",
    "$$"
   ]
  },
  {
   "cell_type": "markdown",
   "metadata": {},
   "source": [
    "  Because we still have the independence assumption, **all we need to\n",
    "change is the probability computation of each of elements.** For example, given\n",
    "that the first die is the unfair one, we have"
   ]
  },
  {
   "cell_type": "markdown",
   "metadata": {},
   "source": [
    "$$\n",
    "\\mathbb{P}((1,6)) = \\mathbb{P}(1)\\mathbb{P}(6) = \\frac{1}{9} \\times \\frac{1}{6}\n",
    "$$"
   ]
  },
  {
   "cell_type": "markdown",
   "metadata": {},
   "source": [
    "  and likewise for $(2,5)$ we have the following:"
   ]
  },
  {
   "cell_type": "markdown",
   "metadata": {},
   "source": [
    "$$\n",
    "\\mathbb{P}((2,5)) = \\mathbb{P}(2)\\mathbb{P}(5) = \\frac{1}{9} \\times \\frac{1}{6}\n",
    "$$"
   ]
  },
  {
   "cell_type": "markdown",
   "metadata": {},
   "source": [
    "  and so forth. Summing all of these gives the following:"
   ]
  },
  {
   "cell_type": "markdown",
   "metadata": {},
   "source": [
    "$$\n",
    "\\mathbb{P}_X(7) =  \\frac{1}{9} \\times \\frac{1}{6} \n",
    "                      +\\frac{1}{9} \\times \\frac{1}{6} \n",
    "                      +\\frac{1}{9} \\times \\frac{1}{6} \n",
    "                      +\\frac{2}{9} \\times \\frac{1}{6} \n",
    "                      +\\frac{2}{9} \\times \\frac{1}{6} \n",
    "                      +\\frac{2}{9} \\times \\frac{1}{6}  = \\frac{1}{6}\n",
    "$$"
   ]
  },
  {
   "cell_type": "markdown",
   "metadata": {},
   "source": [
    " Let's try computing this using Pandas instead\n",
    "of Python dictionaries. First, we construct\n",
    "a `DataFrame` object with an index of tuples\n",
    "consisting of all pairs of possible dice outcomes."
   ]
  },
  {
   "cell_type": "code",
   "execution_count": 69,
   "metadata": {},
   "outputs": [],
   "source": [
    "d=pd.DataFrame(index=[(i,j) for i in range(1,7) for j in range(1,7)],\n",
    "            columns=['sm','d1','d2','pd1','pd2','p'])"
   ]
  },
  {
   "cell_type": "code",
   "execution_count": 70,
   "metadata": {},
   "outputs": [
    {
     "data": {
      "text/html": [
       "<div>\n",
       "<style scoped>\n",
       "    .dataframe tbody tr th:only-of-type {\n",
       "        vertical-align: middle;\n",
       "    }\n",
       "\n",
       "    .dataframe tbody tr th {\n",
       "        vertical-align: top;\n",
       "    }\n",
       "\n",
       "    .dataframe thead th {\n",
       "        text-align: right;\n",
       "    }\n",
       "</style>\n",
       "<table border=\"1\" class=\"dataframe\">\n",
       "  <thead>\n",
       "    <tr style=\"text-align: right;\">\n",
       "      <th></th>\n",
       "      <th>sm</th>\n",
       "      <th>d1</th>\n",
       "      <th>d2</th>\n",
       "      <th>pd1</th>\n",
       "      <th>pd2</th>\n",
       "      <th>p</th>\n",
       "    </tr>\n",
       "  </thead>\n",
       "  <tbody>\n",
       "    <tr>\n",
       "      <th>(1, 1)</th>\n",
       "      <td>NaN</td>\n",
       "      <td>NaN</td>\n",
       "      <td>NaN</td>\n",
       "      <td>NaN</td>\n",
       "      <td>NaN</td>\n",
       "      <td>NaN</td>\n",
       "    </tr>\n",
       "    <tr>\n",
       "      <th>(1, 2)</th>\n",
       "      <td>NaN</td>\n",
       "      <td>NaN</td>\n",
       "      <td>NaN</td>\n",
       "      <td>NaN</td>\n",
       "      <td>NaN</td>\n",
       "      <td>NaN</td>\n",
       "    </tr>\n",
       "    <tr>\n",
       "      <th>(1, 3)</th>\n",
       "      <td>NaN</td>\n",
       "      <td>NaN</td>\n",
       "      <td>NaN</td>\n",
       "      <td>NaN</td>\n",
       "      <td>NaN</td>\n",
       "      <td>NaN</td>\n",
       "    </tr>\n",
       "    <tr>\n",
       "      <th>(1, 4)</th>\n",
       "      <td>NaN</td>\n",
       "      <td>NaN</td>\n",
       "      <td>NaN</td>\n",
       "      <td>NaN</td>\n",
       "      <td>NaN</td>\n",
       "      <td>NaN</td>\n",
       "    </tr>\n",
       "    <tr>\n",
       "      <th>(1, 5)</th>\n",
       "      <td>NaN</td>\n",
       "      <td>NaN</td>\n",
       "      <td>NaN</td>\n",
       "      <td>NaN</td>\n",
       "      <td>NaN</td>\n",
       "      <td>NaN</td>\n",
       "    </tr>\n",
       "    <tr>\n",
       "      <th>...</th>\n",
       "      <td>...</td>\n",
       "      <td>...</td>\n",
       "      <td>...</td>\n",
       "      <td>...</td>\n",
       "      <td>...</td>\n",
       "      <td>...</td>\n",
       "    </tr>\n",
       "    <tr>\n",
       "      <th>(6, 2)</th>\n",
       "      <td>NaN</td>\n",
       "      <td>NaN</td>\n",
       "      <td>NaN</td>\n",
       "      <td>NaN</td>\n",
       "      <td>NaN</td>\n",
       "      <td>NaN</td>\n",
       "    </tr>\n",
       "    <tr>\n",
       "      <th>(6, 3)</th>\n",
       "      <td>NaN</td>\n",
       "      <td>NaN</td>\n",
       "      <td>NaN</td>\n",
       "      <td>NaN</td>\n",
       "      <td>NaN</td>\n",
       "      <td>NaN</td>\n",
       "    </tr>\n",
       "    <tr>\n",
       "      <th>(6, 4)</th>\n",
       "      <td>NaN</td>\n",
       "      <td>NaN</td>\n",
       "      <td>NaN</td>\n",
       "      <td>NaN</td>\n",
       "      <td>NaN</td>\n",
       "      <td>NaN</td>\n",
       "    </tr>\n",
       "    <tr>\n",
       "      <th>(6, 5)</th>\n",
       "      <td>NaN</td>\n",
       "      <td>NaN</td>\n",
       "      <td>NaN</td>\n",
       "      <td>NaN</td>\n",
       "      <td>NaN</td>\n",
       "      <td>NaN</td>\n",
       "    </tr>\n",
       "    <tr>\n",
       "      <th>(6, 6)</th>\n",
       "      <td>NaN</td>\n",
       "      <td>NaN</td>\n",
       "      <td>NaN</td>\n",
       "      <td>NaN</td>\n",
       "      <td>NaN</td>\n",
       "      <td>NaN</td>\n",
       "    </tr>\n",
       "  </tbody>\n",
       "</table>\n",
       "<p>36 rows × 6 columns</p>\n",
       "</div>"
      ],
      "text/plain": [
       "         sm   d1   d2  pd1  pd2    p\n",
       "(1, 1)  NaN  NaN  NaN  NaN  NaN  NaN\n",
       "(1, 2)  NaN  NaN  NaN  NaN  NaN  NaN\n",
       "(1, 3)  NaN  NaN  NaN  NaN  NaN  NaN\n",
       "(1, 4)  NaN  NaN  NaN  NaN  NaN  NaN\n",
       "(1, 5)  NaN  NaN  NaN  NaN  NaN  NaN\n",
       "...     ...  ...  ...  ...  ...  ...\n",
       "(6, 2)  NaN  NaN  NaN  NaN  NaN  NaN\n",
       "(6, 3)  NaN  NaN  NaN  NaN  NaN  NaN\n",
       "(6, 4)  NaN  NaN  NaN  NaN  NaN  NaN\n",
       "(6, 5)  NaN  NaN  NaN  NaN  NaN  NaN\n",
       "(6, 6)  NaN  NaN  NaN  NaN  NaN  NaN\n",
       "\n",
       "[36 rows x 6 columns]"
      ]
     },
     "execution_count": 70,
     "metadata": {},
     "output_type": "execute_result"
    }
   ],
   "source": [
    "d"
   ]
  },
  {
   "cell_type": "markdown",
   "metadata": {},
   "source": [
    " Now, we can populate the columns that we set up above\n",
    "where the outcome of the first die is the `d1` column and\n",
    "the outcome of the second die is `d2`,"
   ]
  },
  {
   "cell_type": "code",
   "execution_count": 71,
   "metadata": {},
   "outputs": [],
   "source": [
    "d.d1=[i[0] for i in d.index]\n",
    "d.d2=[i[1] for i in d.index]"
   ]
  },
  {
   "cell_type": "code",
   "execution_count": 72,
   "metadata": {},
   "outputs": [
    {
     "data": {
      "text/html": [
       "<div>\n",
       "<style scoped>\n",
       "    .dataframe tbody tr th:only-of-type {\n",
       "        vertical-align: middle;\n",
       "    }\n",
       "\n",
       "    .dataframe tbody tr th {\n",
       "        vertical-align: top;\n",
       "    }\n",
       "\n",
       "    .dataframe thead th {\n",
       "        text-align: right;\n",
       "    }\n",
       "</style>\n",
       "<table border=\"1\" class=\"dataframe\">\n",
       "  <thead>\n",
       "    <tr style=\"text-align: right;\">\n",
       "      <th></th>\n",
       "      <th>sm</th>\n",
       "      <th>d1</th>\n",
       "      <th>d2</th>\n",
       "      <th>pd1</th>\n",
       "      <th>pd2</th>\n",
       "      <th>p</th>\n",
       "    </tr>\n",
       "  </thead>\n",
       "  <tbody>\n",
       "    <tr>\n",
       "      <th>(1, 1)</th>\n",
       "      <td>NaN</td>\n",
       "      <td>1</td>\n",
       "      <td>1</td>\n",
       "      <td>NaN</td>\n",
       "      <td>NaN</td>\n",
       "      <td>NaN</td>\n",
       "    </tr>\n",
       "    <tr>\n",
       "      <th>(1, 2)</th>\n",
       "      <td>NaN</td>\n",
       "      <td>1</td>\n",
       "      <td>2</td>\n",
       "      <td>NaN</td>\n",
       "      <td>NaN</td>\n",
       "      <td>NaN</td>\n",
       "    </tr>\n",
       "    <tr>\n",
       "      <th>(1, 3)</th>\n",
       "      <td>NaN</td>\n",
       "      <td>1</td>\n",
       "      <td>3</td>\n",
       "      <td>NaN</td>\n",
       "      <td>NaN</td>\n",
       "      <td>NaN</td>\n",
       "    </tr>\n",
       "    <tr>\n",
       "      <th>(1, 4)</th>\n",
       "      <td>NaN</td>\n",
       "      <td>1</td>\n",
       "      <td>4</td>\n",
       "      <td>NaN</td>\n",
       "      <td>NaN</td>\n",
       "      <td>NaN</td>\n",
       "    </tr>\n",
       "    <tr>\n",
       "      <th>(1, 5)</th>\n",
       "      <td>NaN</td>\n",
       "      <td>1</td>\n",
       "      <td>5</td>\n",
       "      <td>NaN</td>\n",
       "      <td>NaN</td>\n",
       "      <td>NaN</td>\n",
       "    </tr>\n",
       "    <tr>\n",
       "      <th>...</th>\n",
       "      <td>...</td>\n",
       "      <td>...</td>\n",
       "      <td>...</td>\n",
       "      <td>...</td>\n",
       "      <td>...</td>\n",
       "      <td>...</td>\n",
       "    </tr>\n",
       "    <tr>\n",
       "      <th>(6, 2)</th>\n",
       "      <td>NaN</td>\n",
       "      <td>6</td>\n",
       "      <td>2</td>\n",
       "      <td>NaN</td>\n",
       "      <td>NaN</td>\n",
       "      <td>NaN</td>\n",
       "    </tr>\n",
       "    <tr>\n",
       "      <th>(6, 3)</th>\n",
       "      <td>NaN</td>\n",
       "      <td>6</td>\n",
       "      <td>3</td>\n",
       "      <td>NaN</td>\n",
       "      <td>NaN</td>\n",
       "      <td>NaN</td>\n",
       "    </tr>\n",
       "    <tr>\n",
       "      <th>(6, 4)</th>\n",
       "      <td>NaN</td>\n",
       "      <td>6</td>\n",
       "      <td>4</td>\n",
       "      <td>NaN</td>\n",
       "      <td>NaN</td>\n",
       "      <td>NaN</td>\n",
       "    </tr>\n",
       "    <tr>\n",
       "      <th>(6, 5)</th>\n",
       "      <td>NaN</td>\n",
       "      <td>6</td>\n",
       "      <td>5</td>\n",
       "      <td>NaN</td>\n",
       "      <td>NaN</td>\n",
       "      <td>NaN</td>\n",
       "    </tr>\n",
       "    <tr>\n",
       "      <th>(6, 6)</th>\n",
       "      <td>NaN</td>\n",
       "      <td>6</td>\n",
       "      <td>6</td>\n",
       "      <td>NaN</td>\n",
       "      <td>NaN</td>\n",
       "      <td>NaN</td>\n",
       "    </tr>\n",
       "  </tbody>\n",
       "</table>\n",
       "<p>36 rows × 6 columns</p>\n",
       "</div>"
      ],
      "text/plain": [
       "         sm  d1  d2  pd1  pd2    p\n",
       "(1, 1)  NaN   1   1  NaN  NaN  NaN\n",
       "(1, 2)  NaN   1   2  NaN  NaN  NaN\n",
       "(1, 3)  NaN   1   3  NaN  NaN  NaN\n",
       "(1, 4)  NaN   1   4  NaN  NaN  NaN\n",
       "(1, 5)  NaN   1   5  NaN  NaN  NaN\n",
       "...     ...  ..  ..  ...  ...  ...\n",
       "(6, 2)  NaN   6   2  NaN  NaN  NaN\n",
       "(6, 3)  NaN   6   3  NaN  NaN  NaN\n",
       "(6, 4)  NaN   6   4  NaN  NaN  NaN\n",
       "(6, 5)  NaN   6   5  NaN  NaN  NaN\n",
       "(6, 6)  NaN   6   6  NaN  NaN  NaN\n",
       "\n",
       "[36 rows x 6 columns]"
      ]
     },
     "execution_count": 72,
     "metadata": {},
     "output_type": "execute_result"
    }
   ],
   "source": [
    "d"
   ]
  },
  {
   "cell_type": "markdown",
   "metadata": {},
   "source": [
    " Next, we compute the sum of the dices in the `sm`\n",
    "column,"
   ]
  },
  {
   "cell_type": "code",
   "execution_count": null,
   "metadata": {},
   "outputs": [],
   "source": []
  },
  {
   "cell_type": "code",
   "execution_count": 73,
   "metadata": {},
   "outputs": [],
   "source": [
    "d.sm = d.d1+d.d2"
   ]
  },
  {
   "cell_type": "code",
   "execution_count": 74,
   "metadata": {},
   "outputs": [],
   "source": [
    "d.sm=list(map(sum,d.index))"
   ]
  },
  {
   "cell_type": "markdown",
   "metadata": {},
   "source": [
    " With that established, the DataFrame now looks like\n",
    "the following:"
   ]
  },
  {
   "cell_type": "code",
   "execution_count": 75,
   "metadata": {},
   "outputs": [
    {
     "data": {
      "text/html": [
       "<div>\n",
       "<style scoped>\n",
       "    .dataframe tbody tr th:only-of-type {\n",
       "        vertical-align: middle;\n",
       "    }\n",
       "\n",
       "    .dataframe tbody tr th {\n",
       "        vertical-align: top;\n",
       "    }\n",
       "\n",
       "    .dataframe thead th {\n",
       "        text-align: right;\n",
       "    }\n",
       "</style>\n",
       "<table border=\"1\" class=\"dataframe\">\n",
       "  <thead>\n",
       "    <tr style=\"text-align: right;\">\n",
       "      <th></th>\n",
       "      <th>sm</th>\n",
       "      <th>d1</th>\n",
       "      <th>d2</th>\n",
       "      <th>pd1</th>\n",
       "      <th>pd2</th>\n",
       "      <th>p</th>\n",
       "    </tr>\n",
       "  </thead>\n",
       "  <tbody>\n",
       "    <tr>\n",
       "      <th>(1, 1)</th>\n",
       "      <td>2</td>\n",
       "      <td>1</td>\n",
       "      <td>1</td>\n",
       "      <td>NaN</td>\n",
       "      <td>NaN</td>\n",
       "      <td>NaN</td>\n",
       "    </tr>\n",
       "    <tr>\n",
       "      <th>(1, 2)</th>\n",
       "      <td>3</td>\n",
       "      <td>1</td>\n",
       "      <td>2</td>\n",
       "      <td>NaN</td>\n",
       "      <td>NaN</td>\n",
       "      <td>NaN</td>\n",
       "    </tr>\n",
       "    <tr>\n",
       "      <th>(1, 3)</th>\n",
       "      <td>4</td>\n",
       "      <td>1</td>\n",
       "      <td>3</td>\n",
       "      <td>NaN</td>\n",
       "      <td>NaN</td>\n",
       "      <td>NaN</td>\n",
       "    </tr>\n",
       "    <tr>\n",
       "      <th>(1, 4)</th>\n",
       "      <td>5</td>\n",
       "      <td>1</td>\n",
       "      <td>4</td>\n",
       "      <td>NaN</td>\n",
       "      <td>NaN</td>\n",
       "      <td>NaN</td>\n",
       "    </tr>\n",
       "    <tr>\n",
       "      <th>(1, 5)</th>\n",
       "      <td>6</td>\n",
       "      <td>1</td>\n",
       "      <td>5</td>\n",
       "      <td>NaN</td>\n",
       "      <td>NaN</td>\n",
       "      <td>NaN</td>\n",
       "    </tr>\n",
       "    <tr>\n",
       "      <th>...</th>\n",
       "      <td>...</td>\n",
       "      <td>...</td>\n",
       "      <td>...</td>\n",
       "      <td>...</td>\n",
       "      <td>...</td>\n",
       "      <td>...</td>\n",
       "    </tr>\n",
       "    <tr>\n",
       "      <th>(6, 2)</th>\n",
       "      <td>8</td>\n",
       "      <td>6</td>\n",
       "      <td>2</td>\n",
       "      <td>NaN</td>\n",
       "      <td>NaN</td>\n",
       "      <td>NaN</td>\n",
       "    </tr>\n",
       "    <tr>\n",
       "      <th>(6, 3)</th>\n",
       "      <td>9</td>\n",
       "      <td>6</td>\n",
       "      <td>3</td>\n",
       "      <td>NaN</td>\n",
       "      <td>NaN</td>\n",
       "      <td>NaN</td>\n",
       "    </tr>\n",
       "    <tr>\n",
       "      <th>(6, 4)</th>\n",
       "      <td>10</td>\n",
       "      <td>6</td>\n",
       "      <td>4</td>\n",
       "      <td>NaN</td>\n",
       "      <td>NaN</td>\n",
       "      <td>NaN</td>\n",
       "    </tr>\n",
       "    <tr>\n",
       "      <th>(6, 5)</th>\n",
       "      <td>11</td>\n",
       "      <td>6</td>\n",
       "      <td>5</td>\n",
       "      <td>NaN</td>\n",
       "      <td>NaN</td>\n",
       "      <td>NaN</td>\n",
       "    </tr>\n",
       "    <tr>\n",
       "      <th>(6, 6)</th>\n",
       "      <td>12</td>\n",
       "      <td>6</td>\n",
       "      <td>6</td>\n",
       "      <td>NaN</td>\n",
       "      <td>NaN</td>\n",
       "      <td>NaN</td>\n",
       "    </tr>\n",
       "  </tbody>\n",
       "</table>\n",
       "<p>36 rows × 6 columns</p>\n",
       "</div>"
      ],
      "text/plain": [
       "        sm  d1  d2  pd1  pd2    p\n",
       "(1, 1)   2   1   1  NaN  NaN  NaN\n",
       "(1, 2)   3   1   2  NaN  NaN  NaN\n",
       "(1, 3)   4   1   3  NaN  NaN  NaN\n",
       "(1, 4)   5   1   4  NaN  NaN  NaN\n",
       "(1, 5)   6   1   5  NaN  NaN  NaN\n",
       "...     ..  ..  ..  ...  ...  ...\n",
       "(6, 2)   8   6   2  NaN  NaN  NaN\n",
       "(6, 3)   9   6   3  NaN  NaN  NaN\n",
       "(6, 4)  10   6   4  NaN  NaN  NaN\n",
       "(6, 5)  11   6   5  NaN  NaN  NaN\n",
       "(6, 6)  12   6   6  NaN  NaN  NaN\n",
       "\n",
       "[36 rows x 6 columns]"
      ]
     },
     "execution_count": 75,
     "metadata": {},
     "output_type": "execute_result"
    }
   ],
   "source": [
    "d"
   ]
  },
  {
   "cell_type": "markdown",
   "metadata": {},
   "source": [
    " Next, we fill out the probabilities for each face of the\n",
    "unfair die (`d1`) and the fair die (`d2`),"
   ]
  },
  {
   "cell_type": "code",
   "execution_count": 48,
   "metadata": {},
   "outputs": [
    {
     "data": {
      "text/plain": [
       "(1, 1)    NaN\n",
       "(1, 2)    NaN\n",
       "(1, 3)    NaN\n",
       "(1, 4)    NaN\n",
       "(1, 5)    NaN\n",
       "         ... \n",
       "(3, 2)    NaN\n",
       "(3, 3)    NaN\n",
       "(3, 4)    NaN\n",
       "(3, 5)    NaN\n",
       "(3, 6)    NaN\n",
       "Name: pd1, Length: 18, dtype: object"
      ]
     },
     "execution_count": 48,
     "metadata": {},
     "output_type": "execute_result"
    }
   ],
   "source": [
    "d.loc[d.d1<=3,'pd1']"
   ]
  },
  {
   "cell_type": "code",
   "execution_count": 76,
   "metadata": {},
   "outputs": [],
   "source": [
    "d.loc[d.d1<=3,'pd1'] = 1/9\n",
    "d.loc[d.d1 > 3,'pd1']= 2/9\n",
    "d.pd2=1/6."
   ]
  },
  {
   "cell_type": "code",
   "execution_count": 52,
   "metadata": {},
   "outputs": [
    {
     "data": {
      "text/html": [
       "<div>\n",
       "<style scoped>\n",
       "    .dataframe tbody tr th:only-of-type {\n",
       "        vertical-align: middle;\n",
       "    }\n",
       "\n",
       "    .dataframe tbody tr th {\n",
       "        vertical-align: top;\n",
       "    }\n",
       "\n",
       "    .dataframe thead th {\n",
       "        text-align: right;\n",
       "    }\n",
       "</style>\n",
       "<table border=\"1\" class=\"dataframe\">\n",
       "  <thead>\n",
       "    <tr style=\"text-align: right;\">\n",
       "      <th></th>\n",
       "      <th>sm</th>\n",
       "      <th>d1</th>\n",
       "      <th>d2</th>\n",
       "      <th>pd1</th>\n",
       "      <th>pd2</th>\n",
       "      <th>p</th>\n",
       "    </tr>\n",
       "  </thead>\n",
       "  <tbody>\n",
       "    <tr>\n",
       "      <th>(1, 1)</th>\n",
       "      <td>2</td>\n",
       "      <td>1</td>\n",
       "      <td>1</td>\n",
       "      <td>0.111111</td>\n",
       "      <td>0.166667</td>\n",
       "      <td>NaN</td>\n",
       "    </tr>\n",
       "    <tr>\n",
       "      <th>(1, 2)</th>\n",
       "      <td>3</td>\n",
       "      <td>1</td>\n",
       "      <td>2</td>\n",
       "      <td>0.111111</td>\n",
       "      <td>0.166667</td>\n",
       "      <td>NaN</td>\n",
       "    </tr>\n",
       "    <tr>\n",
       "      <th>(1, 3)</th>\n",
       "      <td>4</td>\n",
       "      <td>1</td>\n",
       "      <td>3</td>\n",
       "      <td>0.111111</td>\n",
       "      <td>0.166667</td>\n",
       "      <td>NaN</td>\n",
       "    </tr>\n",
       "    <tr>\n",
       "      <th>(1, 4)</th>\n",
       "      <td>5</td>\n",
       "      <td>1</td>\n",
       "      <td>4</td>\n",
       "      <td>0.111111</td>\n",
       "      <td>0.166667</td>\n",
       "      <td>NaN</td>\n",
       "    </tr>\n",
       "    <tr>\n",
       "      <th>(1, 5)</th>\n",
       "      <td>6</td>\n",
       "      <td>1</td>\n",
       "      <td>5</td>\n",
       "      <td>0.111111</td>\n",
       "      <td>0.166667</td>\n",
       "      <td>NaN</td>\n",
       "    </tr>\n",
       "    <tr>\n",
       "      <th>...</th>\n",
       "      <td>...</td>\n",
       "      <td>...</td>\n",
       "      <td>...</td>\n",
       "      <td>...</td>\n",
       "      <td>...</td>\n",
       "      <td>...</td>\n",
       "    </tr>\n",
       "    <tr>\n",
       "      <th>(6, 2)</th>\n",
       "      <td>8</td>\n",
       "      <td>6</td>\n",
       "      <td>2</td>\n",
       "      <td>0.222222</td>\n",
       "      <td>0.166667</td>\n",
       "      <td>NaN</td>\n",
       "    </tr>\n",
       "    <tr>\n",
       "      <th>(6, 3)</th>\n",
       "      <td>9</td>\n",
       "      <td>6</td>\n",
       "      <td>3</td>\n",
       "      <td>0.222222</td>\n",
       "      <td>0.166667</td>\n",
       "      <td>NaN</td>\n",
       "    </tr>\n",
       "    <tr>\n",
       "      <th>(6, 4)</th>\n",
       "      <td>10</td>\n",
       "      <td>6</td>\n",
       "      <td>4</td>\n",
       "      <td>0.222222</td>\n",
       "      <td>0.166667</td>\n",
       "      <td>NaN</td>\n",
       "    </tr>\n",
       "    <tr>\n",
       "      <th>(6, 5)</th>\n",
       "      <td>11</td>\n",
       "      <td>6</td>\n",
       "      <td>5</td>\n",
       "      <td>0.222222</td>\n",
       "      <td>0.166667</td>\n",
       "      <td>NaN</td>\n",
       "    </tr>\n",
       "    <tr>\n",
       "      <th>(6, 6)</th>\n",
       "      <td>12</td>\n",
       "      <td>6</td>\n",
       "      <td>6</td>\n",
       "      <td>0.222222</td>\n",
       "      <td>0.166667</td>\n",
       "      <td>NaN</td>\n",
       "    </tr>\n",
       "  </tbody>\n",
       "</table>\n",
       "<p>36 rows × 6 columns</p>\n",
       "</div>"
      ],
      "text/plain": [
       "        sm  d1  d2       pd1       pd2    p\n",
       "(1, 1)   2   1   1  0.111111  0.166667  NaN\n",
       "(1, 2)   3   1   2  0.111111  0.166667  NaN\n",
       "(1, 3)   4   1   3  0.111111  0.166667  NaN\n",
       "(1, 4)   5   1   4  0.111111  0.166667  NaN\n",
       "(1, 5)   6   1   5  0.111111  0.166667  NaN\n",
       "...     ..  ..  ..       ...       ...  ...\n",
       "(6, 2)   8   6   2  0.222222  0.166667  NaN\n",
       "(6, 3)   9   6   3  0.222222  0.166667  NaN\n",
       "(6, 4)  10   6   4  0.222222  0.166667  NaN\n",
       "(6, 5)  11   6   5  0.222222  0.166667  NaN\n",
       "(6, 6)  12   6   6  0.222222  0.166667  NaN\n",
       "\n",
       "[36 rows x 6 columns]"
      ]
     },
     "execution_count": 52,
     "metadata": {},
     "output_type": "execute_result"
    }
   ],
   "source": [
    "d"
   ]
  },
  {
   "cell_type": "markdown",
   "metadata": {},
   "source": [
    " Finally, we can compute the joint probabilities\n",
    "for the sum of the shown faces as the following:"
   ]
  },
  {
   "cell_type": "code",
   "execution_count": 77,
   "metadata": {},
   "outputs": [],
   "source": [
    "d.p = d.pd1 * d.pd2"
   ]
  },
  {
   "cell_type": "code",
   "execution_count": 78,
   "metadata": {},
   "outputs": [
    {
     "data": {
      "text/html": [
       "<div>\n",
       "<style scoped>\n",
       "    .dataframe tbody tr th:only-of-type {\n",
       "        vertical-align: middle;\n",
       "    }\n",
       "\n",
       "    .dataframe tbody tr th {\n",
       "        vertical-align: top;\n",
       "    }\n",
       "\n",
       "    .dataframe thead th {\n",
       "        text-align: right;\n",
       "    }\n",
       "</style>\n",
       "<table border=\"1\" class=\"dataframe\">\n",
       "  <thead>\n",
       "    <tr style=\"text-align: right;\">\n",
       "      <th></th>\n",
       "      <th>sm</th>\n",
       "      <th>d1</th>\n",
       "      <th>d2</th>\n",
       "      <th>pd1</th>\n",
       "      <th>pd2</th>\n",
       "      <th>p</th>\n",
       "    </tr>\n",
       "  </thead>\n",
       "  <tbody>\n",
       "    <tr>\n",
       "      <th>(1, 1)</th>\n",
       "      <td>2</td>\n",
       "      <td>1</td>\n",
       "      <td>1</td>\n",
       "      <td>0.111111</td>\n",
       "      <td>0.166667</td>\n",
       "      <td>0.0185185</td>\n",
       "    </tr>\n",
       "    <tr>\n",
       "      <th>(1, 2)</th>\n",
       "      <td>3</td>\n",
       "      <td>1</td>\n",
       "      <td>2</td>\n",
       "      <td>0.111111</td>\n",
       "      <td>0.166667</td>\n",
       "      <td>0.0185185</td>\n",
       "    </tr>\n",
       "    <tr>\n",
       "      <th>(1, 3)</th>\n",
       "      <td>4</td>\n",
       "      <td>1</td>\n",
       "      <td>3</td>\n",
       "      <td>0.111111</td>\n",
       "      <td>0.166667</td>\n",
       "      <td>0.0185185</td>\n",
       "    </tr>\n",
       "    <tr>\n",
       "      <th>(1, 4)</th>\n",
       "      <td>5</td>\n",
       "      <td>1</td>\n",
       "      <td>4</td>\n",
       "      <td>0.111111</td>\n",
       "      <td>0.166667</td>\n",
       "      <td>0.0185185</td>\n",
       "    </tr>\n",
       "    <tr>\n",
       "      <th>(1, 5)</th>\n",
       "      <td>6</td>\n",
       "      <td>1</td>\n",
       "      <td>5</td>\n",
       "      <td>0.111111</td>\n",
       "      <td>0.166667</td>\n",
       "      <td>0.0185185</td>\n",
       "    </tr>\n",
       "    <tr>\n",
       "      <th>...</th>\n",
       "      <td>...</td>\n",
       "      <td>...</td>\n",
       "      <td>...</td>\n",
       "      <td>...</td>\n",
       "      <td>...</td>\n",
       "      <td>...</td>\n",
       "    </tr>\n",
       "    <tr>\n",
       "      <th>(6, 2)</th>\n",
       "      <td>8</td>\n",
       "      <td>6</td>\n",
       "      <td>2</td>\n",
       "      <td>0.222222</td>\n",
       "      <td>0.166667</td>\n",
       "      <td>0.037037</td>\n",
       "    </tr>\n",
       "    <tr>\n",
       "      <th>(6, 3)</th>\n",
       "      <td>9</td>\n",
       "      <td>6</td>\n",
       "      <td>3</td>\n",
       "      <td>0.222222</td>\n",
       "      <td>0.166667</td>\n",
       "      <td>0.037037</td>\n",
       "    </tr>\n",
       "    <tr>\n",
       "      <th>(6, 4)</th>\n",
       "      <td>10</td>\n",
       "      <td>6</td>\n",
       "      <td>4</td>\n",
       "      <td>0.222222</td>\n",
       "      <td>0.166667</td>\n",
       "      <td>0.037037</td>\n",
       "    </tr>\n",
       "    <tr>\n",
       "      <th>(6, 5)</th>\n",
       "      <td>11</td>\n",
       "      <td>6</td>\n",
       "      <td>5</td>\n",
       "      <td>0.222222</td>\n",
       "      <td>0.166667</td>\n",
       "      <td>0.037037</td>\n",
       "    </tr>\n",
       "    <tr>\n",
       "      <th>(6, 6)</th>\n",
       "      <td>12</td>\n",
       "      <td>6</td>\n",
       "      <td>6</td>\n",
       "      <td>0.222222</td>\n",
       "      <td>0.166667</td>\n",
       "      <td>0.037037</td>\n",
       "    </tr>\n",
       "  </tbody>\n",
       "</table>\n",
       "<p>36 rows × 6 columns</p>\n",
       "</div>"
      ],
      "text/plain": [
       "        sm  d1  d2       pd1       pd2          p\n",
       "(1, 1)   2   1   1  0.111111  0.166667  0.0185185\n",
       "(1, 2)   3   1   2  0.111111  0.166667  0.0185185\n",
       "(1, 3)   4   1   3  0.111111  0.166667  0.0185185\n",
       "(1, 4)   5   1   4  0.111111  0.166667  0.0185185\n",
       "(1, 5)   6   1   5  0.111111  0.166667  0.0185185\n",
       "...     ..  ..  ..       ...       ...        ...\n",
       "(6, 2)   8   6   2  0.222222  0.166667   0.037037\n",
       "(6, 3)   9   6   3  0.222222  0.166667   0.037037\n",
       "(6, 4)  10   6   4  0.222222  0.166667   0.037037\n",
       "(6, 5)  11   6   5  0.222222  0.166667   0.037037\n",
       "(6, 6)  12   6   6  0.222222  0.166667   0.037037\n",
       "\n",
       "[36 rows x 6 columns]"
      ]
     },
     "execution_count": 78,
     "metadata": {},
     "output_type": "execute_result"
    }
   ],
   "source": [
    "d"
   ]
  },
  {
   "cell_type": "markdown",
   "metadata": {},
   "source": [
    " With all that established, we can compute the\n",
    "density of all the dice outcomes by using `groupby` as in the\n",
    "following,"
   ]
  },
  {
   "cell_type": "code",
   "execution_count": 56,
   "metadata": {},
   "outputs": [
    {
     "data": {
      "text/plain": [
       "sm\n",
       "2     0.018519\n",
       "3     0.037037\n",
       "4     0.055556\n",
       "5     0.092593\n",
       "6     0.129630\n",
       "        ...   \n",
       "8     0.148148\n",
       "9     0.129630\n",
       "10    0.111111\n",
       "11    0.074074\n",
       "12    0.037037\n",
       "Name: p, Length: 11, dtype: float64"
      ]
     },
     "execution_count": 56,
     "metadata": {},
     "output_type": "execute_result"
    }
   ],
   "source": [
    "d.groupby('sm')['p'].sum()"
   ]
  },
  {
   "cell_type": "code",
   "execution_count": 79,
   "metadata": {},
   "outputs": [
    {
     "data": {
      "text/plain": [
       "[<matplotlib.lines.Line2D at 0x11f7785f8>]"
      ]
     },
     "execution_count": 79,
     "metadata": {},
     "output_type": "execute_result"
    },
    {
     "data": {
      "image/png": "[encoded data removed]",
      "text/plain": [
       "<Figure size 432x288 with 1 Axes>"
      ]
     },
     "metadata": {},
     "output_type": "display_data"
    }
   ],
   "source": [
    "plt.plot(d.groupby('sm')['p'].sum(),'-o')\n",
    "plt.plot(np.asarray(X).T[0],np.asarray(X).T[1],'-^')"
   ]
  },
  {
   "cell_type": "markdown",
   "metadata": {},
   "source": [
    "  These examples have shown how the theory of probability\n",
    "breaks down sets and measurements of  those sets and how these can be\n",
    "combined to develop the probability mass functions for new random\n",
    "variables. \n",
    "\n",
    "## Continuous Random Variables\n",
    "\n",
    "**The same ideas work with continuous variables but managing the sets\n",
    "becomes trickier because the real line, unlike discrete sets, has many\n",
    "limiting properties already built into it that have to be handled\n",
    "carefully.**  \n",
    "\n",
    "Nonetheless, let's start with an example that should\n",
    "illustrate the analogous ideas. \n",
    "\n",
    "Suppose a random variable $X$ is\n",
    "uniformly distributed on the unit interval. What is the probability\n",
    "that the variable takes on values less than 1/2? \n",
    "\n",
    "In order to build intuition onto the discrete case, let's go back to our\n",
    "dice-throwing experiment with the fair dice. The **sum of the values of the dice\n",
    "is a measurable function,**"
   ]
  },
  {
   "cell_type": "markdown",
   "metadata": {},
   "source": [
    "$$\n",
    "Y \\colon \\lbrace 1,2,\\dots,6 \\rbrace^2 \\mapsto \\lbrace 2,3,\\ldots, 12 \\rbrace\n",
    "$$"
   ]
  },
  {
   "cell_type": "markdown",
   "metadata": {},
   "source": [
    " **That is, $Y$ is a mapping of the cartesian product of sets to a\n",
    "discrete set of outcomes.** \n",
    "\n",
    "In order to compute probabilities of the set of\n",
    "outcomes, we need to derive the probability measure for $Y$, $\\mathbb{P}_Y$,\n",
    "from the corresponding probability measures for each die. Our previous discussion\n",
    "went through the mechanics of that. This means that"
   ]
  },
  {
   "cell_type": "markdown",
   "metadata": {},
   "source": [
    "$$\n",
    "\\mathbb{P}_Y \\colon \\lbrace 2,3,\\ldots,12 \\rbrace \\mapsto [0,1]\n",
    "$$"
   ]
  },
  {
   "cell_type": "markdown",
   "metadata": {},
   "source": [
    " Note there is a separation between the function definition and where the\n",
    "target items of the function are measured in probability. \n",
    "\n",
    "More bluntly,"
   ]
  },
  {
   "cell_type": "markdown",
   "metadata": {},
   "source": [
    "$$\n",
    "Y \\colon A \\mapsto B\n",
    "$$"
   ]
  },
  {
   "cell_type": "markdown",
   "metadata": {},
   "source": [
    " with,"
   ]
  },
  {
   "cell_type": "markdown",
   "metadata": {},
   "source": [
    "$$\n",
    "\\mathbb{P}_Y \\colon B \\mapsto [0,1]\n",
    "$$"
   ]
  },
  {
   "cell_type": "markdown",
   "metadata": {},
   "source": [
    " **Thus, to compute $\\mathbb{P}_Y$, which is derived \n",
    "from other random variables, we have to express the equivalence classes\n",
    "in $B$ in terms of their progenitor $A$ sets.**\n",
    "\n",
    "The situation for continuous variables follows the same pattern, but\n",
    "with many more deep technicalities that we are going to skip. For the continuous\n",
    "case, the random variable is now,"
   ]
  },
  {
   "cell_type": "markdown",
   "metadata": {},
   "source": [
    "$$\n",
    "X \\colon \\mathbb{R} \\mapsto \\mathbb{R}\n",
    "$$"
   ]
  },
  {
   "cell_type": "markdown",
   "metadata": {},
   "source": [
    " with corresponding probability measure,"
   ]
  },
  {
   "cell_type": "markdown",
   "metadata": {},
   "source": [
    "$$\n",
    "\\mathbb{P}_X \\colon \\mathbb{R} \\mapsto [0,1]\n",
    "$$"
   ]
  },
  {
   "cell_type": "markdown",
   "metadata": {},
   "source": [
    "**But where are the corresponding sets here? Technically, these are the\n",
    "*Borel* sets, but we can just think of them as intervals.**\n",
    "\n",
    "Returning to our\n",
    "question, what is the probability that a uniformly distributed random variable\n",
    "on the unit interval takes values less than $1/2$? \n",
    "\n",
    "Rephrasing this question\n",
    "according to the framework, we have the following:"
   ]
  },
  {
   "cell_type": "markdown",
   "metadata": {},
   "source": [
    "$$\n",
    "X \\colon [0,1] \\mapsto [0,1]\n",
    "$$"
   ]
  },
  {
   "cell_type": "markdown",
   "metadata": {},
   "source": [
    " with corresponding,"
   ]
  },
  {
   "cell_type": "markdown",
   "metadata": {},
   "source": [
    "$$\n",
    "\\mathbb{P}_X \\colon [0,1] \\mapsto [0,1]\n",
    "$$"
   ]
  },
  {
   "cell_type": "markdown",
   "metadata": {},
   "source": [
    " **To answer the question,  by the definition of the uniform random\n",
    "variable on the unit interval, we compute the following integral,**"
   ]
  },
  {
   "cell_type": "markdown",
   "metadata": {},
   "source": [
    "$$\n",
    "\\mathbb{P}_X([0,1/2]) = \\mathbb{P}_X(0 < X < 1/2) =  \\int_0^{1/2} dx  = 1/2\n",
    "$$"
   ]
  },
  {
   "cell_type": "markdown",
   "metadata": {},
   "source": [
    "  where the above integral's $dx$ sweeps through intervals of the\n",
    "$B$-type. The measure of any $dx$ interval (i.e., $A$-type set) is equal to\n",
    "$dx$, by definition of the uniform random variable. To get all the moving parts\n",
    "into one notationally rich integral, we can also  write this  as,"
   ]
  },
  {
   "cell_type": "markdown",
   "metadata": {},
   "source": [
    "$$\n",
    "\\mathbb{P}_X(0 < X < 1/2) = \\int_0^{ 1/2 } d\\mathbb{P}_X(dx) = 1/2\n",
    "$$"
   ]
  },
  {
   "cell_type": "markdown",
   "metadata": {},
   "source": [
    "**Now, let's consider a slightly more complicated and interesting example. As\n",
    "before, suppose we have a uniform random variable, $X$ and let us introduce\n",
    "another random variable defined,**"
   ]
  },
  {
   "cell_type": "markdown",
   "metadata": {},
   "source": [
    "$$\n",
    "Y = 2 X\n",
    "$$"
   ]
  },
  {
   "cell_type": "markdown",
   "metadata": {},
   "source": [
    "Now, **what is the probability that $0 < Y < \\frac{1}{2}$?**\n",
    "\n",
    "\n",
    "To express this in our framework, we write,"
   ]
  },
  {
   "cell_type": "markdown",
   "metadata": {},
   "source": [
    "$$\n",
    "Y \\colon [0,1] \\mapsto [0,2]\n",
    "$$"
   ]
  },
  {
   "cell_type": "markdown",
   "metadata": {},
   "source": [
    " with corresponding,"
   ]
  },
  {
   "cell_type": "markdown",
   "metadata": {},
   "source": [
    "$$\n",
    "\\mathbb{P}_Y \\colon [0,2] \\mapsto [0,1]\n",
    "$$"
   ]
  },
  {
   "cell_type": "markdown",
   "metadata": {},
   "source": [
    " To answer the question, we need to measure the set $[0,1/2]$, with\n",
    "the probability measure for $Y$, $\\mathbb{P}_Y([0,1/2])$. \n",
    "\n",
    "How can we do this?\n",
    "\n",
    "Because $Y$ is derived from the $X$ random variable, as with the fair-dice\n",
    "throwing experiment, we have to create a set of equivalences in the target\n",
    "space (i.e., $B$-type sets) that reflect back on the input space (i.e.,\n",
    "$A$-type sets). \n",
    "\n",
    "**That is, what is the interval $[0,1/2]$ equivalent to in terms\n",
    "of the $X$ random variable?**\n",
    "\n",
    "Because, functionally, $Y=2 X$, then the $B$-type\n",
    "interval $[0,1/2]$ corresponds to the $A$-type interval $[0,1/4]$. \n",
    "\n",
    "From the\n",
    "probability measure of $X$, we compute this with the integral,"
   ]
  },
  {
   "cell_type": "markdown",
   "metadata": {},
   "source": [
    "$$\n",
    "\\mathbb{P}_Y([0,1/2]) =\\mathbb{P}_X([0,1/4])=  \\int_0^{1/4} dx  = 1/4\n",
    "$$"
   ]
  },
  {
   "cell_type": "markdown",
   "metadata": {},
   "source": [
    "Now, **let's up the ante and consider the following random variable,**"
   ]
  },
  {
   "cell_type": "markdown",
   "metadata": {},
   "source": [
    "$$\n",
    "Y = X^2\n",
    "$$"
   ]
  },
  {
   "cell_type": "markdown",
   "metadata": {},
   "source": [
    " where now $X$ is still uniformly distributed, but now over the\n",
    "interval $[-1/2,1/2]$.  \n",
    "\n",
    "We can express this in our framework as,"
   ]
  },
  {
   "cell_type": "markdown",
   "metadata": {},
   "source": [
    "$$\n",
    "Y \\colon [-1/2,1/2] \\mapsto [0,1/4]\n",
    "$$"
   ]
  },
  {
   "cell_type": "markdown",
   "metadata": {},
   "source": [
    " with corresponding,"
   ]
  },
  {
   "cell_type": "markdown",
   "metadata": {},
   "source": [
    "$$\n",
    "\\mathbb{P}_Y \\colon [0,1/4] \\mapsto [0,1]\n",
    "$$"
   ]
  },
  {
   "cell_type": "markdown",
   "metadata": {},
   "source": [
    " What is the $\\mathbb{P}_Y(Y < 1/8)$?  In other words, what is the\n",
    "measure of the set $B_Y= [0,1/8]$? \n",
    "\n",
    "\n",
    "As before, because $X$ is derived from our\n",
    "uniformly distributed random variable, we have to reflect the $B_Y$ set onto\n",
    "sets of the $A$-type.  \n",
    "\n",
    "\n",
    "**The thing to recognize is that because $X^2$\n",
    "is symmetric about zero, all $B_Y$ sets reflect back into two sets.**\n",
    "\n",
    "\n",
    "**This means that for any set $B_Y$, we have the correspondence $B_Y = A_X^+ \\cup\n",
    "A_X^{-}$.  So, we have,**"
   ]
  },
  {
   "cell_type": "markdown",
   "metadata": {},
   "source": [
    "$$\n",
    "B_Y=\\Big\\lbrace 0<Y<\\frac{1}{8}\\Big\\rbrace=\\Big\\lbrace 0<X<\\frac{1}{\\sqrt{8}} \\Big\\rbrace \\bigcup \\Big\\lbrace -\\frac{1}{\\sqrt {8}}<X<0 \\Big\\rbrace\n",
    "$$"
   ]
  },
  {
   "cell_type": "markdown",
   "metadata": {},
   "source": [
    "  From this perspective, we have the following solution,"
   ]
  },
  {
   "cell_type": "markdown",
   "metadata": {},
   "source": [
    "$$\n",
    "\\mathbb{P}_Y(B_Y)=\\mathbb{P}(A_X^+)/2 + \\mathbb{P}(A_X^{-})/2\n",
    "$$"
   ]
  },
  {
   "cell_type": "markdown",
   "metadata": {},
   "source": [
    "  where the $\\frac{1}{2}$ comes from normalizing the $\\mathbb{P}_Y$ to\n",
    "one. Also,"
   ]
  },
  {
   "cell_type": "markdown",
   "metadata": {},
   "source": [
    "$$\n",
    "A_X^+    = \\Big\\lbrace 0<  X<\\frac{1}{\\sqrt{8}}   \\Big\\rbrace\n",
    "$$"
   ]
  },
  {
   "cell_type": "markdown",
   "metadata": {},
   "source": [
    "$$\n",
    "\\\n",
    "A_X^{-}  = \\Big\\lbrace -\\frac{1}{\\sqrt {8}} <  X<0 \\Big\\rbrace\n",
    "$$"
   ]
  },
  {
   "cell_type": "markdown",
   "metadata": {},
   "source": [
    "  Therefore,"
   ]
  },
  {
   "cell_type": "markdown",
   "metadata": {},
   "source": [
    "$$\n",
    "\\mathbb{P}_Y(B_Y) = \\frac{1}{2\\sqrt 8} + \\frac{1}{2\\sqrt 8}\n",
    "$$"
   ]
  },
  {
   "cell_type": "markdown",
   "metadata": {},
   "source": [
    "  because $\\mathbb{P}(A_X^+) =\\mathbb{P}(A_X^-) = 1/\\sqrt 8$.  \n",
    "  \n",
    "  \n",
    "  Let's\n",
    "see if this comes out using the usual transformation of variables method from\n",
    "calculus. Using this method, the density \n",
    "\n",
    "$f_Y(y) dy = f_X(x)dx$,\n",
    "\n",
    "$f_Y(y) = f_X(x)\\frac{dx}{dy}\\big|_{x\\to y}$,\n",
    "\n",
    "$y = x^2$\n",
    "\n",
    "$x = y^{1/2}$\n",
    "\n",
    "$\\frac{dx}{dy} = \\frac{1}{2 y^{1/2}}$\n",
    "\n",
    "$f_Y(y) = f_X(\\sqrt y)/(2 \\sqrt y) =\n",
    "\\frac{1}{2 \\sqrt y} $. Then, we obtain,\n"
   ]
  },
  {
   "cell_type": "markdown",
   "metadata": {},
   "source": [
    "$$\n",
    "\\int_0^{\\frac{1}{8}} \\frac{1}{2 \\sqrt y} dy = \\frac{1}{\\sqrt 8}\n",
    "$$"
   ]
  },
  {
   "cell_type": "markdown",
   "metadata": {},
   "source": [
    "  which is what we got using the sets method. \n",
    "  \n",
    "  **Note that you would\n",
    "favor the calculus method in practice, but it is important to\n",
    "understand the deeper mechanics, because sometimes\n",
    "the usual calculus method fails, as the next problem shows.**\n",
    "\n",
    "## Transformation of Variables Beyond Calculus\n",
    "\n",
    "Suppose $X$ and $Y$ are uniformly distributed in the unit interval and we\n",
    "define $Z$ as"
   ]
  },
  {
   "cell_type": "markdown",
   "metadata": {},
   "source": [
    "$$\n",
    "Z = \\frac{X}{Y-X}\n",
    "$$"
   ]
  },
  {
   "cell_type": "markdown",
   "metadata": {},
   "source": [
    "  What is the $f_Z(z)$? If you try this using the usual calculus\n",
    "method, you will fail (try it!). \n",
    "\n",
    "The problem is one of the technical prerequisites for the calculus method is not in force.\n",
    "\n",
    "The key observation is that $Z \\notin [-1,0]$.\n",
    "\n",
    "**Both $X$ and $Y$ are positives.**\n",
    "\n",
    "- **Assuming $Y>X$, so $Y-X>0$, and so $Z>0$;**\n",
    "- **Assuming $Y<X$, so $Y-X<0$, and so $Z<-1$.**\n",
    "\n",
    "If this were possible, the $X$ and $Y$ would have different signs, which cannot happen,\n",
    "given that $X$ and $Y$ are uniformly distributed over $[0,1]$. \n",
    "\n",
    "Now, let's consider when $Z>0$. In this case, $Y>X$ because $Z$ cannot be positive\n",
    "otherwise. \n",
    "\n",
    "For the density function, we are interested in the set  $\\lbrace  0 < Z < z \\rbrace $. We want to compute"
   ]
  },
  {
   "cell_type": "markdown",
   "metadata": {},
   "source": [
    "$$\n",
    "\\mathbb{P}(Z<z) = \\int \\int B_1 dX dY\n",
    "$$"
   ]
  },
  {
   "cell_type": "markdown",
   "metadata": {},
   "source": [
    " with,"
   ]
  },
  {
   "cell_type": "markdown",
   "metadata": {},
   "source": [
    "$$\n",
    "B_1 = \\lbrace 0 < Z < z \\rbrace\n",
    "$$"
   ]
  },
  {
   "cell_type": "markdown",
   "metadata": {},
   "source": [
    "  Now, we have to translate that interval into an interval\n",
    "relevant to $X$ and $Y$. \n",
    "\n",
    "- For $0 < Z$, we have $ Y > X$. \n",
    "\n",
    "- For $Z < z $, we have $\\frac{X}{Y-X}<z \\implies\n",
    "Y > X(1/z+1)$. \n",
    "\n",
    "Putting this together gives"
   ]
  },
  {
   "cell_type": "markdown",
   "metadata": {},
   "source": [
    "$$\n",
    "A_1 = \\lbrace \\max (X,X(1/z+1)) < Y < 1 \\rbrace\n",
    "$$"
   ]
  },
  {
   "cell_type": "markdown",
   "metadata": {},
   "source": [
    "  Integrating this over $Y$ as follows,"
   ]
  },
  {
   "cell_type": "markdown",
   "metadata": {},
   "source": [
    "$$\n",
    "\\int_0^1\\lbrace\\max(X,X(1/z+1))<Y<1 \\rbrace dY = 1 - \\max(X,X(1/z+1)) =\\\\\n",
    "1 -X(1/z+1) =\\frac{z-X-Xz}{z}\\\\\\mbox{ where } z > \\frac{X}{1-X}\n",
    "$$"
   ]
  },
  {
   "cell_type": "markdown",
   "metadata": {},
   "source": [
    "Notice that\n",
    "\n",
    "$\\max(X,X(1/z+1))$ with $z=\\frac{X}{1-X}$ is $\\max(X,X)=X$.\n",
    "\n",
    "otherwise $\\max(X,X(1/z+1)) = X(1/z+1)$ for $z > \\frac{X}{1-X}$. \n",
    "\n",
    "Solving for $X$, we have\n",
    "\n",
    "$ X < \\frac{Z}{1+Z}$,\n"
   ]
  },
  {
   "cell_type": "markdown",
   "metadata": {},
   "source": [
    " and integrating this one more time over $X$ gives"
   ]
  },
  {
   "cell_type": "markdown",
   "metadata": {},
   "source": [
    "$$\n",
    "\\int_0^{\\frac{z}{1+z}} \\frac{-X+z-Xz}{z} dX = \\frac{z}{2(z+1)} \\mbox{ where }  z > 0\n",
    "$$"
   ]
  },
  {
   "cell_type": "markdown",
   "metadata": {},
   "source": [
    " Note that this is the computation for the *probability*\n",
    "itself, not the probability density function. To get that, all we have\n",
    "to do is differentiate $\\left(f_Z(z)=\\frac{d P(Z<z)}{dz}\\right)$ the last expression to obtain"
   ]
  },
  {
   "cell_type": "markdown",
   "metadata": {},
   "source": [
    "$$\n",
    "f_Z(z) = \\frac{1}{(z+1)^2} \\mbox{ where }  z > 0\n",
    "$$"
   ]
  },
  {
   "cell_type": "markdown",
   "metadata": {},
   "source": [
    " Now we need to compute this density using the same process\n",
    "for when $Z < -1$. \n",
    "\n",
    "We want  the interval $ Z < z $ for when $Z < -1$.\n",
    "\n",
    "For a fixed $z$, this is equivalent to $\\frac{X}{Y-X}<z \\implies X(1+1/z) < Y$. \n",
    "\n",
    "Because $z$ is negative (and $z<-1$), this also means that \n",
    "\n",
    "$(1+1/z) > 0 \\implies X < Y \\implies Y > X$. \n",
    "\n",
    "Under these terms, we\n",
    "have the following integral,"
   ]
  },
  {
   "cell_type": "markdown",
   "metadata": {},
   "source": [
    "$$\n",
    "\\int_0^1 \\lbrace X(1/z+1) <Y< X\\rbrace dY = X - X(1/z+1)\\\\\n",
    "-\\frac{X}{z} \\mbox{ where }  z < -1\n",
    "$$"
   ]
  },
  {
   "cell_type": "markdown",
   "metadata": {},
   "source": [
    " and integrating this one more time over $X$ gives the following"
   ]
  },
  {
   "cell_type": "markdown",
   "metadata": {},
   "source": [
    "$$\n",
    "-\\frac{1}{2 z} \\mbox{ where }  z < -1\n",
    "$$"
   ]
  },
  {
   "cell_type": "markdown",
   "metadata": {},
   "source": [
    " To get the density for $z<-1$, we differentiate this with\n",
    "respect to $z$ to obtain the following,"
   ]
  },
  {
   "cell_type": "markdown",
   "metadata": {},
   "source": [
    "$$\n",
    "f_Z(z) = \\frac{1}{2 z^2} \\mbox{ where }  z < -1\n",
    "$$"
   ]
  },
  {
   "cell_type": "markdown",
   "metadata": {},
   "source": [
    " Putting this all together, we obtain,"
   ]
  },
  {
   "cell_type": "markdown",
   "metadata": {},
   "source": [
    "$$\n",
    "f_Z(z) = \n",
    "\\begin{cases}\n",
    "      \\frac{1}{(z+1)^2}     & \\mbox{if }  z > 0 \\\\\\\n",
    "      \\frac{1}{2 z^2}       & \\mbox{if }  z < -1 \\\\\\\n",
    "      0 & \\mbox{otherwise }\n",
    "\\end{cases}\n",
    "$$"
   ]
  },
  {
   "cell_type": "markdown",
   "metadata": {},
   "source": [
    "  We will leave it as an exercise to show that this\n",
    "integrates out to one. But let's try to simulate this process."
   ]
  },
  {
   "cell_type": "code",
   "execution_count": 91,
   "metadata": {},
   "outputs": [],
   "source": [
    "import sympy as sym"
   ]
  },
  {
   "cell_type": "code",
   "execution_count": 92,
   "metadata": {},
   "outputs": [],
   "source": [
    "z = sym.Symbol('z')"
   ]
  },
  {
   "cell_type": "code",
   "execution_count": 93,
   "metadata": {},
   "outputs": [
    {
     "data": {
      "text/plain": [
       "1"
      ]
     },
     "execution_count": 93,
     "metadata": {},
     "output_type": "execute_result"
    }
   ],
   "source": [
    "sym.integrate(1/(z+1)**2,(z,0,sym.oo))"
   ]
  },
  {
   "cell_type": "code",
   "execution_count": 94,
   "metadata": {},
   "outputs": [
    {
     "data": {
      "text/plain": [
       "1"
      ]
     },
     "execution_count": 94,
     "metadata": {},
     "output_type": "execute_result"
    }
   ],
   "source": [
    "sym.integrate(1/(z)**2,(z,-sym.oo,-1))"
   ]
  },
  {
   "cell_type": "markdown",
   "metadata": {},
   "source": [
    "We need to divide by 2!"
   ]
  },
  {
   "cell_type": "markdown",
   "metadata": {},
   "source": [
    "$$\n",
    "f_Z(z) = \n",
    "\\begin{cases}\n",
    "      \\frac{1}{2(z+1)^2}     & \\mbox{if }  z > 0 \\\\\\\n",
    "      \\frac{1}{4 z^2}       & \\mbox{if }  z < -1 \\\\\\\n",
    "      0 & \\mbox{otherwise }\n",
    "\\end{cases}\n",
    "$$"
   ]
  },
  {
   "cell_type": "code",
   "execution_count": 96,
   "metadata": {},
   "outputs": [
    {
     "data": {
      "text/plain": [
       "[<matplotlib.lines.Line2D at 0xb21d9a748>]"
      ]
     },
     "execution_count": 96,
     "metadata": {},
     "output_type": "execute_result"
    },
    {
     "data": {
      "image/png": "[encoded data removed]",
      "text/plain": [
       "<Figure size 432x288 with 1 Axes>"
      ]
     },
     "metadata": {},
     "output_type": "display_data"
    }
   ],
   "source": [
    "z0 = np.linspace(0,10)\n",
    "zn = np.linspace(-10,-1)\n",
    "zo = np.linspace(-1,0)\n",
    "\n",
    "plt.plot(z0,(1/2)/(z0+1)**2)\n",
    "plt.plot(zn,(1/2)/(zn)**2)\n",
    "plt.plot(zo,0*zo)"
   ]
  },
  {
   "cell_type": "code",
   "execution_count": 97,
   "metadata": {},
   "outputs": [],
   "source": [
    "X = np.random.rand(1000)\n",
    "Y = np.random.rand(1000)\n",
    "Z = X/(Y-X)"
   ]
  },
  {
   "cell_type": "code",
   "execution_count": 101,
   "metadata": {},
   "outputs": [
    {
     "data": {
      "text/plain": [
       "[<matplotlib.lines.Line2D at 0xb220935c0>]"
      ]
     },
     "execution_count": 101,
     "metadata": {},
     "output_type": "execute_result"
    },
    {
     "data": {
      "image/png": "[encoded data removed]",
      "text/plain": [
       "<Figure size 432x288 with 1 Axes>"
      ]
     },
     "metadata": {},
     "output_type": "display_data"
    }
   ],
   "source": [
    "plt.plot(Z,'o')"
   ]
  },
  {
   "cell_type": "code",
   "execution_count": 99,
   "metadata": {},
   "outputs": [
    {
     "data": {
      "text/plain": [
       "(-2, 1)"
      ]
     },
     "execution_count": 99,
     "metadata": {},
     "output_type": "execute_result"
    },
    {
     "data": {
      "image/png": "[encoded data removed]",
      "text/plain": [
       "<Figure size 432x288 with 1 Axes>"
      ]
     },
     "metadata": {},
     "output_type": "display_data"
    }
   ],
   "source": [
    "plt.plot(Z,'o')\n",
    "plt.ylim(-2,1)"
   ]
  },
  {
   "cell_type": "code",
   "execution_count": 109,
   "metadata": {},
   "outputs": [],
   "source": [
    "X = np.random.rand(10000)\n",
    "Y = np.random.rand(10000)\n",
    "Z = X/(Y-X)"
   ]
  },
  {
   "cell_type": "code",
   "execution_count": 110,
   "metadata": {},
   "outputs": [
    {
     "data": {
      "text/plain": [
       "[<matplotlib.lines.Line2D at 0xb22560208>]"
      ]
     },
     "execution_count": 110,
     "metadata": {},
     "output_type": "execute_result"
    },
    {
     "data": {
      "image/png": "[encoded data removed]",
      "text/plain": [
       "<Figure size 432x288 with 1 Axes>"
      ]
     },
     "metadata": {},
     "output_type": "display_data"
    }
   ],
   "source": [
    "bins = np.logspace(-2,1)\n",
    "_, _, _, = plt.hist(Z[Z>0],bins=bins,density=True)\n",
    "plt.plot(z0,(1)/(z0+1)**2)"
   ]
  },
  {
   "cell_type": "code",
   "execution_count": 112,
   "metadata": {},
   "outputs": [
    {
     "data": {
      "text/plain": [
       "array([ -1.        ,  -1.04811313,  -1.09854114,  -1.1513954 ,\n",
       "        -1.20679264,  -1.26485522,  -1.32571137,  -1.38949549,\n",
       "        -1.45634848,  -1.52641797,  -1.59985872,  -1.67683294,\n",
       "        -1.75751062,  -1.84206997,  -1.93069773,  -2.02358965,\n",
       "        -2.12095089,  -2.22299648,  -2.32995181,  -2.44205309,\n",
       "        -2.55954792,  -2.6826958 ,  -2.8117687 ,  -2.9470517 ,\n",
       "        -3.0888436 ,  -3.23745754,  -3.39322177,  -3.55648031,\n",
       "        -3.72759372,  -3.90693994,  -4.09491506,  -4.29193426,\n",
       "        -4.49843267,  -4.71486636,  -4.94171336,  -5.17947468,\n",
       "        -5.42867544,  -5.68986603,  -5.96362332,  -6.25055193,\n",
       "        -6.55128557,  -6.86648845,  -7.19685673,  -7.54312006,\n",
       "        -7.90604321,  -8.28642773,  -8.68511374,  -9.10298178,\n",
       "        -9.54095476, -10.        ])"
      ]
     },
     "execution_count": 112,
     "metadata": {},
     "output_type": "execute_result"
    }
   ],
   "source": [
    "-np.logspace(0,1)"
   ]
  },
  {
   "cell_type": "code",
   "execution_count": 113,
   "metadata": {},
   "outputs": [
    {
     "data": {
      "text/plain": [
       "array([-10.        ,  -9.54095476,  -9.10298178,  -8.68511374,\n",
       "        -8.28642773,  -7.90604321,  -7.54312006,  -7.19685673,\n",
       "        -6.86648845,  -6.55128557,  -6.25055193,  -5.96362332,\n",
       "        -5.68986603,  -5.42867544,  -5.17947468,  -4.94171336,\n",
       "        -4.71486636,  -4.49843267,  -4.29193426,  -4.09491506,\n",
       "        -3.90693994,  -3.72759372,  -3.55648031,  -3.39322177,\n",
       "        -3.23745754,  -3.0888436 ,  -2.9470517 ,  -2.8117687 ,\n",
       "        -2.6826958 ,  -2.55954792,  -2.44205309,  -2.32995181,\n",
       "        -2.22299648,  -2.12095089,  -2.02358965,  -1.93069773,\n",
       "        -1.84206997,  -1.75751062,  -1.67683294,  -1.59985872,\n",
       "        -1.52641797,  -1.45634848,  -1.38949549,  -1.32571137,\n",
       "        -1.26485522,  -1.20679264,  -1.1513954 ,  -1.09854114,\n",
       "        -1.04811313,  -1.        ])"
      ]
     },
     "execution_count": 113,
     "metadata": {},
     "output_type": "execute_result"
    }
   ],
   "source": [
    "-np.logspace(0,1)[::-1]"
   ]
  },
  {
   "cell_type": "code",
   "execution_count": 114,
   "metadata": {},
   "outputs": [
    {
     "data": {
      "text/plain": [
       "[<matplotlib.lines.Line2D at 0xb235739e8>]"
      ]
     },
     "execution_count": 114,
     "metadata": {},
     "output_type": "execute_result"
    },
    {
     "data": {
      "image/png": "[encoded data removed]",
      "text/plain": [
       "<Figure size 432x288 with 1 Axes>"
      ]
     },
     "metadata": {},
     "output_type": "display_data"
    }
   ],
   "source": [
    "bins = -np.logspace(0,1)[::-1]\n",
    "_, _, _, = plt.hist(Z[Z<-1],bins=bins,density=True)\n",
    "plt.plot(zn,(1)/(zn)**2)"
   ]
  },
  {
   "cell_type": "markdown",
   "metadata": {},
   "source": [
    "## Independent Random Variables\n",
    "\n",
    "Independence is a standard assumption. Mathematically, the\n",
    "necessary and sufficient condition for independence between two\n",
    "random variables $X$  and $Y$ is the following:"
   ]
  },
  {
   "cell_type": "markdown",
   "metadata": {},
   "source": [
    "$$\n",
    "\\mathbb{P}(X,Y) = \\mathbb{P}(X)\\mathbb{P}(Y)\n",
    "$$"
   ]
  },
  {
   "cell_type": "markdown",
   "metadata": {},
   "source": [
    " Two random variables $X$  and $Y$ \n",
    "are *uncorrelated* if,"
   ]
  },
  {
   "cell_type": "markdown",
   "metadata": {},
   "source": [
    "$$\n",
    "\\mathbb{E}[(X-\\overline{X})(Y-\\overline{Y})]=0\n",
    "$$"
   ]
  },
  {
   "cell_type": "markdown",
   "metadata": {},
   "source": [
    " where $\\overline{X}=\\mathbb{E}(X)$. A similar condition is that $X$ and $Y$ are uncorrelated when their correlation coefficient is zero:\n",
    " \n",
    "$$\\rho(X,Y) = \\frac{Cov[X,Y]}{\\sqrt{Var[X]Var[Y]}} = 0\n",
    "$$\n",
    "\n",
    "where $Cov[X,Y] = \\mathbb{E}[XY] - \\mathbb{E}[X]\\mathbb{E}[Y]$ is convariance between $X$ and $Y$. \n",
    "\n",
    "Notice that $Cov[X,Y] = \\mathbb{E}[(X-\\overline{X})(Y-\\overline{Y})]$. \n",
    "\n",
    "Notice also that $Cov[X,Y] = 0$ implies $\\mathbb{E}[XY] = \\mathbb{E}[X]\\mathbb{E}[Y]$, so that independence implies uncorrelation.\n",
    "\n",
    "**Uncorrelated random variables are sometimes called *orthogonal* random variables.**"
   ]
  },
  {
   "cell_type": "markdown",
   "metadata": {},
   "source": [
    "**Uncorrelatedness is a weaker property than independence, however**. For example, consider the\n",
    "discrete random variables $X$ and $Y$ uniformly distributed over the set\n",
    "$\\lbrace 1,2,3 \\rbrace$ where"
   ]
  },
  {
   "cell_type": "markdown",
   "metadata": {},
   "source": [
    "$$\n",
    "X =  \n",
    "\\begin{cases} \n",
    "1 & \\mbox{if } \\omega =1 \\\\\\\n",
    "0 & \\mbox{if } \\omega =2  \\\\\\\n",
    "-1 & \\mbox{if } \\omega =3\n",
    "\\end{cases}\n",
    "$$"
   ]
  },
  {
   "cell_type": "markdown",
   "metadata": {},
   "source": [
    " and also,"
   ]
  },
  {
   "cell_type": "markdown",
   "metadata": {},
   "source": [
    "$$\n",
    "Y =  \n",
    "\\begin{cases} \n",
    "0 & \\mbox{if } \\omega =1 \\\\\\\n",
    "1 & \\mbox{if } \\omega =2 \\\\\\\n",
    "0 & \\mbox{if } \\omega =3\n",
    "\\end{cases}\n",
    "$$"
   ]
  },
  {
   "cell_type": "markdown",
   "metadata": {},
   "source": [
    " Thus, $\\mathbb{E}(X)=0$ and $\\mathbb{E}(X Y)=0$, so $X$ and $Y$ are uncorrelated. However, we have"
   ]
  },
  {
   "cell_type": "markdown",
   "metadata": {},
   "source": [
    "$$\n",
    "\\mathbb{P}(X=1,Y=1)=0\\neq \\mathbb{P}(X=1)\\mathbb{P}(Y=1)=\\frac{1}{9}\n",
    "$$"
   ]
  },
  {
   "cell_type": "markdown",
   "metadata": {},
   "source": [
    "So, these two random variables are *not* independent.\n",
    "**Thus, uncorrelatedness does not imply independence, generally. **\n",
    "\n",
    "But\n",
    "there is the important case of Gaussian random variables for which\n",
    "it does. To see this, consider the probability density function\n",
    "for two zero-mean, unit-variance Gaussian random variables $X$ and\n",
    "$Y$,"
   ]
  },
  {
   "cell_type": "markdown",
   "metadata": {},
   "source": [
    "$$\n",
    "f_{X,Y}(x,y) = \\frac{e^{\\frac{x^2-2 \\rho x\n",
    "   y+y^2}{2 \\left(\\rho^2-1\\right)}}}{2 \\pi \n",
    "   \\sqrt{1-\\rho^2}}\n",
    "$$"
   ]
  },
  {
   "cell_type": "code",
   "execution_count": 4,
   "metadata": {
    "ExecuteTime": {
     "end_time": "2018-09-11T16:58:23.674401Z",
     "start_time": "2018-09-11T16:58:23.667424Z"
    }
   },
   "outputs": [],
   "source": [
    "def plot_dg(rho=1e-16):\n",
    "    x, y = np.meshgrid(np.linspace(-3,3),np.linspace(-3,3))\n",
    "    z = np.exp((x**2 + y**2 - 2*rho*x*y)/(2*(rho**2-1)))/(2*np.pi*np.sqrt(1-rho**2))\n",
    "    f, ax = plt.subplots()\n",
    "    ax.contourf(x,y,z,cmap='viridis')\n",
    "    ax.set_aspect('equal')"
   ]
  },
  {
   "cell_type": "code",
   "execution_count": 5,
   "metadata": {
    "ExecuteTime": {
     "end_time": "2018-09-11T16:58:24.408058Z",
     "start_time": "2018-09-11T16:58:24.279343Z"
    }
   },
   "outputs": [
    {
     "data": {
      "image/png": "[encoded data removed]",
      "text/plain": [
       "<Figure size 432x288 with 1 Axes>"
      ]
     },
     "metadata": {},
     "output_type": "display_data"
    }
   ],
   "source": [
    "plot_dg()"
   ]
  },
  {
   "cell_type": "code",
   "execution_count": 6,
   "metadata": {
    "ExecuteTime": {
     "end_time": "2018-09-11T16:58:25.627258Z",
     "start_time": "2018-09-11T16:58:25.477444Z"
    }
   },
   "outputs": [
    {
     "data": {
      "image/png": "[encoded data removed]",
      "text/plain": [
       "<Figure size 432x288 with 1 Axes>"
      ]
     },
     "metadata": {},
     "output_type": "display_data"
    }
   ],
   "source": [
    "plot_dg(0.9)"
   ]
  },
  {
   "cell_type": "code",
   "execution_count": 7,
   "metadata": {
    "ExecuteTime": {
     "end_time": "2018-09-11T16:58:26.994259Z",
     "start_time": "2018-09-11T16:58:26.989816Z"
    }
   },
   "outputs": [],
   "source": [
    "from ipywidgets import interact\n",
    "import ipywidgets as widgets"
   ]
  },
  {
   "cell_type": "code",
   "execution_count": 13,
   "metadata": {
    "ExecuteTime": {
     "end_time": "2018-09-11T16:59:38.262444Z",
     "start_time": "2018-09-11T16:59:38.089083Z"
    }
   },
   "outputs": [
    {
     "data": {
      "application/vnd.jupyter.widget-view+json": {
       "model_id": "faadd8f1b84c4f48b2df47889c7873d5",
       "version_major": 2,
       "version_minor": 0
      },
      "text/plain": [
       "interactive(children=(FloatSlider(value=1e-16, description='rho', max=0.99, min=1e-16, step=0.05), Output()), …"
      ]
     },
     "metadata": {},
     "output_type": "display_data"
    },
    {
     "data": {
      "text/plain": [
       "<function __main__.plot_dg(rho=1e-16)>"
      ]
     },
     "execution_count": 13,
     "metadata": {},
     "output_type": "execute_result"
    }
   ],
   "source": [
    "interact(plot_dg,rho=(1e-16,0.99,0.05))"
   ]
  },
  {
   "cell_type": "markdown",
   "metadata": {},
   "source": [
    " where $\\rho:=\\mathbb{E}(X Y)$  is the correlation coefficient.  In\n",
    "the uncorrelated case where $\\rho=0$, the probability density function factors\n",
    "into the following,"
   ]
  },
  {
   "cell_type": "markdown",
   "metadata": {},
   "source": [
    "$$\n",
    "f_{X,Y}(x,y)=\\frac{e^{-\\frac{1}{2}\\left(x^2+y^2\\right)}}{2\\pi}=\\frac{e^{-\\frac{x^2}{2}}}{\\sqrt{2\\pi}}\\frac{e^{-\\frac{y^2}{2}}}{\\sqrt{2\\pi}}    =f_X(x)f_Y(y)\n",
    "$$"
   ]
  },
  {
   "cell_type": "markdown",
   "metadata": {},
   "source": [
    " which means that $X$ and $Y$ are independent.\n",
    "\n",
    "Independence and conditional independence are closely related, as in the following:"
   ]
  },
  {
   "cell_type": "markdown",
   "metadata": {},
   "source": [
    "$$\n",
    "\\mathbb{P}(X,Y\\vert Z) =\\mathbb{P}(X\\vert Z) \\mathbb{P}(Y\\vert Z)\n",
    "$$"
   ]
  },
  {
   "cell_type": "markdown",
   "metadata": {},
   "source": [
    " which says that $X$ and $Y$ and independent conditioned\n",
    "on $Z$. \n",
    "\n",
    "**Conditioning independent random variables can break\n",
    "their independence.** \n",
    "\n",
    "Just remembering that conditional probability is:\n",
    "\n",
    "$$P(A|B) = \\frac{P(A,B)}{P(B)}$$\n",
    "\n",
    "where $P(A,B) = P(A\\cap B)$ is the probability that both $A$ and $B$ happen.\n",
    "\n",
    "For example, consider two independent Bernoulli-distributed random variables,  $X_1, X_2\\in\\lbrace 0,1\n",
    "\\rbrace$.  We define $Z=X_1+X_2$. Note that $Z\\in \\lbrace\n",
    "0,1,2 \\rbrace$. In the case where $Z=1$, we have,"
   ]
  },
  {
   "cell_type": "markdown",
   "metadata": {},
   "source": [
    "$$\n",
    "\\mathbb{P}(X_1\\vert Z=1) >0\n",
    "$$"
   ]
  },
  {
   "cell_type": "markdown",
   "metadata": {},
   "source": [
    "$$\n",
    "\\\n",
    "\\mathbb{P}(X_2\\vert Z=1) >0\n",
    "$$"
   ]
  },
  {
   "cell_type": "markdown",
   "metadata": {},
   "source": [
    " Even though $X_1,X_2$ are independent,\n",
    "after conditioning on $Z$, we have the following,"
   ]
  },
  {
   "cell_type": "markdown",
   "metadata": {},
   "source": [
    "$$\n",
    "\\mathbb{P}(X_1=1,X_2=1\\vert Z=1)=0\\neq \\mathbb{P}(X_1=1\\vert Z=1)\\mathbb{P}(X_2=1\\vert Z=1)\n",
    "$$"
   ]
  },
  {
   "cell_type": "markdown",
   "metadata": {},
   "source": [
    " Thus, conditioning on $Z$ breaks the independence of\n",
    "$X_1,X_2$. \n",
    "\n",
    "**This also works in the opposite direction ---\n",
    "conditioning can make dependent random variables independent.**\n",
    "\n",
    "\n",
    "Define $Z_n=\\sum_i^n X_i$ with $X_i$ independent, integer-valued\n",
    "random variables.\n",
    "\n",
    "The $Z_n$ variables are dependent because they stack the same telescoping set of $X_i$ variables. Consider the following,"
   ]
  },
  {
   "cell_type": "markdown",
   "metadata": {},
   "source": [
    "<!-- Equation labels as ordinary links -->\n",
    "<div id=\"_auto1\"></div>\n",
    "\n",
    "$$\n",
    "\\begin{equation}\n",
    "\\mathbb{P}(Z_1=i,Z_3=j\\vert Z_2=k) = \\frac{\\mathbb{P}(Z_1=i,Z_2=k,Z_3=j)}{\\mathbb{P}(Z_2 =k)}\n",
    "\\label{_auto1} \\tag{1}\n",
    "\\end{equation}\n",
    "$$"
   ]
  },
  {
   "cell_type": "markdown",
   "metadata": {},
   "source": [
    "<!-- Equation labels as ordinary links -->\n",
    "<div id=\"eq:condIndep\"></div>\n",
    "\n",
    "$$\n",
    "\\begin{equation} \\\n",
    "=\\frac{\\mathbb{P}(X_1 =i)\\mathbb{P}(X_2 =k-i)\\mathbb{P}(X_3 =j-k) }{\\mathbb{P}(Z_2 =k)}\n",
    "\\end{equation} \n",
    "\\label{eq:condIndep} \\tag{2}\n",
    "$$"
   ]
  },
  {
   "cell_type": "markdown",
   "metadata": {},
   "source": [
    " where the factorization comes from the independence of\n",
    "the $X_i$ variables. **Notice that for $Z_1=i$, we must have $X_1=i$. Also, for $Z_2=X_1+X_2=k$ we must have $X_2 = k-i$ and so on...**\n",
    "\n",
    "Notice further that $\\mathbb{P}(X_1 =i)\\mathbb{P}(X_2 =k-i) = \\mathbb{P}(Z_1 =i\\vert Z_2=k) \\mathbb{P}(Z_2=k)$, so that\n",
    "\n",
    "\n",
    "$$\n",
    "\\mathbb{P}(Z_1=i,Z_3=j\\vert Z_2=k) = \\frac{\\mathbb{P}(Z_1 =i\\vert Z_2=k) \\mathbb{P}(Z_2=k)$\\mathbb{P}(X_3 =j-k)}{\\mathbb{P}(Z_2 =k)}\n",
    "$$\n",
    "\n",
    "Also, $\\mathbb{P}(X_3 =j-k) = \\mathbb{P}(Z_3 =j\\vert Z_2=k)$, and therefore:\n",
    "\n",
    "$$\n",
    "\\mathbb{P}(Z_1=i,Z_3=j\\vert Z_2=k) = \\mathbb{P}(Z_1 =i\\vert Z_2)\\mathbb{P}(Z_3 =j\\vert Z_2)\n",
    "$$"
   ]
  },
  {
   "cell_type": "markdown",
   "metadata": {},
   "source": [
    "**Thus, we see that dependence between\n",
    "random variables can be broken by conditioning to create\n",
    "conditionally independent random variables.**\n",
    "\n",
    "As we have just\n",
    "witnessed, understanding how conditioning influences independence\n",
    "is important and is the main topic of\n",
    "study in Probabilistic Graphical Models, a field\n",
    "with many algorithms and concepts to extract these\n",
    "notions of conditional independence from graph-based\n",
    "representations of random variables.\n",
    "\n",
    "\n",
    "## Classic Broken Rod Example\n",
    "\n",
    "Let's do one last example to exercise fluency in our methods by\n",
    "considering the following classic problem: given a rod of unit-length,\n",
    "broken independently and randomly at two places, what is the\n",
    "probability that you can assemble the three remaining pieces into a\n",
    "triangle? The first task is to find a representation of a triangle as\n",
    "an easy-to-apply constraint. What we want is something like the\n",
    "following:"
   ]
  },
  {
   "cell_type": "markdown",
   "metadata": {},
   "source": [
    "$$\n",
    "\\mathbb{P}(\\mbox{ triangle exists }) = \\int_0^1 \\int_0^1 \\lbrace \\mbox{ triangle exists }  \\rbrace dX dY\n",
    "$$"
   ]
  },
  {
   "cell_type": "markdown",
   "metadata": {},
   "source": [
    " where $X$ and $Y$ are independent and uniformly distributed\n",
    "in the unit-interval.  Heron's formula for the area of the triangle,"
   ]
  },
  {
   "cell_type": "markdown",
   "metadata": {},
   "source": [
    "$$\n",
    "\\mbox{ area } = \\sqrt{(s-a)(s-b)(s-c)s}\n",
    "$$"
   ]
  },
  {
   "cell_type": "markdown",
   "metadata": {},
   "source": [
    " where $s = (a+b+c)/2$ is what we need. **The idea is that this\n",
    "yields a valid area only when each of the terms under the square root is\n",
    "greater than or equal to zero.** Thus, suppose that we have"
   ]
  },
  {
   "cell_type": "markdown",
   "metadata": {},
   "source": [
    "$$\n",
    "\\begin{eqnarray*}\n",
    "a  & = &  X  \\\\\\\n",
    "b  & = & Y-X \\\\\\\n",
    "c  & = & 1-Y \n",
    "\\end{eqnarray*}\n",
    "$$"
   ]
  },
  {
   "cell_type": "markdown",
   "metadata": {},
   "source": [
    " assuming that $Y>X$.  Thus, the criterion for a valid triangle boils down\n",
    "to"
   ]
  },
  {
   "cell_type": "markdown",
   "metadata": {},
   "source": [
    "$$\n",
    "\\lbrace (s > a) \\wedge (s > b) \\wedge (s > c) \\wedge (X<Y) \\rbrace\n",
    "$$"
   ]
  },
  {
   "cell_type": "markdown",
   "metadata": {},
   "source": [
    "where $\\wedge = \\&$ means \"and\"."
   ]
  },
  {
   "cell_type": "markdown",
   "metadata": {},
   "source": [
    " After a bit of manipulation, this  consolidates into:"
   ]
  },
  {
   "cell_type": "markdown",
   "metadata": {},
   "source": [
    "$$\n",
    "\\Big\\lbrace \\frac{1}{2} < Y < 1 \\bigwedge \\frac{1}{2}(2 Y-1) < X < \\frac{1}{2} \\Big\\rbrace\n",
    "$$"
   ]
  },
  {
   "cell_type": "markdown",
   "metadata": {},
   "source": [
    "  which we integrate out by $dX$ first to obtain"
   ]
  },
  {
   "cell_type": "markdown",
   "metadata": {},
   "source": [
    "$$\n",
    "\\mathbb{P}(\\mbox{ triangle exists }) = \\int_{0}^1 \\int_{0}^1 \\Big\\lbrace \\frac{1}{2} < Y < 1 \\bigwedge \\frac{1}{2}(2 Y-1) < X < \\frac{1}{2} \\Big\\rbrace dX dY\n",
    "$$"
   ]
  },
  {
   "cell_type": "markdown",
   "metadata": {},
   "source": [
    "$$\n",
    "\\mathbb{P}(\\mbox{ triangle exists }) = \\int_{\\frac{1}{2}}^1 (1-Y) dY\n",
    "$$"
   ]
  },
  {
   "cell_type": "markdown",
   "metadata": {},
   "source": [
    " and then by $dY$ to obtain finally,"
   ]
  },
  {
   "cell_type": "markdown",
   "metadata": {},
   "source": [
    "$$\n",
    "\\mathbb{P}(\\mbox{ triangle exists }) = \\frac{1}{8}\n",
    "$$"
   ]
  },
  {
   "cell_type": "markdown",
   "metadata": {},
   "source": [
    " when $Y>X$. By symmetry, we get the same result for $X>Y$. Thus, the\n",
    "final result is the following:"
   ]
  },
  {
   "cell_type": "markdown",
   "metadata": {},
   "source": [
    "$$\n",
    "\\mathbb{P}(\\mbox{ triangle exists }) = \\frac{1}{8}+\\frac{1}{8} = \\frac{1}{4}\n",
    "$$"
   ]
  },
  {
   "cell_type": "markdown",
   "metadata": {},
   "source": [
    "We can quickly check using this result using Python for the case $Y>X$ using\n",
    "the following code:"
   ]
  },
  {
   "cell_type": "code",
   "execution_count": 27,
   "metadata": {
    "ExecuteTime": {
     "end_time": "2018-09-11T17:30:56.816731Z",
     "start_time": "2018-09-11T17:30:56.804908Z"
    }
   },
   "outputs": [
    {
     "data": {
      "text/plain": [
       "0.117"
      ]
     },
     "execution_count": 27,
     "metadata": {},
     "output_type": "execute_result"
    }
   ],
   "source": [
    "x,y = np.random.rand(2,1000)\n",
    "\n",
    "a,b,c = x,(y-x),1-y # 3 sides\n",
    "\n",
    "s = (a+b+c)/2\n",
    "\n",
    "np.mean((s>a) & (s>b)  & (s>c) & (y>x))"
   ]
  },
  {
   "cell_type": "code",
   "execution_count": 26,
   "metadata": {
    "ExecuteTime": {
     "end_time": "2018-09-11T17:29:45.444955Z",
     "start_time": "2018-09-11T17:29:45.287431Z"
    }
   },
   "outputs": [
    {
     "data": {
      "text/plain": [
       "[<matplotlib.lines.Line2D at 0x7fd549ac06a0>]"
      ]
     },
     "execution_count": 26,
     "metadata": {},
     "output_type": "execute_result"
    },
    {
     "data": {
      "image/png": "[encoded data removed]",
      "text/plain": [
       "<Figure size 432x288 with 1 Axes>"
      ]
     },
     "metadata": {},
     "output_type": "display_data"
    }
   ],
   "source": [
    "plt.plot((s>a) & (s>b)  & (s>c) & (y>x),'o',alpha=0.4)"
   ]
  },
  {
   "cell_type": "code",
   "execution_count": 22,
   "metadata": {
    "ExecuteTime": {
     "end_time": "2018-09-11T17:28:58.681491Z",
     "start_time": "2018-09-11T17:28:58.675756Z"
    }
   },
   "outputs": [
    {
     "data": {
      "text/plain": [
       "0.125"
      ]
     },
     "execution_count": 22,
     "metadata": {},
     "output_type": "execute_result"
    }
   ],
   "source": [
    "1/8"
   ]
  },
  {
   "cell_type": "markdown",
   "metadata": {},
   "source": [
    "**Programming Tip.**\n",
    "\n",
    "The chained logical `&` symbols above tell Numpy that the logical operation\n",
    "should be considered element-wise."
   ]
  },
  {
   "cell_type": "markdown",
   "metadata": {},
   "source": [
    "# Projection Methods\n",
    "\n",
    "The concept of projection is key to developing an intuition about conditional\n",
    "probability.  We already have a natural intuition of projection from looking at\n",
    "the shadows of objects on a sunny day. As we will see, this simple idea consolidates many abstract ideas in optimization and mathematics.  \n",
    "\n",
    "Consider\n",
    "[Figure](#fig:probability_001) where we want to find a point along the blue\n",
    "line (namely, $\\mathbf{x}$) that is closest to the black square (namely,\n",
    "$\\mathbf{y}$). In other words, we want to inflate the gray circle until it just\n",
    "touches the black line. Recall that the circle boundary is the set of points for\n",
    "which"
   ]
  },
  {
   "cell_type": "markdown",
   "metadata": {},
   "source": [
    "$$\n",
    "\\sqrt{(\\mathbf{y}-\\mathbf{x})^T(\\mathbf{y}-\\mathbf{x})} =\\|\\mathbf{y}-\\mathbf{x} \\| = \\epsilon\n",
    "$$"
   ]
  },
  {
   "cell_type": "markdown",
   "metadata": {},
   "source": [
    " for some value of $\\epsilon$. So we want a point $\\mathbf{x}$ along\n",
    "the line that satisfies this for the smallest $\\epsilon$.  Then, that point\n",
    "will be the closest point on the black line to the black square.\n",
    " It may be obvious from the diagram, but **the closest point on the line\n",
    "occurs where the line segment from the black square to the black line is\n",
    "perpendicular to the line.** At this point, the gray circle just touches the black\n",
    "line. This is illustrated below in [Figure](#fig:probability_002).\n",
    "\n",
    "<!-- dom:FIGURE: [fig-probability/probability_001.png, width=500 frac=0.90] Given the point $\\mathbf{y}$ (black square) we want to find the $\\mathbf{x}$ along the line that is closest to it. The gray circle is the locus of points within a fixed distance from $\\mathbf{y}$. <div id=\"fig:probability_001\"></div> -->\n",
    "<!-- begin figure -->\n",
    "<div id=\"fig:probability_001\"></div>\n",
    "\n",
    "<p>Given the point $\\mathbf{y}$ (black square) we want to find the $\\mathbf{x}$ along the line that is closest to it. The gray circle is the locus of points within a fixed distance from $\\mathbf{y}$.</p>\n",
    "<img src=\"fig-probability/probability_001.png\" width=500>\n",
    "\n",
    "<!-- end figure -->"
   ]
  },
  {
   "cell_type": "markdown",
   "metadata": {
    "ExecuteTime": {
     "end_time": "2018-09-11T18:25:33.565443Z",
     "start_time": "2018-09-11T18:25:33.557106Z"
    }
   },
   "source": [
    "**Programming Tip.**\n",
    "\n",
    "[Figure](#fig:probability_001) uses the `matplotlib.patches` module.  This\n",
    "module contains primitive shapes like circles, ellipses, and rectangles that\n",
    "can be assembled into complex graphics.  As shown in the code in the IPython\n",
    "Notebook corresponding to this chapter, after importing a particular shape, you\n",
    "can apply that shape to an existing axis  using the `add_patch` method.  The\n",
    "patches themselves can by styled using the usual formatting keywords like\n",
    "`color` and `alpha`."
   ]
  },
  {
   "cell_type": "markdown",
   "metadata": {},
   "source": [
    "\n",
    "\n",
    "\n",
    "<!-- dom:FIGURE: [fig-probability/probability_002.png, width=500 frac=0.90] The closest point on the line occurs when the line is tangent to the circle. When this happens, the black line and the line (minimum distance) are perpedicular.  <div id=\"fig:probability_002\"></div> -->\n",
    "<!-- begin figure -->\n",
    "<div id=\"fig:probability_002\"></div>\n",
    "\n",
    "<p>The closest point on the line occurs when the line is tangent to the circle. When this happens, the black line and the line (minimum distance) are perpedicular.</p>\n",
    "<img src=\"fig-probability/probability_002.png\" width=500>\n",
    "\n",
    "<!-- end figure -->\n",
    "\n",
    "\n",
    " Now that we can see what's going on, we can construct the the solution\n",
    "analytically. We can represent an arbitrary point along the black line as:"
   ]
  },
  {
   "cell_type": "markdown",
   "metadata": {},
   "source": [
    "$$\n",
    "\\mathbf{x}=\\alpha\\mathbf{v}\n",
    "$$"
   ]
  },
  {
   "cell_type": "markdown",
   "metadata": {},
   "source": [
    " where $\\alpha\\in\\mathbb{R}$ slides the point up and down the line with"
   ]
  },
  {
   "cell_type": "markdown",
   "metadata": {},
   "source": [
    "$$\n",
    "\\mathbf{v} = \\left[ 1,1 \\right]^T\n",
    "$$"
   ]
  },
  {
   "cell_type": "markdown",
   "metadata": {},
   "source": [
    " Formally, $\\mathbf{v}$ is the *subspace* onto which we want to\n",
    "*project* $\\mathbf{y}$. \n",
    "\n",
    "At the closest point, the vector between\n",
    "$\\mathbf{y}$ and $\\mathbf{x}$ (the *error* vector above) is\n",
    "perpedicular to the line. This means that"
   ]
  },
  {
   "cell_type": "markdown",
   "metadata": {},
   "source": [
    "$$\n",
    "(\\mathbf{y}-\\mathbf{x} )^T \\mathbf{v} = 0\n",
    "$$"
   ]
  },
  {
   "cell_type": "markdown",
   "metadata": {},
   "source": [
    " and by substituting and working out the terms, we obtain"
   ]
  },
  {
   "cell_type": "markdown",
   "metadata": {},
   "source": [
    "$$\n",
    "\\alpha = \\frac{\\mathbf{y}^T\\mathbf{v}}{ \\|\\mathbf{v} \\|^2}\n",
    "$$"
   ]
  },
  {
   "cell_type": "markdown",
   "metadata": {},
   "source": [
    "In vector notation we have:\n",
    "\n",
    "$$\n",
    "(\\vec{y}-\\vec{x})\\cdot\\vec{v} = 0 \\\\\n",
    "\\vec{y}\\cdot\\vec{v} = \\vec{x}\\cdot\\vec{v}\\\\\n",
    "\\vec{y}\\cdot\\vec{v} = \\alpha \\vec{v}\\cdot\\vec{v}\\\\\n",
    "\\alpha = \\frac{\\vec{y}\\cdot\\vec{v}}{\\vec{v}\\cdot\\vec{v}}\n",
    "$$"
   ]
  },
  {
   "cell_type": "markdown",
   "metadata": {},
   "source": [
    " The *error* is the distance between $\\alpha\\mathbf{v}$ and $\n",
    "\\mathbf{y}$.  \n",
    "\n",
    "This is a right triangle, and we can use the Pythagorean\n",
    "theorem to compute the squared length of this error as"
   ]
  },
  {
   "cell_type": "markdown",
   "metadata": {},
   "source": [
    "$$\n",
    "\\epsilon^2 = \\|( \\mathbf{y}-\\mathbf{x} )\\|^2 = \\|\\mathbf{y}\\|^2 - \\alpha^2 \\|\\mathbf{v}\\|^2 = \\|\\mathbf{y}\\|^2 - \\frac{\\|\\mathbf{y}^T\\mathbf{v}\\|^2}{\\|\\mathbf{v}\\|^2}\n",
    "$$"
   ]
  },
  {
   "cell_type": "markdown",
   "metadata": {},
   "source": [
    " where $ \\|\\mathbf{v}\\|^2 = \\mathbf{v}^T \\mathbf{v} $. Note that since $\\epsilon^2 \\ge 0 $, this also shows that"
   ]
  },
  {
   "cell_type": "markdown",
   "metadata": {},
   "source": [
    "$$\n",
    "\\| \\mathbf{y}^T\\mathbf{v}\\| \\le \\|\\mathbf{y}\\|  \\|\\mathbf{v}\\|\n",
    "$$"
   ]
  },
  {
   "cell_type": "markdown",
   "metadata": {},
   "source": [
    " which is the **famous and useful Cauchy-Schwarz inequality which we\n",
    "will exploit later.**\n",
    "\n",
    "Finally, we can assemble all of this into the *projection*\n",
    "operator"
   ]
  },
  {
   "cell_type": "markdown",
   "metadata": {},
   "source": [
    "$$\n",
    "\\mathbf{P}_v = \\frac{1}{\\|\\mathbf{v}\\|^2 } \\mathbf{v v}^T\n",
    "$$"
   ]
  },
  {
   "cell_type": "markdown",
   "metadata": {},
   "source": [
    "In vector notation we would have:\n",
    "\n",
    "$$\n",
    "\\mathbf{P}_v = \\frac{\\vec{v}}{\\vec{v}\\cdot\\vec{v}} \\vec{v}\\cdot\n",
    "$$"
   ]
  },
  {
   "cell_type": "markdown",
   "metadata": {},
   "source": [
    " With this operator, we can take any $\\mathbf{y}$ and find the closest\n",
    "point on $\\mathbf{v}$ by doing"
   ]
  },
  {
   "cell_type": "markdown",
   "metadata": {},
   "source": [
    "$$\n",
    "\\mathbf{P}_v \\mathbf{y} = \\mathbf{v} \\left( \\frac{  \\mathbf{v}^T \\mathbf{y} }{\\|\\mathbf{v}\\|^2} \\right)\n",
    "$$"
   ]
  },
  {
   "cell_type": "markdown",
   "metadata": {},
   "source": [
    " where we recognize the term in parenthesis as the $\\alpha$ we\n",
    "computed earlier.  It's called an *operator* because it takes a vector\n",
    "($\\mathbf{y}$) and produces another vector ($\\alpha\\mathbf{v}$). **Thus,\n",
    "projection unifies geometry and optimization.**"
   ]
  },
  {
   "cell_type": "markdown",
   "metadata": {},
   "source": [
    "## Weighted distance\n",
    "\n",
    "We can easily extend this projection operator to cases where the measure of\n",
    "distance between $\\mathbf{y}$ and the subspace $\\mathbf{v}$ is weighted. We can\n",
    "accommodate these weighted distances by re-writing the projection operator as"
   ]
  },
  {
   "cell_type": "markdown",
   "metadata": {},
   "source": [
    "<!-- Equation labels as ordinary links -->\n",
    "<div id=\"eq:weightedProj\"></div>\n",
    "\n",
    "$$\n",
    "\\begin{equation}\n",
    "\\mathbf{P}_v=\\mathbf{v}\\frac{\\mathbf{v}^T\\mathbf{Q}^T}{\\mathbf{v}^T\\mathbf{Q v}}\n",
    "\\end{equation}\n",
    "\\label{eq:weightedProj} \\tag{1}\n",
    "$$"
   ]
  },
  {
   "cell_type": "markdown",
   "metadata": {},
   "source": [
    " where $\\mathbf{Q}$ is positive definite matrix.  In the previous\n",
    "case, we started with a point $\\mathbf{y}$ and inflated a circle centered at\n",
    "$\\mathbf{y}$ until it just touched the line defined by $\\mathbf{v}$ and this\n",
    "point was closest point on the line to $\\mathbf{y}$. The same thing happens\n",
    "in the general case with a weighted distance except now we inflate an\n",
    "ellipse, not a circle, until the ellipse touches the line.\n",
    "\n",
    "<!-- # @@@CODE src-probability/Projection.py fromto: ^theta@^fig,ax -->\n",
    "\n",
    "<!-- dom:FIGURE: [fig-probability/probability_003.png, width=500 frac=0.95] In the weighted case, the closest point on the line is tangent to the ellipse and is still perpedicular in the sense of the weighted distance. <div id=\"fig:probability_003\"></div> -->\n",
    "<!-- begin figure -->\n",
    "<div id=\"fig:probability_003\"></div>\n",
    "\n",
    "<p>In the weighted case, the closest point on the line is tangent to the ellipse and is still perpedicular in the sense of the weighted distance.</p>\n",
    "<img src=\"fig-probability/probability_003.png\" width=500>\n",
    "\n",
    "<!-- end figure -->\n",
    "\n",
    "\n",
    "Note that the error vector ($\\mathbf{y}-\\alpha\\mathbf{v}$) in [Figure](#fig:probability_003) is still perpendicular to the line (subspace\n",
    "$\\mathbf{v}$), but in the space of the weighted distance, that is,\n",
    "\n",
    "$$(\\mathbf{y}-\\mathbf{x} )^T \\mathbf{Q}^T\\mathbf{v} = 0$$\n",
    "\n",
    "\n",
    "The difference\n",
    "between the first projection (with the uniform circular distance) and the\n",
    "general case (with the elliptical weighted distance) is the inner product\n",
    "between the two cases.  For example, in the first case we have $\\mathbf{y}^T\n",
    "\\mathbf{v}$ and in the weighted case we have $\\mathbf{y}^T \\mathbf{Q}^T\n",
    "\\mathbf{v}$. To move from the uniform circular case to the weighted ellipsoidal\n",
    "case, all we had to do was change all of the vector inner products.  Before we\n",
    "finish, we need a formal property  of projections:"
   ]
  },
  {
   "cell_type": "markdown",
   "metadata": {},
   "source": [
    "$$\n",
    "\\mathbf{P}_v \\mathbf{P}_v = \\mathbf{P}_v\n",
    "$$"
   ]
  },
  {
   "cell_type": "markdown",
   "metadata": {},
   "source": [
    " known as the *idempotent* property which basically says that once we\n",
    "have projected onto a subspace, subsequent projections leave us in the\n",
    "same subspace. You can verify this by using the definition\n",
    "\n",
    "$$\n",
    "\\begin{equation}\n",
    "\\mathbf{P}_v=\\mathbf{v}\\frac{\\mathbf{v}^T\\mathbf{Q}^T}{\\mathbf{v}^T\\mathbf{Q v}}\n",
    "\\end{equation}\n",
    "\\label{eq:weightedProj}, %\\tag{1}\n",
    "$$\n",
    "that is,\n",
    "\n",
    "$$\n",
    "\\mathbf{P}_v \\mathbf{P}_v = \\mathbf{v}\\frac{\\mathbf{v}^T\\mathbf{Q}^T}{\\mathbf{v}^T\\mathbf{Q v}}\\mathbf{v}\\frac{\\mathbf{v}^T\\mathbf{Q}^T}{\\mathbf{v}^T\\mathbf{Q v}} = \\mathbf{P}_v \\mathbf{P}_v\n",
    "$$\n",
    "\n",
    "\n",
    "**Thus, projection ties a minimization problem (closest point to a line) to an\n",
    "algebraic concept (inner product).** \n",
    "\n",
    "It turns out that these same geometric ideas\n",
    "from linear algebra [[strang2006linear]](#strang2006linear) can be translated to the conditional\n",
    "expectation. How this works is the subject of our next  section."
   ]
  },
  {
   "cell_type": "markdown",
   "metadata": {},
   "source": [
    "# Conditional Expectation as Projection\n",
    "\n",
    "Now that we understand projection methods geometrically, we can apply\n",
    "them to conditional probability. **This is the *key* concept that ties\n",
    "probability to geometry, optimization, and linear algebra.**\n",
    "\n",
    "### Inner Product for Random Variables\n",
    "\n",
    " From our previous work on projection for vectors in\n",
    "$\\mathbb{R}^n$, we have a good geometric grasp on how projection is related to Minimum Mean Squared Error (MMSE).\n",
    "\n",
    "By one abstract step, we can carry\n",
    "all of our geometric interpretations to the space of random variables.\n",
    "For example, we previously noted that at the point of projection, we had the following orthogonal (i.e.,  perpendicular vectors) condition,"
   ]
  },
  {
   "cell_type": "markdown",
   "metadata": {},
   "source": [
    "$$\n",
    "( \\mathbf{y} - \\mathbf{v}_{opt} )^T \\mathbf{v} = 0\n",
    "$$"
   ]
  },
  {
   "cell_type": "markdown",
   "metadata": {},
   "source": [
    " which by noting the inner product slightly more abstractly as\n",
    "$\\langle\\mathbf{x},\\mathbf{y} \\rangle = \\mathbf{x}^T \\mathbf{y}$, we can\n",
    "express as"
   ]
  },
  {
   "cell_type": "markdown",
   "metadata": {},
   "source": [
    "$$\n",
    "\\langle \\mathbf{y} - \\mathbf{v}_{opt},\\mathbf{v} \\rangle = 0\n",
    "$$"
   ]
  },
  {
   "cell_type": "markdown",
   "metadata": {},
   "source": [
    " and by defining the inner product for the random variables\n",
    "$X$ and $Y$ as"
   ]
  },
  {
   "cell_type": "markdown",
   "metadata": {},
   "source": [
    "$$\n",
    "\\langle X,Y \\rangle = \\mathbb{E}(X Y)\n",
    "$$"
   ]
  },
  {
   "cell_type": "markdown",
   "metadata": {},
   "source": [
    " we have the same relationship:"
   ]
  },
  {
   "cell_type": "markdown",
   "metadata": {},
   "source": [
    "$$\n",
    "\\langle X-h_{opt}(Y),Y \\rangle = 0\n",
    "$$"
   ]
  },
  {
   "cell_type": "markdown",
   "metadata": {},
   "source": [
    " which holds not for vectors in $\\mathbb{R}^n$, but for random\n",
    "variables $X$ and $Y$ and functions of those random variables. Exactly why this\n",
    "is true is technical, but it turns out that one can build up the *entire theory\n",
    "of probability* this way [[edward1987radically]](#edward1987radically), by using the expectation as\n",
    "an inner product.\n",
    "\n",
    "Furthermore, by abstracting out the inner product concept, we have connected\n",
    "minimum-mean-squared-error (MMSE) optimization problems, geometry, and random\n",
    "variables.  That's  a lot of mileage to get a out of an abstraction and it\n",
    "enables us to shift between these interpretations to address real problems.\n",
    "Soon, we'll do this with some examples, but first we collect the most important\n",
    "result that flows naturally from this abstraction.\n",
    "\n",
    "### Conditional Expectation as Projection\n",
    "\n",
    "The conditional expectation is the minimum mean squared error (MMSE) solution\n",
    "to the following problem (see appendix for proof using the Cauchy-Schwarz inequality):"
   ]
  },
  {
   "cell_type": "markdown",
   "metadata": {},
   "source": [
    "$$\n",
    "\\min_h \\int_{\\mathbb{R}} (x - h(y) )^2 dx\n",
    "$$"
   ]
  },
  {
   "cell_type": "markdown",
   "metadata": {},
   "source": [
    " with the minimizing $h_{opt}(Y) $ as"
   ]
  },
  {
   "cell_type": "markdown",
   "metadata": {},
   "source": [
    "$$\n",
    "h_{opt}(Y) = \\mathbb{E}(X|Y)\n",
    "$$"
   ]
  },
  {
   "cell_type": "markdown",
   "metadata": {},
   "source": [
    "which is another way of saying that among all possible functions\n",
    "$h(Y)$, the one that minimizes the MSE is $ \\mathbb{E}(X|Y)$. \n",
    "\n",
    "From our previous discussion on projection, we noted that\n",
    "these MMSE solutions can be thought of as projections onto a subspace that characterizes $Y$. For example, we previously noted that at the point of projection, we have perpendicular terms,"
   ]
  },
  {
   "cell_type": "markdown",
   "metadata": {},
   "source": [
    "<!-- Equation labels as ordinary links -->\n",
    "<div id=\"eq:ortho\"></div>\n",
    "\n",
    "$$\n",
    "\\begin{equation}\n",
    "\\langle X-h_{opt}(Y),Y \\rangle = 0\n",
    "\\end{equation}\n",
    "\\label{eq:ortho} \\tag{1}\n",
    "$$"
   ]
  },
  {
   "cell_type": "markdown",
   "metadata": {},
   "source": [
    " but since we know that the MMSE solution"
   ]
  },
  {
   "cell_type": "markdown",
   "metadata": {},
   "source": [
    "$$\n",
    "h_{opt}(Y) = \\mathbb{E}(X|Y)\n",
    "$$"
   ]
  },
  {
   "cell_type": "markdown",
   "metadata": {},
   "source": [
    " we have by direct substitution,"
   ]
  },
  {
   "cell_type": "markdown",
   "metadata": {},
   "source": [
    "<!-- Equation labels as ordinary links -->\n",
    "<div id=\"eq:ortho_001\"></div>\n",
    "$$\n",
    "\\langle X-\\mathbb{E}(X|Y),Y \\rangle = 0\n",
    "$$\n",
    "$$\n",
    "\\begin{equation}\n",
    "\\mathbb{E}[(X-\\mathbb{E}(X|Y))Y] = 0\n",
    "\\end{equation}\n",
    "\\label{eq:ortho_001} \\tag{2}\n",
    "$$"
   ]
  },
  {
   "cell_type": "markdown",
   "metadata": {},
   "source": [
    "**That last step seems pretty innocuous, but it ties MMSE to\n",
    "conditional expectation to the inner project abstraction, and in so doing, reveals the conditional expectation to be a projection operator for random variables.**\n",
    "\n",
    "Just remembering that for vector we have $(\\mathbf{y}-\\mathbf{x} )^T \\mathbf{v} = 0$, which $\\mathbf{x}=\\alpha \\mathbf{v}$.\n",
    "\n",
    "\n",
    "Before we develop this further, let's grab some quick dividends.\n",
    "From the previous equation, by linearity of the expectation, we obtain,"
   ]
  },
  {
   "cell_type": "markdown",
   "metadata": {},
   "source": [
    "$$\n",
    "\\langle X-\\mathbb{E}(X|Y),Y \\rangle = 0 \\\\\n",
    "\\langle X,Y\\rangle - \\langle \\mathbb{E}(X|Y) Y\\rangle = 0\\\\\n",
    "\\mathbb{E}(X Y) =  \\mathbb{E}(Y \\mathbb{E}(X|Y))\n",
    "$$"
   ]
  },
  {
   "cell_type": "markdown",
   "metadata": {},
   "source": [
    "which is the so-called *tower property* of the expectation. This works like scalar product between vectors, for instance, $(\\vec{a}-\\vec{b})\\cdot\\vec{c} = \\vec{a}\\cdot\\vec{b} - \\vec{a}\\cdot\\vec{c}$. Thus, since $\\vec{a}\\cdot\\vec{b}\\to\\langle a,b \\rangle\\to \\mathbb{E}(X Y)$\n",
    "\n",
    "\n",
    "Note that\n",
    "we could have found this by using the formal definition of conditional\n",
    "expectation,"
   ]
  },
  {
   "cell_type": "markdown",
   "metadata": {},
   "source": [
    "$$\n",
    "\\mathbb{E}(X|Y) = \\int_{\\mathbb{R}^2} x \\frac{f_{X,Y}(x,y)}{f_Y(y)} dx dy\n",
    "$$"
   ]
  },
  {
   "cell_type": "markdown",
   "metadata": {},
   "source": [
    " and brute-force direct integration,"
   ]
  },
  {
   "cell_type": "markdown",
   "metadata": {},
   "source": [
    "$$\n",
    "\\mathbb{E}(Y \\mathbb{E}(X|Y)) = \\int_{\\mathbb{R}} y \\int_{\\mathbb{R}} x \\frac{f_{X,Y}(x,y)}{f_Y(y)}  f_Y(y) dx dy\n",
    "$$"
   ]
  },
  {
   "cell_type": "markdown",
   "metadata": {},
   "source": [
    "$$\n",
    "\\\n",
    "                              =\\int_{\\mathbb{R}^2} x y f_{X,Y}(x,y) dx dy\n",
    "$$"
   ]
  },
  {
   "cell_type": "markdown",
   "metadata": {},
   "source": [
    "$$\n",
    "\\\n",
    "                              =\\mathbb{E}( X Y)\n",
    "$$"
   ]
  },
  {
   "cell_type": "markdown",
   "metadata": {},
   "source": [
    " which is not very geometrically intuitive. This lack of geometric\n",
    "intuition makes it hard to apply these concepts and keep track of these\n",
    "relationships. \n",
    "\n",
    "We can keep pursuing this analogy and obtain the length of the error term \n",
    "from the orthogonality property of the MMSE solution as,"
   ]
  },
  {
   "cell_type": "markdown",
   "metadata": {},
   "source": [
    "$$\n",
    "\\langle X-h_{opt}(Y),X-h_{opt}(Y)\\rangle = \\langle X,X  \\rangle - \\langle h_{opt}(Y),h_{opt}(Y)  \\rangle\n",
    "$$"
   ]
  },
  {
   "cell_type": "markdown",
   "metadata": {},
   "source": [
    " and then by substituting all the notation we obtain"
   ]
  },
  {
   "cell_type": "markdown",
   "metadata": {},
   "source": [
    "$$\n",
    "\\mathbb{E}(X-  \\mathbb{E}(X|Y))^2 = \\mathbb{E}(X)^2 - \\mathbb{E}(\\mathbb{E}(X|Y) )^2\n",
    "$$"
   ]
  },
  {
   "cell_type": "markdown",
   "metadata": {},
   "source": [
    " which would be tough to compute by direct integration.  \n",
    "\n",
    "To formally establish that $\\mathbb{E}(X|Y)$ *is* in fact *a projection operator* we\n",
    "need to show idempotency.  Recall that idempotency means that once we project\n",
    "something onto a subspace, further projections do nothing. In the space of\n",
    "random variables, $\\mathbb{E}(X|\\cdot$) is the idempotent projection as we can\n",
    "show by noting that"
   ]
  },
  {
   "cell_type": "markdown",
   "metadata": {},
   "source": [
    "$$\n",
    "h_{opt} = \\mathbb{E}(X|Y)\n",
    "$$"
   ]
  },
  {
   "cell_type": "markdown",
   "metadata": {},
   "source": [
    " is purely a function of $Y$, so that"
   ]
  },
  {
   "cell_type": "markdown",
   "metadata": {},
   "source": [
    "$$\n",
    "\\mathbb{E}(h_{opt}(Y)|Y) = h_{opt}(Y)\n",
    "$$"
   ]
  },
  {
   "cell_type": "markdown",
   "metadata": {},
   "source": [
    " because $Y$ is fixed, this verifies idempotency. Thus, conditional\n",
    "expectation is the corresponding projection operator for random variables. We\n",
    "can continue to carry over our geometric interpretations of projections for\n",
    "vectors ($\\mathbf{v}$) into random variables ($X$).  With this important\n",
    "result, let's consider some examples of conditional expectations obtained by\n",
    "using brute force to find the optimal MMSE function $h_{opt}$ as well as by\n",
    "using our new perspective on conditional expectation.\n",
    "\n",
    "**Example.** Suppose we have a random variable, $X$, then what constant is closest to $X$ in\n",
    "the sense of the mean-squared-error (MSE)? In other words, which $c \\in\n",
    "\\mathbb{R}$ minimizes the following mean squared error:"
   ]
  },
  {
   "cell_type": "markdown",
   "metadata": {},
   "source": [
    "$$\n",
    "\\mbox{MSE} = \\mathbb{E}( X - c )^2\n",
    "$$"
   ]
  },
  {
   "cell_type": "markdown",
   "metadata": {},
   "source": [
    " we can work this out many ways. First, using calculus-based optimization,"
   ]
  },
  {
   "cell_type": "markdown",
   "metadata": {},
   "source": [
    "$$\n",
    "\\mathbb{E}(X-c)^2=\\mathbb{E}(c^2-2 c X + X^2)=c^2-2 c \\mathbb{E}(X) + \\mathbb{E}(X^2)\n",
    "$$"
   ]
  },
  {
   "cell_type": "markdown",
   "metadata": {},
   "source": [
    " and then take the first derivative with respect to $c$ and solve:"
   ]
  },
  {
   "cell_type": "markdown",
   "metadata": {},
   "source": [
    "$$\n",
    "c_{opt}=\\mathbb{E}(X)\n",
    "$$"
   ]
  },
  {
   "cell_type": "markdown",
   "metadata": {},
   "source": [
    " Remember that $X$ may potentially take on many values, but this says\n",
    "that the closest number to $X$ in the MSE sense is $\\mathbb{E}(X)$.  This is\n",
    "intuitively pleasing.  Coming at this same problem using our inner product,\n",
    "from Equation ref{eq:ortho_001} we know that at the point of projection"
   ]
  },
  {
   "cell_type": "markdown",
   "metadata": {},
   "source": [
    "$$\n",
    "\\mathbb{E}((X-c_{opt}) 1) = 0\n",
    "$$"
   ]
  },
  {
   "cell_type": "markdown",
   "metadata": {},
   "source": [
    "  where the $1$ represents the space of constants \n",
    "we are projecting onto. By linearity of the expectation, gives"
   ]
  },
  {
   "cell_type": "markdown",
   "metadata": {},
   "source": [
    "$$\n",
    "c_{opt}=\\mathbb{E}(X)\n",
    "$$"
   ]
  },
  {
   "cell_type": "markdown",
   "metadata": {},
   "source": [
    " Using the projection approach, because $\\mathbb{E}(X|Y)$ is\n",
    "the projection operator, with $Y=\\Omega$ (the entire underlying\n",
    "probability space), we have, using the definition of conditional\n",
    "expectation:"
   ]
  },
  {
   "cell_type": "markdown",
   "metadata": {},
   "source": [
    "$$\n",
    "\\mathbb{E}(X|Y=\\Omega) = \\mathbb{E}(X)\n",
    "$$"
   ]
  },
  {
   "cell_type": "markdown",
   "metadata": {},
   "source": [
    " This is because of the subtle fact that a random variable over the entire\n",
    "$\\Omega$ space can only be a constant.  Thus, we just worked the same problem\n",
    "three ways (optimization, orthogonal inner products, projection).\n",
    "\n",
    "**Example.** Let's consider the following example with probability density\n",
    "$f_{X,Y}= x + y $ where $(x,y) \\in [0,1]^2$ and compute the conditional\n",
    "expectation straight from the definition:"
   ]
  },
  {
   "cell_type": "markdown",
   "metadata": {},
   "source": [
    "$$\n",
    "\\mathbb{ E}(X|Y) = \\int_0^1 x \\frac{f_{X,Y}(x,y)}{f_Y(y)} dx=  \\int_0^1 x \\frac{x+y}{y+1/2} dx =\\frac{3 y + 2}{6 y + 3}\n",
    "$$"
   ]
  },
  {
   "cell_type": "markdown",
   "metadata": {},
   "source": [
    " That was pretty easy because the density function was so simple. Now,\n",
    "let's do it the hard way by going directly for the MMSE solution $h(Y)$. Then,"
   ]
  },
  {
   "cell_type": "markdown",
   "metadata": {},
   "source": [
    "$$\n",
    "\\mbox{ MSE } = \\underset{h}\\min \\int_0^1\\int_0^1 (x - h(y) )^2 f_{X,Y}(x,y)dx dy\n",
    "$$"
   ]
  },
  {
   "cell_type": "markdown",
   "metadata": {},
   "source": [
    "$$\n",
    "\\\n",
    "             = \\underset{h}\\min \\int_0^1 y h^2 {\\left (y \\right )} - y h{\\left (y \\right )} + \\frac{1}{3} y + \\frac{1}{2} h^{2}{\\left (y \\right )} - \\frac{2}{3} h{\\left (y \\right )} + \\frac{1}{4} dy\n",
    "$$"
   ]
  },
  {
   "cell_type": "markdown",
   "metadata": {},
   "source": [
    " Now we have to find a function $h$ that is going to minimize this.\n",
    "Solving for a function, as opposed to solving for a number, is generally very,\n",
    "very hard, but because we are integrating over a finite interval, we can use\n",
    "the Euler-Lagrange method from variational calculus to take the derivative of\n",
    "the integrand with respect to the function $h(y)$ and set it to zero. Using\n",
    "Euler-Lagrange methods, we obtain the following result,"
   ]
  },
  {
   "cell_type": "markdown",
   "metadata": {},
   "source": [
    "$$\n",
    "2 y h{\\left (y \\right )} - y + h{\\left (y \\right )} - \\frac{2}{3} =0\n",
    "$$"
   ]
  },
  {
   "cell_type": "markdown",
   "metadata": {},
   "source": [
    " Solving this gives"
   ]
  },
  {
   "cell_type": "markdown",
   "metadata": {},
   "source": [
    "$$\n",
    "h_{opt}(y)= \\frac{3 y + 2}{6 y + 3}\n",
    "$$"
   ]
  },
  {
   "cell_type": "markdown",
   "metadata": {},
   "source": [
    "  which is what we obtained before. Finally, we can solve this\n",
    "using our inner product in Equation ref{eq:ortho} as"
   ]
  },
  {
   "cell_type": "markdown",
   "metadata": {},
   "source": [
    "$$\n",
    "\\mathbb{E}((X-h(Y)) Y)=0\n",
    "$$"
   ]
  },
  {
   "cell_type": "markdown",
   "metadata": {},
   "source": [
    "  Writing this out gives,"
   ]
  },
  {
   "cell_type": "markdown",
   "metadata": {},
   "source": [
    "$$\n",
    "\\int_0^1\\int_0^1 (x-h(y))y(x+y) dx dy = \\int_0^1\\frac{1}{6}y(-3(2 y+1) h(y)+3 y+2) dy=0\n",
    "$$"
   ]
  },
  {
   "cell_type": "markdown",
   "metadata": {},
   "source": [
    " and the integrand must be zero,"
   ]
  },
  {
   "cell_type": "markdown",
   "metadata": {},
   "source": [
    "$$\n",
    "2 y + 3 y^2 - 3 y h(y) - 6 y^2 h(y)=0\n",
    "$$"
   ]
  },
  {
   "cell_type": "markdown",
   "metadata": {},
   "source": [
    " and solving this for $h(y)$ gives the same solution:"
   ]
  },
  {
   "cell_type": "markdown",
   "metadata": {},
   "source": [
    "$$\n",
    "h_{opt}(y)= \\frac{3 y + 2}{6 y + 3}\n",
    "$$"
   ]
  },
  {
   "cell_type": "markdown",
   "metadata": {},
   "source": [
    " Thus, doing it by the brute force integration from the definition,\n",
    "optimization, or inner product gives us the same answer; but, in general, no\n",
    "method is necessarily easiest because they both involve potentially difficult\n",
    "or impossible integration, optimization, or functional equation solving.  The\n",
    "point is that now that we have a deep toolbox, we can pick and choose which\n",
    "tools we want to apply for different problems.\n",
    "\n",
    "Before we leave this example, let's use Sympy to verify the length of the error\n",
    "function we found earlier for this example:"
   ]
  },
  {
   "cell_type": "markdown",
   "metadata": {},
   "source": [
    "$$\n",
    "\\mathbb{E}(X-\\mathbb{E}(X|Y))^2=\\mathbb{E}(X)^2-\\mathbb{E}(\\mathbb{E}(X|Y))^2\n",
    "$$"
   ]
  },
  {
   "cell_type": "markdown",
   "metadata": {},
   "source": [
    " that is based on the Pythagorean theorem. First, we \n",
    "need to compute the marginal densities,"
   ]
  },
  {
   "cell_type": "code",
   "execution_count": 6,
   "metadata": {},
   "outputs": [],
   "source": [
    "from sympy.abc import y,x\n",
    "from sympy import integrate, simplify\n",
    "fxy = x + y                 # joint density\n",
    "fy = integrate(fxy,(x,0,1)) # marginal density\n",
    "fx = integrate(fxy,(y,0,1)) # marginal density"
   ]
  },
  {
   "cell_type": "markdown",
   "metadata": {},
   "source": [
    " Then, we need to write out the conditional expectation,"
   ]
  },
  {
   "cell_type": "code",
   "execution_count": 7,
   "metadata": {},
   "outputs": [],
   "source": [
    "EXY = (3*y+2)/(6*y+3) # conditional expectation"
   ]
  },
  {
   "cell_type": "markdown",
   "metadata": {},
   "source": [
    " Next, we can compute the left side, $\\mathbb{E}(X-\\mathbb{E}(X|Y))^2$,\n",
    "as the following,"
   ]
  },
  {
   "cell_type": "code",
   "execution_count": 8,
   "metadata": {},
   "outputs": [
    {
     "data": {
      "text/plain": [
       "-log(216)/144 + log(72)/144 + 1/12"
      ]
     },
     "execution_count": 8,
     "metadata": {},
     "output_type": "execute_result"
    }
   ],
   "source": [
    "# from the definition\n",
    "LHS=integrate((x-EXY)**2*fxy,(x,0,1),(y,0,1)) \n",
    "LHS # left-hand-side"
   ]
  },
  {
   "cell_type": "markdown",
   "metadata": {},
   "source": [
    " We can similarly compute the right side, $\\mathbb{E}(X)^2-\\mathbb{E}(\\mathbb{E}(X|Y))^2$,\n",
    "as the following,"
   ]
  },
  {
   "cell_type": "code",
   "execution_count": 9,
   "metadata": {},
   "outputs": [
    {
     "data": {
      "text/plain": [
       "-log(216)/144 + log(72)/144 + 1/12"
      ]
     },
     "execution_count": 9,
     "metadata": {},
     "output_type": "execute_result"
    }
   ],
   "source": [
    "# using Pythagorean theorem\n",
    "RHS=integrate((x)**2*fx,(x,0,1))-integrate((EXY)**2*fy,(y,0,1))\n",
    "RHS # right-hand-side"
   ]
  },
  {
   "cell_type": "markdown",
   "metadata": {},
   "source": [
    " Finally, we can verify that the left and right sides match,"
   ]
  },
  {
   "cell_type": "code",
   "execution_count": 10,
   "metadata": {},
   "outputs": [
    {
     "name": "stdout",
     "output_type": "stream",
     "text": [
      "True\n"
     ]
    }
   ],
   "source": [
    "print simplify(LHS-RHS)==0"
   ]
  },
  {
   "cell_type": "markdown",
   "metadata": {},
   "source": [
    "In this section, we have pulled together all the projection and least-squares\n",
    "optimization ideas from the previous sections to connect geometric notions of\n",
    "projection from vectors in $\\mathbb{R}^n$ to random variables. This resulted in\n",
    "the remarkable realization that the conditional expectation is in fact a\n",
    "projection operator for random variables.  Knowing this allows to approach\n",
    "difficult problems in multiple ways, depending on which way is more intuitive\n",
    "or tractable in a particular situation. Indeed, finding the right problem to\n",
    "solve is the hardest part, so having many ways of looking at the same concepts\n",
    "is crucial.\n",
    "\n",
    "For much more detailed development, the book by Mikosch\n",
    "[[mikosch1998elementary]](#mikosch1998elementary) has some excellent sections covering much of this\n",
    "material with a similar geometric interpretation. Kobayashi\n",
    "[[kobayashi2011probability]](#kobayashi2011probability) does too.  Nelson [[edward1987radically]](#edward1987radically) also\n",
    "has a similar presentation based on hyper-real numbers.\n",
    "\n",
    "## Appendix\n",
    "\n",
    "We want to prove that we the conditional expectation is the\n",
    "minimum mean squared error minimizer of the following:"
   ]
  },
  {
   "cell_type": "markdown",
   "metadata": {},
   "source": [
    "$$\n",
    "J= \\min_h \\int_{ \\mathbb{R}^2 } \\lvert X - h(Y) \\rvert^2 f_{X,Y}(x,y) dx dy\n",
    "$$"
   ]
  },
  {
   "cell_type": "markdown",
   "metadata": {},
   "source": [
    " We can expand this as follows,"
   ]
  },
  {
   "cell_type": "markdown",
   "metadata": {},
   "source": [
    "$$\n",
    "\\begin{multline*}\n",
    "J=\\min_h \\int_{ \\mathbb{R}^2 } \\lvert X \\rvert^2 f_{X,Y}(x,y) dx dy + \\int_{ \\mathbb{R}^2 } \\lvert h(Y) \\rvert^2 f_{X,Y}(x,y) dx dy \\\\\\\n",
    "- \\int_{ \\mathbb{R}^2 } 2 X h(Y) f_{X,Y}(x,y) dx dy\n",
    "\\end{multline*}\n",
    "$$"
   ]
  },
  {
   "cell_type": "markdown",
   "metadata": {},
   "source": [
    " To minimize this, we have to maximize the following:"
   ]
  },
  {
   "cell_type": "markdown",
   "metadata": {},
   "source": [
    "$$\n",
    "A=\\max_h \\int_{ \\mathbb{R}^2 }  X h(Y) f_{X,Y}(x,y) dx dy\n",
    "$$"
   ]
  },
  {
   "cell_type": "markdown",
   "metadata": {},
   "source": [
    " Breaking up the integral using the definition of conditional expectation"
   ]
  },
  {
   "cell_type": "markdown",
   "metadata": {},
   "source": [
    "<!-- Equation labels as ordinary links -->\n",
    "<div id=\"_auto1\"></div>\n",
    "\n",
    "$$\n",
    "\\begin{equation}\n",
    "A =\\max_h \\int_\\mathbb{R} \\left(\\int_\\mathbb{R} X  f_{X|Y}(x|y) dx \\right)h(Y) f_Y(y) dy \n",
    "\\label{_auto1} \\tag{3}\n",
    "\\end{equation}\n",
    "$$"
   ]
  },
  {
   "cell_type": "markdown",
   "metadata": {},
   "source": [
    "<!-- Equation labels as ordinary links -->\n",
    "<div id=\"_auto2\"></div>\n",
    "\n",
    "$$\n",
    "\\begin{equation} \\\n",
    "=\\max_h \\int_\\mathbb{R} \\mathbb{E}(X|Y) h(Y)f_Y(Y) dy \n",
    "\\label{_auto2} \\tag{4}\n",
    "\\end{equation}\n",
    "$$"
   ]
  },
  {
   "cell_type": "markdown",
   "metadata": {},
   "source": [
    " From properties of the Cauchy-Schwarz inequality, we know that the\n",
    "maximum happens when $h_{opt}(Y) = \\mathbb{E}(X|Y)$, so we have found the\n",
    "optimal $h(Y)$ function as:"
   ]
  },
  {
   "cell_type": "markdown",
   "metadata": {},
   "source": [
    "$$\n",
    "h_{opt}(Y) = \\mathbb{E}(X|Y)\n",
    "$$"
   ]
  },
  {
   "cell_type": "markdown",
   "metadata": {},
   "source": [
    " which shows that the optimal function is the conditional expectation."
   ]
  },
  {
   "cell_type": "code",
   "execution_count": 24,
   "metadata": {},
   "outputs": [],
   "source": [
    "import numpy as np\n",
    "np.random.seed(12345)"
   ]
  },
  {
   "cell_type": "markdown",
   "metadata": {},
   "source": [
    "# Conditional Expectation and Mean Square Error\n",
    "\n",
    "In this section, we work through a detailed example using conditional\n",
    "expectation and optimization methods.  Suppose we have two fair six-sided die\n",
    "($X$ and $Y$) and we want to measure the sum of the two variables as $Z=X+Y$.\n",
    "Further, let's suppose that given $Z$, we want the best estimate of $X$ in the\n",
    "mean-squared-sense. Thus, we want to minimize the following:"
   ]
  },
  {
   "cell_type": "markdown",
   "metadata": {},
   "source": [
    "$$\n",
    "J(\\alpha) = \\sum ( x - \\alpha z )^2 \\mathbb{P}(x,z)\n",
    "$$"
   ]
  },
  {
   "cell_type": "markdown",
   "metadata": {},
   "source": [
    " where $\\mathbb{P}$ is the probability mass function for this problem.\n",
    "The idea is that when we have solved this problem, we will have a function of\n",
    "$Z$ that is going to be the minimum MSE  estimate of $X$.  We can substitute in\n",
    "for $Z$ in $J$ and get:"
   ]
  },
  {
   "cell_type": "markdown",
   "metadata": {},
   "source": [
    "$$\n",
    "J(\\alpha) = \\sum ( x - \\alpha (x+y) )^2 \\mathbb{P}(x,y)\n",
    "$$"
   ]
  },
  {
   "cell_type": "markdown",
   "metadata": {},
   "source": [
    "  Let's work out the steps in Sympy in the following:"
   ]
  },
  {
   "cell_type": "code",
   "execution_count": 25,
   "metadata": {},
   "outputs": [
    {
     "name": "stdout",
     "output_type": "stream",
     "text": [
      "329*a**2/6 - 329*a/6 + 91/6\n"
     ]
    }
   ],
   "source": [
    "import sympy as S\n",
    "from sympy.stats import density, E, Die\n",
    "\n",
    "x=Die('D1',6)     # 1st six sided die\n",
    "y=Die('D2',6)     # 2nd six sides die\n",
    "a=S.symbols('a')\n",
    "z = x+y           # sum of 1st and 2nd die\n",
    "J = E((x-a*(x+y))**2) # expectation\n",
    "print S.simplify(J)"
   ]
  },
  {
   "cell_type": "markdown",
   "metadata": {},
   "source": [
    " With all that setup we can now use basic calculus to minimize the\n",
    "objective function $J$,"
   ]
  },
  {
   "cell_type": "code",
   "execution_count": 26,
   "metadata": {},
   "outputs": [
    {
     "name": "stdout",
     "output_type": "stream",
     "text": [
      "1/2\n"
     ]
    }
   ],
   "source": [
    "sol,=S.solve(S.diff(J,a),a) # using calculus to minimize\n",
    "print sol # solution is 1/2"
   ]
  },
  {
   "cell_type": "markdown",
   "metadata": {},
   "source": [
    "**Programming Tip.**\n",
    "\n",
    "Sympy has a `stats` module that can do some basic work with expressions\n",
    "involving probability densities and expectations. The above code uses its `E`\n",
    "function to compute the expectation.\n",
    "\n",
    "\n",
    "\n",
    " This says that $z/2$ is the MSE estimate of $X$ given $Z$ which means\n",
    "geometrically (interpreting the MSE as a squared distance weighted by the\n",
    "probability mass function) that $z/2$ is as *close* to $x$ as we are going to\n",
    "get for a given $z$.\n",
    "\n",
    "Let's look at the same problem using the conditional expectation operator $\n",
    "\\mathbb{E}(\\cdot|z) $ and apply it to our definition of $Z$. Then"
   ]
  },
  {
   "cell_type": "markdown",
   "metadata": {},
   "source": [
    "$$\n",
    "\\mathbb{E}(z|z)=\\mathbb{E}(x+y|z)=\\mathbb{E}(x|z)+\\mathbb{E}(y|z)=z\n",
    "$$"
   ]
  },
  {
   "cell_type": "markdown",
   "metadata": {},
   "source": [
    " using the linearity of the expectation. Now, since by the\n",
    "symmetry of the problem (i.e., two identical die), we have"
   ]
  },
  {
   "cell_type": "markdown",
   "metadata": {},
   "source": [
    "$$\n",
    "\\mathbb{E}(x|z)=\\mathbb{E}(y|z)\n",
    "$$"
   ]
  },
  {
   "cell_type": "markdown",
   "metadata": {},
   "source": [
    " we can plug this in and solve"
   ]
  },
  {
   "cell_type": "markdown",
   "metadata": {},
   "source": [
    "$$\n",
    "2 \\mathbb{E}(x|z)=z\n",
    "$$"
   ]
  },
  {
   "cell_type": "markdown",
   "metadata": {},
   "source": [
    " which once again gives,"
   ]
  },
  {
   "cell_type": "markdown",
   "metadata": {},
   "source": [
    "$$\n",
    "\\mathbb{E}(x|z)  =\\frac{z}{2}\n",
    "$$"
   ]
  },
  {
   "cell_type": "code",
   "execution_count": 27,
   "metadata": {},
   "outputs": [
    {
     "data": {
      "image/png": "[encoded data removed]",
      "text/plain": [
       "<matplotlib.figure.Figure at 0xdf1ef28>"
      ]
     },
     "metadata": {},
     "output_type": "display_data"
    }
   ],
   "source": [
    "%matplotlib inline\n",
    "\n",
    "from numpy import arange,array\n",
    "from matplotlib.pylab import subplots, cm\n",
    "from sympy import Integer\n",
    "fig,ax = subplots()\n",
    "v = arange(1,7) + arange(1,7)[:,None]\n",
    "foo=lambda i: density(z)[Integer(i)].evalf() # some tweaks to get a float out\n",
    "Zmass=array(map(foo,v.flat),dtype=float).reshape(6,6)\n",
    "\n",
    "pc=ax.pcolor(arange(1,8),arange(1,8),Zmass,cmap=cm.gray)\n",
    "_=ax.set_xticks([(i+0.5) for i in range(1,7)])\n",
    "_=ax.set_xticklabels([str(i) for i in range(1,7)])\n",
    "_=ax.set_yticks([(i+0.5) for i in range(1,7)])\n",
    "_=ax.set_yticklabels([str(i) for i in range(1,7)])\n",
    "for i in range(1,7):\n",
    "    for j in range(1,7):\n",
    "        _=ax.text(i+.5,j+.5,str(i+j),fontsize=18,fontweight='bold',color='goldenrod')\n",
    "\n",
    "_=ax.set_title(r'Probability Mass for $Z$',fontsize=18)    \n",
    "_=ax.set_xlabel('$X$ values',fontsize=18)\n",
    "_=ax.set_ylabel('$Y$ values',fontsize=18);\n",
    "cb=fig.colorbar(pc)\n",
    "_=cb.ax.set_title(r'Probability',fontsize=12)\n",
    "#fig.savefig('fig-probability/Conditional_expectation_MSE_001.png')"
   ]
  },
  {
   "cell_type": "markdown",
   "metadata": {},
   "source": [
    "<!-- dom:FIGURE: [fig-probability/Conditional_expectation_MSE_001.png, width=500 frac=0.85] The values of $Z$ are in yellow with the corresponding values for $X$ and $Y$ on the axes. The gray scale colors indicate the underlying joint probability density. <div id=\"fig:Conditional_expectation_MSE_001\"></div> -->\n",
    "<!-- begin figure -->\n",
    "<div id=\"fig:Conditional_expectation_MSE_001\"></div>\n",
    "\n",
    "<p>The values of $Z$ are in yellow with the corresponding values for $X$ and $Y$ on the axes. The gray scale colors indicate the underlying joint probability density.</p>\n",
    "<img src=\"fig-probability/Conditional_expectation_MSE_001.png\" width=500>\n",
    "\n",
    "<!-- end figure -->\n",
    "\n",
    "\n",
    " which is equal to the estimate we just found by minimizing the MSE.\n",
    "Let's explore this further with [Figure](#fig:Conditional_expectation_MSE_001).  [Figure](#fig:Conditional_expectation_MSE_001) shows the values of $Z$ in yellow with\n",
    "the corresponding values for $X$ and $Y$ on the axes.  Suppose $z=2$, then the\n",
    "closest $X$ to this is $X=1$, which is what $\\mathbb{E}(x|z)=z/2=1$ gives. What\n",
    "happens when $Z=7$? In this case, this value is spread out diagonally along the\n",
    "$X$ axis so if $X=1$, then $Z$ is 6 units away, if $X=2$, then $Z$ is 5 units\n",
    "away and so on.\n",
    "\n",
    "Now, back to the original question, if we had $Z=7$ and we wanted\n",
    "to get as close as we could to this using $X$, then why not choose\n",
    "$X=6$ which is only one unit away from $Z$? The problem with doing\n",
    "that is $X=6$ only occurs 1/6 of the time, so we are not likely to\n",
    "get it right the other 5/6 of the time. So, 1/6 of the time we are\n",
    "one unit away but 5/6 of the time we are much more than one unit\n",
    "away. This means that the MSE score is going to be worse. Since\n",
    "each value of $X$ from 1 to 6 is equally likely, to play it safe,\n",
    "we choose $7/2$ as the estimate, which is what the conditional\n",
    "expectation suggests.\n",
    "\n",
    "We can check this claim with samples using Sympy below:"
   ]
  },
  {
   "cell_type": "code",
   "execution_count": 28,
   "metadata": {},
   "outputs": [
    {
     "name": "stdout",
     "output_type": "stream",
     "text": [
      "MSE=8.44 using 6 vs MSE=2.43 using 7/2 \n"
     ]
    }
   ],
   "source": [
    "import numpy as np\n",
    "from sympy import stats\n",
    "# Eq constrains Z\n",
    "samples_z7 = lambda : stats.sample(x, S.Eq(z,7)) \n",
    "#using 6 as an estimate\n",
    "mn= np.mean([(6-samples_z7())**2 for i in range(100)]) \n",
    "#7/2 is the MSE estimate\n",
    "mn0= np.mean([(7/2.-samples_z7())**2 for i in range(100)]) \n",
    "print 'MSE=%3.2f using 6 vs MSE=%3.2f using 7/2 ' % (mn,mn0)"
   ]
  },
  {
   "cell_type": "markdown",
   "metadata": {},
   "source": [
    "**Programming Tip.**\n",
    "\n",
    "The `stats.sample(x, S.Eq(z,7))` function call samples the `x` variable subject\n",
    "to a condition on the `z` variable. In other words, it generates random samples\n",
    "of `x` die, given that the sum of the outcomes of that die and the `y` die add\n",
    "up to `z==7`.\n",
    "\n",
    "\n",
    "\n",
    " Please run the above code repeatedly in the Jupyter/IPython\n",
    "Notebook corresponding to this section until you have convinced\n",
    "yourself  that the $\\mathbb{E}(x|z)$ gives the lower MSE every\n",
    "time.  To push this reasoning, let's consider the case where the\n",
    "die is so biased so that the outcome of `6` is ten times more\n",
    "probable than any of the other outcomes. That is,"
   ]
  },
  {
   "cell_type": "markdown",
   "metadata": {},
   "source": [
    "$$\n",
    "\\mathbb{P}(6) = 2/3\n",
    "$$"
   ]
  },
  {
   "cell_type": "markdown",
   "metadata": {},
   "source": [
    " whereas $\\mathbb{P}(1)=\\mathbb{P}(2)=\\ldots=\\mathbb{P}(5)=1/15$.\n",
    "We can explore this using Sympy as in the following:"
   ]
  },
  {
   "cell_type": "code",
   "execution_count": 29,
   "metadata": {},
   "outputs": [],
   "source": [
    "# here 6 is ten times more probable than any other outcome\n",
    "x=stats.FiniteRV('D3',{1:1/15., 2:1/15., \n",
    "                       3:1/15., 4:1/15.,\n",
    "                       5:1/15., 6:2/3.})"
   ]
  },
  {
   "cell_type": "markdown",
   "metadata": {},
   "source": [
    " As before, we construct the sum of the two dice, and plot the\n",
    "corresponding probability mass function in [Figure](#fig:Conditional_expectation_MSE_002).  As compared with [Figure](#fig:Conditional_expectation_MSE_001), the probability mass has been shifted\n",
    "away from the smaller numbers."
   ]
  },
  {
   "cell_type": "code",
   "execution_count": 30,
   "metadata": {},
   "outputs": [
    {
     "data": {
      "image/png": "[encoded data removed]",
      "text/plain": [
       "<matplotlib.figure.Figure at 0xc22f198>"
      ]
     },
     "metadata": {},
     "output_type": "display_data"
    }
   ],
   "source": [
    "z = x + y\n",
    "foo=lambda i: density(z)[S.Integer(i)].evalf() # some tweaks to get a float out\n",
    "v = np.arange(1,7) + np.arange(1,7)[:,None]\n",
    "Zmass=np.array(map(foo,v.flat),dtype=float).reshape(6,6)\n",
    "\n",
    "from matplotlib.pylab import subplots, cm\n",
    "fig,ax=subplots()\n",
    "pc=ax.pcolor(np.arange(1,8),np.arange(1,8),Zmass,cmap=cm.gray)\n",
    "_=ax.set_xticks([(i+0.5) for i in range(1,7)])\n",
    "_=ax.set_xticklabels([str(i) for i in range(1,7)])\n",
    "_=ax.set_yticks([(i+0.5) for i in range(1,7)])\n",
    "_=ax.set_yticklabels([str(i) for i in range(1,7)])\n",
    "for i in range(1,7):\n",
    "    for j in range(1,7):\n",
    "        _=ax.text(i+.5,j+.5,str(i+j),fontsize=18,fontweight='bold',color='goldenrod')\n",
    "\n",
    "_=ax.set_title(r'Probability Mass for $Z$; Nonuniform case',fontsize=16)    \n",
    "_=ax.set_xlabel('$X$ values',fontsize=18)\n",
    "_=ax.set_ylabel('$Y$ values',fontsize=18);\n",
    "cb=fig.colorbar(pc)\n",
    "_=cb.ax.set_title(r'Probability',fontsize=12)\n",
    "#fig.savefig('fig-probability/Conditional_expectation_MSE_002.png')"
   ]
  },
  {
   "cell_type": "markdown",
   "metadata": {},
   "source": [
    "<!-- dom:FIGURE: [fig-probability/Conditional_expectation_MSE_002.png, width=500 frac=0.85] The values of $Z$ are in yellow with the corresponding values for $X$ and $Y$ on the axes.  <div id=\"fig:Conditional_expectation_MSE_002\"></div> -->\n",
    "<!-- begin figure -->\n",
    "<div id=\"fig:Conditional_expectation_MSE_002\"></div>\n",
    "\n",
    "<p>The values of $Z$ are in yellow with the corresponding values for $X$ and $Y$ on the axes.</p>\n",
    "<img src=\"fig-probability/Conditional_expectation_MSE_002.png\" width=500>\n",
    "\n",
    "<!-- end figure -->\n",
    "\n",
    "\n",
    "Let's see what the conditional expectation says about how we can estimate $X$\n",
    "from $Z$."
   ]
  },
  {
   "cell_type": "code",
   "execution_count": 31,
   "metadata": {},
   "outputs": [
    {
     "data": {
      "text/plain": [
       "5.00000000000000"
      ]
     },
     "execution_count": 31,
     "metadata": {},
     "output_type": "execute_result"
    }
   ],
   "source": [
    "E(x, S.Eq(z,7)) # conditional expectation E(x|z=7)"
   ]
  },
  {
   "cell_type": "markdown",
   "metadata": {},
   "source": [
    "  Now that we have $\\mathbb{E}(x|z=7) = 5$, we can generate\n",
    "samples as before and see if this gives the minimum MSE."
   ]
  },
  {
   "cell_type": "code",
   "execution_count": 32,
   "metadata": {},
   "outputs": [
    {
     "name": "stdout",
     "output_type": "stream",
     "text": [
      "MSE=4.08 using 6 vs MSE=2.20 using 5 \n"
     ]
    }
   ],
   "source": [
    "samples_z7 = lambda : stats.sample(x, S.Eq(z,7)) \n",
    "#using 6 as an estimate\n",
    "mn= np.mean([(6-samples_z7())**2 for i in range(100)]) \n",
    "#5 is the MSE estimate\n",
    "mn0= np.mean([(5-samples_z7())**2 for i in range(100)]) \n",
    "print 'MSE=%3.2f using 6 vs MSE=%3.2f using 5 ' % (mn,mn0)"
   ]
  },
  {
   "cell_type": "markdown",
   "metadata": {},
   "source": [
    "Using a simple example, we have emphasized the connection between minimum mean\n",
    "squared error problems and conditional expectation. Hopefully, the last two\n",
    "figures helped expose the role of the probability density.  Next, we'll\n",
    "continue revealing  the true power of the conditional expectation as we\n",
    "continue to develop corresponding geometric intuition."
   ]
  },
  {
   "cell_type": "code",
   "execution_count": null,
   "metadata": {},
   "outputs": [],
   "source": []
  }
 ],
 "metadata": {
  "kernelspec": {
   "display_name": "Python 3",
   "language": "python",
   "name": "python3"
  },
  "language_info": {
   "codemirror_mode": {
    "name": "ipython",
    "version": 3
   },
   "file_extension": ".py",
   "mimetype": "text/x-python",
   "name": "python",
   "nbconvert_exporter": "python",
   "pygments_lexer": "ipython3",
   "version": "3.6.6"
  }
 },
 "nbformat": 4,
 "nbformat_minor": 2
}
