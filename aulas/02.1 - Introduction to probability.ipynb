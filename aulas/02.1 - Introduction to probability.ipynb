{
 "cells": [
  {
   "cell_type": "code",
   "execution_count": 1,
   "metadata": {
    "ExecuteTime": {
     "end_time": "2018-09-24T11:58:37.865808Z",
     "start_time": "2018-09-24T11:58:37.479906Z"
    }
   },
   "outputs": [],
   "source": [
    "import numpy as np\n",
    "import pandas as pd\n",
    "\n",
    "import matplotlib as mpl\n",
    "from matplotlib import pyplot as plt\n",
    "%matplotlib inline"
   ]
  },
  {
   "cell_type": "code",
   "execution_count": 2,
   "metadata": {
    "ExecuteTime": {
     "end_time": "2018-09-24T11:58:39.396575Z",
     "start_time": "2018-09-24T11:58:39.392579Z"
    }
   },
   "outputs": [],
   "source": [
    "mpl.style.use('seaborn-darkgrid')\n",
    "mpl.rcParams.update({'font.size': 18})"
   ]
  },
  {
   "cell_type": "code",
   "execution_count": 3,
   "metadata": {
    "ExecuteTime": {
     "end_time": "2018-09-24T11:58:41.149564Z",
     "start_time": "2018-09-24T11:58:41.146567Z"
    }
   },
   "outputs": [],
   "source": [
    "pd.options.display.max_rows = 10"
   ]
  },
  {
   "cell_type": "markdown",
   "metadata": {},
   "source": [
    "# Probability"
   ]
  },
  {
   "cell_type": "markdown",
   "metadata": {},
   "source": [
    "This chapter takes a geometric view of probability theory and relates it to\n",
    "familiar concepts in linear algebra and geometry.  This approach connects your\n",
    "natural geometric intuition to the key abstractions in probability that can\n",
    "help guide your reasoning.  This is particularly important in probability\n",
    "because it is easy to be misled. We need a bit of rigor and some\n",
    "intuition to guide us.\n",
    "\n",
    "In grade school, you were introduced to the natural numbers (i.e., `1,2,3,..`)\n",
    "and you learned how to manipulate them by operations like addition,\n",
    "subtraction, and multiplication. Later, you were introduced to positive and\n",
    "negative numbers and were again taught how to manipulate them. Ultimately, you\n",
    "were introduced to the calculus of the real line, and learned how to\n",
    "differentiate, take limits, and so on. This progression provided more\n",
    "abstractions, but also widened the field of problems you could successfully\n",
    "tackle. The same is true of probability. **One way to think about probability is\n",
    "as a  new number concept that allows you to tackle problems that have a special\n",
    "kind of *uncertainty* built into them. Thus, the key idea is that there is some\n",
    "number, say $x$, with a traveling companion, say, $f(x)$, and this companion\n",
    "represents the uncertainties about the value of $x$ as if looking at the number\n",
    "$x$ through a frosted window. The degree of opacity of the window is\n",
    "represented by $f(x)$.**  If we want to manipulate $x$, then we have to figure\n",
    "out what to do with $f(x)$. For example if we want $y= 2 x $, then we have to\n",
    "understand how $f(x)$ generates $f(y)$. \n",
    "\n",
    "Where is the *random* part?   To conceptualize this, we need still **another\n",
    "analogy: think about a beehive with the swarm around it representing $f(x)$,\n",
    "and the hive itself, which you can barely see through the swarm, as $x$.** The\n",
    "random piece is you don't know *which* bee in particular is going to sting you!\n",
    "Once this happens the uncertainty evaporates.\n",
    "Up until that happens, all we have is a concept of a swarm (i.e., density of\n",
    "bees) which represents a *potentiality* of which bee will ultimately sting.\n",
    "In summary, one way to think about probability is as a way of carrying through\n",
    "mathematical reasoning (e.g., adding, subtracting, taking\n",
    "limits) with a notion of potentiality that is so-transformed by these\n",
    "operations.\n",
    "\n",
    "## Understanding Probability Density\n",
    "\n",
    "In order to understand the heart of modern probability, which is built\n",
    "on the **Lesbesgue theory of integration**, we need to extend the concept\n",
    "of integration from basic calculus. To begin, let us consider the\n",
    "following piecewise function"
   ]
  },
  {
   "cell_type": "markdown",
   "metadata": {},
   "source": [
    "$$\n",
    "f(x)  =  \\begin{cases}\n",
    "                1 & \\mbox{if }  0 < x \\leq 1 \\\\\\\n",
    "                2 & \\mbox{if }  1 < x \\leq 2 \\\\\\\n",
    "                0 & \\mbox{otherwise }\n",
    "            \\end{cases}\n",
    "$$"
   ]
  },
  {
   "cell_type": "markdown",
   "metadata": {},
   "source": [
    " as shown in [Figure](#fig:intro_001). In calculus, **you learned\n",
    "Riemann integration**, which you can apply here  as\n",
    "\n",
    "<!-- dom:FIGURE: [fig-probability/intro_001.jpg, width=500 frac=0.75]  <div id=\"fig:intro_001\"></div> -->\n",
    "<!-- begin figure -->\n",
    "<div id=\"fig:intro_001\"></div>\n",
    "\n",
    "<p></p>\n",
    "<img src=\"fig-probability/intro_001.jpg\" width=500>\n",
    "\n",
    "<!-- end figure -->"
   ]
  },
  {
   "cell_type": "markdown",
   "metadata": {},
   "source": [
    "$$\n",
    "\\int_0^2 f(x) dx = 1 + 2 = 3\n",
    "$$"
   ]
  },
  {
   "cell_type": "markdown",
   "metadata": {},
   "source": [
    " which has the **usual interpretation as the area of the two rectangles\n",
    "that make up $f(x)$**.  So far, so good.\n",
    "\n",
    "With **Lesbesgue integration, the idea is very similar except that we\n",
    "focus on the y-axis instead of moving along the x-axis.**\n",
    "\n",
    "The question is given $f(x) = 1$, what is the set of $x$ values for which this is\n",
    "true? For our example, this is true whenever $x\\in (0,1]$. \n",
    "\n",
    "So now we have a correspondence between the values of the function (namely, `1`\n",
    "and `2`) and the sets of $x$ values for which this is true, namely,\n",
    "$\\lbrace (0,1] \\rbrace$ and $\\lbrace (1,2] \\rbrace$, respectively. \n",
    "\n",
    "To compute the integral, we simply take the function values (i.e., `1,2`)\n",
    "and **some way of measuring the size of the corresponding interval**\n",
    "(i.e.,  $\\mu$) as in the following:"
   ]
  },
  {
   "cell_type": "markdown",
   "metadata": {},
   "source": [
    "$$\n",
    "\\int_0^2 f d\\mu = 1 \\mu(\\lbrace (0,1] \\rbrace) + 2 \\mu(\\lbrace (1,2] \\rbrace)\n",
    "$$"
   ]
  },
  {
   "cell_type": "markdown",
   "metadata": {},
   "source": [
    "We have suppressed some of the notation above to emphasize generality. \n",
    "\n",
    "**Note\n",
    "that we obtain the same value of the integral as in the Riemann case when\n",
    "$\\mu((0,1]) = \\mu((1,2]) = 1$.**\n",
    "\n",
    "By introducing the $\\mu$ function as  a way of\n",
    "measuring the intervals above, we have introduced another degree of freedom in\n",
    "our integration. \n",
    "\n",
    "This accommodates many weird functions that are not tractable\n",
    "using the usual Riemann theory, but we refer you to a proper introduction to\n",
    "Lesbesgue integration for further study [[jones2001lebesgue]](#jones2001lebesgue).  \n",
    "\n",
    "**Nonetheless,\n",
    "the key step in the above discussion is the introduction of the $\\mu$ function,\n",
    "which we will encounter again as the so-called probability density function.**\n",
    "\n",
    "## Random Variables\n",
    "\n",
    "Most introductions to probability jump straight into *random variables* and\n",
    "then explain how to compute complicated integrals. The problem with this\n",
    "approach is that it skips over some of the important subtleties that we will now\n",
    "consider. \n",
    "\n",
    "Unfortunately, the term *random variable* is not very descriptive. A\n",
    "better term is *measurable function*.  \n",
    "\n",
    "\n",
    "To understand why this is a better term,\n",
    "we have to dive into the formal constructions of probability by way of a simple\n",
    "example.\n",
    "\n",
    "Consider tossing a fair six-sided die. There are only six outcomes possible,"
   ]
  },
  {
   "cell_type": "markdown",
   "metadata": {},
   "source": [
    "$$\n",
    "\\Omega=\\lbrace 1,2,3,4,5,6 \\rbrace\n",
    "$$"
   ]
  },
  {
   "cell_type": "markdown",
   "metadata": {},
   "source": [
    "As we know, if the die is fair, then the probability of each outcome is $1/6$.\n",
    "\n",
    "To say this formally, the measure  of each set (i.e., $\\lbrace 1 \\rbrace,\\lbrace\n",
    "2 \\rbrace,\\ldots,\\lbrace 6 \\rbrace$) is $\\mu(\\lbrace 1 \\rbrace ) =\\mu(\\lbrace 2\n",
    "\\rbrace ) \\ldots = \\mu(\\lbrace 6 \\rbrace ) = 1/6$. \n",
    "\n",
    "In this case, the $\\mu$\n",
    "function we discussed earlier is the usual *probability* mass function, denoted by\n",
    "$\\mathbb{P}$. The measurable function  maps a set into a\n",
    "number on the real line. For example, $ \\lbrace 1 \\rbrace \\mapsto 1 $ is\n",
    "one such  uninteresting function.\n",
    "\n",
    "Now, here's where things get interesting. \n",
    "\n",
    "\n",
    "**Suppose you were asked to construct a fair coin from the fair die.** In other words, we want to throw the die and then record the outcomes as if we had just tossed a fair coin. How could we do this?\n",
    "\n",
    "\n",
    "One way would be to define a measurable function that says if the die comes up\n",
    "`3` or less, then we declare *heads* and otherwise declare *tails*. This has\n",
    "some strong intuition behind it, but let's articulate it in terms of formal\n",
    "theory.  \n",
    "\n",
    "\n",
    "This strategy creates two different non-overlapping sets $\\lbrace\n",
    "1,2,3 \\rbrace$ and $\\lbrace 4,5,6 \\rbrace$. Each set has the same probability\n",
    "*measure*,"
   ]
  },
  {
   "cell_type": "markdown",
   "metadata": {},
   "source": [
    "$$\n",
    "\\begin{eqnarray*}\n",
    "\\mathbb{P}(\\lbrace 1,2,3 \\rbrace)  & = &  1/2  \\\\\\\n",
    "\\mathbb{P}(\\lbrace 4,5,6 \\rbrace) & = & 1/2\n",
    "\\end{eqnarray*}\n",
    "$$"
   ]
  },
  {
   "cell_type": "markdown",
   "metadata": {},
   "source": [
    " And the problem is solved. Everytime the die comes up\n",
    "$\\lbrace 1,2,3 \\rbrace$, we record heads and record tails otherwise.\n",
    "\n",
    "Is this the only way to construct a fair coin experiment from a\n",
    "fair die? \n",
    "\n",
    "Alternatively, we can define the sets as $\\lbrace 1 \\rbrace$,\n",
    "$\\lbrace 2 \\rbrace$, $\\lbrace 3,4,5,6 \\rbrace$. If we define the corresponding\n",
    "measure for each set as the following"
   ]
  },
  {
   "cell_type": "markdown",
   "metadata": {},
   "source": [
    "$$\n",
    "\\begin{eqnarray*}\n",
    "\\mathbb{P}(\\lbrace 1 \\rbrace)  & = &  1/2  \\\\\\\n",
    "\\mathbb{P}(\\lbrace 2 \\rbrace) & = & 1/2 \\\\\\\n",
    "\\mathbb{P}(\\lbrace 3,4,5,6 \\rbrace) & = & 0\n",
    "\\end{eqnarray*}\n",
    "$$"
   ]
  },
  {
   "cell_type": "markdown",
   "metadata": {},
   "source": [
    "  then, we have another solution to the fair coin problem. To\n",
    "implement this, all we do is ignore every time the die shows `3,4,5,6` and\n",
    "throw again. \n",
    "\n",
    "This is wasteful, but it solves the problem.  Nonetheless,\n",
    "we hope you can see how the interlocking pieces of the theory provide a\n",
    "framework for carrying the notion of uncertainty/potentiality from one problem\n",
    "to the next (e.g., from the fair die to the fair coin). \n",
    "\n",
    "**Let's consider a slightly more interesting problem where we toss two dice.** \n",
    "\n",
    "We\n",
    "assume that each throw is *independent*, meaning that the outcome of one does\n",
    "not influence the other. What are the sets in this case? They are all pairs\n",
    "of possible outcomes from two throws as shown below,"
   ]
  },
  {
   "cell_type": "markdown",
   "metadata": {},
   "source": [
    "$$\n",
    "\\Omega = \\lbrace (1,1),(1,2),\\ldots,(5,6),(6,6) \\rbrace\n",
    "$$"
   ]
  },
  {
   "cell_type": "markdown",
   "metadata": {},
   "source": [
    "  What are the measures of each of these sets? \n",
    "  \n",
    "  By virtue of the\n",
    "independence claim, the measure of each is the product of the respective measures\n",
    "of each element.  For instance,"
   ]
  },
  {
   "cell_type": "markdown",
   "metadata": {},
   "source": [
    "$$\n",
    "\\mathbb{P}((1,2)) = \\mathbb{P}(\\lbrace 1 \\rbrace) \\mathbb{P}(\\lbrace 2 \\rbrace) = \\frac{1}{6^2}\n",
    "$$"
   ]
  },
  {
   "cell_type": "markdown",
   "metadata": {},
   "source": [
    " With all that established, we can ask the following\n",
    "question: \n",
    "\n",
    "**what is the probability that the sum of the dice equals\n",
    "seven?** \n",
    "\n",
    "As before, the first thing to do is characterize the\n",
    "measurable function for this as $X:(a,b) \\mapsto (a+b)$.  Next, we\n",
    "associate all of the $(a,b)$ pairs with their sum. We can create a\n",
    "Python dictionary for this as shown,"
   ]
  },
  {
   "cell_type": "code",
   "execution_count": 58,
   "metadata": {},
   "outputs": [],
   "source": [
    "d={(i,j):i+j for i in range(1,7) for j in range(1,7)}"
   ]
  },
  {
   "cell_type": "code",
   "execution_count": 59,
   "metadata": {},
   "outputs": [],
   "source": [
    "d = dict(d) # python 3"
   ]
  },
  {
   "cell_type": "markdown",
   "metadata": {},
   "source": [
    " The next step is to collect all of the $(a,b)$ pairs that sum to\n",
    "each of the possible values from two to twelve."
   ]
  },
  {
   "cell_type": "code",
   "execution_count": 60,
   "metadata": {},
   "outputs": [],
   "source": [
    "from collections import defaultdict\n",
    "dinv = defaultdict(list)"
   ]
  },
  {
   "cell_type": "code",
   "execution_count": 61,
   "metadata": {},
   "outputs": [
    {
     "name": "stdout",
     "output_type": "stream",
     "text": [
      "[2, (1, 1)]\n",
      "[3, (1, 2)]\n",
      "[4, (1, 3)]\n",
      "[5, (1, 4)]\n",
      "[6, (1, 5)]\n",
      "[7, (1, 6)]\n",
      "[3, (2, 1)]\n",
      "[4, (2, 2)]\n",
      "[5, (2, 3)]\n",
      "[6, (2, 4)]\n",
      "[7, (2, 5)]\n",
      "[8, (2, 6)]\n",
      "[4, (3, 1)]\n",
      "[5, (3, 2)]\n",
      "[6, (3, 3)]\n",
      "[7, (3, 4)]\n",
      "[8, (3, 5)]\n",
      "[9, (3, 6)]\n",
      "[5, (4, 1)]\n",
      "[6, (4, 2)]\n",
      "[7, (4, 3)]\n",
      "[8, (4, 4)]\n",
      "[9, (4, 5)]\n",
      "[10, (4, 6)]\n",
      "[6, (5, 1)]\n",
      "[7, (5, 2)]\n",
      "[8, (5, 3)]\n",
      "[9, (5, 4)]\n",
      "[10, (5, 5)]\n",
      "[11, (5, 6)]\n",
      "[7, (6, 1)]\n",
      "[8, (6, 2)]\n",
      "[9, (6, 3)]\n",
      "[10, (6, 4)]\n",
      "[11, (6, 5)]\n",
      "[12, (6, 6)]\n"
     ]
    }
   ],
   "source": [
    "for i,j in iter(d.items()):\n",
    "    print([j,i])"
   ]
  },
  {
   "cell_type": "code",
   "execution_count": 62,
   "metadata": {},
   "outputs": [],
   "source": [
    "for i,j in iter(d.items()): # python 3\n",
    "    dinv[j].append(i)"
   ]
  },
  {
   "cell_type": "code",
   "execution_count": 63,
   "metadata": {},
   "outputs": [
    {
     "data": {
      "text/plain": [
       "defaultdict(list,\n",
       "            {2: [(1, 1)],\n",
       "             3: [(1, 2), (2, 1)],\n",
       "             4: [(1, 3), (2, 2), (3, 1)],\n",
       "             5: [(1, 4), (2, 3), (3, 2), (4, 1)],\n",
       "             6: [(1, 5), (2, 4), (3, 3), (4, 2), (5, 1)],\n",
       "             7: [(1, 6), (2, 5), (3, 4), (4, 3), (5, 2), (6, 1)],\n",
       "             8: [(2, 6), (3, 5), (4, 4), (5, 3), (6, 2)],\n",
       "             9: [(3, 6), (4, 5), (5, 4), (6, 3)],\n",
       "             10: [(4, 6), (5, 5), (6, 4)],\n",
       "             11: [(5, 6), (6, 5)],\n",
       "             12: [(6, 6)]})"
      ]
     },
     "execution_count": 63,
     "metadata": {},
     "output_type": "execute_result"
    }
   ],
   "source": [
    "dinv"
   ]
  },
  {
   "cell_type": "markdown",
   "metadata": {},
   "source": [
    "**Programming Tip.**\n",
    "\n",
    "The `defaultdict` object from the built-in collections module creates dictionaries with\n",
    "default values when it encounters a new key. Otherwise, we would have had to\n",
    "create default values manually for a regular dictionary.\n",
    "\n",
    "\n",
    "\n",
    " For example, `dinv[7]` contains the following list of pairs that\n",
    "sum to seven,"
   ]
  },
  {
   "cell_type": "code",
   "execution_count": 64,
   "metadata": {},
   "outputs": [
    {
     "data": {
      "text/plain": [
       "[(1, 6), (2, 5), (3, 4), (4, 3), (5, 2), (6, 1)]"
      ]
     },
     "execution_count": 64,
     "metadata": {},
     "output_type": "execute_result"
    }
   ],
   "source": [
    "dinv[7]"
   ]
  },
  {
   "cell_type": "markdown",
   "metadata": {},
   "source": [
    "The next step is to compute the probability measured for each of these items.\n",
    "Using the independence assumption, this means we have to compute the sum of the\n",
    "products of the individual item probabilities in `dinv`. \n",
    "\n",
    "Because we know that\n",
    "each outcome is equally likely, every term in the sum equals $1/36$. \n",
    "\n",
    "Thus, all\n",
    "we have to do is count the number of items in the corresponding list for each\n",
    "key in `dinv` and divide by `36`. \n",
    "\n",
    "For example,  `dinv[11]` contains `[(5, 6),\n",
    "(6, 5)]`.  The probability of `5+6=6+5=11` is the probability of this set which\n",
    "is composed of the sum of the probabilities of the individual elements\n",
    "`{(5,6),(6,5)}`. \n",
    "\n",
    "In this case, we have $\\mathbb{P}(11) = \\mathbb{P}(\\lbrace\n",
    "(5,6) \\rbrace)+ \\mathbb{P}(\\lbrace (6,5) \\rbrace) = 1/36 + 1/36 = 2/36$.\n",
    "Repeating this procedure for all the elements, we derive the probability mass\n",
    "function as shown below,"
   ]
  },
  {
   "cell_type": "code",
   "execution_count": 18,
   "metadata": {},
   "outputs": [
    {
     "data": {
      "text/plain": [
       "<dict_itemiterator at 0x11edcf318>"
      ]
     },
     "execution_count": 18,
     "metadata": {},
     "output_type": "execute_result"
    }
   ],
   "source": [
    "iter(dinv.items())"
   ]
  },
  {
   "cell_type": "code",
   "execution_count": 65,
   "metadata": {},
   "outputs": [],
   "source": [
    "X=[[i,len(j)/36.] for i,j in iter(dinv.items())]"
   ]
  },
  {
   "cell_type": "code",
   "execution_count": 66,
   "metadata": {},
   "outputs": [
    {
     "data": {
      "text/plain": [
       "[[2, 0.027777777777777776],\n",
       " [3, 0.05555555555555555],\n",
       " [4, 0.08333333333333333],\n",
       " [5, 0.1111111111111111],\n",
       " [6, 0.1388888888888889],\n",
       " [7, 0.16666666666666666],\n",
       " [8, 0.1388888888888889],\n",
       " [9, 0.1111111111111111],\n",
       " [10, 0.08333333333333333],\n",
       " [11, 0.05555555555555555],\n",
       " [12, 0.027777777777777776]]"
      ]
     },
     "execution_count": 66,
     "metadata": {},
     "output_type": "execute_result"
    }
   ],
   "source": [
    "X"
   ]
  },
  {
   "cell_type": "code",
   "execution_count": 67,
   "metadata": {},
   "outputs": [
    {
     "data": {
      "text/plain": [
       "[<matplotlib.lines.Line2D at 0x11f4c5fd0>]"
      ]
     },
     "execution_count": 67,
     "metadata": {},
     "output_type": "execute_result"
    },
    {
     "data": {
      "image/png": "[encoded data removed]",
      "text/plain": [
       "<Figure size 432x288 with 1 Axes>"
      ]
     },
     "metadata": {},
     "output_type": "display_data"
    }
   ],
   "source": [
    "plt.plot(np.asarray(X).T[0],np.asarray(X).T[1],'-o')"
   ]
  },
  {
   "cell_type": "markdown",
   "metadata": {},
   "source": [
    "**Programming Tip.**\n",
    "\n",
    "In the preceding code note that `36.` is written with\n",
    "the trailing decimal mark. This is a good habit to get into because division\n",
    "in Python 2.x is integer division by default, which is not what we want here.\n",
    "This can be fixed with a top-level `from __future__ import division`, but\n",
    "that's easy to forget to do, especially when you are passing code\n",
    "around and others may not reflexively do the future import.\n",
    "\n",
    "\n",
    "\n",
    "The above example exposes the elements of probability theory that\n",
    "are in play for this simple problem while deliberately suppressing some of the\n",
    "gory technical details. \n",
    "\n",
    "\n",
    "With this framework, we can ask other questions like\n",
    "**what is the probability that half the product of three dice will exceed the\n",
    "their sum?** We can solve this using the same method as in the following. First,\n",
    "let's create the first mapping,"
   ]
  },
  {
   "cell_type": "code",
   "execution_count": 28,
   "metadata": {},
   "outputs": [],
   "source": [
    "dl = []\n",
    "for i in range(1,7):\n",
    "    for j in range(1,7):\n",
    "        for k in range(1,7):\n",
    "            dl.append([(i,j,k), ((i*j*k)/2>i+j+k)])"
   ]
  },
  {
   "cell_type": "code",
   "execution_count": 29,
   "metadata": {},
   "outputs": [],
   "source": [
    "d = dict(dl)"
   ]
  },
  {
   "cell_type": "code",
   "execution_count": 30,
   "metadata": {},
   "outputs": [
    {
     "data": {
      "text/plain": [
       "216"
      ]
     },
     "execution_count": 30,
     "metadata": {},
     "output_type": "execute_result"
    }
   ],
   "source": [
    "len(d)"
   ]
  },
  {
   "cell_type": "code",
   "execution_count": 31,
   "metadata": {},
   "outputs": [],
   "source": [
    "d=dict({(i,j,k):((i*j*k)/2>i+j+k) for i in range(1,7) \n",
    "                                  for j in range(1,7)  \n",
    "                                  for k in range(1,7)})"
   ]
  },
  {
   "cell_type": "code",
   "execution_count": 32,
   "metadata": {},
   "outputs": [
    {
     "data": {
      "text/plain": [
       "216"
      ]
     },
     "execution_count": 32,
     "metadata": {},
     "output_type": "execute_result"
    }
   ],
   "source": [
    "len(d)"
   ]
  },
  {
   "cell_type": "markdown",
   "metadata": {},
   "source": [
    " **The keys of this dictionary are the triples and the values are the\n",
    "logical values of whether or not half the product of three dice exceeds their sum.**\n",
    "\n",
    "\n",
    "Now, we do the inverse mapping to collect the corresponding lists,"
   ]
  },
  {
   "cell_type": "code",
   "execution_count": 34,
   "metadata": {},
   "outputs": [],
   "source": [
    "dinv = defaultdict(list)\n",
    "for i,j in iter(d.items()): \n",
    "    dinv[j].append(i)"
   ]
  },
  {
   "cell_type": "code",
   "execution_count": 28,
   "metadata": {},
   "outputs": [
    {
     "data": {
      "text/plain": [
       "2"
      ]
     },
     "execution_count": 28,
     "metadata": {},
     "output_type": "execute_result"
    }
   ],
   "source": [
    "len(dinv)"
   ]
  },
  {
   "cell_type": "markdown",
   "metadata": {},
   "source": [
    " Note that `dinv` contains only two keys, `True` and `False`. Again,\n",
    "because the dice are independent, the probability of any triple is $1/6^3$.\n",
    "Finally, we collect this for each outcome as in the following,"
   ]
  },
  {
   "cell_type": "code",
   "execution_count": 36,
   "metadata": {},
   "outputs": [
    {
     "data": {
      "text/plain": [
       "[[False, 0.37037037037037035], [True, 0.6296296296296297]]"
      ]
     },
     "execution_count": 36,
     "metadata": {},
     "output_type": "execute_result"
    }
   ],
   "source": [
    "X=[[i,len(j)/6.0**3] for i,j in iter(dinv.items())]\n",
    "X"
   ]
  },
  {
   "cell_type": "markdown",
   "metadata": {},
   "source": [
    " Thus, the probability of half the product of three dice exceeding their sum is\n",
    "`136/(6.0**3) = 0.63`. The set that is induced by the random variable has only\n",
    "two elements in it, `True` and `False`, with $\\mathbb{P}(\\mbox{True})=136/216$\n",
    "and $\\mathbb{P}(\\mbox{False})=1-136/216$.\n",
    "\n",
    "As a final example to exercise another layer of generality, **let is consider the\n",
    "first problem with the two dice where we want the probability of a\n",
    "seven, but this time one of the dice is no longer fair.**  The distribution for\n",
    "the unfair die is the following:"
   ]
  },
  {
   "cell_type": "markdown",
   "metadata": {},
   "source": [
    "$$\n",
    "\\begin{eqnarray*}\n",
    "\\mathbb{P}(\\lbrace 1\\rbrace)=\\mathbb{P}(\\lbrace 2 \\rbrace)=\\mathbb{P}(\\lbrace 3 \\rbrace)  = \\frac{1}{9} \\\\\\\n",
    "\\mathbb{P}(\\lbrace 4\\rbrace)=\\mathbb{P}(\\lbrace 5 \\rbrace)=\\mathbb{P}(\\lbrace 6 \\rbrace)  = \\frac{2}{9} \n",
    "\\end{eqnarray*}\n",
    "$$"
   ]
  },
  {
   "cell_type": "markdown",
   "metadata": {},
   "source": [
    "From our earlier work, we know the elements corresponding to the sum of seven\n",
    "are the following:"
   ]
  },
  {
   "cell_type": "markdown",
   "metadata": {},
   "source": [
    "$$\n",
    "\\lbrace (1,6),(2,5),(3,4),(4,3),(5,2),(6,1) \\rbrace\n",
    "$$"
   ]
  },
  {
   "cell_type": "markdown",
   "metadata": {},
   "source": [
    "  Because we still have the independence assumption, **all we need to\n",
    "change is the probability computation of each of elements.** For example, given\n",
    "that the first die is the unfair one, we have"
   ]
  },
  {
   "cell_type": "markdown",
   "metadata": {},
   "source": [
    "$$\n",
    "\\mathbb{P}((1,6)) = \\mathbb{P}(1)\\mathbb{P}(6) = \\frac{1}{9} \\times \\frac{1}{6}\n",
    "$$"
   ]
  },
  {
   "cell_type": "markdown",
   "metadata": {},
   "source": [
    "  and likewise for $(2,5)$ we have the following:"
   ]
  },
  {
   "cell_type": "markdown",
   "metadata": {},
   "source": [
    "$$\n",
    "\\mathbb{P}((2,5)) = \\mathbb{P}(2)\\mathbb{P}(5) = \\frac{1}{9} \\times \\frac{1}{6}\n",
    "$$"
   ]
  },
  {
   "cell_type": "markdown",
   "metadata": {},
   "source": [
    "  and so forth. Summing all of these gives the following:"
   ]
  },
  {
   "cell_type": "markdown",
   "metadata": {},
   "source": [
    "$$\n",
    "\\mathbb{P}_X(7) =  \\frac{1}{9} \\times \\frac{1}{6} \n",
    "                      +\\frac{1}{9} \\times \\frac{1}{6} \n",
    "                      +\\frac{1}{9} \\times \\frac{1}{6} \n",
    "                      +\\frac{2}{9} \\times \\frac{1}{6} \n",
    "                      +\\frac{2}{9} \\times \\frac{1}{6} \n",
    "                      +\\frac{2}{9} \\times \\frac{1}{6}  = \\frac{1}{6}\n",
    "$$"
   ]
  },
  {
   "cell_type": "markdown",
   "metadata": {},
   "source": [
    " Let's try computing this using Pandas instead\n",
    "of Python dictionaries. First, we construct\n",
    "a `DataFrame` object with an index of tuples\n",
    "consisting of all pairs of possible dice outcomes."
   ]
  },
  {
   "cell_type": "code",
   "execution_count": 69,
   "metadata": {},
   "outputs": [],
   "source": [
    "d=pd.DataFrame(index=[(i,j) for i in range(1,7) for j in range(1,7)],\n",
    "            columns=['sm','d1','d2','pd1','pd2','p'])"
   ]
  },
  {
   "cell_type": "code",
   "execution_count": 70,
   "metadata": {},
   "outputs": [
    {
     "data": {
      "text/html": [
       "<div>\n",
       "<style scoped>\n",
       "    .dataframe tbody tr th:only-of-type {\n",
       "        vertical-align: middle;\n",
       "    }\n",
       "\n",
       "    .dataframe tbody tr th {\n",
       "        vertical-align: top;\n",
       "    }\n",
       "\n",
       "    .dataframe thead th {\n",
       "        text-align: right;\n",
       "    }\n",
       "</style>\n",
       "<table border=\"1\" class=\"dataframe\">\n",
       "  <thead>\n",
       "    <tr style=\"text-align: right;\">\n",
       "      <th></th>\n",
       "      <th>sm</th>\n",
       "      <th>d1</th>\n",
       "      <th>d2</th>\n",
       "      <th>pd1</th>\n",
       "      <th>pd2</th>\n",
       "      <th>p</th>\n",
       "    </tr>\n",
       "  </thead>\n",
       "  <tbody>\n",
       "    <tr>\n",
       "      <th>(1, 1)</th>\n",
       "      <td>NaN</td>\n",
       "      <td>NaN</td>\n",
       "      <td>NaN</td>\n",
       "      <td>NaN</td>\n",
       "      <td>NaN</td>\n",
       "      <td>NaN</td>\n",
       "    </tr>\n",
       "    <tr>\n",
       "      <th>(1, 2)</th>\n",
       "      <td>NaN</td>\n",
       "      <td>NaN</td>\n",
       "      <td>NaN</td>\n",
       "      <td>NaN</td>\n",
       "      <td>NaN</td>\n",
       "      <td>NaN</td>\n",
       "    </tr>\n",
       "    <tr>\n",
       "      <th>(1, 3)</th>\n",
       "      <td>NaN</td>\n",
       "      <td>NaN</td>\n",
       "      <td>NaN</td>\n",
       "      <td>NaN</td>\n",
       "      <td>NaN</td>\n",
       "      <td>NaN</td>\n",
       "    </tr>\n",
       "    <tr>\n",
       "      <th>(1, 4)</th>\n",
       "      <td>NaN</td>\n",
       "      <td>NaN</td>\n",
       "      <td>NaN</td>\n",
       "      <td>NaN</td>\n",
       "      <td>NaN</td>\n",
       "      <td>NaN</td>\n",
       "    </tr>\n",
       "    <tr>\n",
       "      <th>(1, 5)</th>\n",
       "      <td>NaN</td>\n",
       "      <td>NaN</td>\n",
       "      <td>NaN</td>\n",
       "      <td>NaN</td>\n",
       "      <td>NaN</td>\n",
       "      <td>NaN</td>\n",
       "    </tr>\n",
       "    <tr>\n",
       "      <th>...</th>\n",
       "      <td>...</td>\n",
       "      <td>...</td>\n",
       "      <td>...</td>\n",
       "      <td>...</td>\n",
       "      <td>...</td>\n",
       "      <td>...</td>\n",
       "    </tr>\n",
       "    <tr>\n",
       "      <th>(6, 2)</th>\n",
       "      <td>NaN</td>\n",
       "      <td>NaN</td>\n",
       "      <td>NaN</td>\n",
       "      <td>NaN</td>\n",
       "      <td>NaN</td>\n",
       "      <td>NaN</td>\n",
       "    </tr>\n",
       "    <tr>\n",
       "      <th>(6, 3)</th>\n",
       "      <td>NaN</td>\n",
       "      <td>NaN</td>\n",
       "      <td>NaN</td>\n",
       "      <td>NaN</td>\n",
       "      <td>NaN</td>\n",
       "      <td>NaN</td>\n",
       "    </tr>\n",
       "    <tr>\n",
       "      <th>(6, 4)</th>\n",
       "      <td>NaN</td>\n",
       "      <td>NaN</td>\n",
       "      <td>NaN</td>\n",
       "      <td>NaN</td>\n",
       "      <td>NaN</td>\n",
       "      <td>NaN</td>\n",
       "    </tr>\n",
       "    <tr>\n",
       "      <th>(6, 5)</th>\n",
       "      <td>NaN</td>\n",
       "      <td>NaN</td>\n",
       "      <td>NaN</td>\n",
       "      <td>NaN</td>\n",
       "      <td>NaN</td>\n",
       "      <td>NaN</td>\n",
       "    </tr>\n",
       "    <tr>\n",
       "      <th>(6, 6)</th>\n",
       "      <td>NaN</td>\n",
       "      <td>NaN</td>\n",
       "      <td>NaN</td>\n",
       "      <td>NaN</td>\n",
       "      <td>NaN</td>\n",
       "      <td>NaN</td>\n",
       "    </tr>\n",
       "  </tbody>\n",
       "</table>\n",
       "<p>36 rows × 6 columns</p>\n",
       "</div>"
      ],
      "text/plain": [
       "         sm   d1   d2  pd1  pd2    p\n",
       "(1, 1)  NaN  NaN  NaN  NaN  NaN  NaN\n",
       "(1, 2)  NaN  NaN  NaN  NaN  NaN  NaN\n",
       "(1, 3)  NaN  NaN  NaN  NaN  NaN  NaN\n",
       "(1, 4)  NaN  NaN  NaN  NaN  NaN  NaN\n",
       "(1, 5)  NaN  NaN  NaN  NaN  NaN  NaN\n",
       "...     ...  ...  ...  ...  ...  ...\n",
       "(6, 2)  NaN  NaN  NaN  NaN  NaN  NaN\n",
       "(6, 3)  NaN  NaN  NaN  NaN  NaN  NaN\n",
       "(6, 4)  NaN  NaN  NaN  NaN  NaN  NaN\n",
       "(6, 5)  NaN  NaN  NaN  NaN  NaN  NaN\n",
       "(6, 6)  NaN  NaN  NaN  NaN  NaN  NaN\n",
       "\n",
       "[36 rows x 6 columns]"
      ]
     },
     "execution_count": 70,
     "metadata": {},
     "output_type": "execute_result"
    }
   ],
   "source": [
    "d"
   ]
  },
  {
   "cell_type": "markdown",
   "metadata": {},
   "source": [
    " Now, we can populate the columns that we set up above\n",
    "where the outcome of the first die is the `d1` column and\n",
    "the outcome of the second die is `d2`,"
   ]
  },
  {
   "cell_type": "code",
   "execution_count": 71,
   "metadata": {},
   "outputs": [],
   "source": [
    "d.d1=[i[0] for i in d.index]\n",
    "d.d2=[i[1] for i in d.index]"
   ]
  },
  {
   "cell_type": "code",
   "execution_count": 72,
   "metadata": {},
   "outputs": [
    {
     "data": {
      "text/html": [
       "<div>\n",
       "<style scoped>\n",
       "    .dataframe tbody tr th:only-of-type {\n",
       "        vertical-align: middle;\n",
       "    }\n",
       "\n",
       "    .dataframe tbody tr th {\n",
       "        vertical-align: top;\n",
       "    }\n",
       "\n",
       "    .dataframe thead th {\n",
       "        text-align: right;\n",
       "    }\n",
       "</style>\n",
       "<table border=\"1\" class=\"dataframe\">\n",
       "  <thead>\n",
       "    <tr style=\"text-align: right;\">\n",
       "      <th></th>\n",
       "      <th>sm</th>\n",
       "      <th>d1</th>\n",
       "      <th>d2</th>\n",
       "      <th>pd1</th>\n",
       "      <th>pd2</th>\n",
       "      <th>p</th>\n",
       "    </tr>\n",
       "  </thead>\n",
       "  <tbody>\n",
       "    <tr>\n",
       "      <th>(1, 1)</th>\n",
       "      <td>NaN</td>\n",
       "      <td>1</td>\n",
       "      <td>1</td>\n",
       "      <td>NaN</td>\n",
       "      <td>NaN</td>\n",
       "      <td>NaN</td>\n",
       "    </tr>\n",
       "    <tr>\n",
       "      <th>(1, 2)</th>\n",
       "      <td>NaN</td>\n",
       "      <td>1</td>\n",
       "      <td>2</td>\n",
       "      <td>NaN</td>\n",
       "      <td>NaN</td>\n",
       "      <td>NaN</td>\n",
       "    </tr>\n",
       "    <tr>\n",
       "      <th>(1, 3)</th>\n",
       "      <td>NaN</td>\n",
       "      <td>1</td>\n",
       "      <td>3</td>\n",
       "      <td>NaN</td>\n",
       "      <td>NaN</td>\n",
       "      <td>NaN</td>\n",
       "    </tr>\n",
       "    <tr>\n",
       "      <th>(1, 4)</th>\n",
       "      <td>NaN</td>\n",
       "      <td>1</td>\n",
       "      <td>4</td>\n",
       "      <td>NaN</td>\n",
       "      <td>NaN</td>\n",
       "      <td>NaN</td>\n",
       "    </tr>\n",
       "    <tr>\n",
       "      <th>(1, 5)</th>\n",
       "      <td>NaN</td>\n",
       "      <td>1</td>\n",
       "      <td>5</td>\n",
       "      <td>NaN</td>\n",
       "      <td>NaN</td>\n",
       "      <td>NaN</td>\n",
       "    </tr>\n",
       "    <tr>\n",
       "      <th>...</th>\n",
       "      <td>...</td>\n",
       "      <td>...</td>\n",
       "      <td>...</td>\n",
       "      <td>...</td>\n",
       "      <td>...</td>\n",
       "      <td>...</td>\n",
       "    </tr>\n",
       "    <tr>\n",
       "      <th>(6, 2)</th>\n",
       "      <td>NaN</td>\n",
       "      <td>6</td>\n",
       "      <td>2</td>\n",
       "      <td>NaN</td>\n",
       "      <td>NaN</td>\n",
       "      <td>NaN</td>\n",
       "    </tr>\n",
       "    <tr>\n",
       "      <th>(6, 3)</th>\n",
       "      <td>NaN</td>\n",
       "      <td>6</td>\n",
       "      <td>3</td>\n",
       "      <td>NaN</td>\n",
       "      <td>NaN</td>\n",
       "      <td>NaN</td>\n",
       "    </tr>\n",
       "    <tr>\n",
       "      <th>(6, 4)</th>\n",
       "      <td>NaN</td>\n",
       "      <td>6</td>\n",
       "      <td>4</td>\n",
       "      <td>NaN</td>\n",
       "      <td>NaN</td>\n",
       "      <td>NaN</td>\n",
       "    </tr>\n",
       "    <tr>\n",
       "      <th>(6, 5)</th>\n",
       "      <td>NaN</td>\n",
       "      <td>6</td>\n",
       "      <td>5</td>\n",
       "      <td>NaN</td>\n",
       "      <td>NaN</td>\n",
       "      <td>NaN</td>\n",
       "    </tr>\n",
       "    <tr>\n",
       "      <th>(6, 6)</th>\n",
       "      <td>NaN</td>\n",
       "      <td>6</td>\n",
       "      <td>6</td>\n",
       "      <td>NaN</td>\n",
       "      <td>NaN</td>\n",
       "      <td>NaN</td>\n",
       "    </tr>\n",
       "  </tbody>\n",
       "</table>\n",
       "<p>36 rows × 6 columns</p>\n",
       "</div>"
      ],
      "text/plain": [
       "         sm  d1  d2  pd1  pd2    p\n",
       "(1, 1)  NaN   1   1  NaN  NaN  NaN\n",
       "(1, 2)  NaN   1   2  NaN  NaN  NaN\n",
       "(1, 3)  NaN   1   3  NaN  NaN  NaN\n",
       "(1, 4)  NaN   1   4  NaN  NaN  NaN\n",
       "(1, 5)  NaN   1   5  NaN  NaN  NaN\n",
       "...     ...  ..  ..  ...  ...  ...\n",
       "(6, 2)  NaN   6   2  NaN  NaN  NaN\n",
       "(6, 3)  NaN   6   3  NaN  NaN  NaN\n",
       "(6, 4)  NaN   6   4  NaN  NaN  NaN\n",
       "(6, 5)  NaN   6   5  NaN  NaN  NaN\n",
       "(6, 6)  NaN   6   6  NaN  NaN  NaN\n",
       "\n",
       "[36 rows x 6 columns]"
      ]
     },
     "execution_count": 72,
     "metadata": {},
     "output_type": "execute_result"
    }
   ],
   "source": [
    "d"
   ]
  },
  {
   "cell_type": "markdown",
   "metadata": {},
   "source": [
    " Next, we compute the sum of the dices in the `sm`\n",
    "column,"
   ]
  },
  {
   "cell_type": "code",
   "execution_count": null,
   "metadata": {},
   "outputs": [],
   "source": []
  },
  {
   "cell_type": "code",
   "execution_count": 73,
   "metadata": {},
   "outputs": [],
   "source": [
    "d.sm = d.d1+d.d2"
   ]
  },
  {
   "cell_type": "code",
   "execution_count": 74,
   "metadata": {},
   "outputs": [],
   "source": [
    "d.sm=list(map(sum,d.index))"
   ]
  },
  {
   "cell_type": "markdown",
   "metadata": {},
   "source": [
    " With that established, the DataFrame now looks like\n",
    "the following:"
   ]
  },
  {
   "cell_type": "code",
   "execution_count": 75,
   "metadata": {},
   "outputs": [
    {
     "data": {
      "text/html": [
       "<div>\n",
       "<style scoped>\n",
       "    .dataframe tbody tr th:only-of-type {\n",
       "        vertical-align: middle;\n",
       "    }\n",
       "\n",
       "    .dataframe tbody tr th {\n",
       "        vertical-align: top;\n",
       "    }\n",
       "\n",
       "    .dataframe thead th {\n",
       "        text-align: right;\n",
       "    }\n",
       "</style>\n",
       "<table border=\"1\" class=\"dataframe\">\n",
       "  <thead>\n",
       "    <tr style=\"text-align: right;\">\n",
       "      <th></th>\n",
       "      <th>sm</th>\n",
       "      <th>d1</th>\n",
       "      <th>d2</th>\n",
       "      <th>pd1</th>\n",
       "      <th>pd2</th>\n",
       "      <th>p</th>\n",
       "    </tr>\n",
       "  </thead>\n",
       "  <tbody>\n",
       "    <tr>\n",
       "      <th>(1, 1)</th>\n",
       "      <td>2</td>\n",
       "      <td>1</td>\n",
       "      <td>1</td>\n",
       "      <td>NaN</td>\n",
       "      <td>NaN</td>\n",
       "      <td>NaN</td>\n",
       "    </tr>\n",
       "    <tr>\n",
       "      <th>(1, 2)</th>\n",
       "      <td>3</td>\n",
       "      <td>1</td>\n",
       "      <td>2</td>\n",
       "      <td>NaN</td>\n",
       "      <td>NaN</td>\n",
       "      <td>NaN</td>\n",
       "    </tr>\n",
       "    <tr>\n",
       "      <th>(1, 3)</th>\n",
       "      <td>4</td>\n",
       "      <td>1</td>\n",
       "      <td>3</td>\n",
       "      <td>NaN</td>\n",
       "      <td>NaN</td>\n",
       "      <td>NaN</td>\n",
       "    </tr>\n",
       "    <tr>\n",
       "      <th>(1, 4)</th>\n",
       "      <td>5</td>\n",
       "      <td>1</td>\n",
       "      <td>4</td>\n",
       "      <td>NaN</td>\n",
       "      <td>NaN</td>\n",
       "      <td>NaN</td>\n",
       "    </tr>\n",
       "    <tr>\n",
       "      <th>(1, 5)</th>\n",
       "      <td>6</td>\n",
       "      <td>1</td>\n",
       "      <td>5</td>\n",
       "      <td>NaN</td>\n",
       "      <td>NaN</td>\n",
       "      <td>NaN</td>\n",
       "    </tr>\n",
       "    <tr>\n",
       "      <th>...</th>\n",
       "      <td>...</td>\n",
       "      <td>...</td>\n",
       "      <td>...</td>\n",
       "      <td>...</td>\n",
       "      <td>...</td>\n",
       "      <td>...</td>\n",
       "    </tr>\n",
       "    <tr>\n",
       "      <th>(6, 2)</th>\n",
       "      <td>8</td>\n",
       "      <td>6</td>\n",
       "      <td>2</td>\n",
       "      <td>NaN</td>\n",
       "      <td>NaN</td>\n",
       "      <td>NaN</td>\n",
       "    </tr>\n",
       "    <tr>\n",
       "      <th>(6, 3)</th>\n",
       "      <td>9</td>\n",
       "      <td>6</td>\n",
       "      <td>3</td>\n",
       "      <td>NaN</td>\n",
       "      <td>NaN</td>\n",
       "      <td>NaN</td>\n",
       "    </tr>\n",
       "    <tr>\n",
       "      <th>(6, 4)</th>\n",
       "      <td>10</td>\n",
       "      <td>6</td>\n",
       "      <td>4</td>\n",
       "      <td>NaN</td>\n",
       "      <td>NaN</td>\n",
       "      <td>NaN</td>\n",
       "    </tr>\n",
       "    <tr>\n",
       "      <th>(6, 5)</th>\n",
       "      <td>11</td>\n",
       "      <td>6</td>\n",
       "      <td>5</td>\n",
       "      <td>NaN</td>\n",
       "      <td>NaN</td>\n",
       "      <td>NaN</td>\n",
       "    </tr>\n",
       "    <tr>\n",
       "      <th>(6, 6)</th>\n",
       "      <td>12</td>\n",
       "      <td>6</td>\n",
       "      <td>6</td>\n",
       "      <td>NaN</td>\n",
       "      <td>NaN</td>\n",
       "      <td>NaN</td>\n",
       "    </tr>\n",
       "  </tbody>\n",
       "</table>\n",
       "<p>36 rows × 6 columns</p>\n",
       "</div>"
      ],
      "text/plain": [
       "        sm  d1  d2  pd1  pd2    p\n",
       "(1, 1)   2   1   1  NaN  NaN  NaN\n",
       "(1, 2)   3   1   2  NaN  NaN  NaN\n",
       "(1, 3)   4   1   3  NaN  NaN  NaN\n",
       "(1, 4)   5   1   4  NaN  NaN  NaN\n",
       "(1, 5)   6   1   5  NaN  NaN  NaN\n",
       "...     ..  ..  ..  ...  ...  ...\n",
       "(6, 2)   8   6   2  NaN  NaN  NaN\n",
       "(6, 3)   9   6   3  NaN  NaN  NaN\n",
       "(6, 4)  10   6   4  NaN  NaN  NaN\n",
       "(6, 5)  11   6   5  NaN  NaN  NaN\n",
       "(6, 6)  12   6   6  NaN  NaN  NaN\n",
       "\n",
       "[36 rows x 6 columns]"
      ]
     },
     "execution_count": 75,
     "metadata": {},
     "output_type": "execute_result"
    }
   ],
   "source": [
    "d"
   ]
  },
  {
   "cell_type": "markdown",
   "metadata": {},
   "source": [
    " Next, we fill out the probabilities for each face of the\n",
    "unfair die (`d1`) and the fair die (`d2`),"
   ]
  },
  {
   "cell_type": "code",
   "execution_count": 48,
   "metadata": {},
   "outputs": [
    {
     "data": {
      "text/plain": [
       "(1, 1)    NaN\n",
       "(1, 2)    NaN\n",
       "(1, 3)    NaN\n",
       "(1, 4)    NaN\n",
       "(1, 5)    NaN\n",
       "         ... \n",
       "(3, 2)    NaN\n",
       "(3, 3)    NaN\n",
       "(3, 4)    NaN\n",
       "(3, 5)    NaN\n",
       "(3, 6)    NaN\n",
       "Name: pd1, Length: 18, dtype: object"
      ]
     },
     "execution_count": 48,
     "metadata": {},
     "output_type": "execute_result"
    }
   ],
   "source": [
    "d.loc[d.d1<=3,'pd1']"
   ]
  },
  {
   "cell_type": "code",
   "execution_count": 76,
   "metadata": {},
   "outputs": [],
   "source": [
    "d.loc[d.d1<=3,'pd1'] = 1/9\n",
    "d.loc[d.d1 > 3,'pd1']= 2/9\n",
    "d.pd2=1/6."
   ]
  },
  {
   "cell_type": "code",
   "execution_count": 52,
   "metadata": {},
   "outputs": [
    {
     "data": {
      "text/html": [
       "<div>\n",
       "<style scoped>\n",
       "    .dataframe tbody tr th:only-of-type {\n",
       "        vertical-align: middle;\n",
       "    }\n",
       "\n",
       "    .dataframe tbody tr th {\n",
       "        vertical-align: top;\n",
       "    }\n",
       "\n",
       "    .dataframe thead th {\n",
       "        text-align: right;\n",
       "    }\n",
       "</style>\n",
       "<table border=\"1\" class=\"dataframe\">\n",
       "  <thead>\n",
       "    <tr style=\"text-align: right;\">\n",
       "      <th></th>\n",
       "      <th>sm</th>\n",
       "      <th>d1</th>\n",
       "      <th>d2</th>\n",
       "      <th>pd1</th>\n",
       "      <th>pd2</th>\n",
       "      <th>p</th>\n",
       "    </tr>\n",
       "  </thead>\n",
       "  <tbody>\n",
       "    <tr>\n",
       "      <th>(1, 1)</th>\n",
       "      <td>2</td>\n",
       "      <td>1</td>\n",
       "      <td>1</td>\n",
       "      <td>0.111111</td>\n",
       "      <td>0.166667</td>\n",
       "      <td>NaN</td>\n",
       "    </tr>\n",
       "    <tr>\n",
       "      <th>(1, 2)</th>\n",
       "      <td>3</td>\n",
       "      <td>1</td>\n",
       "      <td>2</td>\n",
       "      <td>0.111111</td>\n",
       "      <td>0.166667</td>\n",
       "      <td>NaN</td>\n",
       "    </tr>\n",
       "    <tr>\n",
       "      <th>(1, 3)</th>\n",
       "      <td>4</td>\n",
       "      <td>1</td>\n",
       "      <td>3</td>\n",
       "      <td>0.111111</td>\n",
       "      <td>0.166667</td>\n",
       "      <td>NaN</td>\n",
       "    </tr>\n",
       "    <tr>\n",
       "      <th>(1, 4)</th>\n",
       "      <td>5</td>\n",
       "      <td>1</td>\n",
       "      <td>4</td>\n",
       "      <td>0.111111</td>\n",
       "      <td>0.166667</td>\n",
       "      <td>NaN</td>\n",
       "    </tr>\n",
       "    <tr>\n",
       "      <th>(1, 5)</th>\n",
       "      <td>6</td>\n",
       "      <td>1</td>\n",
       "      <td>5</td>\n",
       "      <td>0.111111</td>\n",
       "      <td>0.166667</td>\n",
       "      <td>NaN</td>\n",
       "    </tr>\n",
       "    <tr>\n",
       "      <th>...</th>\n",
       "      <td>...</td>\n",
       "      <td>...</td>\n",
       "      <td>...</td>\n",
       "      <td>...</td>\n",
       "      <td>...</td>\n",
       "      <td>...</td>\n",
       "    </tr>\n",
       "    <tr>\n",
       "      <th>(6, 2)</th>\n",
       "      <td>8</td>\n",
       "      <td>6</td>\n",
       "      <td>2</td>\n",
       "      <td>0.222222</td>\n",
       "      <td>0.166667</td>\n",
       "      <td>NaN</td>\n",
       "    </tr>\n",
       "    <tr>\n",
       "      <th>(6, 3)</th>\n",
       "      <td>9</td>\n",
       "      <td>6</td>\n",
       "      <td>3</td>\n",
       "      <td>0.222222</td>\n",
       "      <td>0.166667</td>\n",
       "      <td>NaN</td>\n",
       "    </tr>\n",
       "    <tr>\n",
       "      <th>(6, 4)</th>\n",
       "      <td>10</td>\n",
       "      <td>6</td>\n",
       "      <td>4</td>\n",
       "      <td>0.222222</td>\n",
       "      <td>0.166667</td>\n",
       "      <td>NaN</td>\n",
       "    </tr>\n",
       "    <tr>\n",
       "      <th>(6, 5)</th>\n",
       "      <td>11</td>\n",
       "      <td>6</td>\n",
       "      <td>5</td>\n",
       "      <td>0.222222</td>\n",
       "      <td>0.166667</td>\n",
       "      <td>NaN</td>\n",
       "    </tr>\n",
       "    <tr>\n",
       "      <th>(6, 6)</th>\n",
       "      <td>12</td>\n",
       "      <td>6</td>\n",
       "      <td>6</td>\n",
       "      <td>0.222222</td>\n",
       "      <td>0.166667</td>\n",
       "      <td>NaN</td>\n",
       "    </tr>\n",
       "  </tbody>\n",
       "</table>\n",
       "<p>36 rows × 6 columns</p>\n",
       "</div>"
      ],
      "text/plain": [
       "        sm  d1  d2       pd1       pd2    p\n",
       "(1, 1)   2   1   1  0.111111  0.166667  NaN\n",
       "(1, 2)   3   1   2  0.111111  0.166667  NaN\n",
       "(1, 3)   4   1   3  0.111111  0.166667  NaN\n",
       "(1, 4)   5   1   4  0.111111  0.166667  NaN\n",
       "(1, 5)   6   1   5  0.111111  0.166667  NaN\n",
       "...     ..  ..  ..       ...       ...  ...\n",
       "(6, 2)   8   6   2  0.222222  0.166667  NaN\n",
       "(6, 3)   9   6   3  0.222222  0.166667  NaN\n",
       "(6, 4)  10   6   4  0.222222  0.166667  NaN\n",
       "(6, 5)  11   6   5  0.222222  0.166667  NaN\n",
       "(6, 6)  12   6   6  0.222222  0.166667  NaN\n",
       "\n",
       "[36 rows x 6 columns]"
      ]
     },
     "execution_count": 52,
     "metadata": {},
     "output_type": "execute_result"
    }
   ],
   "source": [
    "d"
   ]
  },
  {
   "cell_type": "markdown",
   "metadata": {},
   "source": [
    " Finally, we can compute the joint probabilities\n",
    "for the sum of the shown faces as the following:"
   ]
  },
  {
   "cell_type": "code",
   "execution_count": 77,
   "metadata": {},
   "outputs": [],
   "source": [
    "d.p = d.pd1 * d.pd2"
   ]
  },
  {
   "cell_type": "code",
   "execution_count": 78,
   "metadata": {},
   "outputs": [
    {
     "data": {
      "text/html": [
       "<div>\n",
       "<style scoped>\n",
       "    .dataframe tbody tr th:only-of-type {\n",
       "        vertical-align: middle;\n",
       "    }\n",
       "\n",
       "    .dataframe tbody tr th {\n",
       "        vertical-align: top;\n",
       "    }\n",
       "\n",
       "    .dataframe thead th {\n",
       "        text-align: right;\n",
       "    }\n",
       "</style>\n",
       "<table border=\"1\" class=\"dataframe\">\n",
       "  <thead>\n",
       "    <tr style=\"text-align: right;\">\n",
       "      <th></th>\n",
       "      <th>sm</th>\n",
       "      <th>d1</th>\n",
       "      <th>d2</th>\n",
       "      <th>pd1</th>\n",
       "      <th>pd2</th>\n",
       "      <th>p</th>\n",
       "    </tr>\n",
       "  </thead>\n",
       "  <tbody>\n",
       "    <tr>\n",
       "      <th>(1, 1)</th>\n",
       "      <td>2</td>\n",
       "      <td>1</td>\n",
       "      <td>1</td>\n",
       "      <td>0.111111</td>\n",
       "      <td>0.166667</td>\n",
       "      <td>0.0185185</td>\n",
       "    </tr>\n",
       "    <tr>\n",
       "      <th>(1, 2)</th>\n",
       "      <td>3</td>\n",
       "      <td>1</td>\n",
       "      <td>2</td>\n",
       "      <td>0.111111</td>\n",
       "      <td>0.166667</td>\n",
       "      <td>0.0185185</td>\n",
       "    </tr>\n",
       "    <tr>\n",
       "      <th>(1, 3)</th>\n",
       "      <td>4</td>\n",
       "      <td>1</td>\n",
       "      <td>3</td>\n",
       "      <td>0.111111</td>\n",
       "      <td>0.166667</td>\n",
       "      <td>0.0185185</td>\n",
       "    </tr>\n",
       "    <tr>\n",
       "      <th>(1, 4)</th>\n",
       "      <td>5</td>\n",
       "      <td>1</td>\n",
       "      <td>4</td>\n",
       "      <td>0.111111</td>\n",
       "      <td>0.166667</td>\n",
       "      <td>0.0185185</td>\n",
       "    </tr>\n",
       "    <tr>\n",
       "      <th>(1, 5)</th>\n",
       "      <td>6</td>\n",
       "      <td>1</td>\n",
       "      <td>5</td>\n",
       "      <td>0.111111</td>\n",
       "      <td>0.166667</td>\n",
       "      <td>0.0185185</td>\n",
       "    </tr>\n",
       "    <tr>\n",
       "      <th>...</th>\n",
       "      <td>...</td>\n",
       "      <td>...</td>\n",
       "      <td>...</td>\n",
       "      <td>...</td>\n",
       "      <td>...</td>\n",
       "      <td>...</td>\n",
       "    </tr>\n",
       "    <tr>\n",
       "      <th>(6, 2)</th>\n",
       "      <td>8</td>\n",
       "      <td>6</td>\n",
       "      <td>2</td>\n",
       "      <td>0.222222</td>\n",
       "      <td>0.166667</td>\n",
       "      <td>0.037037</td>\n",
       "    </tr>\n",
       "    <tr>\n",
       "      <th>(6, 3)</th>\n",
       "      <td>9</td>\n",
       "      <td>6</td>\n",
       "      <td>3</td>\n",
       "      <td>0.222222</td>\n",
       "      <td>0.166667</td>\n",
       "      <td>0.037037</td>\n",
       "    </tr>\n",
       "    <tr>\n",
       "      <th>(6, 4)</th>\n",
       "      <td>10</td>\n",
       "      <td>6</td>\n",
       "      <td>4</td>\n",
       "      <td>0.222222</td>\n",
       "      <td>0.166667</td>\n",
       "      <td>0.037037</td>\n",
       "    </tr>\n",
       "    <tr>\n",
       "      <th>(6, 5)</th>\n",
       "      <td>11</td>\n",
       "      <td>6</td>\n",
       "      <td>5</td>\n",
       "      <td>0.222222</td>\n",
       "      <td>0.166667</td>\n",
       "      <td>0.037037</td>\n",
       "    </tr>\n",
       "    <tr>\n",
       "      <th>(6, 6)</th>\n",
       "      <td>12</td>\n",
       "      <td>6</td>\n",
       "      <td>6</td>\n",
       "      <td>0.222222</td>\n",
       "      <td>0.166667</td>\n",
       "      <td>0.037037</td>\n",
       "    </tr>\n",
       "  </tbody>\n",
       "</table>\n",
       "<p>36 rows × 6 columns</p>\n",
       "</div>"
      ],
      "text/plain": [
       "        sm  d1  d2       pd1       pd2          p\n",
       "(1, 1)   2   1   1  0.111111  0.166667  0.0185185\n",
       "(1, 2)   3   1   2  0.111111  0.166667  0.0185185\n",
       "(1, 3)   4   1   3  0.111111  0.166667  0.0185185\n",
       "(1, 4)   5   1   4  0.111111  0.166667  0.0185185\n",
       "(1, 5)   6   1   5  0.111111  0.166667  0.0185185\n",
       "...     ..  ..  ..       ...       ...        ...\n",
       "(6, 2)   8   6   2  0.222222  0.166667   0.037037\n",
       "(6, 3)   9   6   3  0.222222  0.166667   0.037037\n",
       "(6, 4)  10   6   4  0.222222  0.166667   0.037037\n",
       "(6, 5)  11   6   5  0.222222  0.166667   0.037037\n",
       "(6, 6)  12   6   6  0.222222  0.166667   0.037037\n",
       "\n",
       "[36 rows x 6 columns]"
      ]
     },
     "execution_count": 78,
     "metadata": {},
     "output_type": "execute_result"
    }
   ],
   "source": [
    "d"
   ]
  },
  {
   "cell_type": "markdown",
   "metadata": {},
   "source": [
    " With all that established, we can compute the\n",
    "density of all the dice outcomes by using `groupby` as in the\n",
    "following,"
   ]
  },
  {
   "cell_type": "code",
   "execution_count": 56,
   "metadata": {},
   "outputs": [
    {
     "data": {
      "text/plain": [
       "sm\n",
       "2     0.018519\n",
       "3     0.037037\n",
       "4     0.055556\n",
       "5     0.092593\n",
       "6     0.129630\n",
       "        ...   \n",
       "8     0.148148\n",
       "9     0.129630\n",
       "10    0.111111\n",
       "11    0.074074\n",
       "12    0.037037\n",
       "Name: p, Length: 11, dtype: float64"
      ]
     },
     "execution_count": 56,
     "metadata": {},
     "output_type": "execute_result"
    }
   ],
   "source": [
    "d.groupby('sm')['p'].sum()"
   ]
  },
  {
   "cell_type": "code",
   "execution_count": 79,
   "metadata": {},
   "outputs": [
    {
     "data": {
      "text/plain": [
       "[<matplotlib.lines.Line2D at 0x11f7785f8>]"
      ]
     },
     "execution_count": 79,
     "metadata": {},
     "output_type": "execute_result"
    },
    {
     "data": {
      "image/png": "[encoded data removed]",
      "text/plain": [
       "<Figure size 432x288 with 1 Axes>"
      ]
     },
     "metadata": {},
     "output_type": "display_data"
    }
   ],
   "source": [
    "plt.plot(d.groupby('sm')['p'].sum(),'-o')\n",
    "plt.plot(np.asarray(X).T[0],np.asarray(X).T[1],'-^')"
   ]
  },
  {
   "cell_type": "markdown",
   "metadata": {},
   "source": [
    "  These examples have shown how the theory of probability\n",
    "breaks down sets and measurements of  those sets and how these can be\n",
    "combined to develop the probability mass functions for new random\n",
    "variables. \n",
    "\n",
    "## Continuous Random Variables\n",
    "\n",
    "**The same ideas work with continuous variables but managing the sets\n",
    "becomes trickier because the real line, unlike discrete sets, has many\n",
    "limiting properties already built into it that have to be handled\n",
    "carefully.**  \n",
    "\n",
    "Nonetheless, let's start with an example that should\n",
    "illustrate the analogous ideas. \n",
    "\n",
    "Suppose a random variable $X$ is\n",
    "uniformly distributed on the unit interval. What is the probability\n",
    "that the variable takes on values less than 1/2? \n",
    "\n",
    "In order to build intuition onto the discrete case, let's go back to our\n",
    "dice-throwing experiment with the fair dice. The **sum of the values of the dice\n",
    "is a measurable function,**"
   ]
  },
  {
   "cell_type": "markdown",
   "metadata": {},
   "source": [
    "$$\n",
    "Y \\colon \\lbrace 1,2,\\dots,6 \\rbrace^2 \\mapsto \\lbrace 2,3,\\ldots, 12 \\rbrace\n",
    "$$"
   ]
  },
  {
   "cell_type": "markdown",
   "metadata": {},
   "source": [
    " **That is, $Y$ is a mapping of the cartesian product of sets to a\n",
    "discrete set of outcomes.** \n",
    "\n",
    "In order to compute probabilities of the set of\n",
    "outcomes, we need to derive the probability measure for $Y$, $\\mathbb{P}_Y$,\n",
    "from the corresponding probability measures for each die. Our previous discussion\n",
    "went through the mechanics of that. This means that"
   ]
  },
  {
   "cell_type": "markdown",
   "metadata": {},
   "source": [
    "$$\n",
    "\\mathbb{P}_Y \\colon \\lbrace 2,3,\\ldots,12 \\rbrace \\mapsto [0,1]\n",
    "$$"
   ]
  },
  {
   "cell_type": "markdown",
   "metadata": {},
   "source": [
    " Note there is a separation between the function definition and where the\n",
    "target items of the function are measured in probability. \n",
    "\n",
    "More bluntly,"
   ]
  },
  {
   "cell_type": "markdown",
   "metadata": {},
   "source": [
    "$$\n",
    "Y \\colon A \\mapsto B\n",
    "$$"
   ]
  },
  {
   "cell_type": "markdown",
   "metadata": {},
   "source": [
    " with,"
   ]
  },
  {
   "cell_type": "markdown",
   "metadata": {},
   "source": [
    "$$\n",
    "\\mathbb{P}_Y \\colon B \\mapsto [0,1]\n",
    "$$"
   ]
  },
  {
   "cell_type": "markdown",
   "metadata": {},
   "source": [
    " **Thus, to compute $\\mathbb{P}_Y$, which is derived \n",
    "from other random variables, we have to express the equivalence classes\n",
    "in $B$ in terms of their progenitor $A$ sets.**\n",
    "\n",
    "The situation for continuous variables follows the same pattern, but\n",
    "with many more deep technicalities that we are going to skip. For the continuous\n",
    "case, the random variable is now,"
   ]
  },
  {
   "cell_type": "markdown",
   "metadata": {},
   "source": [
    "$$\n",
    "X \\colon \\mathbb{R} \\mapsto \\mathbb{R}\n",
    "$$"
   ]
  },
  {
   "cell_type": "markdown",
   "metadata": {},
   "source": [
    " with corresponding probability measure,"
   ]
  },
  {
   "cell_type": "markdown",
   "metadata": {},
   "source": [
    "$$\n",
    "\\mathbb{P}_X \\colon \\mathbb{R} \\mapsto [0,1]\n",
    "$$"
   ]
  },
  {
   "cell_type": "markdown",
   "metadata": {},
   "source": [
    "**But where are the corresponding sets here? Technically, these are the\n",
    "*Borel* sets, but we can just think of them as intervals.**\n",
    "\n",
    "Returning to our\n",
    "question, what is the probability that a uniformly distributed random variable\n",
    "on the unit interval takes values less than $1/2$? \n",
    "\n",
    "Rephrasing this question\n",
    "according to the framework, we have the following:"
   ]
  },
  {
   "cell_type": "markdown",
   "metadata": {},
   "source": [
    "$$\n",
    "X \\colon [0,1] \\mapsto [0,1]\n",
    "$$"
   ]
  },
  {
   "cell_type": "markdown",
   "metadata": {},
   "source": [
    " with corresponding,"
   ]
  },
  {
   "cell_type": "markdown",
   "metadata": {},
   "source": [
    "$$\n",
    "\\mathbb{P}_X \\colon [0,1] \\mapsto [0,1]\n",
    "$$"
   ]
  },
  {
   "cell_type": "markdown",
   "metadata": {},
   "source": [
    " **To answer the question,  by the definition of the uniform random\n",
    "variable on the unit interval, we compute the following integral,**"
   ]
  },
  {
   "cell_type": "markdown",
   "metadata": {},
   "source": [
    "$$\n",
    "\\mathbb{P}_X([0,1/2]) = \\mathbb{P}_X(0 < X < 1/2) =  \\int_0^{1/2} dx  = 1/2\n",
    "$$"
   ]
  },
  {
   "cell_type": "markdown",
   "metadata": {},
   "source": [
    "  where the above integral's $dx$ sweeps through intervals of the\n",
    "$B$-type. The measure of any $dx$ interval (i.e., $A$-type set) is equal to\n",
    "$dx$, by definition of the uniform random variable. To get all the moving parts\n",
    "into one notationally rich integral, we can also  write this  as,"
   ]
  },
  {
   "cell_type": "markdown",
   "metadata": {},
   "source": [
    "$$\n",
    "\\mathbb{P}_X(0 < X < 1/2) = \\int_0^{ 1/2 } d\\mathbb{P}_X(dx) = 1/2\n",
    "$$"
   ]
  },
  {
   "cell_type": "markdown",
   "metadata": {},
   "source": [
    "**Now, let's consider a slightly more complicated and interesting example. As\n",
    "before, suppose we have a uniform random variable, $X$ and let us introduce\n",
    "another random variable defined,**"
   ]
  },
  {
   "cell_type": "markdown",
   "metadata": {},
   "source": [
    "$$\n",
    "Y = 2 X\n",
    "$$"
   ]
  },
  {
   "cell_type": "markdown",
   "metadata": {},
   "source": [
    "Now, **what is the probability that $0 < Y < \\frac{1}{2}$?**\n",
    "\n",
    "\n",
    "To express this in our framework, we write,"
   ]
  },
  {
   "cell_type": "markdown",
   "metadata": {},
   "source": [
    "$$\n",
    "Y \\colon [0,1] \\mapsto [0,2]\n",
    "$$"
   ]
  },
  {
   "cell_type": "markdown",
   "metadata": {},
   "source": [
    " with corresponding,"
   ]
  },
  {
   "cell_type": "markdown",
   "metadata": {},
   "source": [
    "$$\n",
    "\\mathbb{P}_Y \\colon [0,2] \\mapsto [0,1]\n",
    "$$"
   ]
  },
  {
   "cell_type": "markdown",
   "metadata": {},
   "source": [
    " To answer the question, we need to measure the set $[0,1/2]$, with\n",
    "the probability measure for $Y$, $\\mathbb{P}_Y([0,1/2])$. \n",
    "\n",
    "How can we do this?\n",
    "\n",
    "Because $Y$ is derived from the $X$ random variable, as with the fair-dice\n",
    "throwing experiment, we have to create a set of equivalences in the target\n",
    "space (i.e., $B$-type sets) that reflect back on the input space (i.e.,\n",
    "$A$-type sets). \n",
    "\n",
    "**That is, what is the interval $[0,1/2]$ equivalent to in terms\n",
    "of the $X$ random variable?**\n",
    "\n",
    "Because, functionally, $Y=2 X$, then the $B$-type\n",
    "interval $[0,1/2]$ corresponds to the $A$-type interval $[0,1/4]$. \n",
    "\n",
    "From the\n",
    "probability measure of $X$, we compute this with the integral,"
   ]
  },
  {
   "cell_type": "markdown",
   "metadata": {},
   "source": [
    "$$\n",
    "\\mathbb{P}_Y([0,1/2]) =\\mathbb{P}_X([0,1/4])=  \\int_0^{1/4} dx  = 1/4\n",
    "$$"
   ]
  },
  {
   "cell_type": "markdown",
   "metadata": {},
   "source": [
    "Now, **let's up the ante and consider the following random variable,**"
   ]
  },
  {
   "cell_type": "markdown",
   "metadata": {},
   "source": [
    "$$\n",
    "Y = X^2\n",
    "$$"
   ]
  },
  {
   "cell_type": "markdown",
   "metadata": {},
   "source": [
    " where now $X$ is still uniformly distributed, but now over the\n",
    "interval $[-1/2,1/2]$.  \n",
    "\n",
    "We can express this in our framework as,"
   ]
  },
  {
   "cell_type": "markdown",
   "metadata": {},
   "source": [
    "$$\n",
    "Y \\colon [-1/2,1/2] \\mapsto [0,1/4]\n",
    "$$"
   ]
  },
  {
   "cell_type": "markdown",
   "metadata": {},
   "source": [
    " with corresponding,"
   ]
  },
  {
   "cell_type": "markdown",
   "metadata": {},
   "source": [
    "$$\n",
    "\\mathbb{P}_Y \\colon [0,1/4] \\mapsto [0,1]\n",
    "$$"
   ]
  },
  {
   "cell_type": "markdown",
   "metadata": {},
   "source": [
    " What is the $\\mathbb{P}_Y(Y < 1/8)$?  In other words, what is the\n",
    "measure of the set $B_Y= [0,1/8]$? \n",
    "\n",
    "\n",
    "As before, because $X$ is derived from our\n",
    "uniformly distributed random variable, we have to reflect the $B_Y$ set onto\n",
    "sets of the $A$-type.  \n",
    "\n",
    "\n",
    "**The thing to recognize is that because $X^2$\n",
    "is symmetric about zero, all $B_Y$ sets reflect back into two sets.**\n",
    "\n",
    "\n",
    "**This means that for any set $B_Y$, we have the correspondence $B_Y = A_X^+ \\cup\n",
    "A_X^{-}$.  So, we have,**"
   ]
  },
  {
   "cell_type": "markdown",
   "metadata": {},
   "source": [
    "$$\n",
    "B_Y=\\Big\\lbrace 0<Y<\\frac{1}{8}\\Big\\rbrace=\\Big\\lbrace 0<X<\\frac{1}{\\sqrt{8}} \\Big\\rbrace \\bigcup \\Big\\lbrace -\\frac{1}{\\sqrt {8}}<X<0 \\Big\\rbrace\n",
    "$$"
   ]
  },
  {
   "cell_type": "markdown",
   "metadata": {},
   "source": [
    "  From this perspective, we have the following solution,"
   ]
  },
  {
   "cell_type": "markdown",
   "metadata": {},
   "source": [
    "$$\n",
    "\\mathbb{P}_Y(B_Y)=\\mathbb{P}(A_X^+)/2 + \\mathbb{P}(A_X^{-})/2\n",
    "$$"
   ]
  },
  {
   "cell_type": "markdown",
   "metadata": {},
   "source": [
    "  where the $\\frac{1}{2}$ comes from normalizing the $\\mathbb{P}_Y$ to\n",
    "one. Also,"
   ]
  },
  {
   "cell_type": "markdown",
   "metadata": {},
   "source": [
    "$$\n",
    "A_X^+    = \\Big\\lbrace 0<  X<\\frac{1}{\\sqrt{8}}   \\Big\\rbrace\n",
    "$$"
   ]
  },
  {
   "cell_type": "markdown",
   "metadata": {},
   "source": [
    "$$\n",
    "\\\n",
    "A_X^{-}  = \\Big\\lbrace -\\frac{1}{\\sqrt {8}} <  X<0 \\Big\\rbrace\n",
    "$$"
   ]
  },
  {
   "cell_type": "markdown",
   "metadata": {},
   "source": [
    "  Therefore,"
   ]
  },
  {
   "cell_type": "markdown",
   "metadata": {},
   "source": [
    "$$\n",
    "\\mathbb{P}_Y(B_Y) = \\frac{1}{2\\sqrt 8} + \\frac{1}{2\\sqrt 8}\n",
    "$$"
   ]
  },
  {
   "cell_type": "markdown",
   "metadata": {},
   "source": [
    "  because $\\mathbb{P}(A_X^+) =\\mathbb{P}(A_X^-) = 1/\\sqrt 8$.  \n",
    "  \n",
    "  \n",
    "  Let's\n",
    "see if this comes out using the usual transformation of variables method from\n",
    "calculus. Using this method, the density \n",
    "\n",
    "$f_Y(y) dy = f_X(x)dx$,\n",
    "\n",
    "$f_Y(y) = f_X(x)\\frac{dx}{dy}\\big|_{x\\to y}$,\n",
    "\n",
    "$y = x^2$\n",
    "\n",
    "$x = y^{1/2}$\n",
    "\n",
    "$\\frac{dx}{dy} = \\frac{1}{2 y^{1/2}}$\n",
    "\n",
    "$f_Y(y) = f_X(\\sqrt y)/(2 \\sqrt y) =\n",
    "\\frac{1}{2 \\sqrt y} $. Then, we obtain,\n"
   ]
  },
  {
   "cell_type": "markdown",
   "metadata": {},
   "source": [
    "$$\n",
    "\\int_0^{\\frac{1}{8}} \\frac{1}{2 \\sqrt y} dy = \\frac{1}{\\sqrt 8}\n",
    "$$"
   ]
  },
  {
   "cell_type": "markdown",
   "metadata": {},
   "source": [
    "  which is what we got using the sets method. \n",
    "  \n",
    "  **Note that you would\n",
    "favor the calculus method in practice, but it is important to\n",
    "understand the deeper mechanics, because sometimes\n",
    "the usual calculus method fails, as the next problem shows.**\n",
    "\n",
    "## Transformation of Variables Beyond Calculus\n",
    "\n",
    "Suppose $X$ and $Y$ are uniformly distributed in the unit interval and we\n",
    "define $Z$ as"
   ]
  },
  {
   "cell_type": "markdown",
   "metadata": {},
   "source": [
    "$$\n",
    "Z = \\frac{X}{Y-X}\n",
    "$$"
   ]
  },
  {
   "cell_type": "markdown",
   "metadata": {},
   "source": [
    "  What is the $f_Z(z)$? If you try this using the usual calculus\n",
    "method, you will fail (try it!). \n",
    "\n",
    "The problem is one of the technical prerequisites for the calculus method is not in force.\n",
    "\n",
    "The key observation is that $Z \\notin [-1,0]$.\n",
    "\n",
    "**Both $X$ and $Y$ are positives.**\n",
    "\n",
    "- **Assuming $Y>X$, so $Y-X>0$, and so $Z>0$;**\n",
    "- **Assuming $Y<X$, so $Y-X<0$, and so $Z<-1$.**\n",
    "\n",
    "If this were possible, the $X$ and $Y$ would have different signs, which cannot happen,\n",
    "given that $X$ and $Y$ are uniformly distributed over $[0,1]$. \n",
    "\n",
    "Now, let's consider when $Z>0$. In this case, $Y>X$ because $Z$ cannot be positive\n",
    "otherwise. \n",
    "\n",
    "For the density function, we are interested in the set  $\\lbrace  0 < Z < z \\rbrace $. We want to compute"
   ]
  },
  {
   "cell_type": "markdown",
   "metadata": {},
   "source": [
    "$$\n",
    "\\mathbb{P}(Z<z) = \\int \\int B_1 dX dY\n",
    "$$"
   ]
  },
  {
   "cell_type": "markdown",
   "metadata": {},
   "source": [
    " with,"
   ]
  },
  {
   "cell_type": "markdown",
   "metadata": {},
   "source": [
    "$$\n",
    "B_1 = \\lbrace 0 < Z < z \\rbrace\n",
    "$$"
   ]
  },
  {
   "cell_type": "markdown",
   "metadata": {},
   "source": [
    "  Now, we have to translate that interval into an interval\n",
    "relevant to $X$ and $Y$. \n",
    "\n",
    "- For $0 < Z$, we have $ Y > X$. \n",
    "\n",
    "- For $Z < z $, we have $\\frac{X}{Y-X}<z \\implies\n",
    "Y > X(1/z+1)$. \n",
    "\n",
    "Putting this together gives"
   ]
  },
  {
   "cell_type": "markdown",
   "metadata": {},
   "source": [
    "$$\n",
    "A_1 = \\lbrace \\max (X,X(1/z+1)) < Y < 1 \\rbrace\n",
    "$$"
   ]
  },
  {
   "cell_type": "markdown",
   "metadata": {},
   "source": [
    "  Integrating this over $Y$ as follows,"
   ]
  },
  {
   "cell_type": "markdown",
   "metadata": {},
   "source": [
    "$$\n",
    "\\int_0^1\\lbrace\\max(X,X(1/z+1))<Y<1 \\rbrace dY = 1 - \\max(X,X(1/z+1)) =\\\\\n",
    "1 -X(1/z+1) =\\frac{z-X-Xz}{z}\\\\\\mbox{ where } z > \\frac{X}{1-X}\n",
    "$$"
   ]
  },
  {
   "cell_type": "markdown",
   "metadata": {},
   "source": [
    "Notice that\n",
    "\n",
    "$\\max(X,X(1/z+1))$ with $z=\\frac{X}{1-X}$ is $\\max(X,X)=X$.\n",
    "\n",
    "otherwise $\\max(X,X(1/z+1)) = X(1/z+1)$ for $z > \\frac{X}{1-X}$. \n",
    "\n",
    "Solving for $X$, we have\n",
    "\n",
    "$ X < \\frac{Z}{1+Z}$,\n"
   ]
  },
  {
   "cell_type": "markdown",
   "metadata": {},
   "source": [
    " and integrating this one more time over $X$ gives"
   ]
  },
  {
   "cell_type": "markdown",
   "metadata": {},
   "source": [
    "$$\n",
    "\\int_0^{\\frac{z}{1+z}} \\frac{-X+z-Xz}{z} dX = \\frac{z}{2(z+1)} \\mbox{ where }  z > 0\n",
    "$$"
   ]
  },
  {
   "cell_type": "markdown",
   "metadata": {},
   "source": [
    " Note that this is the computation for the *probability*\n",
    "itself, not the probability density function. To get that, all we have\n",
    "to do is differentiate $\\left(f_Z(z)=\\frac{d P(Z<z)}{dz}\\right)$ the last expression to obtain"
   ]
  },
  {
   "cell_type": "markdown",
   "metadata": {},
   "source": [
    "$$\n",
    "f_Z(z) = \\frac{1}{(z+1)^2} \\mbox{ where }  z > 0\n",
    "$$"
   ]
  },
  {
   "cell_type": "markdown",
   "metadata": {},
   "source": [
    " Now we need to compute this density using the same process\n",
    "for when $Z < -1$. \n",
    "\n",
    "We want  the interval $ Z < z $ for when $Z < -1$.\n",
    "\n",
    "For a fixed $z$, this is equivalent to $\\frac{X}{Y-X}<z \\implies X(1+1/z) < Y$. \n",
    "\n",
    "Because $z$ is negative (and $z<-1$), this also means that \n",
    "\n",
    "$(1+1/z) > 0 \\implies X < Y \\implies Y > X$. \n",
    "\n",
    "Under these terms, we\n",
    "have the following integral,"
   ]
  },
  {
   "cell_type": "markdown",
   "metadata": {},
   "source": [
    "$$\n",
    "\\int_0^1 \\lbrace X(1/z+1) <Y< X\\rbrace dY = X - X(1/z+1)\\\\\n",
    "-\\frac{X}{z} \\mbox{ where }  z < -1\n",
    "$$"
   ]
  },
  {
   "cell_type": "markdown",
   "metadata": {},
   "source": [
    " and integrating this one more time over $X$ gives the following"
   ]
  },
  {
   "cell_type": "markdown",
   "metadata": {},
   "source": [
    "$$\n",
    "-\\frac{1}{2 z} \\mbox{ where }  z < -1\n",
    "$$"
   ]
  },
  {
   "cell_type": "markdown",
   "metadata": {},
   "source": [
    " To get the density for $z<-1$, we differentiate this with\n",
    "respect to $z$ to obtain the following,"
   ]
  },
  {
   "cell_type": "markdown",
   "metadata": {},
   "source": [
    "$$\n",
    "f_Z(z) = \\frac{1}{2 z^2} \\mbox{ where }  z < -1\n",
    "$$"
   ]
  },
  {
   "cell_type": "markdown",
   "metadata": {},
   "source": [
    " Putting this all together, we obtain,"
   ]
  },
  {
   "cell_type": "markdown",
   "metadata": {},
   "source": [
    "$$\n",
    "f_Z(z) = \n",
    "\\begin{cases}\n",
    "      \\frac{1}{(z+1)^2}     & \\mbox{if }  z > 0 \\\\\\\n",
    "      \\frac{1}{2 z^2}       & \\mbox{if }  z < -1 \\\\\\\n",
    "      0 & \\mbox{otherwise }\n",
    "\\end{cases}\n",
    "$$"
   ]
  },
  {
   "cell_type": "markdown",
   "metadata": {},
   "source": [
    "  We will leave it as an exercise to show that this\n",
    "integrates out to one. But let's try to simulate this process."
   ]
  },
  {
   "cell_type": "code",
   "execution_count": 91,
   "metadata": {},
   "outputs": [],
   "source": [
    "import sympy as sym"
   ]
  },
  {
   "cell_type": "code",
   "execution_count": 92,
   "metadata": {},
   "outputs": [],
   "source": [
    "z = sym.Symbol('z')"
   ]
  },
  {
   "cell_type": "code",
   "execution_count": 93,
   "metadata": {},
   "outputs": [
    {
     "data": {
      "text/plain": [
       "1"
      ]
     },
     "execution_count": 93,
     "metadata": {},
     "output_type": "execute_result"
    }
   ],
   "source": [
    "sym.integrate(1/(z+1)**2,(z,0,sym.oo))"
   ]
  },
  {
   "cell_type": "code",
   "execution_count": 94,
   "metadata": {},
   "outputs": [
    {
     "data": {
      "text/plain": [
       "1"
      ]
     },
     "execution_count": 94,
     "metadata": {},
     "output_type": "execute_result"
    }
   ],
   "source": [
    "sym.integrate(1/(z)**2,(z,-sym.oo,-1))"
   ]
  },
  {
   "cell_type": "markdown",
   "metadata": {},
   "source": [
    "We need to divide by 2!"
   ]
  },
  {
   "cell_type": "markdown",
   "metadata": {},
   "source": [
    "$$\n",
    "f_Z(z) = \n",
    "\\begin{cases}\n",
    "      \\frac{1}{2(z+1)^2}     & \\mbox{if }  z > 0 \\\\\\\n",
    "      \\frac{1}{4 z^2}       & \\mbox{if }  z < -1 \\\\\\\n",
    "      0 & \\mbox{otherwise }\n",
    "\\end{cases}\n",
    "$$"
   ]
  },
  {
   "cell_type": "code",
   "execution_count": 96,
   "metadata": {},
   "outputs": [
    {
     "data": {
      "text/plain": [
       "[<matplotlib.lines.Line2D at 0xb21d9a748>]"
      ]
     },
     "execution_count": 96,
     "metadata": {},
     "output_type": "execute_result"
    },
    {
     "data": {
      "image/png": "[encoded data removed]",
      "text/plain": [
       "<Figure size 432x288 with 1 Axes>"
      ]
     },
     "metadata": {},
     "output_type": "display_data"
    }
   ],
   "source": [
    "z0 = np.linspace(0,10)\n",
    "zn = np.linspace(-10,-1)\n",
    "zo = np.linspace(-1,0)\n",
    "\n",
    "plt.plot(z0,(1/2)/(z0+1)**2)\n",
    "plt.plot(zn,(1/2)/(zn)**2)\n",
    "plt.plot(zo,0*zo)"
   ]
  },
  {
   "cell_type": "code",
   "execution_count": 97,
   "metadata": {},
   "outputs": [],
   "source": [
    "X = np.random.rand(1000)\n",
    "Y = np.random.rand(1000)\n",
    "Z = X/(Y-X)"
   ]
  },
  {
   "cell_type": "code",
   "execution_count": 101,
   "metadata": {},
   "outputs": [
    {
     "data": {
      "text/plain": [
       "[<matplotlib.lines.Line2D at 0xb220935c0>]"
      ]
     },
     "execution_count": 101,
     "metadata": {},
     "output_type": "execute_result"
    },
    {
     "data": {
      "image/png": "[encoded data removed]",
      "text/plain": [
       "<Figure size 432x288 with 1 Axes>"
      ]
     },
     "metadata": {},
     "output_type": "display_data"
    }
   ],
   "source": [
    "plt.plot(Z,'o')"
   ]
  },
  {
   "cell_type": "code",
   "execution_count": 99,
   "metadata": {},
   "outputs": [
    {
     "data": {
      "text/plain": [
       "(-2, 1)"
      ]
     },
     "execution_count": 99,
     "metadata": {},
     "output_type": "execute_result"
    },
    {
     "data": {
      "image/png": "[encoded data removed]",
      "text/plain": [
       "<Figure size 432x288 with 1 Axes>"
      ]
     },
     "metadata": {},
     "output_type": "display_data"
    }
   ],
   "source": [
    "plt.plot(Z,'o')\n",
    "plt.ylim(-2,1)"
   ]
  },
  {
   "cell_type": "code",
   "execution_count": 109,
   "metadata": {},
   "outputs": [],
   "source": [
    "X = np.random.rand(10000)\n",
    "Y = np.random.rand(10000)\n",
    "Z = X/(Y-X)"
   ]
  },
  {
   "cell_type": "code",
   "execution_count": 110,
   "metadata": {},
   "outputs": [
    {
     "data": {
      "text/plain": [
       "[<matplotlib.lines.Line2D at 0xb22560208>]"
      ]
     },
     "execution_count": 110,
     "metadata": {},
     "output_type": "execute_result"
    },
    {
     "data": {
      "image/png": "[encoded data removed]",
      "text/plain": [
       "<Figure size 432x288 with 1 Axes>"
      ]
     },
     "metadata": {},
     "output_type": "display_data"
    }
   ],
   "source": [
    "bins = np.logspace(-2,1)\n",
    "_, _, _, = plt.hist(Z[Z>0],bins=bins,density=True)\n",
    "plt.plot(z0,(1)/(z0+1)**2)"
   ]
  },
  {
   "cell_type": "code",
   "execution_count": 112,
   "metadata": {},
   "outputs": [
    {
     "data": {
      "text/plain": [
       "array([ -1.        ,  -1.04811313,  -1.09854114,  -1.1513954 ,\n",
       "        -1.20679264,  -1.26485522,  -1.32571137,  -1.38949549,\n",
       "        -1.45634848,  -1.52641797,  -1.59985872,  -1.67683294,\n",
       "        -1.75751062,  -1.84206997,  -1.93069773,  -2.02358965,\n",
       "        -2.12095089,  -2.22299648,  -2.32995181,  -2.44205309,\n",
       "        -2.55954792,  -2.6826958 ,  -2.8117687 ,  -2.9470517 ,\n",
       "        -3.0888436 ,  -3.23745754,  -3.39322177,  -3.55648031,\n",
       "        -3.72759372,  -3.90693994,  -4.09491506,  -4.29193426,\n",
       "        -4.49843267,  -4.71486636,  -4.94171336,  -5.17947468,\n",
       "        -5.42867544,  -5.68986603,  -5.96362332,  -6.25055193,\n",
       "        -6.55128557,  -6.86648845,  -7.19685673,  -7.54312006,\n",
       "        -7.90604321,  -8.28642773,  -8.68511374,  -9.10298178,\n",
       "        -9.54095476, -10.        ])"
      ]
     },
     "execution_count": 112,
     "metadata": {},
     "output_type": "execute_result"
    }
   ],
   "source": [
    "-np.logspace(0,1)"
   ]
  },
  {
   "cell_type": "code",
   "execution_count": 113,
   "metadata": {},
   "outputs": [
    {
     "data": {
      "text/plain": [
       "array([-10.        ,  -9.54095476,  -9.10298178,  -8.68511374,\n",
       "        -8.28642773,  -7.90604321,  -7.54312006,  -7.19685673,\n",
       "        -6.86648845,  -6.55128557,  -6.25055193,  -5.96362332,\n",
       "        -5.68986603,  -5.42867544,  -5.17947468,  -4.94171336,\n",
       "        -4.71486636,  -4.49843267,  -4.29193426,  -4.09491506,\n",
       "        -3.90693994,  -3.72759372,  -3.55648031,  -3.39322177,\n",
       "        -3.23745754,  -3.0888436 ,  -2.9470517 ,  -2.8117687 ,\n",
       "        -2.6826958 ,  -2.55954792,  -2.44205309,  -2.32995181,\n",
       "        -2.22299648,  -2.12095089,  -2.02358965,  -1.93069773,\n",
       "        -1.84206997,  -1.75751062,  -1.67683294,  -1.59985872,\n",
       "        -1.52641797,  -1.45634848,  -1.38949549,  -1.32571137,\n",
       "        -1.26485522,  -1.20679264,  -1.1513954 ,  -1.09854114,\n",
       "        -1.04811313,  -1.        ])"
      ]
     },
     "execution_count": 113,
     "metadata": {},
     "output_type": "execute_result"
    }
   ],
   "source": [
    "-np.logspace(0,1)[::-1]"
   ]
  },
  {
   "cell_type": "code",
   "execution_count": 114,
   "metadata": {},
   "outputs": [
    {
     "data": {
      "text/plain": [
       "[<matplotlib.lines.Line2D at 0xb235739e8>]"
      ]
     },
     "execution_count": 114,
     "metadata": {},
     "output_type": "execute_result"
    },
    {
     "data": {
      "image/png": "[encoded data removed]",
      "text/plain": [
       "<Figure size 432x288 with 1 Axes>"
      ]
     },
     "metadata": {},
     "output_type": "display_data"
    }
   ],
   "source": [
    "bins = -np.logspace(0,1)[::-1]\n",
    "_, _, _, = plt.hist(Z[Z<-1],bins=bins,density=True)\n",
    "plt.plot(zn,(1)/(zn)**2)"
   ]
  },
  {
   "cell_type": "markdown",
   "metadata": {},
   "source": [
    "## Independent Random Variables\n",
    "\n",
    "Independence is a standard assumption. Mathematically, the\n",
    "necessary and sufficient condition for independence between two\n",
    "random variables $X$  and $Y$ is the following:"
   ]
  },
  {
   "cell_type": "markdown",
   "metadata": {},
   "source": [
    "$$\n",
    "\\mathbb{P}(X,Y) = \\mathbb{P}(X)\\mathbb{P}(Y)\n",
    "$$"
   ]
  },
  {
   "cell_type": "markdown",
   "metadata": {},
   "source": [
    " Two random variables $X$  and $Y$ \n",
    "are *uncorrelated* if,"
   ]
  },
  {
   "cell_type": "markdown",
   "metadata": {},
   "source": [
    "$$\n",
    "\\mathbb{E}[(X-\\overline{X})(Y-\\overline{Y})]=0\n",
    "$$"
   ]
  },
  {
   "cell_type": "markdown",
   "metadata": {},
   "source": [
    " where $\\overline{X}=\\mathbb{E}(X)$. A similar condition is that $X$ and $Y$ are uncorrelated when their correlation coefficient is zero:\n",
    " \n",
    "$$\\rho(X,Y) = \\frac{Cov[X,Y]}{\\sqrt{Var[X]Var[Y]}} = 0\n",
    "$$\n",
    "\n",
    "where $Cov[X,Y] = \\mathbb{E}[XY] - \\mathbb{E}[X]\\mathbb{E}[Y]$ is convariance between $X$ and $Y$. \n",
    "\n",
    "Notice that $Cov[X,Y] = \\mathbb{E}[(X-\\overline{X})(Y-\\overline{Y})]$. \n",
    "\n",
    "Notice also that $Cov[X,Y] = 0$ implies $\\mathbb{E}[XY] = \\mathbb{E}[X]\\mathbb{E}[Y]$, so that independence implies uncorrelation.\n",
    "\n",
    "**Uncorrelated random variables are sometimes called *orthogonal* random variables.**"
   ]
  },
  {
   "cell_type": "markdown",
   "metadata": {},
   "source": [
    "**Uncorrelatedness is a weaker property than independence, however**. For example, consider the\n",
    "discrete random variables $X$ and $Y$ uniformly distributed over the set\n",
    "$\\lbrace 1,2,3 \\rbrace$ where"
   ]
  },
  {
   "cell_type": "markdown",
   "metadata": {},
   "source": [
    "$$\n",
    "X =  \n",
    "\\begin{cases} \n",
    "1 & \\mbox{if } \\omega =1 \\\\\\\n",
    "0 & \\mbox{if } \\omega =2  \\\\\\\n",
    "-1 & \\mbox{if } \\omega =3\n",
    "\\end{cases}\n",
    "$$"
   ]
  },
  {
   "cell_type": "markdown",
   "metadata": {},
   "source": [
    " and also,"
   ]
  },
  {
   "cell_type": "markdown",
   "metadata": {},
   "source": [
    "$$\n",
    "Y =  \n",
    "\\begin{cases} \n",
    "0 & \\mbox{if } \\omega =1 \\\\\\\n",
    "1 & \\mbox{if } \\omega =2 \\\\\\\n",
    "0 & \\mbox{if } \\omega =3\n",
    "\\end{cases}\n",
    "$$"
   ]
  },
  {
   "cell_type": "markdown",
   "metadata": {},
   "source": [
    " Thus, $\\mathbb{E}(X)=0$ and $\\mathbb{E}(X Y)=0$, so $X$ and $Y$ are uncorrelated. However, we have"
   ]
  },
  {
   "cell_type": "markdown",
   "metadata": {},
   "source": [
    "$$\n",
    "\\mathbb{P}(X=1,Y=1)=0\\neq \\mathbb{P}(X=1)\\mathbb{P}(Y=1)=\\frac{1}{9}\n",
    "$$"
   ]
  },
  {
   "cell_type": "markdown",
   "metadata": {},
   "source": [
    "So, these two random variables are *not* independent.\n",
    "**Thus, uncorrelatedness does not imply independence, generally.**\n",
    "\n",
    "But\n",
    "there is the important case of Gaussian random variables for which\n",
    "it does. To see this, consider the probability density function\n",
    "for two zero-mean, unit-variance Gaussian random variables $X$ and\n",
    "$Y$,"
   ]
  },
  {
   "cell_type": "markdown",
   "metadata": {},
   "source": [
    "$$\n",
    "f_{X,Y}(x,y) = \\frac{e^{\\frac{x^2-2 \\rho x\n",
    "   y+y^2}{2 \\left(\\rho^2-1\\right)}}}{2 \\pi \n",
    "   \\sqrt{1-\\rho^2}}\n",
    "$$"
   ]
  },
  {
   "cell_type": "code",
   "execution_count": 6,
   "metadata": {
    "ExecuteTime": {
     "end_time": "2018-09-11T16:58:23.674401Z",
     "start_time": "2018-09-11T16:58:23.667424Z"
    }
   },
   "outputs": [],
   "source": [
    "def plot_dg(rho=1e-16):\n",
    "    x, y = np.meshgrid(np.linspace(-3,3),np.linspace(-3,3))\n",
    "    z = np.exp((x**2 + y**2 - 2*rho*x*y)/(2*(rho**2-1)))/(2*np.pi*np.sqrt(1-rho**2))\n",
    "    f, ax = plt.subplots()\n",
    "    ax.contourf(x,y,z,cmap='viridis')\n",
    "    ax.set_aspect('equal')"
   ]
  },
  {
   "cell_type": "code",
   "execution_count": 7,
   "metadata": {
    "ExecuteTime": {
     "end_time": "2018-09-11T16:58:24.408058Z",
     "start_time": "2018-09-11T16:58:24.279343Z"
    }
   },
   "outputs": [
    {
     "data": {
      "image/png": "[encoded data removed]",
      "text/plain": [
       "<Figure size 432x288 with 1 Axes>"
      ]
     },
     "metadata": {},
     "output_type": "display_data"
    }
   ],
   "source": [
    "plot_dg()"
   ]
  },
  {
   "cell_type": "code",
   "execution_count": 6,
   "metadata": {
    "ExecuteTime": {
     "end_time": "2018-09-11T16:58:25.627258Z",
     "start_time": "2018-09-11T16:58:25.477444Z"
    }
   },
   "outputs": [
    {
     "data": {
      "image/png": "[encoded data removed]",
      "text/plain": [
       "<Figure size 432x288 with 1 Axes>"
      ]
     },
     "metadata": {},
     "output_type": "display_data"
    }
   ],
   "source": [
    "plot_dg(0.9)"
   ]
  },
  {
   "cell_type": "code",
   "execution_count": 8,
   "metadata": {
    "ExecuteTime": {
     "end_time": "2018-09-11T16:58:26.994259Z",
     "start_time": "2018-09-11T16:58:26.989816Z"
    }
   },
   "outputs": [],
   "source": [
    "from ipywidgets import interact\n",
    "import ipywidgets as widgets"
   ]
  },
  {
   "cell_type": "code",
   "execution_count": 9,
   "metadata": {
    "ExecuteTime": {
     "end_time": "2018-09-11T16:59:38.262444Z",
     "start_time": "2018-09-11T16:59:38.089083Z"
    }
   },
   "outputs": [
    {
     "data": {
      "application/vnd.jupyter.widget-view+json": {
       "model_id": "acba6de5284f41fa9bdadf27f490c436",
       "version_major": 2,
       "version_minor": 0
      },
      "text/plain": [
       "interactive(children=(FloatSlider(value=1e-16, description='rho', max=0.99, min=1e-16, step=0.05), Output()), …"
      ]
     },
     "metadata": {},
     "output_type": "display_data"
    },
    {
     "data": {
      "text/plain": [
       "<function __main__.plot_dg(rho=1e-16)>"
      ]
     },
     "execution_count": 9,
     "metadata": {},
     "output_type": "execute_result"
    }
   ],
   "source": [
    "interact(plot_dg,rho=(1e-16,0.99,0.05))"
   ]
  },
  {
   "cell_type": "markdown",
   "metadata": {},
   "source": [
    " where $\\rho:=\\mathbb{E}(X Y)$  is the correlation coefficient.  In\n",
    "the uncorrelated case where $\\rho=0$, the probability density function factors\n",
    "into the following,"
   ]
  },
  {
   "cell_type": "markdown",
   "metadata": {},
   "source": [
    "$$\n",
    "f_{X,Y}(x,y)=\\frac{e^{-\\frac{1}{2}\\left(x^2+y^2\\right)}}{2\\pi}=\\frac{e^{-\\frac{x^2}{2}}}{\\sqrt{2\\pi}}\\frac{e^{-\\frac{y^2}{2}}}{\\sqrt{2\\pi}}    =f_X(x)f_Y(y)\n",
    "$$"
   ]
  },
  {
   "cell_type": "markdown",
   "metadata": {},
   "source": [
    " which means that $X$ and $Y$ are independent.\n",
    "\n",
    "Independence and conditional independence are closely related, as in the following:"
   ]
  },
  {
   "cell_type": "markdown",
   "metadata": {},
   "source": [
    "$$\n",
    "\\mathbb{P}(X,Y\\vert Z) =\\mathbb{P}(X\\vert Z) \\mathbb{P}(Y\\vert Z)\n",
    "$$"
   ]
  },
  {
   "cell_type": "code",
   "execution_count": 4,
   "metadata": {
    "ExecuteTime": {
     "end_time": "2018-09-24T12:14:08.057834Z",
     "start_time": "2018-09-24T12:14:08.047033Z"
    }
   },
   "outputs": [
    {
     "data": {
      "text/plain": [
       "0.5"
      ]
     },
     "execution_count": 4,
     "metadata": {},
     "output_type": "execute_result"
    }
   ],
   "source": [
    "0.25/0.5"
   ]
  },
  {
   "cell_type": "markdown",
   "metadata": {},
   "source": [
    " which says that $X$ and $Y$ and independent conditioned\n",
    "on $Z$. \n",
    "\n",
    "**Conditioning independent random variables can break\n",
    "their independence.** \n",
    "\n",
    "Just remembering that conditional probability is:\n",
    "\n",
    "$$P(A|B) = \\frac{P(A,B)}{P(B)}$$\n",
    "\n",
    "where $P(A,B) = P(A\\cap B)$ is the probability that both $A$ and $B$ happen.\n",
    "\n",
    "For example, consider two independent Bernoulli-distributed random variables,  $X_1, X_2\\in\\lbrace 0,1\n",
    "\\rbrace$.  We define $Z=X_1+X_2$. Note that $Z\\in \\lbrace\n",
    "0,1,2 \\rbrace$. In the case where $Z=1$, we have,"
   ]
  },
  {
   "cell_type": "markdown",
   "metadata": {},
   "source": [
    "$$\n",
    "\\mathbb{P}(X_1\\vert Z=1) >0\n",
    "$$"
   ]
  },
  {
   "cell_type": "markdown",
   "metadata": {},
   "source": [
    "$$\n",
    "\\\n",
    "\\mathbb{P}(X_2\\vert Z=1) >0\n",
    "$$"
   ]
  },
  {
   "cell_type": "markdown",
   "metadata": {},
   "source": [
    " Even though $X_1,X_2$ are independent,\n",
    "after conditioning on $Z$, we have the following,"
   ]
  },
  {
   "cell_type": "markdown",
   "metadata": {},
   "source": [
    "$$\n",
    "\\mathbb{P}(X_1=1,X_2=1\\vert Z=1)=0\\neq \\mathbb{P}(X_1=1\\vert Z=1)\\mathbb{P}(X_2=1\\vert Z=1)\n",
    "$$"
   ]
  },
  {
   "cell_type": "markdown",
   "metadata": {},
   "source": [
    " Thus, conditioning on $Z$ breaks the independence of\n",
    "$X_1,X_2$. \n",
    "\n",
    "**This also works in the opposite direction ---\n",
    "conditioning can make dependent random variables independent.**\n",
    "\n",
    "\n",
    "Define $Z_n=\\sum_i^n X_i$ with $X_i$ independent, integer-valued\n",
    "random variables.\n",
    "\n",
    "The $Z_n$ variables are dependent because they stack the same telescoping set of $X_i$ variables. Consider the following,"
   ]
  },
  {
   "cell_type": "markdown",
   "metadata": {},
   "source": [
    "<!-- Equation labels as ordinary links -->\n",
    "<div id=\"_auto1\"></div>\n",
    "\n",
    "$$\n",
    "\\begin{equation}\n",
    "\\mathbb{P}(Z_1=i,Z_3=j\\vert Z_2=k) = \\frac{\\mathbb{P}(Z_1=i,Z_2=k,Z_3=j)}{\\mathbb{P}(Z_2 =k)}\n",
    "\\label{_auto1} \\tag{1}\n",
    "\\end{equation}\n",
    "$$"
   ]
  },
  {
   "cell_type": "markdown",
   "metadata": {},
   "source": [
    "<!-- Equation labels as ordinary links -->\n",
    "<div id=\"eq:condIndep\"></div>\n",
    "\n",
    "$$\n",
    "\\begin{equation} \\\n",
    "=\\frac{\\mathbb{P}(X_1 =i)\\mathbb{P}(X_2 =k-i)\\mathbb{P}(X_3 =j-k) }{\\mathbb{P}(Z_2 =k)}\n",
    "\\end{equation} \n",
    "\\label{eq:condIndep} \\tag{2}\n",
    "$$"
   ]
  },
  {
   "cell_type": "markdown",
   "metadata": {},
   "source": [
    " where the factorization comes from the independence of\n",
    "the $X_i$ variables. **Notice that for $Z_1=i$, we must have $X_1=i$. Also, for $Z_2=X_1+X_2=k$ we must have $X_2 = k-i$ and so on...**\n",
    "\n",
    "Notice further that $\\mathbb{P}(X_1 =i)\\mathbb{P}(X_2 =k-i) = \\mathbb{P}(Z_1 =i\\vert Z_2=k) \\mathbb{P}(Z_2=k)$, so that\n",
    "\n",
    "\n",
    "$$\n",
    "\\mathbb{P}(Z_1=i,Z_3=j\\vert Z_2=k) = \\frac{\\mathbb{P}(Z_1 =i\\vert Z_2=k) \\mathbb{P}(Z_2=k)\\mathbb{P}(X_3 =j-k)}{\\mathbb{P}(Z_2 =k)}\n",
    "$$\n",
    "\n",
    "Also, $\\mathbb{P}(X_3 =j-k) = \\mathbb{P}(Z_3 =j\\vert Z_2=k)$, and therefore:\n",
    "\n",
    "$$\n",
    "\\mathbb{P}(Z_1=i,Z_3=j\\vert Z_2=k) = \\mathbb{P}(Z_1 =i\\vert Z_2)\\mathbb{P}(Z_3 =j\\vert Z_2)\n",
    "$$"
   ]
  },
  {
   "cell_type": "markdown",
   "metadata": {},
   "source": [
    "**Thus, we see that dependence between\n",
    "random variables can be broken by conditioning to create\n",
    "conditionally independent random variables.**\n",
    "\n",
    "As we have just\n",
    "witnessed, understanding how conditioning influences independence\n",
    "is important and is the main topic of\n",
    "study in Probabilistic Graphical Models, a field\n",
    "with many algorithms and concepts to extract these\n",
    "notions of conditional independence from graph-based\n",
    "representations of random variables.\n",
    "\n",
    "\n",
    "## Classic Broken Rod Example\n",
    "\n",
    "Let's do one last example to exercise fluency in our methods by\n",
    "considering the following classic problem: given a rod of unit-length,\n",
    "broken independently and randomly at two places, what is the\n",
    "probability that you can assemble the three remaining pieces into a\n",
    "triangle? The first task is to find a representation of a triangle as\n",
    "an easy-to-apply constraint. What we want is something like the\n",
    "following:"
   ]
  },
  {
   "cell_type": "markdown",
   "metadata": {},
   "source": [
    "$$\n",
    "\\mathbb{P}(\\mbox{ triangle exists }) = \\int_0^1 \\int_0^1 \\lbrace \\mbox{ triangle exists }  \\rbrace dX dY\n",
    "$$"
   ]
  },
  {
   "cell_type": "markdown",
   "metadata": {},
   "source": [
    " where $X$ and $Y$ are independent and uniformly distributed\n",
    "in the unit-interval.  Heron's formula for the area of the triangle,"
   ]
  },
  {
   "cell_type": "markdown",
   "metadata": {},
   "source": [
    "$$\n",
    "\\mbox{ area } = \\sqrt{(s-a)(s-b)(s-c)s}\n",
    "$$"
   ]
  },
  {
   "cell_type": "markdown",
   "metadata": {},
   "source": [
    " where $s = (a+b+c)/2$ is what we need. **The idea is that this\n",
    "yields a valid area only when each of the terms under the square root is\n",
    "greater than or equal to zero.** Thus, suppose that we have"
   ]
  },
  {
   "cell_type": "markdown",
   "metadata": {},
   "source": [
    "$$\n",
    "\\begin{eqnarray*}\n",
    "a  & = &  X  \\\\\\\n",
    "b  & = & Y-X \\\\\\\n",
    "c  & = & 1-Y \n",
    "\\end{eqnarray*}\n",
    "$$"
   ]
  },
  {
   "cell_type": "markdown",
   "metadata": {},
   "source": [
    " assuming that $Y>X$.  Thus, the criterion for a valid triangle boils down\n",
    "to"
   ]
  },
  {
   "cell_type": "markdown",
   "metadata": {},
   "source": [
    "$$\n",
    "\\lbrace (s > a) \\wedge (s > b) \\wedge (s > c) \\wedge (X<Y) \\rbrace\n",
    "$$"
   ]
  },
  {
   "cell_type": "markdown",
   "metadata": {},
   "source": [
    "where $\\wedge = \\&$ means \"and\"."
   ]
  },
  {
   "cell_type": "markdown",
   "metadata": {},
   "source": [
    " After a bit of manipulation, this  consolidates into:"
   ]
  },
  {
   "cell_type": "markdown",
   "metadata": {},
   "source": [
    "$$\n",
    "\\Big\\lbrace \\frac{1}{2} < Y < 1 \\bigwedge \\frac{1}{2}(2 Y-1) < X < \\frac{1}{2} \\Big\\rbrace\n",
    "$$"
   ]
  },
  {
   "cell_type": "markdown",
   "metadata": {},
   "source": [
    "  which we integrate out by $dX$ first to obtain"
   ]
  },
  {
   "cell_type": "markdown",
   "metadata": {},
   "source": [
    "$$\n",
    "\\mathbb{P}(\\mbox{ triangle exists }) = \\int_{0}^1 \\int_{0}^1 \\Big\\lbrace \\frac{1}{2} < Y < 1 \\bigwedge \\frac{1}{2}(2 Y-1) < X < \\frac{1}{2} \\Big\\rbrace dX dY\n",
    "$$"
   ]
  },
  {
   "cell_type": "markdown",
   "metadata": {},
   "source": [
    "$$\n",
    "\\mathbb{P}(\\mbox{ triangle exists }) = \\int_{\\frac{1}{2}}^1 (1-Y) dY\n",
    "$$"
   ]
  },
  {
   "cell_type": "markdown",
   "metadata": {},
   "source": [
    " and then by $dY$ to obtain finally,"
   ]
  },
  {
   "cell_type": "markdown",
   "metadata": {},
   "source": [
    "$$\n",
    "\\mathbb{P}(\\mbox{ triangle exists }) = \\frac{1}{8}\n",
    "$$"
   ]
  },
  {
   "cell_type": "markdown",
   "metadata": {},
   "source": [
    " when $Y>X$. By symmetry, we get the same result for $X>Y$. Thus, the\n",
    "final result is the following:"
   ]
  },
  {
   "cell_type": "markdown",
   "metadata": {},
   "source": [
    "$$\n",
    "\\mathbb{P}(\\mbox{ triangle exists }) = \\frac{1}{8}+\\frac{1}{8} = \\frac{1}{4}\n",
    "$$"
   ]
  },
  {
   "cell_type": "markdown",
   "metadata": {},
   "source": [
    "We can quickly check using this result using Python for the case $Y>X$ using\n",
    "the following code:"
   ]
  },
  {
   "cell_type": "code",
   "execution_count": 10,
   "metadata": {},
   "outputs": [
    {
     "data": {
      "text/plain": [
       "array([[0.55245767, 0.47489568, 0.44830569, ..., 0.34826263, 0.43623912,\n",
       "        0.29643532],\n",
       "       [0.03080965, 0.38115774, 0.58228155, ..., 0.34818075, 0.22546688,\n",
       "        0.4281518 ]])"
      ]
     },
     "execution_count": 10,
     "metadata": {},
     "output_type": "execute_result"
    }
   ],
   "source": [
    "np.random.rand(2,1000)"
   ]
  },
  {
   "cell_type": "code",
   "execution_count": 21,
   "metadata": {},
   "outputs": [
    {
     "data": {
      "text/plain": [
       "0.12492"
      ]
     },
     "execution_count": 21,
     "metadata": {},
     "output_type": "execute_result"
    }
   ],
   "source": [
    "x,y = np.random.rand(2,100000)\n",
    "\n",
    "a,b,c = y,(x-y),1-x # 3 sides\n",
    "\n",
    "s = (a+b+c)/2\n",
    "\n",
    "np.mean((s>a) & (s>b)  & (s>c) & (y<x))"
   ]
  },
  {
   "cell_type": "code",
   "execution_count": 15,
   "metadata": {
    "ExecuteTime": {
     "end_time": "2018-09-11T17:30:56.816731Z",
     "start_time": "2018-09-11T17:30:56.804908Z"
    }
   },
   "outputs": [
    {
     "data": {
      "text/plain": [
       "0.12524"
      ]
     },
     "execution_count": 15,
     "metadata": {},
     "output_type": "execute_result"
    }
   ],
   "source": [
    "x,y = np.random.rand(2,100000)\n",
    "\n",
    "a,b,c = x,(y-x),1-y # 3 sides\n",
    "\n",
    "s = (a+b+c)/2\n",
    "\n",
    "np.mean((s>a) & (s>b)  & (s>c) & (y>x))"
   ]
  },
  {
   "cell_type": "code",
   "execution_count": 26,
   "metadata": {
    "ExecuteTime": {
     "end_time": "2018-09-11T17:29:45.444955Z",
     "start_time": "2018-09-11T17:29:45.287431Z"
    }
   },
   "outputs": [
    {
     "data": {
      "text/plain": [
       "[<matplotlib.lines.Line2D at 0x7fd549ac06a0>]"
      ]
     },
     "execution_count": 26,
     "metadata": {},
     "output_type": "execute_result"
    },
    {
     "data": {
      "image/png": "[encoded data removed]",
      "text/plain": [
       "<Figure size 432x288 with 1 Axes>"
      ]
     },
     "metadata": {},
     "output_type": "display_data"
    }
   ],
   "source": [
    "plt.plot((s>a) & (s>b)  & (s>c) & (y>x),'o',alpha=0.4)"
   ]
  },
  {
   "cell_type": "code",
   "execution_count": 22,
   "metadata": {
    "ExecuteTime": {
     "end_time": "2018-09-11T17:28:58.681491Z",
     "start_time": "2018-09-11T17:28:58.675756Z"
    }
   },
   "outputs": [
    {
     "data": {
      "text/plain": [
       "0.125"
      ]
     },
     "execution_count": 22,
     "metadata": {},
     "output_type": "execute_result"
    }
   ],
   "source": [
    "1/8"
   ]
  },
  {
   "cell_type": "markdown",
   "metadata": {},
   "source": [
    "**Programming Tip.**\n",
    "\n",
    "The chained logical `&` symbols above tell Numpy that the logical operation\n",
    "should be considered element-wise."
   ]
  },
  {
   "cell_type": "markdown",
   "metadata": {},
   "source": [
    "# Projection Methods\n",
    "\n",
    "The concept of projection is key to developing an intuition about conditional\n",
    "probability.  We already have a natural intuition of projection from looking at\n",
    "the shadows of objects on a sunny day. As we will see, this simple idea consolidates many abstract ideas in optimization and mathematics.  \n",
    "\n",
    "Consider\n",
    "[Figure](#fig:probability_001) where we want to find a point along the blue\n",
    "line (namely, $\\mathbf{x}$) that is closest to the black square (namely,\n",
    "$\\mathbf{y}$). In other words, we want to inflate the gray circle until it just\n",
    "touches the black line. Recall that the circle boundary is the set of points for\n",
    "which"
   ]
  },
  {
   "cell_type": "markdown",
   "metadata": {},
   "source": [
    "$$\n",
    "\\sqrt{(\\mathbf{y}-\\mathbf{x})^T(\\mathbf{y}-\\mathbf{x})} =\\|\\mathbf{y}-\\mathbf{x} \\| = \\epsilon\n",
    "$$"
   ]
  },
  {
   "cell_type": "markdown",
   "metadata": {},
   "source": [
    " for some value of $\\epsilon$. So we want a point $\\mathbf{x}$ along\n",
    "the line that satisfies this for the smallest $\\epsilon$.  Then, that point\n",
    "will be the closest point on the black line to the black square.\n",
    " It may be obvious from the diagram, but **the closest point on the line\n",
    "occurs where the line segment from the black square to the black line is\n",
    "perpendicular to the line.** At this point, the gray circle just touches the black\n",
    "line. This is illustrated below in [Figure](#fig:probability_002).\n",
    "\n",
    "<!-- dom:FIGURE: [fig-probability/probability_001.png, width=500 frac=0.90] Given the point $\\mathbf{y}$ (black square) we want to find the $\\mathbf{x}$ along the line that is closest to it. The gray circle is the locus of points within a fixed distance from $\\mathbf{y}$. <div id=\"fig:probability_001\"></div> -->\n",
    "<!-- begin figure -->\n",
    "<div id=\"fig:probability_001\"></div>\n",
    "\n",
    "<p>Given the point $\\mathbf{y}$ (black square) we want to find the $\\mathbf{x}$ along the line that is closest to it. The gray circle is the locus of points within a fixed distance from $\\mathbf{y}$.</p>\n",
    "<img src=\"fig-probability/probability_001.png\" width=500>\n",
    "\n",
    "<!-- end figure -->"
   ]
  },
  {
   "cell_type": "markdown",
   "metadata": {
    "ExecuteTime": {
     "end_time": "2018-09-11T18:25:33.565443Z",
     "start_time": "2018-09-11T18:25:33.557106Z"
    }
   },
   "source": [
    "**Programming Tip.**\n",
    "\n",
    "[Figure](#fig:probability_001) uses the `matplotlib.patches` module.  This\n",
    "module contains primitive shapes like circles, ellipses, and rectangles that\n",
    "can be assembled into complex graphics.  As shown in the code in the IPython\n",
    "Notebook corresponding to this chapter, after importing a particular shape, you\n",
    "can apply that shape to an existing axis  using the `add_patch` method.  The\n",
    "patches themselves can by styled using the usual formatting keywords like\n",
    "`color` and `alpha`."
   ]
  },
  {
   "cell_type": "markdown",
   "metadata": {},
   "source": [
    "\n",
    "\n",
    "\n",
    "<!-- dom:FIGURE: [fig-probability/probability_002.png, width=500 frac=0.90] The closest point on the line occurs when the line is tangent to the circle. When this happens, the black line and the line (minimum distance) are perpedicular.  <div id=\"fig:probability_002\"></div> -->\n",
    "<!-- begin figure -->\n",
    "<div id=\"fig:probability_002\"></div>\n",
    "\n",
    "<p>The closest point on the line occurs when the line is tangent to the circle. When this happens, the black line and the line (minimum distance) are perpedicular.</p>\n",
    "<img src=\"fig-probability/probability_002.png\" width=500>\n",
    "\n",
    "<!-- end figure -->\n",
    "\n",
    "\n",
    " Now that we can see what's going on, we can construct the the solution\n",
    "analytically. We can represent an arbitrary point along the black line as:"
   ]
  },
  {
   "cell_type": "markdown",
   "metadata": {},
   "source": [
    "$$\n",
    "\\mathbf{x}=\\alpha\\mathbf{v}\n",
    "$$"
   ]
  },
  {
   "cell_type": "markdown",
   "metadata": {},
   "source": [
    " where $\\alpha\\in\\mathbb{R}$ slides the point up and down the line with"
   ]
  },
  {
   "cell_type": "markdown",
   "metadata": {},
   "source": [
    "$$\n",
    "\\mathbf{v} = \\left[ 1,1 \\right]^T\n",
    "$$"
   ]
  },
  {
   "cell_type": "markdown",
   "metadata": {},
   "source": [
    " Formally, $\\mathbf{v}$ is the *subspace* onto which we want to\n",
    "*project* $\\mathbf{y}$. \n",
    "\n",
    "At the closest point, the vector between\n",
    "$\\mathbf{y}$ and $\\mathbf{x}$ (the *error* vector above) is\n",
    "perpedicular to the line. This means that"
   ]
  },
  {
   "cell_type": "markdown",
   "metadata": {},
   "source": [
    "$$\n",
    "(\\mathbf{y}-\\mathbf{x} )^T \\mathbf{v} = 0\n",
    "$$"
   ]
  },
  {
   "cell_type": "markdown",
   "metadata": {},
   "source": [
    " and by substituting and working out the terms, we obtain"
   ]
  },
  {
   "cell_type": "markdown",
   "metadata": {},
   "source": [
    "$$\n",
    "\\alpha = \\frac{\\mathbf{y}^T\\mathbf{v}}{ \\|\\mathbf{v} \\|^2}\n",
    "$$"
   ]
  },
  {
   "cell_type": "markdown",
   "metadata": {},
   "source": [
    "In vector notation we have:\n",
    "\n",
    "$$\n",
    "(\\vec{y}-\\vec{x})\\cdot\\vec{v} = 0 \\\\\n",
    "\\vec{y}\\cdot\\vec{v} = \\vec{x}\\cdot\\vec{v}\\\\\n",
    "\\vec{y}\\cdot\\vec{v} = \\alpha \\vec{v}\\cdot\\vec{v}\\\\\n",
    "\\alpha = \\frac{\\vec{y}\\cdot\\vec{v}}{\\vec{v}\\cdot\\vec{v}}\n",
    "$$"
   ]
  },
  {
   "cell_type": "markdown",
   "metadata": {},
   "source": [
    " The *error* is the distance between $\\alpha\\mathbf{v}$ and $\n",
    "\\mathbf{y}$.  \n",
    "\n",
    "This is a right triangle, and we can use the Pythagorean\n",
    "theorem to compute the squared length of this error as"
   ]
  },
  {
   "cell_type": "markdown",
   "metadata": {},
   "source": [
    "$$\n",
    "\\epsilon^2 = \\|( \\mathbf{y}-\\mathbf{x} )\\|^2 = \\|\\mathbf{y}\\|^2 - \\alpha^2 \\|\\mathbf{v}\\|^2 = \\|\\mathbf{y}\\|^2 - \\frac{\\|\\mathbf{y}^T\\mathbf{v}\\|^2}{\\|\\mathbf{v}\\|^2}\n",
    "$$"
   ]
  },
  {
   "cell_type": "markdown",
   "metadata": {},
   "source": [
    " where $ \\|\\mathbf{v}\\|^2 = \\mathbf{v}^T \\mathbf{v} $. Note that since $\\epsilon^2 \\ge 0 $, this also shows that"
   ]
  },
  {
   "cell_type": "markdown",
   "metadata": {},
   "source": [
    "$$\n",
    "\\| \\mathbf{y}^T\\mathbf{v}\\| \\le \\|\\mathbf{y}\\|  \\|\\mathbf{v}\\|\n",
    "$$"
   ]
  },
  {
   "cell_type": "markdown",
   "metadata": {},
   "source": [
    " which is the **famous and useful Cauchy-Schwarz inequality which we\n",
    "will exploit later.**\n",
    "\n",
    "Finally, we can assemble all of this into the *projection*\n",
    "operator"
   ]
  },
  {
   "cell_type": "markdown",
   "metadata": {},
   "source": [
    "$$\n",
    "\\mathbf{P}_v = \\frac{1}{\\|\\mathbf{v}\\|^2 } \\mathbf{v v}^T\n",
    "$$"
   ]
  },
  {
   "cell_type": "markdown",
   "metadata": {},
   "source": [
    "In vector notation we would have:\n",
    "\n",
    "$$\n",
    "\\mathbf{P}_v = \\frac{\\vec{v}}{\\vec{v}\\cdot\\vec{v}} \\vec{v}\\cdot\n",
    "$$"
   ]
  },
  {
   "cell_type": "markdown",
   "metadata": {},
   "source": [
    " With this operator, we can take any $\\mathbf{y}$ and find the closest\n",
    "point on $\\mathbf{v}$ by doing"
   ]
  },
  {
   "cell_type": "markdown",
   "metadata": {},
   "source": [
    "$$\n",
    "\\mathbf{P}_v \\mathbf{y} = \\mathbf{v} \\left( \\frac{  \\mathbf{v}^T \\mathbf{y} }{\\|\\mathbf{v}\\|^2} \\right)\n",
    "$$"
   ]
  },
  {
   "cell_type": "markdown",
   "metadata": {},
   "source": [
    " where we recognize the term in parenthesis as the $\\alpha$ we\n",
    "computed earlier.  It's called an *operator* because it takes a vector\n",
    "($\\mathbf{y}$) and produces another vector ($\\alpha\\mathbf{v}$). **Thus,\n",
    "projection unifies geometry and optimization.**"
   ]
  },
  {
   "cell_type": "markdown",
   "metadata": {},
   "source": [
    "## Weighted distance\n",
    "\n",
    "We can easily extend this projection operator to cases where the measure of\n",
    "distance between $\\mathbf{y}$ and the subspace $\\mathbf{v}$ is weighted. We can\n",
    "accommodate these weighted distances by re-writing the projection operator as"
   ]
  },
  {
   "cell_type": "markdown",
   "metadata": {},
   "source": [
    "<!-- Equation labels as ordinary links -->\n",
    "<div id=\"eq:weightedProj\"></div>\n",
    "\n",
    "$$\n",
    "\\begin{equation}\n",
    "\\mathbf{P}_v=\\mathbf{v}\\frac{\\mathbf{v}^T\\mathbf{Q}^T}{\\mathbf{v}^T\\mathbf{Q v}}\n",
    "\\end{equation}\n",
    "\\label{eq:weightedProj} \\tag{1}\n",
    "$$"
   ]
  },
  {
   "cell_type": "markdown",
   "metadata": {},
   "source": [
    " where $\\mathbf{Q}$ is positive definite matrix.  In the previous\n",
    "case, we started with a point $\\mathbf{y}$ and inflated a circle centered at\n",
    "$\\mathbf{y}$ until it just touched the line defined by $\\mathbf{v}$ and this\n",
    "point was closest point on the line to $\\mathbf{y}$. The same thing happens\n",
    "in the general case with a weighted distance except now we inflate an\n",
    "ellipse, not a circle, until the ellipse touches the line.\n",
    "\n",
    "<!-- # @@@CODE src-probability/Projection.py fromto: ^theta@^fig,ax -->\n",
    "\n",
    "<!-- dom:FIGURE: [fig-probability/probability_003.png, width=500 frac=0.95] In the weighted case, the closest point on the line is tangent to the ellipse and is still perpedicular in the sense of the weighted distance. <div id=\"fig:probability_003\"></div> -->\n",
    "<!-- begin figure -->\n",
    "<div id=\"fig:probability_003\"></div>\n",
    "\n",
    "<p>In the weighted case, the closest point on the line is tangent to the ellipse and is still perpedicular in the sense of the weighted distance.</p>\n",
    "<img src=\"fig-probability/probability_003.png\" width=500>\n",
    "\n",
    "<!-- end figure -->\n",
    "\n",
    "\n",
    "Note that the error vector ($\\mathbf{y}-\\alpha\\mathbf{v}$) in [Figure](#fig:probability_003) is still perpendicular to the line (subspace\n",
    "$\\mathbf{v}$), but in the space of the weighted distance, that is,\n",
    "\n",
    "$$(\\mathbf{y}-\\mathbf{x} )^T \\mathbf{Q}^T\\mathbf{v} = 0$$\n",
    "\n",
    "\n",
    "The difference\n",
    "between the first projection (with the uniform circular distance) and the\n",
    "general case (with the elliptical weighted distance) is the inner product\n",
    "between the two cases.  For example, in the first case we have $\\mathbf{y}^T\n",
    "\\mathbf{v}$ and in the weighted case we have $\\mathbf{y}^T \\mathbf{Q}^T\n",
    "\\mathbf{v}$. To move from the uniform circular case to the weighted ellipsoidal\n",
    "case, all we had to do was change all of the vector inner products.  Before we\n",
    "finish, we need a formal property  of projections:"
   ]
  },
  {
   "cell_type": "markdown",
   "metadata": {},
   "source": [
    "$$\n",
    "\\mathbf{P}_v \\mathbf{P}_v = \\mathbf{P}_v\n",
    "$$"
   ]
  },
  {
   "cell_type": "markdown",
   "metadata": {},
   "source": [
    " known as the *idempotent* property which basically says that once we\n",
    "have projected onto a subspace, subsequent projections leave us in the\n",
    "same subspace. You can verify this by using the definition\n",
    "\n",
    "$$\n",
    "\\mathbf{P}_v=\\mathbf{v}\\frac{\\mathbf{v}^T\\mathbf{Q}^T}{\\mathbf{v}^T\\mathbf{Q v}}\n",
    "$$\n",
    "that is,\n",
    "\n",
    "$$\n",
    "\\mathbf{P}_v \\mathbf{P}_v = \\mathbf{v}\\frac{\\mathbf{v}^T\\mathbf{Q}^T}{\\mathbf{v}^T\\mathbf{Q v}}\\mathbf{v}\\frac{\\mathbf{v}^T\\mathbf{Q}^T}{\\mathbf{v}^T\\mathbf{Q v}} = \\mathbf{P}_v\n",
    "$$\n",
    "\n",
    "\n",
    "**Thus, projection ties a minimization problem (closest point to a line) to an\n",
    "algebraic concept (inner product).** \n",
    "\n",
    "It turns out that these same geometric ideas\n",
    "from linear algebra [[strang2006linear]](#strang2006linear) can be translated to the conditional\n",
    "expectation. How this works is the subject of our next  section."
   ]
  },
  {
   "cell_type": "markdown",
   "metadata": {},
   "source": [
    "# Conditional Expectation as Projection\n",
    "\n",
    "Now that we understand projection methods geometrically, we can apply\n",
    "them to conditional probability. **This is the *key* concept that ties\n",
    "probability to geometry, optimization, and linear algebra.**\n",
    "\n",
    "### Inner Product for Random Variables\n",
    "\n",
    " From our previous work on projection for vectors in\n",
    "$\\mathbb{R}^n$, we have a good geometric grasp on how projection is related to Minimum Mean Squared Error (MMSE).\n",
    "\n",
    "By one abstract step, we can carry\n",
    "all of our geometric interpretations to the space of random variables.\n",
    "For example, we previously noted that at the point of projection, we had the following orthogonal (i.e.,  perpendicular vectors) condition,"
   ]
  },
  {
   "cell_type": "markdown",
   "metadata": {},
   "source": [
    "$$\n",
    "( \\mathbf{y} - \\mathbf{v}_{opt} )^T \\mathbf{v} = 0\n",
    "$$"
   ]
  },
  {
   "cell_type": "markdown",
   "metadata": {},
   "source": [
    " which by noting the inner product slightly more abstractly as\n",
    "$\\langle\\mathbf{x},\\mathbf{y} \\rangle = \\mathbf{x}^T \\mathbf{y}$, we can\n",
    "express as"
   ]
  },
  {
   "cell_type": "markdown",
   "metadata": {},
   "source": [
    "$$\n",
    "\\langle \\mathbf{y} - \\mathbf{v}_{opt},\\mathbf{v} \\rangle = 0\n",
    "$$"
   ]
  },
  {
   "cell_type": "markdown",
   "metadata": {},
   "source": [
    " and by defining the inner product for the random variables\n",
    "$X$ and $Y$ as"
   ]
  },
  {
   "cell_type": "markdown",
   "metadata": {},
   "source": [
    "$$\n",
    "\\langle X,Y \\rangle = \\mathbb{E}(X Y)\n",
    "$$"
   ]
  },
  {
   "cell_type": "markdown",
   "metadata": {},
   "source": [
    " we have the same relationship:"
   ]
  },
  {
   "cell_type": "markdown",
   "metadata": {},
   "source": [
    "$$\n",
    "\\langle X-h_{opt}(Y),Y \\rangle = 0\n",
    "$$"
   ]
  },
  {
   "cell_type": "markdown",
   "metadata": {},
   "source": [
    " which holds not for vectors in $\\mathbb{R}^n$, but for random\n",
    "variables $X$ and $Y$ and functions of those random variables. Exactly why this\n",
    "is true is technical, but it turns out that one can build up the *entire theory\n",
    "of probability* this way [[edward1987radically]](#edward1987radically), by using the expectation as\n",
    "an inner product.\n",
    "\n",
    "Furthermore, by abstracting out the inner product concept, we have connected\n",
    "minimum-mean-squared-error (MMSE) optimization problems, geometry, and random\n",
    "variables.  That's  a lot of mileage to get a out of an abstraction and it\n",
    "enables us to shift between these interpretations to address real problems.\n",
    "Soon, we'll do this with some examples, but first we collect the most important\n",
    "result that flows naturally from this abstraction.\n",
    "\n",
    "### Conditional Expectation as Projection\n",
    "\n",
    "The conditional expectation is the minimum mean squared error (MMSE) solution\n",
    "to the following problem (see appendix for proof using the Cauchy-Schwarz inequality):"
   ]
  },
  {
   "cell_type": "markdown",
   "metadata": {},
   "source": [
    "$$\n",
    "\\min_h \\int_{\\mathbb{R}} (x - h(y) )^2 dx\n",
    "$$"
   ]
  },
  {
   "cell_type": "markdown",
   "metadata": {},
   "source": [
    " with the minimizing $h_{opt}(Y) $ as"
   ]
  },
  {
   "cell_type": "markdown",
   "metadata": {},
   "source": [
    "$$\n",
    "h_{opt}(Y) = \\mathbb{E}(X|Y)\n",
    "$$"
   ]
  },
  {
   "cell_type": "markdown",
   "metadata": {},
   "source": [
    "which is another way of saying that among all possible functions\n",
    "$h(Y)$, the one that minimizes the MSE is $ \\mathbb{E}(X|Y)$. \n",
    "\n",
    "From our previous discussion on projection, we noted that\n",
    "these MMSE solutions can be thought of as projections onto a subspace that characterizes $Y$. For example, we previously noted that at the point of projection, we have perpendicular terms,"
   ]
  },
  {
   "cell_type": "markdown",
   "metadata": {},
   "source": [
    "<!-- Equation labels as ordinary links -->\n",
    "<div id=\"eq:ortho\"></div>\n",
    "\n",
    "$$\n",
    "\\begin{equation}\n",
    "\\langle X-h_{opt}(Y),Y \\rangle = 0\n",
    "\\end{equation}\n",
    "\\label{eq:ortho} \\tag{1}\n",
    "$$"
   ]
  },
  {
   "cell_type": "markdown",
   "metadata": {},
   "source": [
    " but since we know that the MMSE solution"
   ]
  },
  {
   "cell_type": "markdown",
   "metadata": {},
   "source": [
    "$$\n",
    "h_{opt}(Y) = \\mathbb{E}(X|Y)\n",
    "$$"
   ]
  },
  {
   "cell_type": "markdown",
   "metadata": {},
   "source": [
    " we have by direct substitution,"
   ]
  },
  {
   "cell_type": "markdown",
   "metadata": {},
   "source": [
    "<!-- Equation labels as ordinary links -->\n",
    "<div id=\"eq:ortho_001\"></div>\n",
    "$$\n",
    "\\langle X-\\mathbb{E}(X|Y),Y \\rangle = 0\n",
    "$$\n",
    "$$\n",
    "\\begin{equation}\n",
    "\\mathbb{E}[(X-\\mathbb{E}(X|Y))Y] = 0\n",
    "\\end{equation}\n",
    "\\label{eq:ortho_001} \\tag{2}\n",
    "$$"
   ]
  },
  {
   "cell_type": "markdown",
   "metadata": {},
   "source": [
    "**That last step seems pretty innocuous, but it ties MMSE to\n",
    "conditional expectation to the inner project abstraction, and in so doing, reveals the conditional expectation to be a projection operator for random variables.**\n",
    "\n",
    "Just remembering that for vector we have $(\\mathbf{y}-\\mathbf{x} )^T \\mathbf{v} = 0$, which $\\mathbf{x}=\\alpha \\mathbf{v}$.\n",
    "\n",
    "\n",
    "Before we develop this further, let's grab some quick dividends.\n",
    "From the previous equation, by linearity of the expectation, we obtain,"
   ]
  },
  {
   "cell_type": "markdown",
   "metadata": {},
   "source": [
    "$$\n",
    "\\langle X-\\mathbb{E}(X|Y),Y \\rangle = 0 \\\\\n",
    "\\langle X,Y\\rangle - \\langle \\mathbb{E}(X|Y), Y\\rangle = 0\\\\\n",
    "\\mathbb{E}(X Y) =  \\mathbb{E}(Y \\mathbb{E}(X|Y))\n",
    "$$"
   ]
  },
  {
   "cell_type": "markdown",
   "metadata": {},
   "source": [
    "which is the so-called *tower property* of the expectation. This works like scalar product between vectors, for instance, $(\\vec{a}-\\vec{b})\\cdot\\vec{c} = \\vec{a}\\cdot\\vec{b} - \\vec{a}\\cdot\\vec{c}$. Thus, since $\\vec{a}\\cdot\\vec{b}\\to\\langle a,b \\rangle\\to \\mathbb{E}(X Y)$\n",
    "\n",
    "\n",
    "Note that\n",
    "we could have found this by using the formal definition of conditional\n",
    "expectation,"
   ]
  },
  {
   "cell_type": "markdown",
   "metadata": {},
   "source": [
    "$$\n",
    "\\mathbb{E}(X|Y) = \\int_{\\mathbb{R}} x \\frac{f_{X,Y}(x,y)}{f_Y(y)}dx\n",
    "$$"
   ]
  },
  {
   "cell_type": "markdown",
   "metadata": {},
   "source": [
    " and brute-force direct integration,"
   ]
  },
  {
   "cell_type": "markdown",
   "metadata": {},
   "source": [
    "$$\n",
    "\\mathbb{E}(Y \\mathbb{E}(X|Y)) = \\int_{\\mathbb{R}} y \\int_{\\mathbb{R}} x \\frac{f_{X,Y}(x,y)}{f_Y(y)}  f_Y(y) dx dy\n",
    "$$"
   ]
  },
  {
   "cell_type": "markdown",
   "metadata": {},
   "source": [
    "$$\n",
    "\\\n",
    "                              =\\int_{\\mathbb{R}^2} x y f_{X,Y}(x,y) dx dy\n",
    "$$"
   ]
  },
  {
   "cell_type": "markdown",
   "metadata": {},
   "source": [
    "$$\n",
    "\\\n",
    "                              =\\mathbb{E}( X Y)\n",
    "$$"
   ]
  },
  {
   "cell_type": "markdown",
   "metadata": {},
   "source": [
    " which is not very geometrically intuitive. This lack of geometric\n",
    "intuition makes it hard to apply these concepts and keep track of these\n",
    "relationships. \n",
    "\n",
    "We can keep pursuing this analogy and obtain the length of the error term \n",
    "from the orthogonality property of the MMSE solution as,"
   ]
  },
  {
   "cell_type": "markdown",
   "metadata": {},
   "source": [
    "$$\n",
    "\\langle X-h_{opt}(Y),X-h_{opt}(Y)\\rangle = \\langle X,X  \\rangle - \\langle h_{opt}(Y),h_{opt}(Y)  \\rangle\n",
    "$$"
   ]
  },
  {
   "cell_type": "markdown",
   "metadata": {},
   "source": [
    " and then by substituting all the notation we obtain"
   ]
  },
  {
   "cell_type": "markdown",
   "metadata": {},
   "source": [
    "$$\n",
    "\\mathbb{E}(X-  \\mathbb{E}(X|Y))^2 = \\mathbb{E}(X)^2 - \\mathbb{E}(\\mathbb{E}(X|Y) )^2\n",
    "$$"
   ]
  },
  {
   "cell_type": "markdown",
   "metadata": {},
   "source": [
    "**which would be tough to compute by direct integration.**\n",
    "\n",
    "To formally establish that $\\mathbb{E}(X|Y)$ *is* in fact *a projection operator* we\n",
    "need to show idempotency.  Recall that idempotency means that once we project\n",
    "something onto a subspace, further projections do nothing. In the space of\n",
    "random variables, $\\mathbb{E}(X|\\cdot$) is the idempotent projection as we can\n",
    "show by noting that"
   ]
  },
  {
   "cell_type": "markdown",
   "metadata": {},
   "source": [
    "$$\n",
    "h_{opt} = \\mathbb{E}(X|Y)\n",
    "$$"
   ]
  },
  {
   "cell_type": "markdown",
   "metadata": {},
   "source": [
    " is purely a function of $Y$, so that"
   ]
  },
  {
   "cell_type": "markdown",
   "metadata": {},
   "source": [
    "$$\n",
    "\\mathbb{E}(h_{opt}(Y)|Y) = h_{opt}(Y)\n",
    "$$"
   ]
  },
  {
   "cell_type": "markdown",
   "metadata": {},
   "source": [
    " because $Y$ is fixed, this verifies idempotency. **Thus, conditional\n",
    "expectation is the corresponding projection operator for random variables.** \n",
    "\n",
    "We can continue to carry over our geometric interpretations of projections for vectors ($\\mathbf{v}$) into random variables ($X$).  With this important result, let's consider some examples of conditional expectations obtained by using brute force to find the optimal MMSE function $h_{opt}$ as well as by using our new perspective on conditional expectation.\n",
    "\n",
    "**Example.** Suppose we have a random variable, $X$, then what constant is closest to $X$ in\n",
    "the sense of the mean-squared-error (MSE)? In other words, which $c \\in\n",
    "\\mathbb{R}$ minimizes the following mean squared error:"
   ]
  },
  {
   "cell_type": "markdown",
   "metadata": {},
   "source": [
    "$$\n",
    "\\mbox{MSE} = \\mathbb{E}( X - c )^2\n",
    "$$"
   ]
  },
  {
   "cell_type": "markdown",
   "metadata": {},
   "source": [
    " we can work this out many ways. First, using calculus-based optimization,"
   ]
  },
  {
   "cell_type": "markdown",
   "metadata": {},
   "source": [
    "$$\n",
    "\\mathbb{E}(X-c)^2=\\mathbb{E}(c^2-2 c X + X^2)=c^2-2 c \\mathbb{E}(X) + \\mathbb{E}(X^2)\n",
    "$$"
   ]
  },
  {
   "cell_type": "markdown",
   "metadata": {},
   "source": [
    " and then take the first derivative with respect to $c$ and solve:"
   ]
  },
  {
   "cell_type": "markdown",
   "metadata": {},
   "source": [
    "$$\n",
    "c_{opt}=\\mathbb{E}(X)\n",
    "$$"
   ]
  },
  {
   "cell_type": "markdown",
   "metadata": {},
   "source": [
    "**Remember that $X$ may potentially take on many values, but this says\n",
    "that the closest number to $X$ in the MSE sense is $\\mathbb{E}(X)$.  This is\n",
    "intuitively pleasing.**\n",
    "\n",
    "Coming at this same problem using our inner product,\n",
    "from Equation $\\mathbb{E}[(X-\\mathbb{E}(X|Y))Y] = 0$ we know that at the point of projection"
   ]
  },
  {
   "cell_type": "markdown",
   "metadata": {},
   "source": [
    "$$\n",
    "\\mathbb{E}((X-c_{opt}) 1) = 0\n",
    "$$"
   ]
  },
  {
   "cell_type": "markdown",
   "metadata": {},
   "source": [
    "  where the $1$ represents the space of constants \n",
    "we are projecting onto. By linearity of the expectation, gives"
   ]
  },
  {
   "cell_type": "markdown",
   "metadata": {},
   "source": [
    "$$\n",
    "c_{opt}=\\mathbb{E}(X)\n",
    "$$"
   ]
  },
  {
   "cell_type": "markdown",
   "metadata": {},
   "source": [
    " Using the projection approach, because $\\mathbb{E}(X|Y)$ is\n",
    "the projection operator, with $Y=\\Omega$ (the entire underlying\n",
    "probability space), we have, using the definition of conditional\n",
    "expectation:"
   ]
  },
  {
   "cell_type": "markdown",
   "metadata": {},
   "source": [
    "$$\n",
    "\\mathbb{E}(X|Y=\\Omega) = \\mathbb{E}(X)\n",
    "$$"
   ]
  },
  {
   "cell_type": "markdown",
   "metadata": {},
   "source": [
    " This is because of the subtle fact that a random variable over the entire\n",
    "$\\Omega$ space can only be a constant.  Thus, we just worked the same problem\n",
    "three ways (optimization, orthogonal inner products, projection).\n",
    "\n",
    "**Example.** Let's consider the following example with probability density\n",
    "$f_{X,Y}= x + y $ where $(x,y) \\in [0,1]^2$ and compute the conditional\n",
    "expectation straight from the definition:"
   ]
  },
  {
   "cell_type": "markdown",
   "metadata": {},
   "source": [
    "$$\n",
    "\\mathbb{ E}(X|Y) = \\int_0^1 x \\frac{f_{X,Y}(x,y)}{f_Y(y)} dx=  \\int_0^1 x \\frac{x+y}{y+1/2} dx =\\frac{3 y + 2}{6 y + 3}\n",
    "$$"
   ]
  },
  {
   "cell_type": "markdown",
   "metadata": {},
   "source": [
    " That was pretty easy because the density function was so simple. Now,\n",
    "let's do it the hard way by going directly for the MMSE solution $h(Y)$. Then,"
   ]
  },
  {
   "cell_type": "markdown",
   "metadata": {},
   "source": [
    "$$\n",
    "\\mbox{ MSE } = \\underset{h}\\min \\int_0^1\\int_0^1 (x - h(y) )^2 f_{X,Y}(x,y)dx dy\n",
    "$$"
   ]
  },
  {
   "cell_type": "markdown",
   "metadata": {},
   "source": [
    "$$\n",
    "\\\n",
    "             = \\underset{h}\\min \\int_0^1 y h^2 {\\left (y \\right )} - y h{\\left (y \\right )} + \\frac{1}{3} y + \\frac{1}{2} h^{2}{\\left (y \\right )} - \\frac{2}{3} h{\\left (y \\right )} + \\frac{1}{4} dy\n",
    "$$"
   ]
  },
  {
   "cell_type": "markdown",
   "metadata": {},
   "source": [
    " Now we have to find a function $h$ that is going to minimize this.\n",
    "Solving for a function, as opposed to solving for a number, is generally very,\n",
    "very hard, but because we are integrating over a finite interval, we can use\n",
    "the Euler-Lagrange method from variational calculus to take the derivative of\n",
    "the integrand with respect to the function $h(y)$ and set it to zero. Using\n",
    "Euler-Lagrange methods, we obtain the following result,"
   ]
  },
  {
   "cell_type": "markdown",
   "metadata": {},
   "source": [
    "$$\n",
    "2 y h{\\left (y \\right )} - y + h{\\left (y \\right )} - \\frac{2}{3} =0\n",
    "$$"
   ]
  },
  {
   "cell_type": "markdown",
   "metadata": {},
   "source": [
    " Solving this gives"
   ]
  },
  {
   "cell_type": "markdown",
   "metadata": {},
   "source": [
    "$$\n",
    "h_{opt}(y)= \\frac{3 y + 2}{6 y + 3}\n",
    "$$"
   ]
  },
  {
   "cell_type": "markdown",
   "metadata": {},
   "source": [
    "  which is what we obtained before. Finally, we can solve this\n",
    "using our inner product in Equation $\\mathbb{E}[(X-\\mathbb{E}(X|Y))Y] = 0$ as"
   ]
  },
  {
   "cell_type": "markdown",
   "metadata": {},
   "source": [
    "$$\n",
    "\\mathbb{E}((X-h(Y)) Y)=0\n",
    "$$"
   ]
  },
  {
   "cell_type": "markdown",
   "metadata": {},
   "source": [
    "  Writing this out gives,"
   ]
  },
  {
   "cell_type": "markdown",
   "metadata": {},
   "source": [
    "$$\n",
    "\\int_0^1\\int_0^1 (x-h(y))y(x+y) dx dy = \\int_0^1\\frac{1}{6}y(-3(2 y+1) h(y)+3 y+2) dy=0\n",
    "$$"
   ]
  },
  {
   "cell_type": "markdown",
   "metadata": {},
   "source": [
    " and the integrand must be zero,"
   ]
  },
  {
   "cell_type": "markdown",
   "metadata": {},
   "source": [
    "$$\n",
    "2 y + 3 y^2 - 3 y h(y) - 6 y^2 h(y)=0\n",
    "$$"
   ]
  },
  {
   "cell_type": "markdown",
   "metadata": {},
   "source": [
    " and solving this for $h(y)$ gives the same solution:"
   ]
  },
  {
   "cell_type": "markdown",
   "metadata": {},
   "source": [
    "$$\n",
    "h_{opt}(y)= \\frac{3 y + 2}{6 y + 3}\n",
    "$$"
   ]
  },
  {
   "cell_type": "markdown",
   "metadata": {},
   "source": [
    "**Thus, doing it by the brute force integration from the definition,\n",
    "optimization, or inner product gives us the same answer; but, in general, no\n",
    "method is necessarily easiest because they both involve potentially difficult\n",
    "or impossible integration, optimization, or functional equation solving.  The\n",
    "point is that now that we have a deep toolbox, we can pick and choose which\n",
    "tools we want to apply for different problems.**\n",
    "\n",
    "Before we leave this example, let's use Sympy to verify the length of the error\n",
    "function we found earlier for this example:"
   ]
  },
  {
   "cell_type": "markdown",
   "metadata": {},
   "source": [
    "$$\n",
    "\\mathbb{E}(X-\\mathbb{E}(X|Y))^2=\\mathbb{E}(X)^2-\\mathbb{E}(\\mathbb{E}(X|Y))^2\n",
    "$$"
   ]
  },
  {
   "cell_type": "markdown",
   "metadata": {},
   "source": [
    " that is based on the Pythagorean theorem. First, we \n",
    "need to compute the marginal densities,"
   ]
  },
  {
   "cell_type": "code",
   "execution_count": 22,
   "metadata": {},
   "outputs": [],
   "source": [
    "import sympy.abc as test"
   ]
  },
  {
   "cell_type": "code",
   "execution_count": 23,
   "metadata": {
    "ExecuteTime": {
     "end_time": "2018-09-12T10:41:43.215556Z",
     "start_time": "2018-09-12T10:41:42.781514Z"
    }
   },
   "outputs": [],
   "source": [
    "from sympy.abc import y,x\n",
    "from sympy import integrate, simplify\n",
    "from sympy import init_printing\n",
    "\n",
    "init_printing()\n",
    "\n",
    "fxy = x + y                 # joint density\n",
    "fy = integrate(fxy,(x,0,1)) # marginal density\n",
    "fx = integrate(fxy,(y,0,1)) # marginal density"
   ]
  },
  {
   "cell_type": "markdown",
   "metadata": {},
   "source": [
    " Then, we need to write out the conditional expectation,"
   ]
  },
  {
   "cell_type": "code",
   "execution_count": 28,
   "metadata": {
    "ExecuteTime": {
     "end_time": "2018-09-12T10:41:45.356771Z",
     "start_time": "2018-09-12T10:41:45.167170Z"
    }
   },
   "outputs": [
    {
     "data": {
      "image/png": "[encoded data removed]",
      "text/latex": [
       "$$\\frac{3 y + 2}{6 y + 3}$$"
      ],
      "text/plain": [
       "3⋅y + 2\n",
       "───────\n",
       "6⋅y + 3"
      ]
     },
     "execution_count": 28,
     "metadata": {},
     "output_type": "execute_result"
    }
   ],
   "source": [
    "EXY = (3*y+2)/(6*y+3) # conditional expectation\n",
    "EXY"
   ]
  },
  {
   "cell_type": "markdown",
   "metadata": {},
   "source": [
    " Next, we can compute the left side, $\\mathbb{E}(X-\\mathbb{E}(X|Y))^2$,\n",
    "as the following,"
   ]
  },
  {
   "cell_type": "code",
   "execution_count": 29,
   "metadata": {
    "ExecuteTime": {
     "end_time": "2018-09-12T10:41:50.313450Z",
     "start_time": "2018-09-12T10:41:49.819991Z"
    }
   },
   "outputs": [
    {
     "data": {
      "image/png": "[encoded data removed]",
      "text/latex": [
       "$$- \\frac{\\log{\\left (3 \\right )}}{144} + \\frac{1}{12}$$"
      ],
      "text/plain": [
       "  log(3)   1 \n",
       "- ────── + ──\n",
       "   144     12"
      ]
     },
     "execution_count": 29,
     "metadata": {},
     "output_type": "execute_result"
    }
   ],
   "source": [
    "# from the definition\n",
    "LHS=integrate((x-EXY)**2*fxy,(x,0,1),(y,0,1)) \n",
    "LHS # left-hand-side"
   ]
  },
  {
   "cell_type": "markdown",
   "metadata": {},
   "source": [
    " We can similarly compute the right side, $\\mathbb{E}(X)^2-\\mathbb{E}(\\mathbb{E}(X|Y))^2$,\n",
    "as the following,"
   ]
  },
  {
   "cell_type": "code",
   "execution_count": 30,
   "metadata": {
    "ExecuteTime": {
     "end_time": "2018-09-12T10:42:00.893041Z",
     "start_time": "2018-09-12T10:42:00.588343Z"
    }
   },
   "outputs": [
    {
     "data": {
      "image/png": "[encoded data removed]",
      "text/latex": [
       "$$- \\frac{\\log{\\left (3 \\right )}}{144} + \\frac{1}{12}$$"
      ],
      "text/plain": [
       "  log(3)   1 \n",
       "- ────── + ──\n",
       "   144     12"
      ]
     },
     "execution_count": 30,
     "metadata": {},
     "output_type": "execute_result"
    }
   ],
   "source": [
    "# using Pythagorean theorem\n",
    "RHS=integrate((x)**2*fx,(x,0,1))-integrate((EXY)**2*fy,(y,0,1))\n",
    "RHS # right-hand-side"
   ]
  },
  {
   "cell_type": "markdown",
   "metadata": {},
   "source": [
    " Finally, we can verify that the left and right sides match,"
   ]
  },
  {
   "cell_type": "code",
   "execution_count": 31,
   "metadata": {},
   "outputs": [
    {
     "name": "stdout",
     "output_type": "stream",
     "text": [
      "True\n"
     ]
    }
   ],
   "source": [
    "print(simplify(LHS-RHS)==0)"
   ]
  },
  {
   "cell_type": "markdown",
   "metadata": {},
   "source": [
    "In this section, we have pulled together all the projection and least-squares\n",
    "optimization ideas from the previous sections to connect geometric notions of\n",
    "projection from vectors in $\\mathbb{R}^n$ to random variables. **This resulted in\n",
    "the remarkable realization that the conditional expectation is in fact a\n",
    "projection operator for random variables.  Knowing this allows to approach\n",
    "difficult problems in multiple ways, depending on which way is more intuitive\n",
    "or tractable in a particular situation. Indeed, finding the right problem to\n",
    "solve is the hardest part, so having many ways of looking at the same concepts\n",
    "is crucial.**\n",
    "\n",
    "For much more detailed development, the book by Mikosch\n",
    "[[mikosch1998elementary]](#mikosch1998elementary) has some excellent sections covering much of this\n",
    "material with a similar geometric interpretation. Kobayashi\n",
    "[[kobayashi2011probability]](#kobayashi2011probability) does too.  Nelson [[edward1987radically]](#edward1987radically) also\n",
    "has a similar presentation based on hyper-real numbers.\n",
    "\n",
    "## Appendix\n",
    "\n",
    "We want to prove that we the conditional expectation is the\n",
    "minimum mean squared error minimizer of the following:"
   ]
  },
  {
   "cell_type": "markdown",
   "metadata": {},
   "source": [
    "$$\n",
    "J= \\min_h \\int_{ \\mathbb{R}^2 } \\lvert X - h(Y) \\rvert^2 f_{X,Y}(x,y) dx dy\n",
    "$$"
   ]
  },
  {
   "cell_type": "markdown",
   "metadata": {},
   "source": [
    " We can expand this as follows,"
   ]
  },
  {
   "cell_type": "markdown",
   "metadata": {},
   "source": [
    "$$\n",
    "\\begin{multline*}\n",
    "J=\\min_h \\int_{ \\mathbb{R}^2 } \\lvert X \\rvert^2 f_{X,Y}(x,y) dx dy + \\int_{ \\mathbb{R}^2 } \\lvert h(Y) \\rvert^2 f_{X,Y}(x,y) dx dy \\\\\\\n",
    "- \\int_{ \\mathbb{R}^2 } 2 X h(Y) f_{X,Y}(x,y) dx dy\n",
    "\\end{multline*}\n",
    "$$"
   ]
  },
  {
   "cell_type": "markdown",
   "metadata": {},
   "source": [
    " To minimize this, we have to maximize the following:"
   ]
  },
  {
   "cell_type": "markdown",
   "metadata": {},
   "source": [
    "$$\n",
    "A=\\max_h \\int_{ \\mathbb{R}^2 }  X h(Y) f_{X,Y}(x,y) dx dy\n",
    "$$"
   ]
  },
  {
   "cell_type": "markdown",
   "metadata": {},
   "source": [
    " Breaking up the integral using the definition of conditional expectation \n",
    " \n",
    "$$f(X|Y) = \\frac{f_{X,Y}(x,y)}{f_y(Y)}$$\n",
    " \n",
    "we find"
   ]
  },
  {
   "cell_type": "markdown",
   "metadata": {},
   "source": [
    "$$A =\\max_h \\int_\\mathbb{R} \\left(\\int_\\mathbb{R} X  f_{X|Y}(x|y) dx \\right)h(Y) f_Y(y) dy $$"
   ]
  },
  {
   "cell_type": "markdown",
   "metadata": {},
   "source": [
    "<!-- Equation labels as ordinary links -->\n",
    "<div id=\"_auto2\"></div>\n",
    "\n",
    "$$\n",
    "\\begin{equation} \\\n",
    "=\\max_h \\int_\\mathbb{R} \\mathbb{E}(X|Y) h(Y)f_Y(Y) dy \n",
    "\\label{_auto2} \\tag{4}\n",
    "\\end{equation}\n",
    "$$"
   ]
  },
  {
   "cell_type": "markdown",
   "metadata": {},
   "source": [
    "From properties of the Cauchy-Schwarz inequality, \n",
    "\n",
    "$$\n",
    "\\| \\mathbf{y}^T\\mathbf{v}\\| \\le \\|\\mathbf{y}\\|  \\|\\mathbf{v}\\|\\,\\\\\n",
    "\\mathbb{E}[\\mathbb{E}(X|Y) h(Y)] \\le \\mathbb{E}[\\mathbb{E}(X|Y)]\\mathbb{E}[h(y)]\n",
    "$$\n",
    " \n",
    " we know that the\n",
    "maximum happens when $h_{opt}(Y) = \\mathbb{E}(X|Y)$, so we have found the\n",
    "optimal $h(Y)$ function as:"
   ]
  },
  {
   "cell_type": "markdown",
   "metadata": {},
   "source": [
    "$$\n",
    "h_{opt}(Y) = \\mathbb{E}(X|Y)\n",
    "$$"
   ]
  },
  {
   "cell_type": "markdown",
   "metadata": {},
   "source": [
    " which shows that the optimal function is the conditional expectation."
   ]
  },
  {
   "cell_type": "code",
   "execution_count": 24,
   "metadata": {},
   "outputs": [],
   "source": [
    "import numpy as np\n",
    "np.random.seed(12345)"
   ]
  },
  {
   "cell_type": "markdown",
   "metadata": {},
   "source": [
    "# Conditional Expectation and Mean Square Error\n",
    "\n",
    "In this section, we work through a detailed example using conditional\n",
    "expectation and optimization methods. \n",
    "\n",
    "Suppose we have two fair six-sided die\n",
    "($X$ and $Y$) and we want to measure the sum of the two variables as $Z=X+Y$.\n",
    "Further, let's suppose that given $Z$, we want the best estimate of $X$ in the\n",
    "mean-squared-sense. Thus, we want to minimize the following:"
   ]
  },
  {
   "cell_type": "markdown",
   "metadata": {},
   "source": [
    "$$\n",
    "J(\\alpha) = \\mathbb{E}[( x - \\alpha z )^2] = \\sum ( x - \\alpha z )^2 \\mathbb{P}(x,z)\n",
    "$$"
   ]
  },
  {
   "cell_type": "markdown",
   "metadata": {},
   "source": [
    " where $\\mathbb{P}$ is the probability mass function for this problem.\n",
    "The idea is that when we have solved this problem, we will have a function of\n",
    "$Z$ that is going to be the minimum MSE  estimate of $X$.  We can substitute in\n",
    "for $Z$ in $J$ and get:"
   ]
  },
  {
   "cell_type": "markdown",
   "metadata": {},
   "source": [
    "$$\n",
    "J(\\alpha) = \\sum ( x - \\alpha (x+y) )^2 \\mathbb{P}(x,y)\n",
    "$$"
   ]
  },
  {
   "cell_type": "markdown",
   "metadata": {},
   "source": [
    "  Let's work out the steps in Sympy in the following:"
   ]
  },
  {
   "cell_type": "code",
   "execution_count": 32,
   "metadata": {
    "ExecuteTime": {
     "end_time": "2018-09-12T10:58:38.644275Z",
     "start_time": "2018-09-12T10:58:38.091624Z"
    }
   },
   "outputs": [
    {
     "data": {
      "image/png": "[encoded data removed]",
      "text/latex": [
       "$$\\frac{329 a^{2}}{6} - \\frac{329 a}{6} + \\frac{91}{6}$$"
      ],
      "text/plain": [
       "     2             \n",
       "329⋅a    329⋅a   91\n",
       "────── - ───── + ──\n",
       "  6        6     6 "
      ]
     },
     "execution_count": 32,
     "metadata": {},
     "output_type": "execute_result"
    }
   ],
   "source": [
    "import sympy as S\n",
    "from sympy.stats import density, E, Die\n",
    "\n",
    "x = Die('D1',6)     # 1st six sided die\n",
    "y = Die('D2',6)     # 2nd six sides die\n",
    "a = S.symbols('a')\n",
    "z = x+y           # sum of 1st and 2nd die\n",
    "J = E((x-a*(x+y))**2) # expectation\n",
    "S.simplify(J)"
   ]
  },
  {
   "cell_type": "code",
   "execution_count": 43,
   "metadata": {},
   "outputs": [
    {
     "data": {
      "image/png": "[encoded data removed]",
      "text/latex": [
       "$$\\left \\{ 2 : \\frac{1}{36}, \\quad 3 : \\frac{1}{18}, \\quad 4 : \\frac{1}{12}, \\quad 5 : \\frac{1}{9}, \\quad 6 : \\frac{5}{36}, \\quad 7 : \\frac{1}{6}, \\quad 8 : \\frac{5}{36}, \\quad 9 : \\frac{1}{9}, \\quad 10 : \\frac{1}{12}, \\quad 11 : \\frac{1}{18}, \\quad 12 : \\frac{1}{36}\\right \\}$$"
      ],
      "text/plain": [
       "{2: 1/36, 3: 1/18, 4: 1/12, 5: 1/9, 6: 5/36, 7: 1/6, 8: 5/36, 9: 1/9, 10: 1/12\n",
       ", 11: 1/18, 12: 1/36}"
      ]
     },
     "execution_count": 43,
     "metadata": {},
     "output_type": "execute_result"
    }
   ],
   "source": [
    "density(z)"
   ]
  },
  {
   "cell_type": "code",
   "execution_count": 14,
   "metadata": {
    "ExecuteTime": {
     "end_time": "2018-09-12T11:03:02.478697Z",
     "start_time": "2018-09-12T11:03:02.269199Z"
    }
   },
   "outputs": [
    {
     "data": {
      "image/png": "[encoded data removed]",
      "text/latex": [
       "$$\\frac{2}{3}$$"
      ],
      "text/plain": [
       "2/3"
      ]
     },
     "execution_count": 14,
     "metadata": {},
     "output_type": "execute_result"
    }
   ],
   "source": [
    "S.stats.P(x>2)"
   ]
  },
  {
   "cell_type": "code",
   "execution_count": 35,
   "metadata": {
    "ExecuteTime": {
     "end_time": "2018-09-12T11:32:29.668807Z",
     "start_time": "2018-09-12T11:32:29.445213Z"
    }
   },
   "outputs": [
    {
     "data": {
      "image/png": "[encoded data removed]",
      "text/latex": [
       "$$5$$"
      ],
      "text/plain": [
       "5"
      ]
     },
     "execution_count": 35,
     "metadata": {},
     "output_type": "execute_result"
    }
   ],
   "source": [
    "S.stats.sample(x)"
   ]
  },
  {
   "cell_type": "code",
   "execution_count": 15,
   "metadata": {
    "ExecuteTime": {
     "end_time": "2018-09-12T11:03:17.081021Z",
     "start_time": "2018-09-12T11:03:16.886078Z"
    }
   },
   "outputs": [
    {
     "data": {
      "image/png": "[encoded data removed]",
      "text/latex": [
       "$$\\frac{7}{2}$$"
      ],
      "text/plain": [
       "7/2"
      ]
     },
     "execution_count": 15,
     "metadata": {},
     "output_type": "execute_result"
    }
   ],
   "source": [
    "S.stats.E(x)"
   ]
  },
  {
   "cell_type": "markdown",
   "metadata": {},
   "source": [
    " With all that setup we can now use basic calculus to minimize the\n",
    "objective function $J$,"
   ]
  },
  {
   "cell_type": "code",
   "execution_count": 17,
   "metadata": {
    "ExecuteTime": {
     "end_time": "2018-09-12T11:09:48.051212Z",
     "start_time": "2018-09-12T11:09:47.844015Z"
    }
   },
   "outputs": [
    {
     "data": {
      "image/png": "[encoded data removed]",
      "text/latex": [
       "$$\\frac{329 a}{3} - \\frac{329}{6}$$"
      ],
      "text/plain": [
       "329⋅a   329\n",
       "───── - ───\n",
       "  3      6 "
      ]
     },
     "execution_count": 17,
     "metadata": {},
     "output_type": "execute_result"
    }
   ],
   "source": [
    "S.diff(J,a)"
   ]
  },
  {
   "cell_type": "code",
   "execution_count": 10,
   "metadata": {
    "ExecuteTime": {
     "end_time": "2018-09-12T10:58:51.379679Z",
     "start_time": "2018-09-12T10:58:51.019869Z"
    }
   },
   "outputs": [
    {
     "data": {
      "image/png": "[encoded data removed]",
      "text/latex": [
       "$$\\frac{1}{2}$$"
      ],
      "text/plain": [
       "1/2"
      ]
     },
     "execution_count": 10,
     "metadata": {},
     "output_type": "execute_result"
    }
   ],
   "source": [
    "sol,=S.solve(S.diff(J,a),a) # using calculus to minimize\n",
    "sol # solution is 1/2"
   ]
  },
  {
   "cell_type": "markdown",
   "metadata": {},
   "source": [
    "**Programming Tip.**\n",
    "\n",
    "Sympy has a `stats` module that can do some basic work with expressions\n",
    "involving probability densities and expectations. The above code uses its `E`\n",
    "function to compute the expectation.\n",
    "\n",
    "\n",
    "\n",
    "**This says that $z/2$ is the MSE estimate of $X$ given $Z$ which means\n",
    "geometrically (interpreting the MSE as a squared distance weighted by the\n",
    "probability mass function) that $z/2$ is as *close* to $x$ as we are going to\n",
    "get for a given $z$.**\n",
    "\n",
    "Let's look at the same problem using the conditional expectation operator $\n",
    "\\mathbb{E}(\\cdot|z) $ and apply it to our definition of $Z$. Then"
   ]
  },
  {
   "cell_type": "markdown",
   "metadata": {},
   "source": [
    "$$\n",
    "\\mathbb{E}(z|z)=\\mathbb{E}(x+y|z)=\\mathbb{E}(x|z)+\\mathbb{E}(y|z)=z\n",
    "$$"
   ]
  },
  {
   "cell_type": "markdown",
   "metadata": {},
   "source": [
    " using the linearity of the expectation. Now, since by the\n",
    "symmetry of the problem (i.e., two identical die), we have"
   ]
  },
  {
   "cell_type": "markdown",
   "metadata": {},
   "source": [
    "$$\n",
    "\\mathbb{E}(x|z)=\\mathbb{E}(y|z)\n",
    "$$"
   ]
  },
  {
   "cell_type": "markdown",
   "metadata": {},
   "source": [
    " we can plug this in and solve"
   ]
  },
  {
   "cell_type": "markdown",
   "metadata": {},
   "source": [
    "$$\n",
    "2 \\mathbb{E}(x|z)=z\n",
    "$$"
   ]
  },
  {
   "cell_type": "markdown",
   "metadata": {},
   "source": [
    " which once again gives,"
   ]
  },
  {
   "cell_type": "markdown",
   "metadata": {},
   "source": [
    "$$\n",
    "\\mathbb{E}(x|z)  =\\frac{z}{2}\n",
    "$$"
   ]
  },
  {
   "cell_type": "code",
   "execution_count": 41,
   "metadata": {},
   "outputs": [
    {
     "data": {
      "text/plain": [
       "array([[1],\n",
       "       [2],\n",
       "       [3],\n",
       "       [4],\n",
       "       [5],\n",
       "       [6]])"
      ]
     },
     "execution_count": 41,
     "metadata": {},
     "output_type": "execute_result"
    }
   ],
   "source": []
  },
  {
   "cell_type": "code",
   "execution_count": 42,
   "metadata": {},
   "outputs": [
    {
     "data": {
      "text/plain": [
       "array([[ 2,  3,  4,  5,  6,  7],\n",
       "       [ 3,  4,  5,  6,  7,  8],\n",
       "       [ 4,  5,  6,  7,  8,  9],\n",
       "       [ 5,  6,  7,  8,  9, 10],\n",
       "       [ 6,  7,  8,  9, 10, 11],\n",
       "       [ 7,  8,  9, 10, 11, 12]])"
      ]
     },
     "execution_count": 42,
     "metadata": {},
     "output_type": "execute_result"
    }
   ],
   "source": [
    "arange(1,7)+arange(1,7)[:,np.newaxis]"
   ]
  },
  {
   "cell_type": "code",
   "execution_count": 44,
   "metadata": {},
   "outputs": [],
   "source": [
    "foo = lambda i: density(z)[Integer(i)].evalf()"
   ]
  },
  {
   "cell_type": "code",
   "execution_count": 49,
   "metadata": {},
   "outputs": [
    {
     "data": {
      "text/plain": [
       "array([ 2,  3,  4,  5,  6,  7,  3,  4,  5,  6,  7,  8,  4,  5,  6,  7,  8,\n",
       "        9,  5,  6,  7,  8,  9, 10,  6,  7,  8,  9, 10, 11,  7,  8,  9, 10,\n",
       "       11, 12])"
      ]
     },
     "execution_count": 49,
     "metadata": {},
     "output_type": "execute_result"
    }
   ],
   "source": [
    "v.flatten()"
   ]
  },
  {
   "cell_type": "code",
   "execution_count": 50,
   "metadata": {},
   "outputs": [
    {
     "data": {
      "text/plain": [
       "array([0.02777778, 0.05555556, 0.08333333, 0.11111111, 0.13888889,\n",
       "       0.16666667, 0.05555556, 0.08333333, 0.11111111, 0.13888889,\n",
       "       0.16666667, 0.13888889, 0.08333333, 0.11111111, 0.13888889,\n",
       "       0.16666667, 0.13888889, 0.11111111, 0.11111111, 0.13888889,\n",
       "       0.16666667, 0.13888889, 0.11111111, 0.08333333, 0.13888889,\n",
       "       0.16666667, 0.13888889, 0.11111111, 0.08333333, 0.05555556,\n",
       "       0.16666667, 0.13888889, 0.11111111, 0.08333333, 0.05555556,\n",
       "       0.02777778])"
      ]
     },
     "execution_count": 50,
     "metadata": {},
     "output_type": "execute_result"
    }
   ],
   "source": [
    "array(list(map(foo,v.flat)),dtype=float)"
   ]
  },
  {
   "cell_type": "code",
   "execution_count": 54,
   "metadata": {
    "ExecuteTime": {
     "end_time": "2018-09-12T11:25:16.742347Z",
     "start_time": "2018-09-12T11:25:16.218958Z"
    }
   },
   "outputs": [
    {
     "data": {
      "text/plain": [
       "Text(0.5,1,'Probability')"
      ]
     },
     "execution_count": 54,
     "metadata": {},
     "output_type": "execute_result"
    },
    {
     "data": {
      "image/png": "[encoded data removed]",
      "text/plain": [
       "<Figure size 432x360 with 2 Axes>"
      ]
     },
     "metadata": {},
     "output_type": "display_data"
    }
   ],
   "source": [
    "from numpy import arange,array\n",
    "from matplotlib.pylab import subplots, cm\n",
    "from sympy import Integer\n",
    "\n",
    "fig,ax = subplots(figsize=(6,5))\n",
    "\n",
    "v = arange(1,7) + arange(1,7)[:,None] #list with all sum combinations\n",
    "\n",
    "foo = lambda i: density(z)[Integer(i)].evalf() # some tweaks to get a float out\n",
    "\n",
    "Zmass=array(list(map(foo,v.flat)),dtype=float).reshape(6,6) \n",
    "\n",
    "pc=ax.pcolor(arange(1,8),arange(1,8),Zmass,cmap=cm.gray)\n",
    "\n",
    "ax.set_xticks([(i+0.5) for i in range(1,7)])\n",
    "ax.set_xticklabels([str(i) for i in range(1,7)])\n",
    "ax.set_yticks([(i+0.5) for i in range(1,7)])\n",
    "ax.set_yticklabels([str(i) for i in range(1,7)])\n",
    "\n",
    "for i in range(1,7):\n",
    "    for j in range(1,7):\n",
    "        ax.text(i+.5,j+.5,str(i+j),fontsize=18, ha='center', va='center', fontweight='bold',color='goldenrod')\n",
    "\n",
    "ax.set_title(r'Probability Mass for $Z$',fontsize=18)    \n",
    "ax.set_xlabel('$X$ values',fontsize=18)\n",
    "ax.set_ylabel('$Y$ values',fontsize=18);\n",
    "cb=fig.colorbar(pc)\n",
    "cb.ax.set_title(r'Probability',fontsize=12)"
   ]
  },
  {
   "cell_type": "markdown",
   "metadata": {},
   "source": [
    "<!-- dom:FIGURE: [fig-probability/Conditional_expectation_MSE_001.png, width=500 frac=0.85] The values of $Z$ are in yellow with the corresponding values for $X$ and $Y$ on the axes. The gray scale colors indicate the underlying joint probability density. <div id=\"fig:Conditional_expectation_MSE_001\"></div> -->\n",
    "<!-- begin figure -->\n",
    "<div id=\"fig:Conditional_expectation_MSE_001\"></div>\n",
    "\n",
    "<p>The values of $Z$ are in yellow with the corresponding values for $X$ and $Y$ on the axes. The gray scale colors indicate the underlying joint probability density.</p>\n",
    "<img src=\"fig-probability/Conditional_expectation_MSE_001.png\" width=500>\n",
    "\n",
    "<!-- end figure -->\n",
    "\n",
    "\n",
    " which is equal to the estimate we just found by minimizing the MSE.\n",
    "Let's explore this further with [Figure](#fig:Conditional_expectation_MSE_001).  [Figure](#fig:Conditional_expectation_MSE_001) shows the values of $Z$ in yellow with\n",
    "the corresponding values for $X$ and $Y$ on the axes.  \n",
    "\n",
    "Suppose $z=2$, then the\n",
    "closest $X$ to this is $X=1$, which is what $\\mathbb{E}(x|z)=z/2=1$ gives. \n",
    "\n",
    "What\n",
    "happens when $Z=7$? In this case, this value is spread out diagonally along the\n",
    "$X$ axis so if $X=1$, then $Z$ is 6 units away, if $X=2$, then $Z$ is 5 units\n",
    "away and so on.\n",
    "\n",
    "Now, back to the original question, if we had $Z=7$ and we wanted\n",
    "to get as close as we could to this using $X$, then why not choose\n",
    "$X=6$ which is only one unit away from $Z$? The problem with doing\n",
    "that is $X=6$ only occurs 1/6 of the time, so we are not likely to\n",
    "get it right the other 5/6 of the time. So, 1/6 of the time we are\n",
    "one unit away but 5/6 of the time we are much more than one unit\n",
    "away. This means that the MSE score is going to be worse. Since\n",
    "each value of $X$ from 1 to 6 is equally likely, to play it safe,\n",
    "we choose $7/2$ as the estimate, which is what the conditional\n",
    "expectation suggests.\n",
    "\n",
    "We can check this claim with samples using Sympy below:"
   ]
  },
  {
   "cell_type": "code",
   "execution_count": 60,
   "metadata": {},
   "outputs": [
    {
     "data": {
      "image/png": "[encoded data removed]",
      "text/latex": [
       "$$2$$"
      ],
      "text/plain": [
       "2"
      ]
     },
     "execution_count": 60,
     "metadata": {},
     "output_type": "execute_result"
    }
   ],
   "source": [
    "stats.sample(x, S.Eq(z,7)) "
   ]
  },
  {
   "cell_type": "code",
   "execution_count": 61,
   "metadata": {
    "ExecuteTime": {
     "end_time": "2018-09-12T11:34:13.790659Z",
     "start_time": "2018-09-12T11:34:12.873584Z"
    }
   },
   "outputs": [
    {
     "name": "stdout",
     "output_type": "stream",
     "text": [
      "MSE=9.11 using 6 vs MSE=2.81 using 7/2 \n"
     ]
    }
   ],
   "source": [
    "import numpy as np\n",
    "from sympy import stats\n",
    "# Eq constrains Z\n",
    "samples_z7 = lambda : stats.sample(x, S.Eq(z,7)) \n",
    "\n",
    "#using 6 as an estimate\n",
    "mn= np.mean([(6-samples_z7())**2 for i in range(100)]) \n",
    "\n",
    "#7/2 is the MSE estimate\n",
    "mn0= np.mean([(7/2.-samples_z7())**2 for i in range(100)]) \n",
    "print('MSE=%3.2f using 6 vs MSE=%3.2f using 7/2 ' % (mn,mn0))"
   ]
  },
  {
   "cell_type": "markdown",
   "metadata": {},
   "source": [
    "**Programming Tip.**\n",
    "\n",
    "The `stats.sample(x, S.Eq(z,7))` function call samples the `x` variable subject\n",
    "to a condition on the `z` variable. In other words, it generates random samples\n",
    "of `x` die, given that the sum of the outcomes of that die and the `y` die add\n",
    "up to `z==7`.\n",
    "\n",
    "\n",
    "\n",
    " Please run the above code repeatedly in the Jupyter/IPython\n",
    "Notebook corresponding to this section until you have convinced\n",
    "yourself  that the $\\mathbb{E}(x|z)$ gives the lower MSE every\n",
    "time.  \n",
    "\n",
    "To push this reasoning, let's consider the case where the\n",
    "die is so biased so that the outcome of `6` is ten times more\n",
    "probable than any of the other outcomes. That is,"
   ]
  },
  {
   "cell_type": "markdown",
   "metadata": {},
   "source": [
    "$$\n",
    "\\mathbb{P}(6) = 2/3\n",
    "$$"
   ]
  },
  {
   "cell_type": "markdown",
   "metadata": {},
   "source": [
    " whereas $\\mathbb{P}(1)=\\mathbb{P}(2)=\\ldots=\\mathbb{P}(5)=1/15$.\n",
    "We can explore this using Sympy as in the following:"
   ]
  },
  {
   "cell_type": "code",
   "execution_count": 62,
   "metadata": {
    "ExecuteTime": {
     "end_time": "2018-09-12T12:13:52.417509Z",
     "start_time": "2018-09-12T12:13:52.410374Z"
    }
   },
   "outputs": [],
   "source": [
    "# here 6 is ten times more probable than any other outcome\n",
    "x = stats.FiniteRV('D3',{1:1/15., 2:1/15., \n",
    "                       3:1/15., 4:1/15.,\n",
    "                       5:1/15., 6:2/3.})"
   ]
  },
  {
   "cell_type": "code",
   "execution_count": 63,
   "metadata": {
    "ExecuteTime": {
     "end_time": "2018-09-12T12:14:17.119470Z",
     "start_time": "2018-09-12T12:14:16.866496Z"
    }
   },
   "outputs": [
    {
     "data": {
      "image/png": "[encoded data removed]",
      "text/latex": [
       "$$\\left [ 6, \\quad 6, \\quad 4, \\quad 6, \\quad 4, \\quad 4, \\quad 6, \\quad 6, \\quad 6, \\quad 4, \\quad 6, \\quad 6, \\quad 5, \\quad 6, \\quad 6\\right ]$$"
      ],
      "text/plain": [
       "[6, 6, 4, 6, 4, 4, 6, 6, 6, 4, 6, 6, 5, 6, 6]"
      ]
     },
     "execution_count": 63,
     "metadata": {},
     "output_type": "execute_result"
    }
   ],
   "source": [
    "[stats.sample(x) for _ in range(15)]"
   ]
  },
  {
   "cell_type": "markdown",
   "metadata": {},
   "source": [
    " As before, we construct the sum of the two dice, and plot the\n",
    "corresponding probability mass function in [Figure](#fig:Conditional_expectation_MSE_002).  As compared with [Figure](#fig:Conditional_expectation_MSE_001), the probability mass has been shifted\n",
    "away from the smaller numbers."
   ]
  },
  {
   "cell_type": "code",
   "execution_count": 64,
   "metadata": {
    "ExecuteTime": {
     "end_time": "2018-09-12T12:18:49.645020Z",
     "start_time": "2018-09-12T12:18:49.082646Z"
    }
   },
   "outputs": [
    {
     "data": {
      "text/plain": [
       "Text(0.5,1,'Probability')"
      ]
     },
     "execution_count": 64,
     "metadata": {},
     "output_type": "execute_result"
    },
    {
     "data": {
      "image/png": "[encoded data removed]",
      "text/plain": [
       "<Figure size 648x540 with 2 Axes>"
      ]
     },
     "metadata": {},
     "output_type": "display_data"
    }
   ],
   "source": [
    "z = x + y\n",
    "\n",
    "foo = lambda i: density(z)[S.Integer(i)].evalf() # some tweaks to get a float out\n",
    "v = np.arange(1,7) + np.arange(1,7)[:,None]\n",
    "Zmass = np.array(list(map(foo,v.flat)),dtype=float).reshape(6,6)\n",
    "\n",
    "fig,ax=subplots(figsize=(6*1.5,5*1.5))\n",
    "pc=ax.pcolor(np.arange(1,8),np.arange(1,8),Zmass,cmap='viridis')\n",
    "\n",
    "ax.set_xticks([(i+0.5) for i in range(1,7)])\n",
    "ax.set_xticklabels([str(i) for i in range(1,7)])\n",
    "ax.set_yticks([(i+0.5) for i in range(1,7)])\n",
    "ax.set_yticklabels([str(i) for i in range(1,7)])\n",
    "\n",
    "for i in range(1,7):\n",
    "    for j in range(1,7):\n",
    "        ax.text(i+.5,j+.5,str(i+j),va='center',ha='center',fontsize=18,fontweight='bold',color='white')\n",
    "\n",
    "ax.set_title(r'Probability Mass for $Z$; Nonuniform case',fontsize=16)    \n",
    "ax.set_xlabel('$X$ values',fontsize=18)\n",
    "ax.set_ylabel('$Y$ values',fontsize=18);\n",
    "cb=fig.colorbar(pc)\n",
    "cb.ax.set_title(r'Probability',fontsize=12)\n",
    "#fig.savefig('fig-probability/Conditional_expectation_MSE_002.png')"
   ]
  },
  {
   "cell_type": "markdown",
   "metadata": {},
   "source": [
    "<!-- dom:FIGURE: [fig-probability/Conditional_expectation_MSE_002.png, width=500 frac=0.85] The values of $Z$ are in yellow with the corresponding values for $X$ and $Y$ on the axes.  <div id=\"fig:Conditional_expectation_MSE_002\"></div> -->\n",
    "<!-- begin figure -->\n",
    "<div id=\"fig:Conditional_expectation_MSE_002\"></div>\n",
    "\n",
    "<p>The values of $Z$ are in yellow with the corresponding values for $X$ and $Y$ on the axes.</p>\n",
    "<img src=\"fig-probability/Conditional_expectation_MSE_002.png\" width=500>\n",
    "\n",
    "<!-- end figure -->\n",
    "\n",
    "\n",
    "Let's see what the conditional expectation says about how we can estimate $X$\n",
    "from $Z$."
   ]
  },
  {
   "cell_type": "code",
   "execution_count": 64,
   "metadata": {
    "ExecuteTime": {
     "end_time": "2018-09-12T12:18:17.658260Z",
     "start_time": "2018-09-12T12:18:17.478605Z"
    }
   },
   "outputs": [
    {
     "data": {
      "image/png": "[encoded data removed]",
      "text/latex": [
       "$$D_{2} + D_{3} = 7$$"
      ],
      "text/plain": [
       "D₂ + D₃ = 7"
      ]
     },
     "execution_count": 64,
     "metadata": {},
     "output_type": "execute_result"
    }
   ],
   "source": [
    "S.Eq(z,7)"
   ]
  },
  {
   "cell_type": "code",
   "execution_count": 65,
   "metadata": {
    "ExecuteTime": {
     "end_time": "2018-09-12T12:18:28.789190Z",
     "start_time": "2018-09-12T12:18:28.565215Z"
    }
   },
   "outputs": [
    {
     "data": {
      "image/png": "[encoded data removed]",
      "text/latex": [
       "$$5.0$$"
      ],
      "text/plain": [
       "5.00000000000000"
      ]
     },
     "execution_count": 65,
     "metadata": {},
     "output_type": "execute_result"
    }
   ],
   "source": [
    "E(x, S.Eq(z,7)) # conditional expectation E(x|z=7)"
   ]
  },
  {
   "cell_type": "markdown",
   "metadata": {},
   "source": [
    "  Now that we have $\\mathbb{E}(x|z=7) = 5$, we can generate\n",
    "samples as before and see if this gives the minimum MSE."
   ]
  },
  {
   "cell_type": "code",
   "execution_count": 65,
   "metadata": {
    "ExecuteTime": {
     "end_time": "2018-09-12T12:19:09.830446Z",
     "start_time": "2018-09-12T12:19:08.907212Z"
    }
   },
   "outputs": [
    {
     "name": "stdout",
     "output_type": "stream",
     "text": [
      "MSE=3.34 using 6 vs MSE=2.60 using 5 \n"
     ]
    }
   ],
   "source": [
    "samples_z7 = lambda : stats.sample(x, S.Eq(z,7)) \n",
    "#using 6 as an estimate\n",
    "mn = np.mean([(6-samples_z7())**2 for i in range(100)]) \n",
    "#5 is the MSE estimate\n",
    "mn0 = np.mean([(5-samples_z7())**2 for i in range(100)]) \n",
    "print('MSE=%3.2f using 6 vs MSE=%3.2f using 5 ' % (mn,mn0))"
   ]
  },
  {
   "cell_type": "markdown",
   "metadata": {},
   "source": [
    "Using a simple example, we have emphasized the connection between minimum mean\n",
    "squared error problems and conditional expectation. Hopefully, the last two\n",
    "figures helped expose the role of the probability density.  Next, we'll\n",
    "continue revealing  the true power of the conditional expectation as we\n",
    "continue to develop corresponding geometric intuition."
   ]
  },
  {
   "cell_type": "markdown",
   "metadata": {},
   "source": [
    "# Worked Examples of Conditional Expectation and Mean Square Error Optimization\n",
    "\n",
    "Brzezniak [[brzezniak1999basic]](#brzezniak1999basic) is a great book because it approaches\n",
    "conditional expectation through a sequence of exercises, which is what we are\n",
    "trying to do here. The main difference is that Brzezniak takes a more abstract\n",
    "measure-theoretic approach to the same problems. Note that you *do* need to\n",
    "grasp  measure theory for advanced areas in  probability, but for what we have\n",
    "covered so far, working the same problems in his text using our methods is\n",
    "illuminating. It always helps to have more than one way to solve *any* problem.\n",
    "I urge you to get a copy of his book or at least look at some pages on Google\n",
    "Books. I have numbered the examples corresponding to the book and tried to\n",
    "follow its notation.  \n",
    "\n",
    "## Example\n",
    "\n",
    "This is Example 2.1 from Brzezniak.  Three coins, 10p, 20p and 50p are tossed.\n",
    "The values of those coins that land heads up are totaled. What is the expected\n",
    "total given that two coins have landed heads up?  In this case we want to compute $\\mathbb{E}(\\xi|\\eta)$ where"
   ]
  },
  {
   "cell_type": "markdown",
   "metadata": {},
   "source": [
    "$$\n",
    "\\xi := 10 X_{10} + 20 X_{20} +50 X_{50}\n",
    "$$"
   ]
  },
  {
   "cell_type": "markdown",
   "metadata": {},
   "source": [
    " where $X_i \\in \\{0,1\\} $ and where $X_{10}$ is the\n",
    "Bernoulli-distributed random variable corresponding to the 10p coin (and so\n",
    "on). Thus, $\\xi$ represents the total value of the heads-up coins. The $\\eta$\n",
    "represents the condition that only two of the three coins are heads-up,"
   ]
  },
  {
   "cell_type": "markdown",
   "metadata": {},
   "source": [
    "$$\n",
    "\\eta := X_{10} X_{20} (1-X_{50})+ (1-X_{10}) X_{20} X_{50}+ X_{10} (1-X_{20}) X_{50}\n",
    "$$"
   ]
  },
  {
   "cell_type": "markdown",
   "metadata": {},
   "source": [
    " and is a function that is non-zero *only* when two of the three coins lands\n",
    "heads-up. Each triple term catches each of these three possibilities. For example,\n",
    "the first term equals one when the 10p and 20p are heads up  and the 50p is\n",
    "heads down. The  the remaining terms are zero.\n",
    "\n",
    "To compute the conditional expectation, we want to find a function $h$ of\n",
    "$\\eta$ that minimizes the mean-squared-error (MSE),"
   ]
  },
  {
   "cell_type": "markdown",
   "metadata": {},
   "source": [
    "$$\n",
    "\\mbox{MSE}= \\sum_{X\\in\\{0,1\\}^3} \\frac{1}{2^3} (\\xi-h(\\eta))^2\n",
    "$$"
   ]
  },
  {
   "cell_type": "markdown",
   "metadata": {},
   "source": [
    " where the sum is taken over all possible triples of outcomes for \n",
    "$\\{X_{10},X_{20} ,X_{50}\\}$ because each\n",
    "of the three coins has a $\\frac{1}{2}$ chance of coming up heads.\n",
    "\n",
    "Now, the question boils down to how can we characterize the function $h(\\eta)$?\n",
    "\n",
    "\n",
    "Note that $\\eta \\mapsto \\{0,1\\}$ so $h$ takes on only two values.  So, the\n",
    "orthogonal inner product condition is the following:"
   ]
  },
  {
   "cell_type": "markdown",
   "metadata": {},
   "source": [
    "$$\n",
    "\\langle \\xi -h(\\eta), \\eta \\rangle = 0\n",
    "$$"
   ]
  },
  {
   "cell_type": "markdown",
   "metadata": {},
   "source": [
    " But, because are only interested in $\\eta=1$, this simplifies to"
   ]
  },
  {
   "cell_type": "markdown",
   "metadata": {},
   "source": [
    "$$\n",
    "\\begin{align*}\n",
    "\\langle \\xi -h(1), 1 \\rangle &= 0  \\\\\\\n",
    "\\langle \\xi,1  \\rangle &=\\langle h(1),1  \\rangle  \n",
    "\\end{align*}\n",
    "$$"
   ]
  },
  {
   "cell_type": "markdown",
   "metadata": {},
   "source": [
    " This doesn't look so hard to evaluate but we have to compute the\n",
    "integral over the set where $\\eta=1$. In other words, we need the set of\n",
    "triples $\\{X_{10},X_{20},X_{50}\\}$ where $\\eta=1$. That is, we can\n",
    "compute"
   ]
  },
  {
   "cell_type": "markdown",
   "metadata": {},
   "source": [
    "$$\n",
    "\\int_{\\{\\eta=1\\}} \\xi dX = h(1)  \\int_{\\{\\eta=1\\}} dX\n",
    "$$"
   ]
  },
  {
   "cell_type": "markdown",
   "metadata": {},
   "source": [
    "  which is what Brzezniak does. Instead, we can define\n",
    "$h(\\eta)=\\alpha \\eta$ and then find $\\alpha$. Re-writing the\n",
    "orthogonal condition gives"
   ]
  },
  {
   "cell_type": "markdown",
   "metadata": {},
   "source": [
    "$$\n",
    "\\begin{align*}\n",
    "\\langle \\xi -\\alpha\\eta, \\eta \\rangle &= 0  \\\\\\\n",
    "\\langle \\xi, \\eta \\rangle &= \\alpha \\langle \\eta,\\eta \\rangle  \\\\\\\n",
    "\\alpha &= \\frac{\\langle \\xi, \\eta \\rangle}{\\langle \\eta,\\eta \\rangle} \n",
    "\\end{align*}\n",
    "$$"
   ]
  },
  {
   "cell_type": "markdown",
   "metadata": {},
   "source": [
    " where"
   ]
  },
  {
   "cell_type": "markdown",
   "metadata": {},
   "source": [
    "$$\n",
    "\\langle \\xi, \\eta \\rangle =\\sum_{X\\in\\{0,1\\}^3} \\frac{1}{2^3}(\\xi\\eta)\n",
    "$$"
   ]
  },
  {
   "cell_type": "markdown",
   "metadata": {},
   "source": [
    " Note that we can just sweep over all triples\n",
    "$\\{X_{10},X_{20},X_{50}\\}$ because the definition of $h(\\eta)$ zeros out when\n",
    "$\\eta=0$ anyway.  All we have to do is plug everything in and solve. This\n",
    "tedious job is perfect for Sympy."
   ]
  },
  {
   "cell_type": "code",
   "execution_count": 66,
   "metadata": {
    "ExecuteTime": {
     "end_time": "2018-09-12T12:54:06.813985Z",
     "start_time": "2018-09-12T12:54:06.581731Z"
    }
   },
   "outputs": [
    {
     "data": {
      "image/png": "[encoded data removed]",
      "text/latex": [
       "$$\\frac{160}{3}$$"
      ],
      "text/plain": [
       "160/3"
      ]
     },
     "execution_count": 66,
     "metadata": {},
     "output_type": "execute_result"
    }
   ],
   "source": [
    "import sympy as S\n",
    "\n",
    "X10, X20, X50 = S.symbols('X10,X20,X50',real=True)\n",
    "\n",
    "xi  = 10*X10 + 20*X20 + 50*X50\n",
    "eta = X10*X20*(1-X50) + X10*(1-X20)*(X50) + (1-X10)*X20*(X50)\n",
    "\n",
    "num = S.summation(xi*eta, (X10,0,1), (X20,0,1), (X50,0,1))\n",
    "\n",
    "den = S.summation(eta*eta, (X10,0,1), (X20,0,1), (X50,0,1))\n",
    "\n",
    "alpha=num/den\n",
    "alpha"
   ]
  },
  {
   "cell_type": "markdown",
   "metadata": {},
   "source": [
    "  This means that"
   ]
  },
  {
   "cell_type": "markdown",
   "metadata": {},
   "source": [
    "$$\n",
    "\\mathbb{E}(\\xi|\\eta) = \\frac{160}{3} \\eta\n",
    "$$"
   ]
  },
  {
   "cell_type": "markdown",
   "metadata": {},
   "source": [
    " which we can check with a quick simulation"
   ]
  },
  {
   "cell_type": "code",
   "execution_count": 77,
   "metadata": {
    "ExecuteTime": {
     "end_time": "2018-09-12T12:54:57.029638Z",
     "start_time": "2018-09-12T12:54:57.006143Z"
    }
   },
   "outputs": [],
   "source": [
    "d = pd.DataFrame(columns=['X10','X20','X50'])\n",
    "\n",
    "d.X10 = np.random.randint(0,2,100000)\n",
    "d.X20 = np.random.randint(0,2,100000)\n",
    "d.X50 = np.random.randint(0,2,100000)"
   ]
  },
  {
   "cell_type": "code",
   "execution_count": 68,
   "metadata": {
    "ExecuteTime": {
     "end_time": "2018-09-12T12:55:03.810755Z",
     "start_time": "2018-09-12T12:55:03.780253Z"
    }
   },
   "outputs": [
    {
     "data": {
      "text/html": [
       "<div>\n",
       "<style scoped>\n",
       "    .dataframe tbody tr th:only-of-type {\n",
       "        vertical-align: middle;\n",
       "    }\n",
       "\n",
       "    .dataframe tbody tr th {\n",
       "        vertical-align: top;\n",
       "    }\n",
       "\n",
       "    .dataframe thead th {\n",
       "        text-align: right;\n",
       "    }\n",
       "</style>\n",
       "<table border=\"1\" class=\"dataframe\">\n",
       "  <thead>\n",
       "    <tr style=\"text-align: right;\">\n",
       "      <th></th>\n",
       "      <th>X10</th>\n",
       "      <th>X20</th>\n",
       "      <th>X50</th>\n",
       "    </tr>\n",
       "  </thead>\n",
       "  <tbody>\n",
       "    <tr>\n",
       "      <th>0</th>\n",
       "      <td>1</td>\n",
       "      <td>0</td>\n",
       "      <td>1</td>\n",
       "    </tr>\n",
       "    <tr>\n",
       "      <th>1</th>\n",
       "      <td>0</td>\n",
       "      <td>0</td>\n",
       "      <td>0</td>\n",
       "    </tr>\n",
       "    <tr>\n",
       "      <th>2</th>\n",
       "      <td>1</td>\n",
       "      <td>1</td>\n",
       "      <td>1</td>\n",
       "    </tr>\n",
       "    <tr>\n",
       "      <th>3</th>\n",
       "      <td>1</td>\n",
       "      <td>0</td>\n",
       "      <td>1</td>\n",
       "    </tr>\n",
       "    <tr>\n",
       "      <th>4</th>\n",
       "      <td>1</td>\n",
       "      <td>0</td>\n",
       "      <td>0</td>\n",
       "    </tr>\n",
       "    <tr>\n",
       "      <th>...</th>\n",
       "      <td>...</td>\n",
       "      <td>...</td>\n",
       "      <td>...</td>\n",
       "    </tr>\n",
       "    <tr>\n",
       "      <th>995</th>\n",
       "      <td>0</td>\n",
       "      <td>0</td>\n",
       "      <td>1</td>\n",
       "    </tr>\n",
       "    <tr>\n",
       "      <th>996</th>\n",
       "      <td>1</td>\n",
       "      <td>1</td>\n",
       "      <td>0</td>\n",
       "    </tr>\n",
       "    <tr>\n",
       "      <th>997</th>\n",
       "      <td>1</td>\n",
       "      <td>1</td>\n",
       "      <td>1</td>\n",
       "    </tr>\n",
       "    <tr>\n",
       "      <th>998</th>\n",
       "      <td>0</td>\n",
       "      <td>0</td>\n",
       "      <td>0</td>\n",
       "    </tr>\n",
       "    <tr>\n",
       "      <th>999</th>\n",
       "      <td>0</td>\n",
       "      <td>0</td>\n",
       "      <td>1</td>\n",
       "    </tr>\n",
       "  </tbody>\n",
       "</table>\n",
       "<p>1000 rows × 3 columns</p>\n",
       "</div>"
      ],
      "text/plain": [
       "     X10  X20  X50\n",
       "0      1    0    1\n",
       "1      0    0    0\n",
       "2      1    1    1\n",
       "3      1    0    1\n",
       "4      1    0    0\n",
       "..   ...  ...  ...\n",
       "995    0    0    1\n",
       "996    1    1    0\n",
       "997    1    1    1\n",
       "998    0    0    0\n",
       "999    0    0    1\n",
       "\n",
       "[1000 rows x 3 columns]"
      ]
     },
     "execution_count": 68,
     "metadata": {},
     "output_type": "execute_result"
    }
   ],
   "source": [
    "d"
   ]
  },
  {
   "cell_type": "markdown",
   "metadata": {},
   "source": [
    "**Programming Tip.**\n",
    "\n",
    "The code above creates an empty Pandas data frame with the named columns.\n",
    "The next four lines assigns values to each of the columns.\n",
    "\n",
    "\n",
    "\n",
    " The code above simulates flipping the three coins 1000\n",
    "times. Each column of the dataframe is either `0` or `1`\n",
    "corresponding to heads-down or heads-up, respectively. The\n",
    "condition is that two of the three coins have landed heads-up.\n",
    "Next, we can group the columns according to their sums. Note that\n",
    "the sum can only be in $\\{0,1,2,3\\}$ corresponding to `0`\n",
    "heads-up, `1` heads-up, and so on."
   ]
  },
  {
   "cell_type": "code",
   "execution_count": 69,
   "metadata": {
    "ExecuteTime": {
     "end_time": "2018-09-12T12:56:11.593434Z",
     "start_time": "2018-09-12T12:56:11.564847Z"
    }
   },
   "outputs": [
    {
     "data": {
      "text/plain": [
       "0      2\n",
       "1      0\n",
       "2      3\n",
       "3      2\n",
       "4      1\n",
       "      ..\n",
       "995    1\n",
       "996    2\n",
       "997    3\n",
       "998    0\n",
       "999    1\n",
       "Length: 1000, dtype: int64"
      ]
     },
     "execution_count": 69,
     "metadata": {},
     "output_type": "execute_result"
    }
   ],
   "source": [
    "d.eval('X10+X20+X50')"
   ]
  },
  {
   "cell_type": "code",
   "execution_count": 78,
   "metadata": {
    "ExecuteTime": {
     "end_time": "2018-09-12T12:57:00.611986Z",
     "start_time": "2018-09-12T12:57:00.600213Z"
    }
   },
   "outputs": [],
   "source": [
    "grp=d.groupby(d.eval('X10+X20+X50'))"
   ]
  },
  {
   "cell_type": "markdown",
   "metadata": {},
   "source": [
    "**Programming Tip.**\n",
    "\n",
    "The `eval` function of the Pandas data frame takes the named\n",
    "columns and evaluates the given formula. At the time of this\n",
    "writing, only simple formulas involving primitive operations are\n",
    "possible.\n",
    "\n",
    "\n",
    "\n",
    " Next, we can get the `2` group, which corresponds to\n",
    "exactly two coins having landed heads up and then evaluate\n",
    "the sum of the values of the coins. Finally, we can take the mean \n",
    "of these sums."
   ]
  },
  {
   "cell_type": "code",
   "execution_count": 75,
   "metadata": {},
   "outputs": [
    {
     "data": {
      "text/html": [
       "<div>\n",
       "<style scoped>\n",
       "    .dataframe tbody tr th:only-of-type {\n",
       "        vertical-align: middle;\n",
       "    }\n",
       "\n",
       "    .dataframe tbody tr th {\n",
       "        vertical-align: top;\n",
       "    }\n",
       "\n",
       "    .dataframe thead th {\n",
       "        text-align: right;\n",
       "    }\n",
       "</style>\n",
       "<table border=\"1\" class=\"dataframe\">\n",
       "  <thead>\n",
       "    <tr style=\"text-align: right;\">\n",
       "      <th></th>\n",
       "      <th>X10</th>\n",
       "      <th>X20</th>\n",
       "      <th>X50</th>\n",
       "    </tr>\n",
       "  </thead>\n",
       "  <tbody>\n",
       "    <tr>\n",
       "      <th>0</th>\n",
       "      <td>1</td>\n",
       "      <td>0</td>\n",
       "      <td>1</td>\n",
       "    </tr>\n",
       "    <tr>\n",
       "      <th>3</th>\n",
       "      <td>1</td>\n",
       "      <td>0</td>\n",
       "      <td>1</td>\n",
       "    </tr>\n",
       "    <tr>\n",
       "      <th>13</th>\n",
       "      <td>0</td>\n",
       "      <td>1</td>\n",
       "      <td>1</td>\n",
       "    </tr>\n",
       "    <tr>\n",
       "      <th>17</th>\n",
       "      <td>1</td>\n",
       "      <td>0</td>\n",
       "      <td>1</td>\n",
       "    </tr>\n",
       "    <tr>\n",
       "      <th>20</th>\n",
       "      <td>1</td>\n",
       "      <td>1</td>\n",
       "      <td>0</td>\n",
       "    </tr>\n",
       "    <tr>\n",
       "      <th>...</th>\n",
       "      <td>...</td>\n",
       "      <td>...</td>\n",
       "      <td>...</td>\n",
       "    </tr>\n",
       "    <tr>\n",
       "      <th>989</th>\n",
       "      <td>0</td>\n",
       "      <td>1</td>\n",
       "      <td>1</td>\n",
       "    </tr>\n",
       "    <tr>\n",
       "      <th>990</th>\n",
       "      <td>1</td>\n",
       "      <td>1</td>\n",
       "      <td>0</td>\n",
       "    </tr>\n",
       "    <tr>\n",
       "      <th>991</th>\n",
       "      <td>0</td>\n",
       "      <td>1</td>\n",
       "      <td>1</td>\n",
       "    </tr>\n",
       "    <tr>\n",
       "      <th>992</th>\n",
       "      <td>1</td>\n",
       "      <td>1</td>\n",
       "      <td>0</td>\n",
       "    </tr>\n",
       "    <tr>\n",
       "      <th>996</th>\n",
       "      <td>1</td>\n",
       "      <td>1</td>\n",
       "      <td>0</td>\n",
       "    </tr>\n",
       "  </tbody>\n",
       "</table>\n",
       "<p>383 rows × 3 columns</p>\n",
       "</div>"
      ],
      "text/plain": [
       "     X10  X20  X50\n",
       "0      1    0    1\n",
       "3      1    0    1\n",
       "13     0    1    1\n",
       "17     1    0    1\n",
       "20     1    1    0\n",
       "..   ...  ...  ...\n",
       "989    0    1    1\n",
       "990    1    1    0\n",
       "991    0    1    1\n",
       "992    1    1    0\n",
       "996    1    1    0\n",
       "\n",
       "[383 rows x 3 columns]"
      ]
     },
     "execution_count": 75,
     "metadata": {},
     "output_type": "execute_result"
    }
   ],
   "source": [
    "grp.get_group(2)"
   ]
  },
  {
   "cell_type": "code",
   "execution_count": 79,
   "metadata": {
    "ExecuteTime": {
     "end_time": "2018-09-12T12:57:42.939796Z",
     "start_time": "2018-09-12T12:57:42.711573Z"
    }
   },
   "outputs": [
    {
     "data": {
      "image/png": "[encoded data removed]",
      "text/latex": [
       "$$53.47628295511985$$"
      ],
      "text/plain": [
       "53.47628295511985"
      ]
     },
     "execution_count": 79,
     "metadata": {},
     "output_type": "execute_result"
    }
   ],
   "source": [
    "grp.get_group(2).eval('10*X10+20*X20+50*X50').mean()"
   ]
  },
  {
   "cell_type": "markdown",
   "metadata": {},
   "source": [
    " The result is close to `160/3=53.33` which supports\n",
    "the analytic result. The following code shows that we\n",
    "can accomplish the same simulation using pure Numpy."
   ]
  },
  {
   "cell_type": "code",
   "execution_count": 80,
   "metadata": {
    "ExecuteTime": {
     "end_time": "2018-09-12T12:59:13.708361Z",
     "start_time": "2018-09-12T12:59:13.703727Z"
    }
   },
   "outputs": [],
   "source": [
    "x = np.random.randint(0,2,(3,10000))"
   ]
  },
  {
   "cell_type": "code",
   "execution_count": 81,
   "metadata": {
    "ExecuteTime": {
     "end_time": "2018-09-12T12:59:33.501000Z",
     "start_time": "2018-09-12T12:59:33.493232Z"
    }
   },
   "outputs": [
    {
     "data": {
      "text/plain": [
       "array([[1, 1, 1, ..., 1, 0, 0],\n",
       "       [0, 0, 1, ..., 0, 1, 1],\n",
       "       [0, 0, 1, ..., 0, 0, 0]])"
      ]
     },
     "execution_count": 81,
     "metadata": {},
     "output_type": "execute_result"
    }
   ],
   "source": [
    "x"
   ]
  },
  {
   "cell_type": "code",
   "execution_count": 82,
   "metadata": {
    "ExecuteTime": {
     "end_time": "2018-09-12T13:00:00.384526Z",
     "start_time": "2018-09-12T13:00:00.377305Z"
    }
   },
   "outputs": [
    {
     "data": {
      "text/plain": [
       "array([1, 1, 3, 1, 2, 2, 2, 2, 1, 1])"
      ]
     },
     "execution_count": 82,
     "metadata": {},
     "output_type": "execute_result"
    }
   ],
   "source": [
    "x.sum(axis=0)[:10]"
   ]
  },
  {
   "cell_type": "code",
   "execution_count": 87,
   "metadata": {
    "ExecuteTime": {
     "end_time": "2018-09-12T13:00:18.713340Z",
     "start_time": "2018-09-12T13:00:18.706124Z"
    }
   },
   "outputs": [
    {
     "data": {
      "text/plain": [
       "array([[1, 0, 1],\n",
       "       [1, 0, 1],\n",
       "       [0, 1, 1],\n",
       "       ...,\n",
       "       [1, 0, 1],\n",
       "       [1, 0, 1],\n",
       "       [0, 1, 1]])"
      ]
     },
     "execution_count": 87,
     "metadata": {},
     "output_type": "execute_result"
    }
   ],
   "source": [
    "x[:,x.sum(axis=0)==2].T"
   ]
  },
  {
   "cell_type": "code",
   "execution_count": 88,
   "metadata": {
    "ExecuteTime": {
     "end_time": "2018-09-12T13:01:08.325937Z",
     "start_time": "2018-09-12T13:01:08.317125Z"
    }
   },
   "outputs": [
    {
     "data": {
      "text/plain": [
       "array([60, 60, 70, 70, 60, 30, 60, 70, 70, 30])"
      ]
     },
     "execution_count": 88,
     "metadata": {},
     "output_type": "execute_result"
    }
   ],
   "source": [
    "np.dot(x[:,x.sum(axis=0)==2].T,np.array([10,20,50]))[:10]"
   ]
  },
  {
   "cell_type": "code",
   "execution_count": 91,
   "metadata": {
    "ExecuteTime": {
     "end_time": "2018-09-12T12:59:14.820076Z",
     "start_time": "2018-09-12T12:59:14.656124Z"
    }
   },
   "outputs": [
    {
     "data": {
      "image/png": "[encoded data removed]",
      "text/latex": [
       "$$53.33014705568753$$"
      ],
      "text/plain": [
       "53.33014705568753"
      ]
     },
     "execution_count": 91,
     "metadata": {},
     "output_type": "execute_result"
    }
   ],
   "source": [
    "x = np.random.randint(0,2,(3,10000000))\n",
    "np.dot(x[:,x.sum(axis=0)==2].T,np.array([10,20,50])).mean()"
   ]
  },
  {
   "cell_type": "markdown",
   "metadata": {},
   "source": [
    " In this case, we used the Numpy dot product to compute\n",
    "the value of the heads-up coins. The `sum(axis=0)==2` part selects\n",
    "the columns that correspond to two heads-up coins. \n",
    "\n",
    "Still another way to get at the same problem is to forego the\n",
    "random sampling part and just consider all possibilities\n",
    "exhaustively using the `itertools` module in Python's standard\n",
    "library."
   ]
  },
  {
   "cell_type": "code",
   "execution_count": 93,
   "metadata": {
    "ExecuteTime": {
     "end_time": "2018-09-12T13:01:59.884215Z",
     "start_time": "2018-09-12T13:01:59.665658Z"
    }
   },
   "outputs": [
    {
     "data": {
      "image/png": "[encoded data removed]",
      "text/latex": [
       "$$\\left [ \\left ( 0, \\quad 0, \\quad 0\\right ), \\quad \\left ( 0, \\quad 0, \\quad 1\\right ), \\quad \\left ( 0, \\quad 1, \\quad 0\\right ), \\quad \\left ( 0, \\quad 1, \\quad 1\\right ), \\quad \\left ( 1, \\quad 0, \\quad 0\\right ), \\quad \\left ( 1, \\quad 0, \\quad 1\\right ), \\quad \\left ( 1, \\quad 1, \\quad 0\\right ), \\quad \\left ( 1, \\quad 1, \\quad 1\\right )\\right ]$$"
      ],
      "text/plain": [
       "[(0, 0, 0), (0, 0, 1), (0, 1, 0), (0, 1, 1), (1, 0, 0), (1, 0, 1), (1, 1, 0), \n",
       "(1, 1, 1)]"
      ]
     },
     "execution_count": 93,
     "metadata": {},
     "output_type": "execute_result"
    }
   ],
   "source": [
    "import itertools as it\n",
    "list(it.product((0,1),(0,1),(0,1))) #generates all 2**3 possibilities"
   ]
  },
  {
   "cell_type": "markdown",
   "metadata": {},
   "source": [
    " Note that we need to call `list` above in order to trigger the\n",
    "iteration in `it.product`. This is because the `itertools` module is\n",
    "generator-based so does not actually *do* the iteration until it is iterated\n",
    "over (by `list` in this case).   This shows all possible triples\n",
    "$(X_{10},X_{20},X_{50})$ where `0` and `1` indicate heads-down and heads-up,\n",
    "respectively. The next step is to filter out the cases that correspond to two\n",
    "heads-up coins."
   ]
  },
  {
   "cell_type": "code",
   "execution_count": 94,
   "metadata": {
    "ExecuteTime": {
     "end_time": "2018-09-12T13:05:09.492028Z",
     "start_time": "2018-09-12T13:05:09.313587Z"
    }
   },
   "outputs": [
    {
     "data": {
      "image/png": "[encoded data removed]",
      "text/latex": [
       "$$\\left [ \\left ( 0, \\quad 1, \\quad 1\\right ), \\quad \\left ( 1, \\quad 0, \\quad 1\\right ), \\quad \\left ( 1, \\quad 1, \\quad 0\\right )\\right ]$$"
      ],
      "text/plain": [
       "[(0, 1, 1), (1, 0, 1), (1, 1, 0)]"
      ]
     },
     "execution_count": 94,
     "metadata": {},
     "output_type": "execute_result"
    }
   ],
   "source": [
    "list(filter(lambda i:sum(i)==2,it.product((0,1),(0,1),(0,1))))"
   ]
  },
  {
   "cell_type": "markdown",
   "metadata": {},
   "source": [
    " Next, we need to compute the sum of the coins and combine\n",
    "the prior code."
   ]
  },
  {
   "cell_type": "code",
   "execution_count": 95,
   "metadata": {
    "ExecuteTime": {
     "end_time": "2018-09-12T13:07:34.415835Z",
     "start_time": "2018-09-12T13:07:34.200046Z"
    }
   },
   "outputs": [
    {
     "data": {
      "image/png": "[encoded data removed]",
      "text/latex": [
       "$$\\left [ 70, \\quad 60, \\quad 30\\right ]$$"
      ],
      "text/plain": [
       "[70, 60, 30]"
      ]
     },
     "execution_count": 95,
     "metadata": {},
     "output_type": "execute_result"
    }
   ],
   "source": [
    "l_ = list(map(lambda k:10*k[0]+20*k[1]+50*k[2],\n",
    "            filter(lambda i:sum(i)==2,\n",
    "                    it.product((0,1),(0,1),(0,1)))))\n",
    "l_"
   ]
  },
  {
   "cell_type": "code",
   "execution_count": 96,
   "metadata": {
    "ExecuteTime": {
     "end_time": "2018-09-12T13:07:44.768692Z",
     "start_time": "2018-09-12T13:07:44.557335Z"
    }
   },
   "outputs": [
    {
     "data": {
      "image/png": "[encoded data removed]",
      "text/latex": [
       "$$53.333333333333336$$"
      ],
      "text/plain": [
       "53.333333333333336"
      ]
     },
     "execution_count": 96,
     "metadata": {},
     "output_type": "execute_result"
    }
   ],
   "source": [
    "np.mean(l_)"
   ]
  },
  {
   "cell_type": "markdown",
   "metadata": {},
   "source": [
    " The mean of the output is `53.33`, which is yet another way to get\n",
    "the same result. For this example, we demonstrated the full spectrum of\n",
    "approaches made possible using Sympy, Numpy, and Pandas. It is always valuable\n",
    "to have multiple ways of approaching the same problem and cross-checking\n",
    "the result. \n",
    "\n",
    "## Example\n",
    "\n",
    "This is Example 2.2 from Brzezniak. \n",
    "\n",
    "Three coins, 10p, 20p and 50p are tossed as\n",
    "before. What is the conditional expectation of the total amount shown by the\n",
    "three coins given the total amount shown by the 10p and 20p coins only?  For\n",
    "this problem,"
   ]
  },
  {
   "cell_type": "markdown",
   "metadata": {},
   "source": [
    "$$\n",
    "\\begin{align*}\n",
    "\\xi := & 10 X_{10} + 20 X_{20} +50 X_{50}  \\\\\\\n",
    "\\eta :=& 30 X_{10} X_{20} + 20 (1-X_{10}) X_{20} + 10 X_{10} (1-X_{20}) \n",
    "\\end{align*}\n",
    "$$"
   ]
  },
  {
   "cell_type": "markdown",
   "metadata": {},
   "source": [
    " which takes on four values $\\eta \\mapsto \\{0,10,20,30\\}$ and only\n",
    "considers the 10p and 20p coins.  In contrast to the last problem, here we are\n",
    "interested in $h(\\eta)$ for all of the values of $\\eta$. Naturally, there are\n",
    "only four values for $h(\\eta)$ corresponding to each of these four values.\n",
    "Let's first consider $\\eta=10$. The orthogonal condition is then"
   ]
  },
  {
   "cell_type": "markdown",
   "metadata": {},
   "source": [
    "$$\n",
    "\\langle\\xi-h(10),10\\rangle = 0\n",
    "$$"
   ]
  },
  {
   "cell_type": "markdown",
   "metadata": {},
   "source": [
    " The domain for $\\eta=10$ is $\\{X_{10}=1,X_{20}=0,X_{50}\\}$ which we\n",
    "can integrate out of the expectation below,"
   ]
  },
  {
   "cell_type": "markdown",
   "metadata": {},
   "source": [
    "$$\n",
    "\\begin{align*}\n",
    "\\mathbb{E}_{\\{X_{10}=1,X_{20}=0,X_{50}\\}}(\\xi-h(10)) 10  &=0 \\\\\\ \n",
    "\\mathbb{E}_{\\{X_{50}\\}}(10-h(10)+50 X_{50}) &=0  \\\\\\\n",
    "10-h(10) + 25 &=0 \n",
    "\\end{align*}\n",
    "$$"
   ]
  },
  {
   "cell_type": "markdown",
   "metadata": {},
   "source": [
    " which gives $h(10)=35$. Repeating the same process for $\\eta \\in\n",
    "\\{20,30\\}$ gives $h(20)=45$ and $h(30)=55$, respectively.  This is the approach\n",
    "Brzezniak takes. \n",
    "\n",
    "On the other hand, we can just look at affine functions,\n",
    "$h(\\eta) = a \\eta + b $ and use brute-force calculus."
   ]
  },
  {
   "cell_type": "code",
   "execution_count": 109,
   "metadata": {
    "ExecuteTime": {
     "end_time": "2018-09-12T13:12:02.239230Z",
     "start_time": "2018-09-12T13:12:01.921331Z"
    }
   },
   "outputs": [
    {
     "data": {
      "image/png": "[encoded data removed]",
      "text/latex": [
       "$$\\left \\{ a : \\frac{64}{3}, \\quad b : 32\\right \\}$$"
      ],
      "text/plain": [
       "{a: 64/3, b: 32}"
      ]
     },
     "execution_count": 109,
     "metadata": {},
     "output_type": "execute_result"
    }
   ],
   "source": [
    "from sympy.abc import a,b\n",
    "\n",
    "h = a*eta + b\n",
    "\n",
    "eta = X10*X20*30 + X10*(1-X20)*(10)+ (1-X10)*X20*(20)\n",
    "\n",
    "MSE = S.summation((xi-h)**2*S.Rational(1,8),\n",
    "                  (X10,0,1),\n",
    "                  (X20,0,1),\n",
    "                  (X50,0,1))\n",
    "sol = S.solve([S.diff(MSE,a),S.diff(MSE,b)],(a,b))\n",
    "sol"
   ]
  },
  {
   "cell_type": "markdown",
   "metadata": {},
   "source": [
    "**Programming Tip.**\n",
    "\n",
    "The `Rational` function from Sympy code expresses a rational number that Sympy\n",
    "is able to manipulate as such. This is different that specifying a fraction\n",
    "like `1/8.`, which Python would automatically compute as a floating point\n",
    "number (i.e., `0.125`). The advantage of using `Rational` is that Sympy can\n",
    "later produce rational numbers as output, which are sometimes easier to make\n",
    "sense of.\n",
    "\n",
    "\n",
    "\n",
    "  This means that"
   ]
  },
  {
   "cell_type": "markdown",
   "metadata": {},
   "source": [
    "$$\n",
    "\\mathbb{E}(\\xi|\\eta) = 25+\\eta\n",
    "$$"
   ]
  },
  {
   "cell_type": "markdown",
   "metadata": {},
   "source": [
    "  since $\\eta$ takes on only four values, $\\{0,10,20,30\\}$, we can\n",
    "write this out explicitly as"
   ]
  },
  {
   "cell_type": "markdown",
   "metadata": {},
   "source": [
    "<!-- Equation labels as ordinary links -->\n",
    "<div id=\"eq:ex21sol\"></div>\n",
    "\n",
    "$$\n",
    "\\begin{equation}\n",
    "\\mathbb{E}(\\xi|\\eta) =\n",
    "\\begin{cases} \n",
    "25 & \\text{for}\\: \\eta=0  \\\\\\\n",
    "35 & \\text{for}\\: \\eta=10 \\\\\\\n",
    "45 & \\text{for}\\: \\eta=20 \\\\\\\n",
    "55 & \\text{for}\\: \\eta=30 \n",
    "\\end{cases}\n",
    "\\end{equation}\n",
    "\\label{eq:ex21sol} \\tag{2}\n",
    "$$"
   ]
  },
  {
   "cell_type": "markdown",
   "metadata": {},
   "source": [
    " Alternatively, we can use orthogonal inner products to write out\n",
    "the following conditions:\n",
    "\n",
    "(this is because $h(\\eta) = a \\eta + b $)"
   ]
  },
  {
   "cell_type": "markdown",
   "metadata": {},
   "source": [
    "<!-- Equation labels as ordinary links -->\n",
    "<div id=\"eq:ex22a\"></div>\n",
    "\n",
    "$$\n",
    "\\begin{equation}\n",
    "\\label{eq:ex22a} \\tag{3}\n",
    "\\langle \\xi-h(\\eta), \\eta \\rangle = 0\n",
    "\\end{equation}\n",
    "$$"
   ]
  },
  {
   "cell_type": "markdown",
   "metadata": {},
   "source": [
    "<!-- Equation labels as ordinary links -->\n",
    "<div id=\"eq:ex22b\"></div>\n",
    "\n",
    "$$\n",
    "\\begin{equation}\n",
    "\\label{eq:ex22b} \\tag{4}\n",
    "\\langle \\xi-h(\\eta),1\\rangle = 0\n",
    "\\end{equation}\n",
    "$$"
   ]
  },
  {
   "cell_type": "markdown",
   "metadata": {},
   "source": [
    " Writing these out and solving for $a$ and  $b$ is tedious and\n",
    "a perfect job for Sympy. Starting with Equation \n",
    "$$\n",
    "\\langle \\xi -h(\\eta), \\eta \\rangle = 0\n",
    "$$"
   ]
  },
  {
   "cell_type": "code",
   "execution_count": 115,
   "metadata": {
    "ExecuteTime": {
     "end_time": "2018-09-12T13:19:49.853215Z",
     "start_time": "2018-09-12T13:19:49.629477Z"
    }
   },
   "outputs": [
    {
     "data": {
      "image/png": "[encoded data removed]",
      "text/latex": [
       "$$10 X_{10} + 20 X_{20} + 50 X_{50}$$"
      ],
      "text/plain": [
       "10⋅X₁₀ + 20⋅X₂₀ + 50⋅X₅₀"
      ]
     },
     "execution_count": 115,
     "metadata": {},
     "output_type": "execute_result"
    }
   ],
   "source": [
    "xi"
   ]
  },
  {
   "cell_type": "code",
   "execution_count": 116,
   "metadata": {
    "ExecuteTime": {
     "end_time": "2018-09-12T13:19:56.278563Z",
     "start_time": "2018-09-12T13:19:56.077173Z"
    }
   },
   "outputs": [
    {
     "data": {
      "image/png": "[encoded data removed]",
      "text/latex": [
       "$$a \\left(X_{10} X_{20} \\left(- X_{50} + 1\\right) + X_{10} X_{50} \\left(- X_{20} + 1\\right) + X_{20} X_{50} \\left(- X_{10} + 1\\right)\\right) + b$$"
      ],
      "text/plain": [
       "a⋅(X₁₀⋅X₂₀⋅(-X₅₀ + 1) + X₁₀⋅X₅₀⋅(-X₂₀ + 1) + X₂₀⋅X₅₀⋅(-X₁₀ + 1)) + b"
      ]
     },
     "execution_count": 116,
     "metadata": {},
     "output_type": "execute_result"
    }
   ],
   "source": [
    "h"
   ]
  },
  {
   "cell_type": "code",
   "execution_count": 117,
   "metadata": {
    "ExecuteTime": {
     "end_time": "2018-09-12T13:20:07.900915Z",
     "start_time": "2018-09-12T13:20:07.685371Z"
    }
   },
   "outputs": [
    {
     "data": {
      "image/png": "[encoded data removed]",
      "text/latex": [
       "$$30 X_{10} X_{20} + 10 X_{10} \\left(- X_{20} + 1\\right) + 20 X_{20} \\left(- X_{10} + 1\\right)$$"
      ],
      "text/plain": [
       "30⋅X₁₀⋅X₂₀ + 10⋅X₁₀⋅(-X₂₀ + 1) + 20⋅X₂₀⋅(-X₁₀ + 1)"
      ]
     },
     "execution_count": 117,
     "metadata": {},
     "output_type": "execute_result"
    }
   ],
   "source": [
    "eta"
   ]
  },
  {
   "cell_type": "code",
   "execution_count": 114,
   "metadata": {
    "ExecuteTime": {
     "end_time": "2018-09-12T13:19:22.606433Z",
     "start_time": "2018-09-12T13:19:22.413337Z"
    }
   },
   "outputs": [
    {
     "data": {
      "image/png": "[encoded data removed]",
      "text/latex": [
       "$$30 X_{10}^{2} X_{20} X_{50} a - 10 X_{10}^{2} X_{20} a - 10 X_{10}^{2} X_{50} a + 100 X_{10}^{2} + 60 X_{10} X_{20}^{2} X_{50} a - 20 X_{10} X_{20}^{2} a - 30 X_{10} X_{20} X_{50} a + 400 X_{10} X_{20} + 500 X_{10} X_{50} - 10 X_{10} b - 20 X_{20}^{2} X_{50} a + 400 X_{20}^{2} + 1000 X_{20} X_{50} - 20 X_{20} b$$"
      ],
      "text/plain": [
       "      2                   2               2                2             2    \n",
       "30⋅X₁₀ ⋅X₂₀⋅X₅₀⋅a - 10⋅X₁₀ ⋅X₂₀⋅a - 10⋅X₁₀ ⋅X₅₀⋅a + 100⋅X₁₀  + 60⋅X₁₀⋅X₂₀ ⋅X₅₀\n",
       "\n",
       "               2                                                              \n",
       "⋅a - 20⋅X₁₀⋅X₂₀ ⋅a - 30⋅X₁₀⋅X₂₀⋅X₅₀⋅a + 400⋅X₁₀⋅X₂₀ + 500⋅X₁₀⋅X₅₀ - 10⋅X₁₀⋅b -\n",
       "\n",
       "       2                2                          \n",
       " 20⋅X₂₀ ⋅X₅₀⋅a + 400⋅X₂₀  + 1000⋅X₂₀⋅X₅₀ - 20⋅X₂₀⋅b"
      ]
     },
     "execution_count": 114,
     "metadata": {},
     "output_type": "execute_result"
    }
   ],
   "source": [
    "expr = expr=S.expand((xi-h)*eta)\n",
    "expr"
   ]
  },
  {
   "cell_type": "markdown",
   "metadata": {},
   "source": [
    " and then because $\\mathbb{E}(X_i^2)=1/2=\\mathbb{E}(X_i)$, we make the\n",
    "following substitutions"
   ]
  },
  {
   "cell_type": "code",
   "execution_count": 111,
   "metadata": {
    "ExecuteTime": {
     "end_time": "2018-09-12T13:12:43.847806Z",
     "start_time": "2018-09-12T13:12:43.628900Z"
    }
   },
   "outputs": [
    {
     "data": {
      "image/png": "[encoded data removed]",
      "text/latex": [
       "$$- 350.0 a - 15.0 b + 725.0$$"
      ],
      "text/plain": [
       "-350.0⋅a - 15.0⋅b + 725.0"
      ]
     },
     "execution_count": 111,
     "metadata": {},
     "output_type": "execute_result"
    }
   ],
   "source": [
    "expr.xreplace({X10**2:0.5, X20**2:0.5,X10:0.5,X20:0.5,X50:0.5})\n",
    "-350.0*a - 15.0*b + 725.0"
   ]
  },
  {
   "cell_type": "markdown",
   "metadata": {},
   "source": [
    "We can do this for the other orthogonal inner product in Equation\n",
    " \n",
    "$$\n",
    "\\langle \\xi-h(\\eta),1\\rangle = 0\n",
    "$$\n",
    "as follows,\n",
    "\n",
    "**Programming Tip.**\n",
    "\n",
    "Because Sympy symbols are hashable, they can be used as keys in Python\n",
    "dictionaries as in the `xreplace` function above."
   ]
  },
  {
   "cell_type": "code",
   "execution_count": 119,
   "metadata": {
    "ExecuteTime": {
     "end_time": "2018-09-12T13:28:30.708472Z",
     "start_time": "2018-09-12T13:28:30.486483Z"
    }
   },
   "outputs": [
    {
     "data": {
      "image/png": "[encoded data removed]",
      "text/latex": [
       "$$- 0.375 a - b + 40.0$$"
      ],
      "text/plain": [
       "-0.375⋅a - b + 40.0"
      ]
     },
     "execution_count": 119,
     "metadata": {},
     "output_type": "execute_result"
    }
   ],
   "source": [
    "S.expand((xi-h)*1).xreplace({X10**2:0.5, \n",
    "                             X20**2:0.5,\n",
    "                             X10:0.5,\n",
    "                             X20:0.5,\n",
    "                             X50:0.5})"
   ]
  },
  {
   "cell_type": "markdown",
   "metadata": {},
   "source": [
    " Then, combining this result with the previous one and solving \n",
    "for `a` and `b` gives,"
   ]
  },
  {
   "cell_type": "code",
   "execution_count": 113,
   "metadata": {
    "ExecuteTime": {
     "end_time": "2018-09-12T13:13:35.683799Z",
     "start_time": "2018-09-12T13:13:35.466059Z"
    }
   },
   "outputs": [
    {
     "data": {
      "image/png": "[encoded data removed]",
      "text/latex": [
       "$$\\left \\{ a : 1.0, \\quad b : 25.0\\right \\}$$"
      ],
      "text/plain": [
       "{a: 1.0, b: 25.0}"
      ]
     },
     "execution_count": 113,
     "metadata": {},
     "output_type": "execute_result"
    }
   ],
   "source": [
    "S.solve([-350.0*a-15.0*b+725.0,-15.0*a-b+40.0])"
   ]
  },
  {
   "cell_type": "markdown",
   "metadata": {},
   "source": [
    " which again gives us the final solution,"
   ]
  },
  {
   "cell_type": "markdown",
   "metadata": {},
   "source": [
    "$$\n",
    "\\mathbb{E}(\\xi|\\eta) = 25+ \\eta\n",
    "$$"
   ]
  },
  {
   "cell_type": "markdown",
   "metadata": {},
   "source": [
    "  The following is a quick simulation to demonstrate this. We can\n",
    "build on the Pandas dataframe we used for the last example and create\n",
    "a new column for the sum of the 10p and 20p coins, as shown below."
   ]
  },
  {
   "cell_type": "code",
   "execution_count": 120,
   "metadata": {
    "ExecuteTime": {
     "end_time": "2018-09-12T13:30:35.326750Z",
     "start_time": "2018-09-12T13:30:35.312348Z"
    }
   },
   "outputs": [],
   "source": [
    "d['sm'] = d.eval('X10*10+X20*20')"
   ]
  },
  {
   "cell_type": "code",
   "execution_count": 121,
   "metadata": {
    "ExecuteTime": {
     "end_time": "2018-09-12T13:30:39.941812Z",
     "start_time": "2018-09-12T13:30:39.920414Z"
    }
   },
   "outputs": [
    {
     "data": {
      "text/html": [
       "<div>\n",
       "<style scoped>\n",
       "    .dataframe tbody tr th:only-of-type {\n",
       "        vertical-align: middle;\n",
       "    }\n",
       "\n",
       "    .dataframe tbody tr th {\n",
       "        vertical-align: top;\n",
       "    }\n",
       "\n",
       "    .dataframe thead th {\n",
       "        text-align: right;\n",
       "    }\n",
       "</style>\n",
       "<table border=\"1\" class=\"dataframe\">\n",
       "  <thead>\n",
       "    <tr style=\"text-align: right;\">\n",
       "      <th></th>\n",
       "      <th>X10</th>\n",
       "      <th>X20</th>\n",
       "      <th>X50</th>\n",
       "      <th>sm</th>\n",
       "    </tr>\n",
       "  </thead>\n",
       "  <tbody>\n",
       "    <tr>\n",
       "      <th>0</th>\n",
       "      <td>1</td>\n",
       "      <td>0</td>\n",
       "      <td>0</td>\n",
       "      <td>10</td>\n",
       "    </tr>\n",
       "    <tr>\n",
       "      <th>1</th>\n",
       "      <td>0</td>\n",
       "      <td>1</td>\n",
       "      <td>0</td>\n",
       "      <td>20</td>\n",
       "    </tr>\n",
       "    <tr>\n",
       "      <th>2</th>\n",
       "      <td>0</td>\n",
       "      <td>0</td>\n",
       "      <td>1</td>\n",
       "      <td>0</td>\n",
       "    </tr>\n",
       "    <tr>\n",
       "      <th>3</th>\n",
       "      <td>0</td>\n",
       "      <td>1</td>\n",
       "      <td>1</td>\n",
       "      <td>20</td>\n",
       "    </tr>\n",
       "    <tr>\n",
       "      <th>4</th>\n",
       "      <td>0</td>\n",
       "      <td>0</td>\n",
       "      <td>1</td>\n",
       "      <td>0</td>\n",
       "    </tr>\n",
       "    <tr>\n",
       "      <th>...</th>\n",
       "      <td>...</td>\n",
       "      <td>...</td>\n",
       "      <td>...</td>\n",
       "      <td>...</td>\n",
       "    </tr>\n",
       "    <tr>\n",
       "      <th>995</th>\n",
       "      <td>0</td>\n",
       "      <td>0</td>\n",
       "      <td>1</td>\n",
       "      <td>0</td>\n",
       "    </tr>\n",
       "    <tr>\n",
       "      <th>996</th>\n",
       "      <td>0</td>\n",
       "      <td>0</td>\n",
       "      <td>1</td>\n",
       "      <td>0</td>\n",
       "    </tr>\n",
       "    <tr>\n",
       "      <th>997</th>\n",
       "      <td>1</td>\n",
       "      <td>0</td>\n",
       "      <td>0</td>\n",
       "      <td>10</td>\n",
       "    </tr>\n",
       "    <tr>\n",
       "      <th>998</th>\n",
       "      <td>0</td>\n",
       "      <td>0</td>\n",
       "      <td>1</td>\n",
       "      <td>0</td>\n",
       "    </tr>\n",
       "    <tr>\n",
       "      <th>999</th>\n",
       "      <td>0</td>\n",
       "      <td>1</td>\n",
       "      <td>1</td>\n",
       "      <td>20</td>\n",
       "    </tr>\n",
       "  </tbody>\n",
       "</table>\n",
       "<p>1000 rows × 4 columns</p>\n",
       "</div>"
      ],
      "text/plain": [
       "     X10  X20  X50  sm\n",
       "0      1    0    0  10\n",
       "1      0    1    0  20\n",
       "2      0    0    1   0\n",
       "3      0    1    1  20\n",
       "4      0    0    1   0\n",
       "..   ...  ...  ...  ..\n",
       "995    0    0    1   0\n",
       "996    0    0    1   0\n",
       "997    1    0    0  10\n",
       "998    0    0    1   0\n",
       "999    0    1    1  20\n",
       "\n",
       "[1000 rows x 4 columns]"
      ]
     },
     "execution_count": 121,
     "metadata": {},
     "output_type": "execute_result"
    }
   ],
   "source": [
    "d"
   ]
  },
  {
   "cell_type": "markdown",
   "metadata": {},
   "source": [
    " We can group this by the values of this sum,"
   ]
  },
  {
   "cell_type": "code",
   "execution_count": 122,
   "metadata": {
    "ExecuteTime": {
     "end_time": "2018-09-12T13:31:32.729900Z",
     "start_time": "2018-09-12T13:31:32.702305Z"
    }
   },
   "outputs": [
    {
     "data": {
      "text/html": [
       "<div>\n",
       "<style scoped>\n",
       "    .dataframe tbody tr th:only-of-type {\n",
       "        vertical-align: middle;\n",
       "    }\n",
       "\n",
       "    .dataframe tbody tr th {\n",
       "        vertical-align: top;\n",
       "    }\n",
       "\n",
       "    .dataframe thead th {\n",
       "        text-align: right;\n",
       "    }\n",
       "</style>\n",
       "<table border=\"1\" class=\"dataframe\">\n",
       "  <thead>\n",
       "    <tr style=\"text-align: right;\">\n",
       "      <th></th>\n",
       "      <th>X10</th>\n",
       "      <th>X20</th>\n",
       "      <th>X50</th>\n",
       "    </tr>\n",
       "    <tr>\n",
       "      <th>sm</th>\n",
       "      <th></th>\n",
       "      <th></th>\n",
       "      <th></th>\n",
       "    </tr>\n",
       "  </thead>\n",
       "  <tbody>\n",
       "    <tr>\n",
       "      <th>0</th>\n",
       "      <td>0.0</td>\n",
       "      <td>0.0</td>\n",
       "      <td>0.578125</td>\n",
       "    </tr>\n",
       "    <tr>\n",
       "      <th>10</th>\n",
       "      <td>1.0</td>\n",
       "      <td>0.0</td>\n",
       "      <td>0.466667</td>\n",
       "    </tr>\n",
       "    <tr>\n",
       "      <th>20</th>\n",
       "      <td>0.0</td>\n",
       "      <td>1.0</td>\n",
       "      <td>0.557312</td>\n",
       "    </tr>\n",
       "    <tr>\n",
       "      <th>30</th>\n",
       "      <td>1.0</td>\n",
       "      <td>1.0</td>\n",
       "      <td>0.470339</td>\n",
       "    </tr>\n",
       "  </tbody>\n",
       "</table>\n",
       "</div>"
      ],
      "text/plain": [
       "    X10  X20       X50\n",
       "sm                    \n",
       "0   0.0  0.0  0.578125\n",
       "10  1.0  0.0  0.466667\n",
       "20  0.0  1.0  0.557312\n",
       "30  1.0  1.0  0.470339"
      ]
     },
     "execution_count": 122,
     "metadata": {},
     "output_type": "execute_result"
    }
   ],
   "source": [
    "d.groupby('sm').mean()\n"
   ]
  },
  {
   "cell_type": "markdown",
   "metadata": {},
   "source": [
    " But we want the expectation of the value of the coins"
   ]
  },
  {
   "cell_type": "code",
   "execution_count": 123,
   "metadata": {
    "ExecuteTime": {
     "end_time": "2018-09-12T13:32:16.116576Z",
     "start_time": "2018-09-12T13:32:16.096273Z"
    }
   },
   "outputs": [
    {
     "data": {
      "text/plain": [
       "sm\n",
       "0     28.906250\n",
       "10    33.333333\n",
       "20    47.865613\n",
       "30    53.516949\n",
       "dtype: float64"
      ]
     },
     "execution_count": 123,
     "metadata": {},
     "output_type": "execute_result"
    }
   ],
   "source": [
    "d.groupby('sm').mean().eval('10*X10+20*X20+50*X50')"
   ]
  },
  {
   "cell_type": "markdown",
   "metadata": {},
   "source": [
    " which is very close to our analytical result in Equation\n",
    " \n",
    "$$\n",
    " \\mathbb{E}(\\xi|\\eta) =\n",
    "\\begin{cases} \n",
    "25 & \\text{for}\\: \\eta=0  \\\\\\\n",
    "35 & \\text{for}\\: \\eta=10 \\\\\\\n",
    "45 & \\text{for}\\: \\eta=20 \\\\\\\n",
    "55 & \\text{for}\\: \\eta=30 \n",
    "\\end{cases}.\n",
    "$$\n",
    "\n",
    "\n",
    "## Example\n",
    "\n",
    "This is Example 2.3 paraphrased from Brzezniak. \n",
    "\n",
    "Given $X$ uniformly distributed\n",
    "on $[0,1]$, find $\\mathbb{E}(\\xi|\\eta)$ where"
   ]
  },
  {
   "cell_type": "markdown",
   "metadata": {},
   "source": [
    "$$\n",
    "\\xi(x) = 2 x^2\n",
    "$$"
   ]
  },
  {
   "cell_type": "markdown",
   "metadata": {},
   "source": [
    "$$\n",
    "\\eta(x) =  \n",
    "\\begin{cases} \n",
    "1 & \\mbox{if } x \\in [0,1/3]  \\\\\\\n",
    "2 & \\mbox{if } x \\in (1/3,2/3)  \\\\\\\n",
    "0 & \\mbox{if } x \\in (2/3,1]\n",
    "\\end{cases}\n",
    "$$"
   ]
  },
  {
   "cell_type": "markdown",
   "metadata": {},
   "source": [
    " Note that this problem is different from the previous two because the\n",
    "sets that characterize $\\eta$ are intervals instead of discrete points.\n",
    "Nonetheless, we will eventually have three values for $h(\\eta)$ because $\\eta\n",
    "\\mapsto \\{0,1,2\\}$. For $\\eta=1$, we have the orthogonal conditions,"
   ]
  },
  {
   "cell_type": "markdown",
   "metadata": {},
   "source": [
    "$$\n",
    "\\langle \\xi-h(1),1\\rangle = 0\n",
    "$$"
   ]
  },
  {
   "cell_type": "markdown",
   "metadata": {},
   "source": [
    " which boils down to"
   ]
  },
  {
   "cell_type": "markdown",
   "metadata": {},
   "source": [
    "$$\n",
    "\\mathbb{E}_{\\{x \\in [0,1/3]\\}}(\\xi-h(1))=0\n",
    "$$"
   ]
  },
  {
   "cell_type": "markdown",
   "metadata": {},
   "source": [
    "$$\n",
    "\\int_0^{\\frac{1}{3}}(2 x^2-h(1))dx = 0\n",
    "$$"
   ]
  },
  {
   "cell_type": "markdown",
   "metadata": {},
   "source": [
    " and then by solving this for $h(1)$ gives $h(1)=2/27$. This is the way\n",
    "Brzezniak works this problem. Alternatively, we can use $h(\\eta) =  a + b\\eta\n",
    "+ c\\eta^2$ and brute force calculus.  Note the the `Piecewise` object in\n",
    "`sympy` is not complete at this point in its development, so we'll have to be\n",
    "exceptionally verbose in the following,"
   ]
  },
  {
   "cell_type": "code",
   "execution_count": 7,
   "metadata": {
    "ExecuteTime": {
     "end_time": "2018-09-24T13:15:20.887630Z",
     "start_time": "2018-09-24T13:15:20.331501Z"
    }
   },
   "outputs": [],
   "source": [
    "import sympy as S"
   ]
  },
  {
   "cell_type": "code",
   "execution_count": 9,
   "metadata": {
    "ExecuteTime": {
     "end_time": "2018-09-24T13:15:35.667745Z",
     "start_time": "2018-09-24T13:15:35.642024Z"
    }
   },
   "outputs": [],
   "source": [
    "S.init_printing()"
   ]
  },
  {
   "cell_type": "code",
   "execution_count": 10,
   "metadata": {
    "ExecuteTime": {
     "end_time": "2018-09-24T13:15:39.674071Z",
     "start_time": "2018-09-24T13:15:36.993302Z"
    }
   },
   "outputs": [
    {
     "data": {
      "image/png": "[encoded data removed]",
      "text/latex": [
       "$$\\left \\{ a : \\frac{38}{27}, \\quad b : - \\frac{20}{9}, \\quad c : \\frac{8}{9}\\right \\}$$"
      ],
      "text/plain": [
       "⎧   38                  ⎫\n",
       "⎨a: ──, b: -20/9, c: 8/9⎬\n",
       "⎩   27                  ⎭"
      ]
     },
     "execution_count": 10,
     "metadata": {},
     "output_type": "execute_result"
    }
   ],
   "source": [
    "x,c,b,a=S.symbols('x,c,b,a')\n",
    "xi = 2*x**2\n",
    "\n",
    "eta=S.Piecewise((1,S.And(S.Gt(x,0),\n",
    "                         S.Lt(x,S.Rational(1,3)))),  #  0 < x < 1/3\n",
    "                (2,S.And(S.Gt(x,S.Rational(1,3)),\n",
    "                         S.Lt(x,S.Rational(2,3)))), # 1/3 < x < 2/3,\n",
    "                (0,S.And(S.Gt(x,S.Rational(2,3)),\n",
    "                         S.Lt(x,1)))) # 1/3 < x < 2/3\n",
    "\n",
    "h = a + b*eta + c*eta**2 \n",
    "J = S.integrate((xi-h)**2,(x,0,1))\n",
    "sol = S.solve([S.diff(J,a), \n",
    "              S.diff(J,b),\n",
    "              S.diff(J,c),\n",
    "              ],\n",
    "              (a,b,c))\n",
    "sol"
   ]
  },
  {
   "cell_type": "code",
   "execution_count": 11,
   "metadata": {
    "ExecuteTime": {
     "end_time": "2018-09-24T17:45:33.496127Z",
     "start_time": "2018-09-24T17:45:30.388267Z"
    }
   },
   "outputs": [
    {
     "data": {
      "image/png": "[encoded data removed]",
      "text/latex": [
       "$$\\begin{cases} \\frac{2}{27} & \\text{for}\\: x > 0 \\wedge x < \\frac{1}{3} \\\\\\frac{14}{27} & \\text{for}\\: x > \\frac{1}{3} \\wedge x < \\frac{2}{3} \\\\\\frac{38}{27} & \\text{for}\\: x > \\frac{2}{3} \\wedge x < 1 \\end{cases}$$"
      ],
      "text/plain": [
       "⎧2/27   for x > 0 ∧ x < 1/3 \n",
       "⎪                           \n",
       "⎪ 14                        \n",
       "⎪ ──   for x > 1/3 ∧ x < 2/3\n",
       "⎨ 27                        \n",
       "⎪                           \n",
       "⎪ 38                        \n",
       "⎪ ──    for x > 2/3 ∧ x < 1 \n",
       "⎩ 27                        "
      ]
     },
     "execution_count": 11,
     "metadata": {},
     "output_type": "execute_result"
    }
   ],
   "source": [
    "S.piecewise_fold(h.subs(sol))"
   ]
  },
  {
   "cell_type": "markdown",
   "metadata": {},
   "source": [
    "  Thus, collecting this result gives:"
   ]
  },
  {
   "cell_type": "markdown",
   "metadata": {},
   "source": [
    "$$\n",
    "\\mathbb{E}(\\xi|\\eta) = \\frac{38}{27} - \\frac{20}{9}\\eta + \\frac{8}{9} \\eta^2\n",
    "$$"
   ]
  },
  {
   "cell_type": "markdown",
   "metadata": {},
   "source": [
    "  which can be re-written as a piecewise function of x,"
   ]
  },
  {
   "cell_type": "markdown",
   "metadata": {},
   "source": [
    "<!-- Equation labels as ordinary links -->\n",
    "<div id=\"eq:ex23a\"></div>\n",
    "\n",
    "$$\n",
    "\\begin{equation}\n",
    "\\mathbb{E}(\\xi|\\eta(x)) =\\begin{cases} \\frac{2}{27} & \\text{for}\\: 0 < x < \\frac{1}{3} \\\\\\frac{14}{27} & \\text{for}\\: \\frac{1}{3} < x < \\frac{2}{3} \\\\\\frac{38}{27} & \\text{for}\\: \\frac{2}{3}<x < 1 \\end{cases} \n",
    "\\end{equation}\n",
    "\\label{eq:ex23a} \\tag{5}\n",
    "$$"
   ]
  },
  {
   "cell_type": "markdown",
   "metadata": {},
   "source": [
    "Alternatively, we can use the orthogonal inner product conditions directly by\n",
    "choosing $h(\\eta)=c+\\eta b +\\eta^2 a$,"
   ]
  },
  {
   "cell_type": "markdown",
   "metadata": {},
   "source": [
    "<!-- Equation labels as ordinary links -->\n",
    "<div id=\"eq:ex23b\"></div>\n",
    "\n",
    "$$\n",
    "\\begin{align*}\n",
    "\\langle \\xi-h(\\eta),1\\rangle = 0 \\\\\\\n",
    "\\langle \\xi-h(\\eta),\\eta\\rangle = 0 \\\\\\\n",
    "\\langle \\xi-h(\\eta),\\eta^2\\rangle = 0 \n",
    "\\end{align*}\n",
    "\\label{eq:ex23b} \\tag{6}\n",
    "$$"
   ]
  },
  {
   "cell_type": "markdown",
   "metadata": {},
   "source": [
    " and then solving for $a$,$b$, and $c$."
   ]
  },
  {
   "cell_type": "code",
   "execution_count": 16,
   "metadata": {
    "ExecuteTime": {
     "end_time": "2018-09-24T18:03:37.875880Z",
     "start_time": "2018-09-24T18:03:37.615952Z"
    }
   },
   "outputs": [],
   "source": [
    "x,a,b,c,eta = S.symbols('x,a,b,c,eta',real=True)\n",
    "xi  = 2*x**2\n",
    "eta = S.Piecewise((1,S.And(S.Gt(x,0),\n",
    "                S.Lt(x,S.Rational(1,3)))),  #  0 < x < 1/3\n",
    "                (2,S.And(S.Gt(x,S.Rational(1,3)),\n",
    "                S.Lt(x,S.Rational(2,3)))), # 1/3 < x < 2/3,\n",
    "                (0,S.And(S.Gt(x,S.Rational(2,3)),\n",
    "                S.Lt(x,1)))) # 1/3 < x < 2/3\n",
    "\n",
    "h = c+b*eta+a*eta**2"
   ]
  },
  {
   "cell_type": "markdown",
   "metadata": {},
   "source": [
    " Then, the orthogonal conditions become,"
   ]
  },
  {
   "cell_type": "code",
   "execution_count": 17,
   "metadata": {
    "ExecuteTime": {
     "end_time": "2018-09-24T18:03:41.146981Z",
     "start_time": "2018-09-24T18:03:39.164936Z"
    }
   },
   "outputs": [
    {
     "data": {
      "image/png": "[encoded data removed]",
      "text/latex": [
       "$$- \\frac{5 a}{3} - b - c + \\frac{2}{3}$$"
      ],
      "text/plain": [
       "  5⋅a           2\n",
       "- ─── - b - c + ─\n",
       "   3            3"
      ]
     },
     "execution_count": 17,
     "metadata": {},
     "output_type": "execute_result"
    }
   ],
   "source": [
    "S.integrate((xi-h)*1,(x,0,1))"
   ]
  },
  {
   "cell_type": "code",
   "execution_count": 18,
   "metadata": {
    "ExecuteTime": {
     "end_time": "2018-09-24T18:03:45.756887Z",
     "start_time": "2018-09-24T18:03:42.775683Z"
    }
   },
   "outputs": [
    {
     "data": {
      "image/png": "[encoded data removed]",
      "text/latex": [
       "$$- 3 a - \\frac{5 b}{3} - c + \\frac{10}{27}$$"
      ],
      "text/plain": [
       "       5⋅b       10\n",
       "-3⋅a - ─── - c + ──\n",
       "        3        27"
      ]
     },
     "execution_count": 18,
     "metadata": {},
     "output_type": "execute_result"
    }
   ],
   "source": [
    "S.integrate((xi-h)*eta,(x,0,1))"
   ]
  },
  {
   "cell_type": "code",
   "execution_count": 19,
   "metadata": {
    "ExecuteTime": {
     "end_time": "2018-09-24T18:03:50.069056Z",
     "start_time": "2018-09-24T18:03:47.081980Z"
    }
   },
   "outputs": [
    {
     "data": {
      "image/png": "[encoded data removed]",
      "text/latex": [
       "$$- \\frac{17 a}{3} - 3 b - \\frac{5 c}{3} + \\frac{58}{81}$$"
      ],
      "text/plain": [
       "  17⋅a         5⋅c   58\n",
       "- ──── - 3⋅b - ─── + ──\n",
       "   3            3    81"
      ]
     },
     "execution_count": 19,
     "metadata": {},
     "output_type": "execute_result"
    }
   ],
   "source": [
    "S.integrate((xi-h)*eta**2,(x,0,1))"
   ]
  },
  {
   "cell_type": "markdown",
   "metadata": {},
   "source": [
    " Now, we just combine the three equations and solve\n",
    "for the parameters,"
   ]
  },
  {
   "cell_type": "code",
   "execution_count": 20,
   "metadata": {
    "ExecuteTime": {
     "end_time": "2018-09-24T18:04:04.980098Z",
     "start_time": "2018-09-24T18:04:04.732565Z"
    }
   },
   "outputs": [
    {
     "data": {
      "image/png": "[encoded data removed]",
      "text/latex": [
       "$$\\left \\{ a : 0.888888888888889, \\quad b : -2.22222222222222, \\quad c : 1.40740740740741\\right \\}$$"
      ],
      "text/plain": [
       "{a: 0.888888888888889, b: -2.22222222222222, c: 1.40740740740741}"
      ]
     },
     "execution_count": 20,
     "metadata": {},
     "output_type": "execute_result"
    }
   ],
   "source": [
    "eqs=[ -5*a/3 - b - c + 2/3,\n",
    "      -3*a - 5*b/3 - c + 10/27,\n",
    "      -17*a/3 - 3*b - 5*c/3 + 58/81]\n",
    "sol=S.solve(eqs)\n",
    "sol"
   ]
  },
  {
   "cell_type": "markdown",
   "metadata": {},
   "source": [
    " We can assemble the final result by substituting in the solution,"
   ]
  },
  {
   "cell_type": "code",
   "execution_count": 21,
   "metadata": {
    "ExecuteTime": {
     "end_time": "2018-09-24T18:04:15.089352Z",
     "start_time": "2018-09-24T18:04:12.385262Z"
    }
   },
   "outputs": [
    {
     "data": {
      "image/png": "[encoded data removed]",
      "text/latex": [
       "$$\\begin{cases} 0.074074074074074 & \\text{for}\\: x > 0 \\wedge x < \\frac{1}{3} \\\\0.518518518518518 & \\text{for}\\: x > \\frac{1}{3} \\wedge x < \\frac{2}{3} \\\\1.40740740740741 & \\text{for}\\: x > \\frac{2}{3} \\wedge x < 1 \\end{cases}$$"
      ],
      "text/plain": [
       "⎧0.074074074074074   for x > 0 ∧ x < 1/3 \n",
       "⎪                                        \n",
       "⎨0.518518518518518  for x > 1/3 ∧ x < 2/3\n",
       "⎪                                        \n",
       "⎩1.40740740740741    for x > 2/3 ∧ x < 1 "
      ]
     },
     "execution_count": 21,
     "metadata": {},
     "output_type": "execute_result"
    }
   ],
   "source": [
    "S.piecewise_fold(h.subs(sol))"
   ]
  },
  {
   "cell_type": "markdown",
   "metadata": {},
   "source": [
    " which is the same as our analytic result in Equation ref{eq:ex23a},\n",
    "just in decimal format.\n"
   ]
  },
  {
   "cell_type": "code",
   "execution_count": 23,
   "metadata": {
    "ExecuteTime": {
     "end_time": "2018-09-24T18:05:45.944899Z",
     "start_time": "2018-09-24T18:05:45.746873Z"
    }
   },
   "outputs": [
    {
     "data": {
      "image/png": "[encoded data removed]",
      "text/latex": [
       "$$\\left ( 0.07407407407407407, \\quad 0.5185185185185185, \\quad 1.4074074074074074\\right )$$"
      ],
      "text/plain": [
       "(0.07407407407407407, 0.5185185185185185, 1.4074074074074074)"
      ]
     },
     "execution_count": 23,
     "metadata": {},
     "output_type": "execute_result"
    }
   ],
   "source": [
    "(2/27.,14/27.,38/27.)"
   ]
  },
  {
   "cell_type": "markdown",
   "metadata": {},
   "source": [
    "**Programming Tip.**\n",
    "\n",
    "The definition of Sympy's piecewise function is verbose because of the way\n",
    "Python parses inequality statements. As of this writing, this has not been\n",
    "reconciled in Sympy, so we have to use the verbose declaration.\n",
    "\n",
    "\n",
    "\n",
    "To reinforce our result, let's do a quick simulation using Pandas."
   ]
  },
  {
   "cell_type": "code",
   "execution_count": 14,
   "metadata": {
    "ExecuteTime": {
     "end_time": "2018-09-24T18:00:31.296790Z",
     "start_time": "2018-09-24T18:00:31.266024Z"
    }
   },
   "outputs": [],
   "source": [
    "d = pd.DataFrame(columns=['x','eta','xi'])\n",
    "d.x = np.random.rand(1000)\n",
    "d.xi = 2*d.x**2"
   ]
  },
  {
   "cell_type": "code",
   "execution_count": 140,
   "metadata": {
    "ExecuteTime": {
     "end_time": "2018-09-12T15:23:22.827964Z",
     "start_time": "2018-09-12T15:23:22.798901Z"
    }
   },
   "outputs": [
    {
     "data": {
      "text/html": [
       "<div>\n",
       "<style scoped>\n",
       "    .dataframe tbody tr th:only-of-type {\n",
       "        vertical-align: middle;\n",
       "    }\n",
       "\n",
       "    .dataframe tbody tr th {\n",
       "        vertical-align: top;\n",
       "    }\n",
       "\n",
       "    .dataframe thead th {\n",
       "        text-align: right;\n",
       "    }\n",
       "</style>\n",
       "<table border=\"1\" class=\"dataframe\">\n",
       "  <thead>\n",
       "    <tr style=\"text-align: right;\">\n",
       "      <th></th>\n",
       "      <th>x</th>\n",
       "      <th>eta</th>\n",
       "      <th>xi</th>\n",
       "    </tr>\n",
       "  </thead>\n",
       "  <tbody>\n",
       "    <tr>\n",
       "      <th>0</th>\n",
       "      <td>0.707187</td>\n",
       "      <td>NaN</td>\n",
       "      <td>1.000226</td>\n",
       "    </tr>\n",
       "    <tr>\n",
       "      <th>1</th>\n",
       "      <td>0.117049</td>\n",
       "      <td>NaN</td>\n",
       "      <td>0.027401</td>\n",
       "    </tr>\n",
       "    <tr>\n",
       "      <th>2</th>\n",
       "      <td>0.597005</td>\n",
       "      <td>NaN</td>\n",
       "      <td>0.712830</td>\n",
       "    </tr>\n",
       "    <tr>\n",
       "      <th>3</th>\n",
       "      <td>0.742734</td>\n",
       "      <td>NaN</td>\n",
       "      <td>1.103309</td>\n",
       "    </tr>\n",
       "    <tr>\n",
       "      <th>4</th>\n",
       "      <td>0.168305</td>\n",
       "      <td>NaN</td>\n",
       "      <td>0.056653</td>\n",
       "    </tr>\n",
       "    <tr>\n",
       "      <th>...</th>\n",
       "      <td>...</td>\n",
       "      <td>...</td>\n",
       "      <td>...</td>\n",
       "    </tr>\n",
       "    <tr>\n",
       "      <th>995</th>\n",
       "      <td>0.583087</td>\n",
       "      <td>NaN</td>\n",
       "      <td>0.679981</td>\n",
       "    </tr>\n",
       "    <tr>\n",
       "      <th>996</th>\n",
       "      <td>0.314911</td>\n",
       "      <td>NaN</td>\n",
       "      <td>0.198338</td>\n",
       "    </tr>\n",
       "    <tr>\n",
       "      <th>997</th>\n",
       "      <td>0.252599</td>\n",
       "      <td>NaN</td>\n",
       "      <td>0.127613</td>\n",
       "    </tr>\n",
       "    <tr>\n",
       "      <th>998</th>\n",
       "      <td>0.058065</td>\n",
       "      <td>NaN</td>\n",
       "      <td>0.006743</td>\n",
       "    </tr>\n",
       "    <tr>\n",
       "      <th>999</th>\n",
       "      <td>0.733162</td>\n",
       "      <td>NaN</td>\n",
       "      <td>1.075054</td>\n",
       "    </tr>\n",
       "  </tbody>\n",
       "</table>\n",
       "<p>1000 rows × 3 columns</p>\n",
       "</div>"
      ],
      "text/plain": [
       "            x  eta        xi\n",
       "0    0.707187  NaN  1.000226\n",
       "1    0.117049  NaN  0.027401\n",
       "2    0.597005  NaN  0.712830\n",
       "3    0.742734  NaN  1.103309\n",
       "4    0.168305  NaN  0.056653\n",
       "..        ...  ...       ...\n",
       "995  0.583087  NaN  0.679981\n",
       "996  0.314911  NaN  0.198338\n",
       "997  0.252599  NaN  0.127613\n",
       "998  0.058065  NaN  0.006743\n",
       "999  0.733162  NaN  1.075054\n",
       "\n",
       "[1000 rows x 3 columns]"
      ]
     },
     "execution_count": 140,
     "metadata": {},
     "output_type": "execute_result"
    }
   ],
   "source": [
    "d"
   ]
  },
  {
   "cell_type": "markdown",
   "metadata": {},
   "source": [
    " Now, we can use the `pd.cut` function to group the `x`\n",
    "values in the following,"
   ]
  },
  {
   "cell_type": "code",
   "execution_count": 26,
   "metadata": {
    "ExecuteTime": {
     "end_time": "2018-09-24T18:07:01.693028Z",
     "start_time": "2018-09-24T18:07:01.682952Z"
    }
   },
   "outputs": [
    {
     "data": {
      "text/plain": [
       "0    0.778509\n",
       "1    0.304068\n",
       "2    0.331464\n",
       "3    0.766732\n",
       "4    0.711788\n",
       "Name: x, dtype: float64"
      ]
     },
     "execution_count": 26,
     "metadata": {},
     "output_type": "execute_result"
    }
   ],
   "source": [
    "d.x.head()"
   ]
  },
  {
   "cell_type": "code",
   "execution_count": 27,
   "metadata": {
    "ExecuteTime": {
     "end_time": "2018-09-24T18:07:05.910796Z",
     "start_time": "2018-09-24T18:07:05.893664Z"
    }
   },
   "outputs": [
    {
     "data": {
      "text/plain": [
       "0    (0.667, 1.0]\n",
       "1    (0.0, 0.333]\n",
       "2    (0.0, 0.333]\n",
       "3    (0.667, 1.0]\n",
       "4    (0.667, 1.0]\n",
       "Name: x, dtype: category\n",
       "Categories (3, interval[float64]): [(0.0, 0.333] < (0.333, 0.667] < (0.667, 1.0]]"
      ]
     },
     "execution_count": 27,
     "metadata": {},
     "output_type": "execute_result"
    }
   ],
   "source": [
    "pd.cut(d.x,[0,1/3,2/3,1]).head()"
   ]
  },
  {
   "cell_type": "markdown",
   "metadata": {},
   "source": [
    " Note that the `head()` call above is only to limit the printout shown.\n",
    "The categories listed are each of the intervals for `eta` that we specified\n",
    "using the `[0,1/3,2/3,1]` list. Now that we know how to use `pd.cut`, we\n",
    "can just compute the mean on each group as shown below,"
   ]
  },
  {
   "cell_type": "code",
   "execution_count": 29,
   "metadata": {
    "ExecuteTime": {
     "end_time": "2018-09-24T18:10:20.751204Z",
     "start_time": "2018-09-24T18:10:20.719844Z"
    }
   },
   "outputs": [
    {
     "data": {
      "text/plain": [
       "x\n",
       "(0.0, 0.333]      0.073592\n",
       "(0.333, 0.667]    0.516291\n",
       "(0.667, 1.0]      1.396501\n",
       "Name: xi, dtype: float64"
      ]
     },
     "execution_count": 29,
     "metadata": {},
     "output_type": "execute_result"
    }
   ],
   "source": [
    "d.groupby(pd.cut(d.x,[0,1/3,2/3,1])).mean()['xi']"
   ]
  },
  {
   "cell_type": "markdown",
   "metadata": {},
   "source": [
    " which is pretty close to our analytic result in Equation\n",
    "ref{eq:ex23a}."
   ]
  },
  {
   "cell_type": "code",
   "execution_count": 30,
   "metadata": {
    "ExecuteTime": {
     "end_time": "2018-09-24T18:10:42.182957Z",
     "start_time": "2018-09-24T18:10:41.971658Z"
    }
   },
   "outputs": [
    {
     "data": {
      "image/png": "[encoded data removed]",
      "text/latex": [
       "$$\\left ( 0.07407407407407407, \\quad 0.5185185185185185, \\quad 1.4074074074074074\\right )$$"
      ],
      "text/plain": [
       "(0.07407407407407407, 0.5185185185185185, 1.4074074074074074)"
      ]
     },
     "execution_count": 30,
     "metadata": {},
     "output_type": "execute_result"
    }
   ],
   "source": [
    "(2/27.,14/27.,38/27.)"
   ]
  },
  {
   "cell_type": "markdown",
   "metadata": {},
   "source": [
    "Alternatively, `sympy.stats` has some limited tools for the same\n",
    "calculation."
   ]
  },
  {
   "cell_type": "code",
   "execution_count": 31,
   "metadata": {
    "ExecuteTime": {
     "end_time": "2018-09-24T18:10:56.210232Z",
     "start_time": "2018-09-24T18:10:56.146782Z"
    }
   },
   "outputs": [],
   "source": [
    "from sympy.stats import E, Uniform\n",
    "x=Uniform('x',0,1)"
   ]
  },
  {
   "cell_type": "code",
   "execution_count": 32,
   "metadata": {
    "ExecuteTime": {
     "end_time": "2018-09-24T18:11:36.344225Z",
     "start_time": "2018-09-24T18:11:34.964534Z"
    }
   },
   "outputs": [
    {
     "data": {
      "image/png": "[encoded data removed]",
      "text/latex": [
       "$$\\frac{2}{27}$$"
      ],
      "text/plain": [
       "2/27"
      ]
     },
     "execution_count": 32,
     "metadata": {},
     "output_type": "execute_result"
    }
   ],
   "source": [
    "E(2*x**2,S.And(x < S.Rational(1,3), x > 0))"
   ]
  },
  {
   "cell_type": "code",
   "execution_count": 33,
   "metadata": {
    "ExecuteTime": {
     "end_time": "2018-09-24T18:11:37.709836Z",
     "start_time": "2018-09-24T18:11:36.348123Z"
    }
   },
   "outputs": [
    {
     "data": {
      "image/png": "[encoded data removed]",
      "text/latex": [
       "$$\\frac{14}{27}$$"
      ],
      "text/plain": [
       "14\n",
       "──\n",
       "27"
      ]
     },
     "execution_count": 33,
     "metadata": {},
     "output_type": "execute_result"
    }
   ],
   "source": [
    "E(2*x**2,S.And(x < S.Rational(2,3), x > S.Rational(1,3)))"
   ]
  },
  {
   "cell_type": "code",
   "execution_count": 34,
   "metadata": {
    "ExecuteTime": {
     "end_time": "2018-09-24T18:11:39.035557Z",
     "start_time": "2018-09-24T18:11:37.713540Z"
    }
   },
   "outputs": [
    {
     "data": {
      "image/png": "[encoded data removed]",
      "text/latex": [
       "$$\\frac{38}{27}$$"
      ],
      "text/plain": [
       "38\n",
       "──\n",
       "27"
      ]
     },
     "execution_count": 34,
     "metadata": {},
     "output_type": "execute_result"
    }
   ],
   "source": [
    "E(2*x**2,S.And(x < 1, x > S.Rational(2,3)))"
   ]
  },
  {
   "cell_type": "markdown",
   "metadata": {},
   "source": [
    " which again gives the same result still another way.\n",
    "\n",
    "## Example\n",
    "\n",
    "This is Example 2.4 from Brzezniak. Find $\\mathbb{E}(\\xi|\\eta)$ for"
   ]
  },
  {
   "cell_type": "markdown",
   "metadata": {},
   "source": [
    "$$\n",
    "\\xi(x) = 2 x^2\n",
    "$$"
   ]
  },
  {
   "cell_type": "markdown",
   "metadata": {},
   "source": [
    "<!-- Equation labels as ordinary links -->\n",
    "<div id=\"eq:ex24\"></div>\n",
    "\n",
    "$$\n",
    "\\eta =\n",
    "\\begin{cases} \n",
    "2 & \\mbox{if } 0 \\le x < \\frac{1}{2} \\\\ \n",
    "x & \\mbox{if } \\frac{1}{2} < x \\le 1\n",
    "\\end{cases} \n",
    "\\label{eq:ex24} \\tag{7}\n",
    "$$"
   ]
  },
  {
   "cell_type": "markdown",
   "metadata": {},
   "source": [
    " Once again, $X$ is uniformly distributed on the unit interval. Note\n",
    "that $\\eta$ is no longer discrete for every domain. For the domain $0 <x <\n",
    "1/2$, $h(2)$ takes on only one value, say, $h_0$. For this domain, the\n",
    "orthogonal condition becomes,"
   ]
  },
  {
   "cell_type": "markdown",
   "metadata": {},
   "source": [
    "$$\n",
    "\\mathbb{E}_{\\{\\eta=2\\}}((\\xi(x)-h_0)2)=0\n",
    "$$"
   ]
  },
  {
   "cell_type": "markdown",
   "metadata": {},
   "source": [
    " which simplifies to,"
   ]
  },
  {
   "cell_type": "markdown",
   "metadata": {},
   "source": [
    "$$\n",
    "\\begin{align*}\n",
    "\\int_0^{1/2} (2 x^2-h_0)dx &= 0 \\\\\\\n",
    "\\int_0^{1/2} 2 x^2 dx &= \\int_0^{1/2} h_0 dx \\\\\\\n",
    "h_0 &= 2 \\int_0^{1/2} 2 x^2 dx \\\\\\\n",
    "h_0 &= \\frac{1}{6}\n",
    "\\end{align*}\n",
    "$$"
   ]
  },
  {
   "cell_type": "markdown",
   "metadata": {},
   "source": [
    "For the other domain where $\\{\\eta=x\\}$ in Equation ref{eq:ex24}, we again \n",
    "use the orthogonal condition,"
   ]
  },
  {
   "cell_type": "markdown",
   "metadata": {},
   "source": [
    "$$\n",
    "\\begin{align*}\n",
    "\\mathbb{E}_{\\{\\eta=x\\}}((\\xi(x)-h(x))x)&=0 \\\\\\\n",
    "\\int_{1/2}^1 (2x^2-h(x)) x dx &=0 \\\\\\\n",
    "h(x) &= 2x^2\n",
    "\\end{align*}\n",
    "$$"
   ]
  },
  {
   "cell_type": "markdown",
   "metadata": {},
   "source": [
    " Assembling the solution gives,"
   ]
  },
  {
   "cell_type": "markdown",
   "metadata": {},
   "source": [
    "$$\n",
    "\\mathbb{E}(\\xi|\\eta(x)) =\\begin{cases} \\frac{1}{6} & \\text{for}\\: 0 \\le x < \\frac{1}{2} \\\\ 2 x^2 & \\text{for}\\: \\frac{1}{2} < x \\le 1 \\end{cases}\n",
    "$$"
   ]
  },
  {
   "cell_type": "markdown",
   "metadata": {},
   "source": [
    " although  this result is not explicitly written as a function of $\\eta$.  \n",
    "\n",
    "## Example\n",
    "\n",
    "This is Exercise 2.6 in Brzezniak. Find $\\mathbb{E}(\\xi|\\eta)$ where"
   ]
  },
  {
   "cell_type": "markdown",
   "metadata": {},
   "source": [
    "$$\n",
    "\\xi(x) = 2 x^2\n",
    "$$"
   ]
  },
  {
   "cell_type": "markdown",
   "metadata": {},
   "source": [
    "$$\n",
    "\\eta(x) = 1 - \\lvert 2 x-1 \\rvert\n",
    "$$"
   ]
  },
  {
   "cell_type": "markdown",
   "metadata": {},
   "source": [
    " and $X$ is uniformly distributed in the unit interval. We\n",
    "can write this out as a piecewise function in the following,"
   ]
  },
  {
   "cell_type": "markdown",
   "metadata": {},
   "source": [
    "$$\n",
    "\\eta =\\begin{cases} 2 x & \\text{for}\\: 0 \\le x < \\frac{1}{2} \\\\ 2 -2x & \\text{for}\\: \\frac{1}{2} < x \\le 1 \\end{cases}\n",
    "$$"
   ]
  },
  {
   "cell_type": "markdown",
   "metadata": {},
   "source": [
    " The discontinuity is at $x=1/2$. Let's start with the $\\{\\eta=2x\\}$ domain."
   ]
  },
  {
   "cell_type": "markdown",
   "metadata": {},
   "source": [
    "$$\n",
    "\\begin{align*}\n",
    "\\mathbb{E}_{\\{\\eta=2x\\}}((2 x^2-h(2 x)) 2 x)& = 0 \\\\\\\n",
    "\\int_{0}^{1/2} (2x^2-h(2 x) ) 2 x dx &=0 \n",
    "\\end{align*}\n",
    "$$"
   ]
  },
  {
   "cell_type": "markdown",
   "metadata": {},
   "source": [
    " We can make this explicitly a function of $\\eta$ by a change\n",
    "of variables ($\\eta=2x$) which gives"
   ]
  },
  {
   "cell_type": "markdown",
   "metadata": {},
   "source": [
    "$$\n",
    "\\int_{0}^{1} (\\eta^2/2-h(\\eta))\\frac{\\eta}{2} d\\eta =0\n",
    "$$"
   ]
  },
  {
   "cell_type": "markdown",
   "metadata": {},
   "source": [
    " Thus, for this domain, $h(\\eta)=\\eta^2/2$. Note that due to the\n",
    "change of variables, $h(\\eta)$ is valid defined over $\\eta\\in[0,1]$.\n",
    "\n",
    "For the other domain where $\\{\\eta=2-2x\\}$, we have"
   ]
  },
  {
   "cell_type": "markdown",
   "metadata": {},
   "source": [
    "$$\n",
    "\\begin{align*}\n",
    "\\mathbb{E}_{\\{\\eta=2-2x\\}}((2 x^2-h(2-2x)) (2-2x))& = 0 \\\\\\\n",
    "\\int_{1/2}^{1} (2 x^2-h(2-2x) ) (2-2x) dx &=0 \n",
    "\\end{align*}\n",
    "$$"
   ]
  },
  {
   "cell_type": "markdown",
   "metadata": {},
   "source": [
    " Once again, a change of variables makes the $ \\eta$ dependency \n",
    "explicit using $\\eta=2-2x$ which gives"
   ]
  },
  {
   "cell_type": "markdown",
   "metadata": {},
   "source": [
    "$$\n",
    "\\begin{align*}\n",
    "\\int_{0}^{1} ((2-\\eta)^2/2-h(\\eta) ) \\frac{\\eta}{2} d\\eta &=0 \\\\\\\n",
    "h(\\eta) &= (2-\\eta)^2/2 \n",
    "\\end{align*}\n",
    "$$"
   ]
  },
  {
   "cell_type": "markdown",
   "metadata": {},
   "source": [
    " Once again, the change of variables means this solution is valid\n",
    "over $\\eta\\in[0,1]$. Thus, because both pieces are valid over the\n",
    "same domain ($\\eta\\in[0,1]$), we can just add them to get the final solution,"
   ]
  },
  {
   "cell_type": "markdown",
   "metadata": {},
   "source": [
    "$$\n",
    "h(\\eta) = \\eta^2-2\\eta+2\n",
    "$$"
   ]
  },
  {
   "cell_type": "markdown",
   "metadata": {},
   "source": [
    " A quick simulation can help bear this out."
   ]
  },
  {
   "cell_type": "code",
   "execution_count": 35,
   "metadata": {
    "ExecuteTime": {
     "end_time": "2018-09-24T19:21:10.080025Z",
     "start_time": "2018-09-24T19:21:10.026971Z"
    }
   },
   "outputs": [],
   "source": [
    "from pandas import DataFrame\n",
    "import numpy as np\n",
    "d = DataFrame(columns=['xi','eta','x','h','h1','h2'])\n",
    "\n",
    "# 100 random samples\n",
    "d.x = np.random.rand(100)\n",
    "d.xi = d.eval('2*x**2')\n",
    "d.eta =1-abs(2*d.x-1)\n",
    "\n",
    "d.h1=d[(d.x<0.5)].eval('eta**2/2')\n",
    "d.h2=d[(d.x>=0.5)].eval('(2-eta)**2/2')\n",
    "\n",
    "d.fillna(0,inplace=True)\n",
    "d.h = d.h1+d.h2"
   ]
  },
  {
   "cell_type": "code",
   "execution_count": 36,
   "metadata": {
    "ExecuteTime": {
     "end_time": "2018-09-24T19:21:11.571228Z",
     "start_time": "2018-09-24T19:21:11.542768Z"
    }
   },
   "outputs": [
    {
     "data": {
      "text/html": [
       "<div>\n",
       "<style scoped>\n",
       "    .dataframe tbody tr th:only-of-type {\n",
       "        vertical-align: middle;\n",
       "    }\n",
       "\n",
       "    .dataframe tbody tr th {\n",
       "        vertical-align: top;\n",
       "    }\n",
       "\n",
       "    .dataframe thead th {\n",
       "        text-align: right;\n",
       "    }\n",
       "</style>\n",
       "<table border=\"1\" class=\"dataframe\">\n",
       "  <thead>\n",
       "    <tr style=\"text-align: right;\">\n",
       "      <th></th>\n",
       "      <th>xi</th>\n",
       "      <th>eta</th>\n",
       "      <th>x</th>\n",
       "      <th>h</th>\n",
       "      <th>h1</th>\n",
       "      <th>h2</th>\n",
       "    </tr>\n",
       "  </thead>\n",
       "  <tbody>\n",
       "    <tr>\n",
       "      <th>0</th>\n",
       "      <td>0.017851</td>\n",
       "      <td>0.188949</td>\n",
       "      <td>0.094474</td>\n",
       "      <td>0.017851</td>\n",
       "      <td>0.017851</td>\n",
       "      <td>0.000000</td>\n",
       "    </tr>\n",
       "    <tr>\n",
       "      <th>1</th>\n",
       "      <td>0.985815</td>\n",
       "      <td>0.595853</td>\n",
       "      <td>0.702074</td>\n",
       "      <td>0.985815</td>\n",
       "      <td>0.000000</td>\n",
       "      <td>0.985815</td>\n",
       "    </tr>\n",
       "    <tr>\n",
       "      <th>2</th>\n",
       "      <td>0.001684</td>\n",
       "      <td>0.058031</td>\n",
       "      <td>0.029016</td>\n",
       "      <td>0.001684</td>\n",
       "      <td>0.001684</td>\n",
       "      <td>0.000000</td>\n",
       "    </tr>\n",
       "    <tr>\n",
       "      <th>3</th>\n",
       "      <td>0.234316</td>\n",
       "      <td>0.684567</td>\n",
       "      <td>0.342284</td>\n",
       "      <td>0.234316</td>\n",
       "      <td>0.234316</td>\n",
       "      <td>0.000000</td>\n",
       "    </tr>\n",
       "    <tr>\n",
       "      <th>4</th>\n",
       "      <td>0.024008</td>\n",
       "      <td>0.219125</td>\n",
       "      <td>0.109562</td>\n",
       "      <td>0.024008</td>\n",
       "      <td>0.024008</td>\n",
       "      <td>0.000000</td>\n",
       "    </tr>\n",
       "    <tr>\n",
       "      <th>...</th>\n",
       "      <td>...</td>\n",
       "      <td>...</td>\n",
       "      <td>...</td>\n",
       "      <td>...</td>\n",
       "      <td>...</td>\n",
       "      <td>...</td>\n",
       "    </tr>\n",
       "    <tr>\n",
       "      <th>95</th>\n",
       "      <td>0.664411</td>\n",
       "      <td>0.847255</td>\n",
       "      <td>0.576373</td>\n",
       "      <td>0.664411</td>\n",
       "      <td>0.000000</td>\n",
       "      <td>0.664411</td>\n",
       "    </tr>\n",
       "    <tr>\n",
       "      <th>96</th>\n",
       "      <td>0.577535</td>\n",
       "      <td>0.925258</td>\n",
       "      <td>0.537371</td>\n",
       "      <td>0.577535</td>\n",
       "      <td>0.000000</td>\n",
       "      <td>0.577535</td>\n",
       "    </tr>\n",
       "    <tr>\n",
       "      <th>97</th>\n",
       "      <td>0.254727</td>\n",
       "      <td>0.713761</td>\n",
       "      <td>0.356881</td>\n",
       "      <td>0.254727</td>\n",
       "      <td>0.254727</td>\n",
       "      <td>0.000000</td>\n",
       "    </tr>\n",
       "    <tr>\n",
       "      <th>98</th>\n",
       "      <td>0.801529</td>\n",
       "      <td>0.733881</td>\n",
       "      <td>0.633060</td>\n",
       "      <td>0.801529</td>\n",
       "      <td>0.000000</td>\n",
       "      <td>0.801529</td>\n",
       "    </tr>\n",
       "    <tr>\n",
       "      <th>99</th>\n",
       "      <td>0.905246</td>\n",
       "      <td>0.654455</td>\n",
       "      <td>0.672773</td>\n",
       "      <td>0.905246</td>\n",
       "      <td>0.000000</td>\n",
       "      <td>0.905246</td>\n",
       "    </tr>\n",
       "  </tbody>\n",
       "</table>\n",
       "<p>100 rows × 6 columns</p>\n",
       "</div>"
      ],
      "text/plain": [
       "          xi       eta         x         h        h1        h2\n",
       "0   0.017851  0.188949  0.094474  0.017851  0.017851  0.000000\n",
       "1   0.985815  0.595853  0.702074  0.985815  0.000000  0.985815\n",
       "2   0.001684  0.058031  0.029016  0.001684  0.001684  0.000000\n",
       "3   0.234316  0.684567  0.342284  0.234316  0.234316  0.000000\n",
       "4   0.024008  0.219125  0.109562  0.024008  0.024008  0.000000\n",
       "..       ...       ...       ...       ...       ...       ...\n",
       "95  0.664411  0.847255  0.576373  0.664411  0.000000  0.664411\n",
       "96  0.577535  0.925258  0.537371  0.577535  0.000000  0.577535\n",
       "97  0.254727  0.713761  0.356881  0.254727  0.254727  0.000000\n",
       "98  0.801529  0.733881  0.633060  0.801529  0.000000  0.801529\n",
       "99  0.905246  0.654455  0.672773  0.905246  0.000000  0.905246\n",
       "\n",
       "[100 rows x 6 columns]"
      ]
     },
     "execution_count": 36,
     "metadata": {},
     "output_type": "execute_result"
    }
   ],
   "source": [
    "d"
   ]
  },
  {
   "cell_type": "markdown",
   "metadata": {},
   "source": [
    " Note that we have to be careful where we apply the individual\n",
    "solutions using the slice `(d.x<0.5)` index. The `fillna` part ensures that the\n",
    "default `NaN` that fills out the empty row-etries is replaced with zero before\n",
    "combining the individual solutions. Otherwise, the `NaN` values would circulate\n",
    "through the rest of the computation. The following is the\n",
    "essential code that draws [Figure](#fig:Conditional_expectation_MSE_005)."
   ]
  },
  {
   "cell_type": "code",
   "execution_count": 42,
   "metadata": {
    "ExecuteTime": {
     "end_time": "2018-09-24T19:26:52.151676Z",
     "start_time": "2018-09-24T19:26:51.824527Z"
    }
   },
   "outputs": [
    {
     "data": {
      "text/plain": [
       "Text(0,0.5,'$h(\\\\eta)$')"
      ]
     },
     "execution_count": 42,
     "metadata": {},
     "output_type": "execute_result"
    },
    {
     "data": {
      "image/png": "[encoded data removed]",
      "text/plain": [
       "<Figure size 504x504 with 1 Axes>"
      ]
     },
     "metadata": {},
     "output_type": "display_data"
    }
   ],
   "source": [
    "from matplotlib.pyplot import subplots\n",
    "\n",
    "fig, ax = subplots(figsize=(7,7))\n",
    "\n",
    "ax.plot(d.xi,d.eta,'.',alpha=.3,label='$\\eta$',ms=15)\n",
    "ax.plot(d.xi,d.h,'k.',label='$h(\\eta)$',ms=15)\n",
    "\n",
    "ax.legend(loc=0,fontsize=18)\n",
    "\n",
    "ax.set_xlabel('$2 x^2$',fontsize=18)\n",
    "ax.set_ylabel('$h(\\eta)$',fontsize=18)"
   ]
  },
  {
   "cell_type": "markdown",
   "metadata": {},
   "source": [
    "**Programming Tip.**\n",
    "\n",
    "Basic \\LaTeX{} formatting works for the labels in [Figure](#fig:Conditional_expectation_MSE_005).  The `loc=0` in the `legend`\n",
    "function is the code for the *best* placement for the labels in the legend. The\n",
    "individual labels should be specified when the elements are drawn individually,\n",
    "otherwise they will be hard to separate out later. This is accomplished using\n",
    "the `label` keyword in the `plot` commands."
   ]
  },
  {
   "cell_type": "code",
   "execution_count": 157,
   "metadata": {
    "ExecuteTime": {
     "end_time": "2018-09-12T15:39:32.054007Z",
     "start_time": "2018-09-12T15:39:31.689433Z"
    }
   },
   "outputs": [
    {
     "data": {
      "image/png": "[encoded data removed]",
      "text/plain": [
       "<Figure size 504x504 with 1 Axes>"
      ]
     },
     "metadata": {},
     "output_type": "display_data"
    }
   ],
   "source": [
    "from matplotlib.pyplot import subplots\n",
    "from pandas import DataFrame\n",
    "import numpy as np\n",
    "\n",
    "d = DataFrame(columns=['xi','eta','x','h','h1','h2'])\n",
    "# 100 random samples\n",
    "d.x = np.random.rand(100)\n",
    "d.xi = d.eval('2*x**2')\n",
    "d.eta =1-abs(2*d.x-1)\n",
    "d.h1=d[(d.x<0.5)].eval('eta**2/2')\n",
    "d.h2=d[(d.x>=0.5)].eval('(2-eta)**2/2')\n",
    "d.fillna(0,inplace=True)\n",
    "d.h = d.h1+d.h2\n",
    "\n",
    "fig,ax=subplots(figsize=(7,7))\n",
    "ax.plot(d.xi,d.eta,'.k',alpha=.3,label=r'$\\eta$')\n",
    "ax.plot(d.xi,d.h,'ks',label=r'$h(\\eta)$',alpha=.3)\n",
    "ax.set_aspect(1)\n",
    "ax.legend(loc=0,fontsize=18)\n",
    "ax.set_xlabel(r'$\\xi=2 x^2$',fontsize=24)\n",
    "ax.set_ylabel(r'$h(\\eta),\\eta$',fontsize=24)\n",
    "fig.tight_layout()\n",
    "#fig.savefig('fig-probability/Conditional_expectation_MSE_Ex_005.png')"
   ]
  },
  {
   "cell_type": "markdown",
   "metadata": {},
   "source": [
    "<!-- dom:FIGURE: [fig-probability/Conditional_expectation_MSE_Ex_005.png, width=500 frac=0.85]  The diagonal line shows where the conditional expectation equals the $\\xi$ function. <div id=\"fig:Conditional_expectation_MSE_005\"></div> -->\n",
    "<!-- begin figure -->\n",
    "<div id=\"fig:Conditional_expectation_MSE_005\"></div>\n",
    "\n",
    "<p>The diagonal line shows where the conditional expectation equals the $\\xi$ function.</p>\n",
    "<img src=\"fig-probability/Conditional_expectation_MSE_Ex_005.png\" width=500>\n",
    "\n",
    "<!-- end figure -->\n",
    "\n",
    "\n",
    "[Figure](#fig:Conditional_expectation_MSE_005) shows the $\\xi$ data plotted\n",
    "against $\\eta$ and $h(\\eta) = \\mathbb{E}(\\xi|\\eta)$. Points on the diagonal\n",
    "are points where $\\xi$ and $\\mathbb{E}(\\xi|\\eta)$ match. As shown by the  \n",
    "dots, there is no agreement between the raw $\\eta$ data and $\\xi$. Thus, one\n",
    "way to think about the conditional expectation is as a functional transform\n",
    "that bends the curve onto the diagonal line. The black dots plot $\\xi$\n",
    "versus $\\mathbb{E}(\\xi|\\eta)$ and the two match everywhere along the diagonal\n",
    "line. This is to be expected because the conditional expectation is the MSE\n",
    "best estimate for $\\xi$ among all functions of $\\eta$. \n",
    "\n",
    "## Example\n",
    "\n",
    "This is Exercise 2.14 from Brzezniak. Find $\\mathbb{E}(\\xi|\\eta)$ where"
   ]
  },
  {
   "cell_type": "markdown",
   "metadata": {},
   "source": [
    "$$\n",
    "\\xi(x) = 2 x^2\n",
    "$$"
   ]
  },
  {
   "cell_type": "markdown",
   "metadata": {},
   "source": [
    "$$\n",
    "\\eta =\n",
    "\\begin{cases} 2x & \\mbox{if } 0 \\le x < \\frac{1}{2} \\\\ 2x-1 & \\mbox{if } \\frac{1}{2} < x \\le 1 \\end{cases}\n",
    "$$"
   ]
  },
  {
   "cell_type": "markdown",
   "metadata": {},
   "source": [
    " and $X$ is uniformly distributed in the unit interval.  This is the\n",
    "same as the last example and the only difference here is that $\\eta$ is not\n",
    "continuous at $x=\\frac{1}{2}$, as before. The first part is exactly the same as\n",
    "the first part of the prior example so we will skip it here. The second part\n",
    "follows the same reasoning as the last example, so we will just write the\n",
    "answer for the $\\{\\eta = 2x-1\\}$ case as the following"
   ]
  },
  {
   "cell_type": "markdown",
   "metadata": {},
   "source": [
    "$$\n",
    "h(\\eta)=\\frac{(1+\\eta)^2}{2} , \\: \\forall \\eta \\: \\in [0,1]\n",
    "$$"
   ]
  },
  {
   "cell_type": "markdown",
   "metadata": {},
   "source": [
    "  and then adding these up as before gives the full solution:"
   ]
  },
  {
   "cell_type": "markdown",
   "metadata": {},
   "source": [
    "$$\n",
    "h(\\eta)= \\frac{1}{2} +\\eta + \\eta^2\n",
    "$$"
   ]
  },
  {
   "cell_type": "markdown",
   "metadata": {},
   "source": [
    " The interesting part about this example is shown in [Figure](#fig:Conditional_expectation_MSE_006). The dots show where $\\eta$ is\n",
    "discontinuous and yet the $h(\\eta)=\\mathbb{E}(\\xi|\\eta)$ solution is equal to\n",
    "$\\xi$ (i.e., matches the diagonal). This illustrates the power of the orthogonal\n",
    "inner product technique, which does not need continuity or complex\n",
    "set-theoretic arguments to calculate solutions. By contrast, I urge you to\n",
    "consider Brzezniak's solution to this problem which requires such  methods."
   ]
  },
  {
   "cell_type": "code",
   "execution_count": 158,
   "metadata": {
    "ExecuteTime": {
     "end_time": "2018-09-12T15:39:42.388815Z",
     "start_time": "2018-09-12T15:39:42.117015Z"
    }
   },
   "outputs": [
    {
     "data": {
      "image/png": "[encoded data removed]",
      "text/plain": [
       "<Figure size 504x504 with 1 Axes>"
      ]
     },
     "metadata": {},
     "output_type": "display_data"
    }
   ],
   "source": [
    "d = DataFrame(columns=['xi','eta','x','h','h1','h2'])\n",
    "d.x = np.random.rand(100) # 100 random samples\n",
    "d.xi = d.eval('2*x**2')\n",
    "d['eta']=(d.x<0.5)*(2*d.x)+(d.x>=0.5)*(2*d.x-1)\n",
    "d.h1=d[(d.x<0.5)].eval('eta**2/2')\n",
    "d.h2=d[(d.x>=0.5)].eval('(1+eta)**2/2')\n",
    "d.fillna(0,inplace=True)\n",
    "d.h = d.h1+d.h2\n",
    "\n",
    "fig,ax=subplots(figsize=(7,7))\n",
    "ax.plot(d.xi,d.eta,'.k',alpha=.3,label='$\\eta$')\n",
    "ax.plot(d.xi,d.h,'ks',label='$h(\\eta)$',alpha=0.3)\n",
    "ax.set_aspect(1)\n",
    "ax.legend(loc=0,fontsize=18)\n",
    "ax.set_xlabel('$2 x^2$',fontsize=24)\n",
    "ax.set_ylabel('$h(\\eta),\\eta$',fontsize=24)\n",
    "fig.tight_layout()\n",
    "#fig.savefig('fig-probability/Conditional_expectation_MSE_Ex_006.png')"
   ]
  },
  {
   "cell_type": "markdown",
   "metadata": {},
   "source": [
    "<!-- dom:FIGURE: [fig-probability/Conditional_expectation_MSE_Ex_006.png, width=500 frac=0.85] The diagonal line shows where the conditional expectation equals the $\\xi$ function. <div id=\"fig:Conditional_expectation_MSE_006\"></div> -->\n",
    "<!-- begin figure -->\n",
    "<div id=\"fig:Conditional_expectation_MSE_006\"></div>\n",
    "\n",
    "<p>The diagonal line shows where the conditional expectation equals the $\\xi$ function.</p>\n",
    "<img src=\"fig-probability/Conditional_expectation_MSE_Ex_006.png\" width=500>\n",
    "\n",
    "<!-- end figure -->\n",
    "\n",
    "\n",
    "Extending projection methods to random variables provides multiple ways for\n",
    "calculating solutions to conditional expectation problems. In this section, we\n",
    "also worked out corresponding simulations using a variety of Python modules. It\n",
    "is always advisable to have more than one technique at hand to cross-check\n",
    "potential solutions. We worked out some of the examples in Brzezniak's\n",
    "book using our methods as a way to show multiple ways to solve the same\n",
    "problem. Comparing Brzezniak's measure-theoretic methods to our less abstract\n",
    "techniques is a great way to get a handle on both concepts, which are important\n",
    "for advanced study in stochastic process."
   ]
  },
  {
   "cell_type": "code",
   "execution_count": null,
   "metadata": {},
   "outputs": [],
   "source": []
  }
 ],
 "metadata": {
  "kernelspec": {
   "display_name": "Python 3",
   "language": "python",
   "name": "python3"
  },
  "language_info": {
   "codemirror_mode": {
    "name": "ipython",
    "version": 3
   },
   "file_extension": ".py",
   "mimetype": "text/x-python",
   "name": "python",
   "nbconvert_exporter": "python",
   "pygments_lexer": "ipython3",
   "version": "3.6.6"
  }
 },
 "nbformat": 4,
 "nbformat_minor": 2
}
