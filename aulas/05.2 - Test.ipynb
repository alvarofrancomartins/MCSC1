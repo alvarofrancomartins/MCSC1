{
 "cells": [
  {
   "cell_type": "markdown",
   "metadata": {},
   "source": [
    "# Única Avaliação do Curso MCSC 1"
   ]
  },
  {
   "cell_type": "code",
   "execution_count": 1,
   "metadata": {
    "ExecuteTime": {
     "end_time": "2018-12-04T18:18:53.276967Z",
     "start_time": "2018-12-04T18:18:52.655598Z"
    }
   },
   "outputs": [],
   "source": [
    "import numpy as np\n",
    "import matplotlib as mpl\n",
    "import pandas as pd\n",
    "import scipy\n",
    "import seaborn as sns\n",
    "from matplotlib import pyplot as plt\n",
    "\n",
    "import itertools\n",
    "from sklearn.neighbors import KNeighborsClassifier\n",
    "from sklearn.model_selection import GridSearchCV\n",
    "from sklearn.model_selection import validation_curve\n",
    "from sklearn.model_selection import train_test_split\n",
    "from sklearn.metrics import confusion_matrix\n",
    "from sklearn.dummy import DummyClassifier"
   ]
  },
  {
   "cell_type": "code",
   "execution_count": 2,
   "metadata": {
    "ExecuteTime": {
     "end_time": "2018-12-04T18:18:53.283170Z",
     "start_time": "2018-12-04T18:18:53.278538Z"
    }
   },
   "outputs": [],
   "source": [
    "pd.options.display.max_rows = 10\n",
    "\n",
    "%matplotlib inline\n",
    "mpl.style.use('seaborn-darkgrid')\n",
    "mpl.rcParams.update({'font.size': 18})"
   ]
  },
  {
   "cell_type": "markdown",
   "metadata": {},
   "source": [
    "# Problema 1 (2 pontos)"
   ]
  },
  {
   "cell_type": "markdown",
   "metadata": {},
   "source": [
    "O código a seguir lê arquivos da pasta `datasets/music/` e cria um conjunto de dados. Execute esse código e explique o que cada linha faz."
   ]
  },
  {
   "cell_type": "code",
   "execution_count": 3,
   "metadata": {
    "ExecuteTime": {
     "end_time": "2018-12-04T18:18:53.344825Z",
     "start_time": "2018-12-04T18:18:53.284713Z"
    },
    "scrolled": true
   },
   "outputs": [],
   "source": [
    "styles = ['classic', 'metal', 'techno']\n",
    "\n",
    "df = []\n",
    "for style in styles:\n",
    "    df_ = pd.read_csv('datasets/music/{}-int.dat'.format(style), sep='\\t',names=['entropy','complexity'])\n",
    "    df_['style'] = style\n",
    "    df_['name'] = pd.read_csv('datasets/music/{}-nomes.dat'.format(style),'\\t', names=['name']).values.ravel()\n",
    "    df.append(df_)\n",
    "    \n",
    "music_df = pd.concat(df)"
   ]
  },
  {
   "cell_type": "code",
   "execution_count": 4,
   "metadata": {
    "ExecuteTime": {
     "end_time": "2018-12-04T18:18:53.358855Z",
     "start_time": "2018-12-04T18:18:53.346350Z"
    }
   },
   "outputs": [
    {
     "data": {
      "text/html": [
       "<div>\n",
       "<style scoped>\n",
       "    .dataframe tbody tr th:only-of-type {\n",
       "        vertical-align: middle;\n",
       "    }\n",
       "\n",
       "    .dataframe tbody tr th {\n",
       "        vertical-align: top;\n",
       "    }\n",
       "\n",
       "    .dataframe thead th {\n",
       "        text-align: right;\n",
       "    }\n",
       "</style>\n",
       "<table border=\"1\" class=\"dataframe\">\n",
       "  <thead>\n",
       "    <tr style=\"text-align: right;\">\n",
       "      <th></th>\n",
       "      <th>entropy</th>\n",
       "      <th>complexity</th>\n",
       "      <th>style</th>\n",
       "      <th>name</th>\n",
       "    </tr>\n",
       "  </thead>\n",
       "  <tbody>\n",
       "    <tr>\n",
       "      <th>0</th>\n",
       "      <td>0.548414</td>\n",
       "      <td>0.325579</td>\n",
       "      <td>classic</td>\n",
       "      <td>1 01 - Schuber Symphony No 5 Solti VPO - Alleg...</td>\n",
       "    </tr>\n",
       "    <tr>\n",
       "      <th>1</th>\n",
       "      <td>0.472814</td>\n",
       "      <td>0.304891</td>\n",
       "      <td>classic</td>\n",
       "      <td>2 01 - Dvorak Piano Concerto Allegro Agitato- ...</td>\n",
       "    </tr>\n",
       "    <tr>\n",
       "      <th>2</th>\n",
       "      <td>0.530537</td>\n",
       "      <td>0.315389</td>\n",
       "      <td>classic</td>\n",
       "      <td>3 01 - Schubert Symphony No 8 (Unfinished) Sol...</td>\n",
       "    </tr>\n",
       "    <tr>\n",
       "      <th>3</th>\n",
       "      <td>0.542010</td>\n",
       "      <td>0.315118</td>\n",
       "      <td>classic</td>\n",
       "      <td>4 01 Sibelius - Symphony 2 in D - Op.43 - I - ...</td>\n",
       "    </tr>\n",
       "    <tr>\n",
       "      <th>4</th>\n",
       "      <td>0.539565</td>\n",
       "      <td>0.324111</td>\n",
       "      <td>classic</td>\n",
       "      <td>5 01-A. Marcello-Conc. p. Oboe-R. Edlinger.mp3</td>\n",
       "    </tr>\n",
       "    <tr>\n",
       "      <th>...</th>\n",
       "      <td>...</td>\n",
       "      <td>...</td>\n",
       "      <td>...</td>\n",
       "      <td>...</td>\n",
       "    </tr>\n",
       "    <tr>\n",
       "      <th>1489</th>\n",
       "      <td>0.850061</td>\n",
       "      <td>0.200517</td>\n",
       "      <td>techno</td>\n",
       "      <td>1490 You are my secret loove!.mp3</td>\n",
       "    </tr>\n",
       "    <tr>\n",
       "      <th>1490</th>\n",
       "      <td>0.855605</td>\n",
       "      <td>0.189113</td>\n",
       "      <td>techno</td>\n",
       "      <td>1491 dancecore_allstars_-_when_the_sun_comes_o...</td>\n",
       "    </tr>\n",
       "    <tr>\n",
       "      <th>1491</th>\n",
       "      <td>0.812408</td>\n",
       "      <td>0.234889</td>\n",
       "      <td>techno</td>\n",
       "      <td>1492 freestylerz_-_what_would_brian_boitano_do...</td>\n",
       "    </tr>\n",
       "    <tr>\n",
       "      <th>1492</th>\n",
       "      <td>0.853816</td>\n",
       "      <td>0.192313</td>\n",
       "      <td>techno</td>\n",
       "      <td>1493 paffendorf_-_its_not_over_(radio_edit).mp3</td>\n",
       "    </tr>\n",
       "    <tr>\n",
       "      <th>1493</th>\n",
       "      <td>0.815408</td>\n",
       "      <td>0.212133</td>\n",
       "      <td>techno</td>\n",
       "      <td>1494 princes_of_trance_-_love_me_eternally__al...</td>\n",
       "    </tr>\n",
       "  </tbody>\n",
       "</table>\n",
       "<p>3001 rows × 4 columns</p>\n",
       "</div>"
      ],
      "text/plain": [
       "       entropy  complexity    style  \\\n",
       "0     0.548414    0.325579  classic   \n",
       "1     0.472814    0.304891  classic   \n",
       "2     0.530537    0.315389  classic   \n",
       "3     0.542010    0.315118  classic   \n",
       "4     0.539565    0.324111  classic   \n",
       "...        ...         ...      ...   \n",
       "1489  0.850061    0.200517   techno   \n",
       "1490  0.855605    0.189113   techno   \n",
       "1491  0.812408    0.234889   techno   \n",
       "1492  0.853816    0.192313   techno   \n",
       "1493  0.815408    0.212133   techno   \n",
       "\n",
       "                                                   name  \n",
       "0     1 01 - Schuber Symphony No 5 Solti VPO - Alleg...  \n",
       "1     2 01 - Dvorak Piano Concerto Allegro Agitato- ...  \n",
       "2     3 01 - Schubert Symphony No 8 (Unfinished) Sol...  \n",
       "3     4 01 Sibelius - Symphony 2 in D - Op.43 - I - ...  \n",
       "4        5 01-A. Marcello-Conc. p. Oboe-R. Edlinger.mp3  \n",
       "...                                                 ...  \n",
       "1489                  1490 You are my secret loove!.mp3  \n",
       "1490  1491 dancecore_allstars_-_when_the_sun_comes_o...  \n",
       "1491  1492 freestylerz_-_what_would_brian_boitano_do...  \n",
       "1492    1493 paffendorf_-_its_not_over_(radio_edit).mp3  \n",
       "1493  1494 princes_of_trance_-_love_me_eternally__al...  \n",
       "\n",
       "[3001 rows x 4 columns]"
      ]
     },
     "execution_count": 4,
     "metadata": {},
     "output_type": "execute_result"
    }
   ],
   "source": [
    "music_df"
   ]
  },
  {
   "cell_type": "markdown",
   "metadata": {},
   "source": [
    "**Resposta:**"
   ]
  },
  {
   "cell_type": "markdown",
   "metadata": {},
   "source": []
  },
  {
   "cell_type": "markdown",
   "metadata": {},
   "source": [
    "# Problema 2 (4 pontos)"
   ]
  },
  {
   "cell_type": "markdown",
   "metadata": {},
   "source": [
    "O dataframe criado anteriormente representa a \"entropia\" e \"complexidade\" de um conjunto de músicas de trê estilos diferentes ('classic', 'metal' e 'techno'). Para mais informações veja [\"Complexity-entropy causality plane: A useful approach for distinguishing songs\"](http://old.pfi.uem.br/complex/paper/2012/physa-391-2421.pdf).\n",
    "\n",
    "Usando esse dataset:\n",
    "\n",
    "\n",
    "1. Encontre as músicas com a maior e menor entropia;\n",
    "2. Encontre os valores médios para a entropia e complexidade para cada estilo;\n",
    "3. Encontre os intervalos de 95% de confiança bootstrap para esses valores médios;\n",
    "4. Faça um gráfico dos valores de complexidade versus entropia de modo a identificar os diferentes estilos com diferentes cores e símbolos;\n",
    "5. Encontre a distribuição de probabilidade dos valores entropia para cada estilo, mostrando os resultados num gráfico tipo histograma;\n",
    "6. Calcule a matriz do módulo da diferença entre os valores médios da entropia para todos os pares de estilos. Represente seus resultados num gráfico conveniente;\n",
    "7. Resolva novamente o item anteior usando a complexidade;\n",
    "8. Use o teste de permutação para calcular o p-valor associado ao teste de hipótese que compara o valor médio da entropia e da complexidade entre os pares de estilos diferentes. Diga se existe diferença significativa entre esses valores médios.\n",
    "9. Resolva novamente o item anteior usando a complexidade."
   ]
  },
  {
   "cell_type": "markdown",
   "metadata": {},
   "source": [
    "## 2.1"
   ]
  },
  {
   "cell_type": "code",
   "execution_count": null,
   "metadata": {},
   "outputs": [],
   "source": []
  },
  {
   "cell_type": "markdown",
   "metadata": {},
   "source": [
    "## 2.2"
   ]
  },
  {
   "cell_type": "code",
   "execution_count": null,
   "metadata": {},
   "outputs": [],
   "source": []
  },
  {
   "cell_type": "markdown",
   "metadata": {},
   "source": [
    "## 2.3"
   ]
  },
  {
   "cell_type": "code",
   "execution_count": null,
   "metadata": {},
   "outputs": [],
   "source": []
  },
  {
   "cell_type": "markdown",
   "metadata": {},
   "source": [
    "## 2.4"
   ]
  },
  {
   "cell_type": "code",
   "execution_count": null,
   "metadata": {},
   "outputs": [],
   "source": []
  },
  {
   "cell_type": "markdown",
   "metadata": {},
   "source": [
    "## 2.5"
   ]
  },
  {
   "cell_type": "code",
   "execution_count": null,
   "metadata": {},
   "outputs": [],
   "source": []
  },
  {
   "cell_type": "markdown",
   "metadata": {},
   "source": [
    "## 2.6"
   ]
  },
  {
   "cell_type": "code",
   "execution_count": null,
   "metadata": {},
   "outputs": [],
   "source": []
  },
  {
   "cell_type": "markdown",
   "metadata": {},
   "source": [
    "## 2.7"
   ]
  },
  {
   "cell_type": "code",
   "execution_count": null,
   "metadata": {},
   "outputs": [],
   "source": []
  },
  {
   "cell_type": "markdown",
   "metadata": {},
   "source": [
    "## 2.8"
   ]
  },
  {
   "cell_type": "code",
   "execution_count": null,
   "metadata": {},
   "outputs": [],
   "source": []
  },
  {
   "cell_type": "markdown",
   "metadata": {},
   "source": [
    "## 2.9"
   ]
  },
  {
   "cell_type": "code",
   "execution_count": null,
   "metadata": {},
   "outputs": [],
   "source": []
  },
  {
   "cell_type": "markdown",
   "metadata": {},
   "source": [
    "# Problema 3 (4 pontos)"
   ]
  },
  {
   "cell_type": "markdown",
   "metadata": {},
   "source": [
    "Usando o dataset `music_df`, treine o classificador `KNeighborsClassifier` para prever o estilo das músicas com base no valores de entropia e complexidade. Em particular,\n",
    "\n",
    "1. Separe o conjunto de dados em train e test na razão 80%-20% e modo estratificado.\n",
    "2. Use o conjunto train para encontrar o melhor número de vizinhos para o algoritmo (deve ser entre 1 e 100). Faça isso usando as curvas de validação (cv=5) e apresente seus resultados num gráfico conveniente.\n",
    "3. Confirme o valor do item anterior usando o `GridSearchCV`.\n",
    "4. Usando esse classificador treinado com o melhor número de vizinhos, estime o score nos 20% dos dados que foram deixados para test no item 1. \n",
    "5. Usandos os mesmos dados do problema anterior, estime a matriz de confusão do processo de classificação. Apresente seus resultados num gráfico conveniente.\n",
    "6. Compare o score obtido via `KNeighborsClassifier` com o classificador `DummyClassifier`."
   ]
  },
  {
   "cell_type": "markdown",
   "metadata": {},
   "source": [
    "## 3.1"
   ]
  },
  {
   "cell_type": "code",
   "execution_count": null,
   "metadata": {},
   "outputs": [],
   "source": []
  },
  {
   "cell_type": "markdown",
   "metadata": {},
   "source": [
    "## 3.2"
   ]
  },
  {
   "cell_type": "code",
   "execution_count": null,
   "metadata": {},
   "outputs": [],
   "source": []
  },
  {
   "cell_type": "markdown",
   "metadata": {},
   "source": [
    "## 3.3"
   ]
  },
  {
   "cell_type": "code",
   "execution_count": null,
   "metadata": {},
   "outputs": [],
   "source": []
  },
  {
   "cell_type": "markdown",
   "metadata": {},
   "source": [
    "## 3.4"
   ]
  },
  {
   "cell_type": "code",
   "execution_count": null,
   "metadata": {},
   "outputs": [],
   "source": []
  },
  {
   "cell_type": "markdown",
   "metadata": {},
   "source": [
    "## 3.5"
   ]
  },
  {
   "cell_type": "code",
   "execution_count": null,
   "metadata": {},
   "outputs": [],
   "source": []
  },
  {
   "cell_type": "markdown",
   "metadata": {},
   "source": [
    "## 3.6"
   ]
  },
  {
   "cell_type": "code",
   "execution_count": null,
   "metadata": {},
   "outputs": [],
   "source": []
  }
 ],
 "metadata": {
  "kernelspec": {
   "display_name": "Python 3",
   "language": "python",
   "name": "python3"
  },
  "language_info": {
   "codemirror_mode": {
    "name": "ipython",
    "version": 3
   },
   "file_extension": ".py",
   "mimetype": "text/x-python",
   "name": "python",
   "nbconvert_exporter": "python",
   "pygments_lexer": "ipython3",
   "version": "3.6.6"
  }
 },
 "nbformat": 4,
 "nbformat_minor": 2
}
