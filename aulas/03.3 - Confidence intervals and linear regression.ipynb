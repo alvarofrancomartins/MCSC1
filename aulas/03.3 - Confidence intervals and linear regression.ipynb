{
 "cells": [
  {
   "cell_type": "code",
   "execution_count": 1,
   "metadata": {
    "ExecuteTime": {
     "end_time": "2018-10-17T11:09:49.192157Z",
     "start_time": "2018-10-17T11:09:48.294823Z"
    }
   },
   "outputs": [],
   "source": [
    "import numpy as np\n",
    "import pandas as pd\n",
    "import sympy as S\n",
    "from scipy import stats\n",
    "\n",
    "import matplotlib as mpl\n",
    "from matplotlib import pyplot as plt\n",
    "%matplotlib inline"
   ]
  },
  {
   "cell_type": "code",
   "execution_count": 2,
   "metadata": {
    "ExecuteTime": {
     "end_time": "2018-10-17T11:09:49.196048Z",
     "start_time": "2018-10-17T11:09:49.193724Z"
    }
   },
   "outputs": [],
   "source": [
    "mpl.style.use('seaborn-darkgrid')\n",
    "mpl.rcParams.update({'font.size': 18})"
   ]
  },
  {
   "cell_type": "code",
   "execution_count": 3,
   "metadata": {
    "ExecuteTime": {
     "end_time": "2018-10-17T11:09:49.448735Z",
     "start_time": "2018-10-17T11:09:49.445676Z"
    }
   },
   "outputs": [],
   "source": [
    "pd.options.display.max_rows = 10"
   ]
  },
  {
   "cell_type": "markdown",
   "metadata": {},
   "source": [
    "## Confidence Intervals"
   ]
  },
  {
   "cell_type": "markdown",
   "metadata": {},
   "source": [
    "In a previous coin-flipping discussion, we discussed estimation of the\n",
    "underlying probability of getting a heads. There, we derived the\n",
    "estimator as"
   ]
  },
  {
   "cell_type": "markdown",
   "metadata": {},
   "source": [
    "$$\n",
    "\\hat{p}_n = \\frac{1}{n}\\sum_{i=1}^n X_i\n",
    "$$"
   ]
  },
  {
   "cell_type": "markdown",
   "metadata": {},
   "source": [
    " where $X_i\\in \\lbrace 0,1 \\rbrace$. Confidence intervals allow us to\n",
    "estimate how close we can get to the true value that we are estimating.\n",
    "Logically, that seems strange, doesn't it? We really don't know the exact value\n",
    "of what we are estimating (otherwise, why estimate it?), and yet, somehow we\n",
    "know how close we can get to something we admit we don't know? Ultimately, we\n",
    "want to make statements like the *probability of the value in a certain\n",
    "interval is 90\\%*. Unfortunately, that is something we will not be able to say\n",
    "using our methods. Note that Bayesian estimation gets closer to this statement\n",
    "by using *credible intervals*, but that is a story for another day. In our\n",
    "situation, the best we can do is say roughly the following: *if we ran the\n",
    "experiment multiple times, then the confidence interval would trap the true\n",
    "parameter 90\\% of the time*.\n",
    "\n",
    "Let's return to our coin-flipping example and see this in action. One\n",
    "way to get at a confidence interval is to use Hoeffding's inequality\n",
    "from the section ref{ch:prob:sec:ineq}\n",
    "specialized to our Bernoulli variables as"
   ]
  },
  {
   "cell_type": "markdown",
   "metadata": {},
   "source": [
    "$$\n",
    "\\mathbb{P}(\\mid \\hat{p}_n-p\\mid >\\epsilon) \\leq 2 \\exp(-2n \\epsilon^2)\n",
    "$$"
   ]
  },
  {
   "cell_type": "markdown",
   "metadata": {},
   "source": [
    " Now, we can form the interval\n",
    "$\\mathbb{I}=[\\hat{p}_n-\\epsilon_n,\\hat{p}_n+\\epsilon_n]$, where $\\epsilon_n$ is\n",
    "carefully constructed as"
   ]
  },
  {
   "cell_type": "markdown",
   "metadata": {},
   "source": [
    "$$\n",
    "\\epsilon_n = \\sqrt{ \\frac{1}{2 n}\\log\\frac{2}{\\alpha}}\n",
    "$$"
   ]
  },
  {
   "cell_type": "markdown",
   "metadata": {},
   "source": [
    " which makes the right-side of the Hoeffding inequality equal to\n",
    "$\\alpha$. Thus, we finally have"
   ]
  },
  {
   "cell_type": "markdown",
   "metadata": {},
   "source": [
    "$$\n",
    "\\mathbb{P}(p \\notin \\mathbb{I}) = \\mathbb{P}\\left(\\mid \\hat{p}_n-p\\mid >\\epsilon_n\\right) \\leq \\alpha\n",
    "$$"
   ]
  },
  {
   "cell_type": "markdown",
   "metadata": {},
   "source": [
    "Thus, $ \\mathbb{P}(p \\in \\mathbb{I})\n",
    "\\geq 1-\\alpha$. As a numerical example, let's take $n=100$, $\\alpha=0.05$, then plugging into everything we have gives $\\epsilon_n=0.136$.\n",
    "So, the 95\\% confidence interval here is therefore"
   ]
  },
  {
   "cell_type": "markdown",
   "metadata": {},
   "source": [
    "$$\n",
    "\\mathbb{I}=[\\hat{p}_n-\\epsilon_n,\\hat{p}_n+\\epsilon_n] = [\\hat{p}_n-0.136,\\hat{p}_n+0.136]\n",
    "$$"
   ]
  },
  {
   "cell_type": "markdown",
   "metadata": {},
   "source": [
    "The following code sample is a simulation to see if we can really trap\n",
    "the underlying parameter in our confidence interval."
   ]
  },
  {
   "cell_type": "code",
   "execution_count": null,
   "metadata": {},
   "outputs": [],
   "source": [
    "np.reshape()"
   ]
  },
  {
   "cell_type": "code",
   "execution_count": 8,
   "metadata": {
    "ExecuteTime": {
     "end_time": "2018-10-17T11:13:01.332916Z",
     "start_time": "2018-10-17T11:13:01.324172Z"
    }
   },
   "outputs": [
    {
     "data": {
      "text/plain": [
       "array([[0, 1, 1, ..., 1, 0, 0],\n",
       "       [0, 0, 0, ..., 0, 1, 1],\n",
       "       [1, 0, 0, ..., 0, 1, 0],\n",
       "       ...,\n",
       "       [0, 0, 0, ..., 0, 0, 0],\n",
       "       [0, 1, 1, ..., 0, 0, 1],\n",
       "       [1, 1, 1, ..., 0, 1, 0]])"
      ]
     },
     "execution_count": 8,
     "metadata": {},
     "output_type": "execute_result"
    }
   ],
   "source": [
    "b.rvs(nsamples * 200).reshape(100,-1)"
   ]
  },
  {
   "cell_type": "code",
   "execution_count": 10,
   "metadata": {
    "ExecuteTime": {
     "end_time": "2018-10-17T11:15:26.313460Z",
     "start_time": "2018-10-17T11:15:26.301716Z"
    }
   },
   "outputs": [
    {
     "name": "stdout",
     "output_type": "stream",
     "text": [
      "Interval trapped correct value  99.0 % of the time\n"
     ]
    }
   ],
   "source": [
    "b = stats.bernoulli(.5)  # fair coin distribution\n",
    "nsamples = 100\n",
    "\n",
    "# flip it nsamples times for 200 estimates\n",
    "xs = b.rvs(nsamples * 200).reshape(nsamples, -1)\n",
    "#One shape dimension can be -1. In this case, the value is \n",
    "#inferred from the length of the array and remaining dimensions.\n",
    "\n",
    "\n",
    "phat = np.mean(xs, axis=0)  # estimated p\n",
    "\n",
    "# edge of 95% confidence interval\n",
    "epsilon_n = np.sqrt(np.log(2/0.05)/(2*nsamples))\n",
    "pct = np.logical_and(phat - epsilon_n <= 0.5, \n",
    "                     0.5 <=(epsilon_n + phat)).mean() * 100\n",
    "\n",
    "print('Interval trapped correct value ', pct, '% of the time')"
   ]
  },
  {
   "cell_type": "code",
   "execution_count": 31,
   "metadata": {
    "ExecuteTime": {
     "end_time": "2018-10-17T11:23:09.486914Z",
     "start_time": "2018-10-17T11:23:09.286279Z"
    }
   },
   "outputs": [
    {
     "data": {
      "image/png": "[encoded data removed]",
      "text/plain": [
       "<Figure size 432x288 with 1 Axes>"
      ]
     },
     "metadata": {},
     "output_type": "display_data"
    }
   ],
   "source": [
    "plt.figure(figsize=(6,4))\n",
    "plt.plot(phat,'o')\n",
    "plt.fill_between(np.arange(200),\n",
    "                 phat+epsilon_n,\n",
    "                 phat-epsilon_n,\n",
    "                 color='red',\n",
    "                 alpha=0.5)\n",
    "plt.title(f'Fraction within {pct/100}%');"
   ]
  },
  {
   "cell_type": "markdown",
   "metadata": {},
   "source": [
    "<!-- # @@@CODE src-statistics/Confidence_Intervals.py fromto: from scipy@#end -->\n",
    "\n",
    " The result shows that the estimator and the corresponding\n",
    "interval was able to trap the true value at least 95\\% of the time. This is how\n",
    "to interpret the action of confidence intervals.\n",
    "\n",
    "However, the usual practice is to not use Hoeffding's inequality and\n",
    "instead use arguments around asymptotic normality.\n",
    "The definition of the standard error is the following:"
   ]
  },
  {
   "cell_type": "markdown",
   "metadata": {},
   "source": [
    "$$\n",
    "\\texttt{se} = \\sqrt{\\mathbb{V}(\\hat{\\theta}_n)}\n",
    "$$"
   ]
  },
  {
   "cell_type": "markdown",
   "metadata": {},
   "source": [
    " where $\\hat{\\theta}_n$ is the point-estimator for the parameter\n",
    "$\\theta$, given $n$ samples of data $X_n$, and $\\mathbb{V}(\\hat{\\theta}_n)$ is\n",
    "the variance of $\\hat{\\theta}_n$. Likewise, the estimated standard error is\n",
    "$\\widehat{\\texttt{se}}$. For example, in our coin-flipping example, the estimator\n",
    "was $\\hat{p}=\\sum X_i/n$ with corresponding variance\n",
    "$\\mathbb{V}(\\hat{p}_n)=p(1-p)/n$.  Plugging in the point estimate gives us the\n",
    "estimated standard error: $\\widehat{\\texttt{se}}=\\sqrt{\\hat{p}(1-\\hat{p})/n}$.\n",
    "Because maximum likelihood estimators are asymptotically normal [^mle], we know\n",
    "that $\\hat{p}_n \\sim \\mathcal{N}(p,\\widehat{\\texttt{se}}^2)$. Thus, if we want\n",
    "a $1-\\alpha$ confidence interval, we can compute\n",
    "\n",
    "[^mle]: Certain technical regularity conditions must hold for this property\n",
    "of maximum likelihood estimator to work. See \n",
    "[[wasserman2004all]](#wasserman2004all) for more details."
   ]
  },
  {
   "cell_type": "markdown",
   "metadata": {},
   "source": [
    "$$\n",
    "\\mathbb{P}(\\mid \\hat{p}_n-p\\mid  < \\xi)> 1-\\alpha\n",
    "$$"
   ]
  },
  {
   "cell_type": "markdown",
   "metadata": {},
   "source": [
    " but since we know that $ (\\hat{p}_n-p)$ is asymptotically normal,\n",
    "$\\mathcal{N}(0,\\widehat{\\texttt{se}}^2)$, we can instead compute"
   ]
  },
  {
   "cell_type": "markdown",
   "metadata": {},
   "source": [
    "$$\n",
    "\\int_{-\\xi}^{\\xi} \\mathcal{N}(0,\\widehat{\\texttt{se}}^2) dx > 1-\\alpha\n",
    "$$"
   ]
  },
  {
   "cell_type": "markdown",
   "metadata": {},
   "source": [
    " This looks ugly to compute because we need to find $\\xi$, but\n",
    "Scipy has everything we need for this."
   ]
  },
  {
   "cell_type": "code",
   "execution_count": 34,
   "metadata": {
    "ExecuteTime": {
     "end_time": "2018-10-17T11:25:28.992276Z",
     "start_time": "2018-10-17T11:25:28.985566Z"
    }
   },
   "outputs": [
    {
     "data": {
      "text/plain": [
       "100"
      ]
     },
     "execution_count": 34,
     "metadata": {},
     "output_type": "execute_result"
    }
   ],
   "source": [
    "xs.shape[0]"
   ]
  },
  {
   "cell_type": "code",
   "execution_count": 36,
   "metadata": {
    "ExecuteTime": {
     "end_time": "2018-10-17T11:26:40.671996Z",
     "start_time": "2018-10-17T11:26:40.664683Z"
    }
   },
   "outputs": [
    {
     "data": {
      "text/plain": [
       "(-0.09601823352710619, 0.09601823352710619)"
      ]
     },
     "execution_count": 36,
     "metadata": {},
     "output_type": "execute_result"
    }
   ],
   "source": [
    "rv.interval(0.95)"
   ]
  },
  {
   "cell_type": "code",
   "execution_count": 37,
   "metadata": {
    "ExecuteTime": {
     "end_time": "2018-10-17T11:27:06.538001Z",
     "start_time": "2018-10-17T11:27:06.525525Z"
    }
   },
   "outputs": [
    {
     "name": "stdout",
     "output_type": "stream",
     "text": [
      "[0.30398177 0.49601823]\n"
     ]
    }
   ],
   "source": [
    "# compute estimated se for all trials\n",
    "se = np.sqrt(phat * (1 - phat) / nsamples)\n",
    "\n",
    "# generate random variable for trial 0\n",
    "rv = stats.norm(0, se[0])\n",
    "\n",
    "# compute 95% confidence interval for that trial 0\n",
    "print(np.array(rv.interval(0.95)) + phat[0])"
   ]
  },
  {
   "cell_type": "code",
   "execution_count": 53,
   "metadata": {
    "ExecuteTime": {
     "end_time": "2018-10-17T11:32:56.185286Z",
     "start_time": "2018-10-17T11:32:56.078056Z"
    },
    "scrolled": true
   },
   "outputs": [],
   "source": [
    "confs = np.vstack([stats.norm.interval(0.95,loc=0, scale=se_)+phat_ for se_,phat_ in zip(se,phat)])"
   ]
  },
  {
   "cell_type": "code",
   "execution_count": 55,
   "metadata": {
    "ExecuteTime": {
     "end_time": "2018-10-17T11:33:04.222483Z",
     "start_time": "2018-10-17T11:33:04.213168Z"
    }
   },
   "outputs": [
    {
     "data": {
      "text/plain": [
       "array([[0.30398177, 0.49601823],\n",
       "       [0.38208023, 0.57791977],\n",
       "       [0.32326431, 0.51673569],\n",
       "       [0.47296694, 0.66703306],\n",
       "       [0.28486601, 0.47513399],\n",
       "       [0.43217836, 0.62782164],\n",
       "       [0.4020018 , 0.5979982 ],\n",
       "       [0.37217836, 0.56782164],\n",
       "       [0.38208023, 0.57791977],\n",
       "       [0.3623159 , 0.5576841 ]])"
      ]
     },
     "execution_count": 55,
     "metadata": {},
     "output_type": "execute_result"
    }
   ],
   "source": [
    "confs[:10]"
   ]
  },
  {
   "cell_type": "code",
   "execution_count": 63,
   "metadata": {
    "ExecuteTime": {
     "end_time": "2018-10-17T11:35:17.233948Z",
     "start_time": "2018-10-17T11:35:16.885695Z"
    }
   },
   "outputs": [
    {
     "data": {
      "text/plain": [
       "<matplotlib.legend.Legend at 0x7fa7087d0400>"
      ]
     },
     "execution_count": 63,
     "metadata": {},
     "output_type": "execute_result"
    },
    {
     "data": {
      "image/png": "[encoded data removed]",
      "text/plain": [
       "<Figure size 432x288 with 1 Axes>"
      ]
     },
     "metadata": {},
     "output_type": "display_data"
    }
   ],
   "source": [
    "plt.figure(figsize=(6,4))\n",
    "plt.plot(phat,'o',color='k')\n",
    "plt.fill_between(np.arange(200),\n",
    "                 phat+epsilon_n,\n",
    "                 phat-epsilon_n,\n",
    "                 color='red',\n",
    "                 alpha=0.5,\n",
    "                 label='CI via Hoeffding')\n",
    "\n",
    "plt.fill_between(np.arange(200),\n",
    "                 confs.T[0],\n",
    "                 confs.T[1],\n",
    "                 color='blue',\n",
    "                 alpha=0.5,\n",
    "                 label='CI via asymptotic\\nnormality')\n",
    "\n",
    "plt.legend(bbox_to_anchor=(1.6,1),fancybox=True,shadow=True,frameon=True)"
   ]
  },
  {
   "cell_type": "markdown",
   "metadata": {},
   "source": [
    "<!-- # @@@CODE src-statistics/Confidence_Intervals.py fromto: ^# compute estimated se for all trials@^#end -->\n",
    "\n",
    "<!-- dom:FIGURE: [fig-statistics/Confidence_Intervals_001.png, width=500 frac=0.75] The gray circles are the point estimates that are bounded above and below by both asymptotic confidence intervals and Hoeffding intervals. The asymptotic intervals are tighter because the underpinning asymptotic assumptions are valid for these estimates.  <div id=\"fig:Confidence_Intervals_001\"></div> -->\n",
    "<!-- begin figure -->\n",
    "<div id=\"fig:Confidence_Intervals_001\"></div>\n",
    "\n",
    "<p>The gray circles are the point estimates that are bounded above and below by both asymptotic confidence intervals and Hoeffding intervals. The asymptotic intervals are tighter because the underpinning asymptotic assumptions are valid for these estimates.</p>\n",
    "<img src=\"fig-statistics/Confidence_Intervals_001.png\" width=500>\n",
    "\n",
    "<!-- end figure -->\n",
    "\n",
    "\n",
    "[Figure](#fig:Confidence_Intervals_001) shows the asymptotic\n",
    "confidence intervals and the Hoeffding-derived confidence intervals.\n",
    "As shown, the Hoeffding intervals are a bit more generous than the\n",
    "asymptotic estimates.  However, this is only true so long as the\n",
    "asympotic approximation is valid. In other words, there exists some\n",
    "number of $n$ samples for which the asymptotic intervals may not work.\n",
    "So, even though they may be a bit more generous, the Hoeffding\n",
    "intervals do not require arguments about asymptotic convergence. In\n",
    "practice, nonetheless, asymptotic convergence is always in play (even\n",
    "if not explicitly stated).\n",
    "\n",
    "### Confidence Intervals and Hypothesis testing\n",
    "\n",
    "It turns out that there is a close dual relationship between hypothesis testing\n",
    "and confidence intervals. To see this in action, consider the following\n",
    "hypothesis test for a normal distribution, $H_0 :\\mu=\\mu_0$ versus $H_1: \\mu\n",
    "\\neq \\mu_0$. A reasonable test has the following rejection region:"
   ]
  },
  {
   "cell_type": "markdown",
   "metadata": {},
   "source": [
    "$$\n",
    "\\left\\{ x: \\mid \\bar{x}-\\mu_0\\mid  > z_{\\alpha/2}\\frac{\\sigma}{\\sqrt n} \\right\\}\n",
    "$$"
   ]
  },
  {
   "cell_type": "markdown",
   "metadata": {},
   "source": [
    " where $\\mathbb{P}(Z > z_{\\alpha/2}) = \\alpha/2$ and\n",
    "$\\mathbb{P}(-z_{\\alpha/2}< Z < z_{\\alpha/2}) = 1-\\alpha$ and where $Z \\sim\n",
    "\\mathcal{N}(0,1)$. This is the same thing as saying that the region\n",
    "corresponding to acceptance of $H_0$ is then,"
   ]
  },
  {
   "cell_type": "markdown",
   "metadata": {},
   "source": [
    "<!-- Equation labels as ordinary links -->\n",
    "<div id=\"eq:ci\"></div>\n",
    "\n",
    "$$\n",
    "\\begin{equation}\n",
    "\\bar{x} -z_{\\alpha/2}\\frac{\\sigma}{\\sqrt n}  \\leq \\mu_0 \\leq \\bar{x} +z_{\\alpha/2}\\frac{\\sigma}{\\sqrt n} \n",
    "\\end{equation}\n",
    "\\label{eq:ci} \\tag{1}\n",
    "$$"
   ]
  },
  {
   "cell_type": "markdown",
   "metadata": {},
   "source": [
    " Because the test has size $\\alpha$, the false alarm probability, $\\mathbb{P}(H_0 \n",
    "\\texttt{  rejected}\\mid \\mu=\\mu_0)=\\alpha$.  Likewise, the $\\mathbb{P}(H_0 \n",
    "\\texttt{  accepted}\\mid \\mu=\\mu_0)=1-\\alpha$. Putting this all together with\n",
    "interval defined above means that"
   ]
  },
  {
   "cell_type": "markdown",
   "metadata": {},
   "source": [
    "$$\n",
    "\\mathbb{P}\\left(\\bar{x} -z_{\\alpha/2}\\frac{\\sigma}{\\sqrt n} \\leq \\mu_0 \\leq \\bar{x}+z_{\\alpha/2}\\frac{\\sigma}{\\sqrt n} \\Big\\vert H_0\\right)=1-\\alpha\n",
    "$$"
   ]
  },
  {
   "cell_type": "markdown",
   "metadata": {},
   "source": [
    " Because this is valid for any $\\mu_0$, we can drop the $H_0$ condition\n",
    "and say the following:"
   ]
  },
  {
   "cell_type": "markdown",
   "metadata": {},
   "source": [
    "$$\n",
    "\\mathbb{P}\\left(\\bar{x} -z_{\\alpha/2}\\frac{\\sigma}{\\sqrt n}  \\leq \\mu_0 \\leq \\bar{x} +z_{\\alpha/2}\\frac{\\sigma}{\\sqrt n} \\right) =1-\\alpha\n",
    "$$"
   ]
  },
  {
   "cell_type": "markdown",
   "metadata": {},
   "source": [
    "As may be obvious by now, the interval in Equation ref{eq:ci} above *is* the\n",
    "$1-\\alpha$ confidence interval! Thus, we have just obtained the confidence\n",
    "interval by inverting the acceptance region of the level $\\alpha$ test. The\n",
    "hypothesis test fixes the *parameter* and then asks what sample values\n",
    "(i.e., the acceptance region) are consistent with that fixed value.\n",
    "Alternatively, the confidence interval fixes the sample value and then asks\n",
    "what parameter values (i.e., the confidence interval) make this sample value\n",
    "most plausible. Note that sometimes this inversion method results in disjoint\n",
    "intervals (known as *confidence sets*)."
   ]
  },
  {
   "cell_type": "markdown",
   "metadata": {},
   "source": [
    "## Linear Regression"
   ]
  },
  {
   "cell_type": "markdown",
   "metadata": {},
   "source": [
    "<!-- TODO subset selection -->\n",
    "\n",
    "Linear regression gets to the heart of statistics: Given a set of data points,\n",
    "what is the relationship of the data in-hand to data yet seen? \n",
    "How should information from one data set propagate to other data? Linear\n",
    "regression offers the following model to address this question:"
   ]
  },
  {
   "cell_type": "markdown",
   "metadata": {},
   "source": [
    "$$\n",
    "\\mathbb{E}(Y|X=x) \\approx a x + b\n",
    "$$"
   ]
  },
  {
   "cell_type": "markdown",
   "metadata": {},
   "source": [
    " That is, given specific values for $X$, assume that the conditional\n",
    "expectation is a linear function of those specific values.  However, because\n",
    "the observed values are not the expectations themselves, the model accommodates\n",
    "this with an additive noise term. In other words, the observed variable (a.k.a.\n",
    "response, target, dependent variable) is modeled as,"
   ]
  },
  {
   "cell_type": "markdown",
   "metadata": {},
   "source": [
    "$$\n",
    "\\mathbb{E}(Y| X=x_i) + \\epsilon_i \\approx a x + b+ \\epsilon_i=y\n",
    "$$"
   ]
  },
  {
   "cell_type": "markdown",
   "metadata": {},
   "source": [
    " where $\\mathbb{E}(\\epsilon_i)=0$ and the $\\epsilon_i$ are iid and\n",
    "where the distribution function of $\\epsilon_i$ depends on the problem, even\n",
    "though it is often assumed Gaussian. The $X=x$ values are known as independent\n",
    "variables, covariates, or regressors. \n",
    "\n",
    "Let's see if we can use all of the methods we have developed so far to\n",
    "understand this form of regression. The first task is to determine how to\n",
    "estimate the unknown linear parameters, $a$ and $b$. To make this concrete,\n",
    "let's assume that $\\epsilon \\sim \\mathcal{N}(0,\\sigma^2)$.  Bear in mind that\n",
    "$\\mathbb{E}(Y|X=x)$ is a deterministic function of $x$.  In other words, the\n",
    "variable $x$ changes with each draw, but after the data have been collected\n",
    "these are no longer random quantities. Thus, for fixed $x$, $y$ is a random\n",
    "variable generated by $\\epsilon$.  Perhaps we should denote $\\epsilon$ as\n",
    "$\\epsilon_x$ to emphasize this, but because $\\epsilon$ is an independent,\n",
    "identically-distributed (iid) random variable at each fixed $x$, this would be\n",
    "excessive.  Because of Gaussian additive noise, the\n",
    "distribution of $y$ is completely characterized by its mean and variance."
   ]
  },
  {
   "cell_type": "markdown",
   "metadata": {},
   "source": [
    "$$\n",
    "\\mathbb{E}(y) = a x  + b\n",
    "$$"
   ]
  },
  {
   "cell_type": "markdown",
   "metadata": {},
   "source": [
    "$$\n",
    "\\\n",
    "\\mathbb{V}(y) = \\sigma^2\n",
    "$$"
   ]
  },
  {
   "cell_type": "markdown",
   "metadata": {},
   "source": [
    " Using the maximum likelihood procedure, we write\n",
    "out the log-likelihood  function as"
   ]
  },
  {
   "cell_type": "markdown",
   "metadata": {},
   "source": [
    "$$\n",
    "\\mathcal{L}(a,b)  = \\sum_{i=1}^n \\log \\mathcal{N}(a x_i +b , \\sigma^2) \\propto \\frac{1}{2 \\sigma^2}\\sum_{i=1}^n (y_i-a x_i-b)^2\n",
    "$$"
   ]
  },
  {
   "cell_type": "markdown",
   "metadata": {},
   "source": [
    " Note that we suppressed  the terms that are irrelevent to\n",
    "the maximum-finding. Taking the derivative of this with respect to $a$ gives\n",
    "the following equation:"
   ]
  },
  {
   "cell_type": "markdown",
   "metadata": {},
   "source": [
    "$$\n",
    "\\frac{\\partial \\mathcal{L}(a,b)}{\\partial a}= 2 \\sum_{i=1}^n x_i (b+ a x_i -y_i) =0\n",
    "$$"
   ]
  },
  {
   "cell_type": "markdown",
   "metadata": {},
   "source": [
    " Likewise, we do the same for the $b$ parameter"
   ]
  },
  {
   "cell_type": "markdown",
   "metadata": {},
   "source": [
    "$$\n",
    "\\frac{\\partial \\mathcal{L}(a,b)}{\\partial b}=2\\sum_{i=1}^n (b+a x_i-y_i) =0\n",
    "$$"
   ]
  },
  {
   "cell_type": "markdown",
   "metadata": {},
   "source": [
    " The following code simulates some data and uses Numpy tools to\n",
    "compute the parameters as shown,"
   ]
  },
  {
   "cell_type": "code",
   "execution_count": 215,
   "metadata": {
    "ExecuteTime": {
     "end_time": "2018-10-17T12:40:00.278542Z",
     "start_time": "2018-10-17T12:40:00.270448Z"
    }
   },
   "outputs": [],
   "source": [
    "a = 6\n",
    "b = 1  # parameters to estimate\n",
    "\n",
    "x = np.linspace(0, 1, 100)\n",
    "y = a * x + np.random.randn(len(x)) + b # y ~ 6*x+1\n",
    "\n",
    "p, var_ = np.polyfit(x, y, 1, cov=True)  # fit data to line\n",
    "\n",
    "y_ = np.polyval(p, x)  # estimated by linear regression"
   ]
  },
  {
   "cell_type": "code",
   "execution_count": 72,
   "metadata": {
    "ExecuteTime": {
     "end_time": "2018-10-17T11:40:11.011781Z",
     "start_time": "2018-10-17T11:40:11.003861Z"
    }
   },
   "outputs": [
    {
     "data": {
      "text/plain": [
       "array([[ 0.10177124, -0.05088562],\n",
       "       [-0.05088562,  0.03409508]])"
      ]
     },
     "execution_count": 72,
     "metadata": {},
     "output_type": "execute_result"
    }
   ],
   "source": [
    "var_"
   ]
  },
  {
   "cell_type": "code",
   "execution_count": 102,
   "metadata": {
    "ExecuteTime": {
     "end_time": "2018-10-17T11:57:37.698227Z",
     "start_time": "2018-10-17T11:57:37.387889Z"
    }
   },
   "outputs": [
    {
     "data": {
      "text/plain": [
       "<matplotlib.legend.Legend at 0x7fa7042875c0>"
      ]
     },
     "execution_count": 102,
     "metadata": {},
     "output_type": "execute_result"
    },
    {
     "data": {
      "image/png": "[encoded data removed]",
      "text/plain": [
       "<Figure size 432x360 with 1 Axes>"
      ]
     },
     "metadata": {},
     "output_type": "display_data"
    }
   ],
   "source": [
    "plt.figure(figsize=(6,5))\n",
    "plt.plot(x,y,'o',color='k',ms=10, alpha=0.5, label='Empirical data')\n",
    "plt.plot(x,y_,'-',color='red', \n",
    "         label=f'Adjusted model\\n {p[0]:.2f}x + {p[1]:.2f}',\n",
    "         linewidth=4)\n",
    "\n",
    "plt.xlabel(r'$x$')\n",
    "plt.ylabel(r'$y$')\n",
    "\n",
    "plt.legend(bbox_to_anchor=(1.6,1),fancybox=True,shadow=True,frameon=True)"
   ]
  },
  {
   "cell_type": "code",
   "execution_count": 98,
   "metadata": {
    "ExecuteTime": {
     "end_time": "2018-10-17T11:55:35.048595Z",
     "start_time": "2018-10-17T11:55:34.766204Z"
    }
   },
   "outputs": [
    {
     "data": {
      "image/png": "[encoded data removed]",
      "text/plain": [
       "<Figure size 576x324 with 2 Axes>"
      ]
     },
     "metadata": {},
     "output_type": "display_data"
    }
   ],
   "source": [
    "f, ax = plt.subplots(1,2,figsize=(8,4.5))\n",
    "\n",
    "ax[0].hist(y_-y,density=True)\n",
    "ax[0].set_xlabel(r'$\\hat{y}-y$')\n",
    "ax[0].set_ylabel(r'PDF')\n",
    "\n",
    "stats.probplot(y_-y,plot=ax[1]);\n",
    "f.tight_layout()"
   ]
  },
  {
   "cell_type": "markdown",
   "metadata": {},
   "source": [
    "<!-- @@@CODE src-statistics/Regression.py fromto: ^a@^# draw -->\n",
    "\n",
    "<!-- dom:FIGURE: [fig-statistics/Regression_001.png, width=500 frac=1.] The panel on the left shows the data and regression line. The panel on the right shows a histogram of the regression errors. <div id=\"fig:Regression_001\"></div> -->\n",
    "<!-- begin figure -->\n",
    "<div id=\"fig:Regression_001\"></div>\n",
    "\n",
    "<p>The panel on the left shows the data and regression line. The panel on the right shows a histogram of the regression errors.</p>\n",
    "<img src=\"fig-statistics/Regression_001.png\" width=500>\n",
    "\n",
    "<!-- end figure -->\n",
    "\n",
    "\n",
    " The graph on the left of [Figure](#fig:Regression_001)\n",
    "shows the regression line plotted against the data. The estimated\n",
    "parameters are noted in the title.  The histogram on the right of\n",
    "[Figure](#fig:Regression_001) shows the residual errors in the model.\n",
    "It is always a good idea to inspect the residuals of any regression\n",
    "for normality. These are the differences between the fitted line for\n",
    "each $x_i$ value and the corresponding $y_i$ value in the data.\n",
    "Note that the $x$ term does not have to be uniformly monotone.\n",
    "\n",
    "To decouple the deterministic variation from the random variation, we can fix\n",
    "the index and write separate problems of the form"
   ]
  },
  {
   "cell_type": "markdown",
   "metadata": {},
   "source": [
    "$$\n",
    "y_i = a x_i +b + \\epsilon_i\n",
    "$$"
   ]
  },
  {
   "cell_type": "markdown",
   "metadata": {},
   "source": [
    " where $\\epsilon_i \\sim \\mathcal{N}(0,\\sigma^2)$. What could we do with\n",
    "just this one component of the problem? In other words, suppose we had\n",
    "$m$-samples of this component as in $\\lbrace y_{i,k}\\rbrace_{k=1}^m$. Following\n",
    "the usual procedure, we could obtain estimates of the mean of $y_i$ as"
   ]
  },
  {
   "cell_type": "markdown",
   "metadata": {},
   "source": [
    "$$\n",
    "\\hat{y_i} = \\frac{1}{m}\\sum_{k=1}^m y_{i,k}\n",
    "$$"
   ]
  },
  {
   "cell_type": "markdown",
   "metadata": {},
   "source": [
    " However, this tells us nothing about the individual parameters $a$\n",
    "and $b$ because they are not separable in the terms that are computed, namely,\n",
    "we may have"
   ]
  },
  {
   "cell_type": "markdown",
   "metadata": {},
   "source": [
    "$$\n",
    "\\mathbb{E}(y_i) = a x_i +b\n",
    "$$"
   ]
  },
  {
   "cell_type": "markdown",
   "metadata": {},
   "source": [
    " but we still only have one equation and the two unknowns, $a$ and\n",
    "$b$. How about if we consider and fix another component $j$ as in"
   ]
  },
  {
   "cell_type": "markdown",
   "metadata": {},
   "source": [
    "$$\n",
    "y_j = a x_j +b + \\epsilon_i\n",
    "$$"
   ]
  },
  {
   "cell_type": "markdown",
   "metadata": {},
   "source": [
    " Then, we have"
   ]
  },
  {
   "cell_type": "markdown",
   "metadata": {},
   "source": [
    "$$\n",
    "\\mathbb{E}(y_j) = a x_j +b\n",
    "$$"
   ]
  },
  {
   "cell_type": "markdown",
   "metadata": {},
   "source": [
    " so at least now we have two equations and two unknowns and we know how to\n",
    "estimate the left hand sides of these equations from the data using the\n",
    "estimators $\\hat{y_i}$ and  $\\hat{y_j}$. Let's see how this works in the code\n",
    "sample below."
   ]
  },
  {
   "cell_type": "code",
   "execution_count": 137,
   "metadata": {
    "ExecuteTime": {
     "end_time": "2018-10-17T12:14:54.091385Z",
     "start_time": "2018-10-17T12:14:54.084256Z"
    }
   },
   "outputs": [],
   "source": [
    "x0, xn = x[0], x[80]\n",
    "# generate synthetic data\n",
    "y_0 = a * x0 + np.random.randn(20) + b\n",
    "y_1 = a * xn + np.random.randn(20) + b\n",
    "\n",
    "# mean along sample dimension\n",
    "yhat = np.array([y_0, y_1]).mean(axis=1)\n",
    "\n",
    "a_, b_ = np.linalg.solve(np.array([[x0, 1], [xn, 1]]), yhat)"
   ]
  },
  {
   "cell_type": "code",
   "execution_count": 138,
   "metadata": {
    "ExecuteTime": {
     "end_time": "2018-10-17T12:14:54.649658Z",
     "start_time": "2018-10-17T12:14:54.285545Z"
    }
   },
   "outputs": [
    {
     "data": {
      "text/plain": [
       "<matplotlib.legend.Legend at 0x7fa6efd9d588>"
      ]
     },
     "execution_count": 138,
     "metadata": {},
     "output_type": "execute_result"
    },
    {
     "data": {
      "image/png": "[encoded data removed]",
      "text/plain": [
       "<Figure size 432x360 with 1 Axes>"
      ]
     },
     "metadata": {},
     "output_type": "display_data"
    }
   ],
   "source": [
    "plt.figure(figsize=(6,5))\n",
    "\n",
    "plt.plot(20*[x0],y_0,'o',label='Simulated $x_0$')\n",
    "plt.plot(20*[xn],y_1,'o',label='Simulated $x_{80}$')\n",
    "plt.plot(x,x*a+b,'-',color='k',label='True')\n",
    "plt.plot(x,x*a_+b_,'-',color='red',label='Adjusted')\n",
    "\n",
    "plt.xlabel(r'$x$')\n",
    "plt.ylabel(r'$y$')\n",
    "\n",
    "plt.legend(bbox_to_anchor=(1.6,1),fancybox=True,shadow=True,frameon=True)"
   ]
  },
  {
   "cell_type": "markdown",
   "metadata": {},
   "source": [
    "<!-- dom:FIGURE: [fig-statistics/Regression_002.png, width=500 frac=0.95] The fitted and true lines are plotted with the data values. The squares at either end of the solid line show the mean value for each of the data groups shown. <div id=\"fig:Regression_002\"></div> -->\n",
    "<!-- begin figure -->\n",
    "<div id=\"fig:Regression_002\"></div>\n",
    "\n",
    "<p>The fitted and true lines are plotted with the data values. The squares at either end of the solid line show the mean value for each of the data groups shown.</p>\n",
    "<img src=\"fig-statistics/Regression_002.png\" width=500>\n",
    "\n",
    "<!-- end figure -->\n",
    "\n",
    "\n",
    "**Programming Tip.**\n",
    "\n",
    "The prior code uses the `solve` function in the Numpy `linalg` module, which\n",
    "contains the core linear algebra codes in Numpy that incorporate the\n",
    "battle-tested LAPACK library.\n",
    "\n",
    "\n",
    "\n",
    " We can write out the solution for the estimated parameters for this\n",
    "case where $x_0 =0$"
   ]
  },
  {
   "cell_type": "markdown",
   "metadata": {},
   "source": [
    "$$\n",
    "\\hat{a} = \\frac{\\hat{y}_i - \\hat{y}_0}{x_i}\n",
    "$$"
   ]
  },
  {
   "cell_type": "markdown",
   "metadata": {},
   "source": [
    "$$\n",
    "\\\n",
    "\\hat{b} = \\hat{y_0}\n",
    "$$"
   ]
  },
  {
   "cell_type": "markdown",
   "metadata": {},
   "source": [
    "$$\n",
    "\\\n",
    "$$"
   ]
  },
  {
   "cell_type": "markdown",
   "metadata": {},
   "source": [
    " The expectations and variances of these estimators are the following,"
   ]
  },
  {
   "cell_type": "markdown",
   "metadata": {},
   "source": [
    "$$\n",
    "\\mathbb{E}(\\hat{a}) = \\frac{a x_i }{x_i}=a\n",
    "$$"
   ]
  },
  {
   "cell_type": "markdown",
   "metadata": {},
   "source": [
    "$$\n",
    "\\\n",
    "\\mathbb{E}(\\hat{b}) =b\n",
    "$$"
   ]
  },
  {
   "cell_type": "markdown",
   "metadata": {},
   "source": [
    "$$\n",
    "\\\n",
    "\\mathbb{V}(\\hat{a}) = \\frac{2 \\sigma^2}{x_i^2}\n",
    "$$"
   ]
  },
  {
   "cell_type": "markdown",
   "metadata": {},
   "source": [
    "$$\n",
    "\\\n",
    "\\mathbb{V}(\\hat{b}) = \\sigma^2\n",
    "$$"
   ]
  },
  {
   "cell_type": "markdown",
   "metadata": {},
   "source": [
    " The expectations show that the estimators are unbiased.  The\n",
    "estimator  $\\hat{a}$ has a variance that decreases as larger points $x_i$ are\n",
    "selected. That is, it is better to have samples further out along the\n",
    "horizontal axis for fitting the line.  This variance quantifies the *leverage*\n",
    "of those distant points.\n",
    "\n",
    "**Regression From Projection Methods.** Let's see if we can apply our knowledge\n",
    "of projection methods to the general case.  In vector notation, we can write\n",
    "the following:"
   ]
  },
  {
   "cell_type": "markdown",
   "metadata": {},
   "source": [
    "$$\n",
    "\\mathbf{y} = a \\mathbf{x} + b\\mathbf{1} + \\boldsymbol{\\epsilon}\n",
    "$$"
   ]
  },
  {
   "cell_type": "markdown",
   "metadata": {},
   "source": [
    " where $\\mathbf{1}$ is the vector of all ones. \n",
    "Let's use the inner-product notation,"
   ]
  },
  {
   "cell_type": "markdown",
   "metadata": {},
   "source": [
    "$$\n",
    "\\langle \\mathbf{x},\\mathbf{y} \\rangle = \\mathbb{E}(\\mathbf{x}^T \\mathbf{y})\n",
    "$$"
   ]
  },
  {
   "cell_type": "markdown",
   "metadata": {},
   "source": [
    " Then, by taking the inner-product with some $\\mathbf{x}_1 \\in\n",
    "\\mathbf{1}^\\perp$ we obtain [^perp],\n",
    "\n",
    "[^perp]: The space of all vectors, $\\mathbf{a}$ such that $\\langle\n",
    "\\mathbf{a},\\mathbf{1} \\rangle = 0$ is denoted $\\mathbf{1}^\\perp$."
   ]
  },
  {
   "cell_type": "markdown",
   "metadata": {},
   "source": [
    "$$\n",
    "\\langle \\mathbf{y},\\mathbf{x}_1  \\rangle = a \\langle \\mathbf{x},\\mathbf{x}_1 \\rangle\n",
    "$$"
   ]
  },
  {
   "cell_type": "markdown",
   "metadata": {},
   "source": [
    " Recall that $\\mathbb{E}(\\boldsymbol{\\epsilon})=\\mathbf{0}$.  We\n",
    "can finally solve for $a$ as"
   ]
  },
  {
   "cell_type": "markdown",
   "metadata": {},
   "source": [
    "<!-- Equation labels as ordinary links -->\n",
    "<div id=\"eq:ahat\"></div>\n",
    "\n",
    "$$\n",
    "\\begin{equation}\n",
    "\\hat{a} = \\frac{\\langle\\mathbf{y},\\mathbf{x}_1 \\rangle}{\\langle \\mathbf{x},\\mathbf{x}_1 \\rangle} \n",
    "\\end{equation}\n",
    "\\label{eq:ahat} \\tag{1}\n",
    "$$"
   ]
  },
  {
   "cell_type": "markdown",
   "metadata": {},
   "source": [
    " That was pretty neat but now we have the mysterious $\\mathbf{x}_1$\n",
    "vector.  Where does this come from?  If we project $\\mathbf{x}$ onto the\n",
    "$\\mathbf{1}^\\perp$, then we get the MMSE  approximation to $\\mathbf{x}$ in the\n",
    "$\\mathbf{1}^\\perp$ space. Thus, we take"
   ]
  },
  {
   "cell_type": "markdown",
   "metadata": {},
   "source": [
    "$$\n",
    "\\mathbf{x}_1 = P_{\\mathbf{1}^\\perp} (\\mathbf{x})\n",
    "$$"
   ]
  },
  {
   "cell_type": "markdown",
   "metadata": {},
   "source": [
    " Remember that $P_{\\mathbf{1}^\\perp} $ is a projection matrix so the length of\n",
    "$\\mathbf{x}_1$ is at most $\\mathbf{x}$. This means that the denominator in\n",
    "the $\\hat{a}$ equation above is really just the length of the $\\mathbf{x}$\n",
    "vector in the coordinate system of $P_{\\mathbf{1}^\\perp} $. Because the\n",
    "projection is orthogonal (namely, of minimum length), the Pythagorean theorem\n",
    "gives this length as the following:"
   ]
  },
  {
   "cell_type": "markdown",
   "metadata": {},
   "source": [
    "$$\n",
    "\\langle \\mathbf{x},\\mathbf{x}_1 \\rangle ^2=\\langle \\mathbf{x},\\mathbf{x} \\rangle- \\langle\\mathbf{1},\\mathbf{x} \\rangle^2\n",
    "$$"
   ]
  },
  {
   "cell_type": "markdown",
   "metadata": {},
   "source": [
    " The first term on the right is the length of the $\\mathbf{x}$ vector\n",
    "and last term is the length of $\\mathbf{x}$ in the coordinate system orthogonal\n",
    "to $P_{\\mathbf{1}^\\perp} $, namely that of $\\mathbf{1}$.  We\n",
    "can use this geometric interpretation to understand what is going on in\n",
    "typical linear regression in much more detail. The fact that the denominator is\n",
    "the orthogonal projection of $\\mathbf{x}$ tells us that the choice of\n",
    "$\\mathbf{x}_1$ has the strongest effect (i.e., largest value) on reducing\n",
    "the variance of $\\hat{a}$. That is, the more $\\mathbf{x}$ is aligned with\n",
    "$\\mathbf{1}$, the worse the variance of $\\hat{a}$. This makes intuitive sense\n",
    "because the closer $\\mathbf{x}$ is to $\\mathbf{1}$, the more constant it is,\n",
    "and we have already seen from our one-dimensional example that distance between\n",
    "the $x$ terms pays off in reduced variance. We already know that $\\hat{a}$\n",
    "is an unbiased estimator and because we chose $\\mathbf{x}_1$ deliberately as a\n",
    "projection, we know that it is also of minimum variance. Such estimators are\n",
    "known as Minimum-Variance Unbiased Estimators (MVUE).\n",
    "\n",
    "In the same spirit, let's examine the numerator of $\\hat{a}$ in Equation ref{eq:ahat}. We can write\n",
    "$\\mathbf{x}_{1}$ as the following"
   ]
  },
  {
   "cell_type": "markdown",
   "metadata": {},
   "source": [
    "$$\n",
    "\\mathbf{x}_{1} = \\mathbf{x} -  P_{\\mathbf{1}} \\mathbf{x}\n",
    "$$"
   ]
  },
  {
   "cell_type": "markdown",
   "metadata": {},
   "source": [
    " where $P_{\\mathbf{1}}$ is projection matrix  of $\\mathbf{x}$ onto the\n",
    "$\\mathbf{1}$ vector. Using this, the numerator of $\\hat{a}$ becomes"
   ]
  },
  {
   "cell_type": "markdown",
   "metadata": {},
   "source": [
    "$$\n",
    "\\langle \\mathbf{y}, \\mathbf{x}_1\\rangle  =\\langle \\mathbf{y}, \\mathbf{x}\\rangle -\\langle \\mathbf{y}, P_{\\mathbf{1}} \\mathbf{x}\\rangle\n",
    "$$"
   ]
  },
  {
   "cell_type": "markdown",
   "metadata": {},
   "source": [
    " Note that,"
   ]
  },
  {
   "cell_type": "markdown",
   "metadata": {},
   "source": [
    "$$\n",
    "P_{\\mathbf{1}}  = \\mathbf{1} \\mathbf{1}^T \\frac{1}{n}\n",
    "$$"
   ]
  },
  {
   "cell_type": "markdown",
   "metadata": {},
   "source": [
    " so that writing this out explicitly gives"
   ]
  },
  {
   "cell_type": "markdown",
   "metadata": {},
   "source": [
    "$$\n",
    "\\langle \\mathbf{y}, P_{\\mathbf{1}} \\mathbf{x}\\rangle = \\left(\\mathbf{y}^T \\mathbf{1}\\right) \\left(\\mathbf{1}^T \\mathbf{x}\\right)/n =\\left(\\sum y_i\\right)\\left(\\sum x_{i}\\right)/n\n",
    "$$"
   ]
  },
  {
   "cell_type": "markdown",
   "metadata": {},
   "source": [
    " and similarly, we have the following for the denominator:"
   ]
  },
  {
   "cell_type": "markdown",
   "metadata": {},
   "source": [
    "$$\n",
    "\\langle \\mathbf{x}, P_{\\mathbf{1}} \\mathbf{x}\\rangle = \\left(\\mathbf{x}^T \\mathbf{1}\\right) \\left(\\mathbf{1}^T \\mathbf{x}\\right)/n =\\left(\\sum x_i\\right)\\left(\\sum x_{i}\\right)/n\n",
    "$$"
   ]
  },
  {
   "cell_type": "markdown",
   "metadata": {},
   "source": [
    " So, plugging all of this together gives the following,"
   ]
  },
  {
   "cell_type": "markdown",
   "metadata": {},
   "source": [
    "$$\n",
    "\\hat{a} = \\frac{\\mathbf{x}^T\\mathbf{y}-(\\sum x_i)(\\sum y_i)/n}{\\mathbf{x}^T \\mathbf{x}  -(\\sum x_i)^2/n}\n",
    "$$"
   ]
  },
  {
   "cell_type": "markdown",
   "metadata": {},
   "source": [
    " with corresponding variance,"
   ]
  },
  {
   "cell_type": "markdown",
   "metadata": {},
   "source": [
    "$$\n",
    "\\mathbb{V}(\\hat{a}) = \\sigma^2 \\frac{\\|\\mathbf{x}_1\\|^2}{\\langle\\mathbf{x},\\mathbf{x}_1\\rangle^2}\n",
    "$$"
   ]
  },
  {
   "cell_type": "markdown",
   "metadata": {},
   "source": [
    "$$\n",
    "\\\n",
    "                    = \\frac{\\sigma^2}{\\Vert \\mathbf{x}\\Vert^2-n(\\overline{x}^2)}\n",
    "$$"
   ]
  },
  {
   "cell_type": "markdown",
   "metadata": {},
   "source": [
    " Using the same approach with $\\hat{b}$ gives,"
   ]
  },
  {
   "cell_type": "markdown",
   "metadata": {},
   "source": [
    "<!-- Equation labels as ordinary links -->\n",
    "<div id=\"_auto1\"></div>\n",
    "\n",
    "$$\n",
    "\\begin{equation}\n",
    "\\hat{b}  = \\frac{\\langle \\mathbf{y},\\mathbf{x}^{\\perp} \\rangle}{\\langle \\mathbf{1},\\mathbf{x}^{\\perp}\\rangle} \n",
    "\\label{_auto1} \\tag{2}\n",
    "\\end{equation}\n",
    "$$"
   ]
  },
  {
   "cell_type": "markdown",
   "metadata": {},
   "source": [
    "<!-- Equation labels as ordinary links -->\n",
    "<div id=\"_auto2\"></div>\n",
    "\n",
    "$$\n",
    "\\begin{equation} \\\n",
    "         = \\frac{\\langle \\mathbf{y},\\mathbf{1}-P_{\\mathbf{x}}(\\mathbf{1})\\rangle}{\\langle \\mathbf{1},\\mathbf{1}-P_{\\mathbf{x}}(\\mathbf{1})\\rangle} \n",
    "\\label{_auto2} \\tag{3}\n",
    "\\end{equation}\n",
    "$$"
   ]
  },
  {
   "cell_type": "markdown",
   "metadata": {},
   "source": [
    "<!-- Equation labels as ordinary links -->\n",
    "<div id=\"_auto3\"></div>\n",
    "\n",
    "$$\n",
    "\\begin{equation} \\\n",
    "         = \\frac{\\mathbf{x}^T \\mathbf{x}(\\sum y_i)/n -\\mathbf{x}^T\\mathbf{y}(\\sum x_i)/n}{\\mathbf{x}^T \\mathbf{x} -(\\sum x_i)^2/n} \n",
    "\\label{_auto3} \\tag{4}\n",
    "\\end{equation}\n",
    "$$"
   ]
  },
  {
   "cell_type": "markdown",
   "metadata": {},
   "source": [
    " where"
   ]
  },
  {
   "cell_type": "markdown",
   "metadata": {},
   "source": [
    "$$\n",
    "P_{\\mathbf{x}} = \\frac{\\mathbf{\\mathbf{x} \\mathbf{x}^T}}{\\| \\mathbf{x} \\|^2}\n",
    "$$"
   ]
  },
  {
   "cell_type": "markdown",
   "metadata": {},
   "source": [
    " with variance"
   ]
  },
  {
   "cell_type": "markdown",
   "metadata": {},
   "source": [
    "$$\n",
    "\\mathbb{V}(\\hat{b})=\\sigma^2 \\frac{\\langle \\boldsymbol{\\mathbf{1}-P_{\\mathbf{x}}(\\mathbf{1})},\\boldsymbol{\\mathbf{1}-P_{\\mathbf{x}}(\\mathbf{1})}\\rangle}{\\langle \\mathbf{1},\\boldsymbol{\\mathbf{1}-P_{\\mathbf{x}}(\\mathbf{1})}\\rangle^2}\n",
    "$$"
   ]
  },
  {
   "cell_type": "markdown",
   "metadata": {},
   "source": [
    "$$\n",
    "\\\n",
    "                   =\\frac{\\sigma^2}{n-\\frac{(n\\overline{x})^2}{\\Vert\\mathbf{x}\\Vert^2}}\n",
    "$$"
   ]
  },
  {
   "cell_type": "markdown",
   "metadata": {},
   "source": [
    "**Qualifying the Estimates.** Our formulas for the variance above include the\n",
    "unknown $\\sigma^2$, which we must estimate from the data itself using our\n",
    "plug-in estimates.  We can form the residual sum of squares as"
   ]
  },
  {
   "cell_type": "markdown",
   "metadata": {},
   "source": [
    "$$\n",
    "\\texttt{RSS} = \\sum_i (\\hat{a} x_i + \\hat{b} - y_i)^2\n",
    "$$"
   ]
  },
  {
   "cell_type": "markdown",
   "metadata": {},
   "source": [
    " Thus, the estimate of $\\sigma^2$ can be expressed as"
   ]
  },
  {
   "cell_type": "markdown",
   "metadata": {},
   "source": [
    "$$\n",
    "\\hat{\\sigma}^2 = \\frac{\\texttt{RSS}}{n-2}\n",
    "$$"
   ]
  },
  {
   "cell_type": "markdown",
   "metadata": {},
   "source": [
    " where $n$ is the number of samples. This is also known as the\n",
    "*residual mean square*. The $n-2$  represents the *degrees of freedom* (`df`).\n",
    "Because we estimated two parameters from the same data we have $n-2$ instead of\n",
    "$n$. Thus, in general, $\\texttt{df} = n - p$, where $p$ is the number of\n",
    "estimated parameters.  Under the assumption that the noise is Gaussian,  the\n",
    "$\\texttt{RSS}/\\sigma^2$ is chi-squared distributed with $n-2$ degrees of\n",
    "freedom. Another important term is the *sum of squares about the mean*, (a.k.a\n",
    "*corrected* sum of squares),"
   ]
  },
  {
   "cell_type": "markdown",
   "metadata": {},
   "source": [
    "$$\n",
    "\\texttt{SYY} = \\sum (y_i - \\bar{y})^2\n",
    "$$"
   ]
  },
  {
   "cell_type": "markdown",
   "metadata": {},
   "source": [
    " The $\\texttt{SYY}$ captures the idea of not using the $x_i$ data and\n",
    "just using the mean of the $y_i$ data to estimate $y$. These two terms lead\n",
    "to the $R^2$ term,"
   ]
  },
  {
   "cell_type": "markdown",
   "metadata": {},
   "source": [
    "$$\n",
    "R^2=1-\\frac{\\texttt{RSS}}{ \\texttt{SYY} }\n",
    "$$"
   ]
  },
  {
   "cell_type": "markdown",
   "metadata": {},
   "source": [
    " Note that for perfect regression, $R^2=1$.  That is, if the\n",
    "regression gets each $y_i$ data point exactly right, then\n",
    "$\\texttt{RSS}=0$ this term equals one.  Thus, this term is used to\n",
    "measure of goodness-of-fit. The `stats` module in `scipy` computes\n",
    "many of these terms automatically,"
   ]
  },
  {
   "cell_type": "markdown",
   "metadata": {},
   "source": [
    "```python\n",
    "stats.linregress(x, y)\n",
    "\n",
    "Calculate a linear least-squares regression for two sets of measurements.\n",
    "\n",
    "Parameters\n",
    "----------\n",
    "x, y : array_like\n",
    "    Two sets of measurements.  Both arrays should have the same length.\n",
    "    If only x is given (and y=None), then it must be a two-dimensional\n",
    "    array where one dimension has length 2.  The two sets of measurements\n",
    "    are then found by splitting the array along the length-2 dimension.\n",
    "\n",
    "Returns\n",
    "-------\n",
    "slope : float\n",
    "    slope of the regression line\n",
    "intercept : float\n",
    "    intercept of the regression line\n",
    "rvalue : float\n",
    "    correlation coefficient\n",
    "pvalue : float\n",
    "    two-sided p-value for a hypothesis test whose null hypothesis is\n",
    "    that the slope is zero, using Wald Test with t-distribution of\n",
    "    the test statistic.\n",
    "stderr : float\n",
    "    Standard error of the estimated gradient.\n",
    "```"
   ]
  },
  {
   "cell_type": "code",
   "execution_count": 140,
   "metadata": {
    "ExecuteTime": {
     "end_time": "2018-10-17T12:16:15.198113Z",
     "start_time": "2018-10-17T12:16:15.189415Z"
    }
   },
   "outputs": [
    {
     "data": {
      "text/plain": [
       "(6.252555599231139,\n",
       " 0.9065084923448588,\n",
       " 0.8944599014162138,\n",
       " 4.975333616518829e-36,\n",
       " 0.31574399882090814)"
      ]
     },
     "execution_count": 140,
     "metadata": {},
     "output_type": "execute_result"
    }
   ],
   "source": [
    "slope, intercept, r_value, p_value, stderr = stats.linregress(x, y)\n",
    "\n",
    "(slope, intercept, r_value, p_value, stderr)"
   ]
  },
  {
   "cell_type": "markdown",
   "metadata": {},
   "source": [
    " where the square of the `r_value` variable is the $R^2$ above. The\n",
    "computed p-value is the two-sided hypothesis test with a null hypothesis that\n",
    "the slope of the line is zero. In other words, this tests whether or not the\n",
    "linear regression  makes sense for the data for that hypothesis.  The\n",
    "Statsmodels module provides a powerful extension to Scipy's stats module by\n",
    "making it easy to do regression and keep track of these parameters. Let's\n",
    "reformulate our problem using the Statsmodels framework by creating\n",
    "a Pandas dataframe for the data,"
   ]
  },
  {
   "cell_type": "code",
   "execution_count": 147,
   "metadata": {
    "ExecuteTime": {
     "end_time": "2018-10-17T12:21:44.827881Z",
     "start_time": "2018-10-17T12:21:44.821839Z"
    }
   },
   "outputs": [],
   "source": [
    "import statsmodels.formula.api as smf\n",
    "\n",
    "d = pd.DataFrame({'x':np.linspace(0,1,30)}) # create data\n",
    "d['y'] = a*d.x+ b + np.random.randn(*d.x.shape)"
   ]
  },
  {
   "cell_type": "code",
   "execution_count": 148,
   "metadata": {
    "ExecuteTime": {
     "end_time": "2018-10-17T12:21:45.160093Z",
     "start_time": "2018-10-17T12:21:45.143659Z"
    }
   },
   "outputs": [
    {
     "data": {
      "text/html": [
       "<div>\n",
       "<style scoped>\n",
       "    .dataframe tbody tr th:only-of-type {\n",
       "        vertical-align: middle;\n",
       "    }\n",
       "\n",
       "    .dataframe tbody tr th {\n",
       "        vertical-align: top;\n",
       "    }\n",
       "\n",
       "    .dataframe thead th {\n",
       "        text-align: right;\n",
       "    }\n",
       "</style>\n",
       "<table border=\"1\" class=\"dataframe\">\n",
       "  <thead>\n",
       "    <tr style=\"text-align: right;\">\n",
       "      <th></th>\n",
       "      <th>x</th>\n",
       "      <th>y</th>\n",
       "    </tr>\n",
       "  </thead>\n",
       "  <tbody>\n",
       "    <tr>\n",
       "      <th>0</th>\n",
       "      <td>0.000000</td>\n",
       "      <td>1.860473</td>\n",
       "    </tr>\n",
       "    <tr>\n",
       "      <th>1</th>\n",
       "      <td>0.034483</td>\n",
       "      <td>3.915602</td>\n",
       "    </tr>\n",
       "    <tr>\n",
       "      <th>2</th>\n",
       "      <td>0.068966</td>\n",
       "      <td>0.312670</td>\n",
       "    </tr>\n",
       "    <tr>\n",
       "      <th>3</th>\n",
       "      <td>0.103448</td>\n",
       "      <td>1.447353</td>\n",
       "    </tr>\n",
       "    <tr>\n",
       "      <th>4</th>\n",
       "      <td>0.137931</td>\n",
       "      <td>0.062987</td>\n",
       "    </tr>\n",
       "    <tr>\n",
       "      <th>...</th>\n",
       "      <td>...</td>\n",
       "      <td>...</td>\n",
       "    </tr>\n",
       "    <tr>\n",
       "      <th>25</th>\n",
       "      <td>0.862069</td>\n",
       "      <td>6.671125</td>\n",
       "    </tr>\n",
       "    <tr>\n",
       "      <th>26</th>\n",
       "      <td>0.896552</td>\n",
       "      <td>8.172672</td>\n",
       "    </tr>\n",
       "    <tr>\n",
       "      <th>27</th>\n",
       "      <td>0.931034</td>\n",
       "      <td>7.204027</td>\n",
       "    </tr>\n",
       "    <tr>\n",
       "      <th>28</th>\n",
       "      <td>0.965517</td>\n",
       "      <td>6.791268</td>\n",
       "    </tr>\n",
       "    <tr>\n",
       "      <th>29</th>\n",
       "      <td>1.000000</td>\n",
       "      <td>7.485090</td>\n",
       "    </tr>\n",
       "  </tbody>\n",
       "</table>\n",
       "<p>30 rows × 2 columns</p>\n",
       "</div>"
      ],
      "text/plain": [
       "           x         y\n",
       "0   0.000000  1.860473\n",
       "1   0.034483  3.915602\n",
       "2   0.068966  0.312670\n",
       "3   0.103448  1.447353\n",
       "4   0.137931  0.062987\n",
       "..       ...       ...\n",
       "25  0.862069  6.671125\n",
       "26  0.896552  8.172672\n",
       "27  0.931034  7.204027\n",
       "28  0.965517  6.791268\n",
       "29  1.000000  7.485090\n",
       "\n",
       "[30 rows x 2 columns]"
      ]
     },
     "execution_count": 148,
     "metadata": {},
     "output_type": "execute_result"
    }
   ],
   "source": [
    "d"
   ]
  },
  {
   "cell_type": "markdown",
   "metadata": {},
   "source": [
    "<!-- ** -->\n",
    "\n",
    " Now that we have  the input data in the above\n",
    "Pandas dataframe, we can perform the regression as in the following,"
   ]
  },
  {
   "cell_type": "code",
   "execution_count": 149,
   "metadata": {
    "ExecuteTime": {
     "end_time": "2018-10-17T12:21:48.136121Z",
     "start_time": "2018-10-17T12:21:48.121557Z"
    }
   },
   "outputs": [],
   "source": [
    "results = smf.ols('y ~ x', data=d).fit()"
   ]
  },
  {
   "cell_type": "markdown",
   "metadata": {},
   "source": [
    " The $\\sim$ symbol is notation for $y = a x + b + \\epsilon$, where the\n",
    "constant $b$ is implicit in this usage of Statsmodels. The names in the string\n",
    "are taken from the columns in the dataframe. This makes it very easy to build\n",
    "models with complicated interactions between the named columns in the\n",
    "dataframe. We can examine a report of the model fit by looking at the summary,"
   ]
  },
  {
   "cell_type": "code",
   "execution_count": 151,
   "metadata": {
    "ExecuteTime": {
     "end_time": "2018-10-17T12:22:12.997877Z",
     "start_time": "2018-10-17T12:22:12.971224Z"
    }
   },
   "outputs": [
    {
     "data": {
      "text/html": [
       "<table class=\"simpletable\">\n",
       "<caption>OLS Regression Results</caption>\n",
       "<tr>\n",
       "  <th>Dep. Variable:</th>            <td>y</td>        <th>  R-squared:         </th> <td>   0.787</td>\n",
       "</tr>\n",
       "<tr>\n",
       "  <th>Model:</th>                   <td>OLS</td>       <th>  Adj. R-squared:    </th> <td>   0.779</td>\n",
       "</tr>\n",
       "<tr>\n",
       "  <th>Method:</th>             <td>Least Squares</td>  <th>  F-statistic:       </th> <td>   103.3</td>\n",
       "</tr>\n",
       "<tr>\n",
       "  <th>Date:</th>             <td>Wed, 17 Oct 2018</td> <th>  Prob (F-statistic):</th> <td>6.75e-11</td>\n",
       "</tr>\n",
       "<tr>\n",
       "  <th>Time:</th>                 <td>09:22:12</td>     <th>  Log-Likelihood:    </th> <td> -43.271</td>\n",
       "</tr>\n",
       "<tr>\n",
       "  <th>No. Observations:</th>      <td>    30</td>      <th>  AIC:               </th> <td>   90.54</td>\n",
       "</tr>\n",
       "<tr>\n",
       "  <th>Df Residuals:</th>          <td>    28</td>      <th>  BIC:               </th> <td>   93.34</td>\n",
       "</tr>\n",
       "<tr>\n",
       "  <th>Df Model:</th>              <td>     1</td>      <th>                     </th>     <td> </td>   \n",
       "</tr>\n",
       "<tr>\n",
       "  <th>Covariance Type:</th>      <td>nonrobust</td>    <th>                     </th>     <td> </td>   \n",
       "</tr>\n",
       "</table>\n",
       "<table class=\"simpletable\">\n",
       "<tr>\n",
       "      <td></td>         <th>coef</th>     <th>std err</th>      <th>t</th>      <th>P>|t|</th>  <th>[0.025</th>    <th>0.975]</th>  \n",
       "</tr>\n",
       "<tr>\n",
       "  <th>Intercept</th> <td>    0.8986</td> <td>    0.377</td> <td>    2.381</td> <td> 0.024</td> <td>    0.125</td> <td>    1.672</td>\n",
       "</tr>\n",
       "<tr>\n",
       "  <th>x</th>         <td>    6.5867</td> <td>    0.648</td> <td>   10.162</td> <td> 0.000</td> <td>    5.259</td> <td>    7.914</td>\n",
       "</tr>\n",
       "</table>\n",
       "<table class=\"simpletable\">\n",
       "<tr>\n",
       "  <th>Omnibus:</th>       <td> 3.014</td> <th>  Durbin-Watson:     </th> <td>   2.104</td>\n",
       "</tr>\n",
       "<tr>\n",
       "  <th>Prob(Omnibus):</th> <td> 0.222</td> <th>  Jarque-Bera (JB):  </th> <td>   1.949</td>\n",
       "</tr>\n",
       "<tr>\n",
       "  <th>Skew:</th>          <td> 0.613</td> <th>  Prob(JB):          </th> <td>   0.377</td>\n",
       "</tr>\n",
       "<tr>\n",
       "  <th>Kurtosis:</th>      <td> 3.235</td> <th>  Cond. No.          </th> <td>    4.25</td>\n",
       "</tr>\n",
       "</table><br/><br/>Warnings:<br/>[1] Standard Errors assume that the covariance matrix of the errors is correctly specified."
      ],
      "text/plain": [
       "<class 'statsmodels.iolib.summary.Summary'>\n",
       "\"\"\"\n",
       "                            OLS Regression Results                            \n",
       "==============================================================================\n",
       "Dep. Variable:                      y   R-squared:                       0.787\n",
       "Model:                            OLS   Adj. R-squared:                  0.779\n",
       "Method:                 Least Squares   F-statistic:                     103.3\n",
       "Date:                Wed, 17 Oct 2018   Prob (F-statistic):           6.75e-11\n",
       "Time:                        09:22:12   Log-Likelihood:                -43.271\n",
       "No. Observations:                  30   AIC:                             90.54\n",
       "Df Residuals:                      28   BIC:                             93.34\n",
       "Df Model:                           1                                         \n",
       "Covariance Type:            nonrobust                                         \n",
       "==============================================================================\n",
       "                 coef    std err          t      P>|t|      [0.025      0.975]\n",
       "------------------------------------------------------------------------------\n",
       "Intercept      0.8986      0.377      2.381      0.024       0.125       1.672\n",
       "x              6.5867      0.648     10.162      0.000       5.259       7.914\n",
       "==============================================================================\n",
       "Omnibus:                        3.014   Durbin-Watson:                   2.104\n",
       "Prob(Omnibus):                  0.222   Jarque-Bera (JB):                1.949\n",
       "Skew:                           0.613   Prob(JB):                        0.377\n",
       "Kurtosis:                       3.235   Cond. No.                         4.25\n",
       "==============================================================================\n",
       "\n",
       "Warnings:\n",
       "[1] Standard Errors assume that the covariance matrix of the errors is correctly specified.\n",
       "\"\"\""
      ]
     },
     "execution_count": 151,
     "metadata": {},
     "output_type": "execute_result"
    }
   ],
   "source": [
    "results.summary()"
   ]
  },
  {
   "cell_type": "code",
   "execution_count": 152,
   "metadata": {
    "ExecuteTime": {
     "end_time": "2018-10-17T12:22:23.880362Z",
     "start_time": "2018-10-17T12:22:23.801550Z"
    }
   },
   "outputs": [
    {
     "data": {
      "text/html": [
       "<table class=\"simpletable\">\n",
       "<tr>\n",
       "        <td>Model:</td>               <td>OLS</td>         <td>Adj. R-squared:</td>     <td>0.779</td> \n",
       "</tr>\n",
       "<tr>\n",
       "  <td>Dependent Variable:</td>         <td>y</td>               <td>AIC:</td>          <td>90.5415</td>\n",
       "</tr>\n",
       "<tr>\n",
       "         <td>Date:</td>        <td>2018-10-17 09:22</td>        <td>BIC:</td>          <td>93.3439</td>\n",
       "</tr>\n",
       "<tr>\n",
       "   <td>No. Observations:</td>         <td>30</td>          <td>Log-Likelihood:</td>    <td>-43.271</td>\n",
       "</tr>\n",
       "<tr>\n",
       "       <td>Df Model:</td>              <td>1</td>           <td>F-statistic:</td>       <td>103.3</td> \n",
       "</tr>\n",
       "<tr>\n",
       "     <td>Df Residuals:</td>           <td>28</td>        <td>Prob (F-statistic):</td> <td>6.75e-11</td>\n",
       "</tr>\n",
       "<tr>\n",
       "      <td>R-squared:</td>            <td>0.787</td>            <td>Scale:</td>         <td>1.1228</td> \n",
       "</tr>\n",
       "</table>\n",
       "<table class=\"simpletable\">\n",
       "<tr>\n",
       "      <td></td>       <th>Coef.</th> <th>Std.Err.</th>    <th>t</th>     <th>P>|t|</th> <th>[0.025</th> <th>0.975]</th>\n",
       "</tr>\n",
       "<tr>\n",
       "  <th>Intercept</th> <td>0.8986</td>  <td>0.3774</td>  <td>2.3808</td>  <td>0.0243</td> <td>0.1255</td> <td>1.6718</td>\n",
       "</tr>\n",
       "<tr>\n",
       "  <th>x</th>         <td>6.5867</td>  <td>0.6482</td>  <td>10.1617</td> <td>0.0000</td> <td>5.2589</td> <td>7.9144</td>\n",
       "</tr>\n",
       "</table>\n",
       "<table class=\"simpletable\">\n",
       "<tr>\n",
       "     <td>Omnibus:</td>    <td>3.014</td>  <td>Durbin-Watson:</td>   <td>2.104</td>\n",
       "</tr>\n",
       "<tr>\n",
       "  <td>Prob(Omnibus):</td> <td>0.222</td> <td>Jarque-Bera (JB):</td> <td>1.949</td>\n",
       "</tr>\n",
       "<tr>\n",
       "       <td>Skew:</td>     <td>0.613</td>     <td>Prob(JB):</td>     <td>0.377</td>\n",
       "</tr>\n",
       "<tr>\n",
       "     <td>Kurtosis:</td>   <td>3.235</td>  <td>Condition No.:</td>     <td>4</td>  \n",
       "</tr>\n",
       "</table>"
      ],
      "text/plain": [
       "<class 'statsmodels.iolib.summary2.Summary'>\n",
       "\"\"\"\n",
       "                 Results: Ordinary least squares\n",
       "=================================================================\n",
       "Model:              OLS              Adj. R-squared:     0.779   \n",
       "Dependent Variable: y                AIC:                90.5415 \n",
       "Date:               2018-10-17 09:22 BIC:                93.3439 \n",
       "No. Observations:   30               Log-Likelihood:     -43.271 \n",
       "Df Model:           1                F-statistic:        103.3   \n",
       "Df Residuals:       28               Prob (F-statistic): 6.75e-11\n",
       "R-squared:          0.787            Scale:              1.1228  \n",
       "-------------------------------------------------------------------\n",
       "             Coef.    Std.Err.      t      P>|t|    [0.025   0.975]\n",
       "-------------------------------------------------------------------\n",
       "Intercept    0.8986     0.3774    2.3808   0.0243   0.1255   1.6718\n",
       "x            6.5867     0.6482   10.1617   0.0000   5.2589   7.9144\n",
       "-----------------------------------------------------------------\n",
       "Omnibus:              3.014        Durbin-Watson:           2.104\n",
       "Prob(Omnibus):        0.222        Jarque-Bera (JB):        1.949\n",
       "Skew:                 0.613        Prob(JB):                0.377\n",
       "Kurtosis:             3.235        Condition No.:           4    \n",
       "=================================================================\n",
       "\n",
       "\"\"\""
      ]
     },
     "execution_count": 152,
     "metadata": {},
     "output_type": "execute_result"
    }
   ],
   "source": [
    "results.summary2()"
   ]
  },
  {
   "cell_type": "markdown",
   "metadata": {},
   "source": [
    " There is a lot more here than we have discussed so far, but the\n",
    "Statsmodels documentation is the best place to go for complete information\n",
    "about this report. The F-statistic attempts to capture the contrast between\n",
    "including the slope parameter or leaving it off. That is, consider two\n",
    "hypotheses:"
   ]
  },
  {
   "cell_type": "markdown",
   "metadata": {},
   "source": [
    "$$\n",
    "H_0 \\colon  \\mathbb{E}(Y|X=x) = b\n",
    "$$"
   ]
  },
  {
   "cell_type": "markdown",
   "metadata": {},
   "source": [
    "$$\n",
    "\\\n",
    "H_1 \\colon  \\mathbb{E}(Y|X=x) = b + a x\n",
    "$$"
   ]
  },
  {
   "cell_type": "markdown",
   "metadata": {},
   "source": [
    " In order to quantify how much better adding the slope term is for\n",
    "the regression, we compute  the following:"
   ]
  },
  {
   "cell_type": "markdown",
   "metadata": {},
   "source": [
    "$$\n",
    "F = \\frac{\\texttt{SYY} - \\texttt{RSS}}{ \\hat{\\sigma}^2 }\n",
    "$$"
   ]
  },
  {
   "cell_type": "markdown",
   "metadata": {},
   "source": [
    " The numerator computes the difference in the residual squared errors\n",
    "between including the slope in the regression or just using the mean of the\n",
    "$y_i$ values. Once again, if we assume (or can claim asymptotically) that the\n",
    "$\\epsilon$ noise term is Gaussian, $\\epsilon \\sim \\mathcal{N}(0,\\sigma^2)$,\n",
    "then the $H_0$ hypothesis will follow an F-distribution [^fdist] with degrees of\n",
    "freedom from the numerator and denominator. In this case, $F \\sim F(1,n-2)$.\n",
    "The value of this statistic is reported by Statsmodels above. The corresponding\n",
    "reported probability shows the chance of $F$ exceeding its computed value  if\n",
    "$H_0$ were true. So, the take-home message from all this is that including the\n",
    "slope leads to a much smaller reduction in squared error than could be expected\n",
    "from a favorable draw of $n$ points of this data, under the Gaussian additive\n",
    "noise assumption. This is evidence that including the slope is meaningful for\n",
    "this data.\n",
    "\n",
    "[^fdist]: The $F(m,n)$ F-distribution has two integer degree-of-freedom parameters, $m$\n",
    "and $n$.\n",
    "\n",
    "\n",
    "The Statsmodels report also shows the adjusted $R^2$ term.\n",
    "This is a correction to the $R^2$ calculation that accounts\n",
    "for the number of parameters $p$ that the regression is\n",
    "fitting and the sample size $n$,"
   ]
  },
  {
   "cell_type": "markdown",
   "metadata": {},
   "source": [
    "$$\n",
    "\\texttt{Adjusted } R^2 = 1- \\frac{\\texttt{RSS}/(n-p)}{\\texttt{SYY}/(n-1)}\n",
    "$$"
   ]
  },
  {
   "cell_type": "markdown",
   "metadata": {},
   "source": [
    " This is always lower than $R^2$ except when $p=1$ (i.e., estimating\n",
    "only $b$). This becomes a better way to compare regressions when one is\n",
    "attempting to fit many parameters with comparatively small $n$.\n",
    "\n",
    "**Linear Prediction.**  Using linear regression for prediction introduces\n",
    "some other issues. Recall the following expectation,"
   ]
  },
  {
   "cell_type": "markdown",
   "metadata": {},
   "source": [
    "$$\n",
    "\\mathbb{E}(Y|X=x) \\approx \\hat{a} x + \\hat{b}\n",
    "$$"
   ]
  },
  {
   "cell_type": "markdown",
   "metadata": {},
   "source": [
    " where we have determined $\\hat{a}$  and $\\hat{b}$  from the data.\n",
    "Given a new point of interest, $x_p$, we would certainly compute"
   ]
  },
  {
   "cell_type": "markdown",
   "metadata": {},
   "source": [
    "$$\n",
    "\\hat{y}_p = \\hat{a} x_p + \\hat{b}\n",
    "$$"
   ]
  },
  {
   "cell_type": "markdown",
   "metadata": {},
   "source": [
    " as the predicted value for $\\hat{ y_p }$. This is the same as saying\n",
    "that our best prediction for $y$ based on $x_p$ is the above conditional\n",
    "expectation. The variance for this is the following,"
   ]
  },
  {
   "cell_type": "markdown",
   "metadata": {},
   "source": [
    "$$\n",
    "\\mathbb{V}(y_p) = x_p^2 \\mathbb{V}(\\hat{a}) +\\mathbb{V}(\\hat{b})+2 x_p \\texttt{cov}(\\hat{a}\\hat{b})\n",
    "$$"
   ]
  },
  {
   "cell_type": "markdown",
   "metadata": {},
   "source": [
    " Note that we have the covariance above because $\\hat{a}$ and\n",
    "$\\hat{b}$ are derived from the same data.  We can work this out below using\n",
    "our previous notation from ref{eq:ahat},"
   ]
  },
  {
   "cell_type": "markdown",
   "metadata": {},
   "source": [
    "$$\n",
    "\\texttt{cov}(\\hat{a}\\hat{b})=\\frac{\\mathbf{x}_1^T \\mathbb{V}\\lbrace\\mathbf{y}\\mathbf{y}^T\\rbrace\\mathbf{x}^{\\perp}}{(\\mathbf{x}_1^T \\mathbf{x})(\\mathbf{1}^T \\mathbf{x}^{\\perp})} = \\frac{\\mathbf{x}_1^T \\sigma^2\\mathbf{I}\\mathbf{x}^{\\perp}}{(\\mathbf{x}_1^T \\mathbf{x})(\\mathbf{1}^T \\mathbf{x}^{\\perp})}\n",
    "$$"
   ]
  },
  {
   "cell_type": "markdown",
   "metadata": {},
   "source": [
    "$$\n",
    "\\\n",
    "        =\\sigma^2\\frac{\\mathbf{x}_1^T\\mathbf{x}^{\\perp}}{(\\mathbf{x}_1^T \\mathbf{x})(\\mathbf{1}^T \\mathbf{x}^{\\perp})} = \\sigma^2\\frac{\\left(\\mathbf{x}-P_1\\mathbf{x}\\right)^T\\mathbf{x}^{\\perp}}{(\\mathbf{x}_1^T \\mathbf{x})(\\mathbf{1}^T \\mathbf{x}^{\\perp})}\n",
    "$$"
   ]
  },
  {
   "cell_type": "markdown",
   "metadata": {},
   "source": [
    "$$\n",
    "\\\n",
    "        =\\sigma^2\\frac{-\\mathbf{x}^T P_1^T\\mathbf{x}^{\\perp}}{(\\mathbf{x}_1^T \\mathbf{x})(\\mathbf{1}^T \\mathbf{x}^{\\perp})} = \\sigma^2\\frac{-\\mathbf{x}^T\\frac{1}{n}\\mathbf{1} \\mathbf{1}^T\\mathbf{x}^{\\perp}}{(\\mathbf{x}_1^T \\mathbf{x})(\\mathbf{1}^T \\mathbf{x}^{\\perp})}\n",
    "$$"
   ]
  },
  {
   "cell_type": "markdown",
   "metadata": {},
   "source": [
    "$$\n",
    "\\\n",
    "        =\\sigma^2\\frac{-\\mathbf{x}^T\\frac{1}{n}\\mathbf{1}}{(\\mathbf{x}_1^T \\mathbf{x})} = \\frac{-\\sigma^2\\overline{x}}{\\sum_{i=1}^n(x_i^2-\\overline{x}^2)}\n",
    "$$"
   ]
  },
  {
   "cell_type": "markdown",
   "metadata": {},
   "source": [
    "$$\n",
    "\\\n",
    "$$"
   ]
  },
  {
   "cell_type": "markdown",
   "metadata": {},
   "source": [
    " After plugging all this in, we obtain the following,"
   ]
  },
  {
   "cell_type": "markdown",
   "metadata": {},
   "source": [
    "$$\n",
    "\\mathbb{V}(y_p)=\\sigma^2 \\frac{x_p^2-2 x_p\\overline{x}+\\Vert \\mathbf{x}\\Vert^2/n}{\\Vert\\mathbf{x}\\Vert^2-n\\overline{x}^2}\n",
    "$$"
   ]
  },
  {
   "cell_type": "markdown",
   "metadata": {},
   "source": [
    " where, in practice, we use the plug-in estimate for\n",
    "the  $\\sigma^2$.\n",
    "\n",
    "There is an important consequence for the confidence interval for\n",
    "$y_p$. We cannot simply use the square root of $\\mathbb{V}(y_p)$\n",
    "to form the confidence interval because the model includes the\n",
    "extra $\\epsilon$ noise term. In particular, the parameters were\n",
    "computed using a set of statistics from the data, but now must\n",
    "include different realizations for the noise term for the\n",
    "prediction part.  This means we have to compute"
   ]
  },
  {
   "cell_type": "markdown",
   "metadata": {},
   "source": [
    "$$\n",
    "\\eta^2=\\mathbb{V}(y_p)+\\sigma^2\n",
    "$$"
   ]
  },
  {
   "cell_type": "markdown",
   "metadata": {},
   "source": [
    " Then, the 95\\% confidence interval $y_p \\in\n",
    "(y_p-2\\hat{\\eta},y_p+2\\hat{\\eta})$ is the following,"
   ]
  },
  {
   "cell_type": "markdown",
   "metadata": {},
   "source": [
    "$$\n",
    "\\mathbb{P}(y_p-2\\hat{\\eta}< y_p < y_p+2\\hat{\\eta})\\approx\\mathbb{P}(-2<\\mathcal{N}(0,1)<2) \\approx 0.95\n",
    "$$"
   ]
  },
  {
   "cell_type": "markdown",
   "metadata": {},
   "source": [
    " where $\\hat{\\eta}$ comes from substituting the\n",
    "plug-in estimate for $\\sigma$.\n",
    "\n",
    "## Extensions to Multiple Covariates\n",
    "\n",
    "With all the machinery we have, it is a short notational hop to consider\n",
    "multiple regressors as in the following,"
   ]
  },
  {
   "cell_type": "markdown",
   "metadata": {},
   "source": [
    "$$\n",
    "\\mathbf{Y} = \\mathbf{X} \\boldsymbol{\\beta} +\\boldsymbol{\\epsilon}\n",
    "$$"
   ]
  },
  {
   "cell_type": "markdown",
   "metadata": {},
   "source": [
    " with the usual $\\mathbb{E}(\\boldsymbol{\\epsilon})=\\mathbf{0}$ and\n",
    "$\\mathbb{V}(\\boldsymbol{\\epsilon})=\\sigma^2\\mathbf{I}$. Thus, $\\mathbf{X}$ is a\n",
    "$n \\times p$ full rank matrix of regressors and $\\mathbf{Y}$ is the $n$-vector\n",
    "of observations. Note that the constant term has been incorporated into\n",
    "$\\mathbf{X}$ as a column of ones.  The corresponding estimated solution for\n",
    "$\\boldsymbol{\\beta}$  is the following,"
   ]
  },
  {
   "cell_type": "markdown",
   "metadata": {},
   "source": [
    "$$\n",
    "\\hat{ \\boldsymbol{\\beta} } = (\\mathbf{X}^T \\mathbf{X})^{-1} \\mathbf{X}^T \\mathbf{Y}\n",
    "$$"
   ]
  },
  {
   "cell_type": "markdown",
   "metadata": {},
   "source": [
    " with corresponding variance,"
   ]
  },
  {
   "cell_type": "markdown",
   "metadata": {},
   "source": [
    "$$\n",
    "\\mathbb{V}(\\hat{\\boldsymbol{\\beta}})=\\sigma^2(\\mathbf{X}^T \\mathbf{X})^{-1}\n",
    "$$"
   ]
  },
  {
   "cell_type": "markdown",
   "metadata": {},
   "source": [
    " and with the assumption of Gaussian errors, we have"
   ]
  },
  {
   "cell_type": "markdown",
   "metadata": {},
   "source": [
    "$$\n",
    "\\hat{\\boldsymbol{\\beta}}\\sim \\mathcal{N}(\\boldsymbol{\\beta}, \\sigma^2(\\mathbf{X}^T \\mathbf{X})^{-1})\n",
    "$$"
   ]
  },
  {
   "cell_type": "markdown",
   "metadata": {},
   "source": [
    " The unbiased estimate of $\\sigma^2$ is the following,"
   ]
  },
  {
   "cell_type": "markdown",
   "metadata": {},
   "source": [
    "$$\n",
    "\\hat{\\sigma}^2 = \\frac{1}{n-p}\\sum \\hat{\\epsilon}_i^2\n",
    "$$"
   ]
  },
  {
   "cell_type": "markdown",
   "metadata": {},
   "source": [
    " where $\\hat{ \\boldsymbol{\\epsilon}}=\\mathbf{X}\\hat{\\boldsymbol{\\beta}} -\\mathbf{Y}$ \n",
    "is the vector of residuals. Tukey christened the following matrix as the *hat*\n",
    "matrix (a.k.a. influence matrix),"
   ]
  },
  {
   "cell_type": "markdown",
   "metadata": {},
   "source": [
    "$$\n",
    "\\mathbf{V}=\\mathbf{X}(\\mathbf{X}^T\\mathbf{X})^{-1}\\mathbf{X}^T\n",
    "$$"
   ]
  },
  {
   "cell_type": "markdown",
   "metadata": {},
   "source": [
    " because it maps $\\mathbf{Y}$ into $\\hat{ \\mathbf{Y} }$,"
   ]
  },
  {
   "cell_type": "markdown",
   "metadata": {},
   "source": [
    "$$\n",
    "\\hat{ \\mathbf{Y} } = \\mathbf{V} \\mathbf{Y}\n",
    "$$"
   ]
  },
  {
   "cell_type": "markdown",
   "metadata": {},
   "source": [
    " As an exercise you can check that $\\mathbf{V}$ is a projection\n",
    "matrix. Note that that matrix is solely a function of $\\mathbf{X}$. The\n",
    "diagonal elements of $\\mathbf{V}$ are called the *leverage values* and are\n",
    "contained in the closed interval $[1/n,1]$. These terms measure of distance\n",
    "between the values of $x_i$ and the mean values over the $n$ observations.\n",
    "Thus, the leverage terms depend only on $\\mathbf{X}$. This is the\n",
    "generalization of our initial discussion of leverage where we had multiple\n",
    "samples at only two $x_i$ points. Using the hat matrix, we can compute the\n",
    "variance of each residual, $e_i = \\hat{y}-y_i$ as"
   ]
  },
  {
   "cell_type": "markdown",
   "metadata": {},
   "source": [
    "$$\n",
    "\\mathbb{V}(e_i) = \\sigma^2 (1-v_{i})\n",
    "$$"
   ]
  },
  {
   "cell_type": "markdown",
   "metadata": {},
   "source": [
    " where $v_i=V_{i,i}$. Given the above-mentioned bounds on $v_{i}$,\n",
    "these are always less than $\\sigma^2$.\n",
    "\n",
    "Degeneracy in the columns of $\\mathbf{X}$ can become a problem. This is when\n",
    "two or more of the columns become co-linear. We have already seen this with our\n",
    "single regressor example wherein $\\mathbf{x}$ close to $\\mathbf{1}$ was bad\n",
    "news. To compensate for this effect we can load the diagonal elements and solve\n",
    "for the unknown parameters as in the following,"
   ]
  },
  {
   "cell_type": "markdown",
   "metadata": {},
   "source": [
    "$$\n",
    "\\hat{ \\boldsymbol{\\beta} } = (\\mathbf{X}^T \\mathbf{X}+\\alpha \\mathbf{I})^{-1} \\mathbf{X}^T \\mathbf{Y}\n",
    "$$"
   ]
  },
  {
   "cell_type": "markdown",
   "metadata": {},
   "source": [
    " where $\\alpha>0$ is a tunable hyper-parameter. This method is known\n",
    "as *ridge regression* and was proposed in 1970 by Hoerl and Kenndard. It can be\n",
    "shown that this is the equivalent to minimizing the following objective,"
   ]
  },
  {
   "cell_type": "markdown",
   "metadata": {},
   "source": [
    "$$\n",
    "\\Vert \\mathbf{Y}- \\mathbf{X} \\boldsymbol{\\beta}\\Vert^2  + \\alpha \\Vert \\boldsymbol{\\beta}\\Vert^2\n",
    "$$"
   ]
  },
  {
   "cell_type": "markdown",
   "metadata": {},
   "source": [
    " In other words, the length of the estimated $\\boldsymbol{\\beta}$ is\n",
    "penalized with larger $\\alpha$. This has the effect of stabilizing the\n",
    "subsequent inverse calculation and also providing a means to trade bias and\n",
    "variance, which we will discuss at length in the section ref{ch:ml:sec:regularization}\n",
    "\n",
    "**Interpreting Residuals.**  Our model assumes an additive Gaussian noise term.\n",
    "We can check the voracity of this assumption by examining the residuals after\n",
    "fitting.  The residuals are the difference between the fitted values and the\n",
    "original data"
   ]
  },
  {
   "cell_type": "markdown",
   "metadata": {},
   "source": [
    "$$\n",
    "\\hat{\\epsilon}_i = \\hat{a} x_i + \\hat{b} - y_i\n",
    "$$"
   ]
  },
  {
   "cell_type": "markdown",
   "metadata": {},
   "source": [
    " While the p-value and the F-ratio provide some indication of whether\n",
    "or not computing the slope of the regression makes sense, we can get directly\n",
    "at the key assumption of additive Gaussian noise.\n",
    "\n",
    "For sufficiently small dimensions, the `scipy.stats.probplot` we discussed in\n",
    "the last chapter provides quick visual evidence one way or another by plotting\n",
    "the standardized residuals,"
   ]
  },
  {
   "cell_type": "markdown",
   "metadata": {},
   "source": [
    "$$\n",
    "r_i = \\frac{e_i}{\\hat{\\sigma}\\sqrt{1-v_i}}\n",
    "$$"
   ]
  },
  {
   "cell_type": "markdown",
   "metadata": {},
   "source": [
    " The other part of the iid assumption implies homoscedasticity (all\n",
    "$r_i$ have equal variances). Under the additive Gaussian noise assumption, the\n",
    "$e_i$ should also be distributed according to $\\mathcal{N}(0,\\sigma^2(1-v_i))$.\n",
    "The normalized residuals $r_i$ should then be distributed according to\n",
    "$\\mathcal{N}(0,1)$. Thus, the presence of any $r_i \\notin [-1.96,1.96]$ should\n",
    "not be common at the 5% significance level and is thereby breeds suspicion\n",
    "regarding the homoscedasticity assumption.\n",
    "\n",
    "The Levene test in `scipy.stats.leven` tests the null hypothesis that all the\n",
    "variances are equal. This basically checks whether or not the standardized\n",
    "residuals vary across $x_i$ more than expected. Under the homoscedasticity\n",
    "assumption, the variance should be independent of $x_i$. If not, then this is a\n",
    "clue that there is a missing variable in the analysis or that the variables\n",
    "themselves should be transformed (e.g., using the $\\log$ function) into another\n",
    "format that can reduce this effect. Also, we can use weighted least-squares\n",
    "instead of ordinary least-squares.\n",
    "\n",
    "**Variable Scaling.** It is tempting to conclude in a multiple\n",
    "regression that small coefficients in any of the $\\boldsymbol{\\beta}$ terms\n",
    "implies that those terms are not important.  However, simple unit conversions\n",
    "can cause this effect. For example, if one of the regressors is in\n",
    "units of kilometers and the others are in meters, then just the scale\n",
    "factor can give the impression of outsized or under-sized effects. The\n",
    "common way to account for this is to scale the regressors so that"
   ]
  },
  {
   "cell_type": "markdown",
   "metadata": {},
   "source": [
    "$$\n",
    "x^\\prime = \\frac{x-\\bar{x}}{\\sigma_x}\n",
    "$$"
   ]
  },
  {
   "cell_type": "markdown",
   "metadata": {},
   "source": [
    " This has the side effect of converting the slope parameters\n",
    "into correlation coefficients, which is bounded by $\\pm 1$.\n",
    "\n",
    "**Influential Data.** We have already discussed the idea\n",
    "of leverage. The concept of *influence* combines leverage with\n",
    "outliers. To understand influence, consider [Figure](#fig:Regression_005).\n",
    "\n",
    "<!-- dom:FIGURE: [fig-statistics/Regression_005.png, width=500 frac=0.65] The point on the right has outsized influence in this data because it is the only one used to determine the slope of the fitted line.  <div id=\"fig:Regression_005\"></div> -->\n",
    "<!-- begin figure -->\n",
    "<div id=\"fig:Regression_005\"></div>\n",
    "\n",
    "<p>The point on the right has outsized influence in this data because it is the only one used to determine the slope of the fitted line.</p>\n",
    "<img src=\"fig-statistics/Regression_005.png\" width=500>\n",
    "\n",
    "<!-- end figure -->\n",
    "\n",
    "\n",
    "The point on the right in [Figure](#fig:Regression_005) is the only one that\n",
    "is contributing to the calculation of the slope for the fitted line. Thus, it\n",
    "is very influential in this sense. Cook's distance is a good way to get at this\n",
    "concept numerically.  To compute this, we have to compute the $j^{th}$\n",
    "component of the estimated target variable with the $i^{th}$ point deleted. We\n",
    "call this $\\hat{y}_{j(i)}$.  Then, we compute the following,"
   ]
  },
  {
   "cell_type": "markdown",
   "metadata": {},
   "source": [
    "$$\n",
    "D_i =\\frac{\\sum_j (\\hat{y}_j- \\hat{y}_{j(i)})^2}{p/n \\sum_j (\\hat{y}_j-y_j)^2}\n",
    "$$"
   ]
  },
  {
   "cell_type": "markdown",
   "metadata": {},
   "source": [
    " where, as before, $p$ is the number of estimated terms (e.g., $p=2$\n",
    "in the bivariate case). This calculation emphasizes the effect of the outlier\n",
    "by predicting the target variable with and without each point. In the case of\n",
    "[Figure](#fig:Regression_005), losing any of the points on the left cannot\n",
    "change the estimated target variable much, but losing the single point on the\n",
    "right surely does. The point on the right does not seem to be an outlier (it\n",
    "*is* on the fitted line), but this is because it is influential enough to\n",
    "rotate the line to align with it. Cook's distance helps capture this effect by\n",
    "leaving each sample out and re-fitting the remainder as shown in the last\n",
    "equation. [Figure](#fig:Regression_006) shows the calculated Cook's\n",
    "distance for the data in [Figure](#fig:Regression_005), showing that\n",
    "the data point on the right (sample index `5`) has outsized influence on the fitted line. As a rule\n",
    "of thumb, Cook's distance values greater than one are suspect.\n",
    "\n",
    "<!-- dom:FIGURE: [fig-statistics/Regression_006.png, width=500 frac=0.65] The calculated Cook's distance for the data in [Figure](#fig:Regression_005).  <div id=\"fig:Regression_006\"></div> -->\n",
    "<!-- begin figure -->\n",
    "<div id=\"fig:Regression_006\"></div>\n",
    "\n",
    "<p>The calculated Cook's distance for the data in [Figure](#fig:Regression_005).</p>\n",
    "<img src=\"fig-statistics/Regression_006.png\" width=500>\n",
    "\n",
    "<!-- end figure -->\n",
    "\n",
    "\n",
    "As another illustration of influence, consider [Figure](#fig:Regression_007)\n",
    "which shows some data that nicely line up, but with one outlier (filled black\n",
    "circle) in the upper panel.  The lower panel shows so-computed Cook's distance\n",
    "for this data. As shown Cook's distance emphasizes the presence of the outlier.\n",
    "Because the calculation involves leaving a single sample out and\n",
    "re-calculating the rest, it can be a time-consuming operation suitable to\n",
    "relatively small data sets. There is always the temptation to downplay the\n",
    "importance of outliers because they conflict with a favored model, but\n",
    "outliers must be carefully examined to understand why the model is unable\n",
    "to capture them. It could be something as simple as faulty data\n",
    "collection, or it could be an indication of deeper issues that\n",
    "have been overlooked. The following code shows how Cook's distance\n",
    "was compute for [Figure](#fig:Regression_006) and\n",
    "[Figure](#fig:Regression_007)."
   ]
  },
  {
   "cell_type": "code",
   "execution_count": 216,
   "metadata": {
    "ExecuteTime": {
     "end_time": "2018-10-17T12:40:22.514610Z",
     "start_time": "2018-10-17T12:40:22.506573Z"
    }
   },
   "outputs": [],
   "source": [
    "def fit(i, x, y):\n",
    "    return np.polyval(np.polyfit(x, y, 1), i)\n",
    "\n",
    "def omit(i,x):\n",
    "    return ([k for j, k in enumerate(x) if j != i])\n",
    "\n",
    "def cook_d(k):\n",
    "    num = sum((fit(j, omit(k, x), omit(k, y)) - fit(j, x, y))**2 for j in x)\n",
    "    den = sum((y - np.polyval(np.polyfit(x, y, 1), x))**2 / len(x) * 2)\n",
    "\n",
    "    return num / den"
   ]
  },
  {
   "cell_type": "code",
   "execution_count": 217,
   "metadata": {
    "ExecuteTime": {
     "end_time": "2018-10-17T12:40:26.032230Z",
     "start_time": "2018-10-17T12:40:22.812242Z"
    }
   },
   "outputs": [],
   "source": [
    "cook_distances = [cook_d(i) for i in range(len(x))]"
   ]
  },
  {
   "cell_type": "code",
   "execution_count": 218,
   "metadata": {
    "ExecuteTime": {
     "end_time": "2018-10-17T12:40:26.265267Z",
     "start_time": "2018-10-17T12:40:26.033700Z"
    }
   },
   "outputs": [
    {
     "data": {
      "image/png": "[encoded data removed]",
      "text/plain": [
       "<Figure size 576x360 with 2 Axes>"
      ]
     },
     "metadata": {},
     "output_type": "display_data"
    }
   ],
   "source": [
    "f, ax = plt.subplots(1,2,figsize=(8,5))\n",
    "\n",
    "ax[0].plot(x,y,'o',color='k',ms=10, alpha=0.5, label='Empirical data')\n",
    "\n",
    "ax[0].plot(x,y_,'-',color='red', \n",
    "         label=f'Adjusted model\\n {p[0]:.2f}x + {p[1]:.2f}',\n",
    "         linewidth=4)\n",
    "\n",
    "ax[0].set_xlabel(r'$x$')\n",
    "ax[0].set_ylabel(r'$y$')\n",
    "\n",
    "ax[1].plot(cook_distances)\n",
    "f.tight_layout()"
   ]
  },
  {
   "cell_type": "code",
   "execution_count": 219,
   "metadata": {
    "ExecuteTime": {
     "end_time": "2018-10-17T12:40:28.154374Z",
     "start_time": "2018-10-17T12:40:28.149869Z"
    }
   },
   "outputs": [],
   "source": [
    "y49 = y[49]"
   ]
  },
  {
   "cell_type": "code",
   "execution_count": 226,
   "metadata": {
    "ExecuteTime": {
     "end_time": "2018-10-17T12:40:54.471620Z",
     "start_time": "2018-10-17T12:40:54.467148Z"
    }
   },
   "outputs": [],
   "source": [
    "y[49] = 4*y49"
   ]
  },
  {
   "cell_type": "code",
   "execution_count": 227,
   "metadata": {
    "ExecuteTime": {
     "end_time": "2018-10-17T12:40:58.382326Z",
     "start_time": "2018-10-17T12:40:54.708640Z"
    }
   },
   "outputs": [],
   "source": [
    "cook_distances = [cook_d(i) for i in range(len(x))]"
   ]
  },
  {
   "cell_type": "code",
   "execution_count": 228,
   "metadata": {
    "ExecuteTime": {
     "end_time": "2018-10-17T12:40:58.598308Z",
     "start_time": "2018-10-17T12:40:58.383729Z"
    }
   },
   "outputs": [
    {
     "data": {
      "image/png": "[encoded data removed]",
      "text/plain": [
       "<Figure size 576x360 with 2 Axes>"
      ]
     },
     "metadata": {},
     "output_type": "display_data"
    }
   ],
   "source": [
    "f, ax = plt.subplots(1,2,figsize=(8,5))\n",
    "\n",
    "ax[0].plot(x,y,'o',color='k',ms=10, alpha=0.5, label='Empirical data')\n",
    "\n",
    "ax[0].plot(x,y_,'-',color='red', \n",
    "         label=f'Adjusted model\\n {p[0]:.2f}x + {p[1]:.2f}',\n",
    "         linewidth=4)\n",
    "\n",
    "ax[0].set_xlabel(r'$x$')\n",
    "ax[0].set_ylabel(r'$y$')\n",
    "\n",
    "ax[1].plot(x,cook_distances)\n",
    "f.tight_layout()"
   ]
  },
  {
   "cell_type": "code",
   "execution_count": 231,
   "metadata": {
    "ExecuteTime": {
     "end_time": "2018-10-17T12:43:36.497746Z",
     "start_time": "2018-10-17T12:43:36.487913Z"
    }
   },
   "outputs": [],
   "source": [
    "data = pd.DataFrame()\n",
    "data['y'] = y\n",
    "data['x'] = x"
   ]
  },
  {
   "cell_type": "code",
   "execution_count": 235,
   "metadata": {
    "ExecuteTime": {
     "end_time": "2018-10-17T12:43:52.146106Z",
     "start_time": "2018-10-17T12:43:52.128518Z"
    }
   },
   "outputs": [],
   "source": [
    "fitted = smf.ols('y ~ x', data=data).fit()"
   ]
  },
  {
   "cell_type": "code",
   "execution_count": 256,
   "metadata": {
    "ExecuteTime": {
     "end_time": "2018-10-17T12:49:56.305416Z",
     "start_time": "2018-10-17T12:49:56.140249Z"
    }
   },
   "outputs": [
    {
     "data": {
      "image/png": "[encoded data removed]",
      "text/plain": [
       "<Figure size 432x288 with 1 Axes>"
      ]
     },
     "metadata": {},
     "output_type": "display_data"
    }
   ],
   "source": [
    "plt.hist(fitted.resid);"
   ]
  },
  {
   "cell_type": "code",
   "execution_count": 237,
   "metadata": {
    "ExecuteTime": {
     "end_time": "2018-10-17T12:44:19.252053Z",
     "start_time": "2018-10-17T12:44:19.246164Z"
    }
   },
   "outputs": [],
   "source": [
    "influence = fitted.get_influence()\n",
    "#c is the distance and p is p-value\n",
    "(c, p) = influence.cooks_distance"
   ]
  },
  {
   "cell_type": "code",
   "execution_count": 246,
   "metadata": {
    "ExecuteTime": {
     "end_time": "2018-10-17T12:46:56.776140Z",
     "start_time": "2018-10-17T12:46:56.286148Z"
    }
   },
   "outputs": [
    {
     "data": {
      "image/png": "[encoded data removed]",
      "text/plain": [
       "<Figure size 432x288 with 1 Axes>"
      ]
     },
     "metadata": {},
     "output_type": "display_data"
    }
   ],
   "source": [
    "plt.stem(c,markerfmt=\",\");"
   ]
  },
  {
   "cell_type": "code",
   "execution_count": 249,
   "metadata": {
    "ExecuteTime": {
     "end_time": "2018-10-17T12:47:18.696977Z",
     "start_time": "2018-10-17T12:47:18.386667Z"
    }
   },
   "outputs": [
    {
     "data": {
      "image/png": "[encoded data removed]",
      "text/plain": [
       "<Figure size 432x288 with 1 Axes>"
      ]
     },
     "metadata": {},
     "output_type": "display_data"
    }
   ],
   "source": [
    "plt.stem(1/p,markerfmt=\",\");"
   ]
  },
  {
   "cell_type": "code",
   "execution_count": 260,
   "metadata": {
    "ExecuteTime": {
     "end_time": "2018-10-17T12:51:49.051729Z",
     "start_time": "2018-10-17T12:51:48.875819Z"
    },
    "scrolled": true
   },
   "outputs": [
    {
     "data": {
      "image/png": "[encoded data removed]",
      "text/plain": [
       "<Figure size 432x288 with 1 Axes>"
      ]
     },
     "metadata": {},
     "output_type": "display_data"
    }
   ],
   "source": [
    "from statsmodels.graphics.regressionplots import *\n",
    "plot_leverage_resid2(fitted);\n",
    "#influence_plot(fitted)"
   ]
  },
  {
   "cell_type": "markdown",
   "metadata": {},
   "source": [
    "**Programming Tip.**\n",
    "\n",
    "The function `omit` sweeps through the data and excludes\n",
    "the $i^{th}$ data element. The embedded `enumerate` function\n",
    "associates every element in the iterable with its corresponding\n",
    "index.\n",
    "\n",
    "\n",
    "\n",
    "<!-- dom:FIGURE: [fig-statistics/Regression_007.png, width=500 frac=0.65] The upper panel shows data that fit on a line and an outlier point (filled black circle). The lower panel shows the calculated Cook's distance for the data in upper panel and shows that the tenth point (i.e., the outlier) has disproportionate influence.  <div id=\"fig:Regression_007\"></div> -->\n",
    "<!-- begin figure -->\n",
    "<div id=\"fig:Regression_007\"></div>\n",
    "\n",
    "<p>The upper panel shows data that fit on a line and an outlier point (filled black circle). The lower panel shows the calculated Cook's distance for the data in upper panel and shows that the tenth point (i.e., the outlier) has disproportionate influence.</p>\n",
    "<img src=\"fig-statistics/Regression_007.png\" width=500>\n",
    "\n",
    "<!-- end figure -->"
   ]
  }
 ],
 "metadata": {
  "kernelspec": {
   "display_name": "Python 3",
   "language": "python",
   "name": "python3"
  },
  "language_info": {
   "codemirror_mode": {
    "name": "ipython",
    "version": 3
   },
   "file_extension": ".py",
   "mimetype": "text/x-python",
   "name": "python",
   "nbconvert_exporter": "python",
   "pygments_lexer": "ipython3",
   "version": "3.6.6"
  }
 },
 "nbformat": 4,
 "nbformat_minor": 2
}
