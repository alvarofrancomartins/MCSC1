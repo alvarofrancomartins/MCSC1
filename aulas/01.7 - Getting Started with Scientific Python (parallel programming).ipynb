{
 "cells": [
  {
   "cell_type": "markdown",
   "metadata": {},
   "source": [
    "## Quick Guide to Performance and Parallel Programming"
   ]
  },
  {
   "cell_type": "markdown",
   "metadata": {},
   "source": [
    "There are many options available to improve the performance of your Python codes.\n",
    "The first thing to determine is what is limiting your computation. It could be CPU\n",
    "speed (unlikely), memory limitations (out-of-core computing), or it could be data\n",
    "transfer speed (waiting on data to arrive for processing). If your code is pure-Python,\n",
    "then you can try running it with Pypy, which is is an alternative Python implementa-\n",
    "tion that employs a just-in-time compiler. If your code does not experience a massive\n",
    "speed-up with Pypy, then there is probably something external to the code that is\n",
    "slowing it down (e.g., disk access or network access). If Pypy doesn’t make any\n",
    "sense because you are using many compiled modules that Pypy does not support,\n",
    "then there are many diagnostic tools available\n",
    "\n",
    "Python has its own built-in profiler cProfile you can invoke from the command\n",
    "line as in the following\n",
    "\n",
    "\n",
    "```bash\n",
    "python -m cProfile -o program.prof my_program.py\n",
    "```"
   ]
  },
  {
   "cell_type": "markdown",
   "metadata": {},
   "source": [
    "### Testing with the Fibonacci sequence"
   ]
  },
  {
   "cell_type": "code",
   "execution_count": 30,
   "metadata": {},
   "outputs": [],
   "source": [
    "def fib(n):\n",
    "    \"\"\"Display the n first terms of Fibonacci sequence\"\"\"\n",
    "    a, b = 0, 1\n",
    "    i = 0\n",
    "    fib_list = []\n",
    "    fib_list.append(b)\n",
    "    while i < n:\n",
    "        a, b = b, a+b\n",
    "        fib_list.append(b)\n",
    "        i +=1\n",
    "    print(fib_list[0])"
   ]
  },
  {
   "cell_type": "code",
   "execution_count": 63,
   "metadata": {},
   "outputs": [
    {
     "name": "stdout",
     "output_type": "stream",
     "text": [
      "1\n",
      "1\n",
      "1\n",
      "1\n",
      "1\n",
      "1\n",
      "1\n",
      "1\n",
      "236 ms ± 9.39 ms per loop (mean ± std. dev. of 7 runs, 1 loop each)\n"
     ]
    }
   ],
   "source": [
    "%%timeit\n",
    "fib(100000)"
   ]
  },
  {
   "cell_type": "code",
   "execution_count": 65,
   "metadata": {},
   "outputs": [
    {
     "data": {
      "text/plain": [
       "2.36"
      ]
     },
     "execution_count": 65,
     "metadata": {},
     "output_type": "execute_result"
    }
   ],
   "source": [
    "236*10e-3"
   ]
  },
  {
   "cell_type": "code",
   "execution_count": 66,
   "metadata": {},
   "outputs": [
    {
     "name": "stdout",
     "output_type": "stream",
     "text": [
      "1\n",
      " "
     ]
    },
    {
     "data": {
      "text/plain": [
       "         100040 function calls in 0.428 seconds\n",
       "\n",
       "   Ordered by: internal time\n",
       "\n",
       "   ncalls  tottime  percall  cumtime  percall filename:lineno(function)\n",
       "        1    0.336    0.336    0.405    0.405 <ipython-input-30-6bb8f8030fb8>:1(fib)\n",
       "   100001    0.069    0.000    0.069    0.000 {method 'append' of 'list' objects}\n",
       "        1    0.022    0.022    0.428    0.428 <string>:1(<module>)\n",
       "        1    0.000    0.000    0.428    0.428 {built-in method builtins.exec}\n",
       "        3    0.000    0.000    0.000    0.000 socket.py:334(send)\n",
       "        3    0.000    0.000    0.000    0.000 iostream.py:195(schedule)\n",
       "        2    0.000    0.000    0.000    0.000 iostream.py:366(write)\n",
       "        1    0.000    0.000    0.000    0.000 {built-in method builtins.print}\n",
       "        3    0.000    0.000    0.000    0.000 threading.py:1062(_wait_for_tstate_lock)\n",
       "        3    0.000    0.000    0.000    0.000 threading.py:1104(is_alive)\n",
       "        2    0.000    0.000    0.000    0.000 iostream.py:300(_is_master_process)\n",
       "        3    0.000    0.000    0.000    0.000 {method 'acquire' of '_thread.lock' objects}\n",
       "        3    0.000    0.000    0.000    0.000 iostream.py:93(_event_pipe)\n",
       "        2    0.000    0.000    0.000    0.000 iostream.py:313(_schedule_flush)\n",
       "        3    0.000    0.000    0.000    0.000 threading.py:506(is_set)\n",
       "        3    0.000    0.000    0.000    0.000 {method 'append' of 'collections.deque' objects}\n",
       "        2    0.000    0.000    0.000    0.000 {built-in method posix.getpid}\n",
       "        2    0.000    0.000    0.000    0.000 {built-in method builtins.isinstance}\n",
       "        1    0.000    0.000    0.000    0.000 {method 'disable' of '_lsprof.Profiler' objects}"
      ]
     },
     "metadata": {},
     "output_type": "display_data"
    }
   ],
   "source": [
    "%prun fib(100000)"
   ]
  },
  {
   "cell_type": "code",
   "execution_count": 67,
   "metadata": {},
   "outputs": [
    {
     "data": {
      "text/plain": [
       "5.5140186915887845"
      ]
     },
     "execution_count": 67,
     "metadata": {},
     "output_type": "execute_result"
    }
   ],
   "source": [
    "236*10e-3/0.428"
   ]
  },
  {
   "cell_type": "markdown",
   "metadata": {},
   "source": [
    "## multiprocessing\n",
    "\n",
    "Python has a multiprocessing module that is part of the standard library. This makes it easy\n",
    "to spawn child worker processes that can break off and individually process small\n",
    "parts of a big job. However, it is still your responsibility as the programmer to figure\n",
    "out how to distribute the data for your algorithm."
   ]
  },
  {
   "cell_type": "code",
   "execution_count": 1,
   "metadata": {},
   "outputs": [],
   "source": [
    "def fib(n):\n",
    "    \"\"\"Display the n first terms of Fibonacci sequence\"\"\"\n",
    "    a, b = 0, 1\n",
    "    i = 0\n",
    "    fib_list = []\n",
    "    fib_list.append(b)\n",
    "    while i < n:\n",
    "        a, b = b, a+b\n",
    "        fib_list.append(b)\n",
    "        i +=1\n",
    "    return(fib_list[0])"
   ]
  },
  {
   "cell_type": "code",
   "execution_count": 79,
   "metadata": {},
   "outputs": [
    {
     "name": "stdout",
     "output_type": "stream",
     "text": [
      "CPU times: user 2.31 s, sys: 12 ms, total: 2.32 s\n",
      "Wall time: 2.32 s\n"
     ]
    }
   ],
   "source": [
    "%time test = [fib(i) for i in range(100000,100020,1)]"
   ]
  },
  {
   "cell_type": "code",
   "execution_count": 81,
   "metadata": {},
   "outputs": [],
   "source": [
    "from multiprocessing import Pool"
   ]
  },
  {
   "cell_type": "code",
   "execution_count": 82,
   "metadata": {},
   "outputs": [],
   "source": [
    "pool = Pool()"
   ]
  },
  {
   "cell_type": "code",
   "execution_count": 85,
   "metadata": {},
   "outputs": [
    {
     "name": "stdout",
     "output_type": "stream",
     "text": [
      "CPU times: user 4 ms, sys: 0 ns, total: 4 ms\n",
      "Wall time: 563 ms\n"
     ]
    }
   ],
   "source": [
    "%time test2 = pool.map(fib, range(100000,100020,1))"
   ]
  },
  {
   "cell_type": "code",
   "execution_count": 91,
   "metadata": {},
   "outputs": [],
   "source": [
    "pool.terminate()"
   ]
  },
  {
   "cell_type": "markdown",
   "metadata": {},
   "source": [
    "## dask\n"
   ]
  },
  {
   "cell_type": "code",
   "execution_count": 92,
   "metadata": {},
   "outputs": [
    {
     "name": "stdout",
     "output_type": "stream",
     "text": [
      "Collecting dash\n",
      "  Downloading https://files.pythonhosted.org/packages/ab/3c/f98dc587b064fbf5699730014bb59a1ed2213e368fbaf1303ad24ad74b6e/dash-0.26.3.tar.gz\n",
      "Requirement already satisfied: Flask>=0.12 in /home/hvribeiro/anaconda3/lib/python3.6/site-packages (from dash) (1.0.2)\n",
      "Collecting flask-compress (from dash)\n",
      "  Downloading https://files.pythonhosted.org/packages/0e/2a/378bd072928f6d92fd8c417d66b00c757dc361c0405a46a0134de6fd323d/Flask-Compress-1.4.0.tar.gz\n",
      "Collecting plotly (from dash)\n",
      "\u001b[?25l  Downloading https://files.pythonhosted.org/packages/38/b0/86f6d2443a64be0e30543065c6839d0e033a41ffb7fa4ad0760ae9c3b534/plotly-3.1.1-py2.py3-none-any.whl (36.9MB)\n",
      "\u001b[K    100% |████████████████████████████████| 36.9MB 700kB/s \n",
      "\u001b[?25hCollecting dash_renderer (from dash)\n",
      "\u001b[?25l  Downloading https://files.pythonhosted.org/packages/bd/14/fa960d38fc68490445a26ad942455ba71ad1140a71c45e7a6b4349bcf922/dash_renderer-0.13.2.tar.gz (160kB)\n",
      "\u001b[K    100% |████████████████████████████████| 163kB 1.7MB/s \n",
      "\u001b[?25hRequirement already satisfied: Werkzeug>=0.14 in /home/hvribeiro/anaconda3/lib/python3.6/site-packages (from Flask>=0.12->dash) (0.14.1)\n",
      "Requirement already satisfied: click>=5.1 in /home/hvribeiro/anaconda3/lib/python3.6/site-packages (from Flask>=0.12->dash) (6.7)\n",
      "Requirement already satisfied: Jinja2>=2.10 in /home/hvribeiro/anaconda3/lib/python3.6/site-packages (from Flask>=0.12->dash) (2.10)\n",
      "Requirement already satisfied: itsdangerous>=0.24 in /home/hvribeiro/anaconda3/lib/python3.6/site-packages (from Flask>=0.12->dash) (0.24)\n",
      "Requirement already satisfied: nbformat>=4.2 in /home/hvribeiro/anaconda3/lib/python3.6/site-packages (from plotly->dash) (4.4.0)\n",
      "Requirement already satisfied: six in /home/hvribeiro/anaconda3/lib/python3.6/site-packages (from plotly->dash) (1.11.0)\n",
      "Requirement already satisfied: pytz in /home/hvribeiro/anaconda3/lib/python3.6/site-packages (from plotly->dash) (2018.5)\n",
      "Requirement already satisfied: decorator>=4.0.6 in /home/hvribeiro/anaconda3/lib/python3.6/site-packages (from plotly->dash) (4.3.0)\n",
      "Collecting retrying>=1.3.3 (from plotly->dash)\n",
      "  Downloading https://files.pythonhosted.org/packages/44/ef/beae4b4ef80902f22e3af073397f079c96969c69b2c7d52a57ea9ae61c9d/retrying-1.3.3.tar.gz\n",
      "Requirement already satisfied: requests in /home/hvribeiro/anaconda3/lib/python3.6/site-packages (from plotly->dash) (2.19.1)\n",
      "Requirement already satisfied: MarkupSafe>=0.23 in /home/hvribeiro/anaconda3/lib/python3.6/site-packages (from Jinja2>=2.10->Flask>=0.12->dash) (1.0)\n",
      "Requirement already satisfied: idna<2.8,>=2.5 in /home/hvribeiro/anaconda3/lib/python3.6/site-packages (from requests->plotly->dash) (2.7)\n",
      "Requirement already satisfied: certifi>=2017.4.17 in /home/hvribeiro/anaconda3/lib/python3.6/site-packages (from requests->plotly->dash) (2018.4.16)\n",
      "Requirement already satisfied: urllib3<1.24,>=1.21.1 in /home/hvribeiro/anaconda3/lib/python3.6/site-packages (from requests->plotly->dash) (1.23)\n",
      "Requirement already satisfied: chardet<3.1.0,>=3.0.2 in /home/hvribeiro/anaconda3/lib/python3.6/site-packages (from requests->plotly->dash) (3.0.4)\n",
      "Building wheels for collected packages: dash, flask-compress, dash-renderer, retrying\n",
      "  Running setup.py bdist_wheel for dash ... \u001b[?25ldone\n",
      "\u001b[?25h  Stored in directory: /home/hvribeiro/.cache/pip/wheels/06/af/07/6f112f3eb4d01b90e817d728799be80f36398567368aef27e3\n",
      "  Running setup.py bdist_wheel for flask-compress ... \u001b[?25ldone\n",
      "\u001b[?25h  Stored in directory: /home/hvribeiro/.cache/pip/wheels/96/32/88/a1f6d9dd3c29570ab3a8acc0d556b3b20abcf3c623c868ce0a\n",
      "  Running setup.py bdist_wheel for dash-renderer ... \u001b[?25ldone\n",
      "\u001b[?25h  Stored in directory: /home/hvribeiro/.cache/pip/wheels/4b/dc/d0/e1ae0332df5fb1f056153818831750032936535150fed856b5\n",
      "  Running setup.py bdist_wheel for retrying ... \u001b[?25ldone\n",
      "\u001b[?25h  Stored in directory: /home/hvribeiro/.cache/pip/wheels/d7/a9/33/acc7b709e2a35caa7d4cae442f6fe6fbf2c43f80823d46460c\n",
      "Successfully built dash flask-compress dash-renderer retrying\n",
      "\u001b[31mtwisted 18.7.0 requires PyHamcrest>=1.9.0, which is not installed.\u001b[0m\n",
      "\u001b[31mpython-louvain 0.6 has requirement networkx<2.0.0, but you'll have networkx 2.1 which is incompatible.\u001b[0m\n",
      "\u001b[31mlinkpred 0.1 has requirement networkx==1.10, but you'll have networkx 2.1 which is incompatible.\u001b[0m\n",
      "Installing collected packages: flask-compress, retrying, plotly, dash-renderer, dash\n",
      "Successfully installed dash-0.26.3 dash-renderer-0.13.2 flask-compress-1.4.0 plotly-3.1.1 retrying-1.3.3\n",
      "\u001b[33mYou are using pip version 10.0.1, however version 18.0 is available.\n",
      "You should consider upgrading via the 'pip install --upgrade pip' command.\u001b[0m\n"
     ]
    }
   ],
   "source": [
    "!pip install dash"
   ]
  },
  {
   "cell_type": "code",
   "execution_count": 2,
   "metadata": {},
   "outputs": [
    {
     "name": "stdout",
     "output_type": "stream",
     "text": [
      "CPU times: user 2.67 s, sys: 2.15 s, total: 4.82 s\n",
      "Wall time: 4.82 s\n"
     ]
    }
   ],
   "source": [
    "%%time\n",
    "test3 = []\n",
    "for i in range(100000,100020,1):\n",
    "    a = fib(i)\n",
    "    test3.append(a)\n",
    "test3"
   ]
  },
  {
   "cell_type": "code",
   "execution_count": 1,
   "metadata": {},
   "outputs": [],
   "source": [
    "import dask\n",
    "from dask.distributed import Client, progress\n",
    "client = Client()"
   ]
  },
  {
   "cell_type": "code",
   "execution_count": 17,
   "metadata": {},
   "outputs": [],
   "source": [
    "test4 = []\n",
    "for i in range(100000,100020,1):\n",
    "    a = dask.delayed(fib)(i)\n",
    "    test4.append(a)\n",
    "res = dask.delayed()(test4)"
   ]
  },
  {
   "cell_type": "code",
   "execution_count": 18,
   "metadata": {},
   "outputs": [
    {
     "data": {
      "text/plain": [
       "Delayed('list-8a6a7a5e-d403-4308-b8d5-535e7c96ce54')"
      ]
     },
     "execution_count": 18,
     "metadata": {},
     "output_type": "execute_result"
    }
   ],
   "source": [
    "res"
   ]
  },
  {
   "cell_type": "markdown",
   "metadata": {},
   "source": [
    "open http://localhost:8787/status to see the progress"
   ]
  },
  {
   "cell_type": "code",
   "execution_count": 14,
   "metadata": {},
   "outputs": [
    {
     "name": "stdout",
     "output_type": "stream",
     "text": [
      "CPU times: user 368 ms, sys: 12 ms, total: 380 ms\n",
      "Wall time: 1.14 s\n"
     ]
    },
    {
     "data": {
      "text/plain": [
       "[1, 1, 1, 1, 1, 1, 1, 1, 1, 1, 1, 1, 1, 1, 1, 1, 1, 1, 1, 1]"
      ]
     },
     "execution_count": 14,
     "metadata": {},
     "output_type": "execute_result"
    }
   ],
   "source": [
    "%time res.compute()"
   ]
  },
  {
   "cell_type": "code",
   "execution_count": 19,
   "metadata": {},
   "outputs": [],
   "source": [
    "res = res.persist()  # start computation in the background"
   ]
  },
  {
   "cell_type": "code",
   "execution_count": 21,
   "metadata": {},
   "outputs": [
    {
     "data": {
      "text/plain": [
       "[1, 1, 1, 1, 1, 1, 1, 1, 1, 1, 1, 1, 1, 1, 1, 1, 1, 1, 1, 1]"
      ]
     },
     "execution_count": 21,
     "metadata": {},
     "output_type": "execute_result"
    }
   ],
   "source": [
    "res.compute()"
   ]
  },
  {
   "cell_type": "code",
   "execution_count": null,
   "metadata": {},
   "outputs": [],
   "source": []
  }
 ],
 "metadata": {
  "kernelspec": {
   "display_name": "Python 3",
   "language": "python",
   "name": "python3"
  },
  "language_info": {
   "codemirror_mode": {
    "name": "ipython",
    "version": 3
   },
   "file_extension": ".py",
   "mimetype": "text/x-python",
   "name": "python",
   "nbconvert_exporter": "python",
   "pygments_lexer": "ipython3",
   "version": "3.6.6"
  }
 },
 "nbformat": 4,
 "nbformat_minor": 2
}
