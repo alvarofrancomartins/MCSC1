{
 "cells": [
  {
   "cell_type": "markdown",
   "metadata": {},
   "source": [
    "## Quick Guide to Performance and Parallel Programming"
   ]
  },
  {
   "cell_type": "markdown",
   "metadata": {},
   "source": [
    "There are many options available to improve the performance of your Python codes.\n",
    "The first thing to determine is what is limiting your computation. It could be CPU\n",
    "speed (unlikely), memory limitations (out-of-core computing), or it could be data\n",
    "transfer speed (waiting on data to arrive for processing). If your code is pure-Python,\n",
    "then you can try running it with Pypy, which is is an alternative Python implementa-\n",
    "tion that employs a just-in-time compiler. If your code does not experience a massive\n",
    "speed-up with Pypy, then there is probably something external to the code that is\n",
    "slowing it down (e.g., disk access or network access). If Pypy doesn’t make any\n",
    "sense because you are using many compiled modules that Pypy does not support,\n",
    "then there are many diagnostic tools available\n",
    "\n",
    "Python has its own built-in profiler cProfile you can invoke from the command\n",
    "line as in the following\n",
    "\n",
    "\n",
    "```bash\n",
    "python -m cProfile -o program.prof my_program.py\n",
    "```"
   ]
  },
  {
   "cell_type": "markdown",
   "metadata": {},
   "source": [
    "### Testing with the Fibonacci sequence"
   ]
  },
  {
   "cell_type": "code",
   "execution_count": 2,
   "metadata": {},
   "outputs": [],
   "source": [
    "def fib(n):\n",
    "    \"\"\"Display the n first terms of Fibonacci sequence\"\"\"\n",
    "    a, b = 0, 1\n",
    "    i = 0\n",
    "    fib_list = []\n",
    "    fib_list.append(b)\n",
    "    while i < n:\n",
    "        a, b = b, a+b\n",
    "        fib_list.append(b)\n",
    "        i +=1\n",
    "    print(fib_list[0])"
   ]
  },
  {
   "cell_type": "code",
   "execution_count": 9,
   "metadata": {},
   "outputs": [
    {
     "name": "stdout",
     "output_type": "stream",
     "text": [
      "1\n",
      "CPU times: user 254 ms, sys: 162 ms, total: 416 ms\n",
      "Wall time: 414 ms\n"
     ]
    }
   ],
   "source": [
    "%time fib(100000)"
   ]
  },
  {
   "cell_type": "code",
   "execution_count": 5,
   "metadata": {},
   "outputs": [
    {
     "name": "stdout",
     "output_type": "stream",
     "text": [
      "1\n",
      " "
     ]
    },
    {
     "data": {
      "text/plain": [
       "         100040 function calls in 0.445 seconds\n",
       "\n",
       "   Ordered by: internal time\n",
       "\n",
       "   ncalls  tottime  percall  cumtime  percall filename:lineno(function)\n",
       "        1    0.347    0.347    0.357    0.357 <ipython-input-2-6bb8f8030fb8>:1(fib)\n",
       "        1    0.088    0.088    0.445    0.445 <string>:1(<module>)\n",
       "   100001    0.010    0.000    0.010    0.000 {method 'append' of 'list' objects}\n",
       "        3    0.000    0.000    0.000    0.000 socket.py:333(send)\n",
       "        1    0.000    0.000    0.445    0.445 {built-in method builtins.exec}\n",
       "        3    0.000    0.000    0.000    0.000 iostream.py:195(schedule)\n",
       "        2    0.000    0.000    0.000    0.000 iostream.py:366(write)\n",
       "        1    0.000    0.000    0.000    0.000 {built-in method builtins.print}\n",
       "        2    0.000    0.000    0.000    0.000 iostream.py:300(_is_master_process)\n",
       "        3    0.000    0.000    0.000    0.000 {method 'acquire' of '_thread.lock' objects}\n",
       "        3    0.000    0.000    0.000    0.000 threading.py:1104(is_alive)\n",
       "        3    0.000    0.000    0.000    0.000 threading.py:1062(_wait_for_tstate_lock)\n",
       "        3    0.000    0.000    0.000    0.000 iostream.py:93(_event_pipe)\n",
       "        3    0.000    0.000    0.000    0.000 threading.py:506(is_set)\n",
       "        2    0.000    0.000    0.000    0.000 iostream.py:313(_schedule_flush)\n",
       "        2    0.000    0.000    0.000    0.000 {built-in method builtins.isinstance}\n",
       "        1    0.000    0.000    0.000    0.000 {method 'disable' of '_lsprof.Profiler' objects}\n",
       "        2    0.000    0.000    0.000    0.000 {built-in method posix.getpid}\n",
       "        3    0.000    0.000    0.000    0.000 {method 'append' of 'collections.deque' objects}"
      ]
     },
     "metadata": {},
     "output_type": "display_data"
    }
   ],
   "source": [
    "%prun fib(100000)"
   ]
  },
  {
   "cell_type": "code",
   "execution_count": 6,
   "metadata": {},
   "outputs": [
    {
     "data": {
      "text/plain": [
       "10.96629213483146"
      ]
     },
     "execution_count": 6,
     "metadata": {},
     "output_type": "execute_result"
    }
   ],
   "source": [
    "488*10e-3/0.445"
   ]
  },
  {
   "cell_type": "markdown",
   "metadata": {},
   "source": [
    "## multiprocessing\n",
    "\n",
    "Python has a multiprocessing module that is part of the standard library. This makes it easy\n",
    "to spawn child worker processes that can break off and individually process small\n",
    "parts of a big job. However, it is still your responsibility as the programmer to figure\n",
    "out how to distribute the data for your algorithm."
   ]
  },
  {
   "cell_type": "code",
   "execution_count": 10,
   "metadata": {},
   "outputs": [],
   "source": [
    "def fib(n):\n",
    "    \"\"\"Display the n first terms of Fibonacci sequence\"\"\"\n",
    "    a, b = 0, 1\n",
    "    i = 0\n",
    "    fib_list = []\n",
    "    fib_list.append(b)\n",
    "    while i < n:\n",
    "        a, b = b, a+b\n",
    "        fib_list.append(b)\n",
    "        i +=1\n",
    "    return(fib_list[0])"
   ]
  },
  {
   "cell_type": "code",
   "execution_count": 12,
   "metadata": {},
   "outputs": [
    {
     "name": "stdout",
     "output_type": "stream",
     "text": [
      "CPU times: user 5.38 s, sys: 3.42 s, total: 8.8 s\n",
      "Wall time: 8.8 s\n"
     ]
    }
   ],
   "source": [
    "%time test = [fib(i) for i in range(100000,100020,1)]"
   ]
  },
  {
   "cell_type": "code",
   "execution_count": 15,
   "metadata": {},
   "outputs": [],
   "source": [
    "from multiprocessing import Pool"
   ]
  },
  {
   "cell_type": "code",
   "execution_count": 19,
   "metadata": {},
   "outputs": [
    {
     "name": "stderr",
     "output_type": "stream",
     "text": [
      "Process ForkPoolWorker-14:\n",
      "Process ForkPoolWorker-12:\n",
      "Process ForkPoolWorker-15:\n",
      "Process ForkPoolWorker-13:\n",
      "Process ForkPoolWorker-11:\n",
      "Process ForkPoolWorker-10:\n",
      "Process ForkPoolWorker-16:\n",
      "Process ForkPoolWorker-9:\n",
      "Traceback (most recent call last):\n",
      "Traceback (most recent call last):\n",
      "Traceback (most recent call last):\n",
      "Traceback (most recent call last):\n",
      "Traceback (most recent call last):\n",
      "Traceback (most recent call last):\n",
      "Traceback (most recent call last):\n",
      "  File \"/Users/hvribeiro/anaconda/lib/python3.6/multiprocessing/process.py\", line 258, in _bootstrap\n",
      "    self.run()\n",
      "  File \"/Users/hvribeiro/anaconda/lib/python3.6/multiprocessing/process.py\", line 258, in _bootstrap\n",
      "    self.run()\n",
      "  File \"/Users/hvribeiro/anaconda/lib/python3.6/multiprocessing/process.py\", line 258, in _bootstrap\n",
      "    self.run()\n",
      "  File \"/Users/hvribeiro/anaconda/lib/python3.6/multiprocessing/process.py\", line 258, in _bootstrap\n",
      "    self.run()\n",
      "  File \"/Users/hvribeiro/anaconda/lib/python3.6/multiprocessing/process.py\", line 258, in _bootstrap\n",
      "    self.run()\n",
      "Traceback (most recent call last):\n",
      "  File \"/Users/hvribeiro/anaconda/lib/python3.6/multiprocessing/process.py\", line 93, in run\n",
      "    self._target(*self._args, **self._kwargs)\n",
      "  File \"/Users/hvribeiro/anaconda/lib/python3.6/multiprocessing/process.py\", line 93, in run\n",
      "    self._target(*self._args, **self._kwargs)\n",
      "  File \"/Users/hvribeiro/anaconda/lib/python3.6/multiprocessing/process.py\", line 258, in _bootstrap\n",
      "    self.run()\n",
      "  File \"/Users/hvribeiro/anaconda/lib/python3.6/multiprocessing/process.py\", line 93, in run\n",
      "    self._target(*self._args, **self._kwargs)\n",
      "  File \"/Users/hvribeiro/anaconda/lib/python3.6/multiprocessing/process.py\", line 93, in run\n",
      "    self._target(*self._args, **self._kwargs)\n",
      "  File \"/Users/hvribeiro/anaconda/lib/python3.6/multiprocessing/process.py\", line 93, in run\n",
      "    self._target(*self._args, **self._kwargs)\n",
      "  File \"/Users/hvribeiro/anaconda/lib/python3.6/multiprocessing/process.py\", line 258, in _bootstrap\n",
      "    self.run()\n",
      "  File \"/Users/hvribeiro/anaconda/lib/python3.6/multiprocessing/pool.py\", line 108, in worker\n",
      "    task = get()\n",
      "  File \"/Users/hvribeiro/anaconda/lib/python3.6/multiprocessing/pool.py\", line 108, in worker\n",
      "    task = get()\n",
      "  File \"/Users/hvribeiro/anaconda/lib/python3.6/multiprocessing/process.py\", line 258, in _bootstrap\n",
      "    self.run()\n",
      "  File \"/Users/hvribeiro/anaconda/lib/python3.6/multiprocessing/pool.py\", line 108, in worker\n",
      "    task = get()\n",
      "  File \"/Users/hvribeiro/anaconda/lib/python3.6/multiprocessing/process.py\", line 93, in run\n",
      "    self._target(*self._args, **self._kwargs)\n",
      "  File \"/Users/hvribeiro/anaconda/lib/python3.6/multiprocessing/pool.py\", line 108, in worker\n",
      "    task = get()\n",
      "  File \"/Users/hvribeiro/anaconda/lib/python3.6/multiprocessing/pool.py\", line 108, in worker\n",
      "    task = get()\n",
      "  File \"/Users/hvribeiro/anaconda/lib/python3.6/multiprocessing/process.py\", line 93, in run\n",
      "    self._target(*self._args, **self._kwargs)\n",
      "  File \"/Users/hvribeiro/anaconda/lib/python3.6/multiprocessing/queues.py\", line 334, in get\n",
      "    with self._rlock:\n",
      "  File \"/Users/hvribeiro/anaconda/lib/python3.6/multiprocessing/process.py\", line 93, in run\n",
      "    self._target(*self._args, **self._kwargs)\n",
      "  File \"/Users/hvribeiro/anaconda/lib/python3.6/multiprocessing/queues.py\", line 334, in get\n",
      "    with self._rlock:\n",
      "  File \"/Users/hvribeiro/anaconda/lib/python3.6/multiprocessing/pool.py\", line 108, in worker\n",
      "    task = get()\n",
      "  File \"/Users/hvribeiro/anaconda/lib/python3.6/multiprocessing/queues.py\", line 334, in get\n",
      "    with self._rlock:\n",
      "  File \"/Users/hvribeiro/anaconda/lib/python3.6/multiprocessing/queues.py\", line 334, in get\n",
      "    with self._rlock:\n",
      "  File \"/Users/hvribeiro/anaconda/lib/python3.6/multiprocessing/queues.py\", line 334, in get\n",
      "    with self._rlock:\n",
      "  File \"/Users/hvribeiro/anaconda/lib/python3.6/multiprocessing/synchronize.py\", line 96, in __enter__\n",
      "    return self._semlock.__enter__()\n",
      "  File \"/Users/hvribeiro/anaconda/lib/python3.6/multiprocessing/pool.py\", line 108, in worker\n",
      "    task = get()\n",
      "  File \"/Users/hvribeiro/anaconda/lib/python3.6/multiprocessing/synchronize.py\", line 96, in __enter__\n",
      "    return self._semlock.__enter__()\n",
      "  File \"/Users/hvribeiro/anaconda/lib/python3.6/multiprocessing/synchronize.py\", line 96, in __enter__\n",
      "    return self._semlock.__enter__()\n",
      "  File \"/Users/hvribeiro/anaconda/lib/python3.6/multiprocessing/synchronize.py\", line 96, in __enter__\n",
      "    return self._semlock.__enter__()\n",
      "  File \"/Users/hvribeiro/anaconda/lib/python3.6/multiprocessing/pool.py\", line 108, in worker\n",
      "    task = get()\n",
      "  File \"/Users/hvribeiro/anaconda/lib/python3.6/multiprocessing/queues.py\", line 334, in get\n",
      "    with self._rlock:\n",
      "KeyboardInterrupt\n",
      "  File \"/Users/hvribeiro/anaconda/lib/python3.6/multiprocessing/queues.py\", line 335, in get\n",
      "    res = self._reader.recv_bytes()\n",
      "KeyboardInterrupt\n",
      "  File \"/Users/hvribeiro/anaconda/lib/python3.6/multiprocessing/synchronize.py\", line 96, in __enter__\n",
      "    return self._semlock.__enter__()\n",
      "KeyboardInterrupt\n",
      "KeyboardInterrupt\n",
      "  File \"/Users/hvribeiro/anaconda/lib/python3.6/multiprocessing/queues.py\", line 334, in get\n",
      "    with self._rlock:\n",
      "  File \"/Users/hvribeiro/anaconda/lib/python3.6/multiprocessing/synchronize.py\", line 96, in __enter__\n",
      "    return self._semlock.__enter__()\n",
      "  File \"/Users/hvribeiro/anaconda/lib/python3.6/multiprocessing/connection.py\", line 216, in recv_bytes\n",
      "    buf = self._recv_bytes(maxlength)\n",
      "KeyboardInterrupt\n",
      "  File \"/Users/hvribeiro/anaconda/lib/python3.6/multiprocessing/synchronize.py\", line 96, in __enter__\n",
      "    return self._semlock.__enter__()\n",
      "KeyboardInterrupt\n",
      "  File \"/Users/hvribeiro/anaconda/lib/python3.6/multiprocessing/connection.py\", line 407, in _recv_bytes\n",
      "    buf = self._recv(4)\n",
      "KeyboardInterrupt\n",
      "  File \"/Users/hvribeiro/anaconda/lib/python3.6/multiprocessing/connection.py\", line 379, in _recv\n",
      "    chunk = read(handle, remaining)\n",
      "KeyboardInterrupt\n"
     ]
    }
   ],
   "source": [
    "pool = Pool(processes=8)"
   ]
  },
  {
   "cell_type": "code",
   "execution_count": 20,
   "metadata": {},
   "outputs": [
    {
     "name": "stdout",
     "output_type": "stream",
     "text": [
      "CPU times: user 4.96 ms, sys: 2.62 ms, total: 7.59 ms\n",
      "Wall time: 2.2 s\n"
     ]
    }
   ],
   "source": [
    "%time test2 = pool.map(fib, range(100000,100020,1))"
   ]
  },
  {
   "cell_type": "code",
   "execution_count": 18,
   "metadata": {},
   "outputs": [],
   "source": [
    "pool.terminate()"
   ]
  },
  {
   "cell_type": "markdown",
   "metadata": {},
   "source": [
    "## dask\n"
   ]
  },
  {
   "cell_type": "code",
   "execution_count": 92,
   "metadata": {},
   "outputs": [
    {
     "name": "stdout",
     "output_type": "stream",
     "text": [
      "Collecting dash\n",
      "  Downloading https://files.pythonhosted.org/packages/ab/3c/f98dc587b064fbf5699730014bb59a1ed2213e368fbaf1303ad24ad74b6e/dash-0.26.3.tar.gz\n",
      "Requirement already satisfied: Flask>=0.12 in /home/hvribeiro/anaconda3/lib/python3.6/site-packages (from dash) (1.0.2)\n",
      "Collecting flask-compress (from dash)\n",
      "  Downloading https://files.pythonhosted.org/packages/0e/2a/378bd072928f6d92fd8c417d66b00c757dc361c0405a46a0134de6fd323d/Flask-Compress-1.4.0.tar.gz\n",
      "Collecting plotly (from dash)\n",
      "\u001b[?25l  Downloading https://files.pythonhosted.org/packages/38/b0/86f6d2443a64be0e30543065c6839d0e033a41ffb7fa4ad0760ae9c3b534/plotly-3.1.1-py2.py3-none-any.whl (36.9MB)\n",
      "\u001b[K    100% |████████████████████████████████| 36.9MB 700kB/s \n",
      "\u001b[?25hCollecting dash_renderer (from dash)\n",
      "\u001b[?25l  Downloading https://files.pythonhosted.org/packages/bd/14/fa960d38fc68490445a26ad942455ba71ad1140a71c45e7a6b4349bcf922/dash_renderer-0.13.2.tar.gz (160kB)\n",
      "\u001b[K    100% |████████████████████████████████| 163kB 1.7MB/s \n",
      "\u001b[?25hRequirement already satisfied: Werkzeug>=0.14 in /home/hvribeiro/anaconda3/lib/python3.6/site-packages (from Flask>=0.12->dash) (0.14.1)\n",
      "Requirement already satisfied: click>=5.1 in /home/hvribeiro/anaconda3/lib/python3.6/site-packages (from Flask>=0.12->dash) (6.7)\n",
      "Requirement already satisfied: Jinja2>=2.10 in /home/hvribeiro/anaconda3/lib/python3.6/site-packages (from Flask>=0.12->dash) (2.10)\n",
      "Requirement already satisfied: itsdangerous>=0.24 in /home/hvribeiro/anaconda3/lib/python3.6/site-packages (from Flask>=0.12->dash) (0.24)\n",
      "Requirement already satisfied: nbformat>=4.2 in /home/hvribeiro/anaconda3/lib/python3.6/site-packages (from plotly->dash) (4.4.0)\n",
      "Requirement already satisfied: six in /home/hvribeiro/anaconda3/lib/python3.6/site-packages (from plotly->dash) (1.11.0)\n",
      "Requirement already satisfied: pytz in /home/hvribeiro/anaconda3/lib/python3.6/site-packages (from plotly->dash) (2018.5)\n",
      "Requirement already satisfied: decorator>=4.0.6 in /home/hvribeiro/anaconda3/lib/python3.6/site-packages (from plotly->dash) (4.3.0)\n",
      "Collecting retrying>=1.3.3 (from plotly->dash)\n",
      "  Downloading https://files.pythonhosted.org/packages/44/ef/beae4b4ef80902f22e3af073397f079c96969c69b2c7d52a57ea9ae61c9d/retrying-1.3.3.tar.gz\n",
      "Requirement already satisfied: requests in /home/hvribeiro/anaconda3/lib/python3.6/site-packages (from plotly->dash) (2.19.1)\n",
      "Requirement already satisfied: MarkupSafe>=0.23 in /home/hvribeiro/anaconda3/lib/python3.6/site-packages (from Jinja2>=2.10->Flask>=0.12->dash) (1.0)\n",
      "Requirement already satisfied: idna<2.8,>=2.5 in /home/hvribeiro/anaconda3/lib/python3.6/site-packages (from requests->plotly->dash) (2.7)\n",
      "Requirement already satisfied: certifi>=2017.4.17 in /home/hvribeiro/anaconda3/lib/python3.6/site-packages (from requests->plotly->dash) (2018.4.16)\n",
      "Requirement already satisfied: urllib3<1.24,>=1.21.1 in /home/hvribeiro/anaconda3/lib/python3.6/site-packages (from requests->plotly->dash) (1.23)\n",
      "Requirement already satisfied: chardet<3.1.0,>=3.0.2 in /home/hvribeiro/anaconda3/lib/python3.6/site-packages (from requests->plotly->dash) (3.0.4)\n",
      "Building wheels for collected packages: dash, flask-compress, dash-renderer, retrying\n",
      "  Running setup.py bdist_wheel for dash ... \u001b[?25ldone\n",
      "\u001b[?25h  Stored in directory: /home/hvribeiro/.cache/pip/wheels/06/af/07/6f112f3eb4d01b90e817d728799be80f36398567368aef27e3\n",
      "  Running setup.py bdist_wheel for flask-compress ... \u001b[?25ldone\n",
      "\u001b[?25h  Stored in directory: /home/hvribeiro/.cache/pip/wheels/96/32/88/a1f6d9dd3c29570ab3a8acc0d556b3b20abcf3c623c868ce0a\n",
      "  Running setup.py bdist_wheel for dash-renderer ... \u001b[?25ldone\n",
      "\u001b[?25h  Stored in directory: /home/hvribeiro/.cache/pip/wheels/4b/dc/d0/e1ae0332df5fb1f056153818831750032936535150fed856b5\n",
      "  Running setup.py bdist_wheel for retrying ... \u001b[?25ldone\n",
      "\u001b[?25h  Stored in directory: /home/hvribeiro/.cache/pip/wheels/d7/a9/33/acc7b709e2a35caa7d4cae442f6fe6fbf2c43f80823d46460c\n",
      "Successfully built dash flask-compress dash-renderer retrying\n",
      "\u001b[31mtwisted 18.7.0 requires PyHamcrest>=1.9.0, which is not installed.\u001b[0m\n",
      "\u001b[31mpython-louvain 0.6 has requirement networkx<2.0.0, but you'll have networkx 2.1 which is incompatible.\u001b[0m\n",
      "\u001b[31mlinkpred 0.1 has requirement networkx==1.10, but you'll have networkx 2.1 which is incompatible.\u001b[0m\n",
      "Installing collected packages: flask-compress, retrying, plotly, dash-renderer, dash\n",
      "Successfully installed dash-0.26.3 dash-renderer-0.13.2 flask-compress-1.4.0 plotly-3.1.1 retrying-1.3.3\n",
      "\u001b[33mYou are using pip version 10.0.1, however version 18.0 is available.\n",
      "You should consider upgrading via the 'pip install --upgrade pip' command.\u001b[0m\n"
     ]
    }
   ],
   "source": [
    "!pip install dask"
   ]
  },
  {
   "cell_type": "code",
   "execution_count": 21,
   "metadata": {},
   "outputs": [
    {
     "name": "stdout",
     "output_type": "stream",
     "text": [
      "CPU times: user 5.02 s, sys: 2.8 s, total: 7.82 s\n",
      "Wall time: 7.81 s\n"
     ]
    }
   ],
   "source": [
    "%%time\n",
    "test3 = []\n",
    "for i in range(100000,100020,1):\n",
    "    a = fib(i)\n",
    "    test3.append(a)\n",
    "test3"
   ]
  },
  {
   "cell_type": "code",
   "execution_count": 29,
   "metadata": {},
   "outputs": [
    {
     "data": {
      "text/plain": [
       "'0.18.2'"
      ]
     },
     "execution_count": 29,
     "metadata": {},
     "output_type": "execute_result"
    }
   ],
   "source": [
    "dask.__version__"
   ]
  },
  {
   "cell_type": "code",
   "execution_count": 22,
   "metadata": {},
   "outputs": [],
   "source": [
    "import dask\n",
    "from dask.distributed import Client, progress\n",
    "client = Client()"
   ]
  },
  {
   "cell_type": "code",
   "execution_count": 32,
   "metadata": {},
   "outputs": [],
   "source": [
    "test4 = []\n",
    "for i in range(100000,100020,1):\n",
    "    a = dask.delayed(fib)(i)\n",
    "    test4.append(a)\n",
    "res = dask.delayed()(test4)"
   ]
  },
  {
   "cell_type": "code",
   "execution_count": 33,
   "metadata": {},
   "outputs": [
    {
     "data": {
      "text/plain": [
       "Delayed('list-def7df13-c7e1-4d06-b03d-67363433e83b')"
      ]
     },
     "execution_count": 33,
     "metadata": {},
     "output_type": "execute_result"
    }
   ],
   "source": [
    "res"
   ]
  },
  {
   "cell_type": "markdown",
   "metadata": {},
   "source": [
    "open http://localhost:8787/status to see the progress"
   ]
  },
  {
   "cell_type": "code",
   "execution_count": 28,
   "metadata": {},
   "outputs": [
    {
     "name": "stdout",
     "output_type": "stream",
     "text": [
      "CPU times: user 460 ms, sys: 41.5 ms, total: 501 ms\n",
      "Wall time: 3.05 s\n"
     ]
    },
    {
     "data": {
      "text/plain": [
       "[1, 1, 1, 1, 1, 1, 1, 1, 1, 1, 1, 1, 1, 1, 1, 1, 1, 1, 1, 1]"
      ]
     },
     "execution_count": 28,
     "metadata": {},
     "output_type": "execute_result"
    }
   ],
   "source": [
    "%time res.compute()"
   ]
  },
  {
   "cell_type": "code",
   "execution_count": 34,
   "metadata": {},
   "outputs": [],
   "source": [
    "res = res.persist()  # start computation in the background"
   ]
  },
  {
   "cell_type": "code",
   "execution_count": 35,
   "metadata": {},
   "outputs": [
    {
     "data": {
      "text/plain": [
       "[1, 1, 1, 1, 1, 1, 1, 1, 1, 1, 1, 1, 1, 1, 1, 1, 1, 1, 1, 1]"
      ]
     },
     "execution_count": 35,
     "metadata": {},
     "output_type": "execute_result"
    },
    {
     "name": "stderr",
     "output_type": "stream",
     "text": [
      "distributed.nanny - WARNING - Restarting worker\n",
      "distributed.nanny - WARNING - Restarting worker\n",
      "distributed.nanny - WARNING - Restarting worker\n",
      "distributed.nanny - WARNING - Restarting worker\n",
      "distributed.nanny - WARNING - Restarting worker\n",
      "distributed.nanny - WARNING - Restarting worker\n",
      "distributed.nanny - WARNING - Restarting worker\n",
      "distributed.nanny - WARNING - Restarting worker\n"
     ]
    }
   ],
   "source": [
    "res.compute()"
   ]
  },
  {
   "cell_type": "code",
   "execution_count": null,
   "metadata": {},
   "outputs": [],
   "source": []
  }
 ],
 "metadata": {
  "kernelspec": {
   "display_name": "Python 3",
   "language": "python",
   "name": "python3"
  },
  "language_info": {
   "codemirror_mode": {
    "name": "ipython",
    "version": 3
   },
   "file_extension": ".py",
   "mimetype": "text/x-python",
   "name": "python",
   "nbconvert_exporter": "python",
   "pygments_lexer": "ipython3",
   "version": "3.6.6"
  }
 },
 "nbformat": 4,
 "nbformat_minor": 2
}
