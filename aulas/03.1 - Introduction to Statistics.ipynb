{
 "cells": [
  {
   "cell_type": "code",
   "execution_count": 49,
   "metadata": {
    "ExecuteTime": {
     "end_time": "2018-10-01T19:29:02.518947Z",
     "start_time": "2018-10-01T19:29:02.510456Z"
    }
   },
   "outputs": [],
   "source": [
    "import numpy as np\n",
    "import pandas as pd\n",
    "import sympy as S\n",
    "from scipy import stats\n",
    "\n",
    "import matplotlib as mpl\n",
    "from matplotlib import pyplot as plt\n",
    "%matplotlib inline"
   ]
  },
  {
   "cell_type": "code",
   "execution_count": 76,
   "metadata": {
    "ExecuteTime": {
     "end_time": "2018-10-01T19:37:31.355581Z",
     "start_time": "2018-10-01T19:37:31.350735Z"
    }
   },
   "outputs": [],
   "source": [
    "mpl.style.use('seaborn-darkgrid')\n",
    "mpl.rcParams.update({'font.size': 18})"
   ]
  },
  {
   "cell_type": "code",
   "execution_count": 77,
   "metadata": {
    "ExecuteTime": {
     "end_time": "2018-10-01T19:37:32.701400Z",
     "start_time": "2018-10-01T19:37:32.696838Z"
    }
   },
   "outputs": [],
   "source": [
    "pd.options.display.max_rows = 10"
   ]
  },
  {
   "cell_type": "markdown",
   "metadata": {},
   "source": [
    "# Introduction to Statistics"
   ]
  },
  {
   "cell_type": "markdown",
   "metadata": {},
   "source": [
    "To get started thinking about statistics, consider the three famous problems\n",
    "\n",
    "* Suppose you have a bag filled with colored marbles. You close your eyes and\n",
    "  reach into it and pull out a handful of marbles, what can you say about what is\n",
    "  in the bag?\n",
    "\n",
    "* You arrive in a strange town and you need a taxicab. You look out the window,\n",
    "  and in the dark, you can just barely make out the number on the roof of one of\n",
    "  the cabs. In this town, you know they label the cabs sequentially. How many\n",
    "  cabs does the town have?\n",
    "\n",
    "* You have already taken the entrance exam twice and you want to know if it's\n",
    "  worth it to take it a third time in the hopes that your score will improve.\n",
    "  Because only the last score is reported, you are worried that you may do worse\n",
    "  the third time. How do you decide whether or not to take the test again?\n",
    "\n",
    "Statistics provides a structured way to approach each of these problems.  This\n",
    "is important because it is easy to be fooled by your biases and intuitions.\n",
    "Unfortunately, the field does not provide a *single* way to do this, which\n",
    "explains the many library shelves that groan under the weight of statistics\n",
    "texts. This means that although many statistical quantities are easy to\n",
    "*compute*, these are not so easy to justify, explain, or even understand.\n",
    "Fundamentally, when we start with just the data, we lack the underlying\n",
    "probability density that we discussed in the last chapter. This removes key\n",
    "structures that we have to compensate for in however we choose to process the\n",
    "data.  In the following, we consider some of the most powerful statistical\n",
    "tools in the Python arsenal and suggest ways to think through them"
   ]
  },
  {
   "cell_type": "markdown",
   "metadata": {},
   "source": [
    "The absence of the probability density for the raw data means that we have to\n",
    "argue about sequences of random variables in a structured way. From basic\n",
    "calculus, recall the following convergence notation,"
   ]
  },
  {
   "cell_type": "markdown",
   "metadata": {},
   "source": [
    "$$\n",
    "x_n \\rightarrow x_o\n",
    "$$"
   ]
  },
  {
   "cell_type": "markdown",
   "metadata": {},
   "source": [
    " for the real number sequence $x_n$. This means that for any given\n",
    "$\\epsilon>0$, no matter how small, we can exhibit a $m$ such that for\n",
    "any $n>m$, we have"
   ]
  },
  {
   "cell_type": "markdown",
   "metadata": {},
   "source": [
    "$$\n",
    "\\vert x_n-x_o \\vert < \\epsilon\n",
    "$$"
   ]
  },
  {
   "cell_type": "markdown",
   "metadata": {},
   "source": [
    " Intuitively, this means that once we get past $m$ in the sequence, we\n",
    "get as to within $\\epsilon$ of $x_o$. This means that nothing surprising\n",
    "happens in the sequence on the long march to infinity, which gives a sense of\n",
    "uniformity to the convergence process.  When we argue about convergence for\n",
    "statistics, we want to same look-and-feel as we have here, but because we are\n",
    "now talking about random variables, we need other concepts.  There are two\n",
    "moving parts for random variables. Recall that random variables are really\n",
    "functions that map sets into the real line: $X:\\Omega \\mapsto \\mathbb{R}$.\n",
    "Thus, one part to keep track of is the behavior of the subsets of $\\Omega$\n",
    "while arguing about convergence.   The other part is the sequence of values\n",
    "that the random variable takes on the real line and how those behave in the\n",
    "convergence process.\n",
    "\n",
    "## Almost Sure Convergence\n",
    "\n",
    "The most straightforward extension into statistics of this convergence concept\n",
    "is *convergence with probability one*, which is also known as *almost sure\n",
    "convergence*, which is the following,"
   ]
  },
  {
   "cell_type": "markdown",
   "metadata": {},
   "source": [
    "\n",
    "$$\n",
    "P\\lbrace \\texttt{for each } \\epsilon>0 \\texttt{ there is } n_\\epsilon>0 \\texttt{ such that for all } n>n_\\epsilon, \\: \\vert X_n-X \\vert < \\epsilon   \\rbrace = 1\n",
    "$$\n"
   ]
  },
  {
   "cell_type": "markdown",
   "metadata": {},
   "source": [
    " Note the similarity to the prior notion of convergence for real\n",
    "numbers.  When this happens, we write this as $X_n \\overset{as}{\\to} X$.  In\n",
    "this context, almost sure convergence means that if we take any particular\n",
    "$\\omega\\in\\Omega$ and then look at the sequence of real numbers that are\n",
    "produced by each of the random variables,"
   ]
  },
  {
   "cell_type": "markdown",
   "metadata": {},
   "source": [
    "$$\n",
    "(X_1(\\omega),X_2(\\omega),X_3(\\omega),\\ldots,X_n(\\omega))\n",
    "$$"
   ]
  },
  {
   "cell_type": "markdown",
   "metadata": {},
   "source": [
    " then this sequence is just a real-valued sequence in the\n",
    "sense of our convergence on the real line and converges in the same way. If we\n",
    "collect all of the $\\omega$ for which this is true and the measure of that\n",
    "collection equals one, then we have almost sure convergence of the random\n",
    "variable. Notice how the convergence idea applies to both sides of the random\n",
    "variable: the (domain) $\\Omega$ side and the (co-domain) real-valued side. \n",
    "\n",
    "An equivalent and more compact way of writing this is the following,"
   ]
  },
  {
   "cell_type": "markdown",
   "metadata": {},
   "source": [
    "$$\n",
    "P\\left(\\omega\\in\\Omega \\colon\\lim_{n\\rightarrow\\infty} X_n(\\omega)=X(\\omega) \\right)=1\n",
    "$$"
   ]
  },
  {
   "cell_type": "markdown",
   "metadata": {},
   "source": [
    "**Example.** To get some feel for the mechanics of this kind of convergence\n",
    "consider the following sequence of uniformly distributed random variables on\n",
    "the unit interval, $X_n \\sim \\mathcal{U}[0,1]$. Now, consider taking\n",
    "the maximum of the set of $n$ such variables as the following,"
   ]
  },
  {
   "cell_type": "markdown",
   "metadata": {},
   "source": [
    "$$\n",
    "X_{(n)} = \\max \\lbrace X_1,\\ldots,X_n \\rbrace\n",
    "$$"
   ]
  },
  {
   "cell_type": "markdown",
   "metadata": {},
   "source": [
    " In other words, we scan through a list of $n$ uniformly distributed\n",
    "random variables and pick out the maximum over the set. Intuitively, we should\n",
    "expect that $X_{(n)}$ should somehow converge to one. Let's see if we can make\n",
    "this happen almost surely.  We want to exhibit $m$ so that the following is\n",
    "true,"
   ]
  },
  {
   "cell_type": "markdown",
   "metadata": {},
   "source": [
    "$$\n",
    "P(\\vert 1 - X_{(n)} \\vert < \\epsilon) \\texttt{ when } n>m\n",
    "$$"
   ]
  },
  {
   "cell_type": "markdown",
   "metadata": {},
   "source": [
    " Because $X_{(n)}<1$, we can simplify this as the following,"
   ]
  },
  {
   "cell_type": "markdown",
   "metadata": {},
   "source": [
    "$$\n",
    "1-P(X_{(n)}<1-\\epsilon)=1-(1-\\epsilon)^m \\underset{m\\rightarrow\\infty}{\\longrightarrow} 1\n",
    "$$"
   ]
  },
  {
   "cell_type": "markdown",
   "metadata": {},
   "source": [
    " Thus, this sequence converges almost surely. We can work this\n",
    "example out in Python using Scipy to make it concrete with the following\n",
    "code,"
   ]
  },
  {
   "cell_type": "code",
   "execution_count": 4,
   "metadata": {
    "ExecuteTime": {
     "end_time": "2018-10-01T17:44:15.548398Z",
     "start_time": "2018-10-01T17:44:15.534901Z"
    }
   },
   "outputs": [
    {
     "data": {
      "text/plain": [
       "0.9553791343036301"
      ]
     },
     "execution_count": 4,
     "metadata": {},
     "output_type": "execute_result"
    }
   ],
   "source": [
    "u = stats.uniform()\n",
    "xn = lambda i: u.rvs(i).max()\n",
    "xn(5)"
   ]
  },
  {
   "cell_type": "code",
   "execution_count": 21,
   "metadata": {
    "ExecuteTime": {
     "end_time": "2018-10-01T17:49:10.229448Z",
     "start_time": "2018-10-01T17:49:09.329425Z"
    }
   },
   "outputs": [
    {
     "data": {
      "text/plain": [
       "<matplotlib.lines.Line2D at 0x7f62262c89e8>"
      ]
     },
     "execution_count": 21,
     "metadata": {},
     "output_type": "execute_result"
    },
    {
     "data": {
      "image/png": "[encoded data removed]",
      "text/plain": [
       "<Figure size 432x360 with 1 Axes>"
      ]
     },
     "metadata": {},
     "output_type": "display_data"
    }
   ],
   "source": [
    "f, ax = plt.subplots(figsize=(6,5))\n",
    "for _ in range(100):\n",
    "    ax.plot([xn(n) for n in range(1,100)]);\n",
    "\n",
    "ax.axhline(y=0.95, color='k', linestyle='--')"
   ]
  },
  {
   "cell_type": "markdown",
   "metadata": {},
   "source": [
    " Thus, the `xn` variable is the same as the $X_{(n)}$ random variable\n",
    "in our example. [Figure](#fig:Convergence_001) shows a plot of these random\n",
    "variables for different values of $n$ and multiple realizations of each random\n",
    "variable (multiple gray lines). The dark horizontal line is at the `0.95`\n",
    "level. For this example, suppose we are interested in the convergence of the\n",
    "random variable to within `0.05` of one so we are interested in the region\n",
    "between one and `0.95`.  Thus, in our Equation\n",
    "$$\n",
    "P(\\vert 1 - X_{(n)} \\vert < \\epsilon) \\texttt{ when } n>m\\,,\n",
    "$$\n",
    "$\\epsilon=0.05$.\n",
    "\n",
    "\n",
    "Now, we have to find $n_\\epsilon$ to get the almost sure convergence. From\n",
    "[Figure](#fig:Convergence_001), as soon as we get past $n>60$, we can see that\n",
    "all the realizations start to fit in the region above the `0.95` horizontal\n",
    "line.  However, there are still some cases where a particular realization will\n",
    "skip below this line. \n",
    "\n",
    "To get the probability  guarantee of the definition\n",
    "satisfied, we have to make sure that for whatever $n_\\epsilon$ we settle on,\n",
    "the probability of this kind of noncompliant behavior should be extremely\n",
    "small, say, less than 1%.  Now, we can compute the following to estimate this\n",
    "probability for $n=60$ over 1000 realizations,"
   ]
  },
  {
   "cell_type": "code",
   "execution_count": 23,
   "metadata": {
    "ExecuteTime": {
     "end_time": "2018-10-01T17:49:43.647666Z",
     "start_time": "2018-10-01T17:49:43.458239Z"
    }
   },
   "outputs": [
    {
     "data": {
      "text/plain": [
       "0.957"
      ]
     },
     "execution_count": 23,
     "metadata": {},
     "output_type": "execute_result"
    }
   ],
   "source": [
    "np.mean([xn(60) > 0.95 for i in range(1000)])"
   ]
  },
  {
   "cell_type": "markdown",
   "metadata": {},
   "source": [
    " So, the probability of having a noncompliant case beyond $n>60$ is\n",
    "pretty good, but not still what we are after (`0.99`). We can solve for the $m$\n",
    "in our analytic proof of convergence by plugging in our factors for $\\epsilon$\n",
    "and our desired probability constraint,"
   ]
  },
  {
   "cell_type": "code",
   "execution_count": 25,
   "metadata": {
    "ExecuteTime": {
     "end_time": "2018-10-01T17:53:29.656824Z",
     "start_time": "2018-10-01T17:53:29.650373Z"
    }
   },
   "outputs": [
    {
     "data": {
      "text/plain": [
       "89.78113496070968"
      ]
     },
     "execution_count": 25,
     "metadata": {},
     "output_type": "execute_result"
    }
   ],
   "source": [
    "np.log(1-.99)/np.log(.95)"
   ]
  },
  {
   "cell_type": "markdown",
   "metadata": {},
   "source": [
    " Now, rounding this up and re-visiting the same estimate as above,"
   ]
  },
  {
   "cell_type": "code",
   "execution_count": 27,
   "metadata": {
    "ExecuteTime": {
     "end_time": "2018-10-01T17:53:42.765726Z",
     "start_time": "2018-10-01T17:53:42.637813Z"
    }
   },
   "outputs": [
    {
     "data": {
      "text/plain": [
       "0.989"
      ]
     },
     "execution_count": 27,
     "metadata": {},
     "output_type": "execute_result"
    }
   ],
   "source": [
    "np.mean([xn(90) > 0.95 for i in range(1000)])"
   ]
  },
  {
   "cell_type": "markdown",
   "metadata": {},
   "source": [
    " which is the result we were looking for. The important thing to\n",
    "understand from this example is that we had to choose convergence criteria for\n",
    "*both* the values of the random variable (`0.95`) and for the probability of\n",
    "achieving that level (`0.99`) in order to compute the $m$.  Informally\n",
    "speaking, almost sure convergence means that not only will any particular $X_n$\n",
    "be close to $X$ for large $n$, but whole sequence of values will remain close\n",
    "to $X$ with high probability. \n",
    "\n",
    "<!-- dom:FIGURE: [fig-statistics/Convergence_001.png, width=500 frac=0.85] Almost sure convergence example for multiple realizations of the limiting sequence.   <div id=\"fig:Convergence_001\"></div> -->\n",
    "<!-- begin figure -->\n",
    "<div id=\"fig:Convergence_001\"></div>\n",
    "\n",
    "<p>Almost sure convergence example for multiple realizations of the limiting sequence.</p>\n",
    "<img src=\"fig-statistics/Convergence_001.png\" width=500>\n",
    "\n",
    "<!-- end figure -->\n",
    "\n",
    "\n",
    "## Convergence in Probability\n",
    "\n",
    "A weaker kind of convergence is *convergence in probability* which means the\n",
    "following:"
   ]
  },
  {
   "cell_type": "markdown",
   "metadata": {},
   "source": [
    "$$\n",
    "\\mathbb{P}(\\mid X_n -X\\mid > \\epsilon) \\rightarrow 0\n",
    "$$"
   ]
  },
  {
   "cell_type": "markdown",
   "metadata": {},
   "source": [
    " as $n \\rightarrow \\infty$ for each $\\epsilon > 0$. \n",
    "\n",
    "This is notationally\n",
    "shown as $X_n \\overset{P}{\\to} X$.  For example, let's consider the following\n",
    "sequence of random variables where $X_n = 1/2^n$ with probability $p_n$ and\n",
    "where $X_n=c$ with probability $1-p_n$. Then, we have $X_n  \\overset{P}{\\to} 0$\n",
    "as $p_n \\rightarrow 1$.  This is allowable under this notion of convergence\n",
    "because a diminishing amount of *non-converging* behavior (namely, when\n",
    "$X_n=c$) is possible. Note that we have said nothing about *how* $p_n\n",
    "\\rightarrow 1$.\n",
    "\n",
    "**Example.** To get some sense of the mechanics of this kind of convergence,\n",
    "let $\\lbrace X_1,X_2,X_3,\\ldots \\rbrace$ be the indicators of the corresponding\n",
    "intervals,"
   ]
  },
  {
   "cell_type": "markdown",
   "metadata": {},
   "source": [
    "$$\n",
    "(0,1],(0,\\tfrac{1}{2}],(\\tfrac{1}{2},1],(0,\\tfrac{1}{3}],(\\tfrac{1}{3},\\tfrac{2}{3}],(\\tfrac{2}{3},1]\n",
    "$$"
   ]
  },
  {
   "cell_type": "markdown",
   "metadata": {},
   "source": [
    " In other words, just keep splitting the unit interval into equal\n",
    "chunks and enumerate those chunks with $X_i$. Because each $X_i$ is an\n",
    "indicator function, it takes only two values: zero and one.  For example,\n",
    "for $X_2=1$ if $0<x \\le 1/2$ and zero otherwise. Note that $x \\sim\n",
    "\\mathcal{U}(0,1)$. This means that $P(X_2=1)=1/2$. Now, we want to compute\n",
    "the sequence of $P(X_n>\\epsilon)$ for each $n$ for some $\\epsilon\\in (0,1)$.\n",
    "For $X_1$, we  have $P(X_1>\\epsilon)=1$ because we already chose $\\epsilon$\n",
    "in the interval covered by $X_1$. For $X_2$, we have $P(X_2>\\epsilon)=1/2$,\n",
    "for $X_3$, we have $P(X_3>\\epsilon)=1/3$, and so on.  This produces the\n",
    "following sequence:\n",
    "$(1,\\frac{1}{2},\\frac{1}{2},\\frac{1}{3},\\frac{1}{3},\\ldots)$.  The limit\n",
    "of the sequence is zero so that $X_n \\overset{P}{\\to} 0$. However, for\n",
    "every $x\\in (0,1)$, the sequence of  function values of $X_n(x)$ consists\n",
    "of infinitely many zeros and ones (remember that indicator functions can\n",
    "evaluate to either zero or one).  Thus, the set of $x$ for which the\n",
    "sequence $X_n(x)$ converges is empty because the sequence bounces \n",
    "between zero and one. This means that almost sure\n",
    "convergence fails here even though we have convergence in probability.\n",
    "The key distinction is that convergence in probability considers the convergence\n",
    "of a sequence of probabilities whereas almost sure convergence is\n",
    "concerned about the sequence of values of the random variables over\n",
    "sets of events that *fill out* the underlying probability space entirely (i.e.,\n",
    "with probability one).\n",
    "\n",
    "This is a good example so let's see if we can make it concrete with some\n",
    "Python. The following is a function to compute the different subintervals,"
   ]
  },
  {
   "cell_type": "code",
   "execution_count": 40,
   "metadata": {
    "ExecuteTime": {
     "end_time": "2018-10-01T19:13:06.509675Z",
     "start_time": "2018-10-01T19:13:06.502185Z"
    }
   },
   "outputs": [
    {
     "data": {
      "text/plain": [
       "[(0, 1)]"
      ]
     },
     "execution_count": 40,
     "metadata": {},
     "output_type": "execute_result"
    }
   ],
   "source": [
    "n=1\n",
    "list(zip(range(n+1),range(1,n+1)))"
   ]
  },
  {
   "cell_type": "code",
   "execution_count": 41,
   "metadata": {
    "ExecuteTime": {
     "end_time": "2018-10-01T19:13:12.808230Z",
     "start_time": "2018-10-01T19:13:12.800441Z"
    }
   },
   "outputs": [
    {
     "data": {
      "text/plain": [
       "[(0, 1), (1, 2)]"
      ]
     },
     "execution_count": 41,
     "metadata": {},
     "output_type": "execute_result"
    }
   ],
   "source": [
    "n=2\n",
    "list(zip(range(n+1),range(1,n+1)))"
   ]
  },
  {
   "cell_type": "code",
   "execution_count": 42,
   "metadata": {
    "ExecuteTime": {
     "end_time": "2018-10-01T19:25:30.716132Z",
     "start_time": "2018-10-01T19:25:30.708381Z"
    }
   },
   "outputs": [
    {
     "data": {
      "text/plain": [
       "[(0, 1), (1, 2), (2, 3)]"
      ]
     },
     "execution_count": 42,
     "metadata": {},
     "output_type": "execute_result"
    }
   ],
   "source": [
    "n=3\n",
    "list(zip(range(n+1),range(1,n+1)))"
   ]
  },
  {
   "cell_type": "code",
   "execution_count": 46,
   "metadata": {
    "ExecuteTime": {
     "end_time": "2018-10-01T19:28:33.119979Z",
     "start_time": "2018-10-01T19:28:33.115133Z"
    }
   },
   "outputs": [],
   "source": [
    "def make_interval(n):\n",
    "    return np.array(list(zip(range(n+1),range(1,n+1))))/n"
   ]
  },
  {
   "cell_type": "code",
   "execution_count": 47,
   "metadata": {
    "ExecuteTime": {
     "end_time": "2018-10-01T19:28:33.758488Z",
     "start_time": "2018-10-01T19:28:33.752966Z"
    }
   },
   "outputs": [
    {
     "data": {
      "text/plain": [
       "array([[0.        , 0.16666667],\n",
       "       [0.16666667, 0.33333333],\n",
       "       [0.33333333, 0.5       ],\n",
       "       [0.5       , 0.66666667],\n",
       "       [0.66666667, 0.83333333],\n",
       "       [0.83333333, 1.        ]])"
      ]
     },
     "execution_count": 47,
     "metadata": {},
     "output_type": "execute_result"
    }
   ],
   "source": [
    "make_interval(6)"
   ]
  },
  {
   "cell_type": "markdown",
   "metadata": {},
   "source": [
    " Now, we can use this function to create a Numpy\n",
    "array of intervals, as in the example,"
   ]
  },
  {
   "cell_type": "code",
   "execution_count": 43,
   "metadata": {
    "ExecuteTime": {
     "end_time": "2018-10-01T19:26:01.796224Z",
     "start_time": "2018-10-01T19:26:01.784811Z"
    }
   },
   "outputs": [
    {
     "data": {
      "text/plain": [
       "[array([[0., 1.]]), array([[0. , 0.5],\n",
       "        [0.5, 1. ]]), array([[0.        , 0.33333333],\n",
       "        [0.33333333, 0.66666667],\n",
       "        [0.66666667, 1.        ]]), array([[0.  , 0.25],\n",
       "        [0.25, 0.5 ],\n",
       "        [0.5 , 0.75],\n",
       "        [0.75, 1.  ]])]"
      ]
     },
     "execution_count": 43,
     "metadata": {},
     "output_type": "execute_result"
    }
   ],
   "source": [
    "[make_interval(i) for i in range(1,5)]"
   ]
  },
  {
   "cell_type": "markdown",
   "metadata": {},
   "source": [
    "`np.vstack`: Stack arrays in sequence vertically (row wise)."
   ]
  },
  {
   "cell_type": "code",
   "execution_count": 44,
   "metadata": {
    "ExecuteTime": {
     "end_time": "2018-10-01T19:26:24.615917Z",
     "start_time": "2018-10-01T19:26:24.610688Z"
    }
   },
   "outputs": [],
   "source": [
    "intervals = np.vstack([make_interval(i) for i in range(1,5)])"
   ]
  },
  {
   "cell_type": "code",
   "execution_count": 45,
   "metadata": {
    "ExecuteTime": {
     "end_time": "2018-10-01T19:26:25.250075Z",
     "start_time": "2018-10-01T19:26:25.244288Z"
    }
   },
   "outputs": [
    {
     "data": {
      "text/plain": [
       "array([[0.        , 1.        ],\n",
       "       [0.        , 0.5       ],\n",
       "       [0.5       , 1.        ],\n",
       "       [0.        , 0.33333333],\n",
       "       [0.33333333, 0.66666667],\n",
       "       [0.66666667, 1.        ],\n",
       "       [0.        , 0.25      ],\n",
       "       [0.25      , 0.5       ],\n",
       "       [0.5       , 0.75      ],\n",
       "       [0.75      , 1.        ]])"
      ]
     },
     "execution_count": 45,
     "metadata": {},
     "output_type": "execute_result"
    }
   ],
   "source": [
    "intervals"
   ]
  },
  {
   "cell_type": "markdown",
   "metadata": {},
   "source": [
    " The following function computes the bit string in our example,\n",
    "$\\lbrace X_1,X_2,\\ldots,X_n \\rbrace$,"
   ]
  },
  {
   "cell_type": "code",
   "execution_count": 50,
   "metadata": {
    "ExecuteTime": {
     "end_time": "2018-10-01T19:29:15.882473Z",
     "start_time": "2018-10-01T19:29:15.875881Z"
    }
   },
   "outputs": [],
   "source": [
    "u = stats.uniform()"
   ]
  },
  {
   "cell_type": "code",
   "execution_count": 61,
   "metadata": {
    "ExecuteTime": {
     "end_time": "2018-10-01T19:31:27.651537Z",
     "start_time": "2018-10-01T19:31:27.644337Z"
    }
   },
   "outputs": [
    {
     "data": {
      "text/plain": [
       "array([0.        , 0.        , 0.5       , 0.        , 0.33333333,\n",
       "       0.66666667, 0.        , 0.25      , 0.5       , 0.75      ])"
      ]
     },
     "execution_count": 61,
     "metadata": {},
     "output_type": "execute_result"
    }
   ],
   "source": [
    "intervals[:,0]"
   ]
  },
  {
   "cell_type": "code",
   "execution_count": 62,
   "metadata": {
    "ExecuteTime": {
     "end_time": "2018-10-01T19:31:34.232042Z",
     "start_time": "2018-10-01T19:31:34.224593Z"
    }
   },
   "outputs": [
    {
     "data": {
      "text/plain": [
       "array([1.        , 0.5       , 1.        , 0.33333333, 0.66666667,\n",
       "       1.        , 0.25      , 0.5       , 0.75      , 1.        ])"
      ]
     },
     "execution_count": 62,
     "metadata": {},
     "output_type": "execute_result"
    }
   ],
   "source": [
    "intervals[:,1]"
   ]
  },
  {
   "cell_type": "code",
   "execution_count": 54,
   "metadata": {
    "ExecuteTime": {
     "end_time": "2018-10-01T19:30:28.875774Z",
     "start_time": "2018-10-01T19:30:28.869281Z"
    }
   },
   "outputs": [],
   "source": [
    "def bits(u):\n",
    "    return ((intervals[:,0] < u) & (u<=intervals[:,1])).astype(int)"
   ]
  },
  {
   "cell_type": "code",
   "execution_count": 59,
   "metadata": {
    "ExecuteTime": {
     "end_time": "2018-10-01T19:31:07.397487Z",
     "start_time": "2018-10-01T19:31:07.390210Z"
    }
   },
   "outputs": [
    {
     "data": {
      "text/plain": [
       "0.37838140489651073"
      ]
     },
     "execution_count": 59,
     "metadata": {},
     "output_type": "execute_result"
    }
   ],
   "source": [
    "u.rvs()"
   ]
  },
  {
   "cell_type": "code",
   "execution_count": 63,
   "metadata": {
    "ExecuteTime": {
     "end_time": "2018-10-01T19:31:48.497804Z",
     "start_time": "2018-10-01T19:31:48.490133Z"
    }
   },
   "outputs": [
    {
     "data": {
      "text/plain": [
       "array([1, 0, 1, 0, 1, 0, 0, 0, 1, 0])"
      ]
     },
     "execution_count": 63,
     "metadata": {},
     "output_type": "execute_result"
    }
   ],
   "source": [
    "bits(u.rvs())"
   ]
  },
  {
   "cell_type": "markdown",
   "metadata": {},
   "source": [
    " Now that we have the individual bit strings, to show convergence we\n",
    "want to show that the probability of each entry goes to a limit. For example,\n",
    "using ten realizations,"
   ]
  },
  {
   "cell_type": "code",
   "execution_count": 64,
   "metadata": {
    "ExecuteTime": {
     "end_time": "2018-10-01T19:32:48.834506Z",
     "start_time": "2018-10-01T19:32:48.824037Z"
    }
   },
   "outputs": [
    {
     "data": {
      "text/plain": [
       "array([[1, 1, 0, 1, 0, 0, 1, 0, 0, 0],\n",
       "       [1, 1, 0, 1, 0, 0, 1, 0, 0, 0],\n",
       "       [1, 1, 0, 1, 0, 0, 1, 0, 0, 0],\n",
       "       [1, 1, 0, 0, 1, 0, 0, 1, 0, 0],\n",
       "       [1, 0, 1, 0, 0, 1, 0, 0, 1, 0],\n",
       "       [1, 0, 1, 0, 0, 1, 0, 0, 0, 1],\n",
       "       [1, 1, 0, 1, 0, 0, 0, 1, 0, 0],\n",
       "       [1, 0, 1, 0, 0, 1, 0, 0, 0, 1],\n",
       "       [1, 0, 1, 0, 0, 1, 0, 0, 0, 1],\n",
       "       [1, 0, 1, 0, 0, 1, 0, 0, 0, 1]])"
      ]
     },
     "execution_count": 64,
     "metadata": {},
     "output_type": "execute_result"
    }
   ],
   "source": [
    "np.vstack([bits(u.rvs()) for i in range(10)])"
   ]
  },
  {
   "cell_type": "markdown",
   "metadata": {},
   "source": [
    " We want the limiting probability of a one in each column to convert\n",
    "to a limit. We can estimate this over 1000  realizations using the following\n",
    "code,"
   ]
  },
  {
   "cell_type": "code",
   "execution_count": 68,
   "metadata": {
    "ExecuteTime": {
     "end_time": "2018-10-01T19:35:05.517688Z",
     "start_time": "2018-10-01T19:35:05.406530Z"
    }
   },
   "outputs": [
    {
     "data": {
      "text/plain": [
       "array([1.   , 0.503, 0.497, 0.329, 0.344, 0.327, 0.24 , 0.263, 0.248,\n",
       "       0.249])"
      ]
     },
     "execution_count": 68,
     "metadata": {},
     "output_type": "execute_result"
    }
   ],
   "source": [
    "np.vstack([bits(u.rvs()) for i in range(1000)]).mean(axis=0)"
   ]
  },
  {
   "cell_type": "code",
   "execution_count": 72,
   "metadata": {
    "ExecuteTime": {
     "end_time": "2018-10-01T19:36:33.856552Z",
     "start_time": "2018-10-01T19:36:33.737230Z"
    }
   },
   "outputs": [],
   "source": [
    "intervals = np.vstack([make_interval(i) for i in range(1,10)])\n",
    "probs = np.vstack([bits(u.rvs()) for i in range(1000)]).mean(axis=0)"
   ]
  },
  {
   "cell_type": "code",
   "execution_count": 90,
   "metadata": {
    "ExecuteTime": {
     "end_time": "2018-10-01T19:40:01.235110Z",
     "start_time": "2018-10-01T19:40:01.096477Z"
    }
   },
   "outputs": [
    {
     "data": {
      "text/plain": [
       "[<matplotlib.lines.Line2D at 0x7f62260aecf8>]"
      ]
     },
     "execution_count": 90,
     "metadata": {},
     "output_type": "execute_result"
    },
    {
     "data": {
      "image/png": "[encoded data removed]",
      "text/plain": [
       "<Figure size 480x400 with 1 Axes>"
      ]
     },
     "metadata": {},
     "output_type": "display_data"
    }
   ],
   "source": [
    "f, ax = plt.subplots(figsize=(6,5))\n",
    "ax.plot(probs)"
   ]
  },
  {
   "cell_type": "markdown",
   "metadata": {},
   "source": [
    " Note that these entries should approach the\n",
    "$(1,\\frac{1}{2},\\frac{1}{2},\\frac{1}{3},\\frac{1}{3},\\ldots)$ sequence we found\n",
    "earlier. [Figure](#fig:Convergence_002) shows the convergence of these\n",
    "probabilities for a large number of intervals. Eventually, the probability\n",
    "shown on this graph will decrease to zero with large enough $n$. Again, note\n",
    "that the individual sequences of zeros and ones do not converge, but the\n",
    "probabilities of these sequences converge. This is the key difference between\n",
    "almost sure convergence and convergence in probability. Thus, convergence in\n",
    "probability does *not* imply  almost sure convergence. Conversely, almost sure\n",
    "convergence *does* imply convergence in probability.\n",
    "\n",
    "\n",
    "<!-- dom:FIGURE: [fig-statistics/Convergence_002.png, width=500 frac=0.85] Convergence in probability for the random variable sequence.  <div id=\"fig:Convergence_002\"></div> -->\n",
    "<!-- begin figure -->\n",
    "<div id=\"fig:Convergence_002\"></div>\n",
    "\n",
    "<p>Convergence in probability for the random variable sequence.</p>\n",
    "<img src=\"fig-statistics/Convergence_002.png\" width=500>\n",
    "\n",
    "<!-- end figure -->\n",
    "\n",
    "\n",
    "The following notation should help emphasize the difference\n",
    "between almost sure convergence and convergence in probability, \n",
    "respectively,"
   ]
  },
  {
   "cell_type": "markdown",
   "metadata": {},
   "source": [
    "$$\n",
    "\\begin{align*}\n",
    "P\\left(\\lim_{n\\rightarrow \\infty} \\vert X_n-X\\vert < \\epsilon\\right)&=1~~~\\texttt{(almost sure convergence)}  \\\\\\\n",
    "\\lim_{n\\rightarrow \\infty}  P(\\vert X_n-X\\vert < \\epsilon)&=1~~~\\texttt{(convergence in probability)}\n",
    "\\end{align*}\n",
    "$$"
   ]
  },
  {
   "cell_type": "markdown",
   "metadata": {},
   "source": [
    "## Convergence in Distribution\n",
    "\n",
    "<!-- DasGupta -->\n",
    "<!-- p. 225 in Boos -->\n",
    "<!-- p.133 Keener, Delta Method -->\n",
    "<!-- p. 352 MMA Rose -->\n",
    "<!-- p. 314, Kobayashi -->\n",
    "<!-- p. 291 Oloffson -->\n",
    "\n",
    "So far, we have been discussing convergence in terms of\n",
    "sequences of probabilities or sequences of values taken by\n",
    "the random variable.  By contrast,  the next major kind of\n",
    "convergence is *convergence in distribution* where"
   ]
  },
  {
   "cell_type": "markdown",
   "metadata": {},
   "source": [
    "$$\n",
    "\\lim_{n \\to \\infty}  F_n(t) = F(t)\n",
    "$$"
   ]
  },
  {
   "cell_type": "markdown",
   "metadata": {},
   "source": [
    " for all $t$ for which $F$ is continuous and $F$ is the\n",
    "cumulative density function. For this case, convergence is only\n",
    "concerned with the cumulative density function, written as $X_n\n",
    "\\overset{d}{\\to} X$.  \n",
    "\n",
    "**Example.** To develop some intuition about this kind of convergence,\n",
    "consider a sequence of $X_n$ Bernoulli random variables. Furthermore,\n",
    "suppose these are all really just the same random variable $X$.\n",
    "Trivially, $X_n \\overset{d}{\\to} X$. Now, suppose we define $Y=1-X$,\n",
    "which means that $Y$ has the same distribution as $X$. Thus, $X_n\n",
    "\\overset{d}{\\to} Y$. By contrast, because $\\vert X_n - Y\\vert=1$ for all\n",
    "$n$, we can never have almost sure convergence or convergence in\n",
    "probability. Thus, convergence in distribution is the weakest\n",
    "of the three forms of convergence in the sense that it is implied by\n",
    "the other two, but implies neither of the two.\n",
    "\n",
    "As another striking example, we could have $Y_n \\overset{d}{\\to} Z$ where $Z\n",
    "\\sim \\mathcal{N}(0,1)$, but we could also have $Y_n \\overset{d}{\\to} -Z$.\n",
    "That is, $Y_n$ could converge in distribution to either $Z$ or $-Z$. This\n",
    "may seem ambiguous, but this kind of convergence is practically very useful\n",
    "because it allows for complicated distributions to be approximated by\n",
    "simpler distributions.  \n",
    "\n",
    "## Limit Theorems\n",
    "<div id=\"ch:stats:sec:limit\"></div>\n",
    "\n",
    "Now that we have all of these notions of convergence, we can apply them to\n",
    "different situations and see what kinds of claims we can construct from them.\n",
    "\n",
    "**Weak Law of Large Numbers.**  Let $\\lbrace X_1,X_2,\\ldots,X_n \\rbrace$ be an\n",
    "iid set of random variables with finite mean $\\mathbb{E}(X_k)=\\mu$ and finite\n",
    "variance. Let $\\overline{X}_n = \\frac{1}{n}\\sum_k X_k$. Then, we have\n",
    "$\\overline{X}_n \\overset{P}{\\to} \\mu$. This result is important because we\n",
    "frequently estimate parameters using an averaging process of some kind. This\n",
    "basically justifies this in terms of convergence in probability. Informally,\n",
    "this means that the distribution of $\\overline{X}_n$ becomes\n",
    "concentrated around $\\mu$ as $n\\rightarrow\\infty$.\n",
    "\n",
    "**Strong Law of Large Numbers.**  Let $\\lbrace X_1,X_2,\\ldots,\\rbrace$ be an\n",
    "iid set of random variables. Suppose that $\\mu=\\mathbb{E}\\vert\n",
    "X_i\\vert<\\infty$, then $\\overline{X}_n \\overset{as}{\\to} \\mu$. The reason this\n",
    "is called the strong law is that it implies the weak law because almost sure\n",
    "convergence implies convergence in probability. The so-called  Komogorov\n",
    "criterion gives the convergence of the following,"
   ]
  },
  {
   "cell_type": "markdown",
   "metadata": {},
   "source": [
    "$$\n",
    "\\sum_k \\frac{\\sigma_k^2}{k^2}\n",
    "$$"
   ]
  },
  {
   "cell_type": "markdown",
   "metadata": {},
   "source": [
    " as a sufficient condition for concluding that the Strong Law applies\n",
    "to the sequence $ \\lbrace X_k \\rbrace$ with corresponding $\\lbrace \\sigma_k^2\n",
    "\\rbrace$.\n",
    "\n",
    "As an example, consider an infinite sequence of Bernoulli trials with $X_i=1$\n",
    "if the $i^{th}$ trial is successful. Then $\\overline{X}_n$ is the relative\n",
    "frequency of successes in $n$ trials and $\\mathbb{E}(X_i)$ is the\n",
    "probability $p$ of success on the $i^{th}$ trial. With all that established,\n",
    "the Weak Law says only that if we consider a sufficiently large and fixed\n",
    "$n$, the probability that the relative frequency will converge to $p$ is\n",
    "guaranteed. The Strong Law states that if we regard the observation of all\n",
    "the infinite $\\lbrace X_i \\rbrace$ as one performance of the experiment, the\n",
    "relative frequency of successes will almost surely converge to $p$.  The\n",
    "difference between the Strong Law and the Weak Law of large numbers is\n",
    "subtle and rarely arises in practical applications of probability theory.\n",
    "\n",
    "**Central Limit Theorem.**  Although the Weak Law of Large Numbers tells us\n",
    "that the distribution of $\\overline{X}_n$ becomes concentrated around $\\mu$, it\n",
    "does not tell us what that distribution is. The Central Limit Theorem (CLT)\n",
    "says that $\\overline{X}_n$ has a distribution that is approximately Normal\n",
    "with mean $\\mu$ and variance $\\sigma^2/n$. Amazingly, nothing is assumed\n",
    "about the distribution of $X_i$, except the existence\n",
    "of the mean and variance. The following is the Central Limit Theorem:\n",
    "Let $\\lbrace X_1,X_2,\\ldots,X_n \\rbrace$ be iid with mean $\\mu$ and\n",
    "variance $\\sigma^2$. Then,"
   ]
  },
  {
   "cell_type": "markdown",
   "metadata": {},
   "source": [
    "$$\n",
    "Z_n = \\frac{\\sqrt{n}(\\overline{X}_n-\\mu)}{\\sigma} \\overset{P}{\\longrightarrow} Z\\sim\\mathcal{N}(0,1)\n",
    "$$"
   ]
  },
  {
   "cell_type": "markdown",
   "metadata": {},
   "source": [
    " The loose interpretation of the Central Limit Theorem is that\n",
    "$\\overline{X}_n$ can be legitimately approximated by a Normal distribution.\n",
    "Because we are talking about convergence in probability here, claims\n",
    "about probability are legitimized, not claims about the random variable\n",
    "itself. Intuitively, this shows that normality arises from sums of small,\n",
    "independent disturbances of finite variance. Technically, the finite\n",
    "variance assumption is essential for normality. Although the Central Limit\n",
    "Theorem provides a powerful, general approximation, the quality of the\n",
    "approximation for a particular situation still depends on the original\n",
    "(usually unknown) distribution."
   ]
  },
  {
   "cell_type": "markdown",
   "metadata": {},
   "source": [
    "The estimation problem starts with the desire to infer something meaningful\n",
    "from data.  For parametric estimation, the strategy is to postulate a model for\n",
    "the data and then use the data to fit model parameters.  This leads to two\n",
    "fundamental questions: where to get the model and how to estimate the\n",
    "parameters? The first question is best answered by the maxim: *all models are\n",
    "wrong, some are useful*. In other words, choosing a model depends as much on\n",
    "the application as on the model itself. Think about models as building\n",
    "different telescopes to view the sky. No one would ever claim that the\n",
    "telescope generates the sky! It is same with data models. Models give us\n",
    "multiple perspectives on the data that themselves are proxies for some deeper\n",
    "underlying phenomenon.\n",
    "\n",
    "Some categories of data may be more commonly studied using certain types of\n",
    "models, but this is usually very domain-specific and ultimately depends on the\n",
    "aims of the analysis. In some cases, there may be strong physical reasons\n",
    "behind choosing a model.  For example, one could postulate that the model is\n",
    "linear with some noise as in the following:"
   ]
  },
  {
   "cell_type": "markdown",
   "metadata": {},
   "source": [
    "$$\n",
    "Y = a X + \\epsilon\n",
    "$$"
   ]
  },
  {
   "cell_type": "markdown",
   "metadata": {},
   "source": [
    " which basically says that you, as the experimenter, dial in some\n",
    "value for $X$ and then read off something directly proportional to $X$ as the\n",
    "measurement, $Y$, plus some additive noise that you attribute to jitter in the\n",
    "apparatus. Then, the next step is to estimate the paramater $a$ in the model,\n",
    "given some postulated claim about the nature of $\\epsilon$. How to compute the\n",
    "model parameters depends on the particular methodology. The two broad rubrics\n",
    "are parametric and non-parametric estimation. In the former, we assume we know\n",
    "the density function of the data and then try to derive the embedded parameters\n",
    "for it. In the latter, we claim only to know that the density function is a\n",
    "member of a broad class of density functions and then use the data\n",
    "to characterize a member of that class. Broadly speaking, the former consumes\n",
    "less data than the latter, because there are fewer unknowns to compute from\n",
    "the data.\n",
    "\n",
    "Let's concentrate on parametric estimation for now. The tradition is to denote\n",
    "the unknown parameter to be estimated as $\\theta$ which is a member of a large\n",
    "space of alternates, $\\Theta$. To judge between potential $\\theta$ values, we\n",
    "need an objective function, known as a *risk* function,\n",
    "$L(\\theta,\\hat{\\theta})$, where $\\hat{\\theta}(\\mathbf{x})$ is an\n",
    "estimate for the unknown $\\theta$ that is derived from the available\n",
    "data $\\mathbf{x}$. The most common and useful risk function is the\n",
    "squared error loss,"
   ]
  },
  {
   "cell_type": "markdown",
   "metadata": {},
   "source": [
    "$$\n",
    "L(\\theta,\\hat{\\theta}) = (\\theta-\\hat{\\theta})^2\n",
    "$$"
   ]
  },
  {
   "cell_type": "markdown",
   "metadata": {},
   "source": [
    " Although neat, this is not practical because we need to know the\n",
    "unknown $\\theta$ to compute it. The other problem is because $\\hat{\\theta}$ is\n",
    "a function of the observed data, it is also a random variable with its own\n",
    "probability density function.  This leads to the notion of the *expected risk*\n",
    "function,"
   ]
  },
  {
   "cell_type": "markdown",
   "metadata": {},
   "source": [
    "$$\n",
    "R(\\theta,\\hat{\\theta}) = \\mathbb{E}_\\theta(L(\\theta,\\hat{\\theta})) = \\int L(\\theta,\\hat{\\theta}(\\mathbf{x})) f(\\mathbf{x};\\theta) d \\mathbf{x}\n",
    "$$"
   ]
  },
  {
   "cell_type": "markdown",
   "metadata": {},
   "source": [
    " In other words, given a fixed $\\theta$, integrate over the\n",
    "probability density function of the data, $f(\\mathbf{x})$,  to compute the\n",
    "risk. Plugging in for the squared error loss,  we compute the\n",
    "mean squared error,"
   ]
  },
  {
   "cell_type": "markdown",
   "metadata": {},
   "source": [
    "$$\n",
    "\\mathbb{E}_\\theta(\\theta-\\hat{\\theta})^2 =\\int (\\theta-\\hat{\\theta})^2 f(\\mathbf{x};\\theta) d \\mathbf{x}\n",
    "$$"
   ]
  },
  {
   "cell_type": "markdown",
   "metadata": {},
   "source": [
    " This has the important factorization into the *bias*,"
   ]
  },
  {
   "cell_type": "markdown",
   "metadata": {},
   "source": [
    "$$\n",
    "\\texttt{bias} = \\mathbb{E}_\\theta(\\hat{\\theta})-\\theta\n",
    "$$"
   ]
  },
  {
   "cell_type": "markdown",
   "metadata": {},
   "source": [
    " with the corresponding variance, $\\mathbb{V}_\\theta(\\hat{\\theta})$ as\n",
    "in the following *mean squared error* (MSE):"
   ]
  },
  {
   "cell_type": "markdown",
   "metadata": {},
   "source": [
    "$$\n",
    "\\mathbb{E}_\\theta(\\theta-\\hat{\\theta})^2= \\texttt{bias}^2+\\mathbb{V}_\\theta(\\hat{\\theta})\n",
    "$$"
   ]
  },
  {
   "cell_type": "markdown",
   "metadata": {},
   "source": [
    " This is an important trade-off that we will return to repeatedly. The\n",
    "idea is the bias is nonzero when the estimator $\\hat{\\theta}$, integrated\n",
    "over all possible data, $f(\\mathbf{x})$, does not equal the underlying target\n",
    "parameter $\\theta$. In some sense, the estimator misses the target, no matter\n",
    "how much data is used.  When the bias equals zero, the estimated is *unbiased*.\n",
    "For fixed MSE, low bias implies high variance and vice-versa. This trade-off\n",
    "was once not emphasized and instead much attention was paid to the smallest\n",
    "variance of unbiased estimators (see Cramer-Rao bounds). In practice,\n",
    "understanding and exploiting the trade-off between bias and variance and\n",
    "reducing the MSE is more important.\n",
    "\n",
    "With all this set up, we can now ask how bad can bad get by\n",
    "examining *minimax* risk,"
   ]
  },
  {
   "cell_type": "markdown",
   "metadata": {},
   "source": [
    "$$\n",
    "R_{\\texttt{mmx}} = \\inf_{\\hat{\\theta}} \\sup_\\theta R(\\theta,\\hat{\\theta})\n",
    "$$"
   ]
  },
  {
   "cell_type": "markdown",
   "metadata": {},
   "source": [
    " where the $\\inf$ is take over all estimators.  Intuitively, this\n",
    "means if we found the worst possible $\\theta$ and swept over all possible\n",
    "parameter estimators $\\hat{\\theta}$, and then took the smallest possible risk\n",
    "we could find, we would have the minimax risk. Thus, an estimator,\n",
    "$\\hat{\\theta}_{\\texttt{mmx}}$, is a *minimax estimator* if it achieves this\n",
    "feat,"
   ]
  },
  {
   "cell_type": "markdown",
   "metadata": {},
   "source": [
    "$$\n",
    "\\sup_\\theta R(\\theta,\\hat{\\theta}_{\\texttt{mmx}}) =\\inf_{\\hat{\\theta}} \\sup_\\theta R(\\theta,\\hat{\\theta})\n",
    "$$"
   ]
  },
  {
   "cell_type": "markdown",
   "metadata": {},
   "source": [
    " In other words, even in the face of the worst $\\theta$ (i.e., the\n",
    "$\\sup_\\theta$), $\\hat{\\theta}_{\\texttt{mmx}}$ still achieves the minimax\n",
    "risk. There is a greater theory that revolves around minimax estimators of\n",
    "various kinds, but this is far beyond our scope here. The main thing to focus\n",
    "on is that under certain technical but easily satisfiable conditions, the\n",
    "maximum likelihood estimator is approximately minimax. Maximum likelihood is\n",
    "the subject of the next section.  Let's get started with the simplest\n",
    "application: coin-flipping.\n",
    "\n",
    "## Setting up the Coin Flipping Experiment\n",
    "\n",
    "Suppose we have coin and want to estimate the probability of heads ($p$) for\n",
    "it. We model the distribution of heads and tails as a Bernoulli distribution\n",
    "with the following probability mass function:"
   ]
  },
  {
   "cell_type": "markdown",
   "metadata": {},
   "source": [
    "$$\n",
    "\\phi(x)= p^x (1-p)^{(1-x)}\n",
    "$$"
   ]
  },
  {
   "cell_type": "markdown",
   "metadata": {},
   "source": [
    " where $x$ is the outcome, *1* for heads and *0* for tails. Note that\n",
    "maximum likelihood is a parametric method that requires the specification of a\n",
    "particular model for which we will compute embedded parameters. For $n$\n",
    "independent flips, we have the joint density as the product of $n$ of\n",
    "these functions as in,"
   ]
  },
  {
   "cell_type": "markdown",
   "metadata": {},
   "source": [
    "$$\n",
    "\\phi(\\mathbf{x})=\\prod_{i=1}^n p^x_i (1-p)^{(1-x_i)}\n",
    "$$"
   ]
  },
  {
   "cell_type": "markdown",
   "metadata": {},
   "source": [
    " The following is the *likelihood function*,"
   ]
  },
  {
   "cell_type": "markdown",
   "metadata": {},
   "source": [
    "$$\n",
    "\\mathcal{L}(p ; \\mathbf{x})= \\prod_{i=1}^n p^{ x_i }(1-p)^{1-x_i}\n",
    "$$"
   ]
  },
  {
   "cell_type": "markdown",
   "metadata": {},
   "source": [
    " This is basically notation. We have just renamed the\n",
    "previous equation to emphasize the $p$ parameter, which is what\n",
    "we want to estimate.\n",
    "\n",
    "The principle of *maximum likelihood* is to maximize the likelihood as the\n",
    "function of $p$ after plugging in all of the $x_i$ data. We then call this\n",
    "maximizer $\\hat{p}$ which is a function of the observed $x_i$ data, and as\n",
    "such, is a random variable with its own distribution. This method therefore\n",
    "ingests data and an assumed model for the probability density, and produces a\n",
    "function that estimates the embedded parameter in the assumed probability\n",
    "density.  Thus, maximum likelihood generates the *functions* of data that we\n",
    "need in order to get at the underlying parameters of the model. Note that there\n",
    "is no limit to the ways we can functionally manipulate the data we have\n",
    "collected. The maximum likelihood principle gives us a systematic method for\n",
    "constructing these functions subject to the assumed model. This is a point\n",
    "worth emphasizing: the maximum likelihood principle yields functions as\n",
    "solutions the same way solving differential equations yields functions as\n",
    "solutions. It is very, very much harder to produce a function than to produce a\n",
    "value as a solution, even with the assumption of a convenient probability\n",
    "density.  Thus, the power of the principle is that you can construct such\n",
    "functions subject to the model assumptions.\n",
    "\n",
    "### Simulating the Experiment\n",
    "\n",
    "We need the following code to simulate coin flipping."
   ]
  },
  {
   "cell_type": "code",
   "execution_count": 4,
   "metadata": {},
   "outputs": [
    {
     "name": "stdout",
     "output_type": "stream",
     "text": [
      "[0 1 0 1 1 0 0 1 1 1 0 1 1 1 0 1 1 0 1 1 0 1 0 0 1 1 0 1 0 1]\n"
     ]
    }
   ],
   "source": [
    "from scipy.stats import bernoulli \n",
    "p_true=1/2.0         # estimate this!\n",
    "fp=bernoulli(p_true) # create bernoulli random variate\n",
    "xs = fp.rvs(100)     # generate some samples\n",
    "print xs[:30]        # see first 30 samples"
   ]
  },
  {
   "cell_type": "markdown",
   "metadata": {},
   "source": [
    " Now, we can write out the likelihood function using Sympy.  Note\n",
    "that we give the Sympy variables the `positive=True` attribute upon\n",
    "construction because this eases Sympy's internal simplification algorithms."
   ]
  },
  {
   "cell_type": "code",
   "execution_count": 5,
   "metadata": {},
   "outputs": [
    {
     "name": "stdout",
     "output_type": "stream",
     "text": [
      "p**57*(-p + 1)**43\n"
     ]
    }
   ],
   "source": [
    "import sympy\n",
    "x,p,z=sympy.symbols('x p z', positive=True)\n",
    "phi=p**x*(1-p)**(1-x) # distribution function\n",
    "L=np.prod([phi.subs(x,i) for i in xs]) # likelihood function \n",
    "print L # approx 0.5?"
   ]
  },
  {
   "cell_type": "markdown",
   "metadata": {},
   "source": [
    " Note that, once we plug in the data, the likelihood function is\n",
    "solely a function of the unknown parameter ($p$ in this case).  The following\n",
    "code uses calculus to find the extrema of the likelihood function.  Note that\n",
    "taking the `log` of $L$ makes the maximization problem tractable but doesn't\n",
    "change the extrema."
   ]
  },
  {
   "cell_type": "code",
   "execution_count": 6,
   "metadata": {},
   "outputs": [
    {
     "name": "stdout",
     "output_type": "stream",
     "text": [
      "57/100\n"
     ]
    }
   ],
   "source": [
    "logL=sympy.expand_log(sympy.log(L))\n",
    "sol,=sympy.solve(sympy.diff(logL,p),p)\n",
    "print sol"
   ]
  },
  {
   "cell_type": "markdown",
   "metadata": {},
   "source": [
    "**Programming Tip.**\n",
    "\n",
    "Note that `sol,=sympy.solve` statement includes\n",
    "a comma after the `sol` variable. This is because the `solve`\n",
    "function returns a list containing a single element. Using\n",
    "this assignment unpacks that single element into the `sol` variable\n",
    "directly. This is another one of the many small elegancies of Python.\n",
    "\n",
    " \n",
    "\n",
    "The following code generates [Figure](#fig:Maximum_likelihood_10_2)."
   ]
  },
  {
   "cell_type": "code",
   "execution_count": 7,
   "metadata": {},
   "outputs": [
    {
     "name": "stderr",
     "output_type": "stream",
     "text": [
      "d:\\Miniconda64\\Lib\\site-packages\\numpy\\__init__.py:1: RuntimeWarning: divide by zero encountered in log\n",
      "  \"\"\"\n"
     ]
    },
    {
     "data": {
      "text/plain": [
       "<matplotlib.legend.Legend at 0x1c390a90>"
      ]
     },
     "execution_count": 7,
     "metadata": {},
     "output_type": "execute_result"
    },
    {
     "data": {
      "image/png": "[encoded data removed]",
      "text/plain": [
       "<matplotlib.figure.Figure at 0x1c223b70>"
      ]
     },
     "metadata": {},
     "output_type": "display_data"
    }
   ],
   "source": [
    "\n",
    "fig,ax=subplots()\n",
    "x=np.linspace(0,1,100)\n",
    "ax.plot(x,map(sympy.lambdify(p,logL,'numpy'),x),'k-',lw=3)\n",
    "ax.plot(sol,logL.subs(p,sol),'o',\n",
    "        color='gray',ms=15,label='Estimated')\n",
    "ax.plot(p_true,logL.subs(p,p_true),'s',\n",
    "        color='k',ms=15,label='Actual')\n",
    "ax.set_xlabel('$p$',fontsize=18)\n",
    "ax.set_ylabel('Likelihood',fontsize=18)\n",
    "ax.set_title('Estimate not equal to true value',fontsize=18)\n",
    "ax.legend(loc=0)"
   ]
  },
  {
   "cell_type": "markdown",
   "metadata": {},
   "source": [
    "**Programming Tip.**\n",
    "\n",
    "In the prior code, we use the `lambdify` function in `lambdify(p,logL,'numpy')` to\n",
    "take a Sympy expression and convert it into a Numpy version that is easier to\n",
    "compute.  The `lambdify` function has an extra argument where you can specify\n",
    "the function space that it should use to convert the expression. In the above\n",
    "this is set to Numpy.\n",
    "\n",
    "\n",
    "\n",
    "<!-- dom:FIGURE: [fig-statistics/Maximum_likelihood_10_2.png, width=500 frac=0.75] Maximum likelihood estimate vs. true parameter. Note that the estimate is slightly off from the true value. This is a consequence of the fact that the estimator is a function of the data and lacks knowledge of the true underlying value.  <div id=\"fig:Maximum_likelihood_10_2\"></div> -->\n",
    "<!-- begin figure -->\n",
    "<div id=\"fig:Maximum_likelihood_10_2\"></div>\n",
    "\n",
    "<p>Maximum likelihood estimate vs. true parameter. Note that the estimate is slightly off from the true value. This is a consequence of the fact that the estimator is a function of the data and lacks knowledge of the true underlying value.</p>\n",
    "<img src=\"fig-statistics/Maximum_likelihood_10_2.png\" width=500>\n",
    "\n",
    "<!-- end figure -->\n",
    "\n",
    "\n",
    "[Figure](#fig:Maximum_likelihood_10_2) shows  that our estimator $\\hat{p}$\n",
    "(circle) is not equal to the true value of $p$ (square), despite being\n",
    "the maximum of the likelihood function. This may sound disturbing, but keep in\n",
    "mind this estimate is a function of the random data; and since that data can\n",
    "change, the ultimate estimate can likewise change. I invite you to run this\n",
    "code in the corresponding IPython notebook a few times to observe this.\n",
    "Remember that the estimator is a *function* of the data and is thus also a\n",
    "*random variable*, just like the data is. This means it has its own probability\n",
    "distribution with corresponding mean and variance. So, what we are observing is\n",
    "a consequence of that variance.\n",
    "\n",
    "<!-- !bc pycod -->\n",
    "<!-- def estimator_gen(niter=10,ns=100): -->\n",
    "<!-- 'generate data to estimate distribution of maximum likelihood estimator' -->\n",
    "<!-- out=[] -->\n",
    "<!-- # make sympy variable real-valued -->\n",
    "<!-- x=sympy.symbols('x',real=True) -->\n",
    "<!-- # likelihood function -->\n",
    "<!-- L= p**x*(1-p)**(1-x) -->\n",
    "<!-- for i in range(niter): -->\n",
    "<!-- # generate some samples from the experiment -->\n",
    "<!-- xs = sample(ns) -->\n",
    "<!-- # objective function to maximize -->\n",
    "<!-- J=np.prod([L.subs(x,i) for i in xs]) -->\n",
    "<!-- # log is easier to work with -->\n",
    "<!-- logL=sympy.expand_log(sympy.log(J)) -->\n",
    "<!-- # use basic calculus to find extrema -->\n",
    "<!-- sol=sympy.solve(sympy.diff(logL,p),p)[0] -->\n",
    "<!-- # convert output to numeric float from sympy -->\n",
    "<!-- out.append(float(sol.evalf())) -->\n",
    "<!-- # return scalar if list contains only 1 term -->\n",
    "<!-- return out if len(out)>1 else out[0] -->\n",
    "<!-- !ec -->\n",
    "\n",
    "<!-- dom:FIGURE: [fig-statistics/Maximum_likelihood_30_2.png, width=500 frac=0.85] Histogram of maximum likelihood estimates. The title shows the estimated mean and standard deviation of the samples. <div id=\"fig:Maximum_likelihood_30_2\"></div>  -->\n",
    "<!-- begin figure -->\n",
    "<div id=\"fig:Maximum_likelihood_30_2\"></div>\n",
    "\n",
    "<p>Histogram of maximum likelihood estimates. The title shows the estimated mean and standard deviation of the samples.</p>\n",
    "<img src=\"fig-statistics/Maximum_likelihood_30_2.png\" width=500>\n",
    "\n",
    "<!-- end figure -->\n",
    "\n",
    "\n",
    "[Figure](#fig:Maximum_likelihood_30_2) shows what happens when you run many\n",
    "thousands of coin experiments and compute the maximum likelihood\n",
    "estimate for each experiment, given a particular number of samples \n",
    "per experiment. This simulation gives us a histogram of the maximum likelihood\n",
    "estimates, which is an approximation of the probability distribution of the\n",
    "$\\hat{p}$ estimator itself.  This figure shows that the sample mean\n",
    "of the estimator ($\\mu = \\frac{1}{n}\\sum \\hat{p}_i$) is pretty close to the\n",
    "true value, but looks can be deceiving. The only way to know for sure is to\n",
    "check if the estimator is unbiased, namely, if"
   ]
  },
  {
   "cell_type": "markdown",
   "metadata": {},
   "source": [
    "$$\n",
    "\\mathbb{E}(\\hat{p}) = p\n",
    "$$"
   ]
  },
  {
   "cell_type": "markdown",
   "metadata": {},
   "source": [
    " Because this problem is simple, we can solve for this in general\n",
    "noting that the terms above are either $p$, if $x_i=1$ or $1-p$ if $x_i=0$.\n",
    "This means that we can write"
   ]
  },
  {
   "cell_type": "markdown",
   "metadata": {},
   "source": [
    "$$\n",
    "\\mathcal{L}(p\\vert \\mathbf{x})= p^{\\sum_{i=1}^n x_i}(1-p)^{n-\\sum_{i=1}^n x_i}\n",
    "$$"
   ]
  },
  {
   "cell_type": "markdown",
   "metadata": {},
   "source": [
    " with corresponding logarithm as"
   ]
  },
  {
   "cell_type": "markdown",
   "metadata": {},
   "source": [
    "$$\n",
    "J=\\log(\\mathcal{L}(p\\vert \\mathbf{x})) =  \\log(p)  \\sum_{i=1}^n x_i +   \\log(1-p) \\left(n-\\sum_{i=1}^n x_i\\right)\n",
    "$$"
   ]
  },
  {
   "cell_type": "markdown",
   "metadata": {},
   "source": [
    " Taking the derivative of this gives:"
   ]
  },
  {
   "cell_type": "markdown",
   "metadata": {},
   "source": [
    "$$\n",
    "\\frac{dJ}{dp} = \\frac{1}{p}\\sum_{i=1}^n x_i + \\frac{(n-\\sum_{i=1}^n x_i)}{p-1}\n",
    "$$"
   ]
  },
  {
   "cell_type": "markdown",
   "metadata": {},
   "source": [
    " and solving this for $p$ leads to"
   ]
  },
  {
   "cell_type": "markdown",
   "metadata": {},
   "source": [
    "$$\n",
    "\\hat{p} = \\frac{1}{ n} \\sum_{i=1}^n x_i\n",
    "$$"
   ]
  },
  {
   "cell_type": "markdown",
   "metadata": {},
   "source": [
    "This is our *estimator* for $p$. Up until now, we have been using Sympy to\n",
    "solve for this based on the data $x_i$ but now that we have it analytically we\n",
    "don't have to solve for it each time. To check if this estimator is biased, we\n",
    "compute its expectation:"
   ]
  },
  {
   "cell_type": "markdown",
   "metadata": {},
   "source": [
    "$$\n",
    "\\mathbb{E}\\left(\\hat{p}\\right) =\\frac{1}{n}\\sum_i^n \\mathbb{E}(x_i) = \\frac{1}{n} n \\mathbb{E}(x_i)\n",
    "$$"
   ]
  },
  {
   "cell_type": "markdown",
   "metadata": {},
   "source": [
    " by linearity of the expectation and where"
   ]
  },
  {
   "cell_type": "markdown",
   "metadata": {},
   "source": [
    "$$\n",
    "\\mathbb{E}(x_i)  = p\n",
    "$$"
   ]
  },
  {
   "cell_type": "markdown",
   "metadata": {},
   "source": [
    " Therefore,"
   ]
  },
  {
   "cell_type": "markdown",
   "metadata": {},
   "source": [
    "$$\n",
    "\\mathbb{E}\\left(\\hat{p}\\right) =p\n",
    "$$"
   ]
  },
  {
   "cell_type": "markdown",
   "metadata": {},
   "source": [
    " This means that the estimator is *unbiased*. Similarly,"
   ]
  },
  {
   "cell_type": "markdown",
   "metadata": {},
   "source": [
    "$$\n",
    "\\mathbb{E}\\left(\\hat{p}^2\\right) = \\frac{1}{n^2} \\mathbb{E}\\left[\\left(  \\sum_{i=1}^n x_i \\right)^2 \\right]\n",
    "$$"
   ]
  },
  {
   "cell_type": "markdown",
   "metadata": {},
   "source": [
    " and where"
   ]
  },
  {
   "cell_type": "markdown",
   "metadata": {},
   "source": [
    "$$\n",
    "\\mathbb{E}\\left(x_i^2\\right) =p\n",
    "$$"
   ]
  },
  {
   "cell_type": "markdown",
   "metadata": {},
   "source": [
    " and by the independence assumption,"
   ]
  },
  {
   "cell_type": "markdown",
   "metadata": {},
   "source": [
    "$$\n",
    "\\mathbb{E}\\left(x_i x_j\\right) =\\mathbb{E}(x_i)\\mathbb{E}(x_j) =p^2\n",
    "$$"
   ]
  },
  {
   "cell_type": "markdown",
   "metadata": {},
   "source": [
    " Thus,"
   ]
  },
  {
   "cell_type": "markdown",
   "metadata": {},
   "source": [
    "$$\n",
    "\\mathbb{E}\\left(\\hat{p}^2\\right) =\\left(\\frac{1}{n^2}\\right) n \\left[ p+(n-1)p^2 \\right]\n",
    "$$"
   ]
  },
  {
   "cell_type": "markdown",
   "metadata": {},
   "source": [
    " So, the variance of the estimator, $\\hat{p}$, is the following:"
   ]
  },
  {
   "cell_type": "markdown",
   "metadata": {},
   "source": [
    "$$\n",
    "\\mathbb{V}(\\hat{p}) = \\mathbb{E}\\left(\\hat{p}^2\\right)- \\mathbb{E}\\left(\\hat{p}\\right)^2  = \\frac{p(1-p)}{n}\n",
    "$$"
   ]
  },
  {
   "cell_type": "markdown",
   "metadata": {},
   "source": [
    " Note that the $n$ in the denominator means that the variance\n",
    "asymptotically goes to zero as $n$ increases (i.e., we consider more and\n",
    "more samples). This is good news because it means that more and\n",
    "more coin flips lead to a better estimate of the underlying $p$.\n",
    "\n",
    "Unfortunately, this formula for the variance is practically useless because we\n",
    "need $p$ to compute it and $p$ is the parameter we are trying to estimate in\n",
    "the first place! However, this is where the *plug-in* principle [^invariance-property] \n",
    "saves the day.  It turns out in this situation, you can\n",
    "simply substitute the maximum likelihood estimator, $\\hat{p}$, for the $p$ in\n",
    "the above equation to obtain the asymptotic variance for $\\mathbb{V}(\\hat{p})$.\n",
    "The fact that this works is guaranteed by the asymptotic theory of maximum\n",
    "likelihood estimators.\n",
    "\n",
    "[^invariance-property]: This is also known as the *invariance property*\n",
    "of maximum likelihood estimators. It basically states that the \n",
    "maximum likelihood estimator of any function, say, $h(\\theta)$, is\n",
    "the same $h$ with the maximum likelihood estimator for $\\theta$ substituted\n",
    "in for $\\theta$; namely, $h(\\theta_{ML})$.\n",
    "\n",
    "Nevertheless, looking at $\\mathbb{V}(\\hat{p})^2$, we can immediately notice\n",
    "that if $p=0$, then there is no estimator variance because the outcomes are\n",
    "guaranteed to be tails. Also, for any $n$,  the maximum of this variance\n",
    "happens at $p=1/2$. This is our worst case scenario and the only way to\n",
    "compensate is with larger $n$.\n",
    "\n",
    "All we have computed is the mean and variance of the estimator. In general,\n",
    "this is insufficient to characterize the underlying probability density of\n",
    "$\\hat{p}$, except if we somehow knew that $\\hat{p}$ were normally distributed.\n",
    "This is where the powerful *Central Limit Theorem* we discussed in the section ref{ch:stats:sec:limit} comes in. The form of the estimator, which is just a\n",
    "sample mean, implies that we can apply this theorem and conclude that $\\hat{p}$\n",
    "is asymptotically normally distributed. However, it doesn't quantify how many\n",
    "samples $n$ we need. In our simulation this is no problem because we can\n",
    "generate as much data as we like, but in the real world, with a costly\n",
    "experiment, each sample may be precious [^edgeworth].  \n",
    "\n",
    "[^edgeworth]: It turns out that the central limit theorem augmented with an\n",
    "Edgeworth expansion tells us that convergence is regulated by the skewness\n",
    "of the distribution [[feller1950introduction]](#feller1950introduction). In other words, the \n",
    "more symmetric the distribution, the faster it converges to the normal\n",
    "distribution according to the central limit theorem.\n",
    "\n",
    "In the following, we won't apply the Central Limit Theorem and instead proceed\n",
    "analytically.\n",
    "\n",
    "### Probability Density for the Estimator\n",
    "\n",
    "To write out the full density for $\\hat{p}$, we first have to ask what is\n",
    "the probability that the estimator will equal a specific value and the tally up\n",
    "all the ways that could happen with their corresponding probabilities. For\n",
    "example, what is the probability that"
   ]
  },
  {
   "cell_type": "markdown",
   "metadata": {},
   "source": [
    "$$\n",
    "\\hat{p} = \\frac{1}{n}\\sum_{i=1}^n x_i  = 0\n",
    "$$"
   ]
  },
  {
   "cell_type": "markdown",
   "metadata": {},
   "source": [
    "  This can only happen one way: when $x_i=0 \\hspace{0.5em} \\forall i$. The\n",
    "probability of this happening can be computed from the density"
   ]
  },
  {
   "cell_type": "markdown",
   "metadata": {},
   "source": [
    "$$\n",
    "f(\\mathbf{x},p)= \\prod_{i=1}^n \\left(p^{x_i} (1-p)^{1-x_i}  \\right)\n",
    "$$"
   ]
  },
  {
   "cell_type": "markdown",
   "metadata": {},
   "source": [
    "$$\n",
    "f\\left(\\sum_{i=1}^n x_i  = 0,p\\right)= \\left(1-p\\right)^n\n",
    "$$"
   ]
  },
  {
   "cell_type": "markdown",
   "metadata": {},
   "source": [
    " Likewise, if $\\lbrace x_i \\rbrace$ has only one nonzero element, then"
   ]
  },
  {
   "cell_type": "markdown",
   "metadata": {},
   "source": [
    "$$\n",
    "f\\left(\\sum_{i=1}^n x_i  = 1,p\\right)= n p \\prod_{i=1}^{n-1} \\left(1-p\\right)\n",
    "$$"
   ]
  },
  {
   "cell_type": "markdown",
   "metadata": {},
   "source": [
    " where the $n$ comes from the $n$ ways to pick one element\n",
    "from the $n$ elements $x_i$. Continuing this way, we can construct the\n",
    "entire density as"
   ]
  },
  {
   "cell_type": "markdown",
   "metadata": {},
   "source": [
    "$$\n",
    "f\\left(\\sum_{i=1}^n x_i  = k,p\\right)= \\binom{n}{k} p^k  (1-p)^{n-k}\n",
    "$$"
   ]
  },
  {
   "cell_type": "markdown",
   "metadata": {},
   "source": [
    " where the first term on the right is the binomial coefficient of $n$ things\n",
    "taken $k$ at a time. This is the binomial distribution and it's not the\n",
    "density for $\\hat{p}$, but rather for $n\\hat{p}$. We'll leave this as-is\n",
    "because it's easier to work with below. We just have to remember to keep\n",
    "track of the $n$ factor.\n",
    "\n",
    "**Confidence Intervals**\n",
    "\n",
    "Now that we have the full density for $\\hat{p}$, we are ready to ask some\n",
    "meaningful questions. For example, what is the probability  the estimator is within\n",
    "$\\epsilon$ fraction of the true value of $p$?"
   ]
  },
  {
   "cell_type": "markdown",
   "metadata": {},
   "source": [
    "$$\n",
    "\\mathbb{P}\\left( \\vert  \\hat{p}-p \\vert  \\le \\epsilon p \\right)\n",
    "$$"
   ]
  },
  {
   "cell_type": "markdown",
   "metadata": {},
   "source": [
    " More concretely, we want to know how often the\n",
    "estimated $\\hat{p}$ is trapped within $\\epsilon$ of the actual value.  That is,\n",
    "suppose we ran the experiment 1000 times to generate 1000 different estimates\n",
    "of $\\hat{p}$. What percentage of the 1000 so-computed values are trapped within\n",
    "$\\epsilon$ of the underlying value.  Rewriting the above equation as the\n",
    "following,"
   ]
  },
  {
   "cell_type": "markdown",
   "metadata": {},
   "source": [
    "$$\n",
    "\\mathbb{P}\\left(p-\\epsilon p < \\hat{p} < p + \\epsilon p \\right) = \\mathbb{P}\\left(  n p - n \\epsilon p < \\sum_{i=1}^n x_i < n p + n \\epsilon p \\right)\n",
    "$$"
   ]
  },
  {
   "cell_type": "markdown",
   "metadata": {},
   "source": [
    " Let's plug in some live numbers here for our worst case\n",
    "scenario (i.e., highest variance scenario) where $p=1/2$. Then, if\n",
    "$\\epsilon = 1/100$, we have"
   ]
  },
  {
   "cell_type": "markdown",
   "metadata": {},
   "source": [
    "$$\n",
    "\\mathbb{P}\\left( \\frac{99 n}{100} < \\sum_{i=1}^n x_i   < \\frac{101 n}{100} \\right)\n",
    "$$"
   ]
  },
  {
   "cell_type": "markdown",
   "metadata": {},
   "source": [
    " Since the sum in integer-valued, we need $n> 100$ to even compute this.\n",
    "Thus, if $n=101$ we have,"
   ]
  },
  {
   "cell_type": "markdown",
   "metadata": {},
   "source": [
    "$$\n",
    "\\begin{eqnarray*}\n",
    "\\mathbb{P}\\left(\\frac{9999}{200} < \\sum_{i=1}^{101} x_i < \\frac{10201}{200} \\right) = f\\left(\\sum_{i=1}^{101} x_i = 50,p\\right) &  \\ldots \\\\\\\n",
    "= \\binom{101}{50} (1/2)^{50}  (1-1/2)^{101-50} & = & 0.079\n",
    "\\end{eqnarray*}\n",
    "$$"
   ]
  },
  {
   "cell_type": "markdown",
   "metadata": {},
   "source": [
    " This means that in the worst-case scenario for $p=1/2$, given $n=101$\n",
    "trials, we will only get within 1\\% of the actual $p=1/2$ about 8\\% of the\n",
    "time. If you feel disappointed, that only means you've been paying attention.\n",
    "What if the coin was really heavy and it was hard work to repeat this 101 times?\n",
    "\n",
    "Let's come at this another way: given I could only flip the coin 100\n",
    "times, how close could I come to the true underlying value with high\n",
    "probability (say, 95\\%)? In this case, instead of picking a value for\n",
    "$\\epsilon$, we are solving for $\\epsilon$. Plugging in gives,"
   ]
  },
  {
   "cell_type": "markdown",
   "metadata": {},
   "source": [
    "$$\n",
    "\\mathbb{P}\\left(50 - 50\\epsilon < \\sum_{i=1}^{100} x_i < 50 + 50 \\epsilon  \\right) = 0.95\n",
    "$$"
   ]
  },
  {
   "cell_type": "markdown",
   "metadata": {},
   "source": [
    " which we have to solve for $\\epsilon$. Fortunately, all the tools we\n",
    "need to solve for this are already in Scipy."
   ]
  },
  {
   "cell_type": "code",
   "execution_count": 8,
   "metadata": {},
   "outputs": [
    {
     "name": "stdout",
     "output_type": "stream",
     "text": [
      "0.953955933071\n"
     ]
    }
   ],
   "source": [
    "from scipy.stats import binom\n",
    "# n=100, p = 0.5, distribution of the estimator phat\n",
    "b=binom(100,.5) \n",
    "# symmetric sum the probability around the mean\n",
    "g = lambda i:b.pmf(np.arange(-i,i)+50).sum() \n",
    "print g(10) # approx 0.95"
   ]
  },
  {
   "cell_type": "code",
   "execution_count": 9,
   "metadata": {},
   "outputs": [
    {
     "data": {
      "image/png": "[encoded data removed]",
      "text/plain": [
       "<matplotlib.figure.Figure at 0x1c225828>"
      ]
     },
     "metadata": {},
     "output_type": "display_data"
    }
   ],
   "source": [
    "%matplotlib inline\n",
    "\n",
    "from matplotlib.pylab import subplots, arange\n",
    "fig,ax= subplots()\n",
    "fig.set_size_inches((10,5))\n",
    "# here is the density of the sum of x_i\n",
    "_=ax.stem(arange(0,101),b.pmf(arange(0,101)),\n",
    "        linefmt='k-', markerfmt='ko') \n",
    "_=ax.vlines( [50+10,50-10],0 ,ax.get_ylim()[1] ,color='k',lw=3.)\n",
    "_=ax.axis(xmin=30,xmax=70)\n",
    "_=ax.tick_params(labelsize=18)\n",
    "#fig.savefig('fig-statistics/Maximum_likelihood_20_2.png')\n",
    "fig.tight_layout()"
   ]
  },
  {
   "cell_type": "markdown",
   "metadata": {},
   "source": [
    "<!-- dom:FIGURE: [fig-statistics/Maximum_likelihood_20_2.png, width=500 frac=0.85] Probability mass function for $\\hat{p}$. The two vertical lines form the confidence interval. <div id=\"fig:Maximum_likelihood_20_2\"></div> -->\n",
    "<!-- begin figure -->\n",
    "<div id=\"fig:Maximum_likelihood_20_2\"></div>\n",
    "\n",
    "<p>Probability mass function for $\\hat{p}$. The two vertical lines form the confidence interval.</p>\n",
    "<img src=\"fig-statistics/Maximum_likelihood_20_2.png\" width=500>\n",
    "\n",
    "<!-- end figure -->\n",
    "\n",
    "\n",
    " The two vertical lines in the plot show how far out from the mean we\n",
    "have to go to accumulate 95\\% of the probability. Now, we can solve this as"
   ]
  },
  {
   "cell_type": "markdown",
   "metadata": {},
   "source": [
    "$$\n",
    "50+50\\epsilon=60\n",
    "$$"
   ]
  },
  {
   "cell_type": "markdown",
   "metadata": {},
   "source": [
    " which makes $\\epsilon=1/5$ or 20\\%. So, flipping 100 times means I can\n",
    "only get within 20\\% of the real $p$ 95\\% of the time in the worst case\n",
    "scenario (i.e., $p=1/2$). The following code verifies the situation."
   ]
  },
  {
   "cell_type": "code",
   "execution_count": 10,
   "metadata": {},
   "outputs": [
    {
     "name": "stdout",
     "output_type": "stream",
     "text": [
      "True\n"
     ]
    }
   ],
   "source": [
    "from scipy.stats import bernoulli \n",
    "b=bernoulli(0.5) # coin distribution\n",
    "xs = b.rvs(100) # flip it 100 times\n",
    "phat = np.mean(xs) # estimated p\n",
    "print abs(phat-0.5) < 0.5*0.20 # make it w/in interval?"
   ]
  },
  {
   "cell_type": "markdown",
   "metadata": {},
   "source": [
    " Let's keep doing this and see if we can get within this interval 95\\% of\n",
    "the time."
   ]
  },
  {
   "cell_type": "code",
   "execution_count": 11,
   "metadata": {},
   "outputs": [
    {
     "name": "stdout",
     "output_type": "stream",
     "text": [
      "97.4\n"
     ]
    }
   ],
   "source": [
    "out=[]\n",
    "b=bernoulli(0.5) # coin distribution\n",
    "for i in range(500):   # number of tries\n",
    "    xs = b.rvs(100)    # flip it 100 times\n",
    "    phat = np.mean(xs) # estimated p\n",
    "    out.append(abs(phat-0.5) < 0.5*0.20 ) # within 20% ?\n",
    "\n",
    "# percentage of tries w/in 20% interval\n",
    "print 100*np.mean(out)"
   ]
  },
  {
   "cell_type": "markdown",
   "metadata": {},
   "source": [
    " Well, that seems to work! Now we have a way to get at the quality of\n",
    "the estimator, $\\hat{p}$.\n",
    "\n",
    "**Maximum Likelihood Estimator Without Calculus**\n",
    "\n",
    "The prior example showed how we can use calculus to compute the maximum\n",
    "likelihood estimator. It's important to emphasize that the maximum likelihood\n",
    "principle does *not* depend on calculus and extends to more general situations\n",
    "where calculus is impossible. For example, let $X$ be uniformly distributed in\n",
    "the interval $[0,\\theta]$.  Given $n$ measurements of $X$, the likelihood\n",
    "function is the following:"
   ]
  },
  {
   "cell_type": "markdown",
   "metadata": {},
   "source": [
    "$$\n",
    "L(\\theta) = \\prod_{i=1}^n \\frac{1}{\\theta} = \\frac{1}{\\theta^n}\n",
    "$$"
   ]
  },
  {
   "cell_type": "markdown",
   "metadata": {},
   "source": [
    " where each $x_i \\in [0,\\theta]$. Note that the slope of this function\n",
    "is not zero anywhere so the usual calculus approach is not going to work here.\n",
    "Because the likelihood is the product of the individual uniform densities, if\n",
    "any of the $x_i$ values were outside of the proposed $[0,\\theta]$ interval,\n",
    "then the likelihood would go to zero, because the uniform density is zero\n",
    "outside of the $[0,\\theta]$. Naturally, this is no good for maximization. Thus,\n",
    "observing that the likelihood function is strictly decreasing with increasing\n",
    "$\\theta$, we conclude that the value for $\\theta$ that maximizes the likelihood\n",
    "is the maximum of the $x_i$ values. To summarize, the maximum likelihood\n",
    "estimator is the following:"
   ]
  },
  {
   "cell_type": "markdown",
   "metadata": {},
   "source": [
    "$$\n",
    "\\theta_{ML} = \\max_i x_i\n",
    "$$"
   ]
  },
  {
   "cell_type": "markdown",
   "metadata": {},
   "source": [
    " As always, we want the distribution of this estimator to judge its\n",
    "performance. In this case, this is pretty straightforward. The cumulative\n",
    "density function for the $\\max$ function is the following:"
   ]
  },
  {
   "cell_type": "markdown",
   "metadata": {},
   "source": [
    "$$\n",
    "\\mathbb{P} \\left( \\hat{\\theta}_{ML} < v \\right) =  \\mathbb{P}( x_0 \\leq v \\wedge x_1 \\leq v \\ldots \\wedge x_n \\leq v)\n",
    "$$"
   ]
  },
  {
   "cell_type": "markdown",
   "metadata": {},
   "source": [
    " and since all the $x_i$ are uniformly distributed in $[0,\\theta]$, we have"
   ]
  },
  {
   "cell_type": "markdown",
   "metadata": {},
   "source": [
    "$$\n",
    "\\mathbb{P} \\left( \\hat{\\theta}_{ML} < v  \\right) =  \\left(\\frac{v}{\\theta}\\right)^n\n",
    "$$"
   ]
  },
  {
   "cell_type": "markdown",
   "metadata": {},
   "source": [
    " So, the probability density function is then,"
   ]
  },
  {
   "cell_type": "markdown",
   "metadata": {},
   "source": [
    "$$\n",
    "f_{\\hat{\\theta}_{ML}}(\\theta_{ML}) =  n \\theta_{ML}^{ n-1 } \\theta^{ -n }\n",
    "$$"
   ]
  },
  {
   "cell_type": "markdown",
   "metadata": {},
   "source": [
    " Then, we can compute the $\\mathbb{E}(\\theta_{ML}) = (\\theta n)/(n+1)$ with\n",
    "corresponding variance as $\\mathbb{V}(\\theta_{ML}) = (\\theta^2 n)/(n+1)^2/(n+2)$.\n",
    "\n",
    "For a quick sanity check, we can write the following simulation for $\\theta =1$\n",
    "as in the following:"
   ]
  },
  {
   "cell_type": "code",
   "execution_count": 12,
   "metadata": {},
   "outputs": [
    {
     "name": "stdout",
     "output_type": "stream",
     "text": [
      "0.990250835019\n",
      "9.41473660278e-05\n"
     ]
    },
    {
     "data": {
      "text/plain": [
       "9.95762009884e-05"
      ]
     },
     "execution_count": 12,
     "metadata": {},
     "output_type": "execute_result"
    }
   ],
   "source": [
    ">>> from scipy import stats\n",
    ">>> rv = stats.uniform(0,1)  # define uniform random variable\n",
    ">>> mle=rv.rvs((100,500)).max(0) # max along row-dimension\n",
    ">>> print mean(mle) # approx n/(n+1) = 100/101 ~= 0.99\n",
    "0.989942138048\n",
    ">>> print var(mle) #approx n/(n+1)**2/(n+2) ~= 9.61E-5\n",
    "9.95762009884e-05"
   ]
  },
  {
   "cell_type": "markdown",
   "metadata": {},
   "source": [
    "**Programming Tip.**\n",
    "\n",
    "The `max(0)` suffix on for the `mle` computation takes\n",
    "the maximum of the so-computed array along the column (`axis=0`)\n",
    "dimension.\n",
    "\n",
    "\n",
    "\n",
    " You can also plot `hist(mle)` to see the histogram of the simulated\n",
    "maximum likelihood estimates and match it up against the probability density\n",
    "function we derived above.  \n",
    "\n",
    "\n",
    "In this section, we explored the concept of maximum\n",
    "likelihood estimation using a coin flipping experiment both analytically and\n",
    "numerically with the scientific Python stack. We also explored the case when\n",
    "calculus is not workable for maximum likelihood estimation.  There are two key\n",
    "points to remember. First, maximum likelihood estimation produces a function of\n",
    "the data that is itself a random variable, with its own probability\n",
    "distribution. We can get at the quality of the so-derived estimators by\n",
    "examining the confidence intervals around the estimated values using the\n",
    "probability distributions associated with the estimators themselves.  \n",
    "Second, maximum likelihood estimation applies even in situations \n",
    "where using basic calculus is not applicable [[wasserman2004all]](#wasserman2004all).\n",
    "\n",
    "\n",
    "## Delta Method\n",
    "<div id=\"sec:delta_method\"></div>\n",
    "\n",
    "The Central Limit Theorem provides a way to get at the distribution of a random\n",
    "variable. However, sometimes we are more interested in a function of the random\n",
    "variable. In order to extend and generalize the central limit theorem in this\n",
    "way, we need the Taylor series expansion. Recall that the Taylor series\n",
    "expansion is an approximation of a function of the following form,"
   ]
  },
  {
   "cell_type": "markdown",
   "metadata": {},
   "source": [
    "$$\n",
    "T_r(x) =\\sum_{i=0}^r \\frac{g^{(i)}(a)}{i!}(x-a)^i\n",
    "$$"
   ]
  },
  {
   "cell_type": "markdown",
   "metadata": {},
   "source": [
    " this basically says that a function $g$ can be adequately\n",
    "approximated about a point $a$ using a polynomial based on its derivatives\n",
    "evaluated at $a$. Before we state the general theorem, let's examine\n",
    "an example to understand how the mechanics work.\n",
    "\n",
    "**Example.**  Suppose that $X$ is a random variable with\n",
    "$\\mathbb{E}(X)=\\mu\\neq 0$.  Furthermore, supposedly have a suitable\n",
    "function $g$ and we want the distribution of $g(X)$. Applying the\n",
    "Taylor series expansion, we obtain the following,"
   ]
  },
  {
   "cell_type": "markdown",
   "metadata": {},
   "source": [
    "$$\n",
    "g(X) \\approx g(\\mu)+ g^{\\prime}(\\mu)(X-\\mu)\n",
    "$$"
   ]
  },
  {
   "cell_type": "markdown",
   "metadata": {},
   "source": [
    " If we use $g(X)$  as an estimator for $g(\\mu)$, then we can say that\n",
    "we approximately have the following"
   ]
  },
  {
   "cell_type": "markdown",
   "metadata": {},
   "source": [
    "$$\n",
    "\\begin{align*}\n",
    "\\mathbb{E}(g(X)) &=g(\\mu) \\\\\\\n",
    "\\mathbb{V}(g(X)) &=(g^{\\prime}(\\mu))^2 \\mathbb{V}(X) \\\\\\\n",
    "\\end{align*}\n",
    "$$"
   ]
  },
  {
   "cell_type": "markdown",
   "metadata": {},
   "source": [
    " Concretely, suppose we want to estimate the odds, $\\frac{p}{1-p}$.\n",
    "For example, if $p=2/3$, then we say that the odds is `2:1` meaning that the\n",
    "odds of the one outcome are twice as likely as the odds of the other outcome.\n",
    "Thus, we have $g(p)=\\frac{p}{1-p}$ and we want to find\n",
    "$\\mathbb{V}(g(\\hat{p}))$.  In our coin-flipping problem, we have the\n",
    "estimator $\\hat{p}=\\frac{1}{n}\\sum X_k$ from the Bernoulli-distributed data\n",
    "$X_k$ individual coin-flips. Thus,"
   ]
  },
  {
   "cell_type": "markdown",
   "metadata": {},
   "source": [
    "$$\n",
    "\\begin{align*}\n",
    "\\mathbb{E}(\\hat{p}) &= p  \\\\\\\n",
    "\\mathbb{V}(\\hat{p}) &= \\frac{p(1-p)}{n}  \\\\\\\n",
    "\\end{align*}\n",
    "$$"
   ]
  },
  {
   "cell_type": "markdown",
   "metadata": {},
   "source": [
    "  Now, $g^\\prime(p)=1/(1-p)^2$, so we have,"
   ]
  },
  {
   "cell_type": "markdown",
   "metadata": {},
   "source": [
    "$$\n",
    "\\begin{align*}\n",
    "\\mathbb{V}(g(\\hat{p}))&=(g^\\prime(p))^2 \\mathbb{V}(\\hat{p}) \\\\\\\n",
    "                      &=\\left(\\frac{1}{(1-p)^2}\\right)^2 \\frac{p(1-p)}{n}  \\\\\\\n",
    "                      &= \\frac{p}{n(1-p)^3}  \\\\\\\n",
    "\\end{align*}\n",
    "$$"
   ]
  },
  {
   "cell_type": "markdown",
   "metadata": {},
   "source": [
    " which is an approximation of the variance of the estimator\n",
    "$g(\\hat{p})$. Let's simulate this and see how it agrees."
   ]
  },
  {
   "cell_type": "code",
   "execution_count": 13,
   "metadata": {},
   "outputs": [
    {
     "name": "stdout",
     "output_type": "stream",
     "text": [
      "odds ratio= 0.123638095238 var= 0.017607461164\n"
     ]
    }
   ],
   "source": [
    "from scipy import stats\n",
    "# compute MLE estimates \n",
    "d=stats.bernoulli(0.1).rvs((10,5000)).mean(0)\n",
    "# avoid divide-by-zero\n",
    "d=d[np.logical_not(np.isclose(d,1))]\n",
    "# compute odds ratio\n",
    "odds = d/(1-d)\n",
    "print 'odds ratio=',np.mean(odds),'var=',np.var(odds)"
   ]
  },
  {
   "cell_type": "markdown",
   "metadata": {},
   "source": [
    " The first number above is the mean of the simulated odds\n",
    "ratio and the second is the variance of the estimate.  According to\n",
    "the variance estimate above, we have $\\mathbb{V}(g(1/10))\\approx\n",
    "0.0137$, which is not too bad for this approximation. Recall we want\n",
    "to estimate the odds from the $\\hat{p}$. The code above takes $5000$\n",
    "estimates of the $\\hat{p}$ to estimate $\\mathbb{V}(g)$. The odds ratio\n",
    "for $p=1/10$ is $1/9\\approx 0.111$.\n",
    "\n",
    "**Programming Tip.**\n",
    "\n",
    "The code above uses the `np.isclose` function to identify the ones from\n",
    "the simulation and the `np.logical_not` removes these elements from the\n",
    "data because the odds ratio has a zero in the denominator\n",
    "for these values.\n",
    "\n",
    "\n",
    "\n",
    "Let's try this again with a probability of heads of `0.5` instead of\n",
    "`0.3`."
   ]
  },
  {
   "cell_type": "code",
   "execution_count": 14,
   "metadata": {},
   "outputs": [
    {
     "name": "stdout",
     "output_type": "stream",
     "text": [
      "odds ratio= 0.498458458458 var= 0.024323949976\n"
     ]
    }
   ],
   "source": [
    "from scipy import stats\n",
    "d=stats.bernoulli(.5).rvs((10,5000)).mean(0)\n",
    "d=d[np.logical_not(np.isclose(d,1))]\n",
    "print 'odds ratio=',np.mean(d),'var=',np.var(d)"
   ]
  },
  {
   "cell_type": "markdown",
   "metadata": {},
   "source": [
    " The odds ratio is this case is equal to one, which\n",
    "is not close to what was reported. According to our\n",
    "approximation, we have $\\mathbb{V}(g)=0.4$, which does not\n",
    "look like what our simulation just reported.  This is\n",
    "because the approximation is best when the odds ratio is\n",
    "nearly linear and worse otherwise.\n",
    "\n",
    "<!-- dom:FIGURE: [fig-statistics/Maximum_likelihood_0001.png, width=500 frac=0.85] The odds ratio is close to linear for small values but becomes unbounded as $p$ approaches one. The delta method is more effective for small underlying values of $p$, where the linear approximation is better. <div id=\"fig:Maximum_likelihood_0001\"></div> -->\n",
    "<!-- begin figure -->\n",
    "<div id=\"fig:Maximum_likelihood_0001\"></div>\n",
    "\n",
    "<p>The odds ratio is close to linear for small values but becomes unbounded as $p$ approaches one. The delta method is more effective for small underlying values of $p$, where the linear approximation is better.</p>\n",
    "<img src=\"fig-statistics/Maximum_likelihood_0001.png\" width=500>\n",
    "\n",
    "<!-- end figure -->"
   ]
  },
  {
   "cell_type": "code",
   "execution_count": null,
   "metadata": {},
   "outputs": [],
   "source": []
  }
 ],
 "metadata": {
  "kernelspec": {
   "display_name": "Python 3",
   "language": "python",
   "name": "python3"
  },
  "language_info": {
   "codemirror_mode": {
    "name": "ipython",
    "version": 3
   },
   "file_extension": ".py",
   "mimetype": "text/x-python",
   "name": "python",
   "nbconvert_exporter": "python",
   "pygments_lexer": "ipython3",
   "version": "3.6.6"
  }
 },
 "nbformat": 4,
 "nbformat_minor": 2
}
