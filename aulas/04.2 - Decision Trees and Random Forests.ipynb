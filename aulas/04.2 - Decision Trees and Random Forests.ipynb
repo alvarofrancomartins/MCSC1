{
 "cells": [
  {
   "cell_type": "code",
   "execution_count": 34,
   "metadata": {
    "ExecuteTime": {
     "end_time": "2018-11-07T13:00:27.404345Z",
     "start_time": "2018-11-07T13:00:27.394619Z"
    }
   },
   "outputs": [],
   "source": [
    "import numpy as np\n",
    "import pandas as pd\n",
    "import sympy as S\n",
    "from scipy import stats\n",
    "\n",
    "import matplotlib as mpl\n",
    "from matplotlib import pyplot as plt\n",
    "%matplotlib inline"
   ]
  },
  {
   "cell_type": "code",
   "execution_count": 35,
   "metadata": {
    "ExecuteTime": {
     "end_time": "2018-11-07T13:00:27.637118Z",
     "start_time": "2018-11-07T13:00:27.632803Z"
    }
   },
   "outputs": [],
   "source": [
    "mpl.style.use('seaborn-darkgrid')\n",
    "mpl.rcParams.update({'font.size': 18})"
   ]
  },
  {
   "cell_type": "code",
   "execution_count": 36,
   "metadata": {
    "ExecuteTime": {
     "end_time": "2018-11-07T13:00:27.875548Z",
     "start_time": "2018-11-07T13:00:27.872275Z"
    }
   },
   "outputs": [],
   "source": [
    "pd.options.display.max_rows = 10"
   ]
  },
  {
   "cell_type": "markdown",
   "metadata": {},
   "source": [
    "# Decision Trees"
   ]
  },
  {
   "cell_type": "markdown",
   "metadata": {},
   "source": [
    "A decision tree is the easiest classifer to understand, interpret, and explain.\n",
    "A decision tree is constructed by recursively splitting the data set into a\n",
    "sequence of subsets based on if-then questions.  The training set consists of\n",
    "pairs $(\\mathbf{x},y)$ where $\\mathbf{x}\\in \\mathbb{R}^d$ where $d$ is the\n",
    "number of features available and where $y$ is the corresponding label. The\n",
    "learning method splits the training set into groups based on $\\mathbf{x}$ while\n",
    "attempting to keep the assignments in each group as uniform as possible. In\n",
    "order to\n",
    "do this, the learning method must pick a feature and an associated threshold for\n",
    "that feature upon which to\n",
    "divide the data.  This is tricky to explain in words, but easy to see with\n",
    "an example. First, let's set up the Scikit-learn classifer,"
   ]
  },
  {
   "cell_type": "code",
   "execution_count": 2,
   "metadata": {
    "ExecuteTime": {
     "end_time": "2018-11-07T12:44:21.071149Z",
     "start_time": "2018-11-07T12:44:21.066908Z"
    },
    "attributes": {
     "classes": [],
     "id": "",
     "n": "1"
    }
   },
   "outputs": [],
   "source": [
    "from numpy import ma\n",
    "np.random.seed(12345678)"
   ]
  },
  {
   "cell_type": "code",
   "execution_count": 3,
   "metadata": {
    "ExecuteTime": {
     "end_time": "2018-11-07T12:44:42.605687Z",
     "start_time": "2018-11-07T12:44:42.465552Z"
    },
    "attributes": {
     "classes": [],
     "id": "",
     "n": "2"
    }
   },
   "outputs": [],
   "source": [
    "from sklearn import tree\n",
    "clf = tree.DecisionTreeClassifier()"
   ]
  },
  {
   "cell_type": "markdown",
   "metadata": {},
   "source": [
    "Let's also create some example data,"
   ]
  },
  {
   "cell_type": "code",
   "execution_count": 4,
   "metadata": {
    "ExecuteTime": {
     "end_time": "2018-11-07T12:44:58.374926Z",
     "start_time": "2018-11-07T12:44:58.367786Z"
    },
    "attributes": {
     "classes": [],
     "id": "",
     "n": "3"
    }
   },
   "outputs": [
    {
     "name": "stdout",
     "output_type": "stream",
     "text": [
      "[[0 0 1 1]\n",
      " [0 0 1 1]\n",
      " [0 0 1 1]\n",
      " [0 0 1 1]]\n"
     ]
    }
   ],
   "source": [
    "import numpy as np\n",
    "M = np.fromfunction(lambda i, j: j >= 2, (4, 4)).astype(int)\n",
    "print(M)"
   ]
  },
  {
   "cell_type": "markdown",
   "metadata": {},
   "source": [
    "**Programming Tip.**\n",
    "\n",
    "The `fromfunction` creates Numpy arrays using the indicies as inputs\n",
    "to a function whose value is the corresponding array entry.\n",
    "\n",
    "\n",
    "\n",
    "We want to classify the elements of the matrix based on their\n",
    "respective positions in the matrix. By just looking at the matrix, the\n",
    "classification is pretty simple --- classify as `0` for any positions in the\n",
    "first two columns of the matrix, and classify `1` otherwise.  Let's walk\n",
    "through this formally and see if this solution emerges from the decision\n",
    "tree.  The values of the array are the labels for the training set and the\n",
    "indicies of those values are the elements of $\\mathbf{x}$. Specifically, the\n",
    "training set has $\\mathcal{X} = \\left\\{(i,j)\\right\\}$ and\n",
    "$\\mathcal{Y}=\\left\\{0,1\\right\\}$ Now, let's extract those elements and construct\n",
    "the training set."
   ]
  },
  {
   "cell_type": "code",
   "execution_count": 5,
   "metadata": {
    "ExecuteTime": {
     "end_time": "2018-11-07T12:45:26.506737Z",
     "start_time": "2018-11-07T12:45:26.496661Z"
    }
   },
   "outputs": [
    {
     "data": {
      "text/plain": [
       "(array([0, 0, 1, 1, 2, 2, 3, 3]), array([0, 1, 0, 1, 0, 1, 0, 1]))"
      ]
     },
     "execution_count": 5,
     "metadata": {},
     "output_type": "execute_result"
    }
   ],
   "source": [
    "np.where(M == 0)"
   ]
  },
  {
   "cell_type": "code",
   "execution_count": 6,
   "metadata": {
    "ExecuteTime": {
     "end_time": "2018-11-07T12:45:53.924298Z",
     "start_time": "2018-11-07T12:45:53.916611Z"
    },
    "attributes": {
     "classes": [],
     "id": "",
     "n": "4"
    }
   },
   "outputs": [
    {
     "name": "stdout",
     "output_type": "stream",
     "text": [
      "[[0 0]\n",
      " [0 1]\n",
      " [1 0]\n",
      " [1 1]\n",
      " [2 0]\n",
      " [2 1]\n",
      " [3 0]\n",
      " [3 1]]\n",
      "[[0]\n",
      " [0]\n",
      " [0]\n",
      " [0]\n",
      " [0]\n",
      " [0]\n",
      " [0]\n",
      " [0]]\n"
     ]
    }
   ],
   "source": [
    "i, j = np.where(M == 0)\n",
    "x = np.vstack([i, j]).T  # build nsamp by nfeatures\n",
    "y = j.reshape(-1, 1) * 0  # 0 elements\n",
    "print(x)\n",
    "print(y)"
   ]
  },
  {
   "cell_type": "markdown",
   "metadata": {},
   "source": [
    "Thus, the elements of `x` are the two-dimensional indicies of the\n",
    "values of `y`. For example, `M[x[0,0],x[0,1]]=y[0,0]`. Likewise,\n",
    "to complete the training set, we just need to stack the rest of the data to\n",
    "cover\n",
    "all the cases,"
   ]
  },
  {
   "cell_type": "code",
   "execution_count": 7,
   "metadata": {
    "ExecuteTime": {
     "end_time": "2018-11-07T12:46:20.584100Z",
     "start_time": "2018-11-07T12:46:20.578444Z"
    },
    "attributes": {
     "classes": [],
     "id": "",
     "n": "5"
    }
   },
   "outputs": [],
   "source": [
    "i, j = np.where(M == 1)\n",
    "x = np.vstack([np.vstack([i, j]).T, x])  # build nsamp x nfeatures\n",
    "y = np.vstack([j.reshape(-1, 1) * 0 + 1, y])  # 1 elements"
   ]
  },
  {
   "cell_type": "code",
   "execution_count": 13,
   "metadata": {
    "ExecuteTime": {
     "end_time": "2018-11-07T12:47:02.767287Z",
     "start_time": "2018-11-07T12:47:02.759598Z"
    }
   },
   "outputs": [
    {
     "data": {
      "text/plain": [
       "array([[0, 2, 1],\n",
       "       [0, 3, 1],\n",
       "       [1, 2, 1],\n",
       "       [1, 3, 1],\n",
       "       [2, 2, 1],\n",
       "       [2, 3, 1],\n",
       "       [3, 2, 1],\n",
       "       [3, 3, 1],\n",
       "       [0, 0, 0],\n",
       "       [0, 1, 0],\n",
       "       [1, 0, 0],\n",
       "       [1, 1, 0],\n",
       "       [2, 0, 0],\n",
       "       [2, 1, 0],\n",
       "       [3, 0, 0],\n",
       "       [3, 1, 0]])"
      ]
     },
     "execution_count": 13,
     "metadata": {},
     "output_type": "execute_result"
    }
   ],
   "source": [
    "np.hstack([x,y])"
   ]
  },
  {
   "cell_type": "markdown",
   "metadata": {},
   "source": [
    "With all that established, all we have to do is train the classifer,"
   ]
  },
  {
   "cell_type": "code",
   "execution_count": 14,
   "metadata": {
    "ExecuteTime": {
     "end_time": "2018-11-07T12:47:11.246564Z",
     "start_time": "2018-11-07T12:47:11.237622Z"
    },
    "attributes": {
     "classes": [],
     "id": "",
     "n": "6"
    }
   },
   "outputs": [
    {
     "data": {
      "text/plain": [
       "DecisionTreeClassifier(class_weight=None, criterion='gini', max_depth=None,\n",
       "            max_features=None, max_leaf_nodes=None,\n",
       "            min_impurity_decrease=0.0, min_impurity_split=None,\n",
       "            min_samples_leaf=1, min_samples_split=2,\n",
       "            min_weight_fraction_leaf=0.0, presort=False, random_state=None,\n",
       "            splitter='best')"
      ]
     },
     "execution_count": 14,
     "metadata": {},
     "output_type": "execute_result"
    }
   ],
   "source": [
    "clf.fit(x,y)"
   ]
  },
  {
   "cell_type": "markdown",
   "metadata": {},
   "source": [
    "To evaluate how the classifer performed, we can report the score,"
   ]
  },
  {
   "cell_type": "code",
   "execution_count": 15,
   "metadata": {
    "ExecuteTime": {
     "end_time": "2018-11-07T12:47:30.991386Z",
     "start_time": "2018-11-07T12:47:30.982192Z"
    },
    "attributes": {
     "classes": [],
     "id": "",
     "n": "7"
    }
   },
   "outputs": [
    {
     "data": {
      "text/plain": [
       "1.0"
      ]
     },
     "execution_count": 15,
     "metadata": {},
     "output_type": "execute_result"
    }
   ],
   "source": [
    "clf.score(x,y)"
   ]
  },
  {
   "cell_type": "code",
   "execution_count": 18,
   "metadata": {
    "ExecuteTime": {
     "end_time": "2018-11-07T12:50:41.009381Z",
     "start_time": "2018-11-07T12:50:36.559810Z"
    }
   },
   "outputs": [
    {
     "name": "stdout",
     "output_type": "stream",
     "text": [
      "Collecting pydotplus\n",
      "\u001b[?25l  Downloading https://files.pythonhosted.org/packages/60/bf/62567830b700d9f6930e9ab6831d6ba256f7b0b730acb37278b0ccdffacf/pydotplus-2.0.2.tar.gz (278kB)\n",
      "\u001b[K    100% |████████████████████████████████| 286kB 4.4MB/s ta 0:00:01\n",
      "\u001b[?25hRequirement already satisfied: pyparsing>=2.0.1 in /home/hvribeiro/anaconda3/lib/python3.6/site-packages (from pydotplus) (2.2.0)\n",
      "Building wheels for collected packages: pydotplus\n",
      "  Running setup.py bdist_wheel for pydotplus ... \u001b[?25ldone\n",
      "\u001b[?25h  Stored in directory: /home/hvribeiro/.cache/pip/wheels/35/7b/ab/66fb7b2ac1f6df87475b09dc48e707b6e0de80a6d8444e3628\n",
      "Successfully built pydotplus\n",
      "Installing collected packages: pydotplus\n",
      "Successfully installed pydotplus-2.0.2\n",
      "\u001b[33mYou are using pip version 18.0, however version 18.1 is available.\n",
      "You should consider upgrading via the 'pip install --upgrade pip' command.\u001b[0m\n"
     ]
    }
   ],
   "source": [
    "!pip install pydotplus"
   ]
  },
  {
   "cell_type": "code",
   "execution_count": 20,
   "metadata": {
    "ExecuteTime": {
     "end_time": "2018-11-07T12:51:52.170728Z",
     "start_time": "2018-11-07T12:51:50.597986Z"
    }
   },
   "outputs": [
    {
     "name": "stdout",
     "output_type": "stream",
     "text": [
      "Requirement already satisfied: graphviz in /home/hvribeiro/anaconda3/lib/python3.6/site-packages (0.9)\n",
      "\u001b[33mYou are using pip version 18.0, however version 18.1 is available.\n",
      "You should consider upgrading via the 'pip install --upgrade pip' command.\u001b[0m\n"
     ]
    }
   ],
   "source": [
    "!pip install graphviz"
   ]
  },
  {
   "cell_type": "code",
   "execution_count": null,
   "metadata": {},
   "outputs": [],
   "source": [
    "!sudo apt-get install graphviz"
   ]
  },
  {
   "cell_type": "code",
   "execution_count": 24,
   "metadata": {
    "ExecuteTime": {
     "end_time": "2018-11-07T12:55:06.926062Z",
     "start_time": "2018-11-07T12:55:06.836447Z"
    }
   },
   "outputs": [
    {
     "data": {
      "image/svg+xml": [
       "<svg height=\"165pt\" viewBox=\"0.00 0.00 210.00 165.00\" width=\"210pt\" xmlns=\"http://www.w3.org/2000/svg\" xmlns:xlink=\"http://www.w3.org/1999/xlink\">\n",
       "<g class=\"graph\" id=\"graph0\" transform=\"scale(1 1) rotate(0) translate(4 161)\">\n",
       "<title>Tree</title>\n",
       "<polygon fill=\"white\" points=\"-4,4 -4,-161 206,-161 206,4 -4,4\" stroke=\"none\"/>\n",
       "<!-- 0 -->\n",
       "<g class=\"node\" id=\"node1\"><title>0</title>\n",
       "<polygon fill=\"none\" points=\"147,-157 55,-157 55,-89 147,-89 147,-157\" stroke=\"black\"/>\n",
       "<text font-family=\"Times,serif\" font-size=\"14.00\" text-anchor=\"middle\" x=\"101\" y=\"-141.8\">x2 &lt;= 1.5</text>\n",
       "<text font-family=\"Times,serif\" font-size=\"14.00\" text-anchor=\"middle\" x=\"101\" y=\"-126.8\">gini = 0.5</text>\n",
       "<text font-family=\"Times,serif\" font-size=\"14.00\" text-anchor=\"middle\" x=\"101\" y=\"-111.8\">samples = 16</text>\n",
       "<text font-family=\"Times,serif\" font-size=\"14.00\" text-anchor=\"middle\" x=\"101\" y=\"-96.8\">value = [8, 8]</text>\n",
       "</g>\n",
       "<!-- 1 -->\n",
       "<g class=\"node\" id=\"node2\"><title>1</title>\n",
       "<polygon fill=\"none\" points=\"92,-53 0,-53 0,-0 92,-0 92,-53\" stroke=\"black\"/>\n",
       "<text font-family=\"Times,serif\" font-size=\"14.00\" text-anchor=\"middle\" x=\"46\" y=\"-37.8\">gini = 0.0</text>\n",
       "<text font-family=\"Times,serif\" font-size=\"14.00\" text-anchor=\"middle\" x=\"46\" y=\"-22.8\">samples = 8</text>\n",
       "<text font-family=\"Times,serif\" font-size=\"14.00\" text-anchor=\"middle\" x=\"46\" y=\"-7.8\">value = [8, 0]</text>\n",
       "</g>\n",
       "<!-- 0&#45;&gt;1 -->\n",
       "<g class=\"edge\" id=\"edge1\"><title>0-&gt;1</title>\n",
       "<path d=\"M81.7637,-88.9485C76.7056,-80.2579 71.2365,-70.8608 66.1328,-62.0917\" fill=\"none\" stroke=\"black\"/>\n",
       "<polygon fill=\"black\" points=\"69.0342,-60.1189 60.979,-53.2367 62.9843,-63.6401 69.0342,-60.1189\" stroke=\"black\"/>\n",
       "<text font-family=\"Times,serif\" font-size=\"14.00\" text-anchor=\"middle\" x=\"54.5928\" y=\"-73.7073\">True</text>\n",
       "</g>\n",
       "<!-- 2 -->\n",
       "<g class=\"node\" id=\"node3\"><title>2</title>\n",
       "<polygon fill=\"none\" points=\"202,-53 110,-53 110,-0 202,-0 202,-53\" stroke=\"black\"/>\n",
       "<text font-family=\"Times,serif\" font-size=\"14.00\" text-anchor=\"middle\" x=\"156\" y=\"-37.8\">gini = 0.0</text>\n",
       "<text font-family=\"Times,serif\" font-size=\"14.00\" text-anchor=\"middle\" x=\"156\" y=\"-22.8\">samples = 8</text>\n",
       "<text font-family=\"Times,serif\" font-size=\"14.00\" text-anchor=\"middle\" x=\"156\" y=\"-7.8\">value = [0, 8]</text>\n",
       "</g>\n",
       "<!-- 0&#45;&gt;2 -->\n",
       "<g class=\"edge\" id=\"edge2\"><title>0-&gt;2</title>\n",
       "<path d=\"M120.236,-88.9485C125.294,-80.2579 130.764,-70.8608 135.867,-62.0917\" fill=\"none\" stroke=\"black\"/>\n",
       "<polygon fill=\"black\" points=\"139.016,-63.6401 141.021,-53.2367 132.966,-60.1189 139.016,-63.6401\" stroke=\"black\"/>\n",
       "<text font-family=\"Times,serif\" font-size=\"14.00\" text-anchor=\"middle\" x=\"147.407\" y=\"-73.7073\">False</text>\n",
       "</g>\n",
       "</g>\n",
       "</svg>"
      ],
      "text/plain": [
       "<IPython.core.display.SVG object>"
      ]
     },
     "execution_count": 24,
     "metadata": {},
     "output_type": "execute_result"
    }
   ],
   "source": [
    "from IPython.display import SVG\n",
    "from graphviz import Source\n",
    "graph = Source( tree.export_graphviz(clf, out_file=None, feature_names=['x1','x2']))\n",
    "SVG(graph.pipe(format='svg'))"
   ]
  },
  {
   "cell_type": "code",
   "execution_count": 23,
   "metadata": {
    "ExecuteTime": {
     "end_time": "2018-11-07T12:54:10.958395Z",
     "start_time": "2018-11-07T12:54:10.885209Z"
    }
   },
   "outputs": [
    {
     "data": {
      "image/svg+xml": [
       "<?xml version=\"1.0\" encoding=\"UTF-8\" standalone=\"no\"?>\n",
       "<!DOCTYPE svg PUBLIC \"-//W3C//DTD SVG 1.1//EN\"\n",
       " \"http://www.w3.org/Graphics/SVG/1.1/DTD/svg11.dtd\">\n",
       "<!-- Generated by graphviz version 2.38.0 (20140413.2041)\n",
       " -->\n",
       "<!-- Title: Tree Pages: 1 -->\n",
       "<svg width=\"210pt\" height=\"165pt\"\n",
       " viewBox=\"0.00 0.00 210.00 165.00\" xmlns=\"http://www.w3.org/2000/svg\" xmlns:xlink=\"http://www.w3.org/1999/xlink\">\n",
       "<g id=\"graph0\" class=\"graph\" transform=\"scale(1 1) rotate(0) translate(4 161)\">\n",
       "<title>Tree</title>\n",
       "<polygon fill=\"white\" stroke=\"none\" points=\"-4,4 -4,-161 206,-161 206,4 -4,4\"/>\n",
       "<!-- 0 -->\n",
       "<g id=\"node1\" class=\"node\"><title>0</title>\n",
       "<polygon fill=\"none\" stroke=\"black\" points=\"147,-157 55,-157 55,-89 147,-89 147,-157\"/>\n",
       "<text text-anchor=\"middle\" x=\"101\" y=\"-141.8\" font-family=\"Times,serif\" font-size=\"14.00\">x2 &lt;= 1.5</text>\n",
       "<text text-anchor=\"middle\" x=\"101\" y=\"-126.8\" font-family=\"Times,serif\" font-size=\"14.00\">gini = 0.5</text>\n",
       "<text text-anchor=\"middle\" x=\"101\" y=\"-111.8\" font-family=\"Times,serif\" font-size=\"14.00\">samples = 16</text>\n",
       "<text text-anchor=\"middle\" x=\"101\" y=\"-96.8\" font-family=\"Times,serif\" font-size=\"14.00\">value = [8, 8]</text>\n",
       "</g>\n",
       "<!-- 1 -->\n",
       "<g id=\"node2\" class=\"node\"><title>1</title>\n",
       "<polygon fill=\"none\" stroke=\"black\" points=\"92,-53 0,-53 0,-0 92,-0 92,-53\"/>\n",
       "<text text-anchor=\"middle\" x=\"46\" y=\"-37.8\" font-family=\"Times,serif\" font-size=\"14.00\">gini = 0.0</text>\n",
       "<text text-anchor=\"middle\" x=\"46\" y=\"-22.8\" font-family=\"Times,serif\" font-size=\"14.00\">samples = 8</text>\n",
       "<text text-anchor=\"middle\" x=\"46\" y=\"-7.8\" font-family=\"Times,serif\" font-size=\"14.00\">value = [8, 0]</text>\n",
       "</g>\n",
       "<!-- 0&#45;&gt;1 -->\n",
       "<g id=\"edge1\" class=\"edge\"><title>0&#45;&gt;1</title>\n",
       "<path fill=\"none\" stroke=\"black\" d=\"M81.7637,-88.9485C76.7056,-80.2579 71.2365,-70.8608 66.1328,-62.0917\"/>\n",
       "<polygon fill=\"black\" stroke=\"black\" points=\"69.0342,-60.1189 60.979,-53.2367 62.9843,-63.6401 69.0342,-60.1189\"/>\n",
       "<text text-anchor=\"middle\" x=\"54.5928\" y=\"-73.7073\" font-family=\"Times,serif\" font-size=\"14.00\">True</text>\n",
       "</g>\n",
       "<!-- 2 -->\n",
       "<g id=\"node3\" class=\"node\"><title>2</title>\n",
       "<polygon fill=\"none\" stroke=\"black\" points=\"202,-53 110,-53 110,-0 202,-0 202,-53\"/>\n",
       "<text text-anchor=\"middle\" x=\"156\" y=\"-37.8\" font-family=\"Times,serif\" font-size=\"14.00\">gini = 0.0</text>\n",
       "<text text-anchor=\"middle\" x=\"156\" y=\"-22.8\" font-family=\"Times,serif\" font-size=\"14.00\">samples = 8</text>\n",
       "<text text-anchor=\"middle\" x=\"156\" y=\"-7.8\" font-family=\"Times,serif\" font-size=\"14.00\">value = [0, 8]</text>\n",
       "</g>\n",
       "<!-- 0&#45;&gt;2 -->\n",
       "<g id=\"edge2\" class=\"edge\"><title>0&#45;&gt;2</title>\n",
       "<path fill=\"none\" stroke=\"black\" d=\"M120.236,-88.9485C125.294,-80.2579 130.764,-70.8608 135.867,-62.0917\"/>\n",
       "<polygon fill=\"black\" stroke=\"black\" points=\"139.016,-63.6401 141.021,-53.2367 132.966,-60.1189 139.016,-63.6401\"/>\n",
       "<text text-anchor=\"middle\" x=\"147.407\" y=\"-73.7073\" font-family=\"Times,serif\" font-size=\"14.00\">False</text>\n",
       "</g>\n",
       "</g>\n",
       "</svg>\n"
      ],
      "text/plain": [
       "<graphviz.files.Source at 0x7f91a78168d0>"
      ]
     },
     "execution_count": 23,
     "metadata": {},
     "output_type": "execute_result"
    }
   ],
   "source": [
    "from graphviz import Source\n",
    "Source( tree.export_graphviz(clf, out_file=None, feature_names=['x1','x2']))"
   ]
  },
  {
   "cell_type": "code",
   "execution_count": 25,
   "metadata": {
    "ExecuteTime": {
     "end_time": "2018-11-07T12:55:37.711844Z",
     "start_time": "2018-11-07T12:55:37.552321Z"
    }
   },
   "outputs": [
    {
     "data": {
      "image/png": "[encoded data removed]",
      "text/plain": [
       "<IPython.core.display.Image object>"
      ]
     },
     "execution_count": 25,
     "metadata": {},
     "output_type": "execute_result"
    }
   ],
   "source": [
    "from sklearn.externals.six import StringIO\n",
    "from IPython.display import Image  \n",
    "import pydotplus\n",
    "\n",
    "dot_data = StringIO()\n",
    "\n",
    "tree.export_graphviz(clf, out_file=dot_data,  \n",
    "                filled=True, rounded=True,\n",
    "                special_characters=True)\n",
    "\n",
    "graph = pydotplus.graph_from_dot_data(dot_data.getvalue())  \n",
    "Image(graph.create_png())"
   ]
  },
  {
   "cell_type": "markdown",
   "metadata": {},
   "source": [
    "For this classifer, the *score* is the accuracy, which is\n",
    "defined as the ratio of the sum of the true-positive ($TP$) and\n",
    "true-negatives ($TN$) divided by the sum of all the terms, including\n",
    "the false terms,\n",
    "\n",
    "$$\n",
    "\\texttt{accuracy}=\\frac{TP+TN}{TP+TN+FN+FP}\n",
    "$$\n",
    "\n",
    "In this case, the classifier gets every point correctly, so\n",
    "$FN=FP=0$. On a related note, two other common names from information retrieval\n",
    "theory are  *recall* (a.k.a. sensitivity) and *precision* (a.k.a. positive\n",
    "predictive value, $TP/(TP+FP)$).  We can visualize this tree in\n",
    "[Figure](#fig:example_tree_001). The Gini coefficients (a.k.a. categorical\n",
    "variance)\n",
    "in the figure are a measure of the purity of each so-determined class. This\n",
    "coefficient is defined as,\n",
    "\n",
    "<!-- dom:FIGURE: [fig-machine_learning/example_tree_001.png, width=500 frac=0.5]\n",
    "Example decision tree. The `Gini` coefficient in each branch measures the purity\n",
    "of the partition in each node.  The `samples` item in the box shows the number\n",
    "of items in the corresponding node in the decision tree. <div\n",
    "id=\"fig:example_tree_001\"></div> -->\n",
    "<!-- begin figure -->\n",
    "<div id=\"fig:example_tree_001\"></div>\n",
    "\n",
    "<p>Example decision tree. The <code>Gini</code> coefficient in each branch\n",
    "measures the purity of the partition in each node.  The <code>samples</code>\n",
    "item in the box shows the number of items in the corresponding node in the\n",
    "decision tree.</p>\n",
    "<img src=\"fig-machine_learning/example_tree_001.png\" width=500>\n",
    "\n",
    "<!-- end figure -->\n",
    "\n",
    "$$\n",
    "\\texttt{Gini}_m = \\sum_k p_{m,k}(1-p_{m,k})\n",
    "$$\n",
    "\n",
    "where\n",
    "\n",
    "$$\n",
    "p_{m,k} = \\frac{1}{N_m} \\sum_{x_i\\in R_m} I(y_i=k)\n",
    "$$\n",
    "\n",
    "which is the proportion of observations labeled $k$ in the $m^{th}$\n",
    "node and $I(\\cdot)$ is the usual indicator function. Note that the maximum value\n",
    "of\n",
    "the Gini coefficient is $\\max{\\texttt{Gini}_{m}}=1-1/m$. For our simple\n",
    "example, half of the sixteen samples are in category `0` and the other half are\n",
    "in the `1` category.  Using the notation above, the top box corresponds to the\n",
    "$0^{th}$ node, so $p_{0,0} =1/2 = p_{0,1}$. Then, $\\texttt{Gini}_0=0.5$. The\n",
    "next layer of nodes in [Figure](#fig:example_tree_001) is determined by\n",
    "whether or not the second dimension of the $\\mathbf{x}$ data is greater than\n",
    "`1.5`. The Gini coefficients for each of these child nodes is zero because\n",
    "after the prior split, each subsequent category is pure. The `value` list in\n",
    "each of the nodes shows the distribution of elements in each category at each\n",
    "node.\n",
    "\n",
    "To make this example more interesting, we can contaminate the data slightly,"
   ]
  },
  {
   "cell_type": "code",
   "execution_count": 26,
   "metadata": {
    "ExecuteTime": {
     "end_time": "2018-11-07T12:56:41.893122Z",
     "start_time": "2018-11-07T12:56:41.886905Z"
    },
    "attributes": {
     "classes": [],
     "id": "",
     "n": "8"
    }
   },
   "outputs": [
    {
     "name": "stdout",
     "output_type": "stream",
     "text": [
      "[[0 0 1 1]\n",
      " [1 0 1 1]\n",
      " [0 0 1 1]\n",
      " [0 0 1 1]]\n"
     ]
    }
   ],
   "source": [
    "M[1, 0] = 1  # put in different class\n",
    "print(M)  # now contaminated"
   ]
  },
  {
   "cell_type": "markdown",
   "metadata": {},
   "source": [
    "Now we have a `1` entry in the previously\n",
    "pure first column's second  row."
   ]
  },
  {
   "cell_type": "code",
   "execution_count": 27,
   "metadata": {
    "ExecuteTime": {
     "end_time": "2018-11-07T12:56:53.550611Z",
     "start_time": "2018-11-07T12:56:53.539606Z"
    },
    "attributes": {
     "classes": [],
     "id": "",
     "n": "9"
    }
   },
   "outputs": [
    {
     "data": {
      "text/plain": [
       "array([[0, 2, 1],\n",
       "       [0, 3, 1],\n",
       "       [1, 0, 1],\n",
       "       [1, 2, 1],\n",
       "       [1, 3, 1],\n",
       "       [2, 2, 1],\n",
       "       [2, 3, 1],\n",
       "       [3, 2, 1],\n",
       "       [3, 3, 1],\n",
       "       [0, 0, 0],\n",
       "       [0, 1, 0],\n",
       "       [1, 1, 0],\n",
       "       [2, 0, 0],\n",
       "       [2, 1, 0],\n",
       "       [3, 0, 0],\n",
       "       [3, 1, 0]])"
      ]
     },
     "execution_count": 27,
     "metadata": {},
     "output_type": "execute_result"
    }
   ],
   "source": [
    "i, j = np.where(M == 0)\n",
    "x = np.vstack([i, j]).T\n",
    "y = j.reshape(-1, 1) * 0\n",
    "i, j = np.where(M == 1)\n",
    "x = np.vstack([np.vstack([i, j]).T, x])\n",
    "y = np.vstack([j.reshape(-1, 1) * 0 + 1, y])\n",
    "\n",
    "np.hstack([x,y])"
   ]
  },
  {
   "cell_type": "code",
   "execution_count": 28,
   "metadata": {
    "ExecuteTime": {
     "end_time": "2018-11-07T12:57:06.446939Z",
     "start_time": "2018-11-07T12:57:06.437896Z"
    }
   },
   "outputs": [
    {
     "data": {
      "text/plain": [
       "DecisionTreeClassifier(class_weight=None, criterion='gini', max_depth=None,\n",
       "            max_features=None, max_leaf_nodes=None,\n",
       "            min_impurity_decrease=0.0, min_impurity_split=None,\n",
       "            min_samples_leaf=1, min_samples_split=2,\n",
       "            min_weight_fraction_leaf=0.0, presort=False, random_state=None,\n",
       "            splitter='best')"
      ]
     },
     "execution_count": 28,
     "metadata": {},
     "output_type": "execute_result"
    }
   ],
   "source": [
    "clf.fit(x, y)"
   ]
  },
  {
   "cell_type": "code",
   "execution_count": 29,
   "metadata": {
    "ExecuteTime": {
     "end_time": "2018-11-07T12:57:28.427446Z",
     "start_time": "2018-11-07T12:57:28.354053Z"
    }
   },
   "outputs": [
    {
     "data": {
      "image/svg+xml": [
       "<?xml version=\"1.0\" encoding=\"UTF-8\" standalone=\"no\"?>\n",
       "<!DOCTYPE svg PUBLIC \"-//W3C//DTD SVG 1.1//EN\"\n",
       " \"http://www.w3.org/Graphics/SVG/1.1/DTD/svg11.dtd\">\n",
       "<!-- Generated by graphviz version 2.38.0 (20140413.2041)\n",
       " -->\n",
       "<!-- Title: Tree Pages: 1 -->\n",
       "<svg width=\"375pt\" height=\"477pt\"\n",
       " viewBox=\"0.00 0.00 375.00 477.00\" xmlns=\"http://www.w3.org/2000/svg\" xmlns:xlink=\"http://www.w3.org/1999/xlink\">\n",
       "<g id=\"graph0\" class=\"graph\" transform=\"scale(1 1) rotate(0) translate(4 473)\">\n",
       "<title>Tree</title>\n",
       "<polygon fill=\"white\" stroke=\"none\" points=\"-4,4 -4,-473 371,-473 371,4 -4,4\"/>\n",
       "<!-- 0 -->\n",
       "<g id=\"node1\" class=\"node\"><title>0</title>\n",
       "<polygon fill=\"none\" stroke=\"black\" points=\"312,-469 220,-469 220,-401 312,-401 312,-469\"/>\n",
       "<text text-anchor=\"middle\" x=\"266\" y=\"-453.8\" font-family=\"Times,serif\" font-size=\"14.00\">x2 &lt;= 1.5</text>\n",
       "<text text-anchor=\"middle\" x=\"266\" y=\"-438.8\" font-family=\"Times,serif\" font-size=\"14.00\">gini = 0.492</text>\n",
       "<text text-anchor=\"middle\" x=\"266\" y=\"-423.8\" font-family=\"Times,serif\" font-size=\"14.00\">samples = 16</text>\n",
       "<text text-anchor=\"middle\" x=\"266\" y=\"-408.8\" font-family=\"Times,serif\" font-size=\"14.00\">value = [7, 9]</text>\n",
       "</g>\n",
       "<!-- 1 -->\n",
       "<g id=\"node2\" class=\"node\"><title>1</title>\n",
       "<polygon fill=\"none\" stroke=\"black\" points=\"257,-365 165,-365 165,-297 257,-297 257,-365\"/>\n",
       "<text text-anchor=\"middle\" x=\"211\" y=\"-349.8\" font-family=\"Times,serif\" font-size=\"14.00\">x1 &lt;= 1.5</text>\n",
       "<text text-anchor=\"middle\" x=\"211\" y=\"-334.8\" font-family=\"Times,serif\" font-size=\"14.00\">gini = 0.219</text>\n",
       "<text text-anchor=\"middle\" x=\"211\" y=\"-319.8\" font-family=\"Times,serif\" font-size=\"14.00\">samples = 8</text>\n",
       "<text text-anchor=\"middle\" x=\"211\" y=\"-304.8\" font-family=\"Times,serif\" font-size=\"14.00\">value = [7, 1]</text>\n",
       "</g>\n",
       "<!-- 0&#45;&gt;1 -->\n",
       "<g id=\"edge1\" class=\"edge\"><title>0&#45;&gt;1</title>\n",
       "<path fill=\"none\" stroke=\"black\" d=\"M248.143,-400.884C243.58,-392.422 238.612,-383.207 233.837,-374.352\"/>\n",
       "<polygon fill=\"black\" stroke=\"black\" points=\"236.782,-372.44 228.956,-365.299 230.621,-375.762 236.782,-372.44\"/>\n",
       "<text text-anchor=\"middle\" x=\"221.786\" y=\"-385.549\" font-family=\"Times,serif\" font-size=\"14.00\">True</text>\n",
       "</g>\n",
       "<!-- 8 -->\n",
       "<g id=\"node9\" class=\"node\"><title>8</title>\n",
       "<polygon fill=\"none\" stroke=\"black\" points=\"367,-357.5 275,-357.5 275,-304.5 367,-304.5 367,-357.5\"/>\n",
       "<text text-anchor=\"middle\" x=\"321\" y=\"-342.3\" font-family=\"Times,serif\" font-size=\"14.00\">gini = 0.0</text>\n",
       "<text text-anchor=\"middle\" x=\"321\" y=\"-327.3\" font-family=\"Times,serif\" font-size=\"14.00\">samples = 8</text>\n",
       "<text text-anchor=\"middle\" x=\"321\" y=\"-312.3\" font-family=\"Times,serif\" font-size=\"14.00\">value = [0, 8]</text>\n",
       "</g>\n",
       "<!-- 0&#45;&gt;8 -->\n",
       "<g id=\"edge8\" class=\"edge\"><title>0&#45;&gt;8</title>\n",
       "<path fill=\"none\" stroke=\"black\" d=\"M283.857,-400.884C289.787,-389.886 296.402,-377.617 302.388,-366.517\"/>\n",
       "<polygon fill=\"black\" stroke=\"black\" points=\"305.574,-367.983 307.239,-357.52 299.412,-364.661 305.574,-367.983\"/>\n",
       "<text text-anchor=\"middle\" x=\"314.409\" y=\"-377.77\" font-family=\"Times,serif\" font-size=\"14.00\">False</text>\n",
       "</g>\n",
       "<!-- 2 -->\n",
       "<g id=\"node3\" class=\"node\"><title>2</title>\n",
       "<polygon fill=\"none\" stroke=\"black\" points=\"202,-261 110,-261 110,-193 202,-193 202,-261\"/>\n",
       "<text text-anchor=\"middle\" x=\"156\" y=\"-245.8\" font-family=\"Times,serif\" font-size=\"14.00\">x2 &lt;= 0.5</text>\n",
       "<text text-anchor=\"middle\" x=\"156\" y=\"-230.8\" font-family=\"Times,serif\" font-size=\"14.00\">gini = 0.375</text>\n",
       "<text text-anchor=\"middle\" x=\"156\" y=\"-215.8\" font-family=\"Times,serif\" font-size=\"14.00\">samples = 4</text>\n",
       "<text text-anchor=\"middle\" x=\"156\" y=\"-200.8\" font-family=\"Times,serif\" font-size=\"14.00\">value = [3, 1]</text>\n",
       "</g>\n",
       "<!-- 1&#45;&gt;2 -->\n",
       "<g id=\"edge2\" class=\"edge\"><title>1&#45;&gt;2</title>\n",
       "<path fill=\"none\" stroke=\"black\" d=\"M193.143,-296.884C188.58,-288.422 183.612,-279.207 178.837,-270.352\"/>\n",
       "<polygon fill=\"black\" stroke=\"black\" points=\"181.782,-268.44 173.956,-261.299 175.621,-271.762 181.782,-268.44\"/>\n",
       "</g>\n",
       "<!-- 7 -->\n",
       "<g id=\"node8\" class=\"node\"><title>7</title>\n",
       "<polygon fill=\"none\" stroke=\"black\" points=\"312,-253.5 220,-253.5 220,-200.5 312,-200.5 312,-253.5\"/>\n",
       "<text text-anchor=\"middle\" x=\"266\" y=\"-238.3\" font-family=\"Times,serif\" font-size=\"14.00\">gini = 0.0</text>\n",
       "<text text-anchor=\"middle\" x=\"266\" y=\"-223.3\" font-family=\"Times,serif\" font-size=\"14.00\">samples = 4</text>\n",
       "<text text-anchor=\"middle\" x=\"266\" y=\"-208.3\" font-family=\"Times,serif\" font-size=\"14.00\">value = [4, 0]</text>\n",
       "</g>\n",
       "<!-- 1&#45;&gt;7 -->\n",
       "<g id=\"edge7\" class=\"edge\"><title>1&#45;&gt;7</title>\n",
       "<path fill=\"none\" stroke=\"black\" d=\"M228.857,-296.884C234.787,-285.886 241.402,-273.617 247.388,-262.517\"/>\n",
       "<polygon fill=\"black\" stroke=\"black\" points=\"250.574,-263.983 252.239,-253.52 244.412,-260.661 250.574,-263.983\"/>\n",
       "</g>\n",
       "<!-- 3 -->\n",
       "<g id=\"node4\" class=\"node\"><title>3</title>\n",
       "<polygon fill=\"none\" stroke=\"black\" points=\"147,-157 55,-157 55,-89 147,-89 147,-157\"/>\n",
       "<text text-anchor=\"middle\" x=\"101\" y=\"-141.8\" font-family=\"Times,serif\" font-size=\"14.00\">x1 &lt;= 0.5</text>\n",
       "<text text-anchor=\"middle\" x=\"101\" y=\"-126.8\" font-family=\"Times,serif\" font-size=\"14.00\">gini = 0.5</text>\n",
       "<text text-anchor=\"middle\" x=\"101\" y=\"-111.8\" font-family=\"Times,serif\" font-size=\"14.00\">samples = 2</text>\n",
       "<text text-anchor=\"middle\" x=\"101\" y=\"-96.8\" font-family=\"Times,serif\" font-size=\"14.00\">value = [1, 1]</text>\n",
       "</g>\n",
       "<!-- 2&#45;&gt;3 -->\n",
       "<g id=\"edge3\" class=\"edge\"><title>2&#45;&gt;3</title>\n",
       "<path fill=\"none\" stroke=\"black\" d=\"M138.143,-192.884C133.58,-184.422 128.612,-175.207 123.837,-166.352\"/>\n",
       "<polygon fill=\"black\" stroke=\"black\" points=\"126.782,-164.44 118.956,-157.299 120.621,-167.762 126.782,-164.44\"/>\n",
       "</g>\n",
       "<!-- 6 -->\n",
       "<g id=\"node7\" class=\"node\"><title>6</title>\n",
       "<polygon fill=\"none\" stroke=\"black\" points=\"257,-149.5 165,-149.5 165,-96.5 257,-96.5 257,-149.5\"/>\n",
       "<text text-anchor=\"middle\" x=\"211\" y=\"-134.3\" font-family=\"Times,serif\" font-size=\"14.00\">gini = 0.0</text>\n",
       "<text text-anchor=\"middle\" x=\"211\" y=\"-119.3\" font-family=\"Times,serif\" font-size=\"14.00\">samples = 2</text>\n",
       "<text text-anchor=\"middle\" x=\"211\" y=\"-104.3\" font-family=\"Times,serif\" font-size=\"14.00\">value = [2, 0]</text>\n",
       "</g>\n",
       "<!-- 2&#45;&gt;6 -->\n",
       "<g id=\"edge6\" class=\"edge\"><title>2&#45;&gt;6</title>\n",
       "<path fill=\"none\" stroke=\"black\" d=\"M173.857,-192.884C179.787,-181.886 186.402,-169.617 192.388,-158.517\"/>\n",
       "<polygon fill=\"black\" stroke=\"black\" points=\"195.574,-159.983 197.239,-149.52 189.412,-156.661 195.574,-159.983\"/>\n",
       "</g>\n",
       "<!-- 4 -->\n",
       "<g id=\"node5\" class=\"node\"><title>4</title>\n",
       "<polygon fill=\"none\" stroke=\"black\" points=\"92,-53 0,-53 0,-0 92,-0 92,-53\"/>\n",
       "<text text-anchor=\"middle\" x=\"46\" y=\"-37.8\" font-family=\"Times,serif\" font-size=\"14.00\">gini = 0.0</text>\n",
       "<text text-anchor=\"middle\" x=\"46\" y=\"-22.8\" font-family=\"Times,serif\" font-size=\"14.00\">samples = 1</text>\n",
       "<text text-anchor=\"middle\" x=\"46\" y=\"-7.8\" font-family=\"Times,serif\" font-size=\"14.00\">value = [1, 0]</text>\n",
       "</g>\n",
       "<!-- 3&#45;&gt;4 -->\n",
       "<g id=\"edge4\" class=\"edge\"><title>3&#45;&gt;4</title>\n",
       "<path fill=\"none\" stroke=\"black\" d=\"M81.7637,-88.9485C76.7056,-80.2579 71.2365,-70.8608 66.1328,-62.0917\"/>\n",
       "<polygon fill=\"black\" stroke=\"black\" points=\"69.0342,-60.1189 60.979,-53.2367 62.9843,-63.6401 69.0342,-60.1189\"/>\n",
       "</g>\n",
       "<!-- 5 -->\n",
       "<g id=\"node6\" class=\"node\"><title>5</title>\n",
       "<polygon fill=\"none\" stroke=\"black\" points=\"202,-53 110,-53 110,-0 202,-0 202,-53\"/>\n",
       "<text text-anchor=\"middle\" x=\"156\" y=\"-37.8\" font-family=\"Times,serif\" font-size=\"14.00\">gini = 0.0</text>\n",
       "<text text-anchor=\"middle\" x=\"156\" y=\"-22.8\" font-family=\"Times,serif\" font-size=\"14.00\">samples = 1</text>\n",
       "<text text-anchor=\"middle\" x=\"156\" y=\"-7.8\" font-family=\"Times,serif\" font-size=\"14.00\">value = [0, 1]</text>\n",
       "</g>\n",
       "<!-- 3&#45;&gt;5 -->\n",
       "<g id=\"edge5\" class=\"edge\"><title>3&#45;&gt;5</title>\n",
       "<path fill=\"none\" stroke=\"black\" d=\"M120.236,-88.9485C125.294,-80.2579 130.764,-70.8608 135.867,-62.0917\"/>\n",
       "<polygon fill=\"black\" stroke=\"black\" points=\"139.016,-63.6401 141.021,-53.2367 132.966,-60.1189 139.016,-63.6401\"/>\n",
       "</g>\n",
       "</g>\n",
       "</svg>\n"
      ],
      "text/plain": [
       "<graphviz.files.Source at 0x7f91a750db00>"
      ]
     },
     "execution_count": 29,
     "metadata": {},
     "output_type": "execute_result"
    }
   ],
   "source": [
    "Source( tree.export_graphviz(clf, out_file=None, feature_names=['x1','x2']))"
   ]
  },
  {
   "cell_type": "markdown",
   "metadata": {},
   "source": [
    "The result is shown\n",
    "in [Figure](#fig:example_tree_002). Note the tree has grown\n",
    "significantly due to this one change! The $0^{th}$ node has the\n",
    "following parameters, $p_{0,0} =7/16$ and $p_{0,1}=9/16$. This makes\n",
    "the Gini coefficient for the $0^{th}$ node equal to\n",
    "$\\frac{7}{16}\\left(1-\\frac{7}{16}\\right)+\\frac{9}{16}(1-\\frac{9}{16})\n",
    "= 0.492$.  As before, the root node splits on $X[1] \\leq 1.5$. Let's\n",
    "see if we can reconstruct the succeeding layer of nodes manually, as\n",
    "in the following,"
   ]
  },
  {
   "cell_type": "code",
   "execution_count": 30,
   "metadata": {
    "ExecuteTime": {
     "end_time": "2018-11-07T12:57:52.676224Z",
     "start_time": "2018-11-07T12:57:52.667678Z"
    },
    "attributes": {
     "classes": [],
     "id": "",
     "n": "10"
    }
   },
   "outputs": [
    {
     "data": {
      "text/plain": [
       "array([[1],\n",
       "       [1],\n",
       "       [1],\n",
       "       [1],\n",
       "       [1],\n",
       "       [1],\n",
       "       [1],\n",
       "       [1]])"
      ]
     },
     "execution_count": 30,
     "metadata": {},
     "output_type": "execute_result"
    }
   ],
   "source": [
    "y[x[:,1]>1.5] # first node on the right"
   ]
  },
  {
   "cell_type": "markdown",
   "metadata": {},
   "source": [
    "This obviously has a zero Gini coefficient. Likewise, the node on the\n",
    "left contains the following,"
   ]
  },
  {
   "cell_type": "code",
   "execution_count": 31,
   "metadata": {
    "ExecuteTime": {
     "end_time": "2018-11-07T12:57:55.042958Z",
     "start_time": "2018-11-07T12:57:55.034671Z"
    },
    "attributes": {
     "classes": [],
     "id": "",
     "n": "11"
    }
   },
   "outputs": [
    {
     "data": {
      "text/plain": [
       "array([[1],\n",
       "       [0],\n",
       "       [0],\n",
       "       [0],\n",
       "       [0],\n",
       "       [0],\n",
       "       [0],\n",
       "       [0]])"
      ]
     },
     "execution_count": 31,
     "metadata": {},
     "output_type": "execute_result"
    }
   ],
   "source": [
    "y[x[:,1]<=1.5] # first node on the left"
   ]
  },
  {
   "cell_type": "markdown",
   "metadata": {},
   "source": [
    "The Gini coefficient in this case is computed as\n",
    "`(1/8)*(1-1/8)+(7/8)*(1-7/8)=0.21875`. This node splits based on `X[1]<0.5`.\n",
    "The child node to the right derives from the following equivalent logic,"
   ]
  },
  {
   "cell_type": "code",
   "execution_count": 13,
   "metadata": {
    "attributes": {
     "classes": [],
     "id": "",
     "n": "12"
    }
   },
   "outputs": [
    {
     "data": {
      "text/plain": [
       "array([False, False, False, False, False, False, False, False, False,\n",
       "       False,  True,  True, False,  True, False,  True], dtype=bool)"
      ]
     },
     "execution_count": 13,
     "metadata": {},
     "output_type": "execute_result"
    }
   ],
   "source": [
    "np.logical_and(x[:,1]<=1.5,x[:,1]>0.5)"
   ]
  },
  {
   "cell_type": "markdown",
   "metadata": {},
   "source": [
    "with corresponding classes,"
   ]
  },
  {
   "cell_type": "code",
   "execution_count": 14,
   "metadata": {
    "attributes": {
     "classes": [],
     "id": "",
     "n": "13"
    }
   },
   "outputs": [
    {
     "data": {
      "text/plain": [
       "array([[0],\n",
       "       [0],\n",
       "       [0],\n",
       "       [0]])"
      ]
     },
     "execution_count": 14,
     "metadata": {},
     "output_type": "execute_result"
    }
   ],
   "source": [
    "y[np.logical_and(x[:,1]<=1.5,x[:,1]>0.5)]"
   ]
  },
  {
   "cell_type": "markdown",
   "metadata": {},
   "source": [
    "**Programming Tip.**\n",
    "\n",
    "The  `logical_and` in Numpy provides element-wise logical conjuction. It is not\n",
    "possible to accomplish this with something like `0.5< x[:,1] <=1.5` because\n",
    "of the way Python parses this syntax.\n",
    "\n",
    "\n",
    "\n",
    "<!-- dom:FIGURE: [fig-machine_learning/example_tree_002.png, width=500\n",
    "frac=0.65] Decision tree for contaminated data. Note that just one change in the\n",
    "training data caused the tree to grow five times as large as before! <div\n",
    "id=\"fig:example_tree_002\"></div> -->\n",
    "<!-- begin figure -->\n",
    "<div id=\"fig:example_tree_002\"></div>\n",
    "\n",
    "<p>Decision tree for contaminated data. Note that just one change in the\n",
    "training data caused the tree to grow five times as large as before!</p>\n",
    "<img src=\"fig-machine_learning/example_tree_002.png\" width=500>\n",
    "\n",
    "<!-- end figure -->\n",
    "\n",
    "\n",
    "Notice that for this example as well as for the previous one, the decision tree\n",
    "was exactly able memorize (overfit) the data with perfect accuracy. From our\n",
    "discussion of machine learning theory, this is an indication potential problems\n",
    "in generalization.\n",
    "\n",
    "\n",
    "The key step in building the decision tree is to come up with the\n",
    "initial split. There are the number of algorithms that can build\n",
    "decision trees based on different criteria, but the general idea is to\n",
    "control the information *entropy* as the tree is developed.  In\n",
    "practical terms, this means that the algorithms attempt to build trees\n",
    "that are not excessively deep. It is well-established that this is a\n",
    "very hard problem to solve completely and there are many approaches to\n",
    "it.  This is because the algorithms must make global decisions at each\n",
    "node of the tree using the local data available up to that point."
   ]
  },
  {
   "cell_type": "code",
   "execution_count": 32,
   "metadata": {
    "ExecuteTime": {
     "end_time": "2018-11-07T12:59:09.690959Z",
     "start_time": "2018-11-07T12:59:09.680608Z"
    }
   },
   "outputs": [
    {
     "data": {
      "text/plain": [
       "masked_array(data=[--, --, --, --, --, --, --, --, --, 0, 1, 1, 0, 1, 0,\n",
       "                   1],\n",
       "             mask=[ True,  True,  True,  True,  True,  True,  True,  True,\n",
       "                    True, False, False, False, False, False, False, False],\n",
       "       fill_value=999999)"
      ]
     },
     "execution_count": 32,
     "metadata": {},
     "output_type": "execute_result"
    }
   ],
   "source": [
    "ma.masked_array(x[:,1],y==1)"
   ]
  },
  {
   "cell_type": "code",
   "execution_count": 40,
   "metadata": {
    "ExecuteTime": {
     "end_time": "2018-11-07T13:02:43.026729Z",
     "start_time": "2018-11-07T13:02:42.674220Z"
    },
    "attributes": {
     "classes": [],
     "id": "",
     "n": "14"
    }
   },
   "outputs": [
    {
     "data": {
      "image/png": "[encoded data removed]",
      "text/plain": [
       "<Figure size 576x576 with 4 Axes>"
      ]
     },
     "metadata": {},
     "output_type": "display_data"
    }
   ],
   "source": [
    "clf.fit(x, y)\n",
    "fig, axs = plt.subplots(2, 2, sharex=True, sharey=True,figsize=(8,8))\n",
    "# ax = axs[0, 0]\n",
    "# ax.set_aspect(1)\n",
    "# ax.axis((-1, 4, -1, 4))\n",
    "# ax.invert_yaxis()\n",
    "\n",
    "# same background all on axes\n",
    "for ax in axs.flat:\n",
    "    ax.plot(\n",
    "        ma.masked_array(x[:, 1], y == 1),\n",
    "        ma.masked_array(x[:, 0], y == 1),\n",
    "        'ow',\n",
    "        mec='k')\n",
    "    ax.plot(\n",
    "        ma.masked_array(x[:, 1], y == 0),\n",
    "        ma.masked_array(x[:, 0], y == 0),\n",
    "        'o',\n",
    "        color='gray')\n",
    "\n",
    "lines = {'h': [], 'v': []}\n",
    "nc = 0\n",
    "for i, j, ax in zip(clf.tree_.feature, clf.tree_.threshold, axs.flat):\n",
    "    ax.set_title('node %d' % (nc))\n",
    "    nc += 1\n",
    "    if i == 0:\n",
    "        lines['h'].append(j)\n",
    "    elif i == 1: \n",
    "        lines['v'].append(j)\n",
    "\n",
    "    for l in lines['v']:\n",
    "        ax.vlines(l, -1, 4, lw=3)\n",
    "    for l in lines['h']:\n",
    "        ax.hlines(l, -1, 4, lw=3)"
   ]
  },
  {
   "cell_type": "markdown",
   "metadata": {},
   "source": [
    "<!-- dom:FIGURE: [fig-machine_learning/example_tree_003.png, width=500\n",
    "frac=0.85]  The decision tree divides the training set into regions by splitting\n",
    "successively along each dimension until each region is as pure as possible. <div\n",
    "id=\"fig:example_tree_003\"></div> -->\n",
    "<!-- begin figure -->\n",
    "<div id=\"fig:example_tree_003\"></div>\n",
    "\n",
    "<p>The decision tree divides the training set into regions by splitting\n",
    "successively along each dimension until each region is as pure as possible.</p>\n",
    "<img src=\"fig-machine_learning/example_tree_003.png\" width=500>\n",
    "\n",
    "<!-- end figure -->\n",
    "\n",
    "\n",
    "For this example, the decision tree partitions the $\\mathcal{X}$ space into\n",
    "different regions corresponding to different $\\mathcal{Y}$ labels as shown in\n",
    "[Figure](#fig:example_tree_003). The root node at the top of\n",
    "[Figure](#fig:example_tree_002) splits the input data based on $X[1] \\leq 1.5$.\n",
    "This\n",
    "corresponds to the top left panel in [Figure](#fig:example_tree_003) (i.e.,\n",
    "`node 0`) where the vertical line divides the training data shown into two\n",
    "regions, corresponding to the two subsequent child nodes. The next split\n",
    "happens with $X[1] \\leq 0.5$ as shown in the next panel of\n",
    "[Figure](#fig:example_tree_003) titled `node 1`. This continues until the last\n",
    "panel\n",
    "on the lower right, where the contaminated element we injected has been\n",
    "isolated into its own sub-region. Thus, the last panel is a representation of\n",
    "[Figure](#fig:example_tree_002), where the horizontal/vertical lines\n",
    "correspond to successive splits in the decision tree."
   ]
  },
  {
   "cell_type": "code",
   "execution_count": 41,
   "metadata": {
    "ExecuteTime": {
     "end_time": "2018-11-07T13:03:33.592237Z",
     "start_time": "2018-11-07T13:03:33.401244Z"
    },
    "attributes": {
     "classes": [],
     "id": "",
     "n": "15"
    }
   },
   "outputs": [
    {
     "data": {
      "image/png": "[encoded data removed]",
      "text/plain": [
       "<Figure size 432x288 with 1 Axes>"
      ]
     },
     "metadata": {},
     "output_type": "display_data"
    }
   ],
   "source": [
    "i, j = np.indices((5, 5))\n",
    "x = np.vstack([i.flatten(), j.flatten()]).T\n",
    "y = (x[:, 0] >= x[:, 1]).astype(int).reshape((-1, 1))\n",
    "clf.fit(x, y)\n",
    "fig, ax = plt.subplots()\n",
    "ax.axis((-1, 5, -1, 5))\n",
    "ax.set_aspect(1)\n",
    "ax.invert_yaxis()\n",
    "\n",
    "ax.plot(\n",
    "    ma.masked_array(x[:, 1], y == 1),\n",
    "    ma.masked_array(x[:, 0], y == 1),\n",
    "    'ow',\n",
    "    mec='k',\n",
    "    ms=15)\n",
    "ax.plot(\n",
    "    ma.masked_array(x[:, 1], y == 0),\n",
    "    ma.masked_array(x[:, 0], y == 0),\n",
    "    'o',\n",
    "    color='gray',\n",
    "    ms=15)\n",
    "\n",
    "for i, j in zip(clf.tree_.feature, clf.tree_.threshold):\n",
    "    if i == 1:\n",
    "        ax.hlines(j, -1, 6, lw=3.)\n",
    "    else:\n",
    "        ax.vlines(j, -1, 6, lw=3.)"
   ]
  },
  {
   "cell_type": "markdown",
   "metadata": {},
   "source": [
    "<!-- dom:FIGURE: [fig-machine_learning/example_tree_004.png, width=500\n",
    "frac=0.75]  The decision tree fitted to this triangular matrix is very complex,\n",
    "as shown by the number of horizontal and vertical partitions. Thus, even though\n",
    "the pattern in the training data is visually clear, the decision tree cannot\n",
    "automatically uncover it. <div id=\"fig:example_tree_004\"></div> -->\n",
    "<!-- begin figure -->\n",
    "<div id=\"fig:example_tree_004\"></div>\n",
    "\n",
    "<p>The decision tree fitted to this triangular matrix is very complex, as shown\n",
    "by the number of horizontal and vertical partitions. Thus, even though the\n",
    "pattern in the training data is visually clear, the decision tree cannot\n",
    "automatically uncover it.</p>\n",
    "<img src=\"fig-machine_learning/example_tree_004.png\" width=500>\n",
    "\n",
    "<!-- end figure -->\n",
    "\n",
    "\n",
    "[Figure](#fig:example_tree_004) shows another example, but now using a simple\n",
    "triangular matrix.  As shown by the number of vertical and horizontal\n",
    "partitioning lines, the decision tree that corresponds to this figure is tall\n",
    "and complex. Notice that if we apply a simple rotational transform to the\n",
    "training data, we can obtain [Figure](#fig:example_tree_005), which requires a\n",
    "trivial decision tree to fit. Thus, there may be transformations of the\n",
    "training data that simplify the decision tree, but these are very difficult to\n",
    "derive in general. Nonetheless, this highlights a key weakness of decision\n",
    "trees wherein they may be easy to understand, to train, and to deploy, but may\n",
    "be completely blind to such time-saving and complexity-saving transformations.\n",
    "Indeed, in higher dimensions, it may be impossible to even visualize the\n",
    "potential of such latent transformations.  Thus, the advantages of decision\n",
    "trees can be easily outmatched by other methods that we will study later that\n",
    "*do* have the ability to uncover useful transformations, but which will\n",
    "necessarily be harder to train.  Another disadvantage is that because of how\n",
    "decision trees are built, even a single misplaced data point can cause the tree\n",
    "to grow very differently. This is a symptom of high variance.\n",
    "\n",
    "In all of our examples, the decision tree was able to memorize the training\n",
    "data exactly, as we discussed earlier, this is a sign of potential\n",
    "generalization errors.  There are pruning algorithms that strategically remove\n",
    "some of the deepest nodes. but these are not yet fully implemented in\n",
    "Scikit-learn, as of this writing. Alternatively, restricting the maximum depth\n",
    "of the decision tree can have a similar effect. The `DecisionTreeClassifier`\n",
    "and `DecisionTreeRegressor` in Scikit-learn both have keyword arguments that\n",
    "specify maximum depth.\n",
    "\n",
    "## Random Forests\n",
    "\n",
    "It is possible to combine a set of decision trees into a larger\n",
    "composite tree that has better performance than its individual\n",
    "components by using ensemble learning. This is implemented in\n",
    "Scikit-learn as `RandomForestClassifier`.  The composite tree helps\n",
    "mitigate the primary weakness of decision trees --- high variance.\n",
    "Random forest classifiers help by averaging out the predictions of\n",
    "many constituent trees to minimize this variance by randomly selecting\n",
    "subsets of the training set to train the  embedded trees.   On the\n",
    "other hand, this randomization can increase bias because there may be\n",
    "a subset of the training set that yields an excellent decision tree,\n",
    "but the averaging effect over randomized training samples washes this\n",
    "out in the same averaging that reduces the variance. This is a key\n",
    "trade-off.  The following code implements a simple random forest\n",
    "classifer from our last example."
   ]
  },
  {
   "cell_type": "code",
   "execution_count": 17,
   "metadata": {
    "attributes": {
     "classes": [],
     "id": "",
     "n": "16"
    }
   },
   "outputs": [
    {
     "data": {
      "image/png": "[encoded data removed]",
      "text/plain": [
       "<matplotlib.figure.Figure at 0x7ff7c67ba810>"
      ]
     },
     "metadata": {},
     "output_type": "display_data"
    }
   ],
   "source": [
    "from numpy import sin, cos, pi\n",
    "rotation_matrix=np.matrix([[cos(pi/4),-sin(pi/4)],\n",
    "                           [sin(pi/4),cos(pi/4)]])\n",
    "xr=(rotation_matrix*(x.T)).T\n",
    "xr=np.array(xr)\n",
    "\n",
    "fig,ax=subplots()\n",
    "ax.set_aspect(1)\n",
    "_=ax.axis(xmin=-2,xmax=7,ymin=-4,ymax=4)\n",
    "\n",
    "_=ax.plot(ma.masked_array(xr[:,1],y==1),ma.masked_array(xr[:,0],y==1),'ow',mec='k',ms=15)\n",
    "_=ax.plot(ma.masked_array(xr[:,1],y==0),ma.masked_array(xr[:,0],y==0),'o',color='gray',ms=15)\n",
    "\n",
    "_=clf.fit(xr,y)\n",
    "\n",
    "for i,j in zip(clf.tree_.feature,clf.tree_.threshold):\n",
    "    if i==1:\n",
    "        _=ax.vlines(j,-1,6,lw=3.)\n",
    "    elif i==0:\n",
    "        _=ax.hlines(j,-1,6,lw=3.)\n"
   ]
  },
  {
   "cell_type": "markdown",
   "metadata": {},
   "source": [
    "<!-- dom:FIGURE: [fig-machine_learning/example_tree_005.png, width=500\n",
    "frac=0.75] Using a simple rotation on the training data in\n",
    "[Figure](#fig:example_tree_004), the decision tree can now easily fit the\n",
    "training data with a single partition. <div id=\"fig:example_tree_005\"></div> -->\n",
    "<!-- begin figure -->\n",
    "<div id=\"fig:example_tree_005\"></div>\n",
    "\n",
    "<p>Using a simple rotation on the training data in\n",
    "[Figure](#fig:example_tree_004), the decision tree can now easily fit the\n",
    "training data with a single partition.</p>\n",
    "<img src=\"fig-machine_learning/example_tree_005.png\" width=500>\n",
    "\n",
    "<!-- end figure -->"
   ]
  },
  {
   "cell_type": "code",
   "execution_count": 55,
   "metadata": {
    "ExecuteTime": {
     "end_time": "2018-11-07T14:44:19.502398Z",
     "start_time": "2018-11-07T14:44:19.480582Z"
    },
    "attributes": {
     "classes": [],
     "id": "",
     "n": "17"
    }
   },
   "outputs": [
    {
     "data": {
      "text/plain": [
       "RandomForestClassifier(bootstrap=True, class_weight=None, criterion='gini',\n",
       "            max_depth=2, max_features='auto', max_leaf_nodes=None,\n",
       "            min_impurity_decrease=0.0, min_impurity_split=None,\n",
       "            min_samples_leaf=1, min_samples_split=2,\n",
       "            min_weight_fraction_leaf=0.0, n_estimators=4, n_jobs=1,\n",
       "            oob_score=False, random_state=None, verbose=0,\n",
       "            warm_start=False)"
      ]
     },
     "execution_count": 55,
     "metadata": {},
     "output_type": "execute_result"
    }
   ],
   "source": [
    "from sklearn.ensemble import RandomForestClassifier\n",
    "from sklearn.cross_validation import train_test_split, cross_val_score\n",
    "\n",
    "X_train, X_test, y_train, y_test = train_test_split(x, y, random_state=1)\n",
    "clf = tree.DecisionTreeClassifier(max_depth=2)\n",
    "clf.fit(X_train, y_train)\n",
    "\n",
    "rfc = RandomForestClassifier(n_estimators=4, max_depth=2)\n",
    "rfc.fit(X_train, y_train.flat)"
   ]
  },
  {
   "cell_type": "code",
   "execution_count": 53,
   "metadata": {
    "ExecuteTime": {
     "end_time": "2018-11-07T13:11:50.225763Z",
     "start_time": "2018-11-07T13:11:50.215420Z"
    }
   },
   "outputs": [
    {
     "data": {
      "text/plain": [
       "(0.8571428571428571, 0.7142857142857143)"
      ]
     },
     "execution_count": 53,
     "metadata": {},
     "output_type": "execute_result"
    }
   ],
   "source": [
    "clf.score(X_test,y_test),rfc.score(X_test,y_test)"
   ]
  },
  {
   "cell_type": "code",
   "execution_count": 66,
   "metadata": {
    "ExecuteTime": {
     "end_time": "2018-11-07T14:47:10.694195Z",
     "start_time": "2018-11-07T14:47:10.624010Z"
    }
   },
   "outputs": [
    {
     "data": {
      "image/svg+xml": [
       "<?xml version=\"1.0\" encoding=\"UTF-8\" standalone=\"no\"?>\n",
       "<!DOCTYPE svg PUBLIC \"-//W3C//DTD SVG 1.1//EN\"\n",
       " \"http://www.w3.org/Graphics/SVG/1.1/DTD/svg11.dtd\">\n",
       "<!-- Generated by graphviz version 2.38.0 (20140413.2041)\n",
       " -->\n",
       "<!-- Title: Tree Pages: 1 -->\n",
       "<svg width=\"431pt\" height=\"269pt\"\n",
       " viewBox=\"0.00 0.00 431.00 269.00\" xmlns=\"http://www.w3.org/2000/svg\" xmlns:xlink=\"http://www.w3.org/1999/xlink\">\n",
       "<g id=\"graph0\" class=\"graph\" transform=\"scale(1 1) rotate(0) translate(4 265)\">\n",
       "<title>Tree</title>\n",
       "<polygon fill=\"white\" stroke=\"none\" points=\"-4,4 -4,-265 427,-265 427,4 -4,4\"/>\n",
       "<!-- 0 -->\n",
       "<g id=\"node1\" class=\"node\"><title>0</title>\n",
       "<polygon fill=\"none\" stroke=\"black\" points=\"260,-261 162,-261 162,-193 260,-193 260,-261\"/>\n",
       "<text text-anchor=\"middle\" x=\"211\" y=\"-245.8\" font-family=\"Times,serif\" font-size=\"14.00\">x1 &lt;= 1.5</text>\n",
       "<text text-anchor=\"middle\" x=\"211\" y=\"-230.8\" font-family=\"Times,serif\" font-size=\"14.00\">gini = 0.401</text>\n",
       "<text text-anchor=\"middle\" x=\"211\" y=\"-215.8\" font-family=\"Times,serif\" font-size=\"14.00\">samples = 14</text>\n",
       "<text text-anchor=\"middle\" x=\"211\" y=\"-200.8\" font-family=\"Times,serif\" font-size=\"14.00\">value = [5, 13]</text>\n",
       "</g>\n",
       "<!-- 1 -->\n",
       "<g id=\"node2\" class=\"node\"><title>1</title>\n",
       "<polygon fill=\"none\" stroke=\"black\" points=\"201,-157 109,-157 109,-89 201,-89 201,-157\"/>\n",
       "<text text-anchor=\"middle\" x=\"155\" y=\"-141.8\" font-family=\"Times,serif\" font-size=\"14.00\">x2 &lt;= 1.5</text>\n",
       "<text text-anchor=\"middle\" x=\"155\" y=\"-126.8\" font-family=\"Times,serif\" font-size=\"14.00\">gini = 0.49</text>\n",
       "<text text-anchor=\"middle\" x=\"155\" y=\"-111.8\" font-family=\"Times,serif\" font-size=\"14.00\">samples = 7</text>\n",
       "<text text-anchor=\"middle\" x=\"155\" y=\"-96.8\" font-family=\"Times,serif\" font-size=\"14.00\">value = [4, 3]</text>\n",
       "</g>\n",
       "<!-- 0&#45;&gt;1 -->\n",
       "<g id=\"edge1\" class=\"edge\"><title>0&#45;&gt;1</title>\n",
       "<path fill=\"none\" stroke=\"black\" d=\"M192.818,-192.884C188.124,-184.332 183.007,-175.013 178.098,-166.072\"/>\n",
       "<polygon fill=\"black\" stroke=\"black\" points=\"181.163,-164.381 173.282,-157.299 175.027,-167.75 181.163,-164.381\"/>\n",
       "<text text-anchor=\"middle\" x=\"166.294\" y=\"-177.603\" font-family=\"Times,serif\" font-size=\"14.00\">True</text>\n",
       "</g>\n",
       "<!-- 4 -->\n",
       "<g id=\"node5\" class=\"node\"><title>4</title>\n",
       "<polygon fill=\"none\" stroke=\"black\" points=\"317,-157 219,-157 219,-89 317,-89 317,-157\"/>\n",
       "<text text-anchor=\"middle\" x=\"268\" y=\"-141.8\" font-family=\"Times,serif\" font-size=\"14.00\">x1 &lt;= 3.5</text>\n",
       "<text text-anchor=\"middle\" x=\"268\" y=\"-126.8\" font-family=\"Times,serif\" font-size=\"14.00\">gini = 0.165</text>\n",
       "<text text-anchor=\"middle\" x=\"268\" y=\"-111.8\" font-family=\"Times,serif\" font-size=\"14.00\">samples = 7</text>\n",
       "<text text-anchor=\"middle\" x=\"268\" y=\"-96.8\" font-family=\"Times,serif\" font-size=\"14.00\">value = [1, 10]</text>\n",
       "</g>\n",
       "<!-- 0&#45;&gt;4 -->\n",
       "<g id=\"edge4\" class=\"edge\"><title>0&#45;&gt;4</title>\n",
       "<path fill=\"none\" stroke=\"black\" d=\"M229.506,-192.884C234.285,-184.332 239.493,-175.013 244.489,-166.072\"/>\n",
       "<polygon fill=\"black\" stroke=\"black\" points=\"247.569,-167.736 249.392,-157.299 241.458,-164.321 247.569,-167.736\"/>\n",
       "<text text-anchor=\"middle\" x=\"256.2\" y=\"-177.655\" font-family=\"Times,serif\" font-size=\"14.00\">False</text>\n",
       "</g>\n",
       "<!-- 2 -->\n",
       "<g id=\"node3\" class=\"node\"><title>2</title>\n",
       "<polygon fill=\"none\" stroke=\"black\" points=\"92,-53 0,-53 0,-0 92,-0 92,-53\"/>\n",
       "<text text-anchor=\"middle\" x=\"46\" y=\"-37.8\" font-family=\"Times,serif\" font-size=\"14.00\">gini = 0.375</text>\n",
       "<text text-anchor=\"middle\" x=\"46\" y=\"-22.8\" font-family=\"Times,serif\" font-size=\"14.00\">samples = 4</text>\n",
       "<text text-anchor=\"middle\" x=\"46\" y=\"-7.8\" font-family=\"Times,serif\" font-size=\"14.00\">value = [1, 3]</text>\n",
       "</g>\n",
       "<!-- 1&#45;&gt;2 -->\n",
       "<g id=\"edge2\" class=\"edge\"><title>1&#45;&gt;2</title>\n",
       "<path fill=\"none\" stroke=\"black\" d=\"M116.877,-88.9485C106.009,-79.526 94.1828,-69.2731 83.3605,-59.8906\"/>\n",
       "<polygon fill=\"black\" stroke=\"black\" points=\"85.5342,-57.1428 75.6857,-53.2367 80.9488,-62.4319 85.5342,-57.1428\"/>\n",
       "</g>\n",
       "<!-- 3 -->\n",
       "<g id=\"node4\" class=\"node\"><title>3</title>\n",
       "<polygon fill=\"none\" stroke=\"black\" points=\"202,-53 110,-53 110,-0 202,-0 202,-53\"/>\n",
       "<text text-anchor=\"middle\" x=\"156\" y=\"-37.8\" font-family=\"Times,serif\" font-size=\"14.00\">gini = 0.0</text>\n",
       "<text text-anchor=\"middle\" x=\"156\" y=\"-22.8\" font-family=\"Times,serif\" font-size=\"14.00\">samples = 3</text>\n",
       "<text text-anchor=\"middle\" x=\"156\" y=\"-7.8\" font-family=\"Times,serif\" font-size=\"14.00\">value = [3, 0]</text>\n",
       "</g>\n",
       "<!-- 1&#45;&gt;3 -->\n",
       "<g id=\"edge3\" class=\"edge\"><title>1&#45;&gt;3</title>\n",
       "<path fill=\"none\" stroke=\"black\" d=\"M155.35,-88.9485C155.437,-80.7153 155.531,-71.848 155.619,-63.4814\"/>\n",
       "<polygon fill=\"black\" stroke=\"black\" points=\"159.122,-63.2732 155.728,-53.2367 152.122,-63.1991 159.122,-63.2732\"/>\n",
       "</g>\n",
       "<!-- 5 -->\n",
       "<g id=\"node6\" class=\"node\"><title>5</title>\n",
       "<polygon fill=\"none\" stroke=\"black\" points=\"313,-53 221,-53 221,-0 313,-0 313,-53\"/>\n",
       "<text text-anchor=\"middle\" x=\"267\" y=\"-37.8\" font-family=\"Times,serif\" font-size=\"14.00\">gini = 0.278</text>\n",
       "<text text-anchor=\"middle\" x=\"267\" y=\"-22.8\" font-family=\"Times,serif\" font-size=\"14.00\">samples = 4</text>\n",
       "<text text-anchor=\"middle\" x=\"267\" y=\"-7.8\" font-family=\"Times,serif\" font-size=\"14.00\">value = [1, 5]</text>\n",
       "</g>\n",
       "<!-- 4&#45;&gt;5 -->\n",
       "<g id=\"edge5\" class=\"edge\"><title>4&#45;&gt;5</title>\n",
       "<path fill=\"none\" stroke=\"black\" d=\"M267.65,-88.9485C267.563,-80.7153 267.469,-71.848 267.381,-63.4814\"/>\n",
       "<polygon fill=\"black\" stroke=\"black\" points=\"270.878,-63.1991 267.272,-53.2367 263.878,-63.2732 270.878,-63.1991\"/>\n",
       "</g>\n",
       "<!-- 6 -->\n",
       "<g id=\"node7\" class=\"node\"><title>6</title>\n",
       "<polygon fill=\"none\" stroke=\"black\" points=\"423,-53 331,-53 331,-0 423,-0 423,-53\"/>\n",
       "<text text-anchor=\"middle\" x=\"377\" y=\"-37.8\" font-family=\"Times,serif\" font-size=\"14.00\">gini = 0.0</text>\n",
       "<text text-anchor=\"middle\" x=\"377\" y=\"-22.8\" font-family=\"Times,serif\" font-size=\"14.00\">samples = 3</text>\n",
       "<text text-anchor=\"middle\" x=\"377\" y=\"-7.8\" font-family=\"Times,serif\" font-size=\"14.00\">value = [0, 5]</text>\n",
       "</g>\n",
       "<!-- 4&#45;&gt;6 -->\n",
       "<g id=\"edge6\" class=\"edge\"><title>4&#45;&gt;6</title>\n",
       "<path fill=\"none\" stroke=\"black\" d=\"M306.123,-88.9485C316.991,-79.526 328.817,-69.2731 339.639,-59.8906\"/>\n",
       "<polygon fill=\"black\" stroke=\"black\" points=\"342.051,-62.4319 347.314,-53.2367 337.466,-57.1428 342.051,-62.4319\"/>\n",
       "</g>\n",
       "</g>\n",
       "</svg>\n"
      ],
      "text/plain": [
       "<graphviz.files.Source at 0x7f91a785a3c8>"
      ]
     },
     "execution_count": 66,
     "metadata": {},
     "output_type": "execute_result"
    }
   ],
   "source": [
    "Source(tree.export_graphviz(rfc.estimators_[3], out_file=None, feature_names=['x1','x2']))"
   ]
  },
  {
   "cell_type": "code",
   "execution_count": 19,
   "metadata": {
    "attributes": {
     "classes": [],
     "id": "",
     "n": "18"
    }
   },
   "outputs": [
    {
     "data": {
      "text/plain": [
       "RandomForestClassifier(bootstrap=True, class_weight=None, criterion='gini',\n",
       "            max_depth=2, max_features='auto', max_leaf_nodes=None,\n",
       "            min_impurity_decrease=0.0, min_impurity_split=None,\n",
       "            min_samples_leaf=1, min_samples_split=2,\n",
       "            min_weight_fraction_leaf=0.0, n_estimators=4, n_jobs=1,\n",
       "            oob_score=False, random_state=None, verbose=0,\n",
       "            warm_start=False)"
      ]
     },
     "execution_count": 19,
     "metadata": {},
     "output_type": "execute_result"
    }
   ],
   "source": [
    "from sklearn.ensemble import RandomForestClassifier\n",
    "rfc = RandomForestClassifier(n_estimators=4,max_depth=2)\n",
    "rfc.fit(X_train,y_train.flat)"
   ]
  },
  {
   "cell_type": "code",
   "execution_count": 43,
   "metadata": {
    "ExecuteTime": {
     "end_time": "2018-11-07T13:05:23.918064Z",
     "start_time": "2018-11-07T13:05:23.908421Z"
    },
    "attributes": {
     "classes": [],
     "id": "",
     "n": "19"
    }
   },
   "outputs": [],
   "source": [
    "def draw_board(x,y,clf,ax=None):\n",
    "    if ax is None: fig,ax=subplots()\n",
    "    xm,ymn=x.min(0).T\n",
    "    ax.axis(xmin=xm-1,ymin=ymn-1)\n",
    "    xx,ymx=x.max(0).T\n",
    "    ax.axis(xmax=xx+1,ymax=ymx+1)\n",
    "    ax.set_aspect(1)\n",
    "    ax.invert_yaxis()\n",
    "    ax.plot(ma.masked_array(x[:,1],y==1),ma.masked_array(x[:,0],y==1),'ow',mec='k')\n",
    "    ax.plot(ma.masked_array(x[:,1],y==0),ma.masked_array(x[:,0],y==0),'o',color='gray')\n",
    "    for i,j in zip(clf.tree_.feature,clf.tree_.threshold):\n",
    "        if i==1:\n",
    "            ax.vlines(j,-1,6,lw=3.)\n",
    "        elif i==0:\n",
    "            ax.hlines(j,-1,6,lw=3.)\n",
    "    return ax"
   ]
  },
  {
   "cell_type": "code",
   "execution_count": 45,
   "metadata": {
    "ExecuteTime": {
     "end_time": "2018-11-07T13:05:43.204956Z",
     "start_time": "2018-11-07T13:05:42.815478Z"
    },
    "attributes": {
     "classes": [],
     "id": "",
     "n": "20"
    }
   },
   "outputs": [
    {
     "data": {
      "image/png": "[encoded data removed]",
      "text/plain": [
       "<Figure size 576x576 with 4 Axes>"
      ]
     },
     "metadata": {},
     "output_type": "display_data"
    }
   ],
   "source": [
    "fig,axs = plt.subplots(2,2,figsize=(8,8))\n",
    "# draw constituent decision trees\n",
    "for est,ax in zip(rfc.estimators_,axs.flat):\n",
    "    draw_board(X_train,y_train,est,ax=ax)\n"
   ]
  },
  {
   "cell_type": "markdown",
   "metadata": {},
   "source": [
    "Note that we have constrained the maximum depth `max_depth=2` to help\n",
    "with generalization. To keep things simple we have only set up a forest with\n",
    "four individual classifers [^seedNote].  [Figure](#fig:example_tree_006) shows\n",
    "the individual classifers in the forest that have been trained above. Even\n",
    "though all the constituent decision trees share the same training data, the\n",
    "random forest  algorithm randomly picks feature subsets (with replacement) upon\n",
    "which to train individual trees. This helps avoid the tendency of decision\n",
    "trees to become too deep and lopsided, which hurts both performance and\n",
    "generalization. At the prediction step, the individual outputs of each of the\n",
    "constituent decision trees are put to a majority vote for the final\n",
    "classification. To estimate generalization errors without using\n",
    "cross-validation, the training elements *not* used for a particular constituent\n",
    "tree can be used to test that tree and form a collaborative estimate of\n",
    "generalization errors.  This is called the *out-of-bag* estimate.\n",
    "\n",
    "[^seedNote]: We have also set the random seed to a fixed value\n",
    "to make the figures reproducible in the IPython Notebook corresponding to\n",
    "this section.\n",
    "\n",
    "<!-- dom:FIGURE: [fig-machine_learning/example_tree_006.png, width=500\n",
    "frac=0.85] The constituent decision trees of the random forest and how they\n",
    "partitioned the training set are shown in these four panels. The random forest\n",
    "classifier uses the individual outputs of each of the constituent trees to\n",
    "produce a collaborative  final estimate. <div id=\"fig:example_tree_006\"></div>\n",
    "-->\n",
    "<!-- begin figure -->\n",
    "<div id=\"fig:example_tree_006\"></div>\n",
    "\n",
    "<p>The constituent decision trees of the random forest and how they partitioned\n",
    "the training set are shown in these four panels. The random forest classifier\n",
    "uses the individual outputs of each of the constituent trees to produce a\n",
    "collaborative  final estimate.</p>\n",
    "<img src=\"fig-machine_learning/example_tree_006.png\" width=500>\n",
    "\n",
    "<!-- end figure -->\n",
    "\n",
    "\n",
    "The main advantage of random forest classifiers is that they require very\n",
    "little tuning and provide a way to trade-off bias and variance via averaging\n",
    "and randomization. Furthermore, they are fast and easy to train in parallel\n",
    "(see the `n_jobs` keyword argument) and fast to predict. On the downside, they\n",
    "are less interpretable than simple decision trees.  There are many other\n",
    "powerful tree methods in Scikit-learn like `ExtraTrees` and Gradient Boosted\n",
    "Regression Trees `GradientBoostingRegressor` which are discussed in the online\n",
    "documentation."
   ]
  }
 ],
 "metadata": {
  "kernelspec": {
   "display_name": "Python 3",
   "language": "python",
   "name": "python3"
  },
  "language_info": {
   "codemirror_mode": {
    "name": "ipython",
    "version": 3
   },
   "file_extension": ".py",
   "mimetype": "text/x-python",
   "name": "python",
   "nbconvert_exporter": "python",
   "pygments_lexer": "ipython3",
   "version": "3.6.6"
  }
 },
 "nbformat": 4,
 "nbformat_minor": 2
}
